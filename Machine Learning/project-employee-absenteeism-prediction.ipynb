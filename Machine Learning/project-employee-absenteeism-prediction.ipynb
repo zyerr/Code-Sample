{
  "nbformat": 4,
  "nbformat_minor": 0,
  "metadata": {
    "colab": {
      "name": "MSSP 608 Final_Yue.ipynb",
      "provenance": [],
      "collapsed_sections": [],
      "toc_visible": true
    },
    "kernelspec": {
      "name": "python3",
      "display_name": "Python 3"
    },
    "language_info": {
      "name": "python"
    }
  },
  "cells": [
    {
      "cell_type": "markdown",
      "source": [
        "# Final Project"
      ],
      "metadata": {
        "id": "7ByWIjJBTXOU"
      }
    },
    {
      "cell_type": "markdown",
      "source": [
        "#### Yue Zhang \n",
        "Pennkey: zhyue   \n",
        "Penn ID: 67380955"
      ],
      "metadata": {
        "id": "Apesphg8UdLD"
      }
    },
    {
      "cell_type": "markdown",
      "source": [
        "## Phase I: Data Preprocessing"
      ],
      "metadata": {
        "id": "73kLgAQx5L0_"
      }
    },
    {
      "cell_type": "code",
      "execution_count": 1,
      "metadata": {
        "id": "EC1A7x5E2i_j"
      },
      "outputs": [],
      "source": [
        "%matplotlib inline\n",
        "import matplotlib.pyplot as plt\n",
        "import numpy as np\n",
        "import pandas as pd\n",
        "import seaborn as sns\n",
        "import altair as alt"
      ]
    },
    {
      "cell_type": "code",
      "source": [
        "! pip install --upgrade xlrd"
      ],
      "metadata": {
        "id": "MEHC16sa6f5y",
        "colab": {
          "base_uri": "https://localhost:8080/"
        },
        "outputId": "0ed4776b-55cf-4262-b943-d7e3e808db44"
      },
      "execution_count": 2,
      "outputs": [
        {
          "output_type": "stream",
          "name": "stdout",
          "text": [
            "Requirement already satisfied: xlrd in /usr/local/lib/python3.7/dist-packages (2.0.1)\n"
          ]
        }
      ]
    },
    {
      "cell_type": "code",
      "source": [
        "Absence_df = pd.read_excel(\"/content/Absenteeism_at_work.xls\", engine=\"xlrd\")"
      ],
      "metadata": {
        "id": "Ry9IrNi16I6P"
      },
      "execution_count": 3,
      "outputs": []
    },
    {
      "cell_type": "code",
      "source": [
        "Absence_df.info()"
      ],
      "metadata": {
        "colab": {
          "base_uri": "https://localhost:8080/"
        },
        "id": "yH4BEso0612u",
        "outputId": "52f9bb3d-1cd5-4816-e356-6375d062cada"
      },
      "execution_count": 4,
      "outputs": [
        {
          "output_type": "stream",
          "name": "stdout",
          "text": [
            "<class 'pandas.core.frame.DataFrame'>\n",
            "RangeIndex: 740 entries, 0 to 739\n",
            "Data columns (total 21 columns):\n",
            " #   Column                           Non-Null Count  Dtype\n",
            "---  ------                           --------------  -----\n",
            " 0   ID                               740 non-null    int64\n",
            " 1   Reason for absence               740 non-null    int64\n",
            " 2   Month of absence                 740 non-null    int64\n",
            " 3   Day of the week                  740 non-null    int64\n",
            " 4   Seasons                          740 non-null    int64\n",
            " 5   Transportation expense           740 non-null    int64\n",
            " 6   Distance from Residence to Work  740 non-null    int64\n",
            " 7   Service time                     740 non-null    int64\n",
            " 8   Age                              740 non-null    int64\n",
            " 9   Work load Average/day            740 non-null    int64\n",
            " 10  Hit target                       740 non-null    int64\n",
            " 11  Disciplinary failure             740 non-null    int64\n",
            " 12  Education                        740 non-null    int64\n",
            " 13  Son                              740 non-null    int64\n",
            " 14  Social drinker                   740 non-null    int64\n",
            " 15  Social smoker                    740 non-null    int64\n",
            " 16  Pet                              740 non-null    int64\n",
            " 17  Weight                           740 non-null    int64\n",
            " 18  Height                           740 non-null    int64\n",
            " 19  Body mass index                  740 non-null    int64\n",
            " 20  Absenteeism time in hours        740 non-null    int64\n",
            "dtypes: int64(21)\n",
            "memory usage: 121.5 KB\n"
          ]
        }
      ]
    },
    {
      "cell_type": "code",
      "source": [
        "Absence_df.head(n=5)"
      ],
      "metadata": {
        "colab": {
          "base_uri": "https://localhost:8080/",
          "height": 351
        },
        "id": "px3K760a6wpN",
        "outputId": "3ff800ef-3159-4234-9e6c-ec552f7f5445"
      },
      "execution_count": 5,
      "outputs": [
        {
          "output_type": "execute_result",
          "data": {
            "text/plain": [
              "   ID  Reason for absence  Month of absence  Day of the week  Seasons  \\\n",
              "0  11                  26                 7                3        1   \n",
              "1  36                   0                 7                3        1   \n",
              "2   3                  23                 7                4        1   \n",
              "3   7                   7                 7                5        1   \n",
              "4  11                  23                 7                5        1   \n",
              "\n",
              "   Transportation expense  Distance from Residence to Work  Service time  Age  \\\n",
              "0                     289                               36            13   33   \n",
              "1                     118                               13            18   50   \n",
              "2                     179                               51            18   38   \n",
              "3                     279                                5            14   39   \n",
              "4                     289                               36            13   33   \n",
              "\n",
              "   Work load Average/day   ...  Disciplinary failure  Education  Son  \\\n",
              "0                  239554  ...                     0          1    2   \n",
              "1                  239554  ...                     1          1    1   \n",
              "2                  239554  ...                     0          1    0   \n",
              "3                  239554  ...                     0          1    2   \n",
              "4                  239554  ...                     0          1    2   \n",
              "\n",
              "   Social drinker  Social smoker  Pet  Weight  Height  Body mass index  \\\n",
              "0               1              0    1      90     172               30   \n",
              "1               1              0    0      98     178               31   \n",
              "2               1              0    0      89     170               31   \n",
              "3               1              1    0      68     168               24   \n",
              "4               1              0    1      90     172               30   \n",
              "\n",
              "   Absenteeism time in hours  \n",
              "0                          4  \n",
              "1                          0  \n",
              "2                          2  \n",
              "3                          4  \n",
              "4                          2  \n",
              "\n",
              "[5 rows x 21 columns]"
            ],
            "text/html": [
              "\n",
              "  <div id=\"df-6f368c48-0eb9-40c6-8859-a0c86af13c36\">\n",
              "    <div class=\"colab-df-container\">\n",
              "      <div>\n",
              "<style scoped>\n",
              "    .dataframe tbody tr th:only-of-type {\n",
              "        vertical-align: middle;\n",
              "    }\n",
              "\n",
              "    .dataframe tbody tr th {\n",
              "        vertical-align: top;\n",
              "    }\n",
              "\n",
              "    .dataframe thead th {\n",
              "        text-align: right;\n",
              "    }\n",
              "</style>\n",
              "<table border=\"1\" class=\"dataframe\">\n",
              "  <thead>\n",
              "    <tr style=\"text-align: right;\">\n",
              "      <th></th>\n",
              "      <th>ID</th>\n",
              "      <th>Reason for absence</th>\n",
              "      <th>Month of absence</th>\n",
              "      <th>Day of the week</th>\n",
              "      <th>Seasons</th>\n",
              "      <th>Transportation expense</th>\n",
              "      <th>Distance from Residence to Work</th>\n",
              "      <th>Service time</th>\n",
              "      <th>Age</th>\n",
              "      <th>Work load Average/day</th>\n",
              "      <th>...</th>\n",
              "      <th>Disciplinary failure</th>\n",
              "      <th>Education</th>\n",
              "      <th>Son</th>\n",
              "      <th>Social drinker</th>\n",
              "      <th>Social smoker</th>\n",
              "      <th>Pet</th>\n",
              "      <th>Weight</th>\n",
              "      <th>Height</th>\n",
              "      <th>Body mass index</th>\n",
              "      <th>Absenteeism time in hours</th>\n",
              "    </tr>\n",
              "  </thead>\n",
              "  <tbody>\n",
              "    <tr>\n",
              "      <th>0</th>\n",
              "      <td>11</td>\n",
              "      <td>26</td>\n",
              "      <td>7</td>\n",
              "      <td>3</td>\n",
              "      <td>1</td>\n",
              "      <td>289</td>\n",
              "      <td>36</td>\n",
              "      <td>13</td>\n",
              "      <td>33</td>\n",
              "      <td>239554</td>\n",
              "      <td>...</td>\n",
              "      <td>0</td>\n",
              "      <td>1</td>\n",
              "      <td>2</td>\n",
              "      <td>1</td>\n",
              "      <td>0</td>\n",
              "      <td>1</td>\n",
              "      <td>90</td>\n",
              "      <td>172</td>\n",
              "      <td>30</td>\n",
              "      <td>4</td>\n",
              "    </tr>\n",
              "    <tr>\n",
              "      <th>1</th>\n",
              "      <td>36</td>\n",
              "      <td>0</td>\n",
              "      <td>7</td>\n",
              "      <td>3</td>\n",
              "      <td>1</td>\n",
              "      <td>118</td>\n",
              "      <td>13</td>\n",
              "      <td>18</td>\n",
              "      <td>50</td>\n",
              "      <td>239554</td>\n",
              "      <td>...</td>\n",
              "      <td>1</td>\n",
              "      <td>1</td>\n",
              "      <td>1</td>\n",
              "      <td>1</td>\n",
              "      <td>0</td>\n",
              "      <td>0</td>\n",
              "      <td>98</td>\n",
              "      <td>178</td>\n",
              "      <td>31</td>\n",
              "      <td>0</td>\n",
              "    </tr>\n",
              "    <tr>\n",
              "      <th>2</th>\n",
              "      <td>3</td>\n",
              "      <td>23</td>\n",
              "      <td>7</td>\n",
              "      <td>4</td>\n",
              "      <td>1</td>\n",
              "      <td>179</td>\n",
              "      <td>51</td>\n",
              "      <td>18</td>\n",
              "      <td>38</td>\n",
              "      <td>239554</td>\n",
              "      <td>...</td>\n",
              "      <td>0</td>\n",
              "      <td>1</td>\n",
              "      <td>0</td>\n",
              "      <td>1</td>\n",
              "      <td>0</td>\n",
              "      <td>0</td>\n",
              "      <td>89</td>\n",
              "      <td>170</td>\n",
              "      <td>31</td>\n",
              "      <td>2</td>\n",
              "    </tr>\n",
              "    <tr>\n",
              "      <th>3</th>\n",
              "      <td>7</td>\n",
              "      <td>7</td>\n",
              "      <td>7</td>\n",
              "      <td>5</td>\n",
              "      <td>1</td>\n",
              "      <td>279</td>\n",
              "      <td>5</td>\n",
              "      <td>14</td>\n",
              "      <td>39</td>\n",
              "      <td>239554</td>\n",
              "      <td>...</td>\n",
              "      <td>0</td>\n",
              "      <td>1</td>\n",
              "      <td>2</td>\n",
              "      <td>1</td>\n",
              "      <td>1</td>\n",
              "      <td>0</td>\n",
              "      <td>68</td>\n",
              "      <td>168</td>\n",
              "      <td>24</td>\n",
              "      <td>4</td>\n",
              "    </tr>\n",
              "    <tr>\n",
              "      <th>4</th>\n",
              "      <td>11</td>\n",
              "      <td>23</td>\n",
              "      <td>7</td>\n",
              "      <td>5</td>\n",
              "      <td>1</td>\n",
              "      <td>289</td>\n",
              "      <td>36</td>\n",
              "      <td>13</td>\n",
              "      <td>33</td>\n",
              "      <td>239554</td>\n",
              "      <td>...</td>\n",
              "      <td>0</td>\n",
              "      <td>1</td>\n",
              "      <td>2</td>\n",
              "      <td>1</td>\n",
              "      <td>0</td>\n",
              "      <td>1</td>\n",
              "      <td>90</td>\n",
              "      <td>172</td>\n",
              "      <td>30</td>\n",
              "      <td>2</td>\n",
              "    </tr>\n",
              "  </tbody>\n",
              "</table>\n",
              "<p>5 rows × 21 columns</p>\n",
              "</div>\n",
              "      <button class=\"colab-df-convert\" onclick=\"convertToInteractive('df-6f368c48-0eb9-40c6-8859-a0c86af13c36')\"\n",
              "              title=\"Convert this dataframe to an interactive table.\"\n",
              "              style=\"display:none;\">\n",
              "        \n",
              "  <svg xmlns=\"http://www.w3.org/2000/svg\" height=\"24px\"viewBox=\"0 0 24 24\"\n",
              "       width=\"24px\">\n",
              "    <path d=\"M0 0h24v24H0V0z\" fill=\"none\"/>\n",
              "    <path d=\"M18.56 5.44l.94 2.06.94-2.06 2.06-.94-2.06-.94-.94-2.06-.94 2.06-2.06.94zm-11 1L8.5 8.5l.94-2.06 2.06-.94-2.06-.94L8.5 2.5l-.94 2.06-2.06.94zm10 10l.94 2.06.94-2.06 2.06-.94-2.06-.94-.94-2.06-.94 2.06-2.06.94z\"/><path d=\"M17.41 7.96l-1.37-1.37c-.4-.4-.92-.59-1.43-.59-.52 0-1.04.2-1.43.59L10.3 9.45l-7.72 7.72c-.78.78-.78 2.05 0 2.83L4 21.41c.39.39.9.59 1.41.59.51 0 1.02-.2 1.41-.59l7.78-7.78 2.81-2.81c.8-.78.8-2.07 0-2.86zM5.41 20L4 18.59l7.72-7.72 1.47 1.35L5.41 20z\"/>\n",
              "  </svg>\n",
              "      </button>\n",
              "      \n",
              "  <style>\n",
              "    .colab-df-container {\n",
              "      display:flex;\n",
              "      flex-wrap:wrap;\n",
              "      gap: 12px;\n",
              "    }\n",
              "\n",
              "    .colab-df-convert {\n",
              "      background-color: #E8F0FE;\n",
              "      border: none;\n",
              "      border-radius: 50%;\n",
              "      cursor: pointer;\n",
              "      display: none;\n",
              "      fill: #1967D2;\n",
              "      height: 32px;\n",
              "      padding: 0 0 0 0;\n",
              "      width: 32px;\n",
              "    }\n",
              "\n",
              "    .colab-df-convert:hover {\n",
              "      background-color: #E2EBFA;\n",
              "      box-shadow: 0px 1px 2px rgba(60, 64, 67, 0.3), 0px 1px 3px 1px rgba(60, 64, 67, 0.15);\n",
              "      fill: #174EA6;\n",
              "    }\n",
              "\n",
              "    [theme=dark] .colab-df-convert {\n",
              "      background-color: #3B4455;\n",
              "      fill: #D2E3FC;\n",
              "    }\n",
              "\n",
              "    [theme=dark] .colab-df-convert:hover {\n",
              "      background-color: #434B5C;\n",
              "      box-shadow: 0px 1px 3px 1px rgba(0, 0, 0, 0.15);\n",
              "      filter: drop-shadow(0px 1px 2px rgba(0, 0, 0, 0.3));\n",
              "      fill: #FFFFFF;\n",
              "    }\n",
              "  </style>\n",
              "\n",
              "      <script>\n",
              "        const buttonEl =\n",
              "          document.querySelector('#df-6f368c48-0eb9-40c6-8859-a0c86af13c36 button.colab-df-convert');\n",
              "        buttonEl.style.display =\n",
              "          google.colab.kernel.accessAllowed ? 'block' : 'none';\n",
              "\n",
              "        async function convertToInteractive(key) {\n",
              "          const element = document.querySelector('#df-6f368c48-0eb9-40c6-8859-a0c86af13c36');\n",
              "          const dataTable =\n",
              "            await google.colab.kernel.invokeFunction('convertToInteractive',\n",
              "                                                     [key], {});\n",
              "          if (!dataTable) return;\n",
              "\n",
              "          const docLinkHtml = 'Like what you see? Visit the ' +\n",
              "            '<a target=\"_blank\" href=https://colab.research.google.com/notebooks/data_table.ipynb>data table notebook</a>'\n",
              "            + ' to learn more about interactive tables.';\n",
              "          element.innerHTML = '';\n",
              "          dataTable['output_type'] = 'display_data';\n",
              "          await google.colab.output.renderOutput(dataTable, element);\n",
              "          const docLink = document.createElement('div');\n",
              "          docLink.innerHTML = docLinkHtml;\n",
              "          element.appendChild(docLink);\n",
              "        }\n",
              "      </script>\n",
              "    </div>\n",
              "  </div>\n",
              "  "
            ]
          },
          "metadata": {},
          "execution_count": 5
        }
      ]
    },
    {
      "cell_type": "markdown",
      "source": [
        "## Missing Values"
      ],
      "metadata": {
        "id": "5dwEz5exkX7X"
      }
    },
    {
      "cell_type": "code",
      "source": [
        "# checking missing values\n",
        "Absence_df.isnull().sum()"
      ],
      "metadata": {
        "colab": {
          "base_uri": "https://localhost:8080/"
        },
        "id": "bR7cEfLzPxZ2",
        "outputId": "689c88ab-43c8-4cbd-b1c9-38ac22f567dd"
      },
      "execution_count": 6,
      "outputs": [
        {
          "output_type": "execute_result",
          "data": {
            "text/plain": [
              "ID                                 0\n",
              "Reason for absence                 0\n",
              "Month of absence                   0\n",
              "Day of the week                    0\n",
              "Seasons                            0\n",
              "Transportation expense             0\n",
              "Distance from Residence to Work    0\n",
              "Service time                       0\n",
              "Age                                0\n",
              "Work load Average/day              0\n",
              "Hit target                         0\n",
              "Disciplinary failure               0\n",
              "Education                          0\n",
              "Son                                0\n",
              "Social drinker                     0\n",
              "Social smoker                      0\n",
              "Pet                                0\n",
              "Weight                             0\n",
              "Height                             0\n",
              "Body mass index                    0\n",
              "Absenteeism time in hours          0\n",
              "dtype: int64"
            ]
          },
          "metadata": {},
          "execution_count": 6
        }
      ]
    },
    {
      "cell_type": "markdown",
      "source": [
        "## Summary Statistics"
      ],
      "metadata": {
        "id": "1_z-cj7AkliG"
      }
    },
    {
      "cell_type": "markdown",
      "source": [
        "### Continuous Variables"
      ],
      "metadata": {
        "id": "XXE4pl1Lk07G"
      }
    },
    {
      "cell_type": "markdown",
      "source": [
        "#### summary"
      ],
      "metadata": {
        "id": "yBE4BxLpmHmB"
      }
    },
    {
      "cell_type": "code",
      "source": [
        "# summary statistics of continuous variables\n",
        "Absence_sum = Absence_df.agg(\n",
        "    {\n",
        "        \"Transportation expense\": [\"min\", \"max\", \"mean\",\"median\", \"std\"],\n",
        "        \"Distance from Residence to Work\": [\"min\", \"max\", \"mean\",\"median\", \"std\"],\n",
        "        \"Service time\": [\"min\", \"max\", \"mean\",\"median\", \"std\"],\n",
        "        \"Age\" : [\"min\", \"max\", \"mean\",\"median\", \"std\"],\n",
        "        \"Work load Average/day \": [\"min\", \"max\", \"mean\",\"median\", \"std\"], \n",
        "        \"Hit target\": [\"min\", \"max\", \"mean\",\"median\", \"std\"],\n",
        "        \"Son\": [\"min\", \"max\", \"mean\",\"median\", \"std\"],\n",
        "        \"Pet\": [\"min\", \"max\", \"mean\",\"median\", \"std\"],\n",
        "        \"Weight\": [\"min\", \"max\", \"mean\",\"median\", \"std\"],\n",
        "        \"Height\": [\"min\", \"max\", \"mean\",\"median\", \"std\"],\n",
        "        \"Body mass index\": [\"min\", \"max\", \"mean\",\"median\", \"std\"],\n",
        "        \"Absenteeism time in hours\": [\"min\", \"max\", \"mean\",\"median\", \"std\"]\n",
        "\n",
        "    }\n",
        ")\n",
        "Absence_sum"
      ],
      "metadata": {
        "colab": {
          "base_uri": "https://localhost:8080/",
          "height": 285
        },
        "id": "XxFkhno0TY3o",
        "outputId": "7ef35bb2-c84e-4aae-dc14-f0a2c0003442"
      },
      "execution_count": 7,
      "outputs": [
        {
          "output_type": "execute_result",
          "data": {
            "text/plain": [
              "        Transportation expense  Distance from Residence to Work  Service time  \\\n",
              "min                 118.000000                         5.000000      1.000000   \n",
              "max                 388.000000                        52.000000     29.000000   \n",
              "mean                221.329730                        29.631081     12.554054   \n",
              "median              225.000000                        26.000000     13.000000   \n",
              "std                  66.952223                        14.836788      4.384873   \n",
              "\n",
              "              Age  Work load Average/day   Hit target       Son       Pet  \\\n",
              "min     27.000000           205917.000000   81.000000  0.000000  0.000000   \n",
              "max     58.000000           378884.000000  100.000000  4.000000  8.000000   \n",
              "mean    36.450000           271490.235135   94.587838  1.018919  0.745946   \n",
              "median  37.000000           264249.000000   95.000000  1.000000  0.000000   \n",
              "std      6.478772            39058.116188    3.779313  1.098489  1.318258   \n",
              "\n",
              "            Weight      Height  Body mass index  Absenteeism time in hours  \n",
              "min      56.000000  163.000000        19.000000                   0.000000  \n",
              "max     108.000000  196.000000        38.000000                 120.000000  \n",
              "mean     79.035135  172.114865        26.677027                   6.924324  \n",
              "median   83.000000  170.000000        25.000000                   3.000000  \n",
              "std      12.883211    6.034995         4.285452                  13.330998  "
            ],
            "text/html": [
              "\n",
              "  <div id=\"df-4cde8145-57d1-425f-a920-a36e3ba0ceb7\">\n",
              "    <div class=\"colab-df-container\">\n",
              "      <div>\n",
              "<style scoped>\n",
              "    .dataframe tbody tr th:only-of-type {\n",
              "        vertical-align: middle;\n",
              "    }\n",
              "\n",
              "    .dataframe tbody tr th {\n",
              "        vertical-align: top;\n",
              "    }\n",
              "\n",
              "    .dataframe thead th {\n",
              "        text-align: right;\n",
              "    }\n",
              "</style>\n",
              "<table border=\"1\" class=\"dataframe\">\n",
              "  <thead>\n",
              "    <tr style=\"text-align: right;\">\n",
              "      <th></th>\n",
              "      <th>Transportation expense</th>\n",
              "      <th>Distance from Residence to Work</th>\n",
              "      <th>Service time</th>\n",
              "      <th>Age</th>\n",
              "      <th>Work load Average/day</th>\n",
              "      <th>Hit target</th>\n",
              "      <th>Son</th>\n",
              "      <th>Pet</th>\n",
              "      <th>Weight</th>\n",
              "      <th>Height</th>\n",
              "      <th>Body mass index</th>\n",
              "      <th>Absenteeism time in hours</th>\n",
              "    </tr>\n",
              "  </thead>\n",
              "  <tbody>\n",
              "    <tr>\n",
              "      <th>min</th>\n",
              "      <td>118.000000</td>\n",
              "      <td>5.000000</td>\n",
              "      <td>1.000000</td>\n",
              "      <td>27.000000</td>\n",
              "      <td>205917.000000</td>\n",
              "      <td>81.000000</td>\n",
              "      <td>0.000000</td>\n",
              "      <td>0.000000</td>\n",
              "      <td>56.000000</td>\n",
              "      <td>163.000000</td>\n",
              "      <td>19.000000</td>\n",
              "      <td>0.000000</td>\n",
              "    </tr>\n",
              "    <tr>\n",
              "      <th>max</th>\n",
              "      <td>388.000000</td>\n",
              "      <td>52.000000</td>\n",
              "      <td>29.000000</td>\n",
              "      <td>58.000000</td>\n",
              "      <td>378884.000000</td>\n",
              "      <td>100.000000</td>\n",
              "      <td>4.000000</td>\n",
              "      <td>8.000000</td>\n",
              "      <td>108.000000</td>\n",
              "      <td>196.000000</td>\n",
              "      <td>38.000000</td>\n",
              "      <td>120.000000</td>\n",
              "    </tr>\n",
              "    <tr>\n",
              "      <th>mean</th>\n",
              "      <td>221.329730</td>\n",
              "      <td>29.631081</td>\n",
              "      <td>12.554054</td>\n",
              "      <td>36.450000</td>\n",
              "      <td>271490.235135</td>\n",
              "      <td>94.587838</td>\n",
              "      <td>1.018919</td>\n",
              "      <td>0.745946</td>\n",
              "      <td>79.035135</td>\n",
              "      <td>172.114865</td>\n",
              "      <td>26.677027</td>\n",
              "      <td>6.924324</td>\n",
              "    </tr>\n",
              "    <tr>\n",
              "      <th>median</th>\n",
              "      <td>225.000000</td>\n",
              "      <td>26.000000</td>\n",
              "      <td>13.000000</td>\n",
              "      <td>37.000000</td>\n",
              "      <td>264249.000000</td>\n",
              "      <td>95.000000</td>\n",
              "      <td>1.000000</td>\n",
              "      <td>0.000000</td>\n",
              "      <td>83.000000</td>\n",
              "      <td>170.000000</td>\n",
              "      <td>25.000000</td>\n",
              "      <td>3.000000</td>\n",
              "    </tr>\n",
              "    <tr>\n",
              "      <th>std</th>\n",
              "      <td>66.952223</td>\n",
              "      <td>14.836788</td>\n",
              "      <td>4.384873</td>\n",
              "      <td>6.478772</td>\n",
              "      <td>39058.116188</td>\n",
              "      <td>3.779313</td>\n",
              "      <td>1.098489</td>\n",
              "      <td>1.318258</td>\n",
              "      <td>12.883211</td>\n",
              "      <td>6.034995</td>\n",
              "      <td>4.285452</td>\n",
              "      <td>13.330998</td>\n",
              "    </tr>\n",
              "  </tbody>\n",
              "</table>\n",
              "</div>\n",
              "      <button class=\"colab-df-convert\" onclick=\"convertToInteractive('df-4cde8145-57d1-425f-a920-a36e3ba0ceb7')\"\n",
              "              title=\"Convert this dataframe to an interactive table.\"\n",
              "              style=\"display:none;\">\n",
              "        \n",
              "  <svg xmlns=\"http://www.w3.org/2000/svg\" height=\"24px\"viewBox=\"0 0 24 24\"\n",
              "       width=\"24px\">\n",
              "    <path d=\"M0 0h24v24H0V0z\" fill=\"none\"/>\n",
              "    <path d=\"M18.56 5.44l.94 2.06.94-2.06 2.06-.94-2.06-.94-.94-2.06-.94 2.06-2.06.94zm-11 1L8.5 8.5l.94-2.06 2.06-.94-2.06-.94L8.5 2.5l-.94 2.06-2.06.94zm10 10l.94 2.06.94-2.06 2.06-.94-2.06-.94-.94-2.06-.94 2.06-2.06.94z\"/><path d=\"M17.41 7.96l-1.37-1.37c-.4-.4-.92-.59-1.43-.59-.52 0-1.04.2-1.43.59L10.3 9.45l-7.72 7.72c-.78.78-.78 2.05 0 2.83L4 21.41c.39.39.9.59 1.41.59.51 0 1.02-.2 1.41-.59l7.78-7.78 2.81-2.81c.8-.78.8-2.07 0-2.86zM5.41 20L4 18.59l7.72-7.72 1.47 1.35L5.41 20z\"/>\n",
              "  </svg>\n",
              "      </button>\n",
              "      \n",
              "  <style>\n",
              "    .colab-df-container {\n",
              "      display:flex;\n",
              "      flex-wrap:wrap;\n",
              "      gap: 12px;\n",
              "    }\n",
              "\n",
              "    .colab-df-convert {\n",
              "      background-color: #E8F0FE;\n",
              "      border: none;\n",
              "      border-radius: 50%;\n",
              "      cursor: pointer;\n",
              "      display: none;\n",
              "      fill: #1967D2;\n",
              "      height: 32px;\n",
              "      padding: 0 0 0 0;\n",
              "      width: 32px;\n",
              "    }\n",
              "\n",
              "    .colab-df-convert:hover {\n",
              "      background-color: #E2EBFA;\n",
              "      box-shadow: 0px 1px 2px rgba(60, 64, 67, 0.3), 0px 1px 3px 1px rgba(60, 64, 67, 0.15);\n",
              "      fill: #174EA6;\n",
              "    }\n",
              "\n",
              "    [theme=dark] .colab-df-convert {\n",
              "      background-color: #3B4455;\n",
              "      fill: #D2E3FC;\n",
              "    }\n",
              "\n",
              "    [theme=dark] .colab-df-convert:hover {\n",
              "      background-color: #434B5C;\n",
              "      box-shadow: 0px 1px 3px 1px rgba(0, 0, 0, 0.15);\n",
              "      filter: drop-shadow(0px 1px 2px rgba(0, 0, 0, 0.3));\n",
              "      fill: #FFFFFF;\n",
              "    }\n",
              "  </style>\n",
              "\n",
              "      <script>\n",
              "        const buttonEl =\n",
              "          document.querySelector('#df-4cde8145-57d1-425f-a920-a36e3ba0ceb7 button.colab-df-convert');\n",
              "        buttonEl.style.display =\n",
              "          google.colab.kernel.accessAllowed ? 'block' : 'none';\n",
              "\n",
              "        async function convertToInteractive(key) {\n",
              "          const element = document.querySelector('#df-4cde8145-57d1-425f-a920-a36e3ba0ceb7');\n",
              "          const dataTable =\n",
              "            await google.colab.kernel.invokeFunction('convertToInteractive',\n",
              "                                                     [key], {});\n",
              "          if (!dataTable) return;\n",
              "\n",
              "          const docLinkHtml = 'Like what you see? Visit the ' +\n",
              "            '<a target=\"_blank\" href=https://colab.research.google.com/notebooks/data_table.ipynb>data table notebook</a>'\n",
              "            + ' to learn more about interactive tables.';\n",
              "          element.innerHTML = '';\n",
              "          dataTable['output_type'] = 'display_data';\n",
              "          await google.colab.output.renderOutput(dataTable, element);\n",
              "          const docLink = document.createElement('div');\n",
              "          docLink.innerHTML = docLinkHtml;\n",
              "          element.appendChild(docLink);\n",
              "        }\n",
              "      </script>\n",
              "    </div>\n",
              "  </div>\n",
              "  "
            ]
          },
          "metadata": {},
          "execution_count": 7
        }
      ]
    },
    {
      "cell_type": "markdown",
      "source": [
        "#### distribution"
      ],
      "metadata": {
        "id": "YSTW-_2xmKLt"
      }
    },
    {
      "cell_type": "code",
      "source": [
        "sns.distplot(Absence_df['Transportation expense'])"
      ],
      "metadata": {
        "colab": {
          "base_uri": "https://localhost:8080/",
          "height": 353
        },
        "id": "sf5_ArD7mTrg",
        "outputId": "a4a5c918-bd48-4bde-868e-1edb7fcf9b84"
      },
      "execution_count": 8,
      "outputs": [
        {
          "output_type": "stream",
          "name": "stderr",
          "text": [
            "/usr/local/lib/python3.7/dist-packages/seaborn/distributions.py:2619: FutureWarning: `distplot` is a deprecated function and will be removed in a future version. Please adapt your code to use either `displot` (a figure-level function with similar flexibility) or `histplot` (an axes-level function for histograms).\n",
            "  warnings.warn(msg, FutureWarning)\n"
          ]
        },
        {
          "output_type": "execute_result",
          "data": {
            "text/plain": [
              "<matplotlib.axes._subplots.AxesSubplot at 0x7f49173e5c10>"
            ]
          },
          "metadata": {},
          "execution_count": 8
        },
        {
          "output_type": "display_data",
          "data": {
            "text/plain": [
              "<Figure size 432x288 with 1 Axes>"
            ],
            "image/png": "[encoded data removed]"
          },
          "metadata": {
            "needs_background": "light"
          }
        }
      ]
    },
    {
      "cell_type": "code",
      "source": [
        "sns.distplot(Absence_df['Distance from Residence to Work'])"
      ],
      "metadata": {
        "colab": {
          "base_uri": "https://localhost:8080/",
          "height": 353
        },
        "id": "cdz__kIBmcfn",
        "outputId": "77a7eadc-6a86-41c5-bc47-dd931fd2d861"
      },
      "execution_count": 9,
      "outputs": [
        {
          "output_type": "stream",
          "name": "stderr",
          "text": [
            "/usr/local/lib/python3.7/dist-packages/seaborn/distributions.py:2619: FutureWarning: `distplot` is a deprecated function and will be removed in a future version. Please adapt your code to use either `displot` (a figure-level function with similar flexibility) or `histplot` (an axes-level function for histograms).\n",
            "  warnings.warn(msg, FutureWarning)\n"
          ]
        },
        {
          "output_type": "execute_result",
          "data": {
            "text/plain": [
              "<matplotlib.axes._subplots.AxesSubplot at 0x7f491585f490>"
            ]
          },
          "metadata": {},
          "execution_count": 9
        },
        {
          "output_type": "display_data",
          "data": {
            "text/plain": [
              "<Figure size 432x288 with 1 Axes>"
            ],
            "image/png": "[encoded data removed]"
          },
          "metadata": {
            "needs_background": "light"
          }
        }
      ]
    },
    {
      "cell_type": "code",
      "source": [
        "sns.distplot(Absence_df['Service time'])"
      ],
      "metadata": {
        "colab": {
          "base_uri": "https://localhost:8080/",
          "height": 353
        },
        "id": "mTiJ1JLomglu",
        "outputId": "cafe3bcf-5a88-4c69-f968-0ad01312cbe7"
      },
      "execution_count": 10,
      "outputs": [
        {
          "output_type": "stream",
          "name": "stderr",
          "text": [
            "/usr/local/lib/python3.7/dist-packages/seaborn/distributions.py:2619: FutureWarning: `distplot` is a deprecated function and will be removed in a future version. Please adapt your code to use either `displot` (a figure-level function with similar flexibility) or `histplot` (an axes-level function for histograms).\n",
            "  warnings.warn(msg, FutureWarning)\n"
          ]
        },
        {
          "output_type": "execute_result",
          "data": {
            "text/plain": [
              "<matplotlib.axes._subplots.AxesSubplot at 0x7f4915373cd0>"
            ]
          },
          "metadata": {},
          "execution_count": 10
        },
        {
          "output_type": "display_data",
          "data": {
            "text/plain": [
              "<Figure size 432x288 with 1 Axes>"
            ],
            "image/png": "[encoded data removed]"
          },
          "metadata": {
            "needs_background": "light"
          }
        }
      ]
    },
    {
      "cell_type": "code",
      "source": [
        "sns.distplot(Absence_df['Age'])"
      ],
      "metadata": {
        "colab": {
          "base_uri": "https://localhost:8080/",
          "height": 353
        },
        "id": "iEWrv5F7mpte",
        "outputId": "2e9a4a1a-ba9f-450b-bb5d-bda4b28d01c7"
      },
      "execution_count": 11,
      "outputs": [
        {
          "output_type": "stream",
          "name": "stderr",
          "text": [
            "/usr/local/lib/python3.7/dist-packages/seaborn/distributions.py:2619: FutureWarning: `distplot` is a deprecated function and will be removed in a future version. Please adapt your code to use either `displot` (a figure-level function with similar flexibility) or `histplot` (an axes-level function for histograms).\n",
            "  warnings.warn(msg, FutureWarning)\n"
          ]
        },
        {
          "output_type": "execute_result",
          "data": {
            "text/plain": [
              "<matplotlib.axes._subplots.AxesSubplot at 0x7f49152b8b10>"
            ]
          },
          "metadata": {},
          "execution_count": 11
        },
        {
          "output_type": "display_data",
          "data": {
            "text/plain": [
              "<Figure size 432x288 with 1 Axes>"
            ],
            "image/png": "[encoded data removed]"
          },
          "metadata": {
            "needs_background": "light"
          }
        }
      ]
    },
    {
      "cell_type": "code",
      "source": [
        "sns.distplot(Absence_df['Work load Average/day '])"
      ],
      "metadata": {
        "colab": {
          "base_uri": "https://localhost:8080/",
          "height": 364
        },
        "id": "kSfVvqt3cVri",
        "outputId": "003d123e-b371-4e72-d85b-27d558cc3c41"
      },
      "execution_count": 12,
      "outputs": [
        {
          "output_type": "stream",
          "name": "stderr",
          "text": [
            "/usr/local/lib/python3.7/dist-packages/seaborn/distributions.py:2619: FutureWarning: `distplot` is a deprecated function and will be removed in a future version. Please adapt your code to use either `displot` (a figure-level function with similar flexibility) or `histplot` (an axes-level function for histograms).\n",
            "  warnings.warn(msg, FutureWarning)\n"
          ]
        },
        {
          "output_type": "execute_result",
          "data": {
            "text/plain": [
              "<matplotlib.axes._subplots.AxesSubplot at 0x7f49151b4f90>"
            ]
          },
          "metadata": {},
          "execution_count": 12
        },
        {
          "output_type": "display_data",
          "data": {
            "text/plain": [
              "<Figure size 432x288 with 1 Axes>"
            ],
            "image/png": "[encoded data removed]"
          },
          "metadata": {
            "needs_background": "light"
          }
        }
      ]
    },
    {
      "cell_type": "code",
      "source": [
        "sns.distplot(Absence_df['Hit target'])"
      ],
      "metadata": {
        "colab": {
          "base_uri": "https://localhost:8080/",
          "height": 353
        },
        "id": "_rFZ056Jmszl",
        "outputId": "ea2dbb2a-d1e5-43a3-ba01-f47a09dce522"
      },
      "execution_count": 13,
      "outputs": [
        {
          "output_type": "stream",
          "name": "stderr",
          "text": [
            "/usr/local/lib/python3.7/dist-packages/seaborn/distributions.py:2619: FutureWarning: `distplot` is a deprecated function and will be removed in a future version. Please adapt your code to use either `displot` (a figure-level function with similar flexibility) or `histplot` (an axes-level function for histograms).\n",
            "  warnings.warn(msg, FutureWarning)\n"
          ]
        },
        {
          "output_type": "execute_result",
          "data": {
            "text/plain": [
              "<matplotlib.axes._subplots.AxesSubplot at 0x7f491510fc90>"
            ]
          },
          "metadata": {},
          "execution_count": 13
        },
        {
          "output_type": "display_data",
          "data": {
            "text/plain": [
              "<Figure size 432x288 with 1 Axes>"
            ],
            "image/png": "[encoded data removed]"
          },
          "metadata": {
            "needs_background": "light"
          }
        }
      ]
    },
    {
      "cell_type": "code",
      "source": [
        "sns.distplot(Absence_df['Son'])"
      ],
      "metadata": {
        "colab": {
          "base_uri": "https://localhost:8080/",
          "height": 353
        },
        "id": "adHV9scMm_Bl",
        "outputId": "6dacf79c-5833-4429-91ff-3f42c923bda2"
      },
      "execution_count": 14,
      "outputs": [
        {
          "output_type": "stream",
          "name": "stderr",
          "text": [
            "/usr/local/lib/python3.7/dist-packages/seaborn/distributions.py:2619: FutureWarning: `distplot` is a deprecated function and will be removed in a future version. Please adapt your code to use either `displot` (a figure-level function with similar flexibility) or `histplot` (an axes-level function for histograms).\n",
            "  warnings.warn(msg, FutureWarning)\n"
          ]
        },
        {
          "output_type": "execute_result",
          "data": {
            "text/plain": [
              "<matplotlib.axes._subplots.AxesSubplot at 0x7f49150756d0>"
            ]
          },
          "metadata": {},
          "execution_count": 14
        },
        {
          "output_type": "display_data",
          "data": {
            "text/plain": [
              "<Figure size 432x288 with 1 Axes>"
            ],
            "image/png": "[encoded data removed]"
          },
          "metadata": {
            "needs_background": "light"
          }
        }
      ]
    },
    {
      "cell_type": "code",
      "source": [
        "sns.distplot(Absence_df['Pet'])"
      ],
      "metadata": {
        "colab": {
          "base_uri": "https://localhost:8080/",
          "height": 356
        },
        "id": "D8f1_NosnCZ-",
        "outputId": "880a48ba-b2fe-4abf-a5f7-9f923312f634"
      },
      "execution_count": 15,
      "outputs": [
        {
          "output_type": "stream",
          "name": "stderr",
          "text": [
            "/usr/local/lib/python3.7/dist-packages/seaborn/distributions.py:2619: FutureWarning: `distplot` is a deprecated function and will be removed in a future version. Please adapt your code to use either `displot` (a figure-level function with similar flexibility) or `histplot` (an axes-level function for histograms).\n",
            "  warnings.warn(msg, FutureWarning)\n"
          ]
        },
        {
          "output_type": "execute_result",
          "data": {
            "text/plain": [
              "<matplotlib.axes._subplots.AxesSubplot at 0x7f4914f98f10>"
            ]
          },
          "metadata": {},
          "execution_count": 15
        },
        {
          "output_type": "display_data",
          "data": {
            "text/plain": [
              "<Figure size 432x288 with 1 Axes>"
            ],
            "image/png": "[encoded data removed]"
          },
          "metadata": {
            "needs_background": "light"
          }
        }
      ]
    },
    {
      "cell_type": "code",
      "source": [
        "sns.distplot(Absence_df['Weight'])"
      ],
      "metadata": {
        "colab": {
          "base_uri": "https://localhost:8080/",
          "height": 353
        },
        "id": "bx6TKhwonGfd",
        "outputId": "a77207c2-db65-4489-fb7c-8afa991b4e25"
      },
      "execution_count": 16,
      "outputs": [
        {
          "output_type": "stream",
          "name": "stderr",
          "text": [
            "/usr/local/lib/python3.7/dist-packages/seaborn/distributions.py:2619: FutureWarning: `distplot` is a deprecated function and will be removed in a future version. Please adapt your code to use either `displot` (a figure-level function with similar flexibility) or `histplot` (an axes-level function for histograms).\n",
            "  warnings.warn(msg, FutureWarning)\n"
          ]
        },
        {
          "output_type": "execute_result",
          "data": {
            "text/plain": [
              "<matplotlib.axes._subplots.AxesSubplot at 0x7f491527d950>"
            ]
          },
          "metadata": {},
          "execution_count": 16
        },
        {
          "output_type": "display_data",
          "data": {
            "text/plain": [
              "<Figure size 432x288 with 1 Axes>"
            ],
            "image/png": "[encoded data removed]"
          },
          "metadata": {
            "needs_background": "light"
          }
        }
      ]
    },
    {
      "cell_type": "code",
      "source": [
        "sns.distplot(Absence_df['Height'])"
      ],
      "metadata": {
        "colab": {
          "base_uri": "https://localhost:8080/",
          "height": 353
        },
        "id": "MfO2EZsgnKR1",
        "outputId": "5cafc26b-0894-4110-8662-0b236f55fe87"
      },
      "execution_count": 17,
      "outputs": [
        {
          "output_type": "stream",
          "name": "stderr",
          "text": [
            "/usr/local/lib/python3.7/dist-packages/seaborn/distributions.py:2619: FutureWarning: `distplot` is a deprecated function and will be removed in a future version. Please adapt your code to use either `displot` (a figure-level function with similar flexibility) or `histplot` (an axes-level function for histograms).\n",
            "  warnings.warn(msg, FutureWarning)\n"
          ]
        },
        {
          "output_type": "execute_result",
          "data": {
            "text/plain": [
              "<matplotlib.axes._subplots.AxesSubplot at 0x7f4931297050>"
            ]
          },
          "metadata": {},
          "execution_count": 17
        },
        {
          "output_type": "display_data",
          "data": {
            "text/plain": [
              "<Figure size 432x288 with 1 Axes>"
            ],
            "image/png": "[encoded data removed]"
          },
          "metadata": {
            "needs_background": "light"
          }
        }
      ]
    },
    {
      "cell_type": "code",
      "source": [
        "sns.distplot(Absence_df['Body mass index'])"
      ],
      "metadata": {
        "colab": {
          "base_uri": "https://localhost:8080/",
          "height": 353
        },
        "id": "nLZrARMFnODl",
        "outputId": "51515baf-6cbd-420f-835f-51642ea20f5f"
      },
      "execution_count": 18,
      "outputs": [
        {
          "output_type": "stream",
          "name": "stderr",
          "text": [
            "/usr/local/lib/python3.7/dist-packages/seaborn/distributions.py:2619: FutureWarning: `distplot` is a deprecated function and will be removed in a future version. Please adapt your code to use either `displot` (a figure-level function with similar flexibility) or `histplot` (an axes-level function for histograms).\n",
            "  warnings.warn(msg, FutureWarning)\n"
          ]
        },
        {
          "output_type": "execute_result",
          "data": {
            "text/plain": [
              "<matplotlib.axes._subplots.AxesSubplot at 0x7f4914d5d6d0>"
            ]
          },
          "metadata": {},
          "execution_count": 18
        },
        {
          "output_type": "display_data",
          "data": {
            "text/plain": [
              "<Figure size 432x288 with 1 Axes>"
            ],
            "image/png": "[encoded data removed]"
          },
          "metadata": {
            "needs_background": "light"
          }
        }
      ]
    },
    {
      "cell_type": "code",
      "source": [
        "sns.distplot(Absence_df['Absenteeism time in hours'])"
      ],
      "metadata": {
        "colab": {
          "base_uri": "https://localhost:8080/",
          "height": 353
        },
        "id": "wIUFlfOMnRin",
        "outputId": "c244225b-cd24-4d6e-cc32-2089d6379d0d"
      },
      "execution_count": 19,
      "outputs": [
        {
          "output_type": "stream",
          "name": "stderr",
          "text": [
            "/usr/local/lib/python3.7/dist-packages/seaborn/distributions.py:2619: FutureWarning: `distplot` is a deprecated function and will be removed in a future version. Please adapt your code to use either `displot` (a figure-level function with similar flexibility) or `histplot` (an axes-level function for histograms).\n",
            "  warnings.warn(msg, FutureWarning)\n"
          ]
        },
        {
          "output_type": "execute_result",
          "data": {
            "text/plain": [
              "<matplotlib.axes._subplots.AxesSubplot at 0x7f4914d5f590>"
            ]
          },
          "metadata": {},
          "execution_count": 19
        },
        {
          "output_type": "display_data",
          "data": {
            "text/plain": [
              "<Figure size 432x288 with 1 Axes>"
            ],
            "image/png": "[encoded data removed]"
          },
          "metadata": {
            "needs_background": "light"
          }
        }
      ]
    },
    {
      "cell_type": "markdown",
      "source": [
        "### Categorical Variable Distribution"
      ],
      "metadata": {
        "id": "--tmyqR4k9CX"
      }
    },
    {
      "cell_type": "code",
      "source": [
        "# summary statistics of categorical variables\n",
        "def sum_categorical(var):\n",
        "  return Absence_df[var].value_counts(), Absence_df[var].value_counts(normalize=True)"
      ],
      "metadata": {
        "id": "WWJXatpxYBYW"
      },
      "execution_count": 20,
      "outputs": []
    },
    {
      "cell_type": "code",
      "source": [
        "# function to plot distribution\n",
        "def distribution_plot(var):\n",
        "  plt.figure(figsize=(20,5))\n",
        "  plt.subplot(1,2,1)\n",
        "  colors = sns.color_palette('GnBu')#[color_start:color_end]\n",
        "  Absence_df[var].value_counts().plot(kind=\"pie\", colors=colors, autopct='%1.1f%%')\n",
        "  plt.subplot(1,2,2)\n",
        "  sns.countplot(Absence_df[var], palette=colors)\n",
        "  return Absence_df[var].value_counts()"
      ],
      "metadata": {
        "id": "TF4dFkJVdFK_"
      },
      "execution_count": 21,
      "outputs": []
    },
    {
      "cell_type": "code",
      "source": [
        "reason_count = Absence_df.groupby(\"Reason for absence\")[['Absenteeism time in hours']].count().reset_index()\n",
        "reason_count['Frequency'] = (reason_count['Absenteeism time in hours']/(reason_count.sum()[['Absenteeism time in hours']][0]))\n",
        "reason_count = reason_count.sort_values(by=['Frequency'], ascending=False,)"
      ],
      "metadata": {
        "id": "rFcLKV0vcq3W"
      },
      "execution_count": 22,
      "outputs": []
    },
    {
      "cell_type": "code",
      "source": [
        "pd.set_option(\"display.max_colwidth\", None)\n",
        "\n",
        "reason_list = {\n",
        "    0: 'Unknown',\n",
        "    1: 'Certain infectious and parasitic diseases',\n",
        "    2: 'Neoplasms',\n",
        "    3: 'Diseases of the blood and blood-forming organs and certain disorders involving the immune mechanism',\n",
        "    4: 'Endocrine, nutritional and metabolic diseases',\n",
        "    5: 'Mental and behavioural disorders',\n",
        "    6: 'Diseases of the nervous system',\n",
        "    7: 'Diseases of the eye and adnexa',\n",
        "    8: 'Diseases of the ear and mastoid process',\n",
        "    9: 'Diseases of the circulatory system',\n",
        "    10: 'Diseases of the respiratory system',\n",
        "    11: 'Diseases of the digestive system',\n",
        "    12: 'Diseases of the skin and subcutaneous tissue',\n",
        "    13: 'Diseases of the musculoskeletal system and connective tissue',\n",
        "    14: 'Diseases of the genitourinary system',\n",
        "    15: 'Pregnancy, childbirth and the puerperium',\n",
        "    16: 'Certain conditions originating in the perinatal period',\n",
        "    17: 'Congenital malformations, deformations and chromosomal abnormalities',\n",
        "    18: 'Symptoms, signs and abnormal clinical and laboratory findings, not elsewhere classified',\n",
        "    19: 'Injury, poisoning and certain other consequences of external causes',\n",
        "    20: 'External causes of morbidity and mortality',\n",
        "    21: 'Factors influencing health status and contact with health services',\n",
        "    22: 'Patient follow-up',\n",
        "    23: 'Medical consultation',\n",
        "    24: 'Blood donation',\n",
        "    25: 'Laboratory examination',\n",
        "    26: 'Unjustified absence',\n",
        "    27: 'Physiotherapy',\n",
        "    28: 'Dental consultation'\n",
        "}\n",
        "reason_count['Reason for absence'] = reason_count['Reason for absence'].map(reason_list)\n",
        "reason_count = reason_count.sort_values(by=['Frequency'], ascending=False)\n",
        "reason_count.rename(columns = {'Absenteeism time in hours': 'Number of occurrences'}, inplace = True)\n",
        "reason_count"
      ],
      "metadata": {
        "colab": {
          "base_uri": "https://localhost:8080/",
          "height": 927
        },
        "id": "1-u2riltcjVA",
        "outputId": "9be42a69-cb1e-42e8-bdac-a971d9cba99e"
      },
      "execution_count": 23,
      "outputs": [
        {
          "output_type": "execute_result",
          "data": {
            "text/plain": [
              "                                                                                     Reason for absence  \\\n",
              "22                                                                                 Medical consultation   \n",
              "27                                                                                  Dental consultation   \n",
              "26                                                                                        Physiotherapy   \n",
              "13                                         Diseases of the musculoskeletal system and connective tissue   \n",
              "0                                                                                               Unknown   \n",
              "19                                  Injury, poisoning and certain other consequences of external causes   \n",
              "21                                                                                    Patient follow-up   \n",
              "25                                                                                  Unjustified absence   \n",
              "24                                                                               Laboratory examination   \n",
              "11                                                                     Diseases of the digestive system   \n",
              "10                                                                   Diseases of the respiratory system   \n",
              "18              Symptoms, signs and abnormal clinical and laboratory findings, not elsewhere classified   \n",
              "14                                                                 Diseases of the genitourinary system   \n",
              "1                                                             Certain infectious and parasitic diseases   \n",
              "7                                                                        Diseases of the eye and adnexa   \n",
              "12                                                         Diseases of the skin and subcutaneous tissue   \n",
              "6                                                                        Diseases of the nervous system   \n",
              "8                                                               Diseases of the ear and mastoid process   \n",
              "20                                   Factors influencing health status and contact with health services   \n",
              "9                                                                    Diseases of the circulatory system   \n",
              "23                                                                                       Blood donation   \n",
              "5                                                                      Mental and behavioural disorders   \n",
              "16                                               Certain conditions originating in the perinatal period   \n",
              "15                                                             Pregnancy, childbirth and the puerperium   \n",
              "4                                                         Endocrine, nutritional and metabolic diseases   \n",
              "3   Diseases of the blood and blood-forming organs and certain disorders involving the immune mechanism   \n",
              "17                                 Congenital malformations, deformations and chromosomal abnormalities   \n",
              "2                                                                                             Neoplasms   \n",
              "\n",
              "    Number of occurrences  Frequency  \n",
              "22                    149   0.201351  \n",
              "27                    112   0.151351  \n",
              "26                     69   0.093243  \n",
              "13                     55   0.074324  \n",
              "0                      43   0.058108  \n",
              "19                     40   0.054054  \n",
              "21                     38   0.051351  \n",
              "25                     33   0.044595  \n",
              "24                     31   0.041892  \n",
              "11                     26   0.035135  \n",
              "10                     25   0.033784  \n",
              "18                     21   0.028378  \n",
              "14                     19   0.025676  \n",
              "1                      16   0.021622  \n",
              "7                      15   0.020270  \n",
              "12                      8   0.010811  \n",
              "6                       8   0.010811  \n",
              "8                       6   0.008108  \n",
              "20                      6   0.008108  \n",
              "9                       4   0.005405  \n",
              "23                      3   0.004054  \n",
              "5                       3   0.004054  \n",
              "16                      3   0.004054  \n",
              "15                      2   0.002703  \n",
              "4                       2   0.002703  \n",
              "3                       1   0.001351  \n",
              "17                      1   0.001351  \n",
              "2                       1   0.001351  "
            ],
            "text/html": [
              "\n",
              "  <div id=\"df-086c0e83-1cf6-4e0e-99b0-7b0f5599dc59\">\n",
              "    <div class=\"colab-df-container\">\n",
              "      <div>\n",
              "<style scoped>\n",
              "    .dataframe tbody tr th:only-of-type {\n",
              "        vertical-align: middle;\n",
              "    }\n",
              "\n",
              "    .dataframe tbody tr th {\n",
              "        vertical-align: top;\n",
              "    }\n",
              "\n",
              "    .dataframe thead th {\n",
              "        text-align: right;\n",
              "    }\n",
              "</style>\n",
              "<table border=\"1\" class=\"dataframe\">\n",
              "  <thead>\n",
              "    <tr style=\"text-align: right;\">\n",
              "      <th></th>\n",
              "      <th>Reason for absence</th>\n",
              "      <th>Number of occurrences</th>\n",
              "      <th>Frequency</th>\n",
              "    </tr>\n",
              "  </thead>\n",
              "  <tbody>\n",
              "    <tr>\n",
              "      <th>22</th>\n",
              "      <td>Medical consultation</td>\n",
              "      <td>149</td>\n",
              "      <td>0.201351</td>\n",
              "    </tr>\n",
              "    <tr>\n",
              "      <th>27</th>\n",
              "      <td>Dental consultation</td>\n",
              "      <td>112</td>\n",
              "      <td>0.151351</td>\n",
              "    </tr>\n",
              "    <tr>\n",
              "      <th>26</th>\n",
              "      <td>Physiotherapy</td>\n",
              "      <td>69</td>\n",
              "      <td>0.093243</td>\n",
              "    </tr>\n",
              "    <tr>\n",
              "      <th>13</th>\n",
              "      <td>Diseases of the musculoskeletal system and connective tissue</td>\n",
              "      <td>55</td>\n",
              "      <td>0.074324</td>\n",
              "    </tr>\n",
              "    <tr>\n",
              "      <th>0</th>\n",
              "      <td>Unknown</td>\n",
              "      <td>43</td>\n",
              "      <td>0.058108</td>\n",
              "    </tr>\n",
              "    <tr>\n",
              "      <th>19</th>\n",
              "      <td>Injury, poisoning and certain other consequences of external causes</td>\n",
              "      <td>40</td>\n",
              "      <td>0.054054</td>\n",
              "    </tr>\n",
              "    <tr>\n",
              "      <th>21</th>\n",
              "      <td>Patient follow-up</td>\n",
              "      <td>38</td>\n",
              "      <td>0.051351</td>\n",
              "    </tr>\n",
              "    <tr>\n",
              "      <th>25</th>\n",
              "      <td>Unjustified absence</td>\n",
              "      <td>33</td>\n",
              "      <td>0.044595</td>\n",
              "    </tr>\n",
              "    <tr>\n",
              "      <th>24</th>\n",
              "      <td>Laboratory examination</td>\n",
              "      <td>31</td>\n",
              "      <td>0.041892</td>\n",
              "    </tr>\n",
              "    <tr>\n",
              "      <th>11</th>\n",
              "      <td>Diseases of the digestive system</td>\n",
              "      <td>26</td>\n",
              "      <td>0.035135</td>\n",
              "    </tr>\n",
              "    <tr>\n",
              "      <th>10</th>\n",
              "      <td>Diseases of the respiratory system</td>\n",
              "      <td>25</td>\n",
              "      <td>0.033784</td>\n",
              "    </tr>\n",
              "    <tr>\n",
              "      <th>18</th>\n",
              "      <td>Symptoms, signs and abnormal clinical and laboratory findings, not elsewhere classified</td>\n",
              "      <td>21</td>\n",
              "      <td>0.028378</td>\n",
              "    </tr>\n",
              "    <tr>\n",
              "      <th>14</th>\n",
              "      <td>Diseases of the genitourinary system</td>\n",
              "      <td>19</td>\n",
              "      <td>0.025676</td>\n",
              "    </tr>\n",
              "    <tr>\n",
              "      <th>1</th>\n",
              "      <td>Certain infectious and parasitic diseases</td>\n",
              "      <td>16</td>\n",
              "      <td>0.021622</td>\n",
              "    </tr>\n",
              "    <tr>\n",
              "      <th>7</th>\n",
              "      <td>Diseases of the eye and adnexa</td>\n",
              "      <td>15</td>\n",
              "      <td>0.020270</td>\n",
              "    </tr>\n",
              "    <tr>\n",
              "      <th>12</th>\n",
              "      <td>Diseases of the skin and subcutaneous tissue</td>\n",
              "      <td>8</td>\n",
              "      <td>0.010811</td>\n",
              "    </tr>\n",
              "    <tr>\n",
              "      <th>6</th>\n",
              "      <td>Diseases of the nervous system</td>\n",
              "      <td>8</td>\n",
              "      <td>0.010811</td>\n",
              "    </tr>\n",
              "    <tr>\n",
              "      <th>8</th>\n",
              "      <td>Diseases of the ear and mastoid process</td>\n",
              "      <td>6</td>\n",
              "      <td>0.008108</td>\n",
              "    </tr>\n",
              "    <tr>\n",
              "      <th>20</th>\n",
              "      <td>Factors influencing health status and contact with health services</td>\n",
              "      <td>6</td>\n",
              "      <td>0.008108</td>\n",
              "    </tr>\n",
              "    <tr>\n",
              "      <th>9</th>\n",
              "      <td>Diseases of the circulatory system</td>\n",
              "      <td>4</td>\n",
              "      <td>0.005405</td>\n",
              "    </tr>\n",
              "    <tr>\n",
              "      <th>23</th>\n",
              "      <td>Blood donation</td>\n",
              "      <td>3</td>\n",
              "      <td>0.004054</td>\n",
              "    </tr>\n",
              "    <tr>\n",
              "      <th>5</th>\n",
              "      <td>Mental and behavioural disorders</td>\n",
              "      <td>3</td>\n",
              "      <td>0.004054</td>\n",
              "    </tr>\n",
              "    <tr>\n",
              "      <th>16</th>\n",
              "      <td>Certain conditions originating in the perinatal period</td>\n",
              "      <td>3</td>\n",
              "      <td>0.004054</td>\n",
              "    </tr>\n",
              "    <tr>\n",
              "      <th>15</th>\n",
              "      <td>Pregnancy, childbirth and the puerperium</td>\n",
              "      <td>2</td>\n",
              "      <td>0.002703</td>\n",
              "    </tr>\n",
              "    <tr>\n",
              "      <th>4</th>\n",
              "      <td>Endocrine, nutritional and metabolic diseases</td>\n",
              "      <td>2</td>\n",
              "      <td>0.002703</td>\n",
              "    </tr>\n",
              "    <tr>\n",
              "      <th>3</th>\n",
              "      <td>Diseases of the blood and blood-forming organs and certain disorders involving the immune mechanism</td>\n",
              "      <td>1</td>\n",
              "      <td>0.001351</td>\n",
              "    </tr>\n",
              "    <tr>\n",
              "      <th>17</th>\n",
              "      <td>Congenital malformations, deformations and chromosomal abnormalities</td>\n",
              "      <td>1</td>\n",
              "      <td>0.001351</td>\n",
              "    </tr>\n",
              "    <tr>\n",
              "      <th>2</th>\n",
              "      <td>Neoplasms</td>\n",
              "      <td>1</td>\n",
              "      <td>0.001351</td>\n",
              "    </tr>\n",
              "  </tbody>\n",
              "</table>\n",
              "</div>\n",
              "      <button class=\"colab-df-convert\" onclick=\"convertToInteractive('df-086c0e83-1cf6-4e0e-99b0-7b0f5599dc59')\"\n",
              "              title=\"Convert this dataframe to an interactive table.\"\n",
              "              style=\"display:none;\">\n",
              "        \n",
              "  <svg xmlns=\"http://www.w3.org/2000/svg\" height=\"24px\"viewBox=\"0 0 24 24\"\n",
              "       width=\"24px\">\n",
              "    <path d=\"M0 0h24v24H0V0z\" fill=\"none\"/>\n",
              "    <path d=\"M18.56 5.44l.94 2.06.94-2.06 2.06-.94-2.06-.94-.94-2.06-.94 2.06-2.06.94zm-11 1L8.5 8.5l.94-2.06 2.06-.94-2.06-.94L8.5 2.5l-.94 2.06-2.06.94zm10 10l.94 2.06.94-2.06 2.06-.94-2.06-.94-.94-2.06-.94 2.06-2.06.94z\"/><path d=\"M17.41 7.96l-1.37-1.37c-.4-.4-.92-.59-1.43-.59-.52 0-1.04.2-1.43.59L10.3 9.45l-7.72 7.72c-.78.78-.78 2.05 0 2.83L4 21.41c.39.39.9.59 1.41.59.51 0 1.02-.2 1.41-.59l7.78-7.78 2.81-2.81c.8-.78.8-2.07 0-2.86zM5.41 20L4 18.59l7.72-7.72 1.47 1.35L5.41 20z\"/>\n",
              "  </svg>\n",
              "      </button>\n",
              "      \n",
              "  <style>\n",
              "    .colab-df-container {\n",
              "      display:flex;\n",
              "      flex-wrap:wrap;\n",
              "      gap: 12px;\n",
              "    }\n",
              "\n",
              "    .colab-df-convert {\n",
              "      background-color: #E8F0FE;\n",
              "      border: none;\n",
              "      border-radius: 50%;\n",
              "      cursor: pointer;\n",
              "      display: none;\n",
              "      fill: #1967D2;\n",
              "      height: 32px;\n",
              "      padding: 0 0 0 0;\n",
              "      width: 32px;\n",
              "    }\n",
              "\n",
              "    .colab-df-convert:hover {\n",
              "      background-color: #E2EBFA;\n",
              "      box-shadow: 0px 1px 2px rgba(60, 64, 67, 0.3), 0px 1px 3px 1px rgba(60, 64, 67, 0.15);\n",
              "      fill: #174EA6;\n",
              "    }\n",
              "\n",
              "    [theme=dark] .colab-df-convert {\n",
              "      background-color: #3B4455;\n",
              "      fill: #D2E3FC;\n",
              "    }\n",
              "\n",
              "    [theme=dark] .colab-df-convert:hover {\n",
              "      background-color: #434B5C;\n",
              "      box-shadow: 0px 1px 3px 1px rgba(0, 0, 0, 0.15);\n",
              "      filter: drop-shadow(0px 1px 2px rgba(0, 0, 0, 0.3));\n",
              "      fill: #FFFFFF;\n",
              "    }\n",
              "  </style>\n",
              "\n",
              "      <script>\n",
              "        const buttonEl =\n",
              "          document.querySelector('#df-086c0e83-1cf6-4e0e-99b0-7b0f5599dc59 button.colab-df-convert');\n",
              "        buttonEl.style.display =\n",
              "          google.colab.kernel.accessAllowed ? 'block' : 'none';\n",
              "\n",
              "        async function convertToInteractive(key) {\n",
              "          const element = document.querySelector('#df-086c0e83-1cf6-4e0e-99b0-7b0f5599dc59');\n",
              "          const dataTable =\n",
              "            await google.colab.kernel.invokeFunction('convertToInteractive',\n",
              "                                                     [key], {});\n",
              "          if (!dataTable) return;\n",
              "\n",
              "          const docLinkHtml = 'Like what you see? Visit the ' +\n",
              "            '<a target=\"_blank\" href=https://colab.research.google.com/notebooks/data_table.ipynb>data table notebook</a>'\n",
              "            + ' to learn more about interactive tables.';\n",
              "          element.innerHTML = '';\n",
              "          dataTable['output_type'] = 'display_data';\n",
              "          await google.colab.output.renderOutput(dataTable, element);\n",
              "          const docLink = document.createElement('div');\n",
              "          docLink.innerHTML = docLinkHtml;\n",
              "          element.appendChild(docLink);\n",
              "        }\n",
              "      </script>\n",
              "    </div>\n",
              "  </div>\n",
              "  "
            ]
          },
          "metadata": {},
          "execution_count": 23
        }
      ]
    },
    {
      "cell_type": "code",
      "source": [
        "bar_graph = alt.Chart(reason_count,\n",
        "          title = \"Number of occurrences for each reason for absence\").mark_bar(\n",
        ").encode(\n",
        "    x=alt.X('Number of occurrences'),\n",
        "    y=alt.Y('Reason for absence', sort='x', title = None)\n",
        ")\n",
        "line = alt.Chart(reason_count).mark_rule(color='red').encode(\n",
        "    x=alt.X('mean(Number of occurrences):Q', title = 'Number of occurrences')\n",
        ")\n",
        "(bar_graph + line).properties(\n",
        "    width=500, height = 500).configure_title(\n",
        "    fontSize=20).configure_axis(\n",
        "    labelFontSize=10, titleFontSize = 15, labelLimit=500)"
      ],
      "metadata": {
        "colab": {
          "base_uri": "https://localhost:8080/",
          "height": 592
        },
        "id": "myl5ccPKc1a_",
        "outputId": "26d23f45-7ed0-4f6b-a864-6c5cf2a4c80b"
      },
      "execution_count": 24,
      "outputs": [
        {
          "output_type": "execute_result",
          "data": {
            "text/html": [
              "\n",
              "<div id=\"altair-viz-4e9c67a2af9c4b7493302b318c6e782c\"></div>\n",
              "<script type=\"text/javascript\">\n",
              "  var VEGA_DEBUG = (typeof VEGA_DEBUG == \"undefined\") ? {} : VEGA_DEBUG;\n",
              "  (function(spec, embedOpt){\n",
              "    let outputDiv = document.currentScript.previousElementSibling;\n",
              "    if (outputDiv.id !== \"altair-viz-4e9c67a2af9c4b7493302b318c6e782c\") {\n",
              "      outputDiv = document.getElementById(\"altair-viz-4e9c67a2af9c4b7493302b318c6e782c\");\n",
              "    }\n",
              "    const paths = {\n",
              "      \"vega\": \"https://cdn.jsdelivr.net/npm//vega@5?noext\",\n",
              "      \"vega-lib\": \"https://cdn.jsdelivr.net/npm//vega-lib?noext\",\n",
              "      \"vega-lite\": \"https://cdn.jsdelivr.net/npm//vega-lite@4.17.0?noext\",\n",
              "      \"vega-embed\": \"https://cdn.jsdelivr.net/npm//vega-embed@6?noext\",\n",
              "    };\n",
              "\n",
              "    function maybeLoadScript(lib, version) {\n",
              "      var key = `${lib.replace(\"-\", \"\")}_version`;\n",
              "      return (VEGA_DEBUG[key] == version) ?\n",
              "        Promise.resolve(paths[lib]) :\n",
              "        new Promise(function(resolve, reject) {\n",
              "          var s = document.createElement('script');\n",
              "          document.getElementsByTagName(\"head\")[0].appendChild(s);\n",
              "          s.async = true;\n",
              "          s.onload = () => {\n",
              "            VEGA_DEBUG[key] = version;\n",
              "            return resolve(paths[lib]);\n",
              "          };\n",
              "          s.onerror = () => reject(`Error loading script: ${paths[lib]}`);\n",
              "          s.src = paths[lib];\n",
              "        });\n",
              "    }\n",
              "\n",
              "    function showError(err) {\n",
              "      outputDiv.innerHTML = `<div class=\"error\" style=\"color:red;\">${err}</div>`;\n",
              "      throw err;\n",
              "    }\n",
              "\n",
              "    function displayChart(vegaEmbed) {\n",
              "      vegaEmbed(outputDiv, spec, embedOpt)\n",
              "        .catch(err => showError(`Javascript Error: ${err.message}<br>This usually means there's a typo in your chart specification. See the javascript console for the full traceback.`));\n",
              "    }\n",
              "\n",
              "    if(typeof define === \"function\" && define.amd) {\n",
              "      requirejs.config({paths});\n",
              "      require([\"vega-embed\"], displayChart, err => showError(`Error loading script: ${err.message}`));\n",
              "    } else {\n",
              "      maybeLoadScript(\"vega\", \"5\")\n",
              "        .then(() => maybeLoadScript(\"vega-lite\", \"4.17.0\"))\n",
              "        .then(() => maybeLoadScript(\"vega-embed\", \"6\"))\n",
              "        .catch(showError)\n",
              "        .then(() => displayChart(vegaEmbed));\n",
              "    }\n",
              "  })({\"config\": {\"view\": {\"continuousWidth\": 400, \"continuousHeight\": 300}, \"axis\": {\"labelFontSize\": 10, \"labelLimit\": 500, \"titleFontSize\": 15}, \"title\": {\"fontSize\": 20}}, \"layer\": [{\"mark\": \"bar\", \"encoding\": {\"x\": {\"field\": \"Number of occurrences\", \"type\": \"quantitative\"}, \"y\": {\"field\": \"Reason for absence\", \"sort\": \"x\", \"title\": null, \"type\": \"nominal\"}}, \"title\": \"Number of occurrences for each reason for absence\"}, {\"mark\": {\"type\": \"rule\", \"color\": \"red\"}, \"encoding\": {\"x\": {\"aggregate\": \"mean\", \"field\": \"Number of occurrences\", \"title\": \"Number of occurrences\", \"type\": \"quantitative\"}}}], \"data\": {\"name\": \"data-e4ab14dee5ccf6ae4caf27900538f01f\"}, \"height\": 500, \"width\": 500, \"$schema\": \"https://vega.github.io/schema/vega-lite/v4.17.0.json\", \"datasets\": {\"data-e4ab14dee5ccf6ae4caf27900538f01f\": [{\"Reason for absence\": \"Medical consultation\", \"Number of occurrences\": 149, \"Frequency\": 0.20135135135135135}, {\"Reason for absence\": \"Dental consultation\", \"Number of occurrences\": 112, \"Frequency\": 0.15135135135135136}, {\"Reason for absence\": \"Physiotherapy\", \"Number of occurrences\": 69, \"Frequency\": 0.09324324324324325}, {\"Reason for absence\": \"Diseases of the musculoskeletal system and connective tissue\", \"Number of occurrences\": 55, \"Frequency\": 0.07432432432432433}, {\"Reason for absence\": \"Unknown\", \"Number of occurrences\": 43, \"Frequency\": 0.05810810810810811}, {\"Reason for absence\": \"Injury, poisoning and certain other consequences of external causes\", \"Number of occurrences\": 40, \"Frequency\": 0.05405405405405406}, {\"Reason for absence\": \"Patient follow-up\", \"Number of occurrences\": 38, \"Frequency\": 0.051351351351351354}, {\"Reason for absence\": \"Unjustified absence\", \"Number of occurrences\": 33, \"Frequency\": 0.0445945945945946}, {\"Reason for absence\": \"Laboratory examination\", \"Number of occurrences\": 31, \"Frequency\": 0.041891891891891894}, {\"Reason for absence\": \"Diseases of the digestive system\", \"Number of occurrences\": 26, \"Frequency\": 0.03513513513513514}, {\"Reason for absence\": \"Diseases of the respiratory system\", \"Number of occurrences\": 25, \"Frequency\": 0.033783783783783786}, {\"Reason for absence\": \"Symptoms, signs and abnormal clinical and laboratory findings, not elsewhere classified\", \"Number of occurrences\": 21, \"Frequency\": 0.02837837837837838}, {\"Reason for absence\": \"Diseases of the genitourinary system\", \"Number of occurrences\": 19, \"Frequency\": 0.025675675675675677}, {\"Reason for absence\": \"Certain infectious and parasitic diseases\", \"Number of occurrences\": 16, \"Frequency\": 0.021621621621621623}, {\"Reason for absence\": \"Diseases of the eye and adnexa\", \"Number of occurrences\": 15, \"Frequency\": 0.02027027027027027}, {\"Reason for absence\": \"Diseases of the skin and subcutaneous tissue\", \"Number of occurrences\": 8, \"Frequency\": 0.010810810810810811}, {\"Reason for absence\": \"Diseases of the nervous system\", \"Number of occurrences\": 8, \"Frequency\": 0.010810810810810811}, {\"Reason for absence\": \"Diseases of the ear and mastoid process\", \"Number of occurrences\": 6, \"Frequency\": 0.008108108108108109}, {\"Reason for absence\": \"Factors influencing health status and contact with health services\", \"Number of occurrences\": 6, \"Frequency\": 0.008108108108108109}, {\"Reason for absence\": \"Diseases of the circulatory system\", \"Number of occurrences\": 4, \"Frequency\": 0.005405405405405406}, {\"Reason for absence\": \"Blood donation\", \"Number of occurrences\": 3, \"Frequency\": 0.004054054054054054}, {\"Reason for absence\": \"Mental and behavioural disorders\", \"Number of occurrences\": 3, \"Frequency\": 0.004054054054054054}, {\"Reason for absence\": \"Certain conditions originating in the perinatal period\", \"Number of occurrences\": 3, \"Frequency\": 0.004054054054054054}, {\"Reason for absence\": \"Pregnancy, childbirth and the puerperium\", \"Number of occurrences\": 2, \"Frequency\": 0.002702702702702703}, {\"Reason for absence\": \"Endocrine, nutritional and metabolic diseases\", \"Number of occurrences\": 2, \"Frequency\": 0.002702702702702703}, {\"Reason for absence\": \"Diseases of the blood and blood-forming organs and certain disorders involving the immune mechanism\", \"Number of occurrences\": 1, \"Frequency\": 0.0013513513513513514}, {\"Reason for absence\": \"Congenital malformations, deformations and chromosomal abnormalities\", \"Number of occurrences\": 1, \"Frequency\": 0.0013513513513513514}, {\"Reason for absence\": \"Neoplasms\", \"Number of occurrences\": 1, \"Frequency\": 0.0013513513513513514}]}}, {\"mode\": \"vega-lite\"});\n",
              "</script>"
            ],
            "text/plain": [
              "alt.LayerChart(...)"
            ]
          },
          "metadata": {},
          "execution_count": 24
        }
      ]
    },
    {
      "cell_type": "code",
      "source": [
        "sum_categorical('Month of absence')"
      ],
      "metadata": {
        "colab": {
          "base_uri": "https://localhost:8080/"
        },
        "id": "jetiDDyNYfS_",
        "outputId": "4fc645e0-4f47-4ede-96e5-2af61f57d103"
      },
      "execution_count": 25,
      "outputs": [
        {
          "output_type": "execute_result",
          "data": {
            "text/plain": [
              "(3     87\n",
              " 2     72\n",
              " 10    71\n",
              " 7     67\n",
              " 5     64\n",
              " 11    63\n",
              " 8     54\n",
              " 6     54\n",
              " 9     53\n",
              " 4     53\n",
              " 1     50\n",
              " 12    49\n",
              " 0      3\n",
              " Name: Month of absence, dtype: int64, 3     0.117568\n",
              " 2     0.097297\n",
              " 10    0.095946\n",
              " 7     0.090541\n",
              " 5     0.086486\n",
              " 11    0.085135\n",
              " 8     0.072973\n",
              " 6     0.072973\n",
              " 9     0.071622\n",
              " 4     0.071622\n",
              " 1     0.067568\n",
              " 12    0.066216\n",
              " 0     0.004054\n",
              " Name: Month of absence, dtype: float64)"
            ]
          },
          "metadata": {},
          "execution_count": 25
        }
      ]
    },
    {
      "cell_type": "code",
      "source": [
        "distribution_plot('Month of absence')"
      ],
      "metadata": {
        "colab": {
          "base_uri": "https://localhost:8080/",
          "height": 642
        },
        "id": "nb4ekXKqeDkP",
        "outputId": "c19d1d5c-7077-4398-f693-fcad9671c121"
      },
      "execution_count": 26,
      "outputs": [
        {
          "output_type": "stream",
          "name": "stderr",
          "text": [
            "/usr/local/lib/python3.7/dist-packages/seaborn/_decorators.py:43: FutureWarning: Pass the following variable as a keyword arg: x. From version 0.12, the only valid positional argument will be `data`, and passing other arguments without an explicit keyword will result in an error or misinterpretation.\n",
            "  FutureWarning\n"
          ]
        },
        {
          "output_type": "execute_result",
          "data": {
            "text/plain": [
              "3     87\n",
              "2     72\n",
              "10    71\n",
              "7     67\n",
              "5     64\n",
              "11    63\n",
              "8     54\n",
              "6     54\n",
              "9     53\n",
              "4     53\n",
              "1     50\n",
              "12    49\n",
              "0      3\n",
              "Name: Month of absence, dtype: int64"
            ]
          },
          "metadata": {},
          "execution_count": 26
        },
        {
          "output_type": "display_data",
          "data": {
            "text/plain": [
              "<Figure size 1440x360 with 2 Axes>"
            ],
            "image/png": "[encoded data removed]"
          },
          "metadata": {
            "needs_background": "light"
          }
        }
      ]
    },
    {
      "cell_type": "code",
      "source": [
        "sum_categorical('Day of the week')"
      ],
      "metadata": {
        "colab": {
          "base_uri": "https://localhost:8080/"
        },
        "id": "kmPatNNiYklN",
        "outputId": "6b050f6f-e900-4337-89bc-1cab14aaf32c"
      },
      "execution_count": 27,
      "outputs": [
        {
          "output_type": "execute_result",
          "data": {
            "text/plain": [
              "(2    161\n",
              " 4    156\n",
              " 3    154\n",
              " 6    144\n",
              " 5    125\n",
              " Name: Day of the week, dtype: int64, 2    0.217568\n",
              " 4    0.210811\n",
              " 3    0.208108\n",
              " 6    0.194595\n",
              " 5    0.168919\n",
              " Name: Day of the week, dtype: float64)"
            ]
          },
          "metadata": {},
          "execution_count": 27
        }
      ]
    },
    {
      "cell_type": "code",
      "source": [
        "distribution_plot('Day of the week')"
      ],
      "metadata": {
        "colab": {
          "base_uri": "https://localhost:8080/",
          "height": 498
        },
        "id": "fikRGoKseOL9",
        "outputId": "6d7db574-5801-45f7-f5ee-ce6e1d3b4c64"
      },
      "execution_count": 28,
      "outputs": [
        {
          "output_type": "stream",
          "name": "stderr",
          "text": [
            "/usr/local/lib/python3.7/dist-packages/seaborn/_decorators.py:43: FutureWarning: Pass the following variable as a keyword arg: x. From version 0.12, the only valid positional argument will be `data`, and passing other arguments without an explicit keyword will result in an error or misinterpretation.\n",
            "  FutureWarning\n"
          ]
        },
        {
          "output_type": "execute_result",
          "data": {
            "text/plain": [
              "2    161\n",
              "4    156\n",
              "3    154\n",
              "6    144\n",
              "5    125\n",
              "Name: Day of the week, dtype: int64"
            ]
          },
          "metadata": {},
          "execution_count": 28
        },
        {
          "output_type": "display_data",
          "data": {
            "text/plain": [
              "<Figure size 1440x360 with 2 Axes>"
            ],
            "image/png": "[encoded data removed]"
          },
          "metadata": {
            "needs_background": "light"
          }
        }
      ]
    },
    {
      "cell_type": "code",
      "source": [
        "sum_categorical('Seasons')"
      ],
      "metadata": {
        "colab": {
          "base_uri": "https://localhost:8080/"
        },
        "id": "7m-9X4E4YplV",
        "outputId": "b84d2dd6-1139-460f-ee07-aa4b35a49465"
      },
      "execution_count": 29,
      "outputs": [
        {
          "output_type": "execute_result",
          "data": {
            "text/plain": [
              "(4    195\n",
              " 2    192\n",
              " 3    183\n",
              " 1    170\n",
              " Name: Seasons, dtype: int64, 4    0.263514\n",
              " 2    0.259459\n",
              " 3    0.247297\n",
              " 1    0.229730\n",
              " Name: Seasons, dtype: float64)"
            ]
          },
          "metadata": {},
          "execution_count": 29
        }
      ]
    },
    {
      "cell_type": "code",
      "source": [
        "distribution_plot('Seasons')"
      ],
      "metadata": {
        "colab": {
          "base_uri": "https://localhost:8080/",
          "height": 480
        },
        "id": "rVJNF9APeTWr",
        "outputId": "534115f7-999d-4d0f-ab75-3b393fa0152a"
      },
      "execution_count": 30,
      "outputs": [
        {
          "output_type": "stream",
          "name": "stderr",
          "text": [
            "/usr/local/lib/python3.7/dist-packages/seaborn/_decorators.py:43: FutureWarning: Pass the following variable as a keyword arg: x. From version 0.12, the only valid positional argument will be `data`, and passing other arguments without an explicit keyword will result in an error or misinterpretation.\n",
            "  FutureWarning\n"
          ]
        },
        {
          "output_type": "execute_result",
          "data": {
            "text/plain": [
              "4    195\n",
              "2    192\n",
              "3    183\n",
              "1    170\n",
              "Name: Seasons, dtype: int64"
            ]
          },
          "metadata": {},
          "execution_count": 30
        },
        {
          "output_type": "display_data",
          "data": {
            "text/plain": [
              "<Figure size 1440x360 with 2 Axes>"
            ],
            "image/png": "[encoded data removed]"
          },
          "metadata": {
            "needs_background": "light"
          }
        }
      ]
    },
    {
      "cell_type": "code",
      "source": [
        "sum_categorical('Disciplinary failure')"
      ],
      "metadata": {
        "colab": {
          "base_uri": "https://localhost:8080/"
        },
        "id": "mDWXmLnhZc6H",
        "outputId": "7ce64574-cbe2-4ded-e615-741cb42b334c"
      },
      "execution_count": 31,
      "outputs": [
        {
          "output_type": "execute_result",
          "data": {
            "text/plain": [
              "(0    700\n",
              " 1     40\n",
              " Name: Disciplinary failure, dtype: int64, 0    0.945946\n",
              " 1    0.054054\n",
              " Name: Disciplinary failure, dtype: float64)"
            ]
          },
          "metadata": {},
          "execution_count": 31
        }
      ]
    },
    {
      "cell_type": "code",
      "source": [
        "distribution_plot('Disciplinary failure')"
      ],
      "metadata": {
        "colab": {
          "base_uri": "https://localhost:8080/",
          "height": 444
        },
        "id": "i2ZMdhIieW87",
        "outputId": "0af8ff1b-6944-4354-b964-f2efe3786cb7"
      },
      "execution_count": 32,
      "outputs": [
        {
          "output_type": "stream",
          "name": "stderr",
          "text": [
            "/usr/local/lib/python3.7/dist-packages/seaborn/_decorators.py:43: FutureWarning: Pass the following variable as a keyword arg: x. From version 0.12, the only valid positional argument will be `data`, and passing other arguments without an explicit keyword will result in an error or misinterpretation.\n",
            "  FutureWarning\n"
          ]
        },
        {
          "output_type": "execute_result",
          "data": {
            "text/plain": [
              "0    700\n",
              "1     40\n",
              "Name: Disciplinary failure, dtype: int64"
            ]
          },
          "metadata": {},
          "execution_count": 32
        },
        {
          "output_type": "display_data",
          "data": {
            "text/plain": [
              "<Figure size 1440x360 with 2 Axes>"
            ],
            "image/png": "[encoded data removed]"
          },
          "metadata": {
            "needs_background": "light"
          }
        }
      ]
    },
    {
      "cell_type": "code",
      "source": [
        "sum_categorical('Education')"
      ],
      "metadata": {
        "colab": {
          "base_uri": "https://localhost:8080/"
        },
        "id": "BRJBlWQwZw83",
        "outputId": "fcd1a1d3-3b72-4166-e549-59b3e715aab7"
      },
      "execution_count": 33,
      "outputs": [
        {
          "output_type": "execute_result",
          "data": {
            "text/plain": [
              "(1    611\n",
              " 3     79\n",
              " 2     46\n",
              " 4      4\n",
              " Name: Education, dtype: int64, 1    0.825676\n",
              " 3    0.106757\n",
              " 2    0.062162\n",
              " 4    0.005405\n",
              " Name: Education, dtype: float64)"
            ]
          },
          "metadata": {},
          "execution_count": 33
        }
      ]
    },
    {
      "cell_type": "code",
      "source": [
        "distribution_plot('Education')"
      ],
      "metadata": {
        "colab": {
          "base_uri": "https://localhost:8080/",
          "height": 480
        },
        "id": "0Btk-8Vyeazj",
        "outputId": "0983d778-11cd-4b06-85d9-ac26ba50ef04"
      },
      "execution_count": 34,
      "outputs": [
        {
          "output_type": "stream",
          "name": "stderr",
          "text": [
            "/usr/local/lib/python3.7/dist-packages/seaborn/_decorators.py:43: FutureWarning: Pass the following variable as a keyword arg: x. From version 0.12, the only valid positional argument will be `data`, and passing other arguments without an explicit keyword will result in an error or misinterpretation.\n",
            "  FutureWarning\n"
          ]
        },
        {
          "output_type": "execute_result",
          "data": {
            "text/plain": [
              "1    611\n",
              "3     79\n",
              "2     46\n",
              "4      4\n",
              "Name: Education, dtype: int64"
            ]
          },
          "metadata": {},
          "execution_count": 34
        },
        {
          "output_type": "display_data",
          "data": {
            "text/plain": [
              "<Figure size 1440x360 with 2 Axes>"
            ],
            "image/png": "[encoded data removed]"
          },
          "metadata": {
            "needs_background": "light"
          }
        }
      ]
    },
    {
      "cell_type": "code",
      "source": [
        "sum_categorical('Social drinker')"
      ],
      "metadata": {
        "colab": {
          "base_uri": "https://localhost:8080/"
        },
        "id": "qETQ6VNdZ7B_",
        "outputId": "043c3adc-2675-4c36-f256-c557f1d465e0"
      },
      "execution_count": 35,
      "outputs": [
        {
          "output_type": "execute_result",
          "data": {
            "text/plain": [
              "(1    420\n",
              " 0    320\n",
              " Name: Social drinker, dtype: int64, 1    0.567568\n",
              " 0    0.432432\n",
              " Name: Social drinker, dtype: float64)"
            ]
          },
          "metadata": {},
          "execution_count": 35
        }
      ]
    },
    {
      "cell_type": "code",
      "source": [
        "distribution_plot('Social drinker')"
      ],
      "metadata": {
        "colab": {
          "base_uri": "https://localhost:8080/",
          "height": 444
        },
        "id": "xtEUOCwleeZR",
        "outputId": "2c72111c-f745-4213-c2f4-dfb2a39d5d6a"
      },
      "execution_count": 36,
      "outputs": [
        {
          "output_type": "stream",
          "name": "stderr",
          "text": [
            "/usr/local/lib/python3.7/dist-packages/seaborn/_decorators.py:43: FutureWarning: Pass the following variable as a keyword arg: x. From version 0.12, the only valid positional argument will be `data`, and passing other arguments without an explicit keyword will result in an error or misinterpretation.\n",
            "  FutureWarning\n"
          ]
        },
        {
          "output_type": "execute_result",
          "data": {
            "text/plain": [
              "1    420\n",
              "0    320\n",
              "Name: Social drinker, dtype: int64"
            ]
          },
          "metadata": {},
          "execution_count": 36
        },
        {
          "output_type": "display_data",
          "data": {
            "text/plain": [
              "<Figure size 1440x360 with 2 Axes>"
            ],
            "image/png": "[encoded data removed]"
          },
          "metadata": {
            "needs_background": "light"
          }
        }
      ]
    },
    {
      "cell_type": "code",
      "source": [
        "sum_categorical('Social smoker')"
      ],
      "metadata": {
        "colab": {
          "base_uri": "https://localhost:8080/"
        },
        "id": "dkEyIoLHZ7I2",
        "outputId": "7eb4d45b-9f0b-4444-f408-fe50c925249e"
      },
      "execution_count": 37,
      "outputs": [
        {
          "output_type": "execute_result",
          "data": {
            "text/plain": [
              "(0    686\n",
              " 1     54\n",
              " Name: Social smoker, dtype: int64, 0    0.927027\n",
              " 1    0.072973\n",
              " Name: Social smoker, dtype: float64)"
            ]
          },
          "metadata": {},
          "execution_count": 37
        }
      ]
    },
    {
      "cell_type": "code",
      "source": [
        "distribution_plot('Social smoker')"
      ],
      "metadata": {
        "colab": {
          "base_uri": "https://localhost:8080/",
          "height": 444
        },
        "id": "jZXBwoHIZ2El",
        "outputId": "564a9372-10e4-4258-b1b0-fb319564f9c9"
      },
      "execution_count": 38,
      "outputs": [
        {
          "output_type": "stream",
          "name": "stderr",
          "text": [
            "/usr/local/lib/python3.7/dist-packages/seaborn/_decorators.py:43: FutureWarning: Pass the following variable as a keyword arg: x. From version 0.12, the only valid positional argument will be `data`, and passing other arguments without an explicit keyword will result in an error or misinterpretation.\n",
            "  FutureWarning\n"
          ]
        },
        {
          "output_type": "execute_result",
          "data": {
            "text/plain": [
              "0    686\n",
              "1     54\n",
              "Name: Social smoker, dtype: int64"
            ]
          },
          "metadata": {},
          "execution_count": 38
        },
        {
          "output_type": "display_data",
          "data": {
            "text/plain": [
              "<Figure size 1440x360 with 2 Axes>"
            ],
            "image/png": "[encoded data removed]"
          },
          "metadata": {
            "needs_background": "light"
          }
        }
      ]
    },
    {
      "cell_type": "markdown",
      "source": [
        "## Correlation Analysis"
      ],
      "metadata": {
        "id": "NMpFu3XnlQoe"
      }
    },
    {
      "cell_type": "code",
      "source": [
        "# Correlation Heatmap\n",
        "numerics_df = Absence_df[[\"Transportation expense\", \"Distance from Residence to Work\", \"Service time\", \"Age\", \"Work load Average/day \", \"Hit target\", \"Son\", \"Pet\", \"Weight\", \"Height\", \"Body mass index\", \"Absenteeism time in hours\"]]\n",
        "corr_matrix = numerics_df.corr()\n",
        "plt.figure(figsize=(10, 10))\n",
        "norm = plt.Normalize(-1,1)\n",
        "heatmap = sns.heatmap(corr_matrix, annot=False,cmap='RdBu',norm=norm)\n",
        "heatmap.set_title('Correlation Heatmap of Numeric Variables', fontdict={'fontsize':12}, pad=12)"
      ],
      "metadata": {
        "colab": {
          "base_uri": "https://localhost:8080/",
          "height": 787
        },
        "id": "bP8bmb1eeoh6",
        "outputId": "bfb982e0-8187-4b75-d037-4818d86b043d"
      },
      "execution_count": 39,
      "outputs": [
        {
          "output_type": "execute_result",
          "data": {
            "text/plain": [
              "Text(0.5, 1.0, 'Correlation Heatmap of Numeric Variables')"
            ]
          },
          "metadata": {},
          "execution_count": 39
        },
        {
          "output_type": "display_data",
          "data": {
            "text/plain": [
              "<Figure size 720x720 with 2 Axes>"
            ],
            "image/png": "[encoded data removed]"
          },
          "metadata": {
            "needs_background": "light"
          }
        }
      ]
    },
    {
      "cell_type": "markdown",
      "source": [
        "## Relationships of Dependent Variable and Important Features"
      ],
      "metadata": {
        "id": "d7icr99wnsik"
      }
    },
    {
      "cell_type": "code",
      "source": [
        "from sklearn.pipeline import make_pipeline\n",
        "from sklearn.preprocessing import StandardScaler\n",
        "from sklearn.ensemble import RandomForestRegressor\n",
        "# define dataset\n",
        "y = Absence_df[['Absenteeism time in hours']]\n",
        "X = Absence_df.drop(['Absenteeism time in hours', 'ID'], axis=1)\n",
        "# define the model\n",
        "pipe_lr = make_pipeline(StandardScaler(), RandomForestRegressor(n_estimators=100))\n",
        "# fit the model\n",
        "pipe_lr.fit(X, y)\n",
        "# summarize feature importance\n",
        "features = pd.Series(pipe_lr.steps[1][1].feature_importances_, index=list(X.columns)).sort_values(ascending=False)\n",
        "features"
      ],
      "metadata": {
        "colab": {
          "base_uri": "https://localhost:8080/"
        },
        "id": "2gwHrv6cdFXr",
        "outputId": "1efd0bcc-0fdf-46d9-9743-e32d02ea4a1d"
      },
      "execution_count": 40,
      "outputs": [
        {
          "output_type": "stream",
          "name": "stderr",
          "text": [
            "/usr/local/lib/python3.7/dist-packages/sklearn/pipeline.py:394: DataConversionWarning: A column-vector y was passed when a 1d array was expected. Please change the shape of y to (n_samples,), for example using ravel().\n",
            "  self._final_estimator.fit(Xt, y, **fit_params_last_step)\n"
          ]
        },
        {
          "output_type": "execute_result",
          "data": {
            "text/plain": [
              "Reason for absence                 0.237273\n",
              "Work load Average/day              0.153891\n",
              "Month of absence                   0.102698\n",
              "Age                                0.098142\n",
              "Day of the week                    0.097827\n",
              "Height                             0.060768\n",
              "Hit target                         0.056402\n",
              "Seasons                            0.040865\n",
              "Transportation expense             0.039715\n",
              "Weight                             0.031846\n",
              "Distance from Residence to Work    0.018871\n",
              "Son                                0.016604\n",
              "Pet                                0.011694\n",
              "Service time                       0.011515\n",
              "Body mass index                    0.008925\n",
              "Social drinker                     0.006808\n",
              "Education                          0.003141\n",
              "Social smoker                      0.002685\n",
              "Disciplinary failure               0.000329\n",
              "dtype: float64"
            ]
          },
          "metadata": {},
          "execution_count": 40
        }
      ]
    },
    {
      "cell_type": "markdown",
      "source": [
        "### Continuous Variables"
      ],
      "metadata": {
        "id": "XWmDF0Swn-0E"
      }
    },
    {
      "cell_type": "code",
      "source": [
        "plt.figure(figsize=(14,6))\n",
        "sns.lineplot(data=Absence_df, x='Work load Average/day ', y='Absenteeism time in hours', palette=sns.color_palette('GnBu'))\n",
        "plt.title('Workload Average Vs. Absenteeism Time ', fontsize = 15)"
      ],
      "metadata": {
        "colab": {
          "base_uri": "https://localhost:8080/",
          "height": 424
        },
        "id": "Y__g_sMmjb-R",
        "outputId": "fcaac70c-c060-497e-f54d-304e5ab393d1"
      },
      "execution_count": 41,
      "outputs": [
        {
          "output_type": "execute_result",
          "data": {
            "text/plain": [
              "Text(0.5, 1.0, 'Workload Average Vs. Absenteeism Time ')"
            ]
          },
          "metadata": {},
          "execution_count": 41
        },
        {
          "output_type": "display_data",
          "data": {
            "text/plain": [
              "<Figure size 1008x432 with 1 Axes>"
            ],
            "image/png": "[encoded data removed]"
          },
          "metadata": {
            "needs_background": "light"
          }
        }
      ]
    },
    {
      "cell_type": "code",
      "source": [
        "plt.figure(figsize=(14,6))\n",
        "sns.lineplot(data=Absence_df, x='Age', y='Absenteeism time in hours', palette=sns.color_palette('GnBu'))\n",
        "plt.title('Age Vs. Absenteeism Time ', fontsize = 15)"
      ],
      "metadata": {
        "colab": {
          "base_uri": "https://localhost:8080/",
          "height": 424
        },
        "id": "FIxy3VCHjkqi",
        "outputId": "807b3d59-7e5d-47c4-b996-32c89a7159d5"
      },
      "execution_count": 42,
      "outputs": [
        {
          "output_type": "execute_result",
          "data": {
            "text/plain": [
              "Text(0.5, 1.0, 'Age Vs. Absenteeism Time ')"
            ]
          },
          "metadata": {},
          "execution_count": 42
        },
        {
          "output_type": "display_data",
          "data": {
            "text/plain": [
              "<Figure size 1008x432 with 1 Axes>"
            ],
            "image/png": "[encoded data removed]"
          },
          "metadata": {
            "needs_background": "light"
          }
        }
      ]
    },
    {
      "cell_type": "markdown",
      "source": [
        "### Categorical Variables"
      ],
      "metadata": {
        "id": "pARhWH3dDe1K"
      }
    },
    {
      "cell_type": "code",
      "source": [
        "plt.figure(figsize=(14,6))\n",
        "sns.boxplot(data=Absence_df, x='Reason for absence', y='Absenteeism time in hours', palette=sns.color_palette('GnBu'))\n",
        "plt.title('Reason for absence Vs. Absenteeism Time ', fontsize = 15)"
      ],
      "metadata": {
        "id": "RPLBlS6kDioa",
        "colab": {
          "base_uri": "https://localhost:8080/",
          "height": 424
        },
        "outputId": "b8115b1f-17ed-42ee-b278-5af2e46b217d"
      },
      "execution_count": 43,
      "outputs": [
        {
          "output_type": "execute_result",
          "data": {
            "text/plain": [
              "Text(0.5, 1.0, 'Reason for absence Vs. Absenteeism Time ')"
            ]
          },
          "metadata": {},
          "execution_count": 43
        },
        {
          "output_type": "display_data",
          "data": {
            "text/plain": [
              "<Figure size 1008x432 with 1 Axes>"
            ],
            "image/png": "[encoded data removed]"
          },
          "metadata": {
            "needs_background": "light"
          }
        }
      ]
    },
    {
      "cell_type": "code",
      "source": [
        "plt.figure(figsize=(14,6))\n",
        "sns.boxplot(data=Absence_df, x='Month of absence', y='Absenteeism time in hours', palette=sns.color_palette('GnBu'))\n",
        "plt.title('Month of absence Vs. Absenteeism Time ', fontsize = 15)"
      ],
      "metadata": {
        "colab": {
          "base_uri": "https://localhost:8080/",
          "height": 424
        },
        "id": "y3Ln-nMVgzpw",
        "outputId": "be792ab6-aaaf-4a1f-c926-495f44e5edcb"
      },
      "execution_count": 44,
      "outputs": [
        {
          "output_type": "execute_result",
          "data": {
            "text/plain": [
              "Text(0.5, 1.0, 'Month of absence Vs. Absenteeism Time ')"
            ]
          },
          "metadata": {},
          "execution_count": 44
        },
        {
          "output_type": "display_data",
          "data": {
            "text/plain": [
              "<Figure size 1008x432 with 1 Axes>"
            ],
            "image/png": "[encoded data removed]"
          },
          "metadata": {
            "needs_background": "light"
          }
        }
      ]
    },
    {
      "cell_type": "code",
      "source": [
        "plt.figure(figsize=(14,6))\n",
        "sns.boxplot(data=Absence_df, x='Day of the week', y='Absenteeism time in hours', palette=sns.color_palette('GnBu'))\n",
        "plt.title('Day of week Vs. Absenteeism Time ', fontsize = 15)"
      ],
      "metadata": {
        "id": "PcKng3iwSx8K",
        "colab": {
          "base_uri": "https://localhost:8080/",
          "height": 424
        },
        "outputId": "7f2d3db1-2ab2-433a-f843-2486de8b8e9d"
      },
      "execution_count": 45,
      "outputs": [
        {
          "output_type": "execute_result",
          "data": {
            "text/plain": [
              "Text(0.5, 1.0, 'Day of week Vs. Absenteeism Time ')"
            ]
          },
          "metadata": {},
          "execution_count": 45
        },
        {
          "output_type": "display_data",
          "data": {
            "text/plain": [
              "<Figure size 1008x432 with 1 Axes>"
            ],
            "image/png": "[encoded data removed]"
          },
          "metadata": {
            "needs_background": "light"
          }
        }
      ]
    },
    {
      "cell_type": "markdown",
      "source": [
        "## Phase II : Model Development"
      ],
      "metadata": {
        "id": "M3ZxJfqEkYZl"
      }
    },
    {
      "cell_type": "markdown",
      "source": [
        "## Machine Learning Model Building Preparation"
      ],
      "metadata": {
        "id": "xlC_nGFn-SY5"
      }
    },
    {
      "cell_type": "markdown",
      "source": [
        "### Label Encode"
      ],
      "metadata": {
        "id": "l6vfGTiJySjt"
      }
    },
    {
      "cell_type": "markdown",
      "source": [
        "#### get_dummies"
      ],
      "metadata": {
        "id": "yAjhfLM56Tb6"
      }
    },
    {
      "cell_type": "code",
      "source": [
        "categorical_cols = ['Reason for absence', 'Month of absence', 'Day of the week', 'Seasons', 'Education']\n",
        "Absence_df = pd.get_dummies(Absence_df, columns = categorical_cols)"
      ],
      "metadata": {
        "id": "v-NQLolv6XoT"
      },
      "execution_count": 46,
      "outputs": []
    },
    {
      "cell_type": "code",
      "source": [
        "Absence_df.head(5)"
      ],
      "metadata": {
        "id": "RLZIS7xc20tm",
        "outputId": "eb4ce5c0-4006-4122-ad44-f57f2adab31d",
        "colab": {
          "base_uri": "https://localhost:8080/",
          "height": 351
        }
      },
      "execution_count": 47,
      "outputs": [
        {
          "output_type": "execute_result",
          "data": {
            "text/plain": [
              "   ID  Transportation expense  Distance from Residence to Work  Service time  \\\n",
              "0  11                     289                               36            13   \n",
              "1  36                     118                               13            18   \n",
              "2   3                     179                               51            18   \n",
              "3   7                     279                                5            14   \n",
              "4  11                     289                               36            13   \n",
              "\n",
              "   Age  Work load Average/day   Hit target  Disciplinary failure  Son  \\\n",
              "0   33                  239554          97                     0    2   \n",
              "1   50                  239554          97                     1    1   \n",
              "2   38                  239554          97                     0    0   \n",
              "3   39                  239554          97                     0    2   \n",
              "4   33                  239554          97                     0    2   \n",
              "\n",
              "   Social drinker  ...  Day of the week_5  Day of the week_6  Seasons_1  \\\n",
              "0               1  ...                  0                  0          1   \n",
              "1               1  ...                  0                  0          1   \n",
              "2               1  ...                  0                  0          1   \n",
              "3               1  ...                  1                  0          1   \n",
              "4               1  ...                  1                  0          1   \n",
              "\n",
              "   Seasons_2  Seasons_3  Seasons_4  Education_1  Education_2  Education_3  \\\n",
              "0          0          0          0            1            0            0   \n",
              "1          0          0          0            1            0            0   \n",
              "2          0          0          0            1            0            0   \n",
              "3          0          0          0            1            0            0   \n",
              "4          0          0          0            1            0            0   \n",
              "\n",
              "   Education_4  \n",
              "0            0  \n",
              "1            0  \n",
              "2            0  \n",
              "3            0  \n",
              "4            0  \n",
              "\n",
              "[5 rows x 70 columns]"
            ],
            "text/html": [
              "\n",
              "  <div id=\"df-307aec56-2f3c-4d1e-a6a6-5a99d0c5375c\">\n",
              "    <div class=\"colab-df-container\">\n",
              "      <div>\n",
              "<style scoped>\n",
              "    .dataframe tbody tr th:only-of-type {\n",
              "        vertical-align: middle;\n",
              "    }\n",
              "\n",
              "    .dataframe tbody tr th {\n",
              "        vertical-align: top;\n",
              "    }\n",
              "\n",
              "    .dataframe thead th {\n",
              "        text-align: right;\n",
              "    }\n",
              "</style>\n",
              "<table border=\"1\" class=\"dataframe\">\n",
              "  <thead>\n",
              "    <tr style=\"text-align: right;\">\n",
              "      <th></th>\n",
              "      <th>ID</th>\n",
              "      <th>Transportation expense</th>\n",
              "      <th>Distance from Residence to Work</th>\n",
              "      <th>Service time</th>\n",
              "      <th>Age</th>\n",
              "      <th>Work load Average/day</th>\n",
              "      <th>Hit target</th>\n",
              "      <th>Disciplinary failure</th>\n",
              "      <th>Son</th>\n",
              "      <th>Social drinker</th>\n",
              "      <th>...</th>\n",
              "      <th>Day of the week_5</th>\n",
              "      <th>Day of the week_6</th>\n",
              "      <th>Seasons_1</th>\n",
              "      <th>Seasons_2</th>\n",
              "      <th>Seasons_3</th>\n",
              "      <th>Seasons_4</th>\n",
              "      <th>Education_1</th>\n",
              "      <th>Education_2</th>\n",
              "      <th>Education_3</th>\n",
              "      <th>Education_4</th>\n",
              "    </tr>\n",
              "  </thead>\n",
              "  <tbody>\n",
              "    <tr>\n",
              "      <th>0</th>\n",
              "      <td>11</td>\n",
              "      <td>289</td>\n",
              "      <td>36</td>\n",
              "      <td>13</td>\n",
              "      <td>33</td>\n",
              "      <td>239554</td>\n",
              "      <td>97</td>\n",
              "      <td>0</td>\n",
              "      <td>2</td>\n",
              "      <td>1</td>\n",
              "      <td>...</td>\n",
              "      <td>0</td>\n",
              "      <td>0</td>\n",
              "      <td>1</td>\n",
              "      <td>0</td>\n",
              "      <td>0</td>\n",
              "      <td>0</td>\n",
              "      <td>1</td>\n",
              "      <td>0</td>\n",
              "      <td>0</td>\n",
              "      <td>0</td>\n",
              "    </tr>\n",
              "    <tr>\n",
              "      <th>1</th>\n",
              "      <td>36</td>\n",
              "      <td>118</td>\n",
              "      <td>13</td>\n",
              "      <td>18</td>\n",
              "      <td>50</td>\n",
              "      <td>239554</td>\n",
              "      <td>97</td>\n",
              "      <td>1</td>\n",
              "      <td>1</td>\n",
              "      <td>1</td>\n",
              "      <td>...</td>\n",
              "      <td>0</td>\n",
              "      <td>0</td>\n",
              "      <td>1</td>\n",
              "      <td>0</td>\n",
              "      <td>0</td>\n",
              "      <td>0</td>\n",
              "      <td>1</td>\n",
              "      <td>0</td>\n",
              "      <td>0</td>\n",
              "      <td>0</td>\n",
              "    </tr>\n",
              "    <tr>\n",
              "      <th>2</th>\n",
              "      <td>3</td>\n",
              "      <td>179</td>\n",
              "      <td>51</td>\n",
              "      <td>18</td>\n",
              "      <td>38</td>\n",
              "      <td>239554</td>\n",
              "      <td>97</td>\n",
              "      <td>0</td>\n",
              "      <td>0</td>\n",
              "      <td>1</td>\n",
              "      <td>...</td>\n",
              "      <td>0</td>\n",
              "      <td>0</td>\n",
              "      <td>1</td>\n",
              "      <td>0</td>\n",
              "      <td>0</td>\n",
              "      <td>0</td>\n",
              "      <td>1</td>\n",
              "      <td>0</td>\n",
              "      <td>0</td>\n",
              "      <td>0</td>\n",
              "    </tr>\n",
              "    <tr>\n",
              "      <th>3</th>\n",
              "      <td>7</td>\n",
              "      <td>279</td>\n",
              "      <td>5</td>\n",
              "      <td>14</td>\n",
              "      <td>39</td>\n",
              "      <td>239554</td>\n",
              "      <td>97</td>\n",
              "      <td>0</td>\n",
              "      <td>2</td>\n",
              "      <td>1</td>\n",
              "      <td>...</td>\n",
              "      <td>1</td>\n",
              "      <td>0</td>\n",
              "      <td>1</td>\n",
              "      <td>0</td>\n",
              "      <td>0</td>\n",
              "      <td>0</td>\n",
              "      <td>1</td>\n",
              "      <td>0</td>\n",
              "      <td>0</td>\n",
              "      <td>0</td>\n",
              "    </tr>\n",
              "    <tr>\n",
              "      <th>4</th>\n",
              "      <td>11</td>\n",
              "      <td>289</td>\n",
              "      <td>36</td>\n",
              "      <td>13</td>\n",
              "      <td>33</td>\n",
              "      <td>239554</td>\n",
              "      <td>97</td>\n",
              "      <td>0</td>\n",
              "      <td>2</td>\n",
              "      <td>1</td>\n",
              "      <td>...</td>\n",
              "      <td>1</td>\n",
              "      <td>0</td>\n",
              "      <td>1</td>\n",
              "      <td>0</td>\n",
              "      <td>0</td>\n",
              "      <td>0</td>\n",
              "      <td>1</td>\n",
              "      <td>0</td>\n",
              "      <td>0</td>\n",
              "      <td>0</td>\n",
              "    </tr>\n",
              "  </tbody>\n",
              "</table>\n",
              "<p>5 rows × 70 columns</p>\n",
              "</div>\n",
              "      <button class=\"colab-df-convert\" onclick=\"convertToInteractive('df-307aec56-2f3c-4d1e-a6a6-5a99d0c5375c')\"\n",
              "              title=\"Convert this dataframe to an interactive table.\"\n",
              "              style=\"display:none;\">\n",
              "        \n",
              "  <svg xmlns=\"http://www.w3.org/2000/svg\" height=\"24px\"viewBox=\"0 0 24 24\"\n",
              "       width=\"24px\">\n",
              "    <path d=\"M0 0h24v24H0V0z\" fill=\"none\"/>\n",
              "    <path d=\"M18.56 5.44l.94 2.06.94-2.06 2.06-.94-2.06-.94-.94-2.06-.94 2.06-2.06.94zm-11 1L8.5 8.5l.94-2.06 2.06-.94-2.06-.94L8.5 2.5l-.94 2.06-2.06.94zm10 10l.94 2.06.94-2.06 2.06-.94-2.06-.94-.94-2.06-.94 2.06-2.06.94z\"/><path d=\"M17.41 7.96l-1.37-1.37c-.4-.4-.92-.59-1.43-.59-.52 0-1.04.2-1.43.59L10.3 9.45l-7.72 7.72c-.78.78-.78 2.05 0 2.83L4 21.41c.39.39.9.59 1.41.59.51 0 1.02-.2 1.41-.59l7.78-7.78 2.81-2.81c.8-.78.8-2.07 0-2.86zM5.41 20L4 18.59l7.72-7.72 1.47 1.35L5.41 20z\"/>\n",
              "  </svg>\n",
              "      </button>\n",
              "      \n",
              "  <style>\n",
              "    .colab-df-container {\n",
              "      display:flex;\n",
              "      flex-wrap:wrap;\n",
              "      gap: 12px;\n",
              "    }\n",
              "\n",
              "    .colab-df-convert {\n",
              "      background-color: #E8F0FE;\n",
              "      border: none;\n",
              "      border-radius: 50%;\n",
              "      cursor: pointer;\n",
              "      display: none;\n",
              "      fill: #1967D2;\n",
              "      height: 32px;\n",
              "      padding: 0 0 0 0;\n",
              "      width: 32px;\n",
              "    }\n",
              "\n",
              "    .colab-df-convert:hover {\n",
              "      background-color: #E2EBFA;\n",
              "      box-shadow: 0px 1px 2px rgba(60, 64, 67, 0.3), 0px 1px 3px 1px rgba(60, 64, 67, 0.15);\n",
              "      fill: #174EA6;\n",
              "    }\n",
              "\n",
              "    [theme=dark] .colab-df-convert {\n",
              "      background-color: #3B4455;\n",
              "      fill: #D2E3FC;\n",
              "    }\n",
              "\n",
              "    [theme=dark] .colab-df-convert:hover {\n",
              "      background-color: #434B5C;\n",
              "      box-shadow: 0px 1px 3px 1px rgba(0, 0, 0, 0.15);\n",
              "      filter: drop-shadow(0px 1px 2px rgba(0, 0, 0, 0.3));\n",
              "      fill: #FFFFFF;\n",
              "    }\n",
              "  </style>\n",
              "\n",
              "      <script>\n",
              "        const buttonEl =\n",
              "          document.querySelector('#df-307aec56-2f3c-4d1e-a6a6-5a99d0c5375c button.colab-df-convert');\n",
              "        buttonEl.style.display =\n",
              "          google.colab.kernel.accessAllowed ? 'block' : 'none';\n",
              "\n",
              "        async function convertToInteractive(key) {\n",
              "          const element = document.querySelector('#df-307aec56-2f3c-4d1e-a6a6-5a99d0c5375c');\n",
              "          const dataTable =\n",
              "            await google.colab.kernel.invokeFunction('convertToInteractive',\n",
              "                                                     [key], {});\n",
              "          if (!dataTable) return;\n",
              "\n",
              "          const docLinkHtml = 'Like what you see? Visit the ' +\n",
              "            '<a target=\"_blank\" href=https://colab.research.google.com/notebooks/data_table.ipynb>data table notebook</a>'\n",
              "            + ' to learn more about interactive tables.';\n",
              "          element.innerHTML = '';\n",
              "          dataTable['output_type'] = 'display_data';\n",
              "          await google.colab.output.renderOutput(dataTable, element);\n",
              "          const docLink = document.createElement('div');\n",
              "          docLink.innerHTML = docLinkHtml;\n",
              "          element.appendChild(docLink);\n",
              "        }\n",
              "      </script>\n",
              "    </div>\n",
              "  </div>\n",
              "  "
            ]
          },
          "metadata": {},
          "execution_count": 47
        }
      ]
    },
    {
      "cell_type": "markdown",
      "source": [
        "### Outliers Removal"
      ],
      "metadata": {
        "id": "6CpVogkdzVdH"
      }
    },
    {
      "cell_type": "code",
      "source": [
        "plt.figure(figsize=(14,6))\n",
        "Absence_df['Absenteeism time in hours'].value_counts().plot(kind='bar')\n",
        "plt.title('Frequency of Absenteeism Time ', fontsize = 15)\n",
        "plt.xlabel('Absenteeism Time')\n",
        "plt.ylabel('Frequency')\n",
        "plt.xticks(rotation=0)"
      ],
      "metadata": {
        "colab": {
          "base_uri": "https://localhost:8080/",
          "height": 442
        },
        "id": "6UZm-sPCqqS1",
        "outputId": "c9cfcded-6308-479f-ee51-8777124ab467"
      },
      "execution_count": 48,
      "outputs": [
        {
          "output_type": "execute_result",
          "data": {
            "text/plain": [
              "(array([ 0,  1,  2,  3,  4,  5,  6,  7,  8,  9, 10, 11, 12, 13, 14, 15, 16,\n",
              "        17, 18]), <a list of 19 Text major ticklabel objects>)"
            ]
          },
          "metadata": {},
          "execution_count": 48
        },
        {
          "output_type": "display_data",
          "data": {
            "text/plain": [
              "<Figure size 1008x432 with 1 Axes>"
            ],
            "image/png": "[encoded data removed]"
          },
          "metadata": {
            "needs_background": "light"
          }
        }
      ]
    },
    {
      "cell_type": "code",
      "source": [
        "# the continuous variables include \"Absenteeism time in hours (target)\", \"Body mass index\",\n",
        "Absence_df = Absence_df[Absence_df['Absenteeism time in hours']<=40]"
      ],
      "metadata": {
        "id": "uqEsMKTqzc7S"
      },
      "execution_count": 49,
      "outputs": []
    },
    {
      "cell_type": "markdown",
      "source": [
        "### Test-train Split"
      ],
      "metadata": {
        "id": "YmUrfUd0ymw1"
      }
    },
    {
      "cell_type": "code",
      "source": [
        "from sklearn.model_selection import train_test_split, KFold, cross_val_score\n",
        "from sklearn.preprocessing import StandardScaler\n",
        "from sklearn.pipeline import Pipeline\n",
        "from sklearn.linear_model import LinearRegression\n",
        "from sklearn.svm import SVR\n",
        "from sklearn.tree import DecisionTreeRegressor\n",
        "from sklearn.ensemble import RandomForestRegressor\n",
        "from sklearn.metrics import mean_squared_error, r2_score"
      ],
      "metadata": {
        "id": "U0Afud578OYO"
      },
      "execution_count": 50,
      "outputs": []
    },
    {
      "cell_type": "code",
      "source": [
        "kf = KFold(n_splits=10, shuffle=True, random_state=23)"
      ],
      "metadata": {
        "id": "oJlaOwkM7AMI"
      },
      "execution_count": 51,
      "outputs": []
    },
    {
      "cell_type": "code",
      "source": [
        "from sklearn.utils.extmath import randomized_range_finder\n",
        "X = Absence_df.drop(columns=['Absenteeism time in hours','ID', 'Weight'])\n",
        "y = Absence_df['Absenteeism time in hours']\n",
        "\n",
        "X_train, X_test, y_train, y_test= train_test_split(X, y, test_size=0.2, random_state=23)"
      ],
      "metadata": {
        "id": "yWSyt3KH9DPx"
      },
      "execution_count": 52,
      "outputs": []
    },
    {
      "cell_type": "markdown",
      "source": [
        "### PCA"
      ],
      "metadata": {
        "id": "_Phg0skl43Ul"
      }
    },
    {
      "cell_type": "code",
      "source": [
        "from sklearn.decomposition import PCA\n",
        "from sklearn.preprocessing import StandardScaler"
      ],
      "metadata": {
        "id": "Xqr00GJHxB34"
      },
      "execution_count": 53,
      "outputs": []
    },
    {
      "cell_type": "code",
      "source": [
        "scaler = StandardScaler()\n",
        "pca = PCA()\n",
        "standard_X_train = scaler.fit_transform(X_train)\n",
        "pca.fit(standard_X_train)\n",
        "explained_variance_ratios = pca.explained_variance_ratio_\n",
        "cum_evr = pca.explained_variance_ratio_.cumsum()"
      ],
      "metadata": {
        "id": "h8spj-fHx05z"
      },
      "execution_count": 54,
      "outputs": []
    },
    {
      "cell_type": "code",
      "source": [
        "cum_evr"
      ],
      "metadata": {
        "colab": {
          "base_uri": "https://localhost:8080/"
        },
        "id": "vEI_ujvlybvO",
        "outputId": "30bacd39-41c8-4b8a-8f0e-e5afb9ea23ad"
      },
      "execution_count": 55,
      "outputs": [
        {
          "output_type": "execute_result",
          "data": {
            "text/plain": [
              "array([0.05758463, 0.1028396 , 0.14350822, 0.18194497, 0.21880655,\n",
              "       0.25068142, 0.27839761, 0.30370762, 0.32750658, 0.3504505 ,\n",
              "       0.37270279, 0.39423061, 0.41516599, 0.43582086, 0.45605647,\n",
              "       0.47598923, 0.49518651, 0.51405499, 0.53260212, 0.55047705,\n",
              "       0.56765242, 0.58444297, 0.60101704, 0.61744032, 0.63331248,\n",
              "       0.64887802, 0.66439056, 0.67977018, 0.69505413, 0.71013243,\n",
              "       0.72515009, 0.74011768, 0.75492321, 0.7694267 , 0.78379464,\n",
              "       0.79772013, 0.81162062, 0.8251129 , 0.83815598, 0.85095015,\n",
              "       0.8635048 , 0.87564794, 0.88757889, 0.89899588, 0.9097155 ,\n",
              "       0.92039496, 0.93026991, 0.9399032 , 0.94902949, 0.95753543,\n",
              "       0.96541474, 0.97189386, 0.97798975, 0.98290672, 0.98680424,\n",
              "       0.99029222, 0.99316841, 0.99563399, 0.99770708, 0.99919154,\n",
              "       1.        , 1.        , 1.        , 1.        , 1.        ,\n",
              "       1.        , 1.        ])"
            ]
          },
          "metadata": {},
          "execution_count": 55
        }
      ]
    },
    {
      "cell_type": "code",
      "source": [
        "plt.figure(figsize=(10,8))\n",
        "plt.plot(range(1,len(cum_evr)+1),cum_evr)\n",
        "plt.xlabel('number of components',fontsize=15)\n",
        "plt.ylabel('cumulative explained variance ratio',fontsize=15)\n",
        "plt.title('Cumulative Explained Variance Ratio',fontsize=15)\n",
        "plt.show()"
      ],
      "metadata": {
        "colab": {
          "base_uri": "https://localhost:8080/",
          "height": 520
        },
        "id": "2Fr6CJI-yVH0",
        "outputId": "716ff8e1-191a-45fc-aacf-9e1fa5d0e6ca"
      },
      "execution_count": 56,
      "outputs": [
        {
          "output_type": "display_data",
          "data": {
            "text/plain": [
              "<Figure size 720x576 with 1 Axes>"
            ],
            "image/png": "[encoded data removed]"
          },
          "metadata": {
            "needs_background": "light"
          }
        }
      ]
    },
    {
      "cell_type": "code",
      "source": [
        "pca = PCA(n_components=50)\n",
        "X_train_pca = pca.fit_transform(standard_X_train)"
      ],
      "metadata": {
        "id": "bkIcNpjexLie"
      },
      "execution_count": 57,
      "outputs": []
    },
    {
      "cell_type": "code",
      "source": [
        "X_test_pca = pca.fit_transform(scaler.fit_transform(X_test))"
      ],
      "metadata": {
        "id": "BU9ekCswyuvH"
      },
      "execution_count": 58,
      "outputs": []
    },
    {
      "cell_type": "markdown",
      "source": [
        "## Models"
      ],
      "metadata": {
        "id": "Qf9upFl5-OE2"
      }
    },
    {
      "cell_type": "markdown",
      "source": [
        "### Linear Regression Model"
      ],
      "metadata": {
        "id": "8oA4if-Z8JuK"
      }
    },
    {
      "cell_type": "code",
      "source": [
        "lr_model = Pipeline([\n",
        "  ('s', StandardScaler()),\n",
        "  ('lr', LinearRegression())\n",
        "])\n",
        "lr_model.fit(X_train, y_train)\n",
        "pred_train = lr_model.predict(X_train)\n",
        "pred_test = lr_model.predict(X_test)\n",
        "\n",
        "print('Train Set: Root Mean Squared Error: %.3f' % np.sqrt(mean_squared_error(y_train, pred_train)))\n",
        "print('Train Set: R2 Score: %.3f' % r2_score(y_train, pred_train))\n",
        "print('Test Set: Root Mean Squared Error: %.3f' % np.sqrt(mean_squared_error(y_test, pred_test)))\n",
        "print('Test Set: R2 Score: %.3f' % r2_score(y_test, pred_test))"
      ],
      "metadata": {
        "colab": {
          "base_uri": "https://localhost:8080/"
        },
        "id": "H0qjVlJe9w_s",
        "outputId": "0bf20f06-6c7b-4f10-fb05-33f04e3c9414"
      },
      "execution_count": 61,
      "outputs": [
        {
          "output_type": "stream",
          "name": "stdout",
          "text": [
            "Train Set: Root Mean Squared Error: 4.886\n",
            "Train Set: R2 Score: 0.393\n",
            "Test Set: Root Mean Squared Error: 5.241\n",
            "Test Set: R2 Score: 0.097\n"
          ]
        }
      ]
    },
    {
      "cell_type": "code",
      "source": [
        "scores = cross_val_score(lr_model, X_train, y_train, cv=kf, scoring = 'neg_mean_squared_error', n_jobs=-1)\n",
        "rmses = np.sqrt(np.abs(scores))\n",
        "\n",
        "print('CV RMSE: %s' % rmses)\n",
        "print('CV RMSE: %.3f +/- %.3f' % (np.mean(rmses), np.std(rmses)))"
      ],
      "metadata": {
        "colab": {
          "base_uri": "https://localhost:8080/"
        },
        "id": "TRrxQfGM_cvz",
        "outputId": "fd7896d1-089b-4af5-82e9-249f53f786b7"
      },
      "execution_count": 62,
      "outputs": [
        {
          "output_type": "stream",
          "name": "stdout",
          "text": [
            "CV RMSE: [3.98479857e+00 5.13036823e+00 5.93424249e+11 4.22606915e+00\n",
            " 2.55141554e+13 5.00153789e+13 8.03787619e+00 3.60693350e+12\n",
            " 6.58253373e+00 6.12550937e+00]\n",
            "CV RMSE: 7972989209329.354 +/- 15906560937907.002\n"
          ]
        }
      ]
    },
    {
      "cell_type": "code",
      "source": [
        "lr_model_pca = Pipeline([\n",
        "  ('s', StandardScaler()),\n",
        "  ('lr', LinearRegression())\n",
        "])\n",
        "lr_model_pca.fit(X_train_pca, y_train)\n",
        "pred_train = lr_model_pca.predict(X_train_pca)\n",
        "pred_test = lr_model_pca.predict(X_test_pca)\n",
        "\n",
        "print('Train Set: Root Mean Squared Error: %.3f' % np.sqrt(mean_squared_error(y_train, pred_train)))\n",
        "print('Train Set: R2 Score: %.3f' % r2_score(y_train, pred_train))\n",
        "print('Test Set: Root Mean Squared Error: %.3f' % np.sqrt(mean_squared_error(y_test, pred_test)))\n",
        "print('Test Set: R2 Score: %.3f' % r2_score(y_test, pred_test))"
      ],
      "metadata": {
        "colab": {
          "base_uri": "https://localhost:8080/"
        },
        "id": "l8GnEzCW5Pxh",
        "outputId": "dd92b6e0-5a3e-4a76-b3db-16dc03dfd9c8"
      },
      "execution_count": 63,
      "outputs": [
        {
          "output_type": "stream",
          "name": "stdout",
          "text": [
            "Train Set: Root Mean Squared Error: 4.928\n",
            "Train Set: R2 Score: 0.383\n",
            "Test Set: Root Mean Squared Error: 7.102\n",
            "Test Set: R2 Score: -0.659\n"
          ]
        }
      ]
    },
    {
      "cell_type": "code",
      "source": [
        "scores = cross_val_score(lr_model_pca, X_train_pca, y_train, cv=kf, scoring = 'neg_mean_squared_error')\n",
        "rmses = np.sqrt(np.abs(scores))\n",
        "\n",
        "print('CV RMSE: %s' % rmses)\n",
        "print('CV RMSE: %.3f +/- %.3f' % (np.mean(rmses), np.std(rmses)))"
      ],
      "metadata": {
        "colab": {
          "base_uri": "https://localhost:8080/"
        },
        "id": "d_M9iYCDHfM4",
        "outputId": "d6f75cb8-68a1-4ebe-f4a7-f61d8846da18"
      },
      "execution_count": 64,
      "outputs": [
        {
          "output_type": "stream",
          "name": "stdout",
          "text": [
            "CV RMSE: [3.66961661 5.17211197 6.18778766 4.277282   4.48067486 4.4874649\n",
            " 8.07498821 9.78093277 6.84026805 5.66668131]\n",
            "CV RMSE: 5.864 +/- 1.815\n"
          ]
        }
      ]
    },
    {
      "cell_type": "markdown",
      "source": [
        "### Support Vector Machine"
      ],
      "metadata": {
        "id": "BEtZewxMKso4"
      }
    },
    {
      "cell_type": "code",
      "source": [
        "svr_model = Pipeline([\n",
        "  ('s', StandardScaler()),\n",
        "  ('svr', SVR(kernel=\"rbf\", epsilon=0.3))\n",
        "])\n",
        "svr_model.fit(X_train, y_train)\n",
        "pred_train = svr_model.predict(X_train)\n",
        "pred_test = svr_model.predict(X_test)\n",
        "\n",
        "print('Train Set: Root Mean Squared Error: %.3f' % np.sqrt(mean_squared_error(y_train, pred_train)))\n",
        "print('Train Set: R2 Score: %.3f' % r2_score(y_train, pred_train))\n",
        "print('Test Set: Root Mean Squared Error: %.3f' % np.sqrt(mean_squared_error(y_test, pred_test)))\n",
        "print('Test Set: R2 Score: %.3f' % r2_score(y_test, pred_test))"
      ],
      "metadata": {
        "colab": {
          "base_uri": "https://localhost:8080/"
        },
        "id": "byFMQDxFKwtR",
        "outputId": "49a2ba20-10d5-4fef-9ef6-feab476acc12"
      },
      "execution_count": 67,
      "outputs": [
        {
          "output_type": "stream",
          "name": "stdout",
          "text": [
            "Train Set: Root Mean Squared Error: 5.479\n",
            "Train Set: R2 Score: 0.237\n",
            "Test Set: Root Mean Squared Error: 4.813\n",
            "Test Set: R2 Score: 0.238\n"
          ]
        }
      ]
    },
    {
      "cell_type": "code",
      "source": [
        "scores = cross_val_score(svr_model, X_train, y_train, cv=kf, scoring = 'neg_mean_squared_error')\n",
        "rmses = np.sqrt(np.abs(scores))\n",
        "\n",
        "print('CV RMSE: %s' % rmses)\n",
        "print('CV RMSE: %.3f +/- %.3f' % (np.mean(rmses), np.std(rmses)))"
      ],
      "metadata": {
        "colab": {
          "base_uri": "https://localhost:8080/"
        },
        "id": "Uc_hAjgLHhvp",
        "outputId": "84dfa572-fd5d-4133-8306-cf960b8e870f"
      },
      "execution_count": 68,
      "outputs": [
        {
          "output_type": "stream",
          "name": "stdout",
          "text": [
            "CV RMSE: [4.17626056 4.98327431 7.03263743 3.60795748 5.46851623 4.35604152\n",
            " 8.78244429 4.38406988 6.9569694  6.02052249]\n",
            "CV RMSE: 5.577 +/- 1.537\n"
          ]
        }
      ]
    },
    {
      "cell_type": "markdown",
      "source": [
        "### Decision Tree Regressor"
      ],
      "metadata": {
        "id": "LbsjVV1hNhOI"
      }
    },
    {
      "cell_type": "code",
      "source": [
        "dtr_model = Pipeline([\n",
        "  (\"s\", StandardScaler()),\n",
        "  ('dtr', DecisionTreeRegressor(max_depth=10))\n",
        "])\n",
        "dtr_model.fit(X_train, y_train)\n",
        "pred_train = dtr_model.predict(X_train)\n",
        "pred_test = dtr_model.predict(X_test)\n",
        "\n",
        "print('Train Set: Root Mean Squared Error: %.3f' % np.sqrt(mean_squared_error(y_train, pred_train)))\n",
        "print('Train Set: R2 Score: %.3f' % r2_score(y_train, pred_train))\n",
        "print('Test Set: Root Mean Squared Error: %.3f' % np.sqrt(mean_squared_error(y_test, pred_test)))\n",
        "print('Test Set: R2 Score: %.3f' % r2_score(y_test, pred_test))"
      ],
      "metadata": {
        "colab": {
          "base_uri": "https://localhost:8080/"
        },
        "id": "38Ir1IIWNmwS",
        "outputId": "a9b0067a-2346-47c4-cbc0-4fbfe9cd36b2"
      },
      "execution_count": 71,
      "outputs": [
        {
          "output_type": "stream",
          "name": "stdout",
          "text": [
            "Train Set: Root Mean Squared Error: 2.504\n",
            "Train Set: R2 Score: 0.841\n",
            "Test Set: Root Mean Squared Error: 8.884\n",
            "Test Set: R2 Score: -1.596\n"
          ]
        }
      ]
    },
    {
      "cell_type": "code",
      "source": [
        "scores = cross_val_score(dtr_model, X_train, y_train, cv=kf, scoring = 'neg_mean_squared_error')\n",
        "rmses = np.sqrt(np.abs(scores))\n",
        "\n",
        "print('CV RMSE: %s' % rmses)\n",
        "print('CV RMSE: %.3f +/- %.3f' % (np.mean(rmses), np.std(rmses)))"
      ],
      "metadata": {
        "colab": {
          "base_uri": "https://localhost:8080/"
        },
        "id": "SBZhsqsSHjMf",
        "outputId": "fe76ad67-35c0-47f8-e02d-ff6414228820"
      },
      "execution_count": 72,
      "outputs": [
        {
          "output_type": "stream",
          "name": "stdout",
          "text": [
            "CV RMSE: [5.9480839  7.63270519 9.00019124 6.27121532 7.08960979 5.01643393\n",
            " 7.93608972 4.30081238 7.95510284 4.63219129]\n",
            "CV RMSE: 6.578 +/- 1.513\n"
          ]
        }
      ]
    },
    {
      "cell_type": "markdown",
      "source": [
        "### Random Forest"
      ],
      "metadata": {
        "id": "VuY1-hzp1huJ"
      }
    },
    {
      "cell_type": "code",
      "source": [
        "rf_model = Pipeline([\n",
        "  (\"s\", StandardScaler()),\n",
        "  ('rf', RandomForestRegressor(n_estimators=50))\n",
        "])\n",
        "rf_model.fit(X_train, y_train)\n",
        "pred_train = rf_model.predict(X_train)\n",
        "pred_test = rf_model.predict(X_test)\n",
        "\n",
        "print('Train Set: Root Mean Squared Error: %.3f' % np.sqrt(mean_squared_error(y_train, pred_train)))\n",
        "print('Train Set: R2 Score: %.3f' % r2_score(y_train, pred_train))\n",
        "print('Test Set: Root Mean Squared Error: %.3f' % np.sqrt(mean_squared_error(y_test, pred_test)))\n",
        "print('Test Set: R2 Score: %.3f' % r2_score(y_test, pred_test))"
      ],
      "metadata": {
        "colab": {
          "base_uri": "https://localhost:8080/"
        },
        "id": "v4ZFaGP21lSG",
        "outputId": "91c4a7f0-99e1-475f-aa77-a84d5a08bfbb"
      },
      "execution_count": 73,
      "outputs": [
        {
          "output_type": "stream",
          "name": "stdout",
          "text": [
            "Train Set: Root Mean Squared Error: 2.225\n",
            "Train Set: R2 Score: 0.874\n",
            "Test Set: Root Mean Squared Error: 5.376\n",
            "Test Set: R2 Score: 0.049\n"
          ]
        }
      ]
    },
    {
      "cell_type": "code",
      "source": [
        "scores = cross_val_score(rf_model, X_train, y_train, cv=kf, scoring = 'neg_mean_squared_error')\n",
        "rmses = np.sqrt(np.abs(scores))\n",
        "\n",
        "print('CV RMSE: %s' % rmses)\n",
        "print('CV RMSE: %.3f +/- %.3f' % (np.mean(rmses), np.std(rmses)))"
      ],
      "metadata": {
        "colab": {
          "base_uri": "https://localhost:8080/"
        },
        "id": "Q5rUP4otHj6t",
        "outputId": "9f85d7ba-828c-4869-f21e-00f2e31fa69a"
      },
      "execution_count": 74,
      "outputs": [
        {
          "output_type": "stream",
          "name": "stdout",
          "text": [
            "CV RMSE: [4.20151634 5.98902606 6.0543092  4.13915761 4.97419998 3.85357606\n",
            " 7.98620448 3.99680902 7.54779712 5.17706862]\n",
            "CV RMSE: 5.392 +/- 1.403\n"
          ]
        }
      ]
    },
    {
      "cell_type": "code",
      "source": [
        "features = pd.Series(rf_model.steps[1][1].feature_importances_, index=list(X.columns)).sort_values(ascending=False)\n",
        "important_features = features.to_frame()\n",
        "important_features.head(10)"
      ],
      "metadata": {
        "colab": {
          "base_uri": "https://localhost:8080/",
          "height": 363
        },
        "id": "_NbIW5iGobw_",
        "outputId": "0973b336-799b-447d-9ba7-df83e2d3b27e"
      },
      "execution_count": 81,
      "outputs": [
        {
          "output_type": "execute_result",
          "data": {
            "text/plain": [
              "                                        0\n",
              "Reason for absence_13            0.075201\n",
              "Work load Average/day            0.074641\n",
              "Transportation expense           0.065704\n",
              "Hit target                       0.059259\n",
              "Reason for absence_19            0.054110\n",
              "Day of the week_2                0.052678\n",
              "Distance from Residence to Work  0.038917\n",
              "Service time                     0.034333\n",
              "Social drinker                   0.033268\n",
              "Reason for absence_9             0.031169"
            ],
            "text/html": [
              "\n",
              "  <div id=\"df-2491939e-7569-4224-8eec-132e05b2830f\">\n",
              "    <div class=\"colab-df-container\">\n",
              "      <div>\n",
              "<style scoped>\n",
              "    .dataframe tbody tr th:only-of-type {\n",
              "        vertical-align: middle;\n",
              "    }\n",
              "\n",
              "    .dataframe tbody tr th {\n",
              "        vertical-align: top;\n",
              "    }\n",
              "\n",
              "    .dataframe thead th {\n",
              "        text-align: right;\n",
              "    }\n",
              "</style>\n",
              "<table border=\"1\" class=\"dataframe\">\n",
              "  <thead>\n",
              "    <tr style=\"text-align: right;\">\n",
              "      <th></th>\n",
              "      <th>0</th>\n",
              "    </tr>\n",
              "  </thead>\n",
              "  <tbody>\n",
              "    <tr>\n",
              "      <th>Reason for absence_13</th>\n",
              "      <td>0.075201</td>\n",
              "    </tr>\n",
              "    <tr>\n",
              "      <th>Work load Average/day</th>\n",
              "      <td>0.074641</td>\n",
              "    </tr>\n",
              "    <tr>\n",
              "      <th>Transportation expense</th>\n",
              "      <td>0.065704</td>\n",
              "    </tr>\n",
              "    <tr>\n",
              "      <th>Hit target</th>\n",
              "      <td>0.059259</td>\n",
              "    </tr>\n",
              "    <tr>\n",
              "      <th>Reason for absence_19</th>\n",
              "      <td>0.054110</td>\n",
              "    </tr>\n",
              "    <tr>\n",
              "      <th>Day of the week_2</th>\n",
              "      <td>0.052678</td>\n",
              "    </tr>\n",
              "    <tr>\n",
              "      <th>Distance from Residence to Work</th>\n",
              "      <td>0.038917</td>\n",
              "    </tr>\n",
              "    <tr>\n",
              "      <th>Service time</th>\n",
              "      <td>0.034333</td>\n",
              "    </tr>\n",
              "    <tr>\n",
              "      <th>Social drinker</th>\n",
              "      <td>0.033268</td>\n",
              "    </tr>\n",
              "    <tr>\n",
              "      <th>Reason for absence_9</th>\n",
              "      <td>0.031169</td>\n",
              "    </tr>\n",
              "  </tbody>\n",
              "</table>\n",
              "</div>\n",
              "      <button class=\"colab-df-convert\" onclick=\"convertToInteractive('df-2491939e-7569-4224-8eec-132e05b2830f')\"\n",
              "              title=\"Convert this dataframe to an interactive table.\"\n",
              "              style=\"display:none;\">\n",
              "        \n",
              "  <svg xmlns=\"http://www.w3.org/2000/svg\" height=\"24px\"viewBox=\"0 0 24 24\"\n",
              "       width=\"24px\">\n",
              "    <path d=\"M0 0h24v24H0V0z\" fill=\"none\"/>\n",
              "    <path d=\"M18.56 5.44l.94 2.06.94-2.06 2.06-.94-2.06-.94-.94-2.06-.94 2.06-2.06.94zm-11 1L8.5 8.5l.94-2.06 2.06-.94-2.06-.94L8.5 2.5l-.94 2.06-2.06.94zm10 10l.94 2.06.94-2.06 2.06-.94-2.06-.94-.94-2.06-.94 2.06-2.06.94z\"/><path d=\"M17.41 7.96l-1.37-1.37c-.4-.4-.92-.59-1.43-.59-.52 0-1.04.2-1.43.59L10.3 9.45l-7.72 7.72c-.78.78-.78 2.05 0 2.83L4 21.41c.39.39.9.59 1.41.59.51 0 1.02-.2 1.41-.59l7.78-7.78 2.81-2.81c.8-.78.8-2.07 0-2.86zM5.41 20L4 18.59l7.72-7.72 1.47 1.35L5.41 20z\"/>\n",
              "  </svg>\n",
              "      </button>\n",
              "      \n",
              "  <style>\n",
              "    .colab-df-container {\n",
              "      display:flex;\n",
              "      flex-wrap:wrap;\n",
              "      gap: 12px;\n",
              "    }\n",
              "\n",
              "    .colab-df-convert {\n",
              "      background-color: #E8F0FE;\n",
              "      border: none;\n",
              "      border-radius: 50%;\n",
              "      cursor: pointer;\n",
              "      display: none;\n",
              "      fill: #1967D2;\n",
              "      height: 32px;\n",
              "      padding: 0 0 0 0;\n",
              "      width: 32px;\n",
              "    }\n",
              "\n",
              "    .colab-df-convert:hover {\n",
              "      background-color: #E2EBFA;\n",
              "      box-shadow: 0px 1px 2px rgba(60, 64, 67, 0.3), 0px 1px 3px 1px rgba(60, 64, 67, 0.15);\n",
              "      fill: #174EA6;\n",
              "    }\n",
              "\n",
              "    [theme=dark] .colab-df-convert {\n",
              "      background-color: #3B4455;\n",
              "      fill: #D2E3FC;\n",
              "    }\n",
              "\n",
              "    [theme=dark] .colab-df-convert:hover {\n",
              "      background-color: #434B5C;\n",
              "      box-shadow: 0px 1px 3px 1px rgba(0, 0, 0, 0.15);\n",
              "      filter: drop-shadow(0px 1px 2px rgba(0, 0, 0, 0.3));\n",
              "      fill: #FFFFFF;\n",
              "    }\n",
              "  </style>\n",
              "\n",
              "      <script>\n",
              "        const buttonEl =\n",
              "          document.querySelector('#df-2491939e-7569-4224-8eec-132e05b2830f button.colab-df-convert');\n",
              "        buttonEl.style.display =\n",
              "          google.colab.kernel.accessAllowed ? 'block' : 'none';\n",
              "\n",
              "        async function convertToInteractive(key) {\n",
              "          const element = document.querySelector('#df-2491939e-7569-4224-8eec-132e05b2830f');\n",
              "          const dataTable =\n",
              "            await google.colab.kernel.invokeFunction('convertToInteractive',\n",
              "                                                     [key], {});\n",
              "          if (!dataTable) return;\n",
              "\n",
              "          const docLinkHtml = 'Like what you see? Visit the ' +\n",
              "            '<a target=\"_blank\" href=https://colab.research.google.com/notebooks/data_table.ipynb>data table notebook</a>'\n",
              "            + ' to learn more about interactive tables.';\n",
              "          element.innerHTML = '';\n",
              "          dataTable['output_type'] = 'display_data';\n",
              "          await google.colab.output.renderOutput(dataTable, element);\n",
              "          const docLink = document.createElement('div');\n",
              "          docLink.innerHTML = docLinkHtml;\n",
              "          element.appendChild(docLink);\n",
              "        }\n",
              "      </script>\n",
              "    </div>\n",
              "  </div>\n",
              "  "
            ]
          },
          "metadata": {},
          "execution_count": 81
        }
      ]
    }
  ]
}