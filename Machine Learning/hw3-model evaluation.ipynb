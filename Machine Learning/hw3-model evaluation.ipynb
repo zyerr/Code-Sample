{
  "nbformat": 4,
  "nbformat_minor": 0,
  "metadata": {
    "colab": {
      "name": "608 HW3_Yue Zhang.ipynb",
      "provenance": [],
      "collapsed_sections": []
    },
    "kernelspec": {
      "name": "python3",
      "display_name": "Python 3"
    },
    "language_info": {
      "name": "python"
    }
  },
  "cells": [
    {
      "cell_type": "markdown",
      "source": [
        "# Homework 3: Model Evaluation"
      ],
      "metadata": {
        "id": "8AHv8sHfnDU_"
      }
    },
    {
      "cell_type": "markdown",
      "source": [
        "## Set Up\n",
        "The data were collected from Faculty of Engineering and Faculty of Educational Sciences students in 2019. The purpose is to predict students' end-of-term performances using ML techniques. Features 1-10 of the data are the personal questions, 11-16 questions include family questions, and the remaining questions include education habits.\n",
        "\n",
        "The data set is categorized as social with 145 instances and 33 attributes. The feature names (header information) are numerically coded. See Appendix A for feature set coding."
      ],
      "metadata": {
        "id": "94ojNFQInJM1"
      }
    },
    {
      "cell_type": "code",
      "source": [
        "import numpy as np\n",
        "import pandas as pd"
      ],
      "metadata": {
        "id": "PYqfeoiBnOv0"
      },
      "execution_count": null,
      "outputs": []
    },
    {
      "cell_type": "code",
      "source": [
        "student_performance_df = pd.read_csv('Predicting Student Performance.csv')"
      ],
      "metadata": {
        "id": "cUwq8iRLnkWA"
      },
      "execution_count": null,
      "outputs": []
    },
    {
      "cell_type": "code",
      "source": [
        "student_performance_df.shape"
      ],
      "metadata": {
        "colab": {
          "base_uri": "https://localhost:8080/"
        },
        "id": "E7DLv67Cnm6B",
        "outputId": "611af74b-71ee-438b-b60a-88677a805809"
      },
      "execution_count": null,
      "outputs": [
        {
          "output_type": "execute_result",
          "data": {
            "text/plain": [
              "(145, 33)"
            ]
          },
          "metadata": {},
          "execution_count": 3
        }
      ]
    },
    {
      "cell_type": "code",
      "source": [
        "student_performance_df.head(5)"
      ],
      "metadata": {
        "colab": {
          "base_uri": "https://localhost:8080/",
          "height": 235
        },
        "id": "S2yi6mMOnoid",
        "outputId": "c688b880-8b86-47a6-fcef-1de0d15ca997"
      },
      "execution_count": null,
      "outputs": [
        {
          "output_type": "execute_result",
          "data": {
            "text/plain": [
              "  STUDENT ID  1  2  3  4  5  6  7  8  9  ...  23  24  25  26  27  28  29  30  \\\n",
              "0   STUDENT1  2  2  3  3  1  2  2  1  1  ...   1   1   3   2   1   2   1   1   \n",
              "1   STUDENT2  2  2  3  3  1  2  2  1  1  ...   1   1   3   2   3   2   2   3   \n",
              "2   STUDENT3  2  2  2  3  2  2  2  2  4  ...   1   1   2   2   1   1   2   2   \n",
              "3   STUDENT4  1  1  1  3  1  2  1  2  1  ...   1   2   3   2   2   1   3   2   \n",
              "4   STUDENT5  2  2  1  3  2  2  1  3  1  ...   2   1   2   2   2   1   2   2   \n",
              "\n",
              "   COURSE ID  GRADE  \n",
              "0          1      1  \n",
              "1          1      1  \n",
              "2          1      1  \n",
              "3          1      1  \n",
              "4          1      1  \n",
              "\n",
              "[5 rows x 33 columns]"
            ],
            "text/html": [
              "\n",
              "  <div id=\"df-6ea7eec3-10be-47fc-b80f-807afa57a14c\">\n",
              "    <div class=\"colab-df-container\">\n",
              "      <div>\n",
              "<style scoped>\n",
              "    .dataframe tbody tr th:only-of-type {\n",
              "        vertical-align: middle;\n",
              "    }\n",
              "\n",
              "    .dataframe tbody tr th {\n",
              "        vertical-align: top;\n",
              "    }\n",
              "\n",
              "    .dataframe thead th {\n",
              "        text-align: right;\n",
              "    }\n",
              "</style>\n",
              "<table border=\"1\" class=\"dataframe\">\n",
              "  <thead>\n",
              "    <tr style=\"text-align: right;\">\n",
              "      <th></th>\n",
              "      <th>STUDENT ID</th>\n",
              "      <th>1</th>\n",
              "      <th>2</th>\n",
              "      <th>3</th>\n",
              "      <th>4</th>\n",
              "      <th>5</th>\n",
              "      <th>6</th>\n",
              "      <th>7</th>\n",
              "      <th>8</th>\n",
              "      <th>9</th>\n",
              "      <th>...</th>\n",
              "      <th>23</th>\n",
              "      <th>24</th>\n",
              "      <th>25</th>\n",
              "      <th>26</th>\n",
              "      <th>27</th>\n",
              "      <th>28</th>\n",
              "      <th>29</th>\n",
              "      <th>30</th>\n",
              "      <th>COURSE ID</th>\n",
              "      <th>GRADE</th>\n",
              "    </tr>\n",
              "  </thead>\n",
              "  <tbody>\n",
              "    <tr>\n",
              "      <th>0</th>\n",
              "      <td>STUDENT1</td>\n",
              "      <td>2</td>\n",
              "      <td>2</td>\n",
              "      <td>3</td>\n",
              "      <td>3</td>\n",
              "      <td>1</td>\n",
              "      <td>2</td>\n",
              "      <td>2</td>\n",
              "      <td>1</td>\n",
              "      <td>1</td>\n",
              "      <td>...</td>\n",
              "      <td>1</td>\n",
              "      <td>1</td>\n",
              "      <td>3</td>\n",
              "      <td>2</td>\n",
              "      <td>1</td>\n",
              "      <td>2</td>\n",
              "      <td>1</td>\n",
              "      <td>1</td>\n",
              "      <td>1</td>\n",
              "      <td>1</td>\n",
              "    </tr>\n",
              "    <tr>\n",
              "      <th>1</th>\n",
              "      <td>STUDENT2</td>\n",
              "      <td>2</td>\n",
              "      <td>2</td>\n",
              "      <td>3</td>\n",
              "      <td>3</td>\n",
              "      <td>1</td>\n",
              "      <td>2</td>\n",
              "      <td>2</td>\n",
              "      <td>1</td>\n",
              "      <td>1</td>\n",
              "      <td>...</td>\n",
              "      <td>1</td>\n",
              "      <td>1</td>\n",
              "      <td>3</td>\n",
              "      <td>2</td>\n",
              "      <td>3</td>\n",
              "      <td>2</td>\n",
              "      <td>2</td>\n",
              "      <td>3</td>\n",
              "      <td>1</td>\n",
              "      <td>1</td>\n",
              "    </tr>\n",
              "    <tr>\n",
              "      <th>2</th>\n",
              "      <td>STUDENT3</td>\n",
              "      <td>2</td>\n",
              "      <td>2</td>\n",
              "      <td>2</td>\n",
              "      <td>3</td>\n",
              "      <td>2</td>\n",
              "      <td>2</td>\n",
              "      <td>2</td>\n",
              "      <td>2</td>\n",
              "      <td>4</td>\n",
              "      <td>...</td>\n",
              "      <td>1</td>\n",
              "      <td>1</td>\n",
              "      <td>2</td>\n",
              "      <td>2</td>\n",
              "      <td>1</td>\n",
              "      <td>1</td>\n",
              "      <td>2</td>\n",
              "      <td>2</td>\n",
              "      <td>1</td>\n",
              "      <td>1</td>\n",
              "    </tr>\n",
              "    <tr>\n",
              "      <th>3</th>\n",
              "      <td>STUDENT4</td>\n",
              "      <td>1</td>\n",
              "      <td>1</td>\n",
              "      <td>1</td>\n",
              "      <td>3</td>\n",
              "      <td>1</td>\n",
              "      <td>2</td>\n",
              "      <td>1</td>\n",
              "      <td>2</td>\n",
              "      <td>1</td>\n",
              "      <td>...</td>\n",
              "      <td>1</td>\n",
              "      <td>2</td>\n",
              "      <td>3</td>\n",
              "      <td>2</td>\n",
              "      <td>2</td>\n",
              "      <td>1</td>\n",
              "      <td>3</td>\n",
              "      <td>2</td>\n",
              "      <td>1</td>\n",
              "      <td>1</td>\n",
              "    </tr>\n",
              "    <tr>\n",
              "      <th>4</th>\n",
              "      <td>STUDENT5</td>\n",
              "      <td>2</td>\n",
              "      <td>2</td>\n",
              "      <td>1</td>\n",
              "      <td>3</td>\n",
              "      <td>2</td>\n",
              "      <td>2</td>\n",
              "      <td>1</td>\n",
              "      <td>3</td>\n",
              "      <td>1</td>\n",
              "      <td>...</td>\n",
              "      <td>2</td>\n",
              "      <td>1</td>\n",
              "      <td>2</td>\n",
              "      <td>2</td>\n",
              "      <td>2</td>\n",
              "      <td>1</td>\n",
              "      <td>2</td>\n",
              "      <td>2</td>\n",
              "      <td>1</td>\n",
              "      <td>1</td>\n",
              "    </tr>\n",
              "  </tbody>\n",
              "</table>\n",
              "<p>5 rows × 33 columns</p>\n",
              "</div>\n",
              "      <button class=\"colab-df-convert\" onclick=\"convertToInteractive('df-6ea7eec3-10be-47fc-b80f-807afa57a14c')\"\n",
              "              title=\"Convert this dataframe to an interactive table.\"\n",
              "              style=\"display:none;\">\n",
              "        \n",
              "  <svg xmlns=\"http://www.w3.org/2000/svg\" height=\"24px\"viewBox=\"0 0 24 24\"\n",
              "       width=\"24px\">\n",
              "    <path d=\"M0 0h24v24H0V0z\" fill=\"none\"/>\n",
              "    <path d=\"M18.56 5.44l.94 2.06.94-2.06 2.06-.94-2.06-.94-.94-2.06-.94 2.06-2.06.94zm-11 1L8.5 8.5l.94-2.06 2.06-.94-2.06-.94L8.5 2.5l-.94 2.06-2.06.94zm10 10l.94 2.06.94-2.06 2.06-.94-2.06-.94-.94-2.06-.94 2.06-2.06.94z\"/><path d=\"M17.41 7.96l-1.37-1.37c-.4-.4-.92-.59-1.43-.59-.52 0-1.04.2-1.43.59L10.3 9.45l-7.72 7.72c-.78.78-.78 2.05 0 2.83L4 21.41c.39.39.9.59 1.41.59.51 0 1.02-.2 1.41-.59l7.78-7.78 2.81-2.81c.8-.78.8-2.07 0-2.86zM5.41 20L4 18.59l7.72-7.72 1.47 1.35L5.41 20z\"/>\n",
              "  </svg>\n",
              "      </button>\n",
              "      \n",
              "  <style>\n",
              "    .colab-df-container {\n",
              "      display:flex;\n",
              "      flex-wrap:wrap;\n",
              "      gap: 12px;\n",
              "    }\n",
              "\n",
              "    .colab-df-convert {\n",
              "      background-color: #E8F0FE;\n",
              "      border: none;\n",
              "      border-radius: 50%;\n",
              "      cursor: pointer;\n",
              "      display: none;\n",
              "      fill: #1967D2;\n",
              "      height: 32px;\n",
              "      padding: 0 0 0 0;\n",
              "      width: 32px;\n",
              "    }\n",
              "\n",
              "    .colab-df-convert:hover {\n",
              "      background-color: #E2EBFA;\n",
              "      box-shadow: 0px 1px 2px rgba(60, 64, 67, 0.3), 0px 1px 3px 1px rgba(60, 64, 67, 0.15);\n",
              "      fill: #174EA6;\n",
              "    }\n",
              "\n",
              "    [theme=dark] .colab-df-convert {\n",
              "      background-color: #3B4455;\n",
              "      fill: #D2E3FC;\n",
              "    }\n",
              "\n",
              "    [theme=dark] .colab-df-convert:hover {\n",
              "      background-color: #434B5C;\n",
              "      box-shadow: 0px 1px 3px 1px rgba(0, 0, 0, 0.15);\n",
              "      filter: drop-shadow(0px 1px 2px rgba(0, 0, 0, 0.3));\n",
              "      fill: #FFFFFF;\n",
              "    }\n",
              "  </style>\n",
              "\n",
              "      <script>\n",
              "        const buttonEl =\n",
              "          document.querySelector('#df-6ea7eec3-10be-47fc-b80f-807afa57a14c button.colab-df-convert');\n",
              "        buttonEl.style.display =\n",
              "          google.colab.kernel.accessAllowed ? 'block' : 'none';\n",
              "\n",
              "        async function convertToInteractive(key) {\n",
              "          const element = document.querySelector('#df-6ea7eec3-10be-47fc-b80f-807afa57a14c');\n",
              "          const dataTable =\n",
              "            await google.colab.kernel.invokeFunction('convertToInteractive',\n",
              "                                                     [key], {});\n",
              "          if (!dataTable) return;\n",
              "\n",
              "          const docLinkHtml = 'Like what you see? Visit the ' +\n",
              "            '<a target=\"_blank\" href=https://colab.research.google.com/notebooks/data_table.ipynb>data table notebook</a>'\n",
              "            + ' to learn more about interactive tables.';\n",
              "          element.innerHTML = '';\n",
              "          dataTable['output_type'] = 'display_data';\n",
              "          await google.colab.output.renderOutput(dataTable, element);\n",
              "          const docLink = document.createElement('div');\n",
              "          docLink.innerHTML = docLinkHtml;\n",
              "          element.appendChild(docLink);\n",
              "        }\n",
              "      </script>\n",
              "    </div>\n",
              "  </div>\n",
              "  "
            ]
          },
          "metadata": {},
          "execution_count": 4
        }
      ]
    },
    {
      "cell_type": "code",
      "source": [
        "student_performance_df.info()"
      ],
      "metadata": {
        "colab": {
          "base_uri": "https://localhost:8080/"
        },
        "id": "AyRq6ymDnqDm",
        "outputId": "2d35c66c-3a1f-4c08-87f8-cf55764e334e"
      },
      "execution_count": null,
      "outputs": [
        {
          "output_type": "stream",
          "name": "stdout",
          "text": [
            "<class 'pandas.core.frame.DataFrame'>\n",
            "RangeIndex: 145 entries, 0 to 144\n",
            "Data columns (total 33 columns):\n",
            " #   Column      Non-Null Count  Dtype \n",
            "---  ------      --------------  ----- \n",
            " 0   STUDENT ID  145 non-null    object\n",
            " 1   1           145 non-null    int64 \n",
            " 2   2           145 non-null    int64 \n",
            " 3   3           145 non-null    int64 \n",
            " 4   4           145 non-null    int64 \n",
            " 5   5           145 non-null    int64 \n",
            " 6   6           145 non-null    int64 \n",
            " 7   7           145 non-null    int64 \n",
            " 8   8           145 non-null    int64 \n",
            " 9   9           145 non-null    int64 \n",
            " 10  10          145 non-null    int64 \n",
            " 11  11          145 non-null    int64 \n",
            " 12  12          145 non-null    int64 \n",
            " 13  13          145 non-null    int64 \n",
            " 14  14          145 non-null    int64 \n",
            " 15  15          145 non-null    int64 \n",
            " 16  16          145 non-null    int64 \n",
            " 17  17          145 non-null    int64 \n",
            " 18  18          145 non-null    int64 \n",
            " 19  19          145 non-null    int64 \n",
            " 20  20          145 non-null    int64 \n",
            " 21  21          145 non-null    int64 \n",
            " 22  22          145 non-null    int64 \n",
            " 23  23          145 non-null    int64 \n",
            " 24  24          145 non-null    int64 \n",
            " 25  25          145 non-null    int64 \n",
            " 26  26          145 non-null    int64 \n",
            " 27  27          145 non-null    int64 \n",
            " 28  28          145 non-null    int64 \n",
            " 29  29          145 non-null    int64 \n",
            " 30  30          145 non-null    int64 \n",
            " 31  COURSE ID   145 non-null    int64 \n",
            " 32  GRADE       145 non-null    int64 \n",
            "dtypes: int64(32), object(1)\n",
            "memory usage: 37.5+ KB\n"
          ]
        }
      ]
    },
    {
      "cell_type": "markdown",
      "source": [
        "## Data Preprocessing \n"
      ],
      "metadata": {
        "id": "lO9UpC-rrHzl"
      }
    },
    {
      "cell_type": "code",
      "source": [
        "student_performance_df = student_performance_df.drop(['STUDENT ID'], axis=1)"
      ],
      "metadata": {
        "id": "NEiaAH8HQfHp"
      },
      "execution_count": null,
      "outputs": []
    },
    {
      "cell_type": "markdown",
      "source": [
        "## Model Training"
      ],
      "metadata": {
        "id": "yZpBklTp19kP"
      }
    },
    {
      "cell_type": "code",
      "source": [
        "from sklearn.model_selection import train_test_split\n",
        "from sklearn.preprocessing import StandardScaler\n",
        "from sklearn.pipeline import make_pipeline\n",
        "from sklearn.metrics import accuracy_score\n",
        "from sklearn.model_selection import StratifiedKFold"
      ],
      "metadata": {
        "id": "0cMCKzAbnBmy"
      },
      "execution_count": null,
      "outputs": []
    },
    {
      "cell_type": "code",
      "source": [
        "y = student_performance_df[['GRADE']]\n",
        "X = student_performance_df.drop(['GRADE'], axis=1)"
      ],
      "metadata": {
        "id": "uts3jMw8xpXn"
      },
      "execution_count": null,
      "outputs": []
    },
    {
      "cell_type": "code",
      "source": [
        "X_train, X_test, y_train, y_test = \\\n",
        "    train_test_split(X, y, \n",
        "                     test_size=0.20,\n",
        "                     stratify=y,\n",
        "                     random_state=23)"
      ],
      "metadata": {
        "id": "F18TFCXEymB3"
      },
      "execution_count": null,
      "outputs": []
    },
    {
      "cell_type": "markdown",
      "source": [
        "#### Model 1: Support Vector Classification"
      ],
      "metadata": {
        "id": "aa_GjNHuxuAp"
      }
    },
    {
      "cell_type": "code",
      "source": [
        "from sklearn import svm\n",
        "pipe_lr = make_pipeline(StandardScaler(),\n",
        "                        svm.SVC(kernel='linear'))\n",
        "pipe_lr.fit(X_train, y_train)\n",
        "y_pred = pipe_lr.predict(X_test)\n",
        "print('Test Accuracy: %.3f' % pipe_lr.score(X_test, y_test))"
      ],
      "metadata": {
        "colab": {
          "base_uri": "https://localhost:8080/"
        },
        "id": "8Zcdb4-_81rc",
        "outputId": "7de9fa20-170c-4b5e-ffc6-4fe9cf3647b0"
      },
      "execution_count": null,
      "outputs": [
        {
          "output_type": "stream",
          "name": "stdout",
          "text": [
            "Test Accuracy: 0.103\n"
          ]
        },
        {
          "output_type": "stream",
          "name": "stderr",
          "text": [
            "/usr/local/lib/python3.7/dist-packages/sklearn/utils/validation.py:993: DataConversionWarning: A column-vector y was passed when a 1d array was expected. Please change the shape of y to (n_samples, ), for example using ravel().\n",
            "  y = column_or_1d(y, warn=True)\n"
          ]
        }
      ]
    },
    {
      "cell_type": "code",
      "source": [
        "kfold = StratifiedKFold(n_splits=10).split(X_train, y_train)\n",
        "\n",
        "scores = []\n",
        "for k, (train, test) in enumerate(kfold):\n",
        "    pipe_lr.fit(X_train.iloc[train], y_train.iloc[train])\n",
        "    score = pipe_lr.score(X_train.iloc[test], y_train.iloc[test])\n",
        "    scores.append(score)\n",
        "    print(f'Fold: {k+1:2d}, Acc: {score:.3f}')\n",
        "    \n",
        "print('\\nCV accuracy: %.3f +/- %.3f' % (np.mean(scores), np.std(scores)))\n",
        "model_1 = [\"Support Vector Classification\", round(np.mean(scores),ndigits=3), round(np.std(scores),ndigits=3)]"
      ],
      "metadata": {
        "id": "O9eC353Y745n",
        "colab": {
          "base_uri": "https://localhost:8080/"
        },
        "outputId": "88f9f1ef-0aa4-45b9-f92c-5c2d15ad0291"
      },
      "execution_count": null,
      "outputs": [
        {
          "output_type": "stream",
          "name": "stdout",
          "text": [
            "Fold:  1, Acc: 0.250\n",
            "Fold:  2, Acc: 0.333\n",
            "Fold:  3, Acc: 0.500\n",
            "Fold:  4, Acc: 0.250\n",
            "Fold:  5, Acc: 0.250\n",
            "Fold:  6, Acc: 0.083\n",
            "Fold:  7, Acc: 0.182\n",
            "Fold:  8, Acc: 0.182\n",
            "Fold:  9, Acc: 0.182\n",
            "Fold: 10, Acc: 0.273\n",
            "\n",
            "CV accuracy: 0.248 +/- 0.106\n"
          ]
        },
        {
          "output_type": "stream",
          "name": "stderr",
          "text": [
            "/usr/local/lib/python3.7/dist-packages/sklearn/model_selection/_split.py:680: UserWarning: The least populated class in y has only 6 members, which is less than n_splits=10.\n",
            "  UserWarning,\n",
            "/usr/local/lib/python3.7/dist-packages/sklearn/utils/validation.py:993: DataConversionWarning: A column-vector y was passed when a 1d array was expected. Please change the shape of y to (n_samples, ), for example using ravel().\n",
            "  y = column_or_1d(y, warn=True)\n",
            "/usr/local/lib/python3.7/dist-packages/sklearn/utils/validation.py:993: DataConversionWarning: A column-vector y was passed when a 1d array was expected. Please change the shape of y to (n_samples, ), for example using ravel().\n",
            "  y = column_or_1d(y, warn=True)\n",
            "/usr/local/lib/python3.7/dist-packages/sklearn/utils/validation.py:993: DataConversionWarning: A column-vector y was passed when a 1d array was expected. Please change the shape of y to (n_samples, ), for example using ravel().\n",
            "  y = column_or_1d(y, warn=True)\n",
            "/usr/local/lib/python3.7/dist-packages/sklearn/utils/validation.py:993: DataConversionWarning: A column-vector y was passed when a 1d array was expected. Please change the shape of y to (n_samples, ), for example using ravel().\n",
            "  y = column_or_1d(y, warn=True)\n",
            "/usr/local/lib/python3.7/dist-packages/sklearn/utils/validation.py:993: DataConversionWarning: A column-vector y was passed when a 1d array was expected. Please change the shape of y to (n_samples, ), for example using ravel().\n",
            "  y = column_or_1d(y, warn=True)\n",
            "/usr/local/lib/python3.7/dist-packages/sklearn/utils/validation.py:993: DataConversionWarning: A column-vector y was passed when a 1d array was expected. Please change the shape of y to (n_samples, ), for example using ravel().\n",
            "  y = column_or_1d(y, warn=True)\n",
            "/usr/local/lib/python3.7/dist-packages/sklearn/utils/validation.py:993: DataConversionWarning: A column-vector y was passed when a 1d array was expected. Please change the shape of y to (n_samples, ), for example using ravel().\n",
            "  y = column_or_1d(y, warn=True)\n",
            "/usr/local/lib/python3.7/dist-packages/sklearn/utils/validation.py:993: DataConversionWarning: A column-vector y was passed when a 1d array was expected. Please change the shape of y to (n_samples, ), for example using ravel().\n",
            "  y = column_or_1d(y, warn=True)\n",
            "/usr/local/lib/python3.7/dist-packages/sklearn/utils/validation.py:993: DataConversionWarning: A column-vector y was passed when a 1d array was expected. Please change the shape of y to (n_samples, ), for example using ravel().\n",
            "  y = column_or_1d(y, warn=True)\n",
            "/usr/local/lib/python3.7/dist-packages/sklearn/utils/validation.py:993: DataConversionWarning: A column-vector y was passed when a 1d array was expected. Please change the shape of y to (n_samples, ), for example using ravel().\n",
            "  y = column_or_1d(y, warn=True)\n"
          ]
        }
      ]
    },
    {
      "cell_type": "markdown",
      "source": [
        "#### Model 2: Stochastic Gradient Descent"
      ],
      "metadata": {
        "id": "D5j77CHsx-rm"
      }
    },
    {
      "cell_type": "code",
      "source": [
        "from sklearn.linear_model import SGDClassifier\n",
        "pipe_lr = make_pipeline(StandardScaler(), SGDClassifier())\n",
        "pipe_lr.fit(X_train, y_train)\n",
        "y_pred = pipe_lr.predict(X_test)\n",
        "print('Test Accuracy: %.3f' % pipe_lr.score(X_test, y_test))"
      ],
      "metadata": {
        "id": "48bItNkhPV3f",
        "colab": {
          "base_uri": "https://localhost:8080/"
        },
        "outputId": "d51cfead-a753-4aab-e4f9-e504cf51b72c"
      },
      "execution_count": null,
      "outputs": [
        {
          "output_type": "stream",
          "name": "stdout",
          "text": [
            "Test Accuracy: 0.138\n"
          ]
        },
        {
          "output_type": "stream",
          "name": "stderr",
          "text": [
            "/usr/local/lib/python3.7/dist-packages/sklearn/utils/validation.py:993: DataConversionWarning: A column-vector y was passed when a 1d array was expected. Please change the shape of y to (n_samples, ), for example using ravel().\n",
            "  y = column_or_1d(y, warn=True)\n"
          ]
        }
      ]
    },
    {
      "cell_type": "code",
      "source": [
        "kfold = StratifiedKFold(n_splits=10).split(X_train, y_train)\n",
        "\n",
        "scores = []\n",
        "for k, (train, test) in enumerate(kfold):\n",
        "    pipe_lr.fit(X_train.iloc[train], y_train.iloc[train])\n",
        "    score = pipe_lr.score(X_train.iloc[test], y_train.iloc[test])\n",
        "    scores.append(score)\n",
        "    print(f'Fold: {k+1:2d}, Acc: {score:.3f}')\n",
        "    \n",
        "print('\\nCV accuracy: %.3f +/- %.3f' % (np.mean(scores), np.std(scores)))\n",
        "model_2 = [\"Stochastic Gradient Descent\", round(np.mean(scores),ndigits=3), round(np.std(scores),ndigits=3)]"
      ],
      "metadata": {
        "colab": {
          "base_uri": "https://localhost:8080/"
        },
        "id": "4sqrq6-8Fa65",
        "outputId": "7a6efcb5-43d8-41a2-cdb8-3e5c6e6c4783"
      },
      "execution_count": null,
      "outputs": [
        {
          "output_type": "stream",
          "name": "stderr",
          "text": [
            "/usr/local/lib/python3.7/dist-packages/sklearn/model_selection/_split.py:680: UserWarning: The least populated class in y has only 6 members, which is less than n_splits=10.\n",
            "  UserWarning,\n",
            "/usr/local/lib/python3.7/dist-packages/sklearn/utils/validation.py:993: DataConversionWarning: A column-vector y was passed when a 1d array was expected. Please change the shape of y to (n_samples, ), for example using ravel().\n",
            "  y = column_or_1d(y, warn=True)\n"
          ]
        },
        {
          "output_type": "stream",
          "name": "stdout",
          "text": [
            "Fold:  1, Acc: 0.250\n",
            "Fold:  2, Acc: 0.083\n",
            "Fold:  3, Acc: 0.333\n",
            "Fold:  4, Acc: 0.083\n",
            "Fold:  5, Acc: 0.167\n",
            "Fold:  6, Acc: 0.250\n",
            "Fold:  7, Acc: 0.182\n",
            "Fold:  8, Acc: 0.091\n",
            "Fold:  9, Acc: 0.273\n",
            "Fold: 10, Acc: 0.000\n",
            "\n",
            "CV accuracy: 0.171 +/- 0.100\n"
          ]
        },
        {
          "output_type": "stream",
          "name": "stderr",
          "text": [
            "/usr/local/lib/python3.7/dist-packages/sklearn/utils/validation.py:993: DataConversionWarning: A column-vector y was passed when a 1d array was expected. Please change the shape of y to (n_samples, ), for example using ravel().\n",
            "  y = column_or_1d(y, warn=True)\n",
            "/usr/local/lib/python3.7/dist-packages/sklearn/utils/validation.py:993: DataConversionWarning: A column-vector y was passed when a 1d array was expected. Please change the shape of y to (n_samples, ), for example using ravel().\n",
            "  y = column_or_1d(y, warn=True)\n",
            "/usr/local/lib/python3.7/dist-packages/sklearn/utils/validation.py:993: DataConversionWarning: A column-vector y was passed when a 1d array was expected. Please change the shape of y to (n_samples, ), for example using ravel().\n",
            "  y = column_or_1d(y, warn=True)\n",
            "/usr/local/lib/python3.7/dist-packages/sklearn/utils/validation.py:993: DataConversionWarning: A column-vector y was passed when a 1d array was expected. Please change the shape of y to (n_samples, ), for example using ravel().\n",
            "  y = column_or_1d(y, warn=True)\n",
            "/usr/local/lib/python3.7/dist-packages/sklearn/utils/validation.py:993: DataConversionWarning: A column-vector y was passed when a 1d array was expected. Please change the shape of y to (n_samples, ), for example using ravel().\n",
            "  y = column_or_1d(y, warn=True)\n",
            "/usr/local/lib/python3.7/dist-packages/sklearn/utils/validation.py:993: DataConversionWarning: A column-vector y was passed when a 1d array was expected. Please change the shape of y to (n_samples, ), for example using ravel().\n",
            "  y = column_or_1d(y, warn=True)\n",
            "/usr/local/lib/python3.7/dist-packages/sklearn/utils/validation.py:993: DataConversionWarning: A column-vector y was passed when a 1d array was expected. Please change the shape of y to (n_samples, ), for example using ravel().\n",
            "  y = column_or_1d(y, warn=True)\n",
            "/usr/local/lib/python3.7/dist-packages/sklearn/utils/validation.py:993: DataConversionWarning: A column-vector y was passed when a 1d array was expected. Please change the shape of y to (n_samples, ), for example using ravel().\n",
            "  y = column_or_1d(y, warn=True)\n",
            "/usr/local/lib/python3.7/dist-packages/sklearn/utils/validation.py:993: DataConversionWarning: A column-vector y was passed when a 1d array was expected. Please change the shape of y to (n_samples, ), for example using ravel().\n",
            "  y = column_or_1d(y, warn=True)\n"
          ]
        }
      ]
    },
    {
      "cell_type": "markdown",
      "source": [
        "#### Model 3: Decision Trees"
      ],
      "metadata": {
        "id": "3I9WqsCGPMDi"
      }
    },
    {
      "cell_type": "code",
      "source": [
        "from sklearn import tree\n",
        "pipe_lr = make_pipeline(StandardScaler(), tree.DecisionTreeRegressor())\n",
        "pipe_lr.fit(X_train, y_train)\n",
        "y_pred = pipe_lr.predict(X_test)\n",
        "print('Test Accuracy: %.3f' % pipe_lr.score(X_test, y_test))"
      ],
      "metadata": {
        "id": "M99eTKxxPYk8",
        "colab": {
          "base_uri": "https://localhost:8080/"
        },
        "outputId": "224f9e32-a067-4e55-cfa5-3a6369ec2b81"
      },
      "execution_count": null,
      "outputs": [
        {
          "output_type": "stream",
          "name": "stdout",
          "text": [
            "Test Accuracy: 0.290\n"
          ]
        }
      ]
    },
    {
      "cell_type": "code",
      "source": [
        "kfold = StratifiedKFold(n_splits=10).split(X_train, y_train)\n",
        "\n",
        "scores = []\n",
        "for k, (train, test) in enumerate(kfold):\n",
        "    pipe_lr.fit(X_train.iloc[train], y_train.iloc[train])\n",
        "    score = pipe_lr.score(X_train.iloc[test], y_train.iloc[test])\n",
        "    scores.append(score)\n",
        "    print(f'Fold: {k+1:2d}, Acc: {score:.3f}')\n",
        "    \n",
        "print('\\nCV accuracy: %.3f +/- %.3f' % (np.mean(scores), np.std(scores)))\n",
        "model_3 = [\"Decision Tree\", round(np.mean(scores),ndigits=3), round(np.std(scores),ndigits=3)]"
      ],
      "metadata": {
        "colab": {
          "base_uri": "https://localhost:8080/"
        },
        "id": "_T-BshEMHd8E",
        "outputId": "447ebc90-3a61-457f-fc56-ca6d6e9de77d"
      },
      "execution_count": null,
      "outputs": [
        {
          "output_type": "stream",
          "name": "stderr",
          "text": [
            "/usr/local/lib/python3.7/dist-packages/sklearn/model_selection/_split.py:680: UserWarning: The least populated class in y has only 6 members, which is less than n_splits=10.\n",
            "  UserWarning,\n"
          ]
        },
        {
          "output_type": "stream",
          "name": "stdout",
          "text": [
            "Fold:  1, Acc: 0.069\n",
            "Fold:  2, Acc: 0.330\n",
            "Fold:  3, Acc: -0.531\n",
            "Fold:  4, Acc: 0.376\n",
            "Fold:  5, Acc: -0.077\n",
            "Fold:  6, Acc: -0.018\n",
            "Fold:  7, Acc: 0.348\n",
            "Fold:  8, Acc: -0.446\n",
            "Fold:  9, Acc: -0.058\n",
            "Fold: 10, Acc: 0.299\n",
            "\n",
            "CV accuracy: 0.029 +/- 0.308\n"
          ]
        }
      ]
    },
    {
      "cell_type": "markdown",
      "source": [
        "#### Model 4: Random Forest"
      ],
      "metadata": {
        "id": "P3aqKwkdvx59"
      }
    },
    {
      "cell_type": "code",
      "source": [
        "from sklearn.ensemble import RandomForestClassifier\n",
        "pipe_lr = make_pipeline(StandardScaler(), RandomForestClassifier(n_estimators=100))\n",
        "pipe_lr.fit(X_train, y_train)\n",
        "y_pred = pipe_lr.predict(X_test)\n",
        "print('Test Accuracy: %.3f' % pipe_lr.score(X_test, y_test))"
      ],
      "metadata": {
        "id": "wXe6cIvsv141",
        "colab": {
          "base_uri": "https://localhost:8080/"
        },
        "outputId": "3265df02-fffd-4288-fdfe-c8972011a18c"
      },
      "execution_count": null,
      "outputs": [
        {
          "output_type": "stream",
          "name": "stderr",
          "text": [
            "/usr/local/lib/python3.7/dist-packages/sklearn/pipeline.py:394: DataConversionWarning: A column-vector y was passed when a 1d array was expected. Please change the shape of y to (n_samples,), for example using ravel().\n",
            "  self._final_estimator.fit(Xt, y, **fit_params_last_step)\n"
          ]
        },
        {
          "output_type": "stream",
          "name": "stdout",
          "text": [
            "Test Accuracy: 0.345\n"
          ]
        }
      ]
    },
    {
      "cell_type": "code",
      "source": [
        "kfold = StratifiedKFold(n_splits=10).split(X_train, y_train)\n",
        "\n",
        "scores = []\n",
        "for k, (train, test) in enumerate(kfold):\n",
        "    pipe_lr.fit(X_train.iloc[train], y_train.iloc[train])\n",
        "    score = pipe_lr.score(X_train.iloc[test], y_train.iloc[test])\n",
        "    scores.append(score)\n",
        "    print(f'Fold: {k+1:2d}, Acc: {score:.3f}')\n",
        "    \n",
        "print('\\nCV accuracy: %.3f +/- %.3f' % (np.mean(scores), np.std(scores)))\n",
        "model_4 = [\"Random Forest\", round(np.mean(scores),ndigits=3), round(np.std(scores),ndigits=3)]"
      ],
      "metadata": {
        "id": "I5uJsj-9IJ1L",
        "outputId": "c1c98d60-3c9b-4e2b-91f0-d2c449479211",
        "colab": {
          "base_uri": "https://localhost:8080/"
        }
      },
      "execution_count": null,
      "outputs": [
        {
          "output_type": "stream",
          "name": "stderr",
          "text": [
            "/usr/local/lib/python3.7/dist-packages/sklearn/model_selection/_split.py:680: UserWarning: The least populated class in y has only 6 members, which is less than n_splits=10.\n",
            "  UserWarning,\n",
            "/usr/local/lib/python3.7/dist-packages/sklearn/pipeline.py:394: DataConversionWarning: A column-vector y was passed when a 1d array was expected. Please change the shape of y to (n_samples,), for example using ravel().\n",
            "  self._final_estimator.fit(Xt, y, **fit_params_last_step)\n"
          ]
        },
        {
          "output_type": "stream",
          "name": "stdout",
          "text": [
            "Fold:  1, Acc: 0.167\n"
          ]
        },
        {
          "output_type": "stream",
          "name": "stderr",
          "text": [
            "/usr/local/lib/python3.7/dist-packages/sklearn/pipeline.py:394: DataConversionWarning: A column-vector y was passed when a 1d array was expected. Please change the shape of y to (n_samples,), for example using ravel().\n",
            "  self._final_estimator.fit(Xt, y, **fit_params_last_step)\n"
          ]
        },
        {
          "output_type": "stream",
          "name": "stdout",
          "text": [
            "Fold:  2, Acc: 0.250\n"
          ]
        },
        {
          "output_type": "stream",
          "name": "stderr",
          "text": [
            "/usr/local/lib/python3.7/dist-packages/sklearn/pipeline.py:394: DataConversionWarning: A column-vector y was passed when a 1d array was expected. Please change the shape of y to (n_samples,), for example using ravel().\n",
            "  self._final_estimator.fit(Xt, y, **fit_params_last_step)\n"
          ]
        },
        {
          "output_type": "stream",
          "name": "stdout",
          "text": [
            "Fold:  3, Acc: 0.417\n"
          ]
        },
        {
          "output_type": "stream",
          "name": "stderr",
          "text": [
            "/usr/local/lib/python3.7/dist-packages/sklearn/pipeline.py:394: DataConversionWarning: A column-vector y was passed when a 1d array was expected. Please change the shape of y to (n_samples,), for example using ravel().\n",
            "  self._final_estimator.fit(Xt, y, **fit_params_last_step)\n"
          ]
        },
        {
          "output_type": "stream",
          "name": "stdout",
          "text": [
            "Fold:  4, Acc: 0.583\n"
          ]
        },
        {
          "output_type": "stream",
          "name": "stderr",
          "text": [
            "/usr/local/lib/python3.7/dist-packages/sklearn/pipeline.py:394: DataConversionWarning: A column-vector y was passed when a 1d array was expected. Please change the shape of y to (n_samples,), for example using ravel().\n",
            "  self._final_estimator.fit(Xt, y, **fit_params_last_step)\n"
          ]
        },
        {
          "output_type": "stream",
          "name": "stdout",
          "text": [
            "Fold:  5, Acc: 0.167\n"
          ]
        },
        {
          "output_type": "stream",
          "name": "stderr",
          "text": [
            "/usr/local/lib/python3.7/dist-packages/sklearn/pipeline.py:394: DataConversionWarning: A column-vector y was passed when a 1d array was expected. Please change the shape of y to (n_samples,), for example using ravel().\n",
            "  self._final_estimator.fit(Xt, y, **fit_params_last_step)\n"
          ]
        },
        {
          "output_type": "stream",
          "name": "stdout",
          "text": [
            "Fold:  6, Acc: 0.083\n"
          ]
        },
        {
          "output_type": "stream",
          "name": "stderr",
          "text": [
            "/usr/local/lib/python3.7/dist-packages/sklearn/pipeline.py:394: DataConversionWarning: A column-vector y was passed when a 1d array was expected. Please change the shape of y to (n_samples,), for example using ravel().\n",
            "  self._final_estimator.fit(Xt, y, **fit_params_last_step)\n"
          ]
        },
        {
          "output_type": "stream",
          "name": "stdout",
          "text": [
            "Fold:  7, Acc: 0.455\n"
          ]
        },
        {
          "output_type": "stream",
          "name": "stderr",
          "text": [
            "/usr/local/lib/python3.7/dist-packages/sklearn/pipeline.py:394: DataConversionWarning: A column-vector y was passed when a 1d array was expected. Please change the shape of y to (n_samples,), for example using ravel().\n",
            "  self._final_estimator.fit(Xt, y, **fit_params_last_step)\n"
          ]
        },
        {
          "output_type": "stream",
          "name": "stdout",
          "text": [
            "Fold:  8, Acc: 0.273\n"
          ]
        },
        {
          "output_type": "stream",
          "name": "stderr",
          "text": [
            "/usr/local/lib/python3.7/dist-packages/sklearn/pipeline.py:394: DataConversionWarning: A column-vector y was passed when a 1d array was expected. Please change the shape of y to (n_samples,), for example using ravel().\n",
            "  self._final_estimator.fit(Xt, y, **fit_params_last_step)\n"
          ]
        },
        {
          "output_type": "stream",
          "name": "stdout",
          "text": [
            "Fold:  9, Acc: 0.364\n"
          ]
        },
        {
          "output_type": "stream",
          "name": "stderr",
          "text": [
            "/usr/local/lib/python3.7/dist-packages/sklearn/pipeline.py:394: DataConversionWarning: A column-vector y was passed when a 1d array was expected. Please change the shape of y to (n_samples,), for example using ravel().\n",
            "  self._final_estimator.fit(Xt, y, **fit_params_last_step)\n"
          ]
        },
        {
          "output_type": "stream",
          "name": "stdout",
          "text": [
            "Fold: 10, Acc: 0.273\n",
            "\n",
            "CV accuracy: 0.303 +/- 0.144\n"
          ]
        }
      ]
    },
    {
      "cell_type": "markdown",
      "source": [
        "#### Summary"
      ],
      "metadata": {
        "id": "e0PTSaikO2qY"
      }
    },
    {
      "cell_type": "code",
      "source": [
        "! pip install tabulate"
      ],
      "metadata": {
        "id": "L_HNwVavO7f5",
        "colab": {
          "base_uri": "https://localhost:8080/"
        },
        "outputId": "ea6799a6-ba9b-4980-9dde-3a2ff6a435cc"
      },
      "execution_count": null,
      "outputs": [
        {
          "output_type": "stream",
          "name": "stdout",
          "text": [
            "Requirement already satisfied: tabulate in /usr/local/lib/python3.7/dist-packages (0.8.9)\n"
          ]
        }
      ]
    },
    {
      "cell_type": "code",
      "source": [
        "from tabulate import tabulate"
      ],
      "metadata": {
        "id": "tPcAYa66Qg6S"
      },
      "execution_count": null,
      "outputs": []
    },
    {
      "cell_type": "code",
      "source": [
        "table_data =[model_1, model_2, model_3, model_4]\n",
        "col_names = [\"Model\", \"K-fold Mean Accuracy\", \"Standard Deviation\"]"
      ],
      "metadata": {
        "id": "qvMOGKBvQirH"
      },
      "execution_count": null,
      "outputs": []
    },
    {
      "cell_type": "code",
      "source": [
        "print(tabulate(table_data, headers=col_names))"
      ],
      "metadata": {
        "id": "AYJjeSX0QmKm",
        "colab": {
          "base_uri": "https://localhost:8080/"
        },
        "outputId": "b942902b-0587-458e-d58c-e6e24dd129b7"
      },
      "execution_count": null,
      "outputs": [
        {
          "output_type": "stream",
          "name": "stdout",
          "text": [
            "Model                            K-fold Mean Accuracy    Standard Deviation\n",
            "-----------------------------  ----------------------  --------------------\n",
            "Support Vector Classification                   0.248                 0.106\n",
            "Stochastic Gradient Descent                     0.171                 0.1\n",
            "Decision Tree                                   0.029                 0.308\n",
            "Random Forest                                   0.303                 0.144\n"
          ]
        }
      ]
    },
    {
      "cell_type": "markdown",
      "source": [
        "### Model Optimization"
      ],
      "metadata": {
        "id": "CmZSu8z5vToM"
      }
    },
    {
      "cell_type": "code",
      "source": [
        "# find the most important features using random forest\n",
        "features = pd.Series(pipe_lr.steps[1][1].feature_importances_, index=list(X_test.columns)).sort_values(ascending=False)\n",
        "features"
      ],
      "metadata": {
        "id": "aZ3GXnNWvWXp",
        "colab": {
          "base_uri": "https://localhost:8080/"
        },
        "outputId": "1221eea0-7e01-4b75-f0cc-57ec1fe9ca4c"
      },
      "execution_count": null,
      "outputs": [
        {
          "output_type": "execute_result",
          "data": {
            "text/plain": [
              "COURSE ID    0.083113\n",
              "13           0.061703\n",
              "29           0.061059\n",
              "16           0.050873\n",
              "11           0.044105\n",
              "30           0.043700\n",
              "12           0.040989\n",
              "17           0.038906\n",
              "4            0.038207\n",
              "1            0.033269\n",
              "28           0.032674\n",
              "26           0.032662\n",
              "18           0.031912\n",
              "23           0.029897\n",
              "19           0.029013\n",
              "15           0.027915\n",
              "8            0.027588\n",
              "10           0.027287\n",
              "25           0.027062\n",
              "21           0.024171\n",
              "9            0.023635\n",
              "7            0.023577\n",
              "3            0.023272\n",
              "2            0.023220\n",
              "6            0.021387\n",
              "27           0.021263\n",
              "5            0.018173\n",
              "14           0.017838\n",
              "22           0.015586\n",
              "20           0.014933\n",
              "24           0.011012\n",
              "dtype: float64"
            ]
          },
          "metadata": {},
          "execution_count": 22
        }
      ]
    },
    {
      "cell_type": "code",
      "source": [
        "y = student_performance_df[['GRADE']]\n",
        "X = student_performance_df[['COURSE ID', '29', '13', '16', '12', '11', '30', '17', '1', '4']]"
      ],
      "metadata": {
        "id": "Md0XbI_qCrv0"
      },
      "execution_count": null,
      "outputs": []
    },
    {
      "cell_type": "code",
      "source": [
        "X_train, X_test, y_train, y_test = \\\n",
        "    train_test_split(X, y, \n",
        "                     test_size=0.20,\n",
        "                     stratify=y,\n",
        "                     random_state=23)"
      ],
      "metadata": {
        "id": "wHESsxO7EBK0"
      },
      "execution_count": null,
      "outputs": []
    },
    {
      "cell_type": "markdown",
      "source": [
        "#### Model 1: Support Vector Classification"
      ],
      "metadata": {
        "id": "Mmtu3MXJEPEo"
      }
    },
    {
      "cell_type": "code",
      "source": [
        "pipe_lr = make_pipeline(StandardScaler(),\n",
        "                        svm.SVC(kernel='linear'))\n",
        "pipe_lr.fit(X_train, y_train)\n",
        "y_pred = pipe_lr.predict(X_test)\n",
        "print('Test Accuracy: %.3f' % pipe_lr.score(X_test, y_test))"
      ],
      "metadata": {
        "colab": {
          "base_uri": "https://localhost:8080/"
        },
        "outputId": "3df5a3da-8879-4e1a-c10a-f01cc9037d1e",
        "id": "pjmfNWkgEPEu"
      },
      "execution_count": null,
      "outputs": [
        {
          "output_type": "stream",
          "name": "stdout",
          "text": [
            "Test Accuracy: 0.276\n"
          ]
        },
        {
          "output_type": "stream",
          "name": "stderr",
          "text": [
            "/usr/local/lib/python3.7/dist-packages/sklearn/utils/validation.py:993: DataConversionWarning: A column-vector y was passed when a 1d array was expected. Please change the shape of y to (n_samples, ), for example using ravel().\n",
            "  y = column_or_1d(y, warn=True)\n"
          ]
        }
      ]
    },
    {
      "cell_type": "code",
      "source": [
        "kfold = StratifiedKFold(n_splits=10).split(X_train, y_train)\n",
        "\n",
        "scores = []\n",
        "for k, (train, test) in enumerate(kfold):\n",
        "    pipe_lr.fit(X_train.iloc[train], y_train.iloc[train])\n",
        "    score = pipe_lr.score(X_train.iloc[test], y_train.iloc[test])\n",
        "    scores.append(score)\n",
        "    print(f'Fold: {k+1:2d}, Acc: {score:.3f}')\n",
        "    \n",
        "print('\\nCV accuracy: %.3f +/- %.3f' % (np.mean(scores), np.std(scores)))\n",
        "model_1_op = [\"Support Vector Classification\", round(np.mean(scores),ndigits=3), round(np.std(scores),ndigits=3)]"
      ],
      "metadata": {
        "colab": {
          "base_uri": "https://localhost:8080/"
        },
        "outputId": "138524e2-3a49-4a9c-bffb-1295c4aea9bb",
        "id": "nOXiMGTBEPEv"
      },
      "execution_count": null,
      "outputs": [
        {
          "output_type": "stream",
          "name": "stderr",
          "text": [
            "/usr/local/lib/python3.7/dist-packages/sklearn/model_selection/_split.py:680: UserWarning: The least populated class in y has only 6 members, which is less than n_splits=10.\n",
            "  UserWarning,\n",
            "/usr/local/lib/python3.7/dist-packages/sklearn/utils/validation.py:993: DataConversionWarning: A column-vector y was passed when a 1d array was expected. Please change the shape of y to (n_samples, ), for example using ravel().\n",
            "  y = column_or_1d(y, warn=True)\n",
            "/usr/local/lib/python3.7/dist-packages/sklearn/utils/validation.py:993: DataConversionWarning: A column-vector y was passed when a 1d array was expected. Please change the shape of y to (n_samples, ), for example using ravel().\n",
            "  y = column_or_1d(y, warn=True)\n",
            "/usr/local/lib/python3.7/dist-packages/sklearn/utils/validation.py:993: DataConversionWarning: A column-vector y was passed when a 1d array was expected. Please change the shape of y to (n_samples, ), for example using ravel().\n",
            "  y = column_or_1d(y, warn=True)\n",
            "/usr/local/lib/python3.7/dist-packages/sklearn/utils/validation.py:993: DataConversionWarning: A column-vector y was passed when a 1d array was expected. Please change the shape of y to (n_samples, ), for example using ravel().\n",
            "  y = column_or_1d(y, warn=True)\n",
            "/usr/local/lib/python3.7/dist-packages/sklearn/utils/validation.py:993: DataConversionWarning: A column-vector y was passed when a 1d array was expected. Please change the shape of y to (n_samples, ), for example using ravel().\n",
            "  y = column_or_1d(y, warn=True)\n",
            "/usr/local/lib/python3.7/dist-packages/sklearn/utils/validation.py:993: DataConversionWarning: A column-vector y was passed when a 1d array was expected. Please change the shape of y to (n_samples, ), for example using ravel().\n",
            "  y = column_or_1d(y, warn=True)\n"
          ]
        },
        {
          "output_type": "stream",
          "name": "stdout",
          "text": [
            "Fold:  1, Acc: 0.250\n",
            "Fold:  2, Acc: 0.167\n",
            "Fold:  3, Acc: 0.333\n",
            "Fold:  4, Acc: 0.250\n",
            "Fold:  5, Acc: 0.000\n",
            "Fold:  6, Acc: 0.167\n"
          ]
        },
        {
          "output_type": "stream",
          "name": "stderr",
          "text": [
            "/usr/local/lib/python3.7/dist-packages/sklearn/utils/validation.py:993: DataConversionWarning: A column-vector y was passed when a 1d array was expected. Please change the shape of y to (n_samples, ), for example using ravel().\n",
            "  y = column_or_1d(y, warn=True)\n",
            "/usr/local/lib/python3.7/dist-packages/sklearn/utils/validation.py:993: DataConversionWarning: A column-vector y was passed when a 1d array was expected. Please change the shape of y to (n_samples, ), for example using ravel().\n",
            "  y = column_or_1d(y, warn=True)\n"
          ]
        },
        {
          "output_type": "stream",
          "name": "stdout",
          "text": [
            "Fold:  7, Acc: 0.273\n",
            "Fold:  8, Acc: 0.091\n",
            "Fold:  9, Acc: 0.182\n",
            "Fold: 10, Acc: 0.364\n",
            "\n",
            "CV accuracy: 0.208 +/- 0.104\n"
          ]
        },
        {
          "output_type": "stream",
          "name": "stderr",
          "text": [
            "/usr/local/lib/python3.7/dist-packages/sklearn/utils/validation.py:993: DataConversionWarning: A column-vector y was passed when a 1d array was expected. Please change the shape of y to (n_samples, ), for example using ravel().\n",
            "  y = column_or_1d(y, warn=True)\n",
            "/usr/local/lib/python3.7/dist-packages/sklearn/utils/validation.py:993: DataConversionWarning: A column-vector y was passed when a 1d array was expected. Please change the shape of y to (n_samples, ), for example using ravel().\n",
            "  y = column_or_1d(y, warn=True)\n"
          ]
        }
      ]
    },
    {
      "cell_type": "markdown",
      "source": [
        "#### Model 2: Stochastic Gradient Descent"
      ],
      "metadata": {
        "id": "KvMC_1KMEPEv"
      }
    },
    {
      "cell_type": "code",
      "source": [
        "pipe_lr = make_pipeline(StandardScaler(), SGDClassifier())\n",
        "pipe_lr.fit(X_train, y_train)\n",
        "y_pred = pipe_lr.predict(X_test)\n",
        "print('Test Accuracy: %.3f' % pipe_lr.score(X_test, y_test))"
      ],
      "metadata": {
        "colab": {
          "base_uri": "https://localhost:8080/"
        },
        "outputId": "9efd6d90-95da-489e-cb35-7c7a3bb72304",
        "id": "xwG2Hcy9EPEv"
      },
      "execution_count": null,
      "outputs": [
        {
          "output_type": "stream",
          "name": "stderr",
          "text": [
            "/usr/local/lib/python3.7/dist-packages/sklearn/utils/validation.py:993: DataConversionWarning: A column-vector y was passed when a 1d array was expected. Please change the shape of y to (n_samples, ), for example using ravel().\n",
            "  y = column_or_1d(y, warn=True)\n"
          ]
        },
        {
          "output_type": "stream",
          "name": "stdout",
          "text": [
            "Test Accuracy: 0.103\n"
          ]
        }
      ]
    },
    {
      "cell_type": "code",
      "source": [
        "kfold = StratifiedKFold(n_splits=10).split(X_train, y_train)\n",
        "\n",
        "scores = []\n",
        "for k, (train, test) in enumerate(kfold):\n",
        "    pipe_lr.fit(X_train.iloc[train], y_train.iloc[train])\n",
        "    score = pipe_lr.score(X_train.iloc[test], y_train.iloc[test])\n",
        "    scores.append(score)\n",
        "    print(f'Fold: {k+1:2d}, Acc: {score:.3f}')\n",
        "    \n",
        "print('\\nCV accuracy: %.3f +/- %.3f' % (np.mean(scores), np.std(scores)))\n",
        "model_2_op = [\"Stochastic Gradient Descent\", round(np.mean(scores),ndigits=3), round(np.std(scores),ndigits=3)]"
      ],
      "metadata": {
        "colab": {
          "base_uri": "https://localhost:8080/"
        },
        "outputId": "15101b9f-1de6-47c3-879a-f418b3deb2f2",
        "id": "W7AP0YmNEPEv"
      },
      "execution_count": null,
      "outputs": [
        {
          "output_type": "stream",
          "name": "stderr",
          "text": [
            "/usr/local/lib/python3.7/dist-packages/sklearn/model_selection/_split.py:680: UserWarning: The least populated class in y has only 6 members, which is less than n_splits=10.\n",
            "  UserWarning,\n",
            "/usr/local/lib/python3.7/dist-packages/sklearn/utils/validation.py:993: DataConversionWarning: A column-vector y was passed when a 1d array was expected. Please change the shape of y to (n_samples, ), for example using ravel().\n",
            "  y = column_or_1d(y, warn=True)\n",
            "/usr/local/lib/python3.7/dist-packages/sklearn/utils/validation.py:993: DataConversionWarning: A column-vector y was passed when a 1d array was expected. Please change the shape of y to (n_samples, ), for example using ravel().\n",
            "  y = column_or_1d(y, warn=True)\n",
            "/usr/local/lib/python3.7/dist-packages/sklearn/utils/validation.py:993: DataConversionWarning: A column-vector y was passed when a 1d array was expected. Please change the shape of y to (n_samples, ), for example using ravel().\n",
            "  y = column_or_1d(y, warn=True)\n",
            "/usr/local/lib/python3.7/dist-packages/sklearn/utils/validation.py:993: DataConversionWarning: A column-vector y was passed when a 1d array was expected. Please change the shape of y to (n_samples, ), for example using ravel().\n",
            "  y = column_or_1d(y, warn=True)\n"
          ]
        },
        {
          "output_type": "stream",
          "name": "stdout",
          "text": [
            "Fold:  1, Acc: 0.167\n",
            "Fold:  2, Acc: 0.167\n",
            "Fold:  3, Acc: 0.083\n",
            "Fold:  4, Acc: 0.250\n"
          ]
        },
        {
          "output_type": "stream",
          "name": "stderr",
          "text": [
            "/usr/local/lib/python3.7/dist-packages/sklearn/utils/validation.py:993: DataConversionWarning: A column-vector y was passed when a 1d array was expected. Please change the shape of y to (n_samples, ), for example using ravel().\n",
            "  y = column_or_1d(y, warn=True)\n",
            "/usr/local/lib/python3.7/dist-packages/sklearn/utils/validation.py:993: DataConversionWarning: A column-vector y was passed when a 1d array was expected. Please change the shape of y to (n_samples, ), for example using ravel().\n",
            "  y = column_or_1d(y, warn=True)\n",
            "/usr/local/lib/python3.7/dist-packages/sklearn/utils/validation.py:993: DataConversionWarning: A column-vector y was passed when a 1d array was expected. Please change the shape of y to (n_samples, ), for example using ravel().\n",
            "  y = column_or_1d(y, warn=True)\n"
          ]
        },
        {
          "output_type": "stream",
          "name": "stdout",
          "text": [
            "Fold:  5, Acc: 0.167\n",
            "Fold:  6, Acc: 0.167\n",
            "Fold:  7, Acc: 0.182\n",
            "Fold:  8, Acc: 0.182\n",
            "Fold:  9, Acc: 0.182\n",
            "Fold: 10, Acc: 0.182\n",
            "\n",
            "CV accuracy: 0.173 +/- 0.038\n"
          ]
        },
        {
          "output_type": "stream",
          "name": "stderr",
          "text": [
            "/usr/local/lib/python3.7/dist-packages/sklearn/utils/validation.py:993: DataConversionWarning: A column-vector y was passed when a 1d array was expected. Please change the shape of y to (n_samples, ), for example using ravel().\n",
            "  y = column_or_1d(y, warn=True)\n",
            "/usr/local/lib/python3.7/dist-packages/sklearn/utils/validation.py:993: DataConversionWarning: A column-vector y was passed when a 1d array was expected. Please change the shape of y to (n_samples, ), for example using ravel().\n",
            "  y = column_or_1d(y, warn=True)\n",
            "/usr/local/lib/python3.7/dist-packages/sklearn/utils/validation.py:993: DataConversionWarning: A column-vector y was passed when a 1d array was expected. Please change the shape of y to (n_samples, ), for example using ravel().\n",
            "  y = column_or_1d(y, warn=True)\n"
          ]
        }
      ]
    },
    {
      "cell_type": "markdown",
      "source": [
        "#### Model 3: Decision Trees"
      ],
      "metadata": {
        "id": "JzeMf8oREPEw"
      }
    },
    {
      "cell_type": "code",
      "source": [
        "pipe_lr = make_pipeline(StandardScaler(), tree.DecisionTreeRegressor())\n",
        "pipe_lr.fit(X_train, y_train)\n",
        "y_pred = pipe_lr.predict(X_test)\n",
        "print('Test Accuracy: %.3f' % pipe_lr.score(X_test, y_test))"
      ],
      "metadata": {
        "colab": {
          "base_uri": "https://localhost:8080/"
        },
        "outputId": "a7f5605c-17db-4740-de7c-8cf2681efd1b",
        "id": "TZ3_lLd5EPEw"
      },
      "execution_count": null,
      "outputs": [
        {
          "output_type": "stream",
          "name": "stdout",
          "text": [
            "Test Accuracy: 0.147\n"
          ]
        }
      ]
    },
    {
      "cell_type": "code",
      "source": [
        "kfold = StratifiedKFold(n_splits=10).split(X_train, y_train)\n",
        "\n",
        "scores = []\n",
        "for k, (train, test) in enumerate(kfold):\n",
        "    pipe_lr.fit(X_train.iloc[train], y_train.iloc[train])\n",
        "    score = pipe_lr.score(X_train.iloc[test], y_train.iloc[test])\n",
        "    scores.append(score)\n",
        "    print(f'Fold: {k+1:2d}, Acc: {score:.3f}')\n",
        "    \n",
        "print('\\nCV accuracy: %.3f +/- %.3f' % (np.mean(scores), np.std(scores)))\n",
        "model_3_op = [\"Decision Tree\", round(np.mean(scores),ndigits=3), round(np.std(scores),ndigits=3)]"
      ],
      "metadata": {
        "colab": {
          "base_uri": "https://localhost:8080/"
        },
        "outputId": "f0d84bd1-b9a2-485c-8d01-c142aedafc9d",
        "id": "ofNojxWqEPEw"
      },
      "execution_count": null,
      "outputs": [
        {
          "output_type": "stream",
          "name": "stderr",
          "text": [
            "/usr/local/lib/python3.7/dist-packages/sklearn/model_selection/_split.py:680: UserWarning: The least populated class in y has only 6 members, which is less than n_splits=10.\n",
            "  UserWarning,\n"
          ]
        },
        {
          "output_type": "stream",
          "name": "stdout",
          "text": [
            "Fold:  1, Acc: 0.350\n",
            "Fold:  2, Acc: 0.100\n",
            "Fold:  3, Acc: 0.215\n",
            "Fold:  4, Acc: 0.357\n",
            "Fold:  5, Acc: 0.206\n",
            "Fold:  6, Acc: 0.035\n",
            "Fold:  7, Acc: -0.163\n",
            "Fold:  8, Acc: -0.199\n",
            "Fold:  9, Acc: -0.075\n",
            "Fold: 10, Acc: 0.281\n",
            "\n",
            "CV accuracy: 0.111 +/- 0.195\n"
          ]
        }
      ]
    },
    {
      "cell_type": "markdown",
      "source": [
        "#### Model 4: Random Forest"
      ],
      "metadata": {
        "id": "9DiVhUrpEPEw"
      }
    },
    {
      "cell_type": "code",
      "source": [
        "pipe_lr = make_pipeline(StandardScaler(), RandomForestClassifier(n_estimators=100))\n",
        "pipe_lr.fit(X_train, y_train)\n",
        "y_pred = pipe_lr.predict(X_test)\n",
        "print('Test Accuracy: %.3f' % pipe_lr.score(X_test, y_test))\n"
      ],
      "metadata": {
        "colab": {
          "base_uri": "https://localhost:8080/"
        },
        "outputId": "3242092c-dba5-4591-937b-b976438dcca8",
        "id": "fZP8o5e7EPEw"
      },
      "execution_count": null,
      "outputs": [
        {
          "output_type": "stream",
          "name": "stderr",
          "text": [
            "/usr/local/lib/python3.7/dist-packages/sklearn/pipeline.py:394: DataConversionWarning: A column-vector y was passed when a 1d array was expected. Please change the shape of y to (n_samples,), for example using ravel().\n",
            "  self._final_estimator.fit(Xt, y, **fit_params_last_step)\n"
          ]
        },
        {
          "output_type": "stream",
          "name": "stdout",
          "text": [
            "Test Accuracy: 0.241\n"
          ]
        }
      ]
    },
    {
      "cell_type": "code",
      "source": [
        "kfold = StratifiedKFold(n_splits=10).split(X_train, y_train)\n",
        "\n",
        "scores = []\n",
        "for k, (train, test) in enumerate(kfold):\n",
        "    pipe_lr.fit(X_train.iloc[train], y_train.iloc[train])\n",
        "    score = pipe_lr.score(X_train.iloc[test], y_train.iloc[test])\n",
        "    scores.append(score)\n",
        "    print(f'Fold: {k+1:2d}, Acc: {score:.3f}')\n",
        "    \n",
        "print('\\nCV accuracy: %.3f +/- %.3f' % (np.mean(scores), np.std(scores)))\n",
        "model_4_op = [\"Random Forest\", round(np.mean(scores),ndigits=3), round(np.std(scores),ndigits=3)]"
      ],
      "metadata": {
        "outputId": "ea538a5c-e4ee-4c8b-81a1-26457efe86a2",
        "colab": {
          "base_uri": "https://localhost:8080/"
        },
        "id": "hmxbw5ytEPEw"
      },
      "execution_count": null,
      "outputs": [
        {
          "output_type": "stream",
          "name": "stderr",
          "text": [
            "/usr/local/lib/python3.7/dist-packages/sklearn/model_selection/_split.py:680: UserWarning: The least populated class in y has only 6 members, which is less than n_splits=10.\n",
            "  UserWarning,\n",
            "/usr/local/lib/python3.7/dist-packages/sklearn/pipeline.py:394: DataConversionWarning: A column-vector y was passed when a 1d array was expected. Please change the shape of y to (n_samples,), for example using ravel().\n",
            "  self._final_estimator.fit(Xt, y, **fit_params_last_step)\n"
          ]
        },
        {
          "output_type": "stream",
          "name": "stdout",
          "text": [
            "Fold:  1, Acc: 0.250\n",
            "Fold:  2, Acc: 0.250\n"
          ]
        },
        {
          "output_type": "stream",
          "name": "stderr",
          "text": [
            "/usr/local/lib/python3.7/dist-packages/sklearn/pipeline.py:394: DataConversionWarning: A column-vector y was passed when a 1d array was expected. Please change the shape of y to (n_samples,), for example using ravel().\n",
            "  self._final_estimator.fit(Xt, y, **fit_params_last_step)\n",
            "/usr/local/lib/python3.7/dist-packages/sklearn/pipeline.py:394: DataConversionWarning: A column-vector y was passed when a 1d array was expected. Please change the shape of y to (n_samples,), for example using ravel().\n",
            "  self._final_estimator.fit(Xt, y, **fit_params_last_step)\n"
          ]
        },
        {
          "output_type": "stream",
          "name": "stdout",
          "text": [
            "Fold:  3, Acc: 0.500\n"
          ]
        },
        {
          "output_type": "stream",
          "name": "stderr",
          "text": [
            "/usr/local/lib/python3.7/dist-packages/sklearn/pipeline.py:394: DataConversionWarning: A column-vector y was passed when a 1d array was expected. Please change the shape of y to (n_samples,), for example using ravel().\n",
            "  self._final_estimator.fit(Xt, y, **fit_params_last_step)\n"
          ]
        },
        {
          "output_type": "stream",
          "name": "stdout",
          "text": [
            "Fold:  4, Acc: 0.333\n"
          ]
        },
        {
          "output_type": "stream",
          "name": "stderr",
          "text": [
            "/usr/local/lib/python3.7/dist-packages/sklearn/pipeline.py:394: DataConversionWarning: A column-vector y was passed when a 1d array was expected. Please change the shape of y to (n_samples,), for example using ravel().\n",
            "  self._final_estimator.fit(Xt, y, **fit_params_last_step)\n"
          ]
        },
        {
          "output_type": "stream",
          "name": "stdout",
          "text": [
            "Fold:  5, Acc: 0.167\n",
            "Fold:  6, Acc: 0.083\n"
          ]
        },
        {
          "output_type": "stream",
          "name": "stderr",
          "text": [
            "/usr/local/lib/python3.7/dist-packages/sklearn/pipeline.py:394: DataConversionWarning: A column-vector y was passed when a 1d array was expected. Please change the shape of y to (n_samples,), for example using ravel().\n",
            "  self._final_estimator.fit(Xt, y, **fit_params_last_step)\n",
            "/usr/local/lib/python3.7/dist-packages/sklearn/pipeline.py:394: DataConversionWarning: A column-vector y was passed when a 1d array was expected. Please change the shape of y to (n_samples,), for example using ravel().\n",
            "  self._final_estimator.fit(Xt, y, **fit_params_last_step)\n"
          ]
        },
        {
          "output_type": "stream",
          "name": "stdout",
          "text": [
            "Fold:  7, Acc: 0.182\n"
          ]
        },
        {
          "output_type": "stream",
          "name": "stderr",
          "text": [
            "/usr/local/lib/python3.7/dist-packages/sklearn/pipeline.py:394: DataConversionWarning: A column-vector y was passed when a 1d array was expected. Please change the shape of y to (n_samples,), for example using ravel().\n",
            "  self._final_estimator.fit(Xt, y, **fit_params_last_step)\n"
          ]
        },
        {
          "output_type": "stream",
          "name": "stdout",
          "text": [
            "Fold:  8, Acc: 0.091\n"
          ]
        },
        {
          "output_type": "stream",
          "name": "stderr",
          "text": [
            "/usr/local/lib/python3.7/dist-packages/sklearn/pipeline.py:394: DataConversionWarning: A column-vector y was passed when a 1d array was expected. Please change the shape of y to (n_samples,), for example using ravel().\n",
            "  self._final_estimator.fit(Xt, y, **fit_params_last_step)\n"
          ]
        },
        {
          "output_type": "stream",
          "name": "stdout",
          "text": [
            "Fold:  9, Acc: 0.364\n"
          ]
        },
        {
          "output_type": "stream",
          "name": "stderr",
          "text": [
            "/usr/local/lib/python3.7/dist-packages/sklearn/pipeline.py:394: DataConversionWarning: A column-vector y was passed when a 1d array was expected. Please change the shape of y to (n_samples,), for example using ravel().\n",
            "  self._final_estimator.fit(Xt, y, **fit_params_last_step)\n"
          ]
        },
        {
          "output_type": "stream",
          "name": "stdout",
          "text": [
            "Fold: 10, Acc: 0.182\n",
            "\n",
            "CV accuracy: 0.240 +/- 0.123\n"
          ]
        }
      ]
    },
    {
      "cell_type": "markdown",
      "source": [
        "#### Summary"
      ],
      "metadata": {
        "id": "Vx1VyKY9Ejox"
      }
    },
    {
      "cell_type": "code",
      "source": [
        "table_data =[model_1_op, model_2_op, model_3_op, model_4_op]\n",
        "col_names = [\"Model\", \"K-fold Mean Accuracy\", \"Standard Deviation\"]"
      ],
      "metadata": {
        "id": "59rQSG3FEjo3"
      },
      "execution_count": null,
      "outputs": []
    },
    {
      "cell_type": "code",
      "source": [
        "print(tabulate(table_data, headers=col_names))"
      ],
      "metadata": {
        "colab": {
          "base_uri": "https://localhost:8080/"
        },
        "outputId": "74574c1f-a46d-44e0-b38d-963d89d0dc82",
        "id": "w6XIXTRTEjo3"
      },
      "execution_count": null,
      "outputs": [
        {
          "output_type": "stream",
          "name": "stdout",
          "text": [
            "Model                            K-fold Mean Accuracy    Standard Deviation\n",
            "-----------------------------  ----------------------  --------------------\n",
            "Support Vector Classification                   0.208                 0.104\n",
            "Stochastic Gradient Descent                     0.173                 0.038\n",
            "Decision Tree                                   0.111                 0.195\n",
            "Random Forest                                   0.24                  0.123\n"
          ]
        }
      ]
    }
  ]
}