{
  "nbformat": 4,
  "nbformat_minor": 0,
  "metadata": {
    "colab": {
      "name": "545 Homework 1_Yue Zhang.ipynb",
      "provenance": [],
      "collapsed_sections": []
    },
    "kernelspec": {
      "name": "python3",
      "display_name": "Python 3"
    },
    "language_info": {
      "name": "python"
    }
  },
  "cells": [
    {
      "cell_type": "markdown",
      "source": [
        "#CIS 545 Homework 1: Data Wrangling and Cleaning\n",
        "> Spring 2022 | Due February 9th, 10:00 PM EST\n",
        "\n",
        "Hello future data scientists and welcome to CIS 545! In this homework, you will familiarize yourself with Pandas 🐼! The cutest animal and one of the essential libraries for Data Science. This homework is focused on one of the most important tasks in Data Science, preparing datasets so that they can be analyzed, plotted, used for machine learning models, etc...\n",
        "\n",
        "This homework will be broken into analyzing two datasets across three sections and a fourth section focusing on xpaths!\n",
        "\n",
        "1. Working with NFT Sales data and Ethereum price data\n",
        "\n",
        "2. Working on merged/joined versions of the two datasets (More on this later...)\n",
        "\n",
        "**Note: Before starting, you must click on the \"Copy To Drive\" option in the top bar. This is the master notebook so <u>you will not be able to save your changes without copying it </u>! Once you click on that, make sure you are working on that version of the notebook so that your work is saved** \n",
        "\n",
        "Run the following two cells to setup the notebook"
      ],
      "metadata": {
        "id": "Dy9AhVNC4UhW"
      }
    },
    {
      "cell_type": "code",
      "source": [
        "!pip3 install pandas==1.1.5\n",
        "!pip3 install penngrader"
      ],
      "metadata": {
        "id": "hgGzcAAn4cwc",
        "colab": {
          "base_uri": "https://localhost:8080/"
        },
        "outputId": "3c3c3f70-a174-4aba-dc9f-a87da7d46cf8"
      },
      "execution_count": null,
      "outputs": [
        {
          "output_type": "stream",
          "name": "stdout",
          "text": [
            "Requirement already satisfied: pandas==1.1.5 in /usr/local/lib/python3.7/dist-packages (1.1.5)\n",
            "Requirement already satisfied: pytz>=2017.2 in /usr/local/lib/python3.7/dist-packages (from pandas==1.1.5) (2018.9)\n",
            "Requirement already satisfied: numpy>=1.15.4 in /usr/local/lib/python3.7/dist-packages (from pandas==1.1.5) (1.19.5)\n",
            "Requirement already satisfied: python-dateutil>=2.7.3 in /usr/local/lib/python3.7/dist-packages (from pandas==1.1.5) (2.8.2)\n",
            "Requirement already satisfied: six>=1.5 in /usr/local/lib/python3.7/dist-packages (from python-dateutil>=2.7.3->pandas==1.1.5) (1.15.0)\n",
            "Requirement already satisfied: penngrader in /usr/local/lib/python3.7/dist-packages (0.4)\n"
          ]
        }
      ]
    },
    {
      "cell_type": "code",
      "execution_count": null,
      "metadata": {
        "id": "jI9MrDRmPc2D"
      },
      "outputs": [],
      "source": [
        "from penngrader.grader import *\n",
        "\n",
        "# Import neccessary libraries\n",
        "import pandas as pd\n",
        "import numpy as np\n",
        "import seaborn as sns\n",
        "from string import ascii_letters\n",
        "import matplotlib.pyplot as plt\n",
        "import datetime as dt\n",
        "import requests\n",
        "from lxml import html"
      ]
    },
    {
      "cell_type": "code",
      "source": [
        "!wget -nc https://storage.googleapis.com/penn-cis545/ETH-USD.csv\n",
        "!wget -nc https://storage.googleapis.com/penn-cis545/NFT_Sales.csv"
      ],
      "metadata": {
        "id": "AFnW-1ccqX3d",
        "colab": {
          "base_uri": "https://localhost:8080/"
        },
        "outputId": "b82efd44-c272-4058-c4a1-675cb75190e0"
      },
      "execution_count": null,
      "outputs": [
        {
          "output_type": "stream",
          "name": "stdout",
          "text": [
            "File ‘ETH-USD.csv’ already there; not retrieving.\n",
            "\n",
            "File ‘NFT_Sales.csv’ already there; not retrieving.\n",
            "\n"
          ]
        }
      ]
    },
    {
      "cell_type": "markdown",
      "source": [
        "#What is Pandas?\n",
        "\n",
        "<div class = \"row\">\n",
        "<div class=\"column\">\n",
        "Apart from animals, Pandas is a Python library to aid with data manipulation/analysis. It is built with support from Numpy. Numpy is another Python package/library that provides efficient calculations for matricies and other math problems.\n",
        "</div><div class=\"column\">\n",
        "<p class=\"d-flex\" align = \"center\">\n",
        "<img src = \"https://thehill.com/sites/default/files/styles/article_full/public/panda_getty.jpg?itok=4ce_5sip\" height= \"200\" align =\"center\"/>\n",
        "<img src = \"https://cff2.earth.com/uploads/2016/09/08101343/giant-panda-bear_1big_stock1.jpg\" height= \"200\" align =\"center\"/>\n",
        "</p>\n",
        "</div>\n",
        "</div>"
      ],
      "metadata": {
        "id": "X4MWrJzVSLdU"
      }
    },
    {
      "cell_type": "markdown",
      "source": [
        "Let's also get familiarized with the **PennGrader**. It was developed specifically for 545 by a previous TA, Leonardo Murri. \n",
        "<br>\n",
        "\n",
        "PennGrader was developed to provide students with instant feedback on their answer. You can submit your answer and know whether it's right or wrong instantly. We then record your most recent answer in our backend database. Let's try it out! Fill in the cell below with your 8-digit Penn ID and then run the following cell to initialize the grader."
      ],
      "metadata": {
        "id": "OqqWlMABSQ-9"
      }
    },
    {
      "cell_type": "code",
      "source": [
        "# PLEASE ENSURE YOUR PENN-ID IS ENTERED CORRECTLY. IF NOT, THE AUTOGRADER WON'T KNOW WHO \n",
        "# TO ASSIGN POINTS TO YOU IN OUR BACKEND\n",
        "STUDENT_ID =  67380955 # YOUR PENN-ID GOES HERE AS AN INTEGER #"
      ],
      "metadata": {
        "id": "6LU0DVI7STvE"
      },
      "execution_count": null,
      "outputs": []
    },
    {
      "cell_type": "code",
      "source": [
        "grader = PennGrader(homework_id = 'CIS545_Spring_2022_HW1', student_id = STUDENT_ID)"
      ],
      "metadata": {
        "id": "Z-dsLYpxSUla",
        "colab": {
          "base_uri": "https://localhost:8080/"
        },
        "outputId": "13e4455c-7471-4714-9d4d-0cbe3bc01e67"
      },
      "execution_count": null,
      "outputs": [
        {
          "output_type": "stream",
          "name": "stdout",
          "text": [
            "PennGrader initialized with Student ID: 67380955\n",
            "\n",
            "Make sure this correct or we will not be able to store your grade\n"
          ]
        }
      ]
    },
    {
      "cell_type": "markdown",
      "source": [
        "Pandas (the animal) are lazy. Their days are made up of eating and sleeping. Just like mine. Let's run a cell just to make sure PennGrader works.\n",
        "\n",
        "#### **TODO: PennGrader Check**\n",
        "- Change `favorite_activity` to whichever panda \"activity\" you prefer (2 point)\n",
        "\n",
        "<br>\n",
        "\n",
        "**Note**: We'll use cells like these \"TODO\" above to indicate what is important to have in each section of the notebook. Some general guidelines:\n",
        "\n",
        "- You don't have to do all of these in one cell/step; we're just labeling them for each section which might have smaller sub-sections (ex: look at how 1.2 is set up) for your reference\n",
        "- Make sure to read these carefully and do everything that is asked\n",
        "- Make sure to run all the PennGrader test cells; if we forgot anything, please let us know ASAP on Piazza so that we can update the Markdown cells here"
      ],
      "metadata": {
        "id": "YSkHHFT9Sbgh"
      }
    },
    {
      "cell_type": "code",
      "source": [
        "# In this cell, put which panda activity you prefer in lowercase(eating or sleeping)\n",
        "# Input activity name in all lowercase\n",
        "favorite_activity = 'sleeping'"
      ],
      "metadata": {
        "id": "WaPJ_4-5Sf4d"
      },
      "execution_count": null,
      "outputs": []
    },
    {
      "cell_type": "code",
      "source": [
        "# Run this cell to submit to PennGrader!\n",
        "\n",
        "# [CIS 545 PennGrader Cell] - 2 points\n",
        "grader.grade(test_case_id = 'panda_test', answer = favorite_activity)"
      ],
      "metadata": {
        "id": "94xAF6XkSgY4",
        "colab": {
          "base_uri": "https://localhost:8080/"
        },
        "outputId": "7725a405-ba31-4487-f6ec-ec1297642d64"
      },
      "execution_count": null,
      "outputs": [
        {
          "output_type": "stream",
          "name": "stdout",
          "text": [
            "Correct! You earned 2/2 points. You are a star!\n",
            "\n",
            "Your submission has been successfully recorded in the gradebook.\n"
          ]
        }
      ]
    },
    {
      "cell_type": "markdown",
      "source": [
        "You just had your first experience with the Penn Grader! For the future questions, once you have completed a question, you can submit your answer to the Penn Grader for immediate feedback. Awesome, right?\n",
        "\n",
        "We will use scores from Penn Grader to determine your grade. You will still need to submit your notebook so we can check for cheating and plagarism. Do not cheat. \n",
        "\n",
        "**Note:** If you run Penn Grader after the due date for any question, your assignment will be marked late, even if you already had full points for the question before the deadline. To remedy this, if you're going to run your notebook after the deadline, either do not run the grading cells, or reinitialize the grader with an empty or clearly fake ID such as <code>999999999999</code> (please use 10+ digits to be clearly a fake <code>STUDENT_ID</code>)"
      ],
      "metadata": {
        "id": "HvBKJGDRSkdb"
      }
    },
    {
      "cell_type": "markdown",
      "source": [
        "#Adding our data so that our code can find it\n",
        "\n",
        "We can't be data scientists without data! We provided code for you to download the data (the \"wget\" cell from earlier). If you go to the view on the left and click files, you should see something similar to this image\n",
        "![Screen Shot 2022-01-14 at 9.51.48 PM.png](data:image/png;base64,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)"
      ],
      "metadata": {
        "id": "MtQi1Fm9S6N3"
      }
    },
    {
      "cell_type": "markdown",
      "source": [
        "# Before you proceed\n",
        "\n",
        "While running the import cells, you may have gotten the following warning:\n",
        "\n",
        "```\n",
        "WARNING: The following packages were previously imported in this runtime:\n",
        "  [pandas]\n",
        "You must restart the runtime in order to use newly installed versions.\n",
        "```\n",
        "\n",
        "Please *RESTART* the runtime (Ctrl + M or from the 'Runtime' menu) before proceeding if this is the case!"
      ],
      "metadata": {
        "id": "K3hx4VRX4hgm"
      }
    },
    {
      "cell_type": "markdown",
      "source": [
        "#Part 1: Working with NFT Sales and Ethereum Data\n",
        "\n",
        "In this part of the homework we will be working with a dataset focused on NFT Sales and Ethereum rates! \n",
        "\n",
        "Let's first load our dataset into a Pandas Dataframe. Use Pandas's <code>read_csv</code> functionality, which you can find documentation for here:\n",
        "\n",
        "https://pandas.pydata.org/pandas-docs/stable/reference/api/pandas.read_csv.html\n",
        "\n",
        "While reading documentation is hard at first, we **strongly encourage you** to get into a good habit of it, since many times your questions will be answered directly by the documentation (ex: \"why isn't my dataframe dropping duplicates\" or \"why didn't this dataframe update\").\n",
        "\n",
        "#### **TODO**\n",
        "- Save the NFT Sales dataframe to a variable named: <code>nft_sales_df</code>\n",
        "- Save the Ethereum dataframe to a variable named: <code>eth_df</code>"
      ],
      "metadata": {
        "id": "E6wFn6peCi-Q"
      }
    },
    {
      "cell_type": "code",
      "source": [
        "# TODO: Import your two files to pandas dataframes -- make sure the dataframes are named correctly!\n",
        "nft_sales_df = pd.read_csv(\"NFT_Sales.csv\")\n",
        "eth_df = pd.read_csv(\"ETH-USD.csv\")"
      ],
      "metadata": {
        "id": "PeOS4sbEQ82l"
      },
      "execution_count": null,
      "outputs": []
    },
    {
      "cell_type": "markdown",
      "source": [
        "Let's focus on the `nft_sales_df` for now and see what the dataframe looks like. Display the first 10 rows of the dataframe in the cell below (take a look at the documentation to find now to do this!)"
      ],
      "metadata": {
        "id": "ZylevrV-Eoq-"
      }
    },
    {
      "cell_type": "code",
      "source": [
        "# TODO: Display the first 10 rows of `nft_sales_df`\n",
        "nft_sales_df.head(10)"
      ],
      "metadata": {
        "id": "uV415_ecEDBG",
        "colab": {
          "base_uri": "https://localhost:8080/",
          "height": 756
        },
        "outputId": "a363208c-6f68-4c78-8bbd-67aa4aae7cf7"
      },
      "execution_count": null,
      "outputs": [
        {
          "output_type": "execute_result",
          "data": {
            "text/html": [
              "\n",
              "  <div id=\"df-01296799-bb8c-41f6-a08f-728a81cb73a1\">\n",
              "    <div class=\"colab-df-container\">\n",
              "      <div>\n",
              "<style scoped>\n",
              "    .dataframe tbody tr th:only-of-type {\n",
              "        vertical-align: middle;\n",
              "    }\n",
              "\n",
              "    .dataframe tbody tr th {\n",
              "        vertical-align: top;\n",
              "    }\n",
              "\n",
              "    .dataframe thead th {\n",
              "        text-align: right;\n",
              "    }\n",
              "</style>\n",
              "<table border=\"1\" class=\"dataframe\">\n",
              "  <thead>\n",
              "    <tr style=\"text-align: right;\">\n",
              "      <th></th>\n",
              "      <th>Date</th>\n",
              "      <th>Sales_USD_cumsum</th>\n",
              "      <th>Number_of_Sales_cumsum</th>\n",
              "      <th>Active_Market_Wallets_cumsum</th>\n",
              "      <th>Primary_Sales_cumsum</th>\n",
              "      <th>Secondary_Sales_cumsum</th>\n",
              "      <th>AverageUSD_cum</th>\n",
              "      <th>Sales_USD</th>\n",
              "      <th>Number_of_Sales</th>\n",
              "      <th>Active_Market_Wallets</th>\n",
              "      <th>Primary_Sales</th>\n",
              "    </tr>\n",
              "  </thead>\n",
              "  <tbody>\n",
              "    <tr>\n",
              "      <th>0</th>\n",
              "      <td>2017-06-22</td>\n",
              "      <td>0.00</td>\n",
              "      <td>0</td>\n",
              "      <td>0.0</td>\n",
              "      <td>0</td>\n",
              "      <td>NaN</td>\n",
              "      <td>NaN</td>\n",
              "      <td>NaN</td>\n",
              "      <td>NaN</td>\n",
              "      <td>NaN</td>\n",
              "      <td>NaN</td>\n",
              "    </tr>\n",
              "    <tr>\n",
              "      <th>1</th>\n",
              "      <td>2017-06-23</td>\n",
              "      <td>1020.30</td>\n",
              "      <td>19</td>\n",
              "      <td>8.0</td>\n",
              "      <td>0</td>\n",
              "      <td>19.0</td>\n",
              "      <td>53.70</td>\n",
              "      <td>1020.30</td>\n",
              "      <td>19.0</td>\n",
              "      <td>8.0</td>\n",
              "      <td>0.0</td>\n",
              "    </tr>\n",
              "    <tr>\n",
              "      <th>2</th>\n",
              "      <td>2017-06-24</td>\n",
              "      <td>2261.14</td>\n",
              "      <td>40</td>\n",
              "      <td>21.0</td>\n",
              "      <td>0</td>\n",
              "      <td>21.0</td>\n",
              "      <td>56.53</td>\n",
              "      <td>1240.84</td>\n",
              "      <td>21.0</td>\n",
              "      <td>13.0</td>\n",
              "      <td>0.0</td>\n",
              "    </tr>\n",
              "    <tr>\n",
              "      <th>3</th>\n",
              "      <td>2017-06-25</td>\n",
              "      <td>2778.69</td>\n",
              "      <td>53</td>\n",
              "      <td>28.0</td>\n",
              "      <td>0</td>\n",
              "      <td>13.0</td>\n",
              "      <td>52.43</td>\n",
              "      <td>517.55</td>\n",
              "      <td>13.0</td>\n",
              "      <td>7.0</td>\n",
              "      <td>0.0</td>\n",
              "    </tr>\n",
              "    <tr>\n",
              "      <th>4</th>\n",
              "      <td>2017-06-26</td>\n",
              "      <td>3203.32</td>\n",
              "      <td>67</td>\n",
              "      <td>34.0</td>\n",
              "      <td>0</td>\n",
              "      <td>14.0</td>\n",
              "      <td>47.81</td>\n",
              "      <td>424.63</td>\n",
              "      <td>14.0</td>\n",
              "      <td>6.0</td>\n",
              "      <td>0.0</td>\n",
              "    </tr>\n",
              "    <tr>\n",
              "      <th>5</th>\n",
              "      <td>2017-06-27</td>\n",
              "      <td>5296.23</td>\n",
              "      <td>100</td>\n",
              "      <td>44.0</td>\n",
              "      <td>0</td>\n",
              "      <td>33.0</td>\n",
              "      <td>52.96</td>\n",
              "      <td>2092.91</td>\n",
              "      <td>33.0</td>\n",
              "      <td>10.0</td>\n",
              "      <td>0.0</td>\n",
              "    </tr>\n",
              "    <tr>\n",
              "      <th>6</th>\n",
              "      <td>2017-06-28</td>\n",
              "      <td>6543.49</td>\n",
              "      <td>115</td>\n",
              "      <td>46.0</td>\n",
              "      <td>0</td>\n",
              "      <td>15.0</td>\n",
              "      <td>56.90</td>\n",
              "      <td>1247.26</td>\n",
              "      <td>15.0</td>\n",
              "      <td>2.0</td>\n",
              "      <td>0.0</td>\n",
              "    </tr>\n",
              "    <tr>\n",
              "      <th>7</th>\n",
              "      <td>2017-06-29</td>\n",
              "      <td>8729.21</td>\n",
              "      <td>153</td>\n",
              "      <td>49.0</td>\n",
              "      <td>0</td>\n",
              "      <td>38.0</td>\n",
              "      <td>57.05</td>\n",
              "      <td>2185.72</td>\n",
              "      <td>38.0</td>\n",
              "      <td>3.0</td>\n",
              "      <td>0.0</td>\n",
              "    </tr>\n",
              "    <tr>\n",
              "      <th>8</th>\n",
              "      <td>2017-06-30</td>\n",
              "      <td>10437.36</td>\n",
              "      <td>174</td>\n",
              "      <td>53.0</td>\n",
              "      <td>0</td>\n",
              "      <td>21.0</td>\n",
              "      <td>59.98</td>\n",
              "      <td>1708.15</td>\n",
              "      <td>21.0</td>\n",
              "      <td>4.0</td>\n",
              "      <td>0.0</td>\n",
              "    </tr>\n",
              "    <tr>\n",
              "      <th>9</th>\n",
              "      <td>2017-07-01</td>\n",
              "      <td>13578.16</td>\n",
              "      <td>184</td>\n",
              "      <td>55.0</td>\n",
              "      <td>0</td>\n",
              "      <td>10.0</td>\n",
              "      <td>73.79</td>\n",
              "      <td>3140.80</td>\n",
              "      <td>10.0</td>\n",
              "      <td>2.0</td>\n",
              "      <td>0.0</td>\n",
              "    </tr>\n",
              "  </tbody>\n",
              "</table>\n",
              "</div>\n",
              "      <button class=\"colab-df-convert\" onclick=\"convertToInteractive('df-01296799-bb8c-41f6-a08f-728a81cb73a1')\"\n",
              "              title=\"Convert this dataframe to an interactive table.\"\n",
              "              style=\"display:none;\">\n",
              "        \n",
              "  <svg xmlns=\"http://www.w3.org/2000/svg\" height=\"24px\"viewBox=\"0 0 24 24\"\n",
              "       width=\"24px\">\n",
              "    <path d=\"M0 0h24v24H0V0z\" fill=\"none\"/>\n",
              "    <path d=\"M18.56 5.44l.94 2.06.94-2.06 2.06-.94-2.06-.94-.94-2.06-.94 2.06-2.06.94zm-11 1L8.5 8.5l.94-2.06 2.06-.94-2.06-.94L8.5 2.5l-.94 2.06-2.06.94zm10 10l.94 2.06.94-2.06 2.06-.94-2.06-.94-.94-2.06-.94 2.06-2.06.94z\"/><path d=\"M17.41 7.96l-1.37-1.37c-.4-.4-.92-.59-1.43-.59-.52 0-1.04.2-1.43.59L10.3 9.45l-7.72 7.72c-.78.78-.78 2.05 0 2.83L4 21.41c.39.39.9.59 1.41.59.51 0 1.02-.2 1.41-.59l7.78-7.78 2.81-2.81c.8-.78.8-2.07 0-2.86zM5.41 20L4 18.59l7.72-7.72 1.47 1.35L5.41 20z\"/>\n",
              "  </svg>\n",
              "      </button>\n",
              "      \n",
              "  <style>\n",
              "    .colab-df-container {\n",
              "      display:flex;\n",
              "      flex-wrap:wrap;\n",
              "      gap: 12px;\n",
              "    }\n",
              "\n",
              "    .colab-df-convert {\n",
              "      background-color: #E8F0FE;\n",
              "      border: none;\n",
              "      border-radius: 50%;\n",
              "      cursor: pointer;\n",
              "      display: none;\n",
              "      fill: #1967D2;\n",
              "      height: 32px;\n",
              "      padding: 0 0 0 0;\n",
              "      width: 32px;\n",
              "    }\n",
              "\n",
              "    .colab-df-convert:hover {\n",
              "      background-color: #E2EBFA;\n",
              "      box-shadow: 0px 1px 2px rgba(60, 64, 67, 0.3), 0px 1px 3px 1px rgba(60, 64, 67, 0.15);\n",
              "      fill: #174EA6;\n",
              "    }\n",
              "\n",
              "    [theme=dark] .colab-df-convert {\n",
              "      background-color: #3B4455;\n",
              "      fill: #D2E3FC;\n",
              "    }\n",
              "\n",
              "    [theme=dark] .colab-df-convert:hover {\n",
              "      background-color: #434B5C;\n",
              "      box-shadow: 0px 1px 3px 1px rgba(0, 0, 0, 0.15);\n",
              "      filter: drop-shadow(0px 1px 2px rgba(0, 0, 0, 0.3));\n",
              "      fill: #FFFFFF;\n",
              "    }\n",
              "  </style>\n",
              "\n",
              "      <script>\n",
              "        const buttonEl =\n",
              "          document.querySelector('#df-01296799-bb8c-41f6-a08f-728a81cb73a1 button.colab-df-convert');\n",
              "        buttonEl.style.display =\n",
              "          google.colab.kernel.accessAllowed ? 'block' : 'none';\n",
              "\n",
              "        async function convertToInteractive(key) {\n",
              "          const element = document.querySelector('#df-01296799-bb8c-41f6-a08f-728a81cb73a1');\n",
              "          const dataTable =\n",
              "            await google.colab.kernel.invokeFunction('convertToInteractive',\n",
              "                                                     [key], {});\n",
              "          if (!dataTable) return;\n",
              "\n",
              "          const docLinkHtml = 'Like what you see? Visit the ' +\n",
              "            '<a target=\"_blank\" href=https://colab.research.google.com/notebooks/data_table.ipynb>data table notebook</a>'\n",
              "            + ' to learn more about interactive tables.';\n",
              "          element.innerHTML = '';\n",
              "          dataTable['output_type'] = 'display_data';\n",
              "          await google.colab.output.renderOutput(dataTable, element);\n",
              "          const docLink = document.createElement('div');\n",
              "          docLink.innerHTML = docLinkHtml;\n",
              "          element.appendChild(docLink);\n",
              "        }\n",
              "      </script>\n",
              "    </div>\n",
              "  </div>\n",
              "  "
            ],
            "text/plain": [
              "         Date  Sales_USD_cumsum  ...  Active_Market_Wallets  Primary_Sales\n",
              "0  2017-06-22              0.00  ...                    NaN            NaN\n",
              "1  2017-06-23           1020.30  ...                    8.0            0.0\n",
              "2  2017-06-24           2261.14  ...                   13.0            0.0\n",
              "3  2017-06-25           2778.69  ...                    7.0            0.0\n",
              "4  2017-06-26           3203.32  ...                    6.0            0.0\n",
              "5  2017-06-27           5296.23  ...                   10.0            0.0\n",
              "6  2017-06-28           6543.49  ...                    2.0            0.0\n",
              "7  2017-06-29           8729.21  ...                    3.0            0.0\n",
              "8  2017-06-30          10437.36  ...                    4.0            0.0\n",
              "9  2017-07-01          13578.16  ...                    2.0            0.0\n",
              "\n",
              "[10 rows x 11 columns]"
            ]
          },
          "metadata": {},
          "execution_count": 9
        }
      ]
    },
    {
      "cell_type": "markdown",
      "source": [
        "Another thing that is often times helpful to do is inspect the types of each column in a dataframe. Output the types of `nft_sales_df` in this cell below. "
      ],
      "metadata": {
        "id": "sfESXvu1FAdM"
      }
    },
    {
      "cell_type": "code",
      "source": [
        "# TODO: Display the datatypes in `nft_sales_df`\n",
        "nft_sales_df.dtypes"
      ],
      "metadata": {
        "id": "5H0qd2naED5E",
        "colab": {
          "base_uri": "https://localhost:8080/"
        },
        "outputId": "171f13dd-7d00-4907-f4b0-cdc45daaa78b"
      },
      "execution_count": null,
      "outputs": [
        {
          "output_type": "execute_result",
          "data": {
            "text/plain": [
              "Date                             object\n",
              "Sales_USD_cumsum                float64\n",
              "Number_of_Sales_cumsum            int64\n",
              "Active_Market_Wallets_cumsum    float64\n",
              "Primary_Sales_cumsum              int64\n",
              "Secondary_Sales_cumsum          float64\n",
              "AverageUSD_cum                  float64\n",
              "Sales_USD                       float64\n",
              "Number_of_Sales                 float64\n",
              "Active_Market_Wallets           float64\n",
              "Primary_Sales                   float64\n",
              "dtype: object"
            ]
          },
          "metadata": {},
          "execution_count": 10
        }
      ]
    },
    {
      "cell_type": "markdown",
      "source": [
        "Save the types of the Date, Sales_USD, Number_of_Sales, and Active_Market_Wallets columns to a series called `nft_sales_df_types` (retaining the index names) and pass them into the autograder cell below."
      ],
      "metadata": {
        "id": "qiVHMIlWFVZM"
      }
    },
    {
      "cell_type": "code",
      "source": [
        "nft_sales_df_types = nft_sales_df.dtypes[['Date', 'Sales_USD', 'Number_of_Sales', 'Active_Market_Wallets']]"
      ],
      "metadata": {
        "id": "lfxSqkJRFPa7"
      },
      "execution_count": null,
      "outputs": []
    },
    {
      "cell_type": "code",
      "source": [
        "# View the output here!\n",
        "nft_sales_df_types"
      ],
      "metadata": {
        "id": "C1SzVH04FySf",
        "colab": {
          "base_uri": "https://localhost:8080/"
        },
        "outputId": "e09f1958-7392-47b7-ac51-29393e6af4b9"
      },
      "execution_count": null,
      "outputs": [
        {
          "output_type": "execute_result",
          "data": {
            "text/plain": [
              "Date                      object\n",
              "Sales_USD                float64\n",
              "Number_of_Sales          float64\n",
              "Active_Market_Wallets    float64\n",
              "dtype: object"
            ]
          },
          "metadata": {},
          "execution_count": 12
        }
      ]
    },
    {
      "cell_type": "code",
      "source": [
        "# TEST CASE: nft_sales_df_types (2pt)\n",
        "# [CIS 545 PennGrader Cell] - 2 points\n",
        "grader.grade(test_case_id = 'nft_sales_df_types', answer = nft_sales_df_types)"
      ],
      "metadata": {
        "id": "ba-vFuJ-W_dI",
        "colab": {
          "base_uri": "https://localhost:8080/"
        },
        "outputId": "3cbf355d-c8a2-4070-f56a-5e2a52561cf2"
      },
      "execution_count": null,
      "outputs": [
        {
          "output_type": "stream",
          "name": "stdout",
          "text": [
            "Correct! You earned 2/2 points. You are a star!\n",
            "\n",
            "Your submission has been successfully recorded in the gradebook.\n"
          ]
        }
      ]
    },
    {
      "cell_type": "markdown",
      "source": [
        "##1.1 Cleaning up NFT Sales\n",
        "\n",
        "When you work with data, you'll have NaNs, duplicates or columns that don't give much insight into the data. There are different ways to deal with missing values (i.e. imputation, which you can read into on your own), but for now, let's drop some of these rows in `nft_sales_df` to clean up our data. Note that there might be multiple ways to do each step.\n",
        "\n",
        "\n",
        "Refer to the documentation if you get stuck -- it's your best friend!\n",
        "\n",
        "<br>\n",
        "\n",
        "#### **TODO: 1.1**\n",
        "\n",
        "- Drop rows that have nulls (e.g. NaN) in them\n",
        "- Drop rows that have duplicate dates. Keep the first row of each date.\n",
        "- Drop columns with `cumsum`, and the `AverageUSD_cum`, `Primary_Sales` columns. These columns aren't neccessary for the rest of the homework.\n",
        "- Save the final result to `nft_sales_df_cleaned` (5 points)"
      ],
      "metadata": {
        "id": "1OX3UXwg4pxf"
      }
    },
    {
      "cell_type": "code",
      "source": [
        "# TODO: Drop nulls\n",
        "nft_sales_df_cleaned = nft_sales_df.dropna(axis = 0, how = 'any')\n",
        "# TODO: Drop duplicates based on the Date column. Keep the first instance\n",
        "nft_sales_df_cleaned = nft_sales_df_cleaned.drop_duplicates(subset = 'Date', keep = 'first')\n",
        "# TODO: Drop columns with cumsum, and the AverageUSD_cum and Primary_Sales columns\n",
        "nft_sales_df_cleaned = nft_sales_df_cleaned.drop(['Sales_USD_cumsum', 'Number_of_Sales_cumsum', 'Active_Market_Wallets_cumsum', 'Primary_Sales_cumsum', 'Secondary_Sales_cumsum', 'AverageUSD_cum', 'Primary_Sales'], axis=1)"
      ],
      "metadata": {
        "id": "7U_Ea1nz44Ph"
      },
      "execution_count": null,
      "outputs": []
    },
    {
      "cell_type": "code",
      "source": [
        "#show result\n",
        "nft_sales_df_cleaned"
      ],
      "metadata": {
        "id": "0loLp1BQ46W6",
        "colab": {
          "base_uri": "https://localhost:8080/",
          "height": 423
        },
        "outputId": "c0b01ad5-22b8-4063-c3f7-c9722d5a1a39"
      },
      "execution_count": null,
      "outputs": [
        {
          "output_type": "execute_result",
          "data": {
            "text/html": [
              "\n",
              "  <div id=\"df-f380d709-1f92-436e-a67b-92528777caf3\">\n",
              "    <div class=\"colab-df-container\">\n",
              "      <div>\n",
              "<style scoped>\n",
              "    .dataframe tbody tr th:only-of-type {\n",
              "        vertical-align: middle;\n",
              "    }\n",
              "\n",
              "    .dataframe tbody tr th {\n",
              "        vertical-align: top;\n",
              "    }\n",
              "\n",
              "    .dataframe thead th {\n",
              "        text-align: right;\n",
              "    }\n",
              "</style>\n",
              "<table border=\"1\" class=\"dataframe\">\n",
              "  <thead>\n",
              "    <tr style=\"text-align: right;\">\n",
              "      <th></th>\n",
              "      <th>Date</th>\n",
              "      <th>Sales_USD</th>\n",
              "      <th>Number_of_Sales</th>\n",
              "      <th>Active_Market_Wallets</th>\n",
              "    </tr>\n",
              "  </thead>\n",
              "  <tbody>\n",
              "    <tr>\n",
              "      <th>1</th>\n",
              "      <td>2017-06-23</td>\n",
              "      <td>1.020300e+03</td>\n",
              "      <td>19.0</td>\n",
              "      <td>8.0</td>\n",
              "    </tr>\n",
              "    <tr>\n",
              "      <th>2</th>\n",
              "      <td>2017-06-24</td>\n",
              "      <td>1.240840e+03</td>\n",
              "      <td>21.0</td>\n",
              "      <td>13.0</td>\n",
              "    </tr>\n",
              "    <tr>\n",
              "      <th>3</th>\n",
              "      <td>2017-06-25</td>\n",
              "      <td>5.175500e+02</td>\n",
              "      <td>13.0</td>\n",
              "      <td>7.0</td>\n",
              "    </tr>\n",
              "    <tr>\n",
              "      <th>4</th>\n",
              "      <td>2017-06-26</td>\n",
              "      <td>4.246300e+02</td>\n",
              "      <td>14.0</td>\n",
              "      <td>6.0</td>\n",
              "    </tr>\n",
              "    <tr>\n",
              "      <th>5</th>\n",
              "      <td>2017-06-27</td>\n",
              "      <td>2.092910e+03</td>\n",
              "      <td>33.0</td>\n",
              "      <td>10.0</td>\n",
              "    </tr>\n",
              "    <tr>\n",
              "      <th>...</th>\n",
              "      <td>...</td>\n",
              "      <td>...</td>\n",
              "      <td>...</td>\n",
              "      <td>...</td>\n",
              "    </tr>\n",
              "    <tr>\n",
              "      <th>1593</th>\n",
              "      <td>2021-10-31</td>\n",
              "      <td>6.634104e+07</td>\n",
              "      <td>53472.0</td>\n",
              "      <td>6286.0</td>\n",
              "    </tr>\n",
              "    <tr>\n",
              "      <th>1594</th>\n",
              "      <td>2021-11-01</td>\n",
              "      <td>3.553877e+07</td>\n",
              "      <td>13646.0</td>\n",
              "      <td>6420.0</td>\n",
              "    </tr>\n",
              "    <tr>\n",
              "      <th>1595</th>\n",
              "      <td>2021-11-02</td>\n",
              "      <td>8.261331e+07</td>\n",
              "      <td>67388.0</td>\n",
              "      <td>5370.0</td>\n",
              "    </tr>\n",
              "    <tr>\n",
              "      <th>1596</th>\n",
              "      <td>2021-11-03</td>\n",
              "      <td>4.309933e+07</td>\n",
              "      <td>23465.0</td>\n",
              "      <td>3308.0</td>\n",
              "    </tr>\n",
              "    <tr>\n",
              "      <th>1597</th>\n",
              "      <td>2021-11-04</td>\n",
              "      <td>4.687265e+07</td>\n",
              "      <td>13108.0</td>\n",
              "      <td>-573.0</td>\n",
              "    </tr>\n",
              "  </tbody>\n",
              "</table>\n",
              "<p>1596 rows × 4 columns</p>\n",
              "</div>\n",
              "      <button class=\"colab-df-convert\" onclick=\"convertToInteractive('df-f380d709-1f92-436e-a67b-92528777caf3')\"\n",
              "              title=\"Convert this dataframe to an interactive table.\"\n",
              "              style=\"display:none;\">\n",
              "        \n",
              "  <svg xmlns=\"http://www.w3.org/2000/svg\" height=\"24px\"viewBox=\"0 0 24 24\"\n",
              "       width=\"24px\">\n",
              "    <path d=\"M0 0h24v24H0V0z\" fill=\"none\"/>\n",
              "    <path d=\"M18.56 5.44l.94 2.06.94-2.06 2.06-.94-2.06-.94-.94-2.06-.94 2.06-2.06.94zm-11 1L8.5 8.5l.94-2.06 2.06-.94-2.06-.94L8.5 2.5l-.94 2.06-2.06.94zm10 10l.94 2.06.94-2.06 2.06-.94-2.06-.94-.94-2.06-.94 2.06-2.06.94z\"/><path d=\"M17.41 7.96l-1.37-1.37c-.4-.4-.92-.59-1.43-.59-.52 0-1.04.2-1.43.59L10.3 9.45l-7.72 7.72c-.78.78-.78 2.05 0 2.83L4 21.41c.39.39.9.59 1.41.59.51 0 1.02-.2 1.41-.59l7.78-7.78 2.81-2.81c.8-.78.8-2.07 0-2.86zM5.41 20L4 18.59l7.72-7.72 1.47 1.35L5.41 20z\"/>\n",
              "  </svg>\n",
              "      </button>\n",
              "      \n",
              "  <style>\n",
              "    .colab-df-container {\n",
              "      display:flex;\n",
              "      flex-wrap:wrap;\n",
              "      gap: 12px;\n",
              "    }\n",
              "\n",
              "    .colab-df-convert {\n",
              "      background-color: #E8F0FE;\n",
              "      border: none;\n",
              "      border-radius: 50%;\n",
              "      cursor: pointer;\n",
              "      display: none;\n",
              "      fill: #1967D2;\n",
              "      height: 32px;\n",
              "      padding: 0 0 0 0;\n",
              "      width: 32px;\n",
              "    }\n",
              "\n",
              "    .colab-df-convert:hover {\n",
              "      background-color: #E2EBFA;\n",
              "      box-shadow: 0px 1px 2px rgba(60, 64, 67, 0.3), 0px 1px 3px 1px rgba(60, 64, 67, 0.15);\n",
              "      fill: #174EA6;\n",
              "    }\n",
              "\n",
              "    [theme=dark] .colab-df-convert {\n",
              "      background-color: #3B4455;\n",
              "      fill: #D2E3FC;\n",
              "    }\n",
              "\n",
              "    [theme=dark] .colab-df-convert:hover {\n",
              "      background-color: #434B5C;\n",
              "      box-shadow: 0px 1px 3px 1px rgba(0, 0, 0, 0.15);\n",
              "      filter: drop-shadow(0px 1px 2px rgba(0, 0, 0, 0.3));\n",
              "      fill: #FFFFFF;\n",
              "    }\n",
              "  </style>\n",
              "\n",
              "      <script>\n",
              "        const buttonEl =\n",
              "          document.querySelector('#df-f380d709-1f92-436e-a67b-92528777caf3 button.colab-df-convert');\n",
              "        buttonEl.style.display =\n",
              "          google.colab.kernel.accessAllowed ? 'block' : 'none';\n",
              "\n",
              "        async function convertToInteractive(key) {\n",
              "          const element = document.querySelector('#df-f380d709-1f92-436e-a67b-92528777caf3');\n",
              "          const dataTable =\n",
              "            await google.colab.kernel.invokeFunction('convertToInteractive',\n",
              "                                                     [key], {});\n",
              "          if (!dataTable) return;\n",
              "\n",
              "          const docLinkHtml = 'Like what you see? Visit the ' +\n",
              "            '<a target=\"_blank\" href=https://colab.research.google.com/notebooks/data_table.ipynb>data table notebook</a>'\n",
              "            + ' to learn more about interactive tables.';\n",
              "          element.innerHTML = '';\n",
              "          dataTable['output_type'] = 'display_data';\n",
              "          await google.colab.output.renderOutput(dataTable, element);\n",
              "          const docLink = document.createElement('div');\n",
              "          docLink.innerHTML = docLinkHtml;\n",
              "          element.appendChild(docLink);\n",
              "        }\n",
              "      </script>\n",
              "    </div>\n",
              "  </div>\n",
              "  "
            ],
            "text/plain": [
              "            Date     Sales_USD  Number_of_Sales  Active_Market_Wallets\n",
              "1     2017-06-23  1.020300e+03             19.0                    8.0\n",
              "2     2017-06-24  1.240840e+03             21.0                   13.0\n",
              "3     2017-06-25  5.175500e+02             13.0                    7.0\n",
              "4     2017-06-26  4.246300e+02             14.0                    6.0\n",
              "5     2017-06-27  2.092910e+03             33.0                   10.0\n",
              "...          ...           ...              ...                    ...\n",
              "1593  2021-10-31  6.634104e+07          53472.0                 6286.0\n",
              "1594  2021-11-01  3.553877e+07          13646.0                 6420.0\n",
              "1595  2021-11-02  8.261331e+07          67388.0                 5370.0\n",
              "1596  2021-11-03  4.309933e+07          23465.0                 3308.0\n",
              "1597  2021-11-04  4.687265e+07          13108.0                 -573.0\n",
              "\n",
              "[1596 rows x 4 columns]"
            ]
          },
          "metadata": {},
          "execution_count": 15
        }
      ]
    },
    {
      "cell_type": "code",
      "source": [
        "# TEST CASE: nft_sales_df_cleaned (5pt)\n",
        "# [CIS 545 PennGrader Cell] - 5 points\n",
        "grader.grade(test_case_id = 'nft_sales_df_cleaned', answer = nft_sales_df_cleaned)"
      ],
      "metadata": {
        "id": "FNytrbDmXX1S",
        "colab": {
          "base_uri": "https://localhost:8080/"
        },
        "outputId": "5fef65f4-0bfe-4e22-c7b8-a7a42eebe940"
      },
      "execution_count": null,
      "outputs": [
        {
          "output_type": "stream",
          "name": "stdout",
          "text": [
            "Correct! You earned 5/5 points. You are a star!\n",
            "\n",
            "Your submission has been successfully recorded in the gradebook.\n"
          ]
        }
      ]
    },
    {
      "cell_type": "markdown",
      "source": [
        "##1.2 Data Wrangling with NFT Sales Data\n",
        "\n",
        "Now, let's process the data in an appropriate format so that we can answer some queries more easily. Make sure to use `nft_sales_df_cleaned` for this part.\n",
        "\n",
        "**TODO: 1.2**\n",
        "\n",
        "*   Split the 'Date' column into 3 columns:  Year, Month and Day \n",
        "*   Convert Year, Month and Day columns to type int\n",
        "*   Convert `Date` into type datetime. See the `to_datetime()` function\n",
        "*   Save the final result into `nft_sales_df_final` (5 points)\n",
        "\n",
        "\n",
        "See `astype` in Pandas documentation for the type conversion."
      ],
      "metadata": {
        "id": "dyVN3t4-CocX"
      }
    },
    {
      "cell_type": "code",
      "source": [
        "# TODO: Split the Date into 3 columns\n",
        "nft_sales_df_cleaned[['Year', 'Month', 'Day']] = nft_sales_df_cleaned['Date'].str.split('-', expand=True)\n",
        "# TODO: Convert the type of the Year, Month and Day columns to int\n",
        "nft_sales_df_final =  nft_sales_df_cleaned.astype({\"Year\": 'int64', \"Month\": 'int64', \"Day\": 'int64'})\n",
        "# TODO: Convert Date into type datetime.\n",
        "nft_sales_df_final['Date'] =  pd.to_datetime(nft_sales_df_final['Date'])"
      ],
      "metadata": {
        "id": "L6zaWDBGCrN3"
      },
      "execution_count": null,
      "outputs": []
    },
    {
      "cell_type": "code",
      "source": [
        "# TEST CASE: nft_sales_df_final (4pt)\n",
        "# [CIS 545 PennGrader Cell] - 4 points\n",
        "grader.grade(test_case_id = 'nft_sales_df_final', answer = nft_sales_df_final)"
      ],
      "metadata": {
        "id": "VWFb3NGaX3cU",
        "colab": {
          "base_uri": "https://localhost:8080/"
        },
        "outputId": "811ca393-b078-41b2-c78d-bc81bf7648bd"
      },
      "execution_count": null,
      "outputs": [
        {
          "output_type": "stream",
          "name": "stdout",
          "text": [
            "Correct! You earned 4/4 points. You are a star!\n",
            "\n",
            "Your submission has been successfully recorded in the gradebook.\n"
          ]
        }
      ]
    },
    {
      "cell_type": "markdown",
      "source": [
        "###1.2.1 Compute average sales per month for NFTs\n",
        "\n",
        "In this section we will compute the average `Sales_USD` for each month and year combination.\n",
        "\n",
        "\n",
        "**TODO: 1.2.1**\n",
        "\n",
        "*   See the `groupby()` function \n",
        "*   Create a dataframe `monthly_sales_avg_df` with `Year`, `Month`, `monthly_sales_avg` columns. `monthly_sales_avg` is the average `Sales_USD` of each group"
      ],
      "metadata": {
        "id": "GHRg9iagCv7Q"
      }
    },
    {
      "cell_type": "code",
      "source": [
        "# TODO: Create monthly_sales_avg_df with columns: Year, Month, monthly_sales_avg\n",
        "monthly_sales_avg_df = nft_sales_df_final.groupby(['Year', 'Month']).agg(monthly_sales_avg = ('Sales_USD', 'mean')).reset_index()"
      ],
      "metadata": {
        "id": "6SGTS2-0CzG8"
      },
      "execution_count": null,
      "outputs": []
    },
    {
      "cell_type": "code",
      "source": [
        "# TEST CASE: monthly_sales_avg_df (4pt)\n",
        "# [CIS 545 PennGrader Cell] - 4 points\n",
        "grader.grade(test_case_id = 'monthly_sales_avg_df', answer = monthly_sales_avg_df)"
      ],
      "metadata": {
        "id": "Vd2nsNcWYRsy",
        "colab": {
          "base_uri": "https://localhost:8080/"
        },
        "outputId": "3286be68-e5dd-439f-b204-db02cc7143ca"
      },
      "execution_count": null,
      "outputs": [
        {
          "output_type": "stream",
          "name": "stdout",
          "text": [
            "Correct! You earned 4/4 points. You are a star!\n",
            "\n",
            "Your submission has been successfully recorded in the gradebook.\n"
          ]
        }
      ]
    },
    {
      "cell_type": "markdown",
      "source": [
        "###1.2.2 Compute average sales per week (Monday - Sunday) for NFTs\n",
        "\n",
        "In this section we will compute the average `Sales_USD` for each week and year combination.\n",
        "\n",
        "\n",
        "**TODO: 1.2.2**\n",
        "\n",
        "*   See the `groupby()` function \n",
        "* Add `Week` and `Year_of_Week` columns to `nft_sales_df_final` containing the week number and the year corresponding to the week number.\n",
        "  * For example, for Jan 1st, 2022 falls in the 52nd week of 2021, so Week is 52 and Year_of_Week is 2021.\n",
        "  * Hint: See the `date()` and `isocalendar()` functions in datetime and `apply()` for dataframes\n",
        "*   Create a dataframe `weekly_sales_avg_df` with `Year_of_Week`, `Week`, `weekly_sales_avg` columns. `weekly_sales_avg` is the average `Sales_USD` of each group."
      ],
      "metadata": {
        "id": "bVbH6Ur_Czah"
      }
    },
    {
      "cell_type": "code",
      "source": [
        "# TODO: Add Week and Year_of_Week columns to nft_sales_df_final\n",
        "nft_sales_df_final['Week'] = nft_sales_df_final['Date'].apply(lambda x:x.isocalendar()[1])\n",
        "nft_sales_df_final['Year_of_Week'] = nft_sales_df_final['Date'].apply(lambda x:x.isocalendar()[0])"
      ],
      "metadata": {
        "id": "hcy8yFfDCzyt"
      },
      "execution_count": null,
      "outputs": []
    },
    {
      "cell_type": "code",
      "source": [
        "nft_sales_df_final"
      ],
      "metadata": {
        "colab": {
          "base_uri": "https://localhost:8080/",
          "height": 423
        },
        "id": "qUs87E0Zvavg",
        "outputId": "83e12814-08eb-4f6f-c53b-6d1893f08e32"
      },
      "execution_count": null,
      "outputs": [
        {
          "output_type": "execute_result",
          "data": {
            "text/html": [
              "\n",
              "  <div id=\"df-8df7ae46-89d6-4d67-8581-e0640c0f3a0b\">\n",
              "    <div class=\"colab-df-container\">\n",
              "      <div>\n",
              "<style scoped>\n",
              "    .dataframe tbody tr th:only-of-type {\n",
              "        vertical-align: middle;\n",
              "    }\n",
              "\n",
              "    .dataframe tbody tr th {\n",
              "        vertical-align: top;\n",
              "    }\n",
              "\n",
              "    .dataframe thead th {\n",
              "        text-align: right;\n",
              "    }\n",
              "</style>\n",
              "<table border=\"1\" class=\"dataframe\">\n",
              "  <thead>\n",
              "    <tr style=\"text-align: right;\">\n",
              "      <th></th>\n",
              "      <th>Date</th>\n",
              "      <th>Sales_USD</th>\n",
              "      <th>Number_of_Sales</th>\n",
              "      <th>Active_Market_Wallets</th>\n",
              "      <th>Year</th>\n",
              "      <th>Month</th>\n",
              "      <th>Day</th>\n",
              "      <th>Week</th>\n",
              "      <th>Year_of_Week</th>\n",
              "    </tr>\n",
              "  </thead>\n",
              "  <tbody>\n",
              "    <tr>\n",
              "      <th>1</th>\n",
              "      <td>2017-06-23</td>\n",
              "      <td>1.020300e+03</td>\n",
              "      <td>19.0</td>\n",
              "      <td>8.0</td>\n",
              "      <td>2017</td>\n",
              "      <td>6</td>\n",
              "      <td>23</td>\n",
              "      <td>25</td>\n",
              "      <td>2017</td>\n",
              "    </tr>\n",
              "    <tr>\n",
              "      <th>2</th>\n",
              "      <td>2017-06-24</td>\n",
              "      <td>1.240840e+03</td>\n",
              "      <td>21.0</td>\n",
              "      <td>13.0</td>\n",
              "      <td>2017</td>\n",
              "      <td>6</td>\n",
              "      <td>24</td>\n",
              "      <td>25</td>\n",
              "      <td>2017</td>\n",
              "    </tr>\n",
              "    <tr>\n",
              "      <th>3</th>\n",
              "      <td>2017-06-25</td>\n",
              "      <td>5.175500e+02</td>\n",
              "      <td>13.0</td>\n",
              "      <td>7.0</td>\n",
              "      <td>2017</td>\n",
              "      <td>6</td>\n",
              "      <td>25</td>\n",
              "      <td>25</td>\n",
              "      <td>2017</td>\n",
              "    </tr>\n",
              "    <tr>\n",
              "      <th>4</th>\n",
              "      <td>2017-06-26</td>\n",
              "      <td>4.246300e+02</td>\n",
              "      <td>14.0</td>\n",
              "      <td>6.0</td>\n",
              "      <td>2017</td>\n",
              "      <td>6</td>\n",
              "      <td>26</td>\n",
              "      <td>26</td>\n",
              "      <td>2017</td>\n",
              "    </tr>\n",
              "    <tr>\n",
              "      <th>5</th>\n",
              "      <td>2017-06-27</td>\n",
              "      <td>2.092910e+03</td>\n",
              "      <td>33.0</td>\n",
              "      <td>10.0</td>\n",
              "      <td>2017</td>\n",
              "      <td>6</td>\n",
              "      <td>27</td>\n",
              "      <td>26</td>\n",
              "      <td>2017</td>\n",
              "    </tr>\n",
              "    <tr>\n",
              "      <th>...</th>\n",
              "      <td>...</td>\n",
              "      <td>...</td>\n",
              "      <td>...</td>\n",
              "      <td>...</td>\n",
              "      <td>...</td>\n",
              "      <td>...</td>\n",
              "      <td>...</td>\n",
              "      <td>...</td>\n",
              "      <td>...</td>\n",
              "    </tr>\n",
              "    <tr>\n",
              "      <th>1593</th>\n",
              "      <td>2021-10-31</td>\n",
              "      <td>6.634104e+07</td>\n",
              "      <td>53472.0</td>\n",
              "      <td>6286.0</td>\n",
              "      <td>2021</td>\n",
              "      <td>10</td>\n",
              "      <td>31</td>\n",
              "      <td>43</td>\n",
              "      <td>2021</td>\n",
              "    </tr>\n",
              "    <tr>\n",
              "      <th>1594</th>\n",
              "      <td>2021-11-01</td>\n",
              "      <td>3.553877e+07</td>\n",
              "      <td>13646.0</td>\n",
              "      <td>6420.0</td>\n",
              "      <td>2021</td>\n",
              "      <td>11</td>\n",
              "      <td>1</td>\n",
              "      <td>44</td>\n",
              "      <td>2021</td>\n",
              "    </tr>\n",
              "    <tr>\n",
              "      <th>1595</th>\n",
              "      <td>2021-11-02</td>\n",
              "      <td>8.261331e+07</td>\n",
              "      <td>67388.0</td>\n",
              "      <td>5370.0</td>\n",
              "      <td>2021</td>\n",
              "      <td>11</td>\n",
              "      <td>2</td>\n",
              "      <td>44</td>\n",
              "      <td>2021</td>\n",
              "    </tr>\n",
              "    <tr>\n",
              "      <th>1596</th>\n",
              "      <td>2021-11-03</td>\n",
              "      <td>4.309933e+07</td>\n",
              "      <td>23465.0</td>\n",
              "      <td>3308.0</td>\n",
              "      <td>2021</td>\n",
              "      <td>11</td>\n",
              "      <td>3</td>\n",
              "      <td>44</td>\n",
              "      <td>2021</td>\n",
              "    </tr>\n",
              "    <tr>\n",
              "      <th>1597</th>\n",
              "      <td>2021-11-04</td>\n",
              "      <td>4.687265e+07</td>\n",
              "      <td>13108.0</td>\n",
              "      <td>-573.0</td>\n",
              "      <td>2021</td>\n",
              "      <td>11</td>\n",
              "      <td>4</td>\n",
              "      <td>44</td>\n",
              "      <td>2021</td>\n",
              "    </tr>\n",
              "  </tbody>\n",
              "</table>\n",
              "<p>1596 rows × 9 columns</p>\n",
              "</div>\n",
              "      <button class=\"colab-df-convert\" onclick=\"convertToInteractive('df-8df7ae46-89d6-4d67-8581-e0640c0f3a0b')\"\n",
              "              title=\"Convert this dataframe to an interactive table.\"\n",
              "              style=\"display:none;\">\n",
              "        \n",
              "  <svg xmlns=\"http://www.w3.org/2000/svg\" height=\"24px\"viewBox=\"0 0 24 24\"\n",
              "       width=\"24px\">\n",
              "    <path d=\"M0 0h24v24H0V0z\" fill=\"none\"/>\n",
              "    <path d=\"M18.56 5.44l.94 2.06.94-2.06 2.06-.94-2.06-.94-.94-2.06-.94 2.06-2.06.94zm-11 1L8.5 8.5l.94-2.06 2.06-.94-2.06-.94L8.5 2.5l-.94 2.06-2.06.94zm10 10l.94 2.06.94-2.06 2.06-.94-2.06-.94-.94-2.06-.94 2.06-2.06.94z\"/><path d=\"M17.41 7.96l-1.37-1.37c-.4-.4-.92-.59-1.43-.59-.52 0-1.04.2-1.43.59L10.3 9.45l-7.72 7.72c-.78.78-.78 2.05 0 2.83L4 21.41c.39.39.9.59 1.41.59.51 0 1.02-.2 1.41-.59l7.78-7.78 2.81-2.81c.8-.78.8-2.07 0-2.86zM5.41 20L4 18.59l7.72-7.72 1.47 1.35L5.41 20z\"/>\n",
              "  </svg>\n",
              "      </button>\n",
              "      \n",
              "  <style>\n",
              "    .colab-df-container {\n",
              "      display:flex;\n",
              "      flex-wrap:wrap;\n",
              "      gap: 12px;\n",
              "    }\n",
              "\n",
              "    .colab-df-convert {\n",
              "      background-color: #E8F0FE;\n",
              "      border: none;\n",
              "      border-radius: 50%;\n",
              "      cursor: pointer;\n",
              "      display: none;\n",
              "      fill: #1967D2;\n",
              "      height: 32px;\n",
              "      padding: 0 0 0 0;\n",
              "      width: 32px;\n",
              "    }\n",
              "\n",
              "    .colab-df-convert:hover {\n",
              "      background-color: #E2EBFA;\n",
              "      box-shadow: 0px 1px 2px rgba(60, 64, 67, 0.3), 0px 1px 3px 1px rgba(60, 64, 67, 0.15);\n",
              "      fill: #174EA6;\n",
              "    }\n",
              "\n",
              "    [theme=dark] .colab-df-convert {\n",
              "      background-color: #3B4455;\n",
              "      fill: #D2E3FC;\n",
              "    }\n",
              "\n",
              "    [theme=dark] .colab-df-convert:hover {\n",
              "      background-color: #434B5C;\n",
              "      box-shadow: 0px 1px 3px 1px rgba(0, 0, 0, 0.15);\n",
              "      filter: drop-shadow(0px 1px 2px rgba(0, 0, 0, 0.3));\n",
              "      fill: #FFFFFF;\n",
              "    }\n",
              "  </style>\n",
              "\n",
              "      <script>\n",
              "        const buttonEl =\n",
              "          document.querySelector('#df-8df7ae46-89d6-4d67-8581-e0640c0f3a0b button.colab-df-convert');\n",
              "        buttonEl.style.display =\n",
              "          google.colab.kernel.accessAllowed ? 'block' : 'none';\n",
              "\n",
              "        async function convertToInteractive(key) {\n",
              "          const element = document.querySelector('#df-8df7ae46-89d6-4d67-8581-e0640c0f3a0b');\n",
              "          const dataTable =\n",
              "            await google.colab.kernel.invokeFunction('convertToInteractive',\n",
              "                                                     [key], {});\n",
              "          if (!dataTable) return;\n",
              "\n",
              "          const docLinkHtml = 'Like what you see? Visit the ' +\n",
              "            '<a target=\"_blank\" href=https://colab.research.google.com/notebooks/data_table.ipynb>data table notebook</a>'\n",
              "            + ' to learn more about interactive tables.';\n",
              "          element.innerHTML = '';\n",
              "          dataTable['output_type'] = 'display_data';\n",
              "          await google.colab.output.renderOutput(dataTable, element);\n",
              "          const docLink = document.createElement('div');\n",
              "          docLink.innerHTML = docLinkHtml;\n",
              "          element.appendChild(docLink);\n",
              "        }\n",
              "      </script>\n",
              "    </div>\n",
              "  </div>\n",
              "  "
            ],
            "text/plain": [
              "           Date     Sales_USD  Number_of_Sales  ...  Day  Week  Year_of_Week\n",
              "1    2017-06-23  1.020300e+03             19.0  ...   23    25          2017\n",
              "2    2017-06-24  1.240840e+03             21.0  ...   24    25          2017\n",
              "3    2017-06-25  5.175500e+02             13.0  ...   25    25          2017\n",
              "4    2017-06-26  4.246300e+02             14.0  ...   26    26          2017\n",
              "5    2017-06-27  2.092910e+03             33.0  ...   27    26          2017\n",
              "...         ...           ...              ...  ...  ...   ...           ...\n",
              "1593 2021-10-31  6.634104e+07          53472.0  ...   31    43          2021\n",
              "1594 2021-11-01  3.553877e+07          13646.0  ...    1    44          2021\n",
              "1595 2021-11-02  8.261331e+07          67388.0  ...    2    44          2021\n",
              "1596 2021-11-03  4.309933e+07          23465.0  ...    3    44          2021\n",
              "1597 2021-11-04  4.687265e+07          13108.0  ...    4    44          2021\n",
              "\n",
              "[1596 rows x 9 columns]"
            ]
          },
          "metadata": {},
          "execution_count": 22
        }
      ]
    },
    {
      "cell_type": "code",
      "source": [
        "# TEST CASE: nft_sales_df_final_2 (3pt)\n",
        "# [CIS 545 PennGrader Cell] - 3 points\n",
        "grader.grade(test_case_id = 'nft_sales_df_final_2', answer = nft_sales_df_final)"
      ],
      "metadata": {
        "id": "Nau7zL7Gu3Fi",
        "colab": {
          "base_uri": "https://localhost:8080/"
        },
        "outputId": "b28f8007-155f-4143-f689-b6087d544ea0"
      },
      "execution_count": null,
      "outputs": [
        {
          "output_type": "stream",
          "name": "stdout",
          "text": [
            "Correct! You earned 3/3 points. You are a star!\n",
            "\n",
            "Your submission has been successfully recorded in the gradebook.\n"
          ]
        }
      ]
    },
    {
      "cell_type": "code",
      "source": [
        "# TODO: Create a dataframe weekly_sales_avg_df with Year_of_Week, Week, weekly_sales_avg columns\n",
        "weekly_sales_avg_df = nft_sales_df_final[['Year_of_Week', 'Week', 'Sales_USD']].groupby(['Year_of_Week', 'Week']).agg(weekly_sales_avg = ('Sales_USD', 'mean')).reset_index()"
      ],
      "metadata": {
        "id": "HlJI7BrEC7K3"
      },
      "execution_count": null,
      "outputs": []
    },
    {
      "cell_type": "code",
      "source": [
        "weekly_sales_avg_df"
      ],
      "metadata": {
        "colab": {
          "base_uri": "https://localhost:8080/",
          "height": 423
        },
        "id": "92bEl34WtJPU",
        "outputId": "3f5fe552-e078-4a13-ce22-25f30912bc5e"
      },
      "execution_count": null,
      "outputs": [
        {
          "output_type": "execute_result",
          "data": {
            "text/html": [
              "\n",
              "  <div id=\"df-b34dd4fb-7332-4f43-9496-f9956183efe0\">\n",
              "    <div class=\"colab-df-container\">\n",
              "      <div>\n",
              "<style scoped>\n",
              "    .dataframe tbody tr th:only-of-type {\n",
              "        vertical-align: middle;\n",
              "    }\n",
              "\n",
              "    .dataframe tbody tr th {\n",
              "        vertical-align: top;\n",
              "    }\n",
              "\n",
              "    .dataframe thead th {\n",
              "        text-align: right;\n",
              "    }\n",
              "</style>\n",
              "<table border=\"1\" class=\"dataframe\">\n",
              "  <thead>\n",
              "    <tr style=\"text-align: right;\">\n",
              "      <th></th>\n",
              "      <th>Year_of_Week</th>\n",
              "      <th>Week</th>\n",
              "      <th>weekly_sales_avg</th>\n",
              "    </tr>\n",
              "  </thead>\n",
              "  <tbody>\n",
              "    <tr>\n",
              "      <th>0</th>\n",
              "      <td>2017</td>\n",
              "      <td>25</td>\n",
              "      <td>9.262300e+02</td>\n",
              "    </tr>\n",
              "    <tr>\n",
              "      <th>1</th>\n",
              "      <td>2017</td>\n",
              "      <td>26</td>\n",
              "      <td>1.960583e+03</td>\n",
              "    </tr>\n",
              "    <tr>\n",
              "      <th>2</th>\n",
              "      <td>2017</td>\n",
              "      <td>27</td>\n",
              "      <td>5.842526e+03</td>\n",
              "    </tr>\n",
              "    <tr>\n",
              "      <th>3</th>\n",
              "      <td>2017</td>\n",
              "      <td>28</td>\n",
              "      <td>2.716629e+03</td>\n",
              "    </tr>\n",
              "    <tr>\n",
              "      <th>4</th>\n",
              "      <td>2017</td>\n",
              "      <td>29</td>\n",
              "      <td>1.966400e+03</td>\n",
              "    </tr>\n",
              "    <tr>\n",
              "      <th>...</th>\n",
              "      <td>...</td>\n",
              "      <td>...</td>\n",
              "      <td>...</td>\n",
              "    </tr>\n",
              "    <tr>\n",
              "      <th>224</th>\n",
              "      <td>2021</td>\n",
              "      <td>40</td>\n",
              "      <td>8.970417e+07</td>\n",
              "    </tr>\n",
              "    <tr>\n",
              "      <th>225</th>\n",
              "      <td>2021</td>\n",
              "      <td>41</td>\n",
              "      <td>5.468844e+07</td>\n",
              "    </tr>\n",
              "    <tr>\n",
              "      <th>226</th>\n",
              "      <td>2021</td>\n",
              "      <td>42</td>\n",
              "      <td>7.791973e+07</td>\n",
              "    </tr>\n",
              "    <tr>\n",
              "      <th>227</th>\n",
              "      <td>2021</td>\n",
              "      <td>43</td>\n",
              "      <td>6.917684e+07</td>\n",
              "    </tr>\n",
              "    <tr>\n",
              "      <th>228</th>\n",
              "      <td>2021</td>\n",
              "      <td>44</td>\n",
              "      <td>5.203102e+07</td>\n",
              "    </tr>\n",
              "  </tbody>\n",
              "</table>\n",
              "<p>229 rows × 3 columns</p>\n",
              "</div>\n",
              "      <button class=\"colab-df-convert\" onclick=\"convertToInteractive('df-b34dd4fb-7332-4f43-9496-f9956183efe0')\"\n",
              "              title=\"Convert this dataframe to an interactive table.\"\n",
              "              style=\"display:none;\">\n",
              "        \n",
              "  <svg xmlns=\"http://www.w3.org/2000/svg\" height=\"24px\"viewBox=\"0 0 24 24\"\n",
              "       width=\"24px\">\n",
              "    <path d=\"M0 0h24v24H0V0z\" fill=\"none\"/>\n",
              "    <path d=\"M18.56 5.44l.94 2.06.94-2.06 2.06-.94-2.06-.94-.94-2.06-.94 2.06-2.06.94zm-11 1L8.5 8.5l.94-2.06 2.06-.94-2.06-.94L8.5 2.5l-.94 2.06-2.06.94zm10 10l.94 2.06.94-2.06 2.06-.94-2.06-.94-.94-2.06-.94 2.06-2.06.94z\"/><path d=\"M17.41 7.96l-1.37-1.37c-.4-.4-.92-.59-1.43-.59-.52 0-1.04.2-1.43.59L10.3 9.45l-7.72 7.72c-.78.78-.78 2.05 0 2.83L4 21.41c.39.39.9.59 1.41.59.51 0 1.02-.2 1.41-.59l7.78-7.78 2.81-2.81c.8-.78.8-2.07 0-2.86zM5.41 20L4 18.59l7.72-7.72 1.47 1.35L5.41 20z\"/>\n",
              "  </svg>\n",
              "      </button>\n",
              "      \n",
              "  <style>\n",
              "    .colab-df-container {\n",
              "      display:flex;\n",
              "      flex-wrap:wrap;\n",
              "      gap: 12px;\n",
              "    }\n",
              "\n",
              "    .colab-df-convert {\n",
              "      background-color: #E8F0FE;\n",
              "      border: none;\n",
              "      border-radius: 50%;\n",
              "      cursor: pointer;\n",
              "      display: none;\n",
              "      fill: #1967D2;\n",
              "      height: 32px;\n",
              "      padding: 0 0 0 0;\n",
              "      width: 32px;\n",
              "    }\n",
              "\n",
              "    .colab-df-convert:hover {\n",
              "      background-color: #E2EBFA;\n",
              "      box-shadow: 0px 1px 2px rgba(60, 64, 67, 0.3), 0px 1px 3px 1px rgba(60, 64, 67, 0.15);\n",
              "      fill: #174EA6;\n",
              "    }\n",
              "\n",
              "    [theme=dark] .colab-df-convert {\n",
              "      background-color: #3B4455;\n",
              "      fill: #D2E3FC;\n",
              "    }\n",
              "\n",
              "    [theme=dark] .colab-df-convert:hover {\n",
              "      background-color: #434B5C;\n",
              "      box-shadow: 0px 1px 3px 1px rgba(0, 0, 0, 0.15);\n",
              "      filter: drop-shadow(0px 1px 2px rgba(0, 0, 0, 0.3));\n",
              "      fill: #FFFFFF;\n",
              "    }\n",
              "  </style>\n",
              "\n",
              "      <script>\n",
              "        const buttonEl =\n",
              "          document.querySelector('#df-b34dd4fb-7332-4f43-9496-f9956183efe0 button.colab-df-convert');\n",
              "        buttonEl.style.display =\n",
              "          google.colab.kernel.accessAllowed ? 'block' : 'none';\n",
              "\n",
              "        async function convertToInteractive(key) {\n",
              "          const element = document.querySelector('#df-b34dd4fb-7332-4f43-9496-f9956183efe0');\n",
              "          const dataTable =\n",
              "            await google.colab.kernel.invokeFunction('convertToInteractive',\n",
              "                                                     [key], {});\n",
              "          if (!dataTable) return;\n",
              "\n",
              "          const docLinkHtml = 'Like what you see? Visit the ' +\n",
              "            '<a target=\"_blank\" href=https://colab.research.google.com/notebooks/data_table.ipynb>data table notebook</a>'\n",
              "            + ' to learn more about interactive tables.';\n",
              "          element.innerHTML = '';\n",
              "          dataTable['output_type'] = 'display_data';\n",
              "          await google.colab.output.renderOutput(dataTable, element);\n",
              "          const docLink = document.createElement('div');\n",
              "          docLink.innerHTML = docLinkHtml;\n",
              "          element.appendChild(docLink);\n",
              "        }\n",
              "      </script>\n",
              "    </div>\n",
              "  </div>\n",
              "  "
            ],
            "text/plain": [
              "     Year_of_Week  Week  weekly_sales_avg\n",
              "0            2017    25      9.262300e+02\n",
              "1            2017    26      1.960583e+03\n",
              "2            2017    27      5.842526e+03\n",
              "3            2017    28      2.716629e+03\n",
              "4            2017    29      1.966400e+03\n",
              "..            ...   ...               ...\n",
              "224          2021    40      8.970417e+07\n",
              "225          2021    41      5.468844e+07\n",
              "226          2021    42      7.791973e+07\n",
              "227          2021    43      6.917684e+07\n",
              "228          2021    44      5.203102e+07\n",
              "\n",
              "[229 rows x 3 columns]"
            ]
          },
          "metadata": {},
          "execution_count": 25
        }
      ]
    },
    {
      "cell_type": "code",
      "source": [
        "# TEST CASE: weekly_sales_avg_df (4pt)\n",
        "# [CIS 545 PennGrader Cell] - 4 points\n",
        "grader.grade(test_case_id = 'weekly_sales_avg_df', answer = weekly_sales_avg_df)"
      ],
      "metadata": {
        "id": "ddhKwmUFYiDx",
        "colab": {
          "base_uri": "https://localhost:8080/"
        },
        "outputId": "f5d7979d-23c5-4dbd-93a9-58ea0dce6ae8"
      },
      "execution_count": null,
      "outputs": [
        {
          "output_type": "stream",
          "name": "stdout",
          "text": [
            "Correct! You earned 4/4 points. You are a star!\n",
            "\n",
            "Your submission has been successfully recorded in the gradebook.\n"
          ]
        }
      ]
    },
    {
      "cell_type": "markdown",
      "source": [
        "###1.2.3 Find the earliest and latest dates\n",
        "\n",
        "\n",
        "In this section we will find the earliest and latest dates in `nft_sales_df_final`.\n",
        "\n",
        "Save the results to `earliest_date` and `latest_date` as a tuple\n",
        "* example: (Year, Month, Day), (2022, 1, 1)"
      ],
      "metadata": {
        "id": "x1mbpgNTC9et"
      }
    },
    {
      "cell_type": "code",
      "source": [
        "# TODO: Find the earliest and latest dates\n",
        "from datetime import datetime\n",
        "earliest = nft_sales_df_final.sort_values(by = ['Date'], ascending = True).iloc[0]['Date']\n",
        "earliest_dt = earliest.to_pydatetime()\n",
        "latest = nft_sales_df_final.sort_values(by = ['Date'], ascending = False).iloc[0]['Date']\n",
        "latest_dt = latest.to_pydatetime()\n",
        "earliest_date = (earliest_dt.timetuple()[0], earliest_dt.timetuple()[1], earliest_dt.timetuple()[2])\n",
        "latest_date = (latest_dt.timetuple()[0], latest_dt.timetuple()[1], latest_dt.timetuple()[2])"
      ],
      "metadata": {
        "id": "5TmifFE8C9wz"
      },
      "execution_count": null,
      "outputs": []
    },
    {
      "cell_type": "code",
      "source": [
        "# TEST CASE: date_range (4pt)\n",
        "# [CIS 545 PennGrader Cell] - 4 points\n",
        "grader.grade(test_case_id = 'date_range', answer = (earliest_date, latest_date))"
      ],
      "metadata": {
        "id": "fibCWyffYvbf",
        "colab": {
          "base_uri": "https://localhost:8080/"
        },
        "outputId": "754892e2-6ada-4088-b56e-c51efa028a01"
      },
      "execution_count": null,
      "outputs": [
        {
          "output_type": "stream",
          "name": "stdout",
          "text": [
            "Correct! You earned 4/4 points. You are a star!\n",
            "\n",
            "Your submission has been successfully recorded in the gradebook.\n"
          ]
        }
      ]
    },
    {
      "cell_type": "markdown",
      "source": [
        "##1.3 Cleaning up Ethereum Data\n",
        "\n",
        "We now need to clean up the Ethereum Dataset. Let's follow a similar procedure as before in order to drop nulls, duplicate rows and unnecessary columns\n",
        "\n",
        "<br>\n",
        "\n",
        "#### **TODO: 1.3**\n",
        "\n",
        "- Drop rows with duplicate dates, keeping only the first row\n",
        "- Drop rows that have nulls (e.g. NaN) in them\n",
        "- Drop 'Adj Close' column, as it is not needed\n",
        "- Save the result to `eth_cleaned` (5 points)"
      ],
      "metadata": {
        "id": "6tIXx5MKGB6b"
      }
    },
    {
      "cell_type": "code",
      "source": [
        "# TODO: Drop duplicates and nulls\n",
        "eth_cleaned = eth_df.drop_duplicates(subset = 'Date', keep = 'first')\n",
        "eth_cleaned = eth_df.dropna(axis = 0, how = 'any')\n",
        "# TODO: Drop 'Adj Close' column\n",
        "eth_cleaned = eth_cleaned.drop('Adj Close', axis=1)"
      ],
      "metadata": {
        "id": "avv5aE7UF-Ha"
      },
      "execution_count": null,
      "outputs": []
    },
    {
      "cell_type": "markdown",
      "source": [
        "View your dataframe again to check if you dropped the columns and the appropriate rows properly:"
      ],
      "metadata": {
        "id": "9yhusZ5sQ_v4"
      }
    },
    {
      "cell_type": "code",
      "source": [
        "eth_cleaned"
      ],
      "metadata": {
        "id": "eRYdu49YSzzJ",
        "colab": {
          "base_uri": "https://localhost:8080/",
          "height": 423
        },
        "outputId": "ffffb11d-5fbf-41b2-c17d-ad8a8dffeae5"
      },
      "execution_count": null,
      "outputs": [
        {
          "output_type": "execute_result",
          "data": {
            "text/html": [
              "\n",
              "  <div id=\"df-19b072fc-2ba9-47fd-a1cd-4c7ba7743b76\">\n",
              "    <div class=\"colab-df-container\">\n",
              "      <div>\n",
              "<style scoped>\n",
              "    .dataframe tbody tr th:only-of-type {\n",
              "        vertical-align: middle;\n",
              "    }\n",
              "\n",
              "    .dataframe tbody tr th {\n",
              "        vertical-align: top;\n",
              "    }\n",
              "\n",
              "    .dataframe thead th {\n",
              "        text-align: right;\n",
              "    }\n",
              "</style>\n",
              "<table border=\"1\" class=\"dataframe\">\n",
              "  <thead>\n",
              "    <tr style=\"text-align: right;\">\n",
              "      <th></th>\n",
              "      <th>Date</th>\n",
              "      <th>Open</th>\n",
              "      <th>High</th>\n",
              "      <th>Low</th>\n",
              "      <th>Close</th>\n",
              "      <th>Volume</th>\n",
              "    </tr>\n",
              "  </thead>\n",
              "  <tbody>\n",
              "    <tr>\n",
              "      <th>0</th>\n",
              "      <td>2015-08-07</td>\n",
              "      <td>2.831620</td>\n",
              "      <td>3.536610</td>\n",
              "      <td>2.521120</td>\n",
              "      <td>2.772120</td>\n",
              "      <td>1.643290e+05</td>\n",
              "    </tr>\n",
              "    <tr>\n",
              "      <th>1</th>\n",
              "      <td>2015-08-08</td>\n",
              "      <td>2.793760</td>\n",
              "      <td>2.798810</td>\n",
              "      <td>0.714725</td>\n",
              "      <td>0.753325</td>\n",
              "      <td>6.741880e+05</td>\n",
              "    </tr>\n",
              "    <tr>\n",
              "      <th>2</th>\n",
              "      <td>2015-08-09</td>\n",
              "      <td>0.706136</td>\n",
              "      <td>0.879810</td>\n",
              "      <td>0.629191</td>\n",
              "      <td>0.701897</td>\n",
              "      <td>5.321700e+05</td>\n",
              "    </tr>\n",
              "    <tr>\n",
              "      <th>3</th>\n",
              "      <td>2015-08-10</td>\n",
              "      <td>0.713989</td>\n",
              "      <td>0.729854</td>\n",
              "      <td>0.636546</td>\n",
              "      <td>0.708448</td>\n",
              "      <td>4.052830e+05</td>\n",
              "    </tr>\n",
              "    <tr>\n",
              "      <th>4</th>\n",
              "      <td>2015-08-11</td>\n",
              "      <td>0.708087</td>\n",
              "      <td>1.131410</td>\n",
              "      <td>0.663235</td>\n",
              "      <td>1.067860</td>\n",
              "      <td>1.463100e+06</td>\n",
              "    </tr>\n",
              "    <tr>\n",
              "      <th>...</th>\n",
              "      <td>...</td>\n",
              "      <td>...</td>\n",
              "      <td>...</td>\n",
              "      <td>...</td>\n",
              "      <td>...</td>\n",
              "      <td>...</td>\n",
              "    </tr>\n",
              "    <tr>\n",
              "      <th>2310</th>\n",
              "      <td>2021-12-03</td>\n",
              "      <td>4514.355957</td>\n",
              "      <td>4647.289063</td>\n",
              "      <td>4100.145508</td>\n",
              "      <td>4220.706055</td>\n",
              "      <td>2.587959e+10</td>\n",
              "    </tr>\n",
              "    <tr>\n",
              "      <th>2311</th>\n",
              "      <td>2021-12-04</td>\n",
              "      <td>4227.762207</td>\n",
              "      <td>4242.725586</td>\n",
              "      <td>3525.494141</td>\n",
              "      <td>4119.587402</td>\n",
              "      <td>3.847900e+10</td>\n",
              "    </tr>\n",
              "    <tr>\n",
              "      <th>2312</th>\n",
              "      <td>2021-12-05</td>\n",
              "      <td>4119.628906</td>\n",
              "      <td>4246.923340</td>\n",
              "      <td>4040.217529</td>\n",
              "      <td>4198.322754</td>\n",
              "      <td>2.553306e+10</td>\n",
              "    </tr>\n",
              "    <tr>\n",
              "      <th>2313</th>\n",
              "      <td>2021-12-06</td>\n",
              "      <td>4199.000000</td>\n",
              "      <td>4375.520508</td>\n",
              "      <td>3930.806641</td>\n",
              "      <td>4358.737305</td>\n",
              "      <td>2.822952e+10</td>\n",
              "    </tr>\n",
              "    <tr>\n",
              "      <th>2314</th>\n",
              "      <td>2021-12-07</td>\n",
              "      <td>4369.082520</td>\n",
              "      <td>4422.318848</td>\n",
              "      <td>4319.897949</td>\n",
              "      <td>4396.020020</td>\n",
              "      <td>2.622734e+10</td>\n",
              "    </tr>\n",
              "  </tbody>\n",
              "</table>\n",
              "<p>2311 rows × 6 columns</p>\n",
              "</div>\n",
              "      <button class=\"colab-df-convert\" onclick=\"convertToInteractive('df-19b072fc-2ba9-47fd-a1cd-4c7ba7743b76')\"\n",
              "              title=\"Convert this dataframe to an interactive table.\"\n",
              "              style=\"display:none;\">\n",
              "        \n",
              "  <svg xmlns=\"http://www.w3.org/2000/svg\" height=\"24px\"viewBox=\"0 0 24 24\"\n",
              "       width=\"24px\">\n",
              "    <path d=\"M0 0h24v24H0V0z\" fill=\"none\"/>\n",
              "    <path d=\"M18.56 5.44l.94 2.06.94-2.06 2.06-.94-2.06-.94-.94-2.06-.94 2.06-2.06.94zm-11 1L8.5 8.5l.94-2.06 2.06-.94-2.06-.94L8.5 2.5l-.94 2.06-2.06.94zm10 10l.94 2.06.94-2.06 2.06-.94-2.06-.94-.94-2.06-.94 2.06-2.06.94z\"/><path d=\"M17.41 7.96l-1.37-1.37c-.4-.4-.92-.59-1.43-.59-.52 0-1.04.2-1.43.59L10.3 9.45l-7.72 7.72c-.78.78-.78 2.05 0 2.83L4 21.41c.39.39.9.59 1.41.59.51 0 1.02-.2 1.41-.59l7.78-7.78 2.81-2.81c.8-.78.8-2.07 0-2.86zM5.41 20L4 18.59l7.72-7.72 1.47 1.35L5.41 20z\"/>\n",
              "  </svg>\n",
              "      </button>\n",
              "      \n",
              "  <style>\n",
              "    .colab-df-container {\n",
              "      display:flex;\n",
              "      flex-wrap:wrap;\n",
              "      gap: 12px;\n",
              "    }\n",
              "\n",
              "    .colab-df-convert {\n",
              "      background-color: #E8F0FE;\n",
              "      border: none;\n",
              "      border-radius: 50%;\n",
              "      cursor: pointer;\n",
              "      display: none;\n",
              "      fill: #1967D2;\n",
              "      height: 32px;\n",
              "      padding: 0 0 0 0;\n",
              "      width: 32px;\n",
              "    }\n",
              "\n",
              "    .colab-df-convert:hover {\n",
              "      background-color: #E2EBFA;\n",
              "      box-shadow: 0px 1px 2px rgba(60, 64, 67, 0.3), 0px 1px 3px 1px rgba(60, 64, 67, 0.15);\n",
              "      fill: #174EA6;\n",
              "    }\n",
              "\n",
              "    [theme=dark] .colab-df-convert {\n",
              "      background-color: #3B4455;\n",
              "      fill: #D2E3FC;\n",
              "    }\n",
              "\n",
              "    [theme=dark] .colab-df-convert:hover {\n",
              "      background-color: #434B5C;\n",
              "      box-shadow: 0px 1px 3px 1px rgba(0, 0, 0, 0.15);\n",
              "      filter: drop-shadow(0px 1px 2px rgba(0, 0, 0, 0.3));\n",
              "      fill: #FFFFFF;\n",
              "    }\n",
              "  </style>\n",
              "\n",
              "      <script>\n",
              "        const buttonEl =\n",
              "          document.querySelector('#df-19b072fc-2ba9-47fd-a1cd-4c7ba7743b76 button.colab-df-convert');\n",
              "        buttonEl.style.display =\n",
              "          google.colab.kernel.accessAllowed ? 'block' : 'none';\n",
              "\n",
              "        async function convertToInteractive(key) {\n",
              "          const element = document.querySelector('#df-19b072fc-2ba9-47fd-a1cd-4c7ba7743b76');\n",
              "          const dataTable =\n",
              "            await google.colab.kernel.invokeFunction('convertToInteractive',\n",
              "                                                     [key], {});\n",
              "          if (!dataTable) return;\n",
              "\n",
              "          const docLinkHtml = 'Like what you see? Visit the ' +\n",
              "            '<a target=\"_blank\" href=https://colab.research.google.com/notebooks/data_table.ipynb>data table notebook</a>'\n",
              "            + ' to learn more about interactive tables.';\n",
              "          element.innerHTML = '';\n",
              "          dataTable['output_type'] = 'display_data';\n",
              "          await google.colab.output.renderOutput(dataTable, element);\n",
              "          const docLink = document.createElement('div');\n",
              "          docLink.innerHTML = docLinkHtml;\n",
              "          element.appendChild(docLink);\n",
              "        }\n",
              "      </script>\n",
              "    </div>\n",
              "  </div>\n",
              "  "
            ],
            "text/plain": [
              "            Date         Open  ...        Close        Volume\n",
              "0     2015-08-07     2.831620  ...     2.772120  1.643290e+05\n",
              "1     2015-08-08     2.793760  ...     0.753325  6.741880e+05\n",
              "2     2015-08-09     0.706136  ...     0.701897  5.321700e+05\n",
              "3     2015-08-10     0.713989  ...     0.708448  4.052830e+05\n",
              "4     2015-08-11     0.708087  ...     1.067860  1.463100e+06\n",
              "...          ...          ...  ...          ...           ...\n",
              "2310  2021-12-03  4514.355957  ...  4220.706055  2.587959e+10\n",
              "2311  2021-12-04  4227.762207  ...  4119.587402  3.847900e+10\n",
              "2312  2021-12-05  4119.628906  ...  4198.322754  2.553306e+10\n",
              "2313  2021-12-06  4199.000000  ...  4358.737305  2.822952e+10\n",
              "2314  2021-12-07  4369.082520  ...  4396.020020  2.622734e+10\n",
              "\n",
              "[2311 rows x 6 columns]"
            ]
          },
          "metadata": {},
          "execution_count": 30
        }
      ]
    },
    {
      "cell_type": "code",
      "source": [
        "# TEST CASE: eth_cleaned (5pt)\n",
        "# [CIS 545 PennGrader Cell] - 5 points\n",
        "grader.grade(test_case_id = 'eth_cleaned', answer = eth_cleaned)"
      ],
      "metadata": {
        "id": "CfDOWc6sZW5R",
        "colab": {
          "base_uri": "https://localhost:8080/"
        },
        "outputId": "a4aa83ec-2173-41ea-8e05-80d9aba33046"
      },
      "execution_count": null,
      "outputs": [
        {
          "output_type": "stream",
          "name": "stdout",
          "text": [
            "Correct! You earned 5/5 points. You are a star!\n",
            "\n",
            "Your submission has been successfully recorded in the gradebook.\n"
          ]
        }
      ]
    },
    {
      "cell_type": "markdown",
      "source": [
        "##1.4 Data Wrangling with Ethereum Data\n",
        "\n",
        "Now, let's process the data in an appropriate format so that we can answer some queries more easily. Make sure to use `eth_cleaned` for this part.\n",
        "\n",
        "One key thing to notice is that the minimum date in the Ethereum dataset is 2015-08-07 while the maximum date is 2021-12-07. However as computed earlier, in the NFT Sales dataset, the minimum date is 2017-06-23 while the maximum date is 2021-11-04. Thus, we need to limit the Ethereum Data to only contain information in the range **2017-06-23** to **2021-11-04** (both inclusive) in order to align with the NFT Sales dataset.\n",
        "\n",
        "**TODO: 1.4**\n",
        "\n",
        "*   Split the 'Date' column into 3 columns:  Year, Month and Day \n",
        "*   Convert Year, Month and Day Columns to type int\n",
        "*   Round the prices of Open, High, Low and Close to 3 decimal places. See the `round()` function\n",
        "*   Convert 'Date' into type datetime. See the `to_datetime()` function\n",
        "*   Filter 'Date' to be in the range 2017-06-23 to 2021-11-04\n",
        "*   Save the final result into `eth_df_final` (6 points)\n",
        "\n",
        "\n",
        "See `astype` in Pandas documentation for the type conversion."
      ],
      "metadata": {
        "id": "8ze6CO-9RgI7"
      }
    },
    {
      "cell_type": "code",
      "source": [
        "#TODO: Split the Date into 3 columns\n",
        "eth_cleaned[['Year', 'Month', 'Day']] = eth_cleaned['Date'].str.split('-', expand=True)"
      ],
      "metadata": {
        "id": "-bdpB3rfStXp"
      },
      "execution_count": null,
      "outputs": []
    },
    {
      "cell_type": "code",
      "source": [
        "#TODO: Convert Year, Month and Day into type int\n",
        "eth_df_final =  eth_cleaned.astype({\"Year\": 'int64', \"Month\": 'int64', \"Day\": 'int64'})"
      ],
      "metadata": {
        "id": "U9FS3HbjTVfb"
      },
      "execution_count": null,
      "outputs": []
    },
    {
      "cell_type": "code",
      "source": [
        "#TODO: Round the prices of Open, High, Low and Close to 3 decimal places\n",
        "eth_df_final['Open'] = eth_df_final['Open'].round(decimals = 3)\n",
        "eth_df_final['High'] = eth_df_final['High'].round(decimals = 3)\n",
        "eth_df_final['Low'] = eth_df_final['Low'].round(decimals = 3)\n",
        "eth_df_final['Close'] = eth_df_final['Close'].round(decimals = 3)"
      ],
      "metadata": {
        "id": "yhqieDo9UrUB"
      },
      "execution_count": null,
      "outputs": []
    },
    {
      "cell_type": "code",
      "source": [
        "#TODO: Convert Date to datetime\n",
        "eth_df_final['Date'] =  pd.to_datetime(eth_df_final['Date'])"
      ],
      "metadata": {
        "id": "oBMMLKXBWDQw"
      },
      "execution_count": null,
      "outputs": []
    },
    {
      "cell_type": "code",
      "source": [
        "#TODO: Filter the dates\n",
        "eth_df_final = eth_df_final.loc[(eth_df_final['Date'] >= '2017-06-23') & (eth_df_final['Date'] <= '2021-11-04')]"
      ],
      "metadata": {
        "id": "eBpYhgc6ac_f"
      },
      "execution_count": null,
      "outputs": []
    },
    {
      "cell_type": "code",
      "source": [
        "# TEST CASE: eth_df_final (6pt)\n",
        "# [CIS 545 PennGrader Cell] - 6 points\n",
        "grader.grade(test_case_id = 'eth_df_final', answer = eth_df_final)"
      ],
      "metadata": {
        "id": "E11uLUJoZomN",
        "colab": {
          "base_uri": "https://localhost:8080/"
        },
        "outputId": "3aaac187-5bf5-40c1-e01c-b9423601b447"
      },
      "execution_count": null,
      "outputs": [
        {
          "output_type": "stream",
          "name": "stdout",
          "text": [
            "Correct! You earned 6/6 points. You are a star!\n",
            "\n",
            "Your submission has been successfully recorded in the gradebook.\n"
          ]
        }
      ]
    },
    {
      "cell_type": "markdown",
      "source": [
        "##1.5 Which months in 2020 had the highest max difference between closing and opening price?\n",
        "\n",
        "Now that we pre-processed our data, let's start with a query. Given the drastic impacts of COVID on the U.S. Economy, let's see how ETH-USD conversion rates changed throughout the pandemic. Make sure to use `eth_df_final` from now onwards\n",
        "\n",
        "#### 1.5 We will compute the max difference between closing and opening price for each month in 2020.\n",
        "\n",
        "**TODO: 1.5**\n",
        "\n",
        "\n",
        "*   Create a new column called 'difference' that is the result of the difference between the opening and closing price (Close-Open), rounded to 3 decimal places\n",
        "*   See the `groupby()` function \n",
        "*   Compute the max difference for each month in 2020\n",
        "*   Sort the max difference values in descending order\n",
        "*   Save the result to `max_eth_diff_df` (5 points)"
      ],
      "metadata": {
        "id": "1z7DGg_edolc"
      }
    },
    {
      "cell_type": "markdown",
      "source": [
        "Your table should look something like\n",
        ">Year | Month | max_difference\n",
        ">--- | --- | ---\n",
        ">2020 | Month1 | Value1\n",
        ">2020 | Month2 | Value2"
      ],
      "metadata": {
        "id": "rutvz7u8kmYc"
      }
    },
    {
      "cell_type": "code",
      "source": [
        "#TODO: Create the difference column\n",
        "eth_df_final['difference'] = (eth_df_final['Close'] - eth_df_final['Open']).round(decimals = 3)"
      ],
      "metadata": {
        "id": "Wi7_jrVphUeH"
      },
      "execution_count": null,
      "outputs": []
    },
    {
      "cell_type": "code",
      "source": [
        "#TODO: Create max_eth_diff_df\n",
        "max_eth_diff_df = eth_df_final[eth_df_final['Year'] == 2020].\\\n",
        "                  groupby(['Year', 'Month']).\\\n",
        "                  agg(max_difference = ('difference', 'max')).\\\n",
        "                  reset_index().\\\n",
        "                  sort_values(by = ['max_difference'], ascending = False)"
      ],
      "metadata": {
        "id": "14wiiHTBigB7"
      },
      "execution_count": null,
      "outputs": []
    },
    {
      "cell_type": "code",
      "source": [
        "max_eth_diff_df"
      ],
      "metadata": {
        "colab": {
          "base_uri": "https://localhost:8080/",
          "height": 425
        },
        "id": "RfuggdxSVblV",
        "outputId": "fffaccf2-bcf5-4cbd-e740-390ae30fbba3"
      },
      "execution_count": null,
      "outputs": [
        {
          "output_type": "execute_result",
          "data": {
            "text/html": [
              "\n",
              "  <div id=\"df-fffdc564-6cef-4fcc-87a9-40a7ba931156\">\n",
              "    <div class=\"colab-df-container\">\n",
              "      <div>\n",
              "<style scoped>\n",
              "    .dataframe tbody tr th:only-of-type {\n",
              "        vertical-align: middle;\n",
              "    }\n",
              "\n",
              "    .dataframe tbody tr th {\n",
              "        vertical-align: top;\n",
              "    }\n",
              "\n",
              "    .dataframe thead th {\n",
              "        text-align: right;\n",
              "    }\n",
              "</style>\n",
              "<table border=\"1\" class=\"dataframe\">\n",
              "  <thead>\n",
              "    <tr style=\"text-align: right;\">\n",
              "      <th></th>\n",
              "      <th>Year</th>\n",
              "      <th>Month</th>\n",
              "      <th>max_difference</th>\n",
              "    </tr>\n",
              "  </thead>\n",
              "  <tbody>\n",
              "    <tr>\n",
              "      <th>10</th>\n",
              "      <td>2020</td>\n",
              "      <td>11</td>\n",
              "      <td>50.394</td>\n",
              "    </tr>\n",
              "    <tr>\n",
              "      <th>11</th>\n",
              "      <td>2020</td>\n",
              "      <td>12</td>\n",
              "      <td>47.191</td>\n",
              "    </tr>\n",
              "    <tr>\n",
              "      <th>8</th>\n",
              "      <td>2020</td>\n",
              "      <td>9</td>\n",
              "      <td>42.178</td>\n",
              "    </tr>\n",
              "    <tr>\n",
              "      <th>7</th>\n",
              "      <td>2020</td>\n",
              "      <td>8</td>\n",
              "      <td>39.401</td>\n",
              "    </tr>\n",
              "    <tr>\n",
              "      <th>1</th>\n",
              "      <td>2020</td>\n",
              "      <td>2</td>\n",
              "      <td>29.508</td>\n",
              "    </tr>\n",
              "    <tr>\n",
              "      <th>3</th>\n",
              "      <td>2020</td>\n",
              "      <td>4</td>\n",
              "      <td>25.528</td>\n",
              "    </tr>\n",
              "    <tr>\n",
              "      <th>6</th>\n",
              "      <td>2020</td>\n",
              "      <td>7</td>\n",
              "      <td>25.031</td>\n",
              "    </tr>\n",
              "    <tr>\n",
              "      <th>9</th>\n",
              "      <td>2020</td>\n",
              "      <td>10</td>\n",
              "      <td>23.131</td>\n",
              "    </tr>\n",
              "    <tr>\n",
              "      <th>2</th>\n",
              "      <td>2020</td>\n",
              "      <td>3</td>\n",
              "      <td>21.754</td>\n",
              "    </tr>\n",
              "    <tr>\n",
              "      <th>0</th>\n",
              "      <td>2020</td>\n",
              "      <td>1</td>\n",
              "      <td>21.704</td>\n",
              "    </tr>\n",
              "    <tr>\n",
              "      <th>4</th>\n",
              "      <td>2020</td>\n",
              "      <td>5</td>\n",
              "      <td>21.629</td>\n",
              "    </tr>\n",
              "    <tr>\n",
              "      <th>5</th>\n",
              "      <td>2020</td>\n",
              "      <td>6</td>\n",
              "      <td>16.132</td>\n",
              "    </tr>\n",
              "  </tbody>\n",
              "</table>\n",
              "</div>\n",
              "      <button class=\"colab-df-convert\" onclick=\"convertToInteractive('df-fffdc564-6cef-4fcc-87a9-40a7ba931156')\"\n",
              "              title=\"Convert this dataframe to an interactive table.\"\n",
              "              style=\"display:none;\">\n",
              "        \n",
              "  <svg xmlns=\"http://www.w3.org/2000/svg\" height=\"24px\"viewBox=\"0 0 24 24\"\n",
              "       width=\"24px\">\n",
              "    <path d=\"M0 0h24v24H0V0z\" fill=\"none\"/>\n",
              "    <path d=\"M18.56 5.44l.94 2.06.94-2.06 2.06-.94-2.06-.94-.94-2.06-.94 2.06-2.06.94zm-11 1L8.5 8.5l.94-2.06 2.06-.94-2.06-.94L8.5 2.5l-.94 2.06-2.06.94zm10 10l.94 2.06.94-2.06 2.06-.94-2.06-.94-.94-2.06-.94 2.06-2.06.94z\"/><path d=\"M17.41 7.96l-1.37-1.37c-.4-.4-.92-.59-1.43-.59-.52 0-1.04.2-1.43.59L10.3 9.45l-7.72 7.72c-.78.78-.78 2.05 0 2.83L4 21.41c.39.39.9.59 1.41.59.51 0 1.02-.2 1.41-.59l7.78-7.78 2.81-2.81c.8-.78.8-2.07 0-2.86zM5.41 20L4 18.59l7.72-7.72 1.47 1.35L5.41 20z\"/>\n",
              "  </svg>\n",
              "      </button>\n",
              "      \n",
              "  <style>\n",
              "    .colab-df-container {\n",
              "      display:flex;\n",
              "      flex-wrap:wrap;\n",
              "      gap: 12px;\n",
              "    }\n",
              "\n",
              "    .colab-df-convert {\n",
              "      background-color: #E8F0FE;\n",
              "      border: none;\n",
              "      border-radius: 50%;\n",
              "      cursor: pointer;\n",
              "      display: none;\n",
              "      fill: #1967D2;\n",
              "      height: 32px;\n",
              "      padding: 0 0 0 0;\n",
              "      width: 32px;\n",
              "    }\n",
              "\n",
              "    .colab-df-convert:hover {\n",
              "      background-color: #E2EBFA;\n",
              "      box-shadow: 0px 1px 2px rgba(60, 64, 67, 0.3), 0px 1px 3px 1px rgba(60, 64, 67, 0.15);\n",
              "      fill: #174EA6;\n",
              "    }\n",
              "\n",
              "    [theme=dark] .colab-df-convert {\n",
              "      background-color: #3B4455;\n",
              "      fill: #D2E3FC;\n",
              "    }\n",
              "\n",
              "    [theme=dark] .colab-df-convert:hover {\n",
              "      background-color: #434B5C;\n",
              "      box-shadow: 0px 1px 3px 1px rgba(0, 0, 0, 0.15);\n",
              "      filter: drop-shadow(0px 1px 2px rgba(0, 0, 0, 0.3));\n",
              "      fill: #FFFFFF;\n",
              "    }\n",
              "  </style>\n",
              "\n",
              "      <script>\n",
              "        const buttonEl =\n",
              "          document.querySelector('#df-fffdc564-6cef-4fcc-87a9-40a7ba931156 button.colab-df-convert');\n",
              "        buttonEl.style.display =\n",
              "          google.colab.kernel.accessAllowed ? 'block' : 'none';\n",
              "\n",
              "        async function convertToInteractive(key) {\n",
              "          const element = document.querySelector('#df-fffdc564-6cef-4fcc-87a9-40a7ba931156');\n",
              "          const dataTable =\n",
              "            await google.colab.kernel.invokeFunction('convertToInteractive',\n",
              "                                                     [key], {});\n",
              "          if (!dataTable) return;\n",
              "\n",
              "          const docLinkHtml = 'Like what you see? Visit the ' +\n",
              "            '<a target=\"_blank\" href=https://colab.research.google.com/notebooks/data_table.ipynb>data table notebook</a>'\n",
              "            + ' to learn more about interactive tables.';\n",
              "          element.innerHTML = '';\n",
              "          dataTable['output_type'] = 'display_data';\n",
              "          await google.colab.output.renderOutput(dataTable, element);\n",
              "          const docLink = document.createElement('div');\n",
              "          docLink.innerHTML = docLinkHtml;\n",
              "          element.appendChild(docLink);\n",
              "        }\n",
              "      </script>\n",
              "    </div>\n",
              "  </div>\n",
              "  "
            ],
            "text/plain": [
              "    Year  Month  max_difference\n",
              "10  2020     11          50.394\n",
              "11  2020     12          47.191\n",
              "8   2020      9          42.178\n",
              "7   2020      8          39.401\n",
              "1   2020      2          29.508\n",
              "3   2020      4          25.528\n",
              "6   2020      7          25.031\n",
              "9   2020     10          23.131\n",
              "2   2020      3          21.754\n",
              "0   2020      1          21.704\n",
              "4   2020      5          21.629\n",
              "5   2020      6          16.132"
            ]
          },
          "metadata": {},
          "execution_count": 40
        }
      ]
    },
    {
      "cell_type": "code",
      "source": [
        "# TEST CASE: max_eth_diff_df (5pt)\n",
        "# [CIS 545 PennGrader Cell] - 5 points\n",
        "grader.grade(test_case_id = 'max_eth_diff_df', answer = max_eth_diff_df)"
      ],
      "metadata": {
        "id": "jOV9Oj74aeRy",
        "colab": {
          "base_uri": "https://localhost:8080/"
        },
        "outputId": "393a83c9-c1cb-432d-ea08-104231b2a7d1"
      },
      "execution_count": null,
      "outputs": [
        {
          "output_type": "stream",
          "name": "stdout",
          "text": [
            "Correct! You earned 5/5 points. You are a star!\n",
            "\n",
            "Your submission has been successfully recorded in the gradebook.\n"
          ]
        }
      ]
    },
    {
      "cell_type": "markdown",
      "source": [
        "#Part 2: Combining the data\n",
        "\n",
        "When you become a full time data scientist, a lot of times, data will be spread out across multiple files/tables. The way to combine these tables is through join/merge operations. If you're familiar with SQL, this will be very familiar to you. If not, don't worry. I believe in you!\n",
        "\n",
        "To start, here's a nice diagram which shows you the different types of joins\n",
        "\n",
        "\n",
        "<p align = \"center\">\n",
        "<img src = \"https://i.stack.imgur.com/hMKKt.jpg\" width= \"600\" align =\"center\"/>\n",
        "</p>\n",
        "\n",
        "A clarifying point: The two venn diagrams with the \"(if Null)\" are also called Left Outer Join and Right Outer Join\n",
        "\n",
        "\n"
      ],
      "metadata": {
        "id": "ZrzCjWhLikNm"
      }
    },
    {
      "cell_type": "markdown",
      "source": [
        "##2.1 Convert NFT Sales in terms of ETH\n",
        "\n",
        "Given that NFTs are secured by the Ethereum blockchain, it would make sense that we would want to analyze the relationship between NFT Sales and Ethereum. In this section, we will join `eth_df_final` with `nft_sales_df_final` in order to learn more about NFT Sales in terms of ETH. "
      ],
      "metadata": {
        "id": "KoRyWFgCv-q7"
      }
    },
    {
      "cell_type": "markdown",
      "source": [
        "####**TODO: 2.1.1**\n",
        "When working in data science, a large portion of the time we will want to perform an inner join (see the diagram above for some information on what an inner join is if you are not familiar). However, if one dataset doesn't have a corresponding row based on the join keys of the other dataset, we will lose this information from the join. Thus, it is important to first check whether each join key in one dataset has the corresponding key to join with in the other. \n",
        "\n",
        "- Create a list called 'nft_only' that contains the Dates present in `nft_sales_df_final` but not `eth_df_final` (2 points)\n",
        "- Create a list called 'eth_only' that contains the Dates present in `eth_df_final` but not `nft_sales_df_final` (1 point)\n",
        "- Ensure the list contains the Dates as strings, in the format mm-dd-yyyy. For example, the format should look like ['1/10/2020', '2/10/2020', '10/2/2021']\n",
        "\n",
        "**Hint:** Consider the definition of left joins and how they may be useful here\n"
      ],
      "metadata": {
        "id": "mszjT9PyJPH4"
      }
    },
    {
      "cell_type": "code",
      "source": [
        "#TODO: Create the list nft_only\n",
        "# nft_only = nft_sales_df_final.merge(eth_df_final, left_on = 'Date', right_on = 'Date', how = 'left')\n",
        "nft_merge = pd.merge(left = nft_sales_df_final, right = eth_df_final, left_on = 'Date', right_on = 'Date', how = 'left')\n",
        "def dt_to_str(x):\n",
        "  return x.strftime('%m/%d/%Y')\n",
        "nft_only = list(nft_merge[pd.isnull(nft_merge).any(axis=1)].Date.apply(lambda x: dt_to_str(x)))"
      ],
      "metadata": {
        "id": "ML3HLbjdsZZz"
      },
      "execution_count": null,
      "outputs": []
    },
    {
      "cell_type": "code",
      "source": [
        "# TEST CASE: nft_only (2pt)\n",
        "# [CIS 545 PennGrader Cell] - 2 points\n",
        "grader.grade(test_case_id = 'nft_only', answer = nft_only)"
      ],
      "metadata": {
        "id": "-1gZ4MoUa6DE",
        "colab": {
          "base_uri": "https://localhost:8080/"
        },
        "outputId": "ca13e779-8a62-4d47-d598-f081d0289471"
      },
      "execution_count": null,
      "outputs": [
        {
          "output_type": "stream",
          "name": "stdout",
          "text": [
            "Correct! You earned 2/2 points. You are a star!\n",
            "\n",
            "Your submission has been successfully recorded in the gradebook.\n"
          ]
        }
      ]
    },
    {
      "cell_type": "code",
      "source": [
        "#TODO: Create the list eth_only\n",
        "eth_merge = pd.merge(left = eth_df_final, right = nft_sales_df_final, left_on = 'Date', right_on = 'Date', how = 'left')\n",
        "eth_only = list(eth_merge[pd.isnull(eth_merge).any(axis=1)].Date.apply(lambda x: dt_to_str(x)))"
      ],
      "metadata": {
        "id": "NKW-P6l2PeDz"
      },
      "execution_count": null,
      "outputs": []
    },
    {
      "cell_type": "code",
      "source": [
        "# TEST CASE: eth_only (1pt)\n",
        "# [CIS 545 PennGrader Cell] - 1 points\n",
        "grader.grade(test_case_id = 'eth_only', answer = eth_only)"
      ],
      "metadata": {
        "id": "DQXvj3npbDdN",
        "colab": {
          "base_uri": "https://localhost:8080/"
        },
        "outputId": "f4af4bcf-d1c9-42a5-9751-9f2de84b20a9"
      },
      "execution_count": null,
      "outputs": [
        {
          "output_type": "stream",
          "name": "stdout",
          "text": [
            "Correct! You earned 1/1 points. You are a star!\n",
            "\n",
            "Your submission has been successfully recorded in the gradebook.\n"
          ]
        }
      ]
    },
    {
      "cell_type": "markdown",
      "source": [
        "####**TODO: 2.1.2** (6 points)\n",
        "We are interested in expressing the value of NFT sales in terms of ETH. To do this, we must do the following: \n",
        "\n",
        "- Merge `nft_sales_df_final` with `eth_df_final` on Date such that all rows from `nft_sales_df_final` are kept (think about what join we need to achieve this). Name this new dataframe `nft_eth_df`\n",
        "- Drop any row that contains NaN\n",
        "- Drop duplicate columns from the merge and rename the columns if their name was modified during the merge (ex: Month_x should become Month)\n",
        "- Convert 'Sales_USD' to be in terms of ETH using the Close price of ETH. Note, the units of the values in the 'Close' column are ETH-USD. Name this column 'Sales_ETH'\n"
      ],
      "metadata": {
        "id": "ele7bdXYgeva"
      }
    },
    {
      "cell_type": "code",
      "source": [
        "#TODO: Create nft_eth_df\n",
        "nft_eth_df = pd.merge(left = nft_sales_df_final, right = eth_df_final, left_on = 'Date', right_on = 'Date', how = 'left') "
      ],
      "metadata": {
        "id": "Xs8v-c57D8n0"
      },
      "execution_count": null,
      "outputs": []
    },
    {
      "cell_type": "code",
      "source": [
        "nft_eth_df"
      ],
      "metadata": {
        "colab": {
          "base_uri": "https://localhost:8080/",
          "height": 747
        },
        "id": "5FGbGA2WPKgm",
        "outputId": "ae044413-5893-43b5-82e2-210212595a81"
      },
      "execution_count": null,
      "outputs": [
        {
          "output_type": "execute_result",
          "data": {
            "text/html": [
              "\n",
              "  <div id=\"df-4bc877d5-cdf5-438b-9dcf-7b960889f612\">\n",
              "    <div class=\"colab-df-container\">\n",
              "      <div>\n",
              "<style scoped>\n",
              "    .dataframe tbody tr th:only-of-type {\n",
              "        vertical-align: middle;\n",
              "    }\n",
              "\n",
              "    .dataframe tbody tr th {\n",
              "        vertical-align: top;\n",
              "    }\n",
              "\n",
              "    .dataframe thead th {\n",
              "        text-align: right;\n",
              "    }\n",
              "</style>\n",
              "<table border=\"1\" class=\"dataframe\">\n",
              "  <thead>\n",
              "    <tr style=\"text-align: right;\">\n",
              "      <th></th>\n",
              "      <th>Date</th>\n",
              "      <th>Sales_USD</th>\n",
              "      <th>Number_of_Sales</th>\n",
              "      <th>Active_Market_Wallets</th>\n",
              "      <th>Year_x</th>\n",
              "      <th>Month_x</th>\n",
              "      <th>Day_x</th>\n",
              "      <th>Week</th>\n",
              "      <th>Year_of_Week</th>\n",
              "      <th>Open</th>\n",
              "      <th>High</th>\n",
              "      <th>Low</th>\n",
              "      <th>Close</th>\n",
              "      <th>Volume</th>\n",
              "      <th>Year_y</th>\n",
              "      <th>Month_y</th>\n",
              "      <th>Day_y</th>\n",
              "      <th>difference</th>\n",
              "    </tr>\n",
              "  </thead>\n",
              "  <tbody>\n",
              "    <tr>\n",
              "      <th>0</th>\n",
              "      <td>2017-06-23</td>\n",
              "      <td>1.020300e+03</td>\n",
              "      <td>19.0</td>\n",
              "      <td>8.0</td>\n",
              "      <td>2017</td>\n",
              "      <td>6</td>\n",
              "      <td>23</td>\n",
              "      <td>25</td>\n",
              "      <td>2017</td>\n",
              "      <td>336.485</td>\n",
              "      <td>348.006</td>\n",
              "      <td>334.990</td>\n",
              "      <td>341.739</td>\n",
              "      <td>5.932070e+08</td>\n",
              "      <td>2017.0</td>\n",
              "      <td>6.0</td>\n",
              "      <td>23.0</td>\n",
              "      <td>5.254</td>\n",
              "    </tr>\n",
              "    <tr>\n",
              "      <th>1</th>\n",
              "      <td>2017-06-24</td>\n",
              "      <td>1.240840e+03</td>\n",
              "      <td>21.0</td>\n",
              "      <td>13.0</td>\n",
              "      <td>2017</td>\n",
              "      <td>6</td>\n",
              "      <td>24</td>\n",
              "      <td>25</td>\n",
              "      <td>2017</td>\n",
              "      <td>341.625</td>\n",
              "      <td>343.621</td>\n",
              "      <td>322.087</td>\n",
              "      <td>323.696</td>\n",
              "      <td>6.735850e+08</td>\n",
              "      <td>2017.0</td>\n",
              "      <td>6.0</td>\n",
              "      <td>24.0</td>\n",
              "      <td>-17.929</td>\n",
              "    </tr>\n",
              "    <tr>\n",
              "      <th>2</th>\n",
              "      <td>2017-06-25</td>\n",
              "      <td>5.175500e+02</td>\n",
              "      <td>13.0</td>\n",
              "      <td>7.0</td>\n",
              "      <td>2017</td>\n",
              "      <td>6</td>\n",
              "      <td>25</td>\n",
              "      <td>25</td>\n",
              "      <td>2017</td>\n",
              "      <td>323.466</td>\n",
              "      <td>332.792</td>\n",
              "      <td>284.646</td>\n",
              "      <td>303.248</td>\n",
              "      <td>1.186880e+09</td>\n",
              "      <td>2017.0</td>\n",
              "      <td>6.0</td>\n",
              "      <td>25.0</td>\n",
              "      <td>-20.218</td>\n",
              "    </tr>\n",
              "    <tr>\n",
              "      <th>3</th>\n",
              "      <td>2017-06-26</td>\n",
              "      <td>4.246300e+02</td>\n",
              "      <td>14.0</td>\n",
              "      <td>6.0</td>\n",
              "      <td>2017</td>\n",
              "      <td>6</td>\n",
              "      <td>26</td>\n",
              "      <td>26</td>\n",
              "      <td>2017</td>\n",
              "      <td>302.955</td>\n",
              "      <td>311.458</td>\n",
              "      <td>238.649</td>\n",
              "      <td>272.692</td>\n",
              "      <td>2.081810e+09</td>\n",
              "      <td>2017.0</td>\n",
              "      <td>6.0</td>\n",
              "      <td>26.0</td>\n",
              "      <td>-30.263</td>\n",
              "    </tr>\n",
              "    <tr>\n",
              "      <th>4</th>\n",
              "      <td>2017-06-27</td>\n",
              "      <td>2.092910e+03</td>\n",
              "      <td>33.0</td>\n",
              "      <td>10.0</td>\n",
              "      <td>2017</td>\n",
              "      <td>6</td>\n",
              "      <td>27</td>\n",
              "      <td>26</td>\n",
              "      <td>2017</td>\n",
              "      <td>272.692</td>\n",
              "      <td>293.088</td>\n",
              "      <td>227.137</td>\n",
              "      <td>293.088</td>\n",
              "      <td>1.973870e+09</td>\n",
              "      <td>2017.0</td>\n",
              "      <td>6.0</td>\n",
              "      <td>27.0</td>\n",
              "      <td>20.396</td>\n",
              "    </tr>\n",
              "    <tr>\n",
              "      <th>...</th>\n",
              "      <td>...</td>\n",
              "      <td>...</td>\n",
              "      <td>...</td>\n",
              "      <td>...</td>\n",
              "      <td>...</td>\n",
              "      <td>...</td>\n",
              "      <td>...</td>\n",
              "      <td>...</td>\n",
              "      <td>...</td>\n",
              "      <td>...</td>\n",
              "      <td>...</td>\n",
              "      <td>...</td>\n",
              "      <td>...</td>\n",
              "      <td>...</td>\n",
              "      <td>...</td>\n",
              "      <td>...</td>\n",
              "      <td>...</td>\n",
              "      <td>...</td>\n",
              "    </tr>\n",
              "    <tr>\n",
              "      <th>1591</th>\n",
              "      <td>2021-10-31</td>\n",
              "      <td>6.634104e+07</td>\n",
              "      <td>53472.0</td>\n",
              "      <td>6286.0</td>\n",
              "      <td>2021</td>\n",
              "      <td>10</td>\n",
              "      <td>31</td>\n",
              "      <td>43</td>\n",
              "      <td>2021</td>\n",
              "      <td>4322.744</td>\n",
              "      <td>4394.450</td>\n",
              "      <td>4179.016</td>\n",
              "      <td>4288.074</td>\n",
              "      <td>1.749816e+10</td>\n",
              "      <td>2021.0</td>\n",
              "      <td>10.0</td>\n",
              "      <td>31.0</td>\n",
              "      <td>-34.670</td>\n",
              "    </tr>\n",
              "    <tr>\n",
              "      <th>1592</th>\n",
              "      <td>2021-11-01</td>\n",
              "      <td>3.553877e+07</td>\n",
              "      <td>13646.0</td>\n",
              "      <td>6420.0</td>\n",
              "      <td>2021</td>\n",
              "      <td>11</td>\n",
              "      <td>1</td>\n",
              "      <td>44</td>\n",
              "      <td>2021</td>\n",
              "      <td>4288.217</td>\n",
              "      <td>4377.322</td>\n",
              "      <td>4160.967</td>\n",
              "      <td>4324.627</td>\n",
              "      <td>1.798529e+10</td>\n",
              "      <td>2021.0</td>\n",
              "      <td>11.0</td>\n",
              "      <td>1.0</td>\n",
              "      <td>36.410</td>\n",
              "    </tr>\n",
              "    <tr>\n",
              "      <th>1593</th>\n",
              "      <td>2021-11-02</td>\n",
              "      <td>8.261331e+07</td>\n",
              "      <td>67388.0</td>\n",
              "      <td>5370.0</td>\n",
              "      <td>2021</td>\n",
              "      <td>11</td>\n",
              "      <td>2</td>\n",
              "      <td>44</td>\n",
              "      <td>2021</td>\n",
              "      <td>4322.501</td>\n",
              "      <td>4599.948</td>\n",
              "      <td>4288.687</td>\n",
              "      <td>4584.799</td>\n",
              "      <td>2.079445e+10</td>\n",
              "      <td>2021.0</td>\n",
              "      <td>11.0</td>\n",
              "      <td>2.0</td>\n",
              "      <td>262.298</td>\n",
              "    </tr>\n",
              "    <tr>\n",
              "      <th>1594</th>\n",
              "      <td>2021-11-03</td>\n",
              "      <td>4.309933e+07</td>\n",
              "      <td>23465.0</td>\n",
              "      <td>3308.0</td>\n",
              "      <td>2021</td>\n",
              "      <td>11</td>\n",
              "      <td>3</td>\n",
              "      <td>44</td>\n",
              "      <td>2021</td>\n",
              "      <td>4589.685</td>\n",
              "      <td>4664.910</td>\n",
              "      <td>4462.976</td>\n",
              "      <td>4607.194</td>\n",
              "      <td>2.122046e+10</td>\n",
              "      <td>2021.0</td>\n",
              "      <td>11.0</td>\n",
              "      <td>3.0</td>\n",
              "      <td>17.509</td>\n",
              "    </tr>\n",
              "    <tr>\n",
              "      <th>1595</th>\n",
              "      <td>2021-11-04</td>\n",
              "      <td>4.687265e+07</td>\n",
              "      <td>13108.0</td>\n",
              "      <td>-573.0</td>\n",
              "      <td>2021</td>\n",
              "      <td>11</td>\n",
              "      <td>4</td>\n",
              "      <td>44</td>\n",
              "      <td>2021</td>\n",
              "      <td>4604.679</td>\n",
              "      <td>4606.516</td>\n",
              "      <td>4426.623</td>\n",
              "      <td>4537.324</td>\n",
              "      <td>1.841524e+10</td>\n",
              "      <td>2021.0</td>\n",
              "      <td>11.0</td>\n",
              "      <td>4.0</td>\n",
              "      <td>-67.355</td>\n",
              "    </tr>\n",
              "  </tbody>\n",
              "</table>\n",
              "<p>1596 rows × 18 columns</p>\n",
              "</div>\n",
              "      <button class=\"colab-df-convert\" onclick=\"convertToInteractive('df-4bc877d5-cdf5-438b-9dcf-7b960889f612')\"\n",
              "              title=\"Convert this dataframe to an interactive table.\"\n",
              "              style=\"display:none;\">\n",
              "        \n",
              "  <svg xmlns=\"http://www.w3.org/2000/svg\" height=\"24px\"viewBox=\"0 0 24 24\"\n",
              "       width=\"24px\">\n",
              "    <path d=\"M0 0h24v24H0V0z\" fill=\"none\"/>\n",
              "    <path d=\"M18.56 5.44l.94 2.06.94-2.06 2.06-.94-2.06-.94-.94-2.06-.94 2.06-2.06.94zm-11 1L8.5 8.5l.94-2.06 2.06-.94-2.06-.94L8.5 2.5l-.94 2.06-2.06.94zm10 10l.94 2.06.94-2.06 2.06-.94-2.06-.94-.94-2.06-.94 2.06-2.06.94z\"/><path d=\"M17.41 7.96l-1.37-1.37c-.4-.4-.92-.59-1.43-.59-.52 0-1.04.2-1.43.59L10.3 9.45l-7.72 7.72c-.78.78-.78 2.05 0 2.83L4 21.41c.39.39.9.59 1.41.59.51 0 1.02-.2 1.41-.59l7.78-7.78 2.81-2.81c.8-.78.8-2.07 0-2.86zM5.41 20L4 18.59l7.72-7.72 1.47 1.35L5.41 20z\"/>\n",
              "  </svg>\n",
              "      </button>\n",
              "      \n",
              "  <style>\n",
              "    .colab-df-container {\n",
              "      display:flex;\n",
              "      flex-wrap:wrap;\n",
              "      gap: 12px;\n",
              "    }\n",
              "\n",
              "    .colab-df-convert {\n",
              "      background-color: #E8F0FE;\n",
              "      border: none;\n",
              "      border-radius: 50%;\n",
              "      cursor: pointer;\n",
              "      display: none;\n",
              "      fill: #1967D2;\n",
              "      height: 32px;\n",
              "      padding: 0 0 0 0;\n",
              "      width: 32px;\n",
              "    }\n",
              "\n",
              "    .colab-df-convert:hover {\n",
              "      background-color: #E2EBFA;\n",
              "      box-shadow: 0px 1px 2px rgba(60, 64, 67, 0.3), 0px 1px 3px 1px rgba(60, 64, 67, 0.15);\n",
              "      fill: #174EA6;\n",
              "    }\n",
              "\n",
              "    [theme=dark] .colab-df-convert {\n",
              "      background-color: #3B4455;\n",
              "      fill: #D2E3FC;\n",
              "    }\n",
              "\n",
              "    [theme=dark] .colab-df-convert:hover {\n",
              "      background-color: #434B5C;\n",
              "      box-shadow: 0px 1px 3px 1px rgba(0, 0, 0, 0.15);\n",
              "      filter: drop-shadow(0px 1px 2px rgba(0, 0, 0, 0.3));\n",
              "      fill: #FFFFFF;\n",
              "    }\n",
              "  </style>\n",
              "\n",
              "      <script>\n",
              "        const buttonEl =\n",
              "          document.querySelector('#df-4bc877d5-cdf5-438b-9dcf-7b960889f612 button.colab-df-convert');\n",
              "        buttonEl.style.display =\n",
              "          google.colab.kernel.accessAllowed ? 'block' : 'none';\n",
              "\n",
              "        async function convertToInteractive(key) {\n",
              "          const element = document.querySelector('#df-4bc877d5-cdf5-438b-9dcf-7b960889f612');\n",
              "          const dataTable =\n",
              "            await google.colab.kernel.invokeFunction('convertToInteractive',\n",
              "                                                     [key], {});\n",
              "          if (!dataTable) return;\n",
              "\n",
              "          const docLinkHtml = 'Like what you see? Visit the ' +\n",
              "            '<a target=\"_blank\" href=https://colab.research.google.com/notebooks/data_table.ipynb>data table notebook</a>'\n",
              "            + ' to learn more about interactive tables.';\n",
              "          element.innerHTML = '';\n",
              "          dataTable['output_type'] = 'display_data';\n",
              "          await google.colab.output.renderOutput(dataTable, element);\n",
              "          const docLink = document.createElement('div');\n",
              "          docLink.innerHTML = docLinkHtml;\n",
              "          element.appendChild(docLink);\n",
              "        }\n",
              "      </script>\n",
              "    </div>\n",
              "  </div>\n",
              "  "
            ],
            "text/plain": [
              "           Date     Sales_USD  Number_of_Sales  ...  Month_y  Day_y  difference\n",
              "0    2017-06-23  1.020300e+03             19.0  ...      6.0   23.0       5.254\n",
              "1    2017-06-24  1.240840e+03             21.0  ...      6.0   24.0     -17.929\n",
              "2    2017-06-25  5.175500e+02             13.0  ...      6.0   25.0     -20.218\n",
              "3    2017-06-26  4.246300e+02             14.0  ...      6.0   26.0     -30.263\n",
              "4    2017-06-27  2.092910e+03             33.0  ...      6.0   27.0      20.396\n",
              "...         ...           ...              ...  ...      ...    ...         ...\n",
              "1591 2021-10-31  6.634104e+07          53472.0  ...     10.0   31.0     -34.670\n",
              "1592 2021-11-01  3.553877e+07          13646.0  ...     11.0    1.0      36.410\n",
              "1593 2021-11-02  8.261331e+07          67388.0  ...     11.0    2.0     262.298\n",
              "1594 2021-11-03  4.309933e+07          23465.0  ...     11.0    3.0      17.509\n",
              "1595 2021-11-04  4.687265e+07          13108.0  ...     11.0    4.0     -67.355\n",
              "\n",
              "[1596 rows x 18 columns]"
            ]
          },
          "metadata": {},
          "execution_count": 47
        }
      ]
    },
    {
      "cell_type": "code",
      "source": [
        "#TODO: Drop duplicate columns, rows with NaN and create column 'Sales_ETH'\n",
        "nft_eth_df = nft_eth_df.dropna(axis = 0, how = 'any')\n",
        "nft_eth_df = nft_eth_df.drop(['Year_y', 'Month_y', 'Day_y'], axis=1)\n",
        "nft_eth_df = nft_eth_df.rename(columns={\"Year_x\": \"Year\", \"Month_x\": \"Month\", \"Day_x\": \"Day\"})\n",
        "nft_eth_df['Sales_ETH'] = nft_eth_df['Sales_USD']/nft_eth_df['Close']"
      ],
      "metadata": {
        "id": "oNrwLJb3UiFQ"
      },
      "execution_count": null,
      "outputs": []
    },
    {
      "cell_type": "code",
      "source": [
        "nft_eth_df"
      ],
      "metadata": {
        "colab": {
          "base_uri": "https://localhost:8080/",
          "height": 641
        },
        "id": "kuzqm2ujkmF5",
        "outputId": "544e381f-75a3-4222-f976-0936722618bb"
      },
      "execution_count": null,
      "outputs": [
        {
          "output_type": "execute_result",
          "data": {
            "text/html": [
              "\n",
              "  <div id=\"df-0519cb9d-7765-46ac-8a7d-1954c77dc2da\">\n",
              "    <div class=\"colab-df-container\">\n",
              "      <div>\n",
              "<style scoped>\n",
              "    .dataframe tbody tr th:only-of-type {\n",
              "        vertical-align: middle;\n",
              "    }\n",
              "\n",
              "    .dataframe tbody tr th {\n",
              "        vertical-align: top;\n",
              "    }\n",
              "\n",
              "    .dataframe thead th {\n",
              "        text-align: right;\n",
              "    }\n",
              "</style>\n",
              "<table border=\"1\" class=\"dataframe\">\n",
              "  <thead>\n",
              "    <tr style=\"text-align: right;\">\n",
              "      <th></th>\n",
              "      <th>Date</th>\n",
              "      <th>Sales_USD</th>\n",
              "      <th>Number_of_Sales</th>\n",
              "      <th>Active_Market_Wallets</th>\n",
              "      <th>Year</th>\n",
              "      <th>Month</th>\n",
              "      <th>Day</th>\n",
              "      <th>Week</th>\n",
              "      <th>Year_of_Week</th>\n",
              "      <th>Open</th>\n",
              "      <th>High</th>\n",
              "      <th>Low</th>\n",
              "      <th>Close</th>\n",
              "      <th>Volume</th>\n",
              "      <th>difference</th>\n",
              "      <th>Sales_ETH</th>\n",
              "    </tr>\n",
              "  </thead>\n",
              "  <tbody>\n",
              "    <tr>\n",
              "      <th>0</th>\n",
              "      <td>2017-06-23</td>\n",
              "      <td>1.020300e+03</td>\n",
              "      <td>19.0</td>\n",
              "      <td>8.0</td>\n",
              "      <td>2017</td>\n",
              "      <td>6</td>\n",
              "      <td>23</td>\n",
              "      <td>25</td>\n",
              "      <td>2017</td>\n",
              "      <td>336.485</td>\n",
              "      <td>348.006</td>\n",
              "      <td>334.990</td>\n",
              "      <td>341.739</td>\n",
              "      <td>5.932070e+08</td>\n",
              "      <td>5.254</td>\n",
              "      <td>2.985612</td>\n",
              "    </tr>\n",
              "    <tr>\n",
              "      <th>1</th>\n",
              "      <td>2017-06-24</td>\n",
              "      <td>1.240840e+03</td>\n",
              "      <td>21.0</td>\n",
              "      <td>13.0</td>\n",
              "      <td>2017</td>\n",
              "      <td>6</td>\n",
              "      <td>24</td>\n",
              "      <td>25</td>\n",
              "      <td>2017</td>\n",
              "      <td>341.625</td>\n",
              "      <td>343.621</td>\n",
              "      <td>322.087</td>\n",
              "      <td>323.696</td>\n",
              "      <td>6.735850e+08</td>\n",
              "      <td>-17.929</td>\n",
              "      <td>3.833350</td>\n",
              "    </tr>\n",
              "    <tr>\n",
              "      <th>2</th>\n",
              "      <td>2017-06-25</td>\n",
              "      <td>5.175500e+02</td>\n",
              "      <td>13.0</td>\n",
              "      <td>7.0</td>\n",
              "      <td>2017</td>\n",
              "      <td>6</td>\n",
              "      <td>25</td>\n",
              "      <td>25</td>\n",
              "      <td>2017</td>\n",
              "      <td>323.466</td>\n",
              "      <td>332.792</td>\n",
              "      <td>284.646</td>\n",
              "      <td>303.248</td>\n",
              "      <td>1.186880e+09</td>\n",
              "      <td>-20.218</td>\n",
              "      <td>1.706689</td>\n",
              "    </tr>\n",
              "    <tr>\n",
              "      <th>3</th>\n",
              "      <td>2017-06-26</td>\n",
              "      <td>4.246300e+02</td>\n",
              "      <td>14.0</td>\n",
              "      <td>6.0</td>\n",
              "      <td>2017</td>\n",
              "      <td>6</td>\n",
              "      <td>26</td>\n",
              "      <td>26</td>\n",
              "      <td>2017</td>\n",
              "      <td>302.955</td>\n",
              "      <td>311.458</td>\n",
              "      <td>238.649</td>\n",
              "      <td>272.692</td>\n",
              "      <td>2.081810e+09</td>\n",
              "      <td>-30.263</td>\n",
              "      <td>1.557178</td>\n",
              "    </tr>\n",
              "    <tr>\n",
              "      <th>4</th>\n",
              "      <td>2017-06-27</td>\n",
              "      <td>2.092910e+03</td>\n",
              "      <td>33.0</td>\n",
              "      <td>10.0</td>\n",
              "      <td>2017</td>\n",
              "      <td>6</td>\n",
              "      <td>27</td>\n",
              "      <td>26</td>\n",
              "      <td>2017</td>\n",
              "      <td>272.692</td>\n",
              "      <td>293.088</td>\n",
              "      <td>227.137</td>\n",
              "      <td>293.088</td>\n",
              "      <td>1.973870e+09</td>\n",
              "      <td>20.396</td>\n",
              "      <td>7.140893</td>\n",
              "    </tr>\n",
              "    <tr>\n",
              "      <th>...</th>\n",
              "      <td>...</td>\n",
              "      <td>...</td>\n",
              "      <td>...</td>\n",
              "      <td>...</td>\n",
              "      <td>...</td>\n",
              "      <td>...</td>\n",
              "      <td>...</td>\n",
              "      <td>...</td>\n",
              "      <td>...</td>\n",
              "      <td>...</td>\n",
              "      <td>...</td>\n",
              "      <td>...</td>\n",
              "      <td>...</td>\n",
              "      <td>...</td>\n",
              "      <td>...</td>\n",
              "      <td>...</td>\n",
              "    </tr>\n",
              "    <tr>\n",
              "      <th>1591</th>\n",
              "      <td>2021-10-31</td>\n",
              "      <td>6.634104e+07</td>\n",
              "      <td>53472.0</td>\n",
              "      <td>6286.0</td>\n",
              "      <td>2021</td>\n",
              "      <td>10</td>\n",
              "      <td>31</td>\n",
              "      <td>43</td>\n",
              "      <td>2021</td>\n",
              "      <td>4322.744</td>\n",
              "      <td>4394.450</td>\n",
              "      <td>4179.016</td>\n",
              "      <td>4288.074</td>\n",
              "      <td>1.749816e+10</td>\n",
              "      <td>-34.670</td>\n",
              "      <td>15471.057554</td>\n",
              "    </tr>\n",
              "    <tr>\n",
              "      <th>1592</th>\n",
              "      <td>2021-11-01</td>\n",
              "      <td>3.553877e+07</td>\n",
              "      <td>13646.0</td>\n",
              "      <td>6420.0</td>\n",
              "      <td>2021</td>\n",
              "      <td>11</td>\n",
              "      <td>1</td>\n",
              "      <td>44</td>\n",
              "      <td>2021</td>\n",
              "      <td>4288.217</td>\n",
              "      <td>4377.322</td>\n",
              "      <td>4160.967</td>\n",
              "      <td>4324.627</td>\n",
              "      <td>1.798529e+10</td>\n",
              "      <td>36.410</td>\n",
              "      <td>8217.765669</td>\n",
              "    </tr>\n",
              "    <tr>\n",
              "      <th>1593</th>\n",
              "      <td>2021-11-02</td>\n",
              "      <td>8.261331e+07</td>\n",
              "      <td>67388.0</td>\n",
              "      <td>5370.0</td>\n",
              "      <td>2021</td>\n",
              "      <td>11</td>\n",
              "      <td>2</td>\n",
              "      <td>44</td>\n",
              "      <td>2021</td>\n",
              "      <td>4322.501</td>\n",
              "      <td>4599.948</td>\n",
              "      <td>4288.687</td>\n",
              "      <td>4584.799</td>\n",
              "      <td>2.079445e+10</td>\n",
              "      <td>262.298</td>\n",
              "      <td>18018.960022</td>\n",
              "    </tr>\n",
              "    <tr>\n",
              "      <th>1594</th>\n",
              "      <td>2021-11-03</td>\n",
              "      <td>4.309933e+07</td>\n",
              "      <td>23465.0</td>\n",
              "      <td>3308.0</td>\n",
              "      <td>2021</td>\n",
              "      <td>11</td>\n",
              "      <td>3</td>\n",
              "      <td>44</td>\n",
              "      <td>2021</td>\n",
              "      <td>4589.685</td>\n",
              "      <td>4664.910</td>\n",
              "      <td>4462.976</td>\n",
              "      <td>4607.194</td>\n",
              "      <td>2.122046e+10</td>\n",
              "      <td>17.509</td>\n",
              "      <td>9354.789436</td>\n",
              "    </tr>\n",
              "    <tr>\n",
              "      <th>1595</th>\n",
              "      <td>2021-11-04</td>\n",
              "      <td>4.687265e+07</td>\n",
              "      <td>13108.0</td>\n",
              "      <td>-573.0</td>\n",
              "      <td>2021</td>\n",
              "      <td>11</td>\n",
              "      <td>4</td>\n",
              "      <td>44</td>\n",
              "      <td>2021</td>\n",
              "      <td>4604.679</td>\n",
              "      <td>4606.516</td>\n",
              "      <td>4426.623</td>\n",
              "      <td>4537.324</td>\n",
              "      <td>1.841524e+10</td>\n",
              "      <td>-67.355</td>\n",
              "      <td>10330.461680</td>\n",
              "    </tr>\n",
              "  </tbody>\n",
              "</table>\n",
              "<p>1592 rows × 16 columns</p>\n",
              "</div>\n",
              "      <button class=\"colab-df-convert\" onclick=\"convertToInteractive('df-0519cb9d-7765-46ac-8a7d-1954c77dc2da')\"\n",
              "              title=\"Convert this dataframe to an interactive table.\"\n",
              "              style=\"display:none;\">\n",
              "        \n",
              "  <svg xmlns=\"http://www.w3.org/2000/svg\" height=\"24px\"viewBox=\"0 0 24 24\"\n",
              "       width=\"24px\">\n",
              "    <path d=\"M0 0h24v24H0V0z\" fill=\"none\"/>\n",
              "    <path d=\"M18.56 5.44l.94 2.06.94-2.06 2.06-.94-2.06-.94-.94-2.06-.94 2.06-2.06.94zm-11 1L8.5 8.5l.94-2.06 2.06-.94-2.06-.94L8.5 2.5l-.94 2.06-2.06.94zm10 10l.94 2.06.94-2.06 2.06-.94-2.06-.94-.94-2.06-.94 2.06-2.06.94z\"/><path d=\"M17.41 7.96l-1.37-1.37c-.4-.4-.92-.59-1.43-.59-.52 0-1.04.2-1.43.59L10.3 9.45l-7.72 7.72c-.78.78-.78 2.05 0 2.83L4 21.41c.39.39.9.59 1.41.59.51 0 1.02-.2 1.41-.59l7.78-7.78 2.81-2.81c.8-.78.8-2.07 0-2.86zM5.41 20L4 18.59l7.72-7.72 1.47 1.35L5.41 20z\"/>\n",
              "  </svg>\n",
              "      </button>\n",
              "      \n",
              "  <style>\n",
              "    .colab-df-container {\n",
              "      display:flex;\n",
              "      flex-wrap:wrap;\n",
              "      gap: 12px;\n",
              "    }\n",
              "\n",
              "    .colab-df-convert {\n",
              "      background-color: #E8F0FE;\n",
              "      border: none;\n",
              "      border-radius: 50%;\n",
              "      cursor: pointer;\n",
              "      display: none;\n",
              "      fill: #1967D2;\n",
              "      height: 32px;\n",
              "      padding: 0 0 0 0;\n",
              "      width: 32px;\n",
              "    }\n",
              "\n",
              "    .colab-df-convert:hover {\n",
              "      background-color: #E2EBFA;\n",
              "      box-shadow: 0px 1px 2px rgba(60, 64, 67, 0.3), 0px 1px 3px 1px rgba(60, 64, 67, 0.15);\n",
              "      fill: #174EA6;\n",
              "    }\n",
              "\n",
              "    [theme=dark] .colab-df-convert {\n",
              "      background-color: #3B4455;\n",
              "      fill: #D2E3FC;\n",
              "    }\n",
              "\n",
              "    [theme=dark] .colab-df-convert:hover {\n",
              "      background-color: #434B5C;\n",
              "      box-shadow: 0px 1px 3px 1px rgba(0, 0, 0, 0.15);\n",
              "      filter: drop-shadow(0px 1px 2px rgba(0, 0, 0, 0.3));\n",
              "      fill: #FFFFFF;\n",
              "    }\n",
              "  </style>\n",
              "\n",
              "      <script>\n",
              "        const buttonEl =\n",
              "          document.querySelector('#df-0519cb9d-7765-46ac-8a7d-1954c77dc2da button.colab-df-convert');\n",
              "        buttonEl.style.display =\n",
              "          google.colab.kernel.accessAllowed ? 'block' : 'none';\n",
              "\n",
              "        async function convertToInteractive(key) {\n",
              "          const element = document.querySelector('#df-0519cb9d-7765-46ac-8a7d-1954c77dc2da');\n",
              "          const dataTable =\n",
              "            await google.colab.kernel.invokeFunction('convertToInteractive',\n",
              "                                                     [key], {});\n",
              "          if (!dataTable) return;\n",
              "\n",
              "          const docLinkHtml = 'Like what you see? Visit the ' +\n",
              "            '<a target=\"_blank\" href=https://colab.research.google.com/notebooks/data_table.ipynb>data table notebook</a>'\n",
              "            + ' to learn more about interactive tables.';\n",
              "          element.innerHTML = '';\n",
              "          dataTable['output_type'] = 'display_data';\n",
              "          await google.colab.output.renderOutput(dataTable, element);\n",
              "          const docLink = document.createElement('div');\n",
              "          docLink.innerHTML = docLinkHtml;\n",
              "          element.appendChild(docLink);\n",
              "        }\n",
              "      </script>\n",
              "    </div>\n",
              "  </div>\n",
              "  "
            ],
            "text/plain": [
              "           Date     Sales_USD  ...  difference     Sales_ETH\n",
              "0    2017-06-23  1.020300e+03  ...       5.254      2.985612\n",
              "1    2017-06-24  1.240840e+03  ...     -17.929      3.833350\n",
              "2    2017-06-25  5.175500e+02  ...     -20.218      1.706689\n",
              "3    2017-06-26  4.246300e+02  ...     -30.263      1.557178\n",
              "4    2017-06-27  2.092910e+03  ...      20.396      7.140893\n",
              "...         ...           ...  ...         ...           ...\n",
              "1591 2021-10-31  6.634104e+07  ...     -34.670  15471.057554\n",
              "1592 2021-11-01  3.553877e+07  ...      36.410   8217.765669\n",
              "1593 2021-11-02  8.261331e+07  ...     262.298  18018.960022\n",
              "1594 2021-11-03  4.309933e+07  ...      17.509   9354.789436\n",
              "1595 2021-11-04  4.687265e+07  ...     -67.355  10330.461680\n",
              "\n",
              "[1592 rows x 16 columns]"
            ]
          },
          "metadata": {},
          "execution_count": 49
        }
      ]
    },
    {
      "cell_type": "code",
      "source": [
        "# TEST CASE: nft_eth_df (6pt)\n",
        "# [CIS 545 PennGrader Cell] - 6 points\n",
        "grader.grade(test_case_id = 'nft_eth_df', answer = nft_eth_df)"
      ],
      "metadata": {
        "id": "ZT3pa8TObXxE",
        "colab": {
          "base_uri": "https://localhost:8080/"
        },
        "outputId": "6d975e92-d515-448c-c987-665e6bacac56"
      },
      "execution_count": null,
      "outputs": [
        {
          "output_type": "stream",
          "name": "stdout",
          "text": [
            "Correct! You earned 6/6 points. You are a star!\n",
            "\n",
            "Your submission has been successfully recorded in the gradebook.\n"
          ]
        }
      ]
    },
    {
      "cell_type": "markdown",
      "source": [
        "####**TODO: 2.1.3** (3 points)\n",
        "Let's now figure out when NFT sales were at their best given that there was high volume in the crypto space. \n",
        "- Filter `nft_eth_df` to get the top 10 rows with the highest Sales_ETH given the number of Active_Market_Wallets is greater than 2000. Store this new dataframe as `top_10_sales_df`."
      ],
      "metadata": {
        "id": "exUyhXv0aX67"
      }
    },
    {
      "cell_type": "code",
      "source": [
        "#TODO: Get top 10 rows with highest Sales_ETH given Active Market Wallets > 2000\n",
        "top_10_sales_df = nft_eth_df[nft_eth_df['Active_Market_Wallets'] > 2000.0].sort_values(by = ['Sales_ETH'], ascending = False).head(10)"
      ],
      "metadata": {
        "id": "9xLhDY7Myq_5"
      },
      "execution_count": null,
      "outputs": []
    },
    {
      "cell_type": "code",
      "source": [
        "top_10_sales_df"
      ],
      "metadata": {
        "colab": {
          "base_uri": "https://localhost:8080/",
          "height": 580
        },
        "id": "w6m6v2UeTEvR",
        "outputId": "6e88d6f3-cbb9-4ebd-9bf6-660b622a695b"
      },
      "execution_count": null,
      "outputs": [
        {
          "output_type": "execute_result",
          "data": {
            "text/html": [
              "\n",
              "  <div id=\"df-0d2ad726-9a4a-42eb-a439-7cb50384072f\">\n",
              "    <div class=\"colab-df-container\">\n",
              "      <div>\n",
              "<style scoped>\n",
              "    .dataframe tbody tr th:only-of-type {\n",
              "        vertical-align: middle;\n",
              "    }\n",
              "\n",
              "    .dataframe tbody tr th {\n",
              "        vertical-align: top;\n",
              "    }\n",
              "\n",
              "    .dataframe thead th {\n",
              "        text-align: right;\n",
              "    }\n",
              "</style>\n",
              "<table border=\"1\" class=\"dataframe\">\n",
              "  <thead>\n",
              "    <tr style=\"text-align: right;\">\n",
              "      <th></th>\n",
              "      <th>Date</th>\n",
              "      <th>Sales_USD</th>\n",
              "      <th>Number_of_Sales</th>\n",
              "      <th>Active_Market_Wallets</th>\n",
              "      <th>Year</th>\n",
              "      <th>Month</th>\n",
              "      <th>Day</th>\n",
              "      <th>Week</th>\n",
              "      <th>Year_of_Week</th>\n",
              "      <th>Open</th>\n",
              "      <th>High</th>\n",
              "      <th>Low</th>\n",
              "      <th>Close</th>\n",
              "      <th>Volume</th>\n",
              "      <th>difference</th>\n",
              "      <th>Sales_ETH</th>\n",
              "    </tr>\n",
              "  </thead>\n",
              "  <tbody>\n",
              "    <tr>\n",
              "      <th>1528</th>\n",
              "      <td>2021-08-29</td>\n",
              "      <td>3.886364e+08</td>\n",
              "      <td>57826.0</td>\n",
              "      <td>4715.0</td>\n",
              "      <td>2021</td>\n",
              "      <td>8</td>\n",
              "      <td>29</td>\n",
              "      <td>34</td>\n",
              "      <td>2021</td>\n",
              "      <td>3246.771</td>\n",
              "      <td>3283.236</td>\n",
              "      <td>3158.840</td>\n",
              "      <td>3227.003</td>\n",
              "      <td>1.329659e+10</td>\n",
              "      <td>-19.768</td>\n",
              "      <td>120432.599068</td>\n",
              "    </tr>\n",
              "    <tr>\n",
              "      <th>1527</th>\n",
              "      <td>2021-08-28</td>\n",
              "      <td>3.315293e+08</td>\n",
              "      <td>48395.0</td>\n",
              "      <td>5210.0</td>\n",
              "      <td>2021</td>\n",
              "      <td>8</td>\n",
              "      <td>28</td>\n",
              "      <td>34</td>\n",
              "      <td>2021</td>\n",
              "      <td>3275.104</td>\n",
              "      <td>3284.846</td>\n",
              "      <td>3217.404</td>\n",
              "      <td>3244.403</td>\n",
              "      <td>1.370963e+10</td>\n",
              "      <td>-30.701</td>\n",
              "      <td>102184.982306</td>\n",
              "    </tr>\n",
              "    <tr>\n",
              "      <th>1522</th>\n",
              "      <td>2021-08-23</td>\n",
              "      <td>2.435778e+08</td>\n",
              "      <td>34576.0</td>\n",
              "      <td>4443.0</td>\n",
              "      <td>2021</td>\n",
              "      <td>8</td>\n",
              "      <td>23</td>\n",
              "      <td>34</td>\n",
              "      <td>2021</td>\n",
              "      <td>3241.357</td>\n",
              "      <td>3373.384</td>\n",
              "      <td>3235.851</td>\n",
              "      <td>3319.257</td>\n",
              "      <td>2.051111e+10</td>\n",
              "      <td>77.900</td>\n",
              "      <td>73383.229545</td>\n",
              "    </tr>\n",
              "    <tr>\n",
              "      <th>1529</th>\n",
              "      <td>2021-08-30</td>\n",
              "      <td>2.275552e+08</td>\n",
              "      <td>49750.0</td>\n",
              "      <td>3776.0</td>\n",
              "      <td>2021</td>\n",
              "      <td>8</td>\n",
              "      <td>30</td>\n",
              "      <td>35</td>\n",
              "      <td>2021</td>\n",
              "      <td>3227.193</td>\n",
              "      <td>3346.581</td>\n",
              "      <td>3151.445</td>\n",
              "      <td>3224.374</td>\n",
              "      <td>1.930692e+10</td>\n",
              "      <td>-2.819</td>\n",
              "      <td>70573.446768</td>\n",
              "    </tr>\n",
              "    <tr>\n",
              "      <th>1526</th>\n",
              "      <td>2021-08-27</td>\n",
              "      <td>2.081511e+08</td>\n",
              "      <td>60409.0</td>\n",
              "      <td>2186.0</td>\n",
              "      <td>2021</td>\n",
              "      <td>8</td>\n",
              "      <td>27</td>\n",
              "      <td>34</td>\n",
              "      <td>2021</td>\n",
              "      <td>3096.406</td>\n",
              "      <td>3281.841</td>\n",
              "      <td>3064.485</td>\n",
              "      <td>3270.601</td>\n",
              "      <td>1.848960e+10</td>\n",
              "      <td>174.195</td>\n",
              "      <td>63643.078306</td>\n",
              "    </tr>\n",
              "    <tr>\n",
              "      <th>1523</th>\n",
              "      <td>2021-08-24</td>\n",
              "      <td>1.949498e+08</td>\n",
              "      <td>42202.0</td>\n",
              "      <td>4015.0</td>\n",
              "      <td>2021</td>\n",
              "      <td>8</td>\n",
              "      <td>24</td>\n",
              "      <td>34</td>\n",
              "      <td>2021</td>\n",
              "      <td>3324.855</td>\n",
              "      <td>3358.688</td>\n",
              "      <td>3154.121</td>\n",
              "      <td>3172.456</td>\n",
              "      <td>2.013103e+10</td>\n",
              "      <td>-152.399</td>\n",
              "      <td>61450.744631</td>\n",
              "    </tr>\n",
              "    <tr>\n",
              "      <th>1524</th>\n",
              "      <td>2021-08-25</td>\n",
              "      <td>1.525863e+08</td>\n",
              "      <td>46876.0</td>\n",
              "      <td>4118.0</td>\n",
              "      <td>2021</td>\n",
              "      <td>8</td>\n",
              "      <td>25</td>\n",
              "      <td>34</td>\n",
              "      <td>2021</td>\n",
              "      <td>3174.270</td>\n",
              "      <td>3248.727</td>\n",
              "      <td>3086.115</td>\n",
              "      <td>3224.915</td>\n",
              "      <td>1.890273e+10</td>\n",
              "      <td>50.645</td>\n",
              "      <td>47314.837014</td>\n",
              "    </tr>\n",
              "    <tr>\n",
              "      <th>1530</th>\n",
              "      <td>2021-08-31</td>\n",
              "      <td>1.567559e+08</td>\n",
              "      <td>59261.0</td>\n",
              "      <td>2475.0</td>\n",
              "      <td>2021</td>\n",
              "      <td>8</td>\n",
              "      <td>31</td>\n",
              "      <td>35</td>\n",
              "      <td>2021</td>\n",
              "      <td>3227.758</td>\n",
              "      <td>3466.992</td>\n",
              "      <td>3195.217</td>\n",
              "      <td>3433.733</td>\n",
              "      <td>2.728050e+10</td>\n",
              "      <td>205.975</td>\n",
              "      <td>45651.746041</td>\n",
              "    </tr>\n",
              "    <tr>\n",
              "      <th>1525</th>\n",
              "      <td>2021-08-26</td>\n",
              "      <td>1.361483e+08</td>\n",
              "      <td>40384.0</td>\n",
              "      <td>2646.0</td>\n",
              "      <td>2021</td>\n",
              "      <td>8</td>\n",
              "      <td>26</td>\n",
              "      <td>34</td>\n",
              "      <td>2021</td>\n",
              "      <td>3228.747</td>\n",
              "      <td>3249.655</td>\n",
              "      <td>3060.229</td>\n",
              "      <td>3100.325</td>\n",
              "      <td>1.740567e+10</td>\n",
              "      <td>-128.422</td>\n",
              "      <td>43914.201543</td>\n",
              "    </tr>\n",
              "    <tr>\n",
              "      <th>1531</th>\n",
              "      <td>2021-09-01</td>\n",
              "      <td>1.517168e+08</td>\n",
              "      <td>46294.0</td>\n",
              "      <td>3235.0</td>\n",
              "      <td>2021</td>\n",
              "      <td>9</td>\n",
              "      <td>1</td>\n",
              "      <td>35</td>\n",
              "      <td>2021</td>\n",
              "      <td>3430.762</td>\n",
              "      <td>3836.867</td>\n",
              "      <td>3387.408</td>\n",
              "      <td>3834.828</td>\n",
              "      <td>3.007089e+10</td>\n",
              "      <td>404.066</td>\n",
              "      <td>39562.872387</td>\n",
              "    </tr>\n",
              "  </tbody>\n",
              "</table>\n",
              "</div>\n",
              "      <button class=\"colab-df-convert\" onclick=\"convertToInteractive('df-0d2ad726-9a4a-42eb-a439-7cb50384072f')\"\n",
              "              title=\"Convert this dataframe to an interactive table.\"\n",
              "              style=\"display:none;\">\n",
              "        \n",
              "  <svg xmlns=\"http://www.w3.org/2000/svg\" height=\"24px\"viewBox=\"0 0 24 24\"\n",
              "       width=\"24px\">\n",
              "    <path d=\"M0 0h24v24H0V0z\" fill=\"none\"/>\n",
              "    <path d=\"M18.56 5.44l.94 2.06.94-2.06 2.06-.94-2.06-.94-.94-2.06-.94 2.06-2.06.94zm-11 1L8.5 8.5l.94-2.06 2.06-.94-2.06-.94L8.5 2.5l-.94 2.06-2.06.94zm10 10l.94 2.06.94-2.06 2.06-.94-2.06-.94-.94-2.06-.94 2.06-2.06.94z\"/><path d=\"M17.41 7.96l-1.37-1.37c-.4-.4-.92-.59-1.43-.59-.52 0-1.04.2-1.43.59L10.3 9.45l-7.72 7.72c-.78.78-.78 2.05 0 2.83L4 21.41c.39.39.9.59 1.41.59.51 0 1.02-.2 1.41-.59l7.78-7.78 2.81-2.81c.8-.78.8-2.07 0-2.86zM5.41 20L4 18.59l7.72-7.72 1.47 1.35L5.41 20z\"/>\n",
              "  </svg>\n",
              "      </button>\n",
              "      \n",
              "  <style>\n",
              "    .colab-df-container {\n",
              "      display:flex;\n",
              "      flex-wrap:wrap;\n",
              "      gap: 12px;\n",
              "    }\n",
              "\n",
              "    .colab-df-convert {\n",
              "      background-color: #E8F0FE;\n",
              "      border: none;\n",
              "      border-radius: 50%;\n",
              "      cursor: pointer;\n",
              "      display: none;\n",
              "      fill: #1967D2;\n",
              "      height: 32px;\n",
              "      padding: 0 0 0 0;\n",
              "      width: 32px;\n",
              "    }\n",
              "\n",
              "    .colab-df-convert:hover {\n",
              "      background-color: #E2EBFA;\n",
              "      box-shadow: 0px 1px 2px rgba(60, 64, 67, 0.3), 0px 1px 3px 1px rgba(60, 64, 67, 0.15);\n",
              "      fill: #174EA6;\n",
              "    }\n",
              "\n",
              "    [theme=dark] .colab-df-convert {\n",
              "      background-color: #3B4455;\n",
              "      fill: #D2E3FC;\n",
              "    }\n",
              "\n",
              "    [theme=dark] .colab-df-convert:hover {\n",
              "      background-color: #434B5C;\n",
              "      box-shadow: 0px 1px 3px 1px rgba(0, 0, 0, 0.15);\n",
              "      filter: drop-shadow(0px 1px 2px rgba(0, 0, 0, 0.3));\n",
              "      fill: #FFFFFF;\n",
              "    }\n",
              "  </style>\n",
              "\n",
              "      <script>\n",
              "        const buttonEl =\n",
              "          document.querySelector('#df-0d2ad726-9a4a-42eb-a439-7cb50384072f button.colab-df-convert');\n",
              "        buttonEl.style.display =\n",
              "          google.colab.kernel.accessAllowed ? 'block' : 'none';\n",
              "\n",
              "        async function convertToInteractive(key) {\n",
              "          const element = document.querySelector('#df-0d2ad726-9a4a-42eb-a439-7cb50384072f');\n",
              "          const dataTable =\n",
              "            await google.colab.kernel.invokeFunction('convertToInteractive',\n",
              "                                                     [key], {});\n",
              "          if (!dataTable) return;\n",
              "\n",
              "          const docLinkHtml = 'Like what you see? Visit the ' +\n",
              "            '<a target=\"_blank\" href=https://colab.research.google.com/notebooks/data_table.ipynb>data table notebook</a>'\n",
              "            + ' to learn more about interactive tables.';\n",
              "          element.innerHTML = '';\n",
              "          dataTable['output_type'] = 'display_data';\n",
              "          await google.colab.output.renderOutput(dataTable, element);\n",
              "          const docLink = document.createElement('div');\n",
              "          docLink.innerHTML = docLinkHtml;\n",
              "          element.appendChild(docLink);\n",
              "        }\n",
              "      </script>\n",
              "    </div>\n",
              "  </div>\n",
              "  "
            ],
            "text/plain": [
              "           Date     Sales_USD  ...  difference      Sales_ETH\n",
              "1528 2021-08-29  3.886364e+08  ...     -19.768  120432.599068\n",
              "1527 2021-08-28  3.315293e+08  ...     -30.701  102184.982306\n",
              "1522 2021-08-23  2.435778e+08  ...      77.900   73383.229545\n",
              "1529 2021-08-30  2.275552e+08  ...      -2.819   70573.446768\n",
              "1526 2021-08-27  2.081511e+08  ...     174.195   63643.078306\n",
              "1523 2021-08-24  1.949498e+08  ...    -152.399   61450.744631\n",
              "1524 2021-08-25  1.525863e+08  ...      50.645   47314.837014\n",
              "1530 2021-08-31  1.567559e+08  ...     205.975   45651.746041\n",
              "1525 2021-08-26  1.361483e+08  ...    -128.422   43914.201543\n",
              "1531 2021-09-01  1.517168e+08  ...     404.066   39562.872387\n",
              "\n",
              "[10 rows x 16 columns]"
            ]
          },
          "metadata": {},
          "execution_count": 52
        }
      ]
    },
    {
      "cell_type": "code",
      "source": [
        "# TEST CASE: top_10_sales_df (3pt)\n",
        "# [CIS 545 PennGrader Cell] - 3 points\n",
        "grader.grade(test_case_id = 'top_10_sales_df', answer = top_10_sales_df)"
      ],
      "metadata": {
        "id": "4Eso7YVsbrrD",
        "colab": {
          "base_uri": "https://localhost:8080/"
        },
        "outputId": "d4d92aaf-55cc-4390-8ee8-9a2aacfc223d"
      },
      "execution_count": null,
      "outputs": [
        {
          "output_type": "stream",
          "name": "stdout",
          "text": [
            "Correct! You earned 3/3 points. You are a star!\n",
            "\n",
            "Your submission has been successfully recorded in the gradebook.\n"
          ]
        }
      ]
    },
    {
      "cell_type": "markdown",
      "source": [
        "##2.2 Computing Growth Metrics\n",
        "\n",
        "The daily percentage change in price is the change in the value of a stock over a single day of trading as seen below:\n",
        "\\begin{align}\n",
        "r_t = \\frac{p_t}{p_{t-1}}-1\n",
        "\\end{align}\n",
        "\n",
        "This metric is useful for indicating the volatility of the currency ETH. Thus we would like to create a new column in `nft_eth_df` called 'close_returns' that consists of the daily percentage change in closing price. \n",
        "\n",
        "Similarly, it would be interesting to see how the sales of NFT varies per day as the ETH changes daily. \n",
        "\n",
        "**Note:** The previous row may not necessarily contain the previous date of the current row but we only want to compute daily percentage change between two consecutive days"
      ],
      "metadata": {
        "id": "joMu2KFwtrnH"
      }
    },
    {
      "cell_type": "markdown",
      "source": [
        "####**TODO: 2.2.1** (6 points)\n",
        "- Using `nft_eth_df`, create a column called 'close_returns' that contains the daily percentange change in closing price \n",
        "- Create a column called 'sales_returns' that contains the difference between the current and previous NFT sales value in Sales_USD (current - previous). \n",
        "- Drop all rows with NaN\n",
        "- Store this new dataframe in `nft_eth_merged`\n",
        "\n",
        "\n",
        "**Hint1:** Consider the concept of *self joins* \\\\\n"
      ],
      "metadata": {
        "id": "EL6d9p98mZL_"
      }
    },
    {
      "cell_type": "code",
      "source": [
        "#TODO: Create nft_eth_merged as specified above\n",
        "from datetime import datetime, timedelta\n",
        "nft_eth_df['\bone_day_after'] = nft_eth_df['Date'] + timedelta(days = 1)\n",
        "nft_eth_merged = pd.merge(left = nft_eth_df, right = nft_eth_df[['\bone_day_after','Close', 'Sales_USD']], left_on = 'Date', right_on = '\bone_day_after', how = 'left')"
      ],
      "metadata": {
        "id": "yMnP-VHXVy2N"
      },
      "execution_count": null,
      "outputs": []
    },
    {
      "cell_type": "code",
      "source": [
        "nft_eth_merged[nft_eth_merged.isnull().T.any()]"
      ],
      "metadata": {
        "colab": {
          "base_uri": "https://localhost:8080/",
          "height": 307
        },
        "id": "X59EujxY_k5Q",
        "outputId": "0bbee33c-296e-4212-d3b8-be15cb2cebe1"
      },
      "execution_count": null,
      "outputs": [
        {
          "output_type": "execute_result",
          "data": {
            "text/html": [
              "\n",
              "  <div id=\"df-7fbe1d5d-9f1f-4554-8fef-1af524efe160\">\n",
              "    <div class=\"colab-df-container\">\n",
              "      <div>\n",
              "<style scoped>\n",
              "    .dataframe tbody tr th:only-of-type {\n",
              "        vertical-align: middle;\n",
              "    }\n",
              "\n",
              "    .dataframe tbody tr th {\n",
              "        vertical-align: top;\n",
              "    }\n",
              "\n",
              "    .dataframe thead th {\n",
              "        text-align: right;\n",
              "    }\n",
              "</style>\n",
              "<table border=\"1\" class=\"dataframe\">\n",
              "  <thead>\n",
              "    <tr style=\"text-align: right;\">\n",
              "      <th></th>\n",
              "      <th>Date</th>\n",
              "      <th>Sales_USD_x</th>\n",
              "      <th>Number_of_Sales</th>\n",
              "      <th>Active_Market_Wallets</th>\n",
              "      <th>Year</th>\n",
              "      <th>Month</th>\n",
              "      <th>Day</th>\n",
              "      <th>Week</th>\n",
              "      <th>Year_of_Week</th>\n",
              "      <th>Open</th>\n",
              "      <th>High</th>\n",
              "      <th>Low</th>\n",
              "      <th>Close_x</th>\n",
              "      <th>Volume</th>\n",
              "      <th>difference</th>\n",
              "      <th>Sales_ETH</th>\n",
              "      <th>\bone_day_after_x</th>\n",
              "      <th>\bone_day_after_y</th>\n",
              "      <th>Close_y</th>\n",
              "      <th>Sales_USD_y</th>\n",
              "    </tr>\n",
              "  </thead>\n",
              "  <tbody>\n",
              "    <tr>\n",
              "      <th>0</th>\n",
              "      <td>2017-06-23</td>\n",
              "      <td>1020.30</td>\n",
              "      <td>19.0</td>\n",
              "      <td>8.0</td>\n",
              "      <td>2017</td>\n",
              "      <td>6</td>\n",
              "      <td>23</td>\n",
              "      <td>25</td>\n",
              "      <td>2017</td>\n",
              "      <td>336.485</td>\n",
              "      <td>348.006</td>\n",
              "      <td>334.990</td>\n",
              "      <td>341.739</td>\n",
              "      <td>5.932070e+08</td>\n",
              "      <td>5.254</td>\n",
              "      <td>2.985612</td>\n",
              "      <td>2017-06-24</td>\n",
              "      <td>NaT</td>\n",
              "      <td>NaN</td>\n",
              "      <td>NaN</td>\n",
              "    </tr>\n",
              "    <tr>\n",
              "      <th>1029</th>\n",
              "      <td>2020-04-18</td>\n",
              "      <td>122811.19</td>\n",
              "      <td>5080.0</td>\n",
              "      <td>139.0</td>\n",
              "      <td>2020</td>\n",
              "      <td>4</td>\n",
              "      <td>18</td>\n",
              "      <td>16</td>\n",
              "      <td>2020</td>\n",
              "      <td>171.618</td>\n",
              "      <td>187.940</td>\n",
              "      <td>171.618</td>\n",
              "      <td>186.914</td>\n",
              "      <td>2.016032e+10</td>\n",
              "      <td>15.296</td>\n",
              "      <td>657.046503</td>\n",
              "      <td>2020-04-19</td>\n",
              "      <td>NaT</td>\n",
              "      <td>NaN</td>\n",
              "      <td>NaN</td>\n",
              "    </tr>\n",
              "    <tr>\n",
              "      <th>1203</th>\n",
              "      <td>2020-10-10</td>\n",
              "      <td>368308.45</td>\n",
              "      <td>2481.0</td>\n",
              "      <td>429.0</td>\n",
              "      <td>2020</td>\n",
              "      <td>10</td>\n",
              "      <td>10</td>\n",
              "      <td>41</td>\n",
              "      <td>2020</td>\n",
              "      <td>365.402</td>\n",
              "      <td>378.267</td>\n",
              "      <td>365.354</td>\n",
              "      <td>370.968</td>\n",
              "      <td>1.361848e+10</td>\n",
              "      <td>5.566</td>\n",
              "      <td>992.830783</td>\n",
              "      <td>2020-10-11</td>\n",
              "      <td>NaT</td>\n",
              "      <td>NaN</td>\n",
              "      <td>NaN</td>\n",
              "    </tr>\n",
              "    <tr>\n",
              "      <th>1205</th>\n",
              "      <td>2020-10-14</td>\n",
              "      <td>329246.65</td>\n",
              "      <td>2816.0</td>\n",
              "      <td>135.0</td>\n",
              "      <td>2020</td>\n",
              "      <td>10</td>\n",
              "      <td>14</td>\n",
              "      <td>42</td>\n",
              "      <td>2020</td>\n",
              "      <td>381.971</td>\n",
              "      <td>387.296</td>\n",
              "      <td>374.175</td>\n",
              "      <td>379.484</td>\n",
              "      <td>1.391885e+10</td>\n",
              "      <td>-2.487</td>\n",
              "      <td>867.616685</td>\n",
              "      <td>2020-10-15</td>\n",
              "      <td>NaT</td>\n",
              "      <td>NaN</td>\n",
              "      <td>NaN</td>\n",
              "    </tr>\n",
              "  </tbody>\n",
              "</table>\n",
              "</div>\n",
              "      <button class=\"colab-df-convert\" onclick=\"convertToInteractive('df-7fbe1d5d-9f1f-4554-8fef-1af524efe160')\"\n",
              "              title=\"Convert this dataframe to an interactive table.\"\n",
              "              style=\"display:none;\">\n",
              "        \n",
              "  <svg xmlns=\"http://www.w3.org/2000/svg\" height=\"24px\"viewBox=\"0 0 24 24\"\n",
              "       width=\"24px\">\n",
              "    <path d=\"M0 0h24v24H0V0z\" fill=\"none\"/>\n",
              "    <path d=\"M18.56 5.44l.94 2.06.94-2.06 2.06-.94-2.06-.94-.94-2.06-.94 2.06-2.06.94zm-11 1L8.5 8.5l.94-2.06 2.06-.94-2.06-.94L8.5 2.5l-.94 2.06-2.06.94zm10 10l.94 2.06.94-2.06 2.06-.94-2.06-.94-.94-2.06-.94 2.06-2.06.94z\"/><path d=\"M17.41 7.96l-1.37-1.37c-.4-.4-.92-.59-1.43-.59-.52 0-1.04.2-1.43.59L10.3 9.45l-7.72 7.72c-.78.78-.78 2.05 0 2.83L4 21.41c.39.39.9.59 1.41.59.51 0 1.02-.2 1.41-.59l7.78-7.78 2.81-2.81c.8-.78.8-2.07 0-2.86zM5.41 20L4 18.59l7.72-7.72 1.47 1.35L5.41 20z\"/>\n",
              "  </svg>\n",
              "      </button>\n",
              "      \n",
              "  <style>\n",
              "    .colab-df-container {\n",
              "      display:flex;\n",
              "      flex-wrap:wrap;\n",
              "      gap: 12px;\n",
              "    }\n",
              "\n",
              "    .colab-df-convert {\n",
              "      background-color: #E8F0FE;\n",
              "      border: none;\n",
              "      border-radius: 50%;\n",
              "      cursor: pointer;\n",
              "      display: none;\n",
              "      fill: #1967D2;\n",
              "      height: 32px;\n",
              "      padding: 0 0 0 0;\n",
              "      width: 32px;\n",
              "    }\n",
              "\n",
              "    .colab-df-convert:hover {\n",
              "      background-color: #E2EBFA;\n",
              "      box-shadow: 0px 1px 2px rgba(60, 64, 67, 0.3), 0px 1px 3px 1px rgba(60, 64, 67, 0.15);\n",
              "      fill: #174EA6;\n",
              "    }\n",
              "\n",
              "    [theme=dark] .colab-df-convert {\n",
              "      background-color: #3B4455;\n",
              "      fill: #D2E3FC;\n",
              "    }\n",
              "\n",
              "    [theme=dark] .colab-df-convert:hover {\n",
              "      background-color: #434B5C;\n",
              "      box-shadow: 0px 1px 3px 1px rgba(0, 0, 0, 0.15);\n",
              "      filter: drop-shadow(0px 1px 2px rgba(0, 0, 0, 0.3));\n",
              "      fill: #FFFFFF;\n",
              "    }\n",
              "  </style>\n",
              "\n",
              "      <script>\n",
              "        const buttonEl =\n",
              "          document.querySelector('#df-7fbe1d5d-9f1f-4554-8fef-1af524efe160 button.colab-df-convert');\n",
              "        buttonEl.style.display =\n",
              "          google.colab.kernel.accessAllowed ? 'block' : 'none';\n",
              "\n",
              "        async function convertToInteractive(key) {\n",
              "          const element = document.querySelector('#df-7fbe1d5d-9f1f-4554-8fef-1af524efe160');\n",
              "          const dataTable =\n",
              "            await google.colab.kernel.invokeFunction('convertToInteractive',\n",
              "                                                     [key], {});\n",
              "          if (!dataTable) return;\n",
              "\n",
              "          const docLinkHtml = 'Like what you see? Visit the ' +\n",
              "            '<a target=\"_blank\" href=https://colab.research.google.com/notebooks/data_table.ipynb>data table notebook</a>'\n",
              "            + ' to learn more about interactive tables.';\n",
              "          element.innerHTML = '';\n",
              "          dataTable['output_type'] = 'display_data';\n",
              "          await google.colab.output.renderOutput(dataTable, element);\n",
              "          const docLink = document.createElement('div');\n",
              "          docLink.innerHTML = docLinkHtml;\n",
              "          element.appendChild(docLink);\n",
              "        }\n",
              "      </script>\n",
              "    </div>\n",
              "  </div>\n",
              "  "
            ],
            "text/plain": [
              "           Date  Sales_USD_x  ...  Close_y  Sales_USD_y\n",
              "0    2017-06-23      1020.30  ...      NaN          NaN\n",
              "1029 2020-04-18    122811.19  ...      NaN          NaN\n",
              "1203 2020-10-10    368308.45  ...      NaN          NaN\n",
              "1205 2020-10-14    329246.65  ...      NaN          NaN\n",
              "\n",
              "[4 rows x 20 columns]"
            ]
          },
          "metadata": {},
          "execution_count": 55
        }
      ]
    },
    {
      "cell_type": "code",
      "source": [
        "nft_eth_merged = nft_eth_merged.dropna(how = 'any')"
      ],
      "metadata": {
        "id": "KAnt_XZXAElb"
      },
      "execution_count": null,
      "outputs": []
    },
    {
      "cell_type": "code",
      "source": [
        "nft_eth_merged['close_returns'] = (nft_eth_merged['Close_x'] /nft_eth_merged['Close_y'])-1\n",
        "nft_eth_merged['sales_returns'] = nft_eth_merged['Sales_USD_x'] - nft_eth_merged['Sales_USD_y']"
      ],
      "metadata": {
        "id": "Cbn5-vqHoAyW",
        "colab": {
          "base_uri": "https://localhost:8080/"
        },
        "outputId": "be80c3d8-d9b8-484d-9d03-b433c0810d34"
      },
      "execution_count": null,
      "outputs": [
        {
          "output_type": "stream",
          "name": "stderr",
          "text": [
            "/usr/local/lib/python3.7/dist-packages/ipykernel_launcher.py:1: SettingWithCopyWarning: \n",
            "A value is trying to be set on a copy of a slice from a DataFrame.\n",
            "Try using .loc[row_indexer,col_indexer] = value instead\n",
            "\n",
            "See the caveats in the documentation: https://pandas.pydata.org/pandas-docs/stable/user_guide/indexing.html#returning-a-view-versus-a-copy\n",
            "  \"\"\"Entry point for launching an IPython kernel.\n",
            "/usr/local/lib/python3.7/dist-packages/ipykernel_launcher.py:2: SettingWithCopyWarning: \n",
            "A value is trying to be set on a copy of a slice from a DataFrame.\n",
            "Try using .loc[row_indexer,col_indexer] = value instead\n",
            "\n",
            "See the caveats in the documentation: https://pandas.pydata.org/pandas-docs/stable/user_guide/indexing.html#returning-a-view-versus-a-copy\n",
            "  \n"
          ]
        }
      ]
    },
    {
      "cell_type": "code",
      "source": [
        "nft_eth_merged = nft_eth_merged.drop(['Close_y','Sales_USD_y'], axis=1)\n",
        "nft_eth_merged = nft_eth_merged.rename(columns={'Sales_USD_x': 'Sales_USD','Close_x': 'Close'})"
      ],
      "metadata": {
        "id": "uXQQhg2S3byt"
      },
      "execution_count": null,
      "outputs": []
    },
    {
      "cell_type": "code",
      "source": [
        "# TEST CASE: nft_eth_merged (6pt)\n",
        "# [CIS 545 PennGrader Cell] - 6 points\n",
        "grader.grade(test_case_id = 'nft_eth_merged', answer = nft_eth_merged)"
      ],
      "metadata": {
        "id": "aY7wd-hIcCrb",
        "colab": {
          "base_uri": "https://localhost:8080/"
        },
        "outputId": "1165a5b5-bd48-46ca-9928-24ce8813309c"
      },
      "execution_count": null,
      "outputs": [
        {
          "output_type": "stream",
          "name": "stdout",
          "text": [
            "Correct! You earned 6/6 points. You are a star!\n",
            "\n",
            "Your submission has been successfully recorded in the gradebook.\n"
          ]
        }
      ]
    },
    {
      "cell_type": "markdown",
      "source": [
        "Now that we have the return values, we want to figure out which dates were the highest performing in the dataset. \n",
        "\n",
        "####**TODO: 2.2.2** (7 points)\n",
        "- Determine the months with the most number of positive close return values in 2018, expressed as a percentage. To do this, create a dataframe called `highest_close_return` that has the columns 'Month' and 'Percentage', where 'Percentage' represents the number of close return values that are positive over the total number of close return values for the given month, expressed as a percent. \n",
        "- Round the Percentage to 2 decimal places.\n",
        "- Sort `highest_close_return` in descending order of 'Percentage'\n",
        "\n",
        "**Hint:** Read the documentation for the [.agg](https://pandas.pydata.org/pandas-docs/version/0.22/generated/pandas.core.groupby.DataFrameGroupBy.agg.html) function if you are interested in doing multiple aggregations concurrently"
      ],
      "metadata": {
        "id": "aYhAg16mllQ2"
      }
    },
    {
      "cell_type": "code",
      "source": [
        "#TODO: Create the dataframe highest_close_return as specified above\n",
        "def per_postive(x):\n",
        "  pos_count= 0\n",
        "  for num in x:\n",
        "    if num > 0:\n",
        "        pos_count += 1\n",
        "  percent = 100 * float(pos_count)/float(len(x))\n",
        "  return round(percent, 2)\n",
        "highest_close_return = nft_eth_merged[nft_eth_merged['Year'] == 2018].groupby('Month').agg(Percentage = ('close_returns', lambda x: per_postive(x))).reset_index().sort_values(by = 'Percentage', ascending = False)"
      ],
      "metadata": {
        "id": "lnPoRB8RmL8k"
      },
      "execution_count": null,
      "outputs": []
    },
    {
      "cell_type": "code",
      "source": [
        "highest_close_return"
      ],
      "metadata": {
        "colab": {
          "base_uri": "https://localhost:8080/",
          "height": 425
        },
        "id": "1MGqfmtwHI37",
        "outputId": "524d0ce0-f838-4186-8aa6-ded6c3be93f0"
      },
      "execution_count": null,
      "outputs": [
        {
          "output_type": "execute_result",
          "data": {
            "text/html": [
              "\n",
              "  <div id=\"df-09441360-54ad-46ca-a4d2-98edc52dd7ca\">\n",
              "    <div class=\"colab-df-container\">\n",
              "      <div>\n",
              "<style scoped>\n",
              "    .dataframe tbody tr th:only-of-type {\n",
              "        vertical-align: middle;\n",
              "    }\n",
              "\n",
              "    .dataframe tbody tr th {\n",
              "        vertical-align: top;\n",
              "    }\n",
              "\n",
              "    .dataframe thead th {\n",
              "        text-align: right;\n",
              "    }\n",
              "</style>\n",
              "<table border=\"1\" class=\"dataframe\">\n",
              "  <thead>\n",
              "    <tr style=\"text-align: right;\">\n",
              "      <th></th>\n",
              "      <th>Month</th>\n",
              "      <th>Percentage</th>\n",
              "    </tr>\n",
              "  </thead>\n",
              "  <tbody>\n",
              "    <tr>\n",
              "      <th>3</th>\n",
              "      <td>4</td>\n",
              "      <td>63.33</td>\n",
              "    </tr>\n",
              "    <tr>\n",
              "      <th>11</th>\n",
              "      <td>12</td>\n",
              "      <td>58.06</td>\n",
              "    </tr>\n",
              "    <tr>\n",
              "      <th>0</th>\n",
              "      <td>1</td>\n",
              "      <td>54.84</td>\n",
              "    </tr>\n",
              "    <tr>\n",
              "      <th>1</th>\n",
              "      <td>2</td>\n",
              "      <td>50.00</td>\n",
              "    </tr>\n",
              "    <tr>\n",
              "      <th>5</th>\n",
              "      <td>6</td>\n",
              "      <td>50.00</td>\n",
              "    </tr>\n",
              "    <tr>\n",
              "      <th>9</th>\n",
              "      <td>10</td>\n",
              "      <td>48.39</td>\n",
              "    </tr>\n",
              "    <tr>\n",
              "      <th>4</th>\n",
              "      <td>5</td>\n",
              "      <td>45.16</td>\n",
              "    </tr>\n",
              "    <tr>\n",
              "      <th>6</th>\n",
              "      <td>7</td>\n",
              "      <td>41.94</td>\n",
              "    </tr>\n",
              "    <tr>\n",
              "      <th>8</th>\n",
              "      <td>9</td>\n",
              "      <td>40.00</td>\n",
              "    </tr>\n",
              "    <tr>\n",
              "      <th>7</th>\n",
              "      <td>8</td>\n",
              "      <td>38.71</td>\n",
              "    </tr>\n",
              "    <tr>\n",
              "      <th>10</th>\n",
              "      <td>11</td>\n",
              "      <td>36.67</td>\n",
              "    </tr>\n",
              "    <tr>\n",
              "      <th>2</th>\n",
              "      <td>3</td>\n",
              "      <td>32.26</td>\n",
              "    </tr>\n",
              "  </tbody>\n",
              "</table>\n",
              "</div>\n",
              "      <button class=\"colab-df-convert\" onclick=\"convertToInteractive('df-09441360-54ad-46ca-a4d2-98edc52dd7ca')\"\n",
              "              title=\"Convert this dataframe to an interactive table.\"\n",
              "              style=\"display:none;\">\n",
              "        \n",
              "  <svg xmlns=\"http://www.w3.org/2000/svg\" height=\"24px\"viewBox=\"0 0 24 24\"\n",
              "       width=\"24px\">\n",
              "    <path d=\"M0 0h24v24H0V0z\" fill=\"none\"/>\n",
              "    <path d=\"M18.56 5.44l.94 2.06.94-2.06 2.06-.94-2.06-.94-.94-2.06-.94 2.06-2.06.94zm-11 1L8.5 8.5l.94-2.06 2.06-.94-2.06-.94L8.5 2.5l-.94 2.06-2.06.94zm10 10l.94 2.06.94-2.06 2.06-.94-2.06-.94-.94-2.06-.94 2.06-2.06.94z\"/><path d=\"M17.41 7.96l-1.37-1.37c-.4-.4-.92-.59-1.43-.59-.52 0-1.04.2-1.43.59L10.3 9.45l-7.72 7.72c-.78.78-.78 2.05 0 2.83L4 21.41c.39.39.9.59 1.41.59.51 0 1.02-.2 1.41-.59l7.78-7.78 2.81-2.81c.8-.78.8-2.07 0-2.86zM5.41 20L4 18.59l7.72-7.72 1.47 1.35L5.41 20z\"/>\n",
              "  </svg>\n",
              "      </button>\n",
              "      \n",
              "  <style>\n",
              "    .colab-df-container {\n",
              "      display:flex;\n",
              "      flex-wrap:wrap;\n",
              "      gap: 12px;\n",
              "    }\n",
              "\n",
              "    .colab-df-convert {\n",
              "      background-color: #E8F0FE;\n",
              "      border: none;\n",
              "      border-radius: 50%;\n",
              "      cursor: pointer;\n",
              "      display: none;\n",
              "      fill: #1967D2;\n",
              "      height: 32px;\n",
              "      padding: 0 0 0 0;\n",
              "      width: 32px;\n",
              "    }\n",
              "\n",
              "    .colab-df-convert:hover {\n",
              "      background-color: #E2EBFA;\n",
              "      box-shadow: 0px 1px 2px rgba(60, 64, 67, 0.3), 0px 1px 3px 1px rgba(60, 64, 67, 0.15);\n",
              "      fill: #174EA6;\n",
              "    }\n",
              "\n",
              "    [theme=dark] .colab-df-convert {\n",
              "      background-color: #3B4455;\n",
              "      fill: #D2E3FC;\n",
              "    }\n",
              "\n",
              "    [theme=dark] .colab-df-convert:hover {\n",
              "      background-color: #434B5C;\n",
              "      box-shadow: 0px 1px 3px 1px rgba(0, 0, 0, 0.15);\n",
              "      filter: drop-shadow(0px 1px 2px rgba(0, 0, 0, 0.3));\n",
              "      fill: #FFFFFF;\n",
              "    }\n",
              "  </style>\n",
              "\n",
              "      <script>\n",
              "        const buttonEl =\n",
              "          document.querySelector('#df-09441360-54ad-46ca-a4d2-98edc52dd7ca button.colab-df-convert');\n",
              "        buttonEl.style.display =\n",
              "          google.colab.kernel.accessAllowed ? 'block' : 'none';\n",
              "\n",
              "        async function convertToInteractive(key) {\n",
              "          const element = document.querySelector('#df-09441360-54ad-46ca-a4d2-98edc52dd7ca');\n",
              "          const dataTable =\n",
              "            await google.colab.kernel.invokeFunction('convertToInteractive',\n",
              "                                                     [key], {});\n",
              "          if (!dataTable) return;\n",
              "\n",
              "          const docLinkHtml = 'Like what you see? Visit the ' +\n",
              "            '<a target=\"_blank\" href=https://colab.research.google.com/notebooks/data_table.ipynb>data table notebook</a>'\n",
              "            + ' to learn more about interactive tables.';\n",
              "          element.innerHTML = '';\n",
              "          dataTable['output_type'] = 'display_data';\n",
              "          await google.colab.output.renderOutput(dataTable, element);\n",
              "          const docLink = document.createElement('div');\n",
              "          docLink.innerHTML = docLinkHtml;\n",
              "          element.appendChild(docLink);\n",
              "        }\n",
              "      </script>\n",
              "    </div>\n",
              "  </div>\n",
              "  "
            ],
            "text/plain": [
              "    Month  Percentage\n",
              "3       4       63.33\n",
              "11     12       58.06\n",
              "0       1       54.84\n",
              "1       2       50.00\n",
              "5       6       50.00\n",
              "9      10       48.39\n",
              "4       5       45.16\n",
              "6       7       41.94\n",
              "8       9       40.00\n",
              "7       8       38.71\n",
              "10     11       36.67\n",
              "2       3       32.26"
            ]
          },
          "metadata": {},
          "execution_count": 61
        }
      ]
    },
    {
      "cell_type": "code",
      "source": [
        "# TEST CASE: highest_close_return (6pt)\n",
        "# [CIS 545 PennGrader Cell] - 6 points\n",
        "grader.grade(test_case_id = 'highest_close_return', answer = highest_close_return)"
      ],
      "metadata": {
        "id": "xQUXQGBgcUGr",
        "colab": {
          "base_uri": "https://localhost:8080/"
        },
        "outputId": "85534af0-df74-4585-b26f-b381bb9e2288"
      },
      "execution_count": null,
      "outputs": [
        {
          "output_type": "stream",
          "name": "stdout",
          "text": [
            "Correct! You earned 6/6 points. You are a star!\n",
            "\n",
            "Your submission has been successfully recorded in the gradebook.\n"
          ]
        }
      ]
    },
    {
      "cell_type": "markdown",
      "source": [
        "####**TODO: 2.2.3** (4 points)\n",
        "Let's now see how related NFT sales and ETH is.\n",
        "- Create a dataframe called `same_increase` that contains all the rows from `nft_eth_merged` such that 'close_returns' and 'sales_returns' move in the same direction (they both are positive or negative or zero together)\n"
      ],
      "metadata": {
        "id": "GJ6l-PZvJdV7"
      }
    },
    {
      "cell_type": "code",
      "source": [
        "#TODO: Create same_increase as specified above\n",
        "same_increase = nft_eth_merged.loc[((nft_eth_merged['close_returns']>0) & (nft_eth_merged['sales_returns']>0))  | ((nft_eth_merged['close_returns']==0) & (nft_eth_merged['sales_returns']==0))| ((nft_eth_merged['close_returns']<0) & (nft_eth_merged['sales_returns']<0))]"
      ],
      "metadata": {
        "id": "fN70gEGFO0rD"
      },
      "execution_count": null,
      "outputs": []
    },
    {
      "cell_type": "code",
      "source": [
        "# TEST CASE: same_increase (3pt)\n",
        "# [CIS 545 PennGrader Cell] - 3 points\n",
        "grader.grade(test_case_id = 'same_increase', answer = same_increase)"
      ],
      "metadata": {
        "id": "zgKrQoS4cgUU",
        "colab": {
          "base_uri": "https://localhost:8080/"
        },
        "outputId": "555ae5cd-0cb7-466a-d46f-b457ac848c59"
      },
      "execution_count": null,
      "outputs": [
        {
          "output_type": "stream",
          "name": "stdout",
          "text": [
            "Correct! You earned 3/3 points. You are a star!\n",
            "\n",
            "Your submission has been successfully recorded in the gradebook.\n"
          ]
        }
      ]
    },
    {
      "cell_type": "markdown",
      "source": [
        "##2.3 Compute the most common day of week when NFT sales are above the weekly average\n",
        "\n",
        "\n",
        "In this section we will revisit section 1.2 and add a column called `weekly_sales_avg` to `nft_sales_df_final` where the value is each row's respective weekly Sales_USD average. Then, we compute the most common day of week when NFT sales `Sales_USD` are above the weekly average `weekly_sales_avg`.\n",
        "\n",
        "**TODO: 2.3**\n",
        "\n",
        "* Add the `weekly_sales_avg` column from `weekly_sales_avg_df` to `nft_sales_df_final` by merging on `Year_of_Week` and `Week`\n",
        "* Add `Day_of_Week` column to `nft_sales_df_final`\n",
        "  * For example, for Jan 1st, 2022 is a Saturday, the 6th day of the week, so Day_of_Week is 6.\n",
        "  * Hint: See the `date()` and `isocalendar()` functions in datetime and `apply()` for dataframes\n",
        "*   Create a dataframe `days_above_avg_df` with `Year`, `Month`, `Day`, `Day_of_Week` columns. This dataframe should only contain values of rows where `Sales_USD` is strictly greater than `weekly_sales_avg`.\n",
        "* Find the most common `Day_of_Week` in `days_above_avg_df` and save this number to `most_common_above_avg_day_of_week`."
      ],
      "metadata": {
        "id": "bt2_mgNqDcJ1"
      }
    },
    {
      "cell_type": "code",
      "source": [
        "# TODO: Add the weekly_sales_avg column to nft_sales_df_final. Hint: Use a merge\n",
        "nft_sales_df_final = pd.merge(left=nft_sales_df_final, right=weekly_sales_avg_df, left_on=['Year_of_Week', 'Week'], right_on=['Year_of_Week', 'Week'], how=\"left\")"
      ],
      "metadata": {
        "id": "cAJ3k3rUDo7W"
      },
      "execution_count": null,
      "outputs": []
    },
    {
      "cell_type": "code",
      "source": [
        "# TODO: Add Day_of_Week column to nft_sales_df_final\n",
        "nft_sales_df_final['Day_of_Week'] = nft_sales_df_final['Date'].apply(lambda x:x.isocalendar()[2])"
      ],
      "metadata": {
        "id": "mBLGU-bREK2C"
      },
      "execution_count": null,
      "outputs": []
    },
    {
      "cell_type": "code",
      "source": [
        "# TEST CASE: nft_sales_df_final_3 (4pt)\n",
        "# [CIS 545 PennGrader Cell] - 4 points\n",
        "grader.grade(test_case_id = 'nft_sales_df_final_3', answer = nft_sales_df_final)"
      ],
      "metadata": {
        "id": "RkQpf_KYzLDO",
        "colab": {
          "base_uri": "https://localhost:8080/"
        },
        "outputId": "866f520c-32cb-4f54-d6f1-e3b25c9026bf"
      },
      "execution_count": null,
      "outputs": [
        {
          "output_type": "stream",
          "name": "stdout",
          "text": [
            "Correct! You earned 4/4 points. You are a star!\n",
            "\n",
            "Your submission has been successfully recorded in the gradebook.\n"
          ]
        }
      ]
    },
    {
      "cell_type": "code",
      "source": [
        "# TODO: Create days_above_avg_df with Year, Month, Day, Day_of_Week columns\n",
        "days_above_avg_df = nft_sales_df_final[nft_sales_df_final['Sales_USD'] > nft_sales_df_final['weekly_sales_avg']][['Year', 'Month', 'Day', 'Day_of_Week']]"
      ],
      "metadata": {
        "id": "mZv5PSYKELc9"
      },
      "execution_count": null,
      "outputs": []
    },
    {
      "cell_type": "code",
      "source": [
        "days_above_avg_df"
      ],
      "metadata": {
        "colab": {
          "base_uri": "https://localhost:8080/",
          "height": 423
        },
        "id": "xo84pGvlW80S",
        "outputId": "c2e23ca9-f50d-4294-d0e0-4981a02f97f4"
      },
      "execution_count": null,
      "outputs": [
        {
          "output_type": "execute_result",
          "data": {
            "text/html": [
              "\n",
              "  <div id=\"df-b2be49f1-6839-4c15-8902-17b6dba158d0\">\n",
              "    <div class=\"colab-df-container\">\n",
              "      <div>\n",
              "<style scoped>\n",
              "    .dataframe tbody tr th:only-of-type {\n",
              "        vertical-align: middle;\n",
              "    }\n",
              "\n",
              "    .dataframe tbody tr th {\n",
              "        vertical-align: top;\n",
              "    }\n",
              "\n",
              "    .dataframe thead th {\n",
              "        text-align: right;\n",
              "    }\n",
              "</style>\n",
              "<table border=\"1\" class=\"dataframe\">\n",
              "  <thead>\n",
              "    <tr style=\"text-align: right;\">\n",
              "      <th></th>\n",
              "      <th>Year</th>\n",
              "      <th>Month</th>\n",
              "      <th>Day</th>\n",
              "      <th>Day_of_Week</th>\n",
              "    </tr>\n",
              "  </thead>\n",
              "  <tbody>\n",
              "    <tr>\n",
              "      <th>0</th>\n",
              "      <td>2017</td>\n",
              "      <td>6</td>\n",
              "      <td>23</td>\n",
              "      <td>5</td>\n",
              "    </tr>\n",
              "    <tr>\n",
              "      <th>1</th>\n",
              "      <td>2017</td>\n",
              "      <td>6</td>\n",
              "      <td>24</td>\n",
              "      <td>6</td>\n",
              "    </tr>\n",
              "    <tr>\n",
              "      <th>4</th>\n",
              "      <td>2017</td>\n",
              "      <td>6</td>\n",
              "      <td>27</td>\n",
              "      <td>2</td>\n",
              "    </tr>\n",
              "    <tr>\n",
              "      <th>6</th>\n",
              "      <td>2017</td>\n",
              "      <td>6</td>\n",
              "      <td>29</td>\n",
              "      <td>4</td>\n",
              "    </tr>\n",
              "    <tr>\n",
              "      <th>8</th>\n",
              "      <td>2017</td>\n",
              "      <td>7</td>\n",
              "      <td>1</td>\n",
              "      <td>6</td>\n",
              "    </tr>\n",
              "    <tr>\n",
              "      <th>...</th>\n",
              "      <td>...</td>\n",
              "      <td>...</td>\n",
              "      <td>...</td>\n",
              "      <td>...</td>\n",
              "    </tr>\n",
              "    <tr>\n",
              "      <th>1580</th>\n",
              "      <td>2021</td>\n",
              "      <td>10</td>\n",
              "      <td>20</td>\n",
              "      <td>3</td>\n",
              "    </tr>\n",
              "    <tr>\n",
              "      <th>1583</th>\n",
              "      <td>2021</td>\n",
              "      <td>10</td>\n",
              "      <td>23</td>\n",
              "      <td>6</td>\n",
              "    </tr>\n",
              "    <tr>\n",
              "      <th>1587</th>\n",
              "      <td>2021</td>\n",
              "      <td>10</td>\n",
              "      <td>27</td>\n",
              "      <td>3</td>\n",
              "    </tr>\n",
              "    <tr>\n",
              "      <th>1590</th>\n",
              "      <td>2021</td>\n",
              "      <td>10</td>\n",
              "      <td>30</td>\n",
              "      <td>6</td>\n",
              "    </tr>\n",
              "    <tr>\n",
              "      <th>1593</th>\n",
              "      <td>2021</td>\n",
              "      <td>11</td>\n",
              "      <td>2</td>\n",
              "      <td>2</td>\n",
              "    </tr>\n",
              "  </tbody>\n",
              "</table>\n",
              "<p>668 rows × 4 columns</p>\n",
              "</div>\n",
              "      <button class=\"colab-df-convert\" onclick=\"convertToInteractive('df-b2be49f1-6839-4c15-8902-17b6dba158d0')\"\n",
              "              title=\"Convert this dataframe to an interactive table.\"\n",
              "              style=\"display:none;\">\n",
              "        \n",
              "  <svg xmlns=\"http://www.w3.org/2000/svg\" height=\"24px\"viewBox=\"0 0 24 24\"\n",
              "       width=\"24px\">\n",
              "    <path d=\"M0 0h24v24H0V0z\" fill=\"none\"/>\n",
              "    <path d=\"M18.56 5.44l.94 2.06.94-2.06 2.06-.94-2.06-.94-.94-2.06-.94 2.06-2.06.94zm-11 1L8.5 8.5l.94-2.06 2.06-.94-2.06-.94L8.5 2.5l-.94 2.06-2.06.94zm10 10l.94 2.06.94-2.06 2.06-.94-2.06-.94-.94-2.06-.94 2.06-2.06.94z\"/><path d=\"M17.41 7.96l-1.37-1.37c-.4-.4-.92-.59-1.43-.59-.52 0-1.04.2-1.43.59L10.3 9.45l-7.72 7.72c-.78.78-.78 2.05 0 2.83L4 21.41c.39.39.9.59 1.41.59.51 0 1.02-.2 1.41-.59l7.78-7.78 2.81-2.81c.8-.78.8-2.07 0-2.86zM5.41 20L4 18.59l7.72-7.72 1.47 1.35L5.41 20z\"/>\n",
              "  </svg>\n",
              "      </button>\n",
              "      \n",
              "  <style>\n",
              "    .colab-df-container {\n",
              "      display:flex;\n",
              "      flex-wrap:wrap;\n",
              "      gap: 12px;\n",
              "    }\n",
              "\n",
              "    .colab-df-convert {\n",
              "      background-color: #E8F0FE;\n",
              "      border: none;\n",
              "      border-radius: 50%;\n",
              "      cursor: pointer;\n",
              "      display: none;\n",
              "      fill: #1967D2;\n",
              "      height: 32px;\n",
              "      padding: 0 0 0 0;\n",
              "      width: 32px;\n",
              "    }\n",
              "\n",
              "    .colab-df-convert:hover {\n",
              "      background-color: #E2EBFA;\n",
              "      box-shadow: 0px 1px 2px rgba(60, 64, 67, 0.3), 0px 1px 3px 1px rgba(60, 64, 67, 0.15);\n",
              "      fill: #174EA6;\n",
              "    }\n",
              "\n",
              "    [theme=dark] .colab-df-convert {\n",
              "      background-color: #3B4455;\n",
              "      fill: #D2E3FC;\n",
              "    }\n",
              "\n",
              "    [theme=dark] .colab-df-convert:hover {\n",
              "      background-color: #434B5C;\n",
              "      box-shadow: 0px 1px 3px 1px rgba(0, 0, 0, 0.15);\n",
              "      filter: drop-shadow(0px 1px 2px rgba(0, 0, 0, 0.3));\n",
              "      fill: #FFFFFF;\n",
              "    }\n",
              "  </style>\n",
              "\n",
              "      <script>\n",
              "        const buttonEl =\n",
              "          document.querySelector('#df-b2be49f1-6839-4c15-8902-17b6dba158d0 button.colab-df-convert');\n",
              "        buttonEl.style.display =\n",
              "          google.colab.kernel.accessAllowed ? 'block' : 'none';\n",
              "\n",
              "        async function convertToInteractive(key) {\n",
              "          const element = document.querySelector('#df-b2be49f1-6839-4c15-8902-17b6dba158d0');\n",
              "          const dataTable =\n",
              "            await google.colab.kernel.invokeFunction('convertToInteractive',\n",
              "                                                     [key], {});\n",
              "          if (!dataTable) return;\n",
              "\n",
              "          const docLinkHtml = 'Like what you see? Visit the ' +\n",
              "            '<a target=\"_blank\" href=https://colab.research.google.com/notebooks/data_table.ipynb>data table notebook</a>'\n",
              "            + ' to learn more about interactive tables.';\n",
              "          element.innerHTML = '';\n",
              "          dataTable['output_type'] = 'display_data';\n",
              "          await google.colab.output.renderOutput(dataTable, element);\n",
              "          const docLink = document.createElement('div');\n",
              "          docLink.innerHTML = docLinkHtml;\n",
              "          element.appendChild(docLink);\n",
              "        }\n",
              "      </script>\n",
              "    </div>\n",
              "  </div>\n",
              "  "
            ],
            "text/plain": [
              "      Year  Month  Day  Day_of_Week\n",
              "0     2017      6   23            5\n",
              "1     2017      6   24            6\n",
              "4     2017      6   27            2\n",
              "6     2017      6   29            4\n",
              "8     2017      7    1            6\n",
              "...    ...    ...  ...          ...\n",
              "1580  2021     10   20            3\n",
              "1583  2021     10   23            6\n",
              "1587  2021     10   27            3\n",
              "1590  2021     10   30            6\n",
              "1593  2021     11    2            2\n",
              "\n",
              "[668 rows x 4 columns]"
            ]
          },
          "metadata": {},
          "execution_count": 69
        }
      ]
    },
    {
      "cell_type": "code",
      "source": [
        "# TEST CASE: days_above_avg_df (3pt)\n",
        "# [CIS 545 PennGrader Cell] - 3 points\n",
        "grader.grade(test_case_id = 'days_above_avg_df', answer = days_above_avg_df)"
      ],
      "metadata": {
        "id": "wUQ5baWN1W_P",
        "colab": {
          "base_uri": "https://localhost:8080/"
        },
        "outputId": "e837cd48-fe32-4f9c-9d6e-2d43ac117301"
      },
      "execution_count": null,
      "outputs": [
        {
          "output_type": "stream",
          "name": "stdout",
          "text": [
            "Correct! You earned 3/3 points. You are a star!\n",
            "\n",
            "Your submission has been successfully recorded in the gradebook.\n"
          ]
        }
      ]
    },
    {
      "cell_type": "code",
      "source": [
        "# TODO: Find the most common Day_of_Week in days_above_avg_df and save this number to most_common_above_avg_day_of_week\n",
        "most_common_above_avg_day_of_week = days_above_avg_df['Day_of_Week'].value_counts().idxmax()"
      ],
      "metadata": {
        "id": "LEt8iaKMEL8x"
      },
      "execution_count": null,
      "outputs": []
    },
    {
      "cell_type": "code",
      "source": [
        "# TEST CASE: most_common_above_avg_day_of_week (2pt)\n",
        "# [CIS 545 PennGrader Cell] - 2 points\n",
        "grader.grade(test_case_id = 'most_common_above_avg_day_of_week', answer = most_common_above_avg_day_of_week)"
      ],
      "metadata": {
        "id": "x0KfaCfj-xGI",
        "colab": {
          "base_uri": "https://localhost:8080/"
        },
        "outputId": "dd59844c-69ad-4e45-d74e-4f951bc9b664"
      },
      "execution_count": null,
      "outputs": [
        {
          "output_type": "stream",
          "name": "stdout",
          "text": [
            "Correct! You earned 2/2 points. You are a star!\n",
            "\n",
            "Your submission has been successfully recorded in the gradebook.\n"
          ]
        }
      ]
    },
    {
      "cell_type": "markdown",
      "source": [
        "# Part 3: Correlation Matrix\n",
        "\n",
        "Let's now look at the `nft_eth_df` from Part 2.1"
      ],
      "metadata": {
        "id": "dmb507gkHQJm"
      }
    },
    {
      "cell_type": "markdown",
      "source": [
        "##3.1 Correlation Matrix\n",
        "\n",
        "Occasionally, there are unexpected correlations in the data. One way to find these correlations is to use a correlation matrix. We expect there to be a positive correlation between `Number_of_Sales` and `Sales_USD`. But how strong is the correlation? Also, could there be any correlation between two seemingly uncorrelated features, the `Number_of_Sales` and `Avg_USD_per_Sale`? **If there is a correlation, how strong is it?**\n",
        "\n",
        "In this section, we will create the correlation matrix for `nft_eth_df`.\n",
        "\n",
        "\n",
        "#### **TODO: 3.1**\n",
        "\n",
        "- Add a column called `Avg_USD_per_Sale` to `nft_eth_df`. The value should be `Sales_USD` / `Number_of_Sales`.\n",
        "\n",
        "- Generate the correlation matrix.  *Hint*: Read about Pandas \"corr()\" function.\n",
        "\n",
        "- Name your final answer correlation matrix dataframe to: `correlation_matrix` (5 points)\n",
        "\n",
        "- Plot a correlation matrix -- just to get a sense of what it might look like!"
      ],
      "metadata": {
        "id": "_BbBAgukGy14"
      }
    },
    {
      "cell_type": "code",
      "source": [
        "# TODO Add a column called Avg_USD_per_Sale to nft_eth_df\n",
        "nft_eth_df['Avg_USD_per_Sale'] = nft_eth_df['Sales_USD']/nft_eth_df['Number_of_Sales']\n",
        "# TODO: Create your correlation matrix\n",
        "correlation_matrix = nft_eth_df.corr()"
      ],
      "metadata": {
        "id": "jmSo-MRYJjuw"
      },
      "execution_count": null,
      "outputs": []
    },
    {
      "cell_type": "code",
      "source": [
        "# TEST CASE: correlation_matrix (4pt)\n",
        "# [CIS 545 PennGrader Cell] - 4 points\n",
        "grader.grade(test_case_id = 'correlation_matrix', answer = correlation_matrix)"
      ],
      "metadata": {
        "id": "Hh1jEKzq_gC9",
        "colab": {
          "base_uri": "https://localhost:8080/"
        },
        "outputId": "a9c1a52b-7e47-4d29-bb5f-d0354a6662c5"
      },
      "execution_count": null,
      "outputs": [
        {
          "output_type": "stream",
          "name": "stdout",
          "text": [
            "Correct! You earned 4/4 points. You are a star!\n",
            "\n",
            "Your submission has been successfully recorded in the gradebook.\n"
          ]
        }
      ]
    },
    {
      "cell_type": "markdown",
      "source": [
        "Here we provide code for you to visualize the correlation matrix. In the following code snippet below, please assign your correlation matrix to the variable named \"corr\" and then run the cell. You should see a correlation matrix!"
      ],
      "metadata": {
        "id": "3hPdGl0OKses"
      }
    },
    {
      "cell_type": "code",
      "source": [
        "sns.set(style = \"white\")\n",
        "\n",
        "# Generate a large random dataset\n",
        "rs = np.random.RandomState(33)\n",
        "d = pd.DataFrame(data=rs.normal(size=(100, 26)),\n",
        "                 columns=list(ascii_letters[26:]))\n",
        "\n",
        "# Compute the correlation matrix\n",
        "# ASSIGN THE \"corr\" VARIABLE TO YOUR CORRELATION MATRIX\n",
        "corr = correlation_matrix\n",
        "\n",
        "# Generate a mask for the upper triangle\n",
        "mask = np.zeros_like(corr, dtype=np.bool)\n",
        "mask[np.triu_indices_from(mask)] = True\n",
        "\n",
        "# Set up the matplotlib figure\n",
        "f, ax = plt.subplots(figsize=(11, 9))\n",
        "\n",
        "# Generate a custom diverging colormap\n",
        "cmap = sns.diverging_palette(220, 10, as_cmap=True)\n",
        "\n",
        "# Draw the heatmap with the mask and correct aspect ratio\n",
        "sns.heatmap(corr, mask=mask, cmap=cmap, vmax=.3, center=0,\n",
        "            square=True, linewidths=.5, cbar_kws={\"shrink\": .5})\n",
        "plt.title(\"Correlation Heatmap\")\n",
        "plt.show()"
      ],
      "metadata": {
        "id": "tOPlMUGtJvCr",
        "colab": {
          "base_uri": "https://localhost:8080/",
          "height": 668
        },
        "outputId": "586eb078-5968-4983-e68d-6e14b78d5444"
      },
      "execution_count": null,
      "outputs": [
        {
          "output_type": "display_data",
          "data": {
            "image/png": "[encoded data removed]",
            "text/plain": [
              "<Figure size 792x648 with 2 Axes>"
            ]
          },
          "metadata": {}
        }
      ]
    },
    {
      "cell_type": "markdown",
      "source": [
        "#Part 4 XPath\n",
        "###Brought to you by popular demand from students...\n",
        "\n",
        "So far, we've looked at data on NFT sales and Ethereum prices. Let's broaden our scope to look at the cryptocurrencies that had the highest percentage increase through 2021! The datasets we provide are compiled for us on Kaggle, but sometimes we need to create our own datasets! We'll do some web scraping and work web-based data!\n",
        "\n",
        "On [fools.com](https://www.fool.com/the-ascent/cryptocurrency/articles/68-of-the-biggest-cryptos-gained-1000-or-more-in-2021/), we have a table with the top performing cryptocurrencies in 2021.\n",
        "\n",
        "We get the DOM tree for you below."
      ],
      "metadata": {
        "id": "Dy6CDgGi1jSr"
      }
    },
    {
      "cell_type": "code",
      "source": [
        "# Request the data and build the DOM tree (we've done this for you!)\n",
        "w = requests.get(\"https://www.fool.com/the-ascent/cryptocurrency/articles/68-of-the-biggest-cryptos-gained-1000-or-more-in-2021/\")\n",
        "dom_tree = html.fromstring(w.content)\n",
        "print(dom_tree)"
      ],
      "metadata": {
        "id": "9TA5o41c1nEO",
        "colab": {
          "base_uri": "https://localhost:8080/"
        },
        "outputId": "d2667fa5-f374-4418-9d1e-4893596a947f"
      },
      "execution_count": null,
      "outputs": [
        {
          "output_type": "stream",
          "name": "stdout",
          "text": [
            "<Element html at 0x7f522a48df50>\n"
          ]
        }
      ]
    },
    {
      "cell_type": "markdown",
      "source": [
        "## 4.1 Cryptocurrency Names\n",
        "\n",
        "TODO: Create `x_path_crypto_name` and `crypto_names`.\n",
        "\n",
        "`x_path_crypto_name` should be the value you pass in for dom_tree.xpath() to retrive names of the 68 top performers.\n",
        "\n",
        "It should be in the form of '/.../text()' (may vary slightly; only include the actual parameter used in dom_tree.xpath!).\n",
        "\n",
        "Hint: The Xpath for the table itself is, at the table-level is \"//div[@class='wysiwyg copy-body']/div[3]/div/table/\", this is also the beginning part of the `x_path_crypto_name` string. \n",
        "\n",
        "You can use the 'inspect' tool on the website and see the various html tags and labels, to figure out how we generate the Xpath for the table!\n",
        "\n",
        "Your job is to go into several more steps to get the text content of one column of each row, to get the entire `x_path_crypto_name` string"
      ],
      "metadata": {
        "id": "JNYh7H2_2OR8"
      }
    },
    {
      "cell_type": "code",
      "source": [
        "# TODO: Define the xpath string\n",
        "x_path_crypto_name = \"//div[@class='wysiwyg copy-body']/div[3]/div/table/tbody/tr/td[2]/text()\""
      ],
      "metadata": {
        "id": "72lnFODL1plG"
      },
      "execution_count": null,
      "outputs": []
    },
    {
      "cell_type": "markdown",
      "source": [
        "Now, pass `x_path_crypto_name` into dom_tree.xpath to get the list of top performers. Save this list to `crypto_name`.\n",
        "\n",
        "You may find that the retrieved names are be surrounded by spaces and newline characters `\\n`. Remove these spaces and newline characters from the names.\n",
        "\n",
        "For example, you may get '\\n                          \\n                              \\n                                  Gala (GALA)\\n                              \\n                          \\n                      '. This should be 'Gala (GALA)' instead."
      ],
      "metadata": {
        "id": "ybjWtxr9BmeX"
      }
    },
    {
      "cell_type": "code",
      "source": [
        "# TODO: Generate the list of cryptocurrency names by applying the xpath string to the dom_tree object, save the result to crypto_names.\n",
        "# You will see that every item is surrounded by spaces and '\\n' characters and you must strip it!!\n",
        "# def clean_name(x):\n",
        "#   return x.replace('\\n', '').replace(' ', '')\n",
        "crypto_name_original = dom_tree.xpath(x_path_crypto_name)\n",
        "crypto_name = [x.strip() for x in crypto_name_original]"
      ],
      "metadata": {
        "id": "7odZmMFW2SmX"
      },
      "execution_count": null,
      "outputs": []
    },
    {
      "cell_type": "code",
      "source": [
        "# TEST CASE: crypto_name (5pt)\n",
        "# [CIS 545 PennGrader Cell] - 5 points\n",
        "grader.grade(test_case_id = 'crypto_name', answer = crypto_name)"
      ],
      "metadata": {
        "id": "md5CysywAiAs",
        "colab": {
          "base_uri": "https://localhost:8080/"
        },
        "outputId": "40d774f1-7b29-46bc-eb12-c0c935d345ff"
      },
      "execution_count": null,
      "outputs": [
        {
          "output_type": "stream",
          "name": "stdout",
          "text": [
            "Correct! You earned 5/5 points. You are a star!\n",
            "\n",
            "Your submission has been successfully recorded in the gradebook.\n"
          ]
        }
      ]
    },
    {
      "cell_type": "markdown",
      "source": [
        "## 4.2 Names\n",
        "TODO: Create `x_path_percent` and `percent_increase`\n",
        "\n",
        "This should be very similar to scraping names. Change the xpath accordingly to get the Percentage Increase column of the table into a list! \n",
        "\n",
        "`x_path_percent` is the xpath string to pass into dom_tree.xpath() to retrive percentage increase of the 68 top performers.\n",
        "\n",
        "`percent_increase` is the list of percentage increase of the top 68 performers. Elements in this list should be ints."
      ],
      "metadata": {
        "id": "Ps_kGFvA2XJT"
      }
    },
    {
      "cell_type": "code",
      "source": [
        "# TODO: Define the xpath string\n",
        "x_path_percent = \"//div[@class='wysiwyg copy-body']/div[3]/div/table/tbody/tr/td[4]/text()\""
      ],
      "metadata": {
        "id": "GPQ5xzEb2UHJ"
      },
      "execution_count": null,
      "outputs": []
    },
    {
      "cell_type": "code",
      "source": [
        "# TODO: Generate the list of percentage increase by applying the xpath string to the dom_tree object, save the result to percent_increase.\n",
        "# Turn each elemnt into an int. For example, the first element should be 40445\n",
        "def clean_percent(x):\n",
        "  return int(x.replace('\\n', '').replace(' ', '').replace('%', '').replace(',', ''))\n",
        "percent_increase_original = dom_tree.xpath(x_path_percent)\n",
        "percent_increase = [clean_percent(x) for x in percent_increase_original]"
      ],
      "metadata": {
        "id": "WyyQWijp2Zi5"
      },
      "execution_count": null,
      "outputs": []
    },
    {
      "cell_type": "code",
      "source": [
        "# TEST CASE: percent_increase (5pt)\n",
        "# [CIS 545 PennGrader Cell] - 5 points\n",
        "grader.grade(test_case_id = 'percent_increase', answer = percent_increase)"
      ],
      "metadata": {
        "id": "4uPL5RusBV0x",
        "colab": {
          "base_uri": "https://localhost:8080/"
        },
        "outputId": "56f61bfb-b904-4d4b-c94f-b5c7bd976640"
      },
      "execution_count": null,
      "outputs": [
        {
          "output_type": "stream",
          "name": "stdout",
          "text": [
            "Correct! You earned 5/5 points. You are a star!\n",
            "\n",
            "Your submission has been successfully recorded in the gradebook.\n"
          ]
        }
      ]
    },
    {
      "cell_type": "markdown",
      "source": [
        "## 4.3 Putting it together!\n",
        "\n",
        "Create a dataframe called `top_performers_df` by using the `crypto_name` and `percent_increase` lists that you created in 4.1 and 4.2.\n",
        "\n",
        "The dataframe should have 2 columns. The first should be called `crypto_name`. The second should be called `percent_increase`. The data for these columns should come from the lists."
      ],
      "metadata": {
        "id": "1QE8CsNQ2bt4"
      }
    },
    {
      "cell_type": "code",
      "source": [
        "# TODO: Create top_performers_df with crypto_name and percent_increase as columns.\n",
        "top_performers_df = pd.DataFrame(list(zip(crypto_name, percent_increase)), columns = ['crypto_name','percent_increase'])"
      ],
      "metadata": {
        "id": "3XQ-AzRa2a4E"
      },
      "execution_count": null,
      "outputs": []
    },
    {
      "cell_type": "code",
      "source": [
        "top_performers_df"
      ],
      "metadata": {
        "colab": {
          "base_uri": "https://localhost:8080/",
          "height": 423
        },
        "id": "kBP4wcfHCDdS",
        "outputId": "d1bd107a-de58-473a-ccf4-089df8fa0b00"
      },
      "execution_count": null,
      "outputs": [
        {
          "output_type": "execute_result",
          "data": {
            "text/html": [
              "\n",
              "  <div id=\"df-c40aaebe-815e-48bf-97e9-8aae8edb613f\">\n",
              "    <div class=\"colab-df-container\">\n",
              "      <div>\n",
              "<style scoped>\n",
              "    .dataframe tbody tr th:only-of-type {\n",
              "        vertical-align: middle;\n",
              "    }\n",
              "\n",
              "    .dataframe tbody tr th {\n",
              "        vertical-align: top;\n",
              "    }\n",
              "\n",
              "    .dataframe thead th {\n",
              "        text-align: right;\n",
              "    }\n",
              "</style>\n",
              "<table border=\"1\" class=\"dataframe\">\n",
              "  <thead>\n",
              "    <tr style=\"text-align: right;\">\n",
              "      <th></th>\n",
              "      <th>crypto_name</th>\n",
              "      <th>percent_increase</th>\n",
              "    </tr>\n",
              "  </thead>\n",
              "  <tbody>\n",
              "    <tr>\n",
              "      <th>0</th>\n",
              "      <td>Gala (GALA)</td>\n",
              "      <td>40445</td>\n",
              "    </tr>\n",
              "    <tr>\n",
              "      <th>1</th>\n",
              "      <td>CEEK VR (CEEK)</td>\n",
              "      <td>25270</td>\n",
              "    </tr>\n",
              "    <tr>\n",
              "      <th>2</th>\n",
              "      <td>Anyswap (ANY)</td>\n",
              "      <td>16652</td>\n",
              "    </tr>\n",
              "    <tr>\n",
              "      <th>3</th>\n",
              "      <td>XYO (XYO)</td>\n",
              "      <td>15808</td>\n",
              "    </tr>\n",
              "    <tr>\n",
              "      <th>4</th>\n",
              "      <td>Axie Infinity (AXS)</td>\n",
              "      <td>15132</td>\n",
              "    </tr>\n",
              "    <tr>\n",
              "      <th>...</th>\n",
              "      <td>...</td>\n",
              "      <td>...</td>\n",
              "    </tr>\n",
              "    <tr>\n",
              "      <th>63</th>\n",
              "      <td>Hive (HIVE)</td>\n",
              "      <td>1046</td>\n",
              "    </tr>\n",
              "    <tr>\n",
              "      <th>64</th>\n",
              "      <td>Dvision Network (DVI)</td>\n",
              "      <td>1032</td>\n",
              "    </tr>\n",
              "    <tr>\n",
              "      <th>65</th>\n",
              "      <td>MediBloc (MED)</td>\n",
              "      <td>1023</td>\n",
              "    </tr>\n",
              "    <tr>\n",
              "      <th>66</th>\n",
              "      <td>Syscoin (SYS)</td>\n",
              "      <td>1019</td>\n",
              "    </tr>\n",
              "    <tr>\n",
              "      <th>67</th>\n",
              "      <td>Loopring (LRC)</td>\n",
              "      <td>1000</td>\n",
              "    </tr>\n",
              "  </tbody>\n",
              "</table>\n",
              "<p>68 rows × 2 columns</p>\n",
              "</div>\n",
              "      <button class=\"colab-df-convert\" onclick=\"convertToInteractive('df-c40aaebe-815e-48bf-97e9-8aae8edb613f')\"\n",
              "              title=\"Convert this dataframe to an interactive table.\"\n",
              "              style=\"display:none;\">\n",
              "        \n",
              "  <svg xmlns=\"http://www.w3.org/2000/svg\" height=\"24px\"viewBox=\"0 0 24 24\"\n",
              "       width=\"24px\">\n",
              "    <path d=\"M0 0h24v24H0V0z\" fill=\"none\"/>\n",
              "    <path d=\"M18.56 5.44l.94 2.06.94-2.06 2.06-.94-2.06-.94-.94-2.06-.94 2.06-2.06.94zm-11 1L8.5 8.5l.94-2.06 2.06-.94-2.06-.94L8.5 2.5l-.94 2.06-2.06.94zm10 10l.94 2.06.94-2.06 2.06-.94-2.06-.94-.94-2.06-.94 2.06-2.06.94z\"/><path d=\"M17.41 7.96l-1.37-1.37c-.4-.4-.92-.59-1.43-.59-.52 0-1.04.2-1.43.59L10.3 9.45l-7.72 7.72c-.78.78-.78 2.05 0 2.83L4 21.41c.39.39.9.59 1.41.59.51 0 1.02-.2 1.41-.59l7.78-7.78 2.81-2.81c.8-.78.8-2.07 0-2.86zM5.41 20L4 18.59l7.72-7.72 1.47 1.35L5.41 20z\"/>\n",
              "  </svg>\n",
              "      </button>\n",
              "      \n",
              "  <style>\n",
              "    .colab-df-container {\n",
              "      display:flex;\n",
              "      flex-wrap:wrap;\n",
              "      gap: 12px;\n",
              "    }\n",
              "\n",
              "    .colab-df-convert {\n",
              "      background-color: #E8F0FE;\n",
              "      border: none;\n",
              "      border-radius: 50%;\n",
              "      cursor: pointer;\n",
              "      display: none;\n",
              "      fill: #1967D2;\n",
              "      height: 32px;\n",
              "      padding: 0 0 0 0;\n",
              "      width: 32px;\n",
              "    }\n",
              "\n",
              "    .colab-df-convert:hover {\n",
              "      background-color: #E2EBFA;\n",
              "      box-shadow: 0px 1px 2px rgba(60, 64, 67, 0.3), 0px 1px 3px 1px rgba(60, 64, 67, 0.15);\n",
              "      fill: #174EA6;\n",
              "    }\n",
              "\n",
              "    [theme=dark] .colab-df-convert {\n",
              "      background-color: #3B4455;\n",
              "      fill: #D2E3FC;\n",
              "    }\n",
              "\n",
              "    [theme=dark] .colab-df-convert:hover {\n",
              "      background-color: #434B5C;\n",
              "      box-shadow: 0px 1px 3px 1px rgba(0, 0, 0, 0.15);\n",
              "      filter: drop-shadow(0px 1px 2px rgba(0, 0, 0, 0.3));\n",
              "      fill: #FFFFFF;\n",
              "    }\n",
              "  </style>\n",
              "\n",
              "      <script>\n",
              "        const buttonEl =\n",
              "          document.querySelector('#df-c40aaebe-815e-48bf-97e9-8aae8edb613f button.colab-df-convert');\n",
              "        buttonEl.style.display =\n",
              "          google.colab.kernel.accessAllowed ? 'block' : 'none';\n",
              "\n",
              "        async function convertToInteractive(key) {\n",
              "          const element = document.querySelector('#df-c40aaebe-815e-48bf-97e9-8aae8edb613f');\n",
              "          const dataTable =\n",
              "            await google.colab.kernel.invokeFunction('convertToInteractive',\n",
              "                                                     [key], {});\n",
              "          if (!dataTable) return;\n",
              "\n",
              "          const docLinkHtml = 'Like what you see? Visit the ' +\n",
              "            '<a target=\"_blank\" href=https://colab.research.google.com/notebooks/data_table.ipynb>data table notebook</a>'\n",
              "            + ' to learn more about interactive tables.';\n",
              "          element.innerHTML = '';\n",
              "          dataTable['output_type'] = 'display_data';\n",
              "          await google.colab.output.renderOutput(dataTable, element);\n",
              "          const docLink = document.createElement('div');\n",
              "          docLink.innerHTML = docLinkHtml;\n",
              "          element.appendChild(docLink);\n",
              "        }\n",
              "      </script>\n",
              "    </div>\n",
              "  </div>\n",
              "  "
            ],
            "text/plain": [
              "              crypto_name  percent_increase\n",
              "0             Gala (GALA)             40445\n",
              "1          CEEK VR (CEEK)             25270\n",
              "2           Anyswap (ANY)             16652\n",
              "3               XYO (XYO)             15808\n",
              "4     Axie Infinity (AXS)             15132\n",
              "..                    ...               ...\n",
              "63            Hive (HIVE)              1046\n",
              "64  Dvision Network (DVI)              1032\n",
              "65         MediBloc (MED)              1023\n",
              "66          Syscoin (SYS)              1019\n",
              "67         Loopring (LRC)              1000\n",
              "\n",
              "[68 rows x 2 columns]"
            ]
          },
          "metadata": {},
          "execution_count": 84
        }
      ]
    },
    {
      "cell_type": "code",
      "source": [
        "# TEST CASE: top_performers_df (4pt)\n",
        "# [CIS 545 PennGrader Cell] - 4 points\n",
        "grader.grade(test_case_id = 'top_performers_df', answer = top_performers_df)"
      ],
      "metadata": {
        "id": "1DKxf36RBr4w",
        "colab": {
          "base_uri": "https://localhost:8080/"
        },
        "outputId": "194da275-0e2a-4e25-dd23-25416d30f039"
      },
      "execution_count": null,
      "outputs": [
        {
          "output_type": "stream",
          "name": "stdout",
          "text": [
            "Correct! You earned 4/4 points. You are a star!\n",
            "\n",
            "Your submission has been successfully recorded in the gradebook.\n"
          ]
        }
      ]
    },
    {
      "cell_type": "markdown",
      "source": [
        "## 4.4 Summary Statistics\n",
        "\n",
        "Now that we scraped some data ingredients from the web, let's look them!\n",
        "\n",
        "Use describe() function to get a summary on the `percent_increase` column and save the summary to `top_performers_stats`"
      ],
      "metadata": {
        "id": "aQDeKmzv2iwr"
      }
    },
    {
      "cell_type": "code",
      "source": [
        "# TODO: Save the summary of the percent_increase column to top_performers_stats\n",
        "# Hint: Use the .describe() function\n",
        "top_performers_stats = top_performers_df.percent_increase.describe()"
      ],
      "metadata": {
        "id": "MMbgJZ_t2iM1"
      },
      "execution_count": null,
      "outputs": []
    },
    {
      "cell_type": "code",
      "source": [
        "top_performers_stats"
      ],
      "metadata": {
        "id": "4-n2EwpE2f33",
        "colab": {
          "base_uri": "https://localhost:8080/"
        },
        "outputId": "89a87f78-13fe-40e4-e3c1-7e1c0af68b7d"
      },
      "execution_count": null,
      "outputs": [
        {
          "output_type": "execute_result",
          "data": {
            "text/plain": [
              "count       68.000000\n",
              "mean      4423.308824\n",
              "std       6394.590728\n",
              "min       1000.000000\n",
              "25%       1318.750000\n",
              "50%       1861.500000\n",
              "75%       4061.500000\n",
              "max      40445.000000\n",
              "Name: percent_increase, dtype: float64"
            ]
          },
          "metadata": {},
          "execution_count": 87
        }
      ]
    },
    {
      "cell_type": "code",
      "source": [
        "# TEST CASE: top_performers_stats (2pt)\n",
        "# [CIS 545 PennGrader Cell] - 2 points\n",
        "grader.grade(test_case_id = 'top_performers_stats', answer = top_performers_stats)"
      ],
      "metadata": {
        "id": "S6Q-cRfhCvAL",
        "colab": {
          "base_uri": "https://localhost:8080/"
        },
        "outputId": "b83be1ab-a10f-42a6-c28e-4b466b3a9268"
      },
      "execution_count": null,
      "outputs": [
        {
          "output_type": "stream",
          "name": "stdout",
          "text": [
            "Correct! You earned 2/2 points. You are a star!\n",
            "\n",
            "Your submission has been successfully recorded in the gradebook.\n"
          ]
        }
      ]
    },
    {
      "cell_type": "markdown",
      "source": [
        "# HW Submission\n",
        "\n",
        "![doge.jpeg](data:image/jpeg;base64,/9j/4AAQSkZJRgABAQAAYABgAAD/4QCMRXhpZgAATU0AKgAAAAgABQESAAMAAAABAAEAAAEaAAUAAAABAAAASgEbAAUAAAABAAAAUgEoAAMAAAABAAIAAIdpAAQAAAABAAAAWgAAAAAAAABgAAAAAQAAAGAAAAABAAOgAQADAAAAAQABAACgAgAEAAAAAQAAAoCgAwAEAAAAAQAAAeAAAAAA/+0AOFBob3Rvc2hvcCAzLjAAOEJJTQQEAAAAAAAAOEJJTQQlAAAAAAAQ1B2M2Y8AsgTpgAmY7PhCfv/AABEIAeACgAMBIgACEQEDEQH/xAAfAAABBQEBAQEBAQAAAAAAAAAAAQIDBAUGBwgJCgv/xAC1EAACAQMDAgQDBQUEBAAAAX0BAgMABBEFEiExQQYTUWEHInEUMoGRoQgjQrHBFVLR8CQzYnKCCQoWFxgZGiUmJygpKjQ1Njc4OTpDREVGR0hJSlNUVVZXWFlaY2RlZmdoaWpzdHV2d3h5eoOEhYaHiImKkpOUlZaXmJmaoqOkpaanqKmqsrO0tba3uLm6wsPExcbHyMnK0tPU1dbX2Nna4eLj5OXm5+jp6vHy8/T19vf4+fr/xAAfAQADAQEBAQEBAQEBAAAAAAAAAQIDBAUGBwgJCgv/xAC1EQACAQIEBAMEBwUEBAABAncAAQIDEQQFITEGEkFRB2FxEyIygQgUQpGhscEJIzNS8BVictEKFiQ04SXxFxgZGiYnKCkqNTY3ODk6Q0RFRkdISUpTVFVWV1hZWmNkZWZnaGlqc3R1dnd4eXqCg4SFhoeIiYqSk5SVlpeYmZqio6Slpqeoqaqys7S1tre4ubrCw8TFxsfIycrS09TV1tfY2dri4+Tl5ufo6ery8/T19vf4+fr/2wBDAAEBAQEBAQEBAQEBAQEBAQEBAQEBAQEBAQEBAQEBAQEBAQEBAQEBAQEBAQEBAQEBAQEBAQEBAQEBAQEBAQEBAQH/2wBDAQEBAQEBAQEBAQEBAQEBAQEBAQEBAQEBAQEBAQEBAQEBAQEBAQEBAQEBAQEBAQEBAQEBAQEBAQEBAQEBAQEBAQH/3QAEACj/2gAMAwEAAhEDEQA/APx2/aO8MaLrHj+213w7Y2sFnqEMYvZLIJHZ3F2oPmyReXn7wzwcMccgjmvlLx34HaGWzmVVLReWyuA6SIIj5gk8rPE1vj5eoOOox8134ffHqw8TzKmtSJZ29tzMs0kbgP1ikhJY7SRgc5z6rghuH+Lvx70CWa4sNJmV5Ewizw+XMXJOMiXOIo+uQARnHJ5NfnGUYLF4TCUMJUpur7Ghbbo1rfXR2fXd9/hObEVJ1MVz0lok+/n11a1tfS76XPc7f9sz4pfCDQtKsfC/iM6za2yWv/EsumF0ymF/9Mhllz5kZ8pCQZjPjgBQDXln7QH7Rl58frTTDqFnJGYJY79IpxvktbjZykP3hz5kiAf3W7kBV+tf2SPgj8IPF/wW8QfFj4jz2L3N7BqEsDXTxyQadBa20u2TypcE3FzKMjb/AHuFAJC/j/qXiy1i8Q6xb6e7f2ZBq+pQ2cjneZLSG7lFvKv3cRGARkfKvuTw1c+S0sHiMfiY08E6NXDV2/btP96/Ptdq+jl+bPcr4vMoYKlhauI/2aqtUn28pN9ey67u3vepyX17q8NvbT3DXCQRxrEjszYMPyjzcgZwc546YznIru/hv4MtbzxLpreJJLOLTS0t00N0X+zypF/qku5ZP9TDcy7AOn3QD3DeDaf4zskl811aMod7MpGJAPTngN6gt6nAI29Tb/ETUr20vLSG3a8tGjR4IM+XJ+6k8zyhLHmWWHPJixznnIr6PGUMQo1YUtqurfa6s2mle7W2ny1aPHoqMJe9vfR2a6P1fbsn1TsmfZ7/ABi+Fng74reGxJp1tcafo9pFY6pfaFEkNva33miT9z2mighzDczBmB8zHQkN9O/tVfFb4ZfFP4ZxLojWYuUs7e505kZPO/dJmISnI/f/ALvuCB7AV+H0urahc31zd3IKTSySSFCpiRHJ/wBX5JGP3C8cjk4+Y4+Xq9C1rUZ40t7i8nkto/lVA2+NTLJn/UncADg45wufukfd+UxvBVHGYzL8x9vWdXCP4dGtLuz8tN3sr6qzUvQp46pRo4jDr/l7pp2X9du7b1931XSPH/ijwWTqnh7U5tLvljRVuLU/vNkWT5UpOYpBjk9x3xn5fpjU/wBpPUPiJ4Sk0u4+2y32ow2aardahM80j/ZI4x5MG0n90ZE80ZRgAScgV8b67Pbx2EcSIwd8BjlEZsnJPlAg45/pkYNY3wc8L/tM/Hf4m3nwj/ZT+CnjT41eM9P0zWNeu/D/AIG8G6x458Qz6Z4f/spde1OHSNJntzFpeiT63pVvqNy8khhk1KyLrH9pjR/bnw7hce1VjQisZSXxTdlba7dk9d9Fu+tjjdStKDp+17bf1ZfdK/3n70/sZ3GpxaJBq1wZ38qFHDSjeuIX4iMo5k/dYI5+pX+L9ZvBnxBuPEVxa2F7Oy2S+WhiPdPpkY/X6c1/P/4I+Cn/AAXj8A6TFo2hf8E5PjqtnCkcaC6/ZZ8fXEmyMABTIviyDcG2jdlDnscV6VpWj/8ABwTo8pmtP+Cc3xmEhx8z/sn/ABDY4BzjjxvGfb73TjnGG/nvjDwH4pz7NsXmGE/smnGu/c9pjKibXmo4XR97W01t0l93kfEmEyvCUqMnWcofFywjbZbP2ib/AA2srXZ/VJ8PtO0WSO2lt1GRjnG/oFx6Yz6k59jmvoyzuYoYURWCqCep6fTkA9D+XUV/KL4Y+NH/AAcd+FYfJsP+CbvxHkXI5vP2N/iVctkdDuX4nW3Pvs/7543cF8af+Crv/BaT9kO00XxF+1Z+xVpXwz8PeMl17SfCV18TPgB8TPhVZ6jr+j6WdYu5NN1P/hP9aOrNo+mxzalqmlfZ4A2nxyTm8tUiZ68rDeAvG2DoP2dPJpVF9hY+ouZ/4pYRLba7iu56k+Lsvqz/AHksQoN6tU47eaU29PJeWp/YKlyXxtKn+97c9ugOB7d+cYrpLG3YxRH+Ns4BGR5fH04Gcd+uPRq/lF0z9rb/AIOSr6xstS0//gnF4xvLHUbW11Kyu4f2MPibcQXNrfW0V1aXNvL/AMLaHmwTW8sUsEh+/E6NgZytDxv/AMFBP+DiP4N+DfEvxS+Jv/BP3VfCPw5+HujXfivxv4m8Wfsh/E7w34Z0Lwvo6faNX1LXvEP/AAtmdtF0u2tQ73mprFKbOPM/lPs8tsV4Acc+9Jyydykm5JY6rq97XeD/AMl1aenLf+tuU3i74m0Nv3MP/ljduu0n22Z/XTBAQFBIbjG0ev5j8s/nT5bQSjBIbt9PqP8A64/HGV/kH+Ff/BV7/gvD+1HoGo/E79mb9gu08dfC6PxFqXhm01XwD+zJ8Ufido1hrugpbQ63o9x4vb4l6G15rFhdTf6fbtpFkbFpI7cxEozy+nj9tT/g5lLAL/wTW8VlmIUAfsRfFD5icKF5+MfOScD7uenvWEvo/cfT5XF5NTuruLx9S8W1s+XC2bWt3GduzevNrHi/J1eMniZJbSVGGtnuk6kXrvrZr5WP6k7nTmTkFunRE++SMcHGOfU7f1IpkQKBg7YO07iD1xyRJjrgE8nHtyMN+Df/AASz/wCCxPxN/am8X/tEfAz9sL4YeHfhR8Y/2c/CHifxvr974X03XvDEE+jeAPEmp+FPiP4c8U+B/E+oavceFPGHgvVrS0iuFs/EuqaffT3eoWM0Gk3GjMbr4L8Lf8FhP+CxH7YfiH4geLv2D/2E/wDhOvgp4Z12w0eyk8NfAH4h/GjV9FGraTb+INGsvHPjDSfH3hnRIfF15oN7Y6pe6NpGmLZWEN3GtteahbG31K687A+D/HGLzPNcljhcHTr5XDCzxOIrYuMcJUWMhOph/q9SEKtSq5whJteyj7PlcavJKyOirxHlNKjhcU51ZQruooQjT9+Ps5JT5o80VGzkt5Sve8eZJyP63BMEwQcD/vr6cgL9On4jo1tb2FR1C/1/z9Pzya/lMP7YH/By4f8AnGt4wGTk4/Yn+J/OOxB+L5yPb5fx61G/7Xv/AAct4LN/wTZ8YqFU8/8ADFHxOACqCT/zV7oACee31rsf0eOPXzOUskblt/t9bR73f+yO1rW2+8n/AFzyb/qK/wDBUf8A5avz+8/q9/tK3WMEuv3ZPkfnPX69hnGep74rNl1u3i/iO5sbjwSeeAT8uQfTp9M5r+Lz4X/8Fyf+CrP7VPijSPg7+zB+yJ4G8c/GLw14R1/xH8SPDvgD4UfE/wCKPiS9g8P63p2g6pr8HgtvGHh9/Beg6PqOp2OmatC+q+Kng1a9s4Tqdv5r2dfQr/tUf8HKkhy//BNrxuec4/4Ys+J2AfYf8LaGPy/OspfR78QalODUMlpTjdOFTMajekpKMuaGFnHlatJJO9pWlyy0i1xlksJT97EyUusaEeqWlpVYtW2er1Wl780v6tH8VxKu3IxztBGTn1PTHXPPXtnBNRf8JSjLy4weowW6dOOfTORjnqTnFfykt+1B/wAHKLjB/wCCbfjn8P2LPiaP/etH+R/Cmr+07/wcoLjH/BNrx0MDGf8Ahi74nZ/9Wwvr/ex6jjDYP6PPiTbRcP3/AOxnX8/+oJ/16XlpHjTIou/Njf8AwRT2fT+N5bbX/mu3H+qe98TKE3u4yT8wx0+oy2M/8Cz2AH3uA1PxdceY6xvjJz8vBPDAZ4x7jOc+gJ+b+Ufxn/wUS/4L2fD3xx8NvhJ4+/YSk8O/Ej47Xes6R8HPC+v/ALLPxN0PxR411bwpaw6z4ktPBXh//haMw8W3enaI0t1qloZ7c6bZ4vxI4Ro273/hof8A4ORZHU/8O2PHrFmUKP8AhjD4mncWICgD/hawzkkDnJPrXnY36OXinWXLh5cPJPSXPmddK2942wTe/dLbZJe9vR424ch71RY2T7RoQVterdZ9k9E99nax/SgbrVNRmUrJI0bMQST07kY5z1//AFYAr0HQtGcukk28sePmOenT6fnjv8ua/l1/Zr/4ODLXwfonxg8I/t1fB6+8I/HP4a6lHonhbwf8KvDPiLTtX+IXiqz8Ua54R8U+CNb8M+LJ7zSvhtrvgrVdJg/tnVtT8Z3ejXXnanp1vbQa3pUem6hL4B/b5/4Luf8ABRW31TXP+Cfv7JFz4V+GqpKmleLvBHw70rxro8U9vLeaZd6efj58eNb+H3wo8S6pa6jBcQX1j4S0W6uNHubDZewxyb4H8PIfo2+JFbNcVh8bhsDgng6kFLMcRi08BiFOCqQlhJUaVbEV4KMrTccPFUpqVKq4VISjLuxXHeRU8NSqUp1KrqqT9hTp/vYpPlftYzahB6Oy9o3ONpR0akf11WMdrplk8hQyExnDqBgEcY49eff2Ay1eS6/rtvPJc+XtU7zyQOf5ZI6cdDxjuv8AOre/sgf8Henh/SV15NQ1fXTYmG/l8O2vxL/Yn12+u0WWFpbX+w7jw3oVrqLNFJKH09fEFi0qxyxxXtvL5T183+Mv+Cl3/BWT9gzxjofh/wD4KO/sfa0PDusanp2j2/iDVfAM3wh1fXrq7lnnum8GfEPwzqXjj4F+PfEQ0y11C5tPB+n6vpOoTtpxUy2dpM96n13GX0dvEZZLCOS18kzeph6blPL6WNrYarXaW1KeMw2Gwzk+irV8PHzvZHm5RxxkUcY54uGLw8ZO0arpQnCN/wCdUqjqWV7e5CWj6WP6hp7zcuA3y/hgevUp2/2WI6kd6t2WoyRFSCSvO5S/GOOfvc+wx7c5G75A/ZR/a5+C37ZPwttPit8FfEU2q6assOneJPDus2q6b4x8Ea49tFdv4e8YaC0sr6dfiCVZ7O8t5rnR9aszHqWiajfWEqSt9OJcomVJ+7kfKQQfXOCO/QcHtzhhX8Y5hLNeH8fi8vzXC4nKM3wNWVDF4LFUp0MRRqxt7s4STaumpRkuaM4NTjOUJRZ+y4ZYfHYalisPWhiMPWgp0qtKSnCUX1TSd7NWel0000mmo9D4mgOp6S7EbmdJIz/1z2HrwPfqSeO2RXhOh2giuRE/3Ip9gGAHEW7BzkdTnPJ/h75XbzP7Yf7Ueg/sifsr/Fj9obXdDn8UJ4C0mwj0Lwnb3Utk3inxj4m1iw8M+D/DTX0VrezWFpqXiHVbGLUtQhs72Sw01Lu7itJ3hWJv53fhb+2//wAF5Pj/AOE9M+NXwH/YF1Hx38KfG1xrF34M8VeBf2Wfif4z8I6rplhq99pEh0fxNJ8SbJ9chs7ywuLGe/8As1r5t3b3GLeDAhT+nfBfw/4m42yWpnWAhho4OhiXhHicVX9kqmIhTpValOlGFOrOXs4VaTnKSjFOSUW2pxPz/i7PctyTFwwmIc/bzpqtyU6aqONOUpRjJ804x96UHa0r+67qNrS/rB0ePasS7RsVerfx5z9OR6Z/Ku6sF/eRn3wvbI9zz17Hb9SK/lotv2of+DlC2xs/4Jr+NjtAA3/sWfE9sAcY/wCStr6//qyKwfH/APwUB/4OG/gz4K8R/FX4pf8ABPfUfCXw4+H2lT+J/GvibxX+yD8UvD3hnQvDmmtHJqmpa/rsXxXlbRtJtoDvvNVMTpZRZuJFVEcV/QmH8I+KqL5nLLbra2KqK/l/u+mumtu/RqXw1Xi3KpupZ4m0vhvShp6/vE/667H9nfgnaYFyMkbOPcjpx6545I475yvphHOAc/p+v+f1r8CvA/8AwWD8Kwf8EqPE3/BRSX4Y3N14q8I6jL8NNS+Ddhrh+y3HxwbxvY/DrStCXxFc2yXlj4N1XWtU07xD/ad7py65Y+FLh2l0ptVVLSX8r/hn/wAFav8Ag4j+PvgvR/jB8D/+Cftj42+FHjhtS1DwT4n8C/sgfFfxp4U1TR7XVb7TA2jeKpPjHZSa7DbXFlPZz6g9patNdwT/AOjQACFPbybg7OcXTrxjRpUamBxNTB1/bVrfv6VueMFGNTmilJPntyyUk4t3fL5GOzPCQqU5c8pRq0o1YOKXwyva9+u6to9HdLY/tJVQc5/zGfy9PXPbjNCja+B0yeP4/wDPt/hX8d0v/BQz/g53ijkml/4JseIEjhjeV5H/AGG/imFjjjVpJHYn41YCoilmJHCqT2+b9Uf+CI3/AAVj8S/8FPPh78V9J+K3gDw58Pfjr8DNT8Hw+MIfBcevW3grxV4e8cR61a6L4j0rTPEct9qfhrUbPxB4W8T6Br/hyXWfEENnJp1nqFtq0kWpC1t+rMOEc4yzCzxeIVCpRpuKqOjUblBTkoRbU4QunKUV7uqctnvHmoY/C4isoQlNVJJ8vNZJ2V2rrZ2V9V0tofuIdp45H+33/L36dffnFIF4bjoc7F9uDnpng8cHvzxX8hPxr/4Ljf8ABTD40/tYfGz4E/8ABM/9jyx+Kvg74Fa54n8P61Ovwh8a/HL4g6vD4S8bav8ADy88aa5Y+GPHXhDRPBvhrWPFHh/V4vDVjAdavLiwWzuNSvrW9nuNNtMhv+Chn/Bzy23/AI1pa6NvTH7DHxUGc9z/AMXtP0x27YyRXdR4Iz6rSp1f9lp88VLkqVpOUVJXSly0ZK6T1V3Z6GNTNsKpSgnNqLtdR0bXa7XXZ39L3Z/YeDt+VkRxxweh+oy30HP4HgqquR8wLFugVR1z/P64GMd84X+S39kf/gt9/wAFCNA/br+D37GP/BSP9lLQfhHe/HTVvC2h+H5k+GXjv4K/EfwlP47TxNZeBvE03hPxB4m8daT4s8H694m8NPoM0jX3hu/tlm1PVbS6vU0Oexn/AK1EV92cMTnB2nHP3enPf39+c142aZXjsjxGHp45U+apTc4SpSU4TgvdlZ2i0091JJ7Nbm9DEUsVH923ZSs01aS2e+z30s5dr6MTcp2kq/yN82DjPXH9cYP5VGdrMrf3fusrE8evQH2xj88CotRu7bT7O/1O+lFtY6bZ3eoXspUkW9nYW0t3dzbQct5VvBLJtUhjsxxmv4w9O/4Luf8ABXH9sT4kfFO9/wCCcn7D1j8Qfgp4A1ex0+2/sr4E/ET45+MLTStdk1WfwhrXxB1rSfHngnSNA1fxhoOnJrtr4b03R5YNLinmsW1fVJrR7lqyfJcxzudb6pGny0OV1p1Z8sU6nNyRT5JTlKXLJ6Rsre9LVcyr4qhh1F1m1Um3y2V9F8T6JLVfai+19Uf2hsyBcryS3b+9+R9e/wBecYZVfILfN8o2HPpn684z7+xH8X8d3/Dwv/g55xt/4dpa6BjB/wCMGPinz6Z/4vaenPfj3pP+Hhf/AAc9YP8AxrT1/wDH9hn4pn/3tv8An8K9z/UXPFLmjLBx/wC41R/+4V+X37GSzbBrb2i+Uf8A5KX9d/s/2LCUsVGNueQ3OcfiD+Qx654FROu0+3p9PxP8h+Nfxk2H/BeH/gq3+yf8cPgz4b/4KQfsVaR8OPhf8XNbttMjg1b4LfEP4EePbjQoPFHhjw54n8U+AL3V/Gnj7SfFNx4OHiuwv9Q0HUtKsLbUJGsdITXNJuNUiul+7/8Agob/AMHEfwj/AGd/HV7+z/8Ase+CbL9qr492PiiPwNrurf2jqdp8I/CXi+6huYrTwlpVz4as9V8T/GH4gHWktNEk8G/D+3+xwapLfaPc+J08QadJor8Ffg7PYYmjhHh4VnWjKcatKovYwjBxUvazl7P2bTcbKSjz3tDmaaGsxwjU6sZuMYtK01ecm1pZLm5m7Pq7btxS97+kbruzjdn1A7/l69vzzTACSh+Q5PH6fnxz09xmv47dJ8Q/8HbP7WUWh+K/hv8AB/xZ8EPCHiWU3ltCfhz+zz+z1ZWFlFZy+XI1l+0B4h8YfFuwsr5wskEeq+GEv5ZpIJP9HgNxGrNX8Uf8Ha37JEGu+LPiZ8GvFfx08JeHZDPPDJ8N/gD+0Jp13aSWkTPcfZv2ePEPhH4t3NjYuHac6d4Ye7t3FzLi7jW0jf0/+Ie5vyczxOB5rX5PaV2/S/1aKv8AO3mre9l/bOFb5ZU6tr7pRt6/Gvy89Ps/2LuxO7A6juc7vQMNq9Oeefpzml2ELuJAx1HXr3z7Y/8ArHG6v5x/+CdX/Bw38Hv2nvH2hfs8/tT+Crb9l/8AaF1zxIfAnhu8bU729+EPjPxwkcSf8IXLqfiCDTPEvws+IFzqZm0e18G/ECyigu9cFr4d07xFdeI7630hm/8ABWP/AILAftP/ALNn7Uvw+/Yb/YW+A2ifGX9oTxXo3hfXdWfWfC3iP4i6lPc+MrfxXqOh+CfAfw68La/4ZutY8RRaH4M1TXtev9Z1u1isbCezTTtO1Fje3Nh4UeGM4eYLLHhvZ4h05VYzqSUaEqMWk6kaq5oyjzOMWo801JpNJ3UutY3DRoOuqvNTUlHRe8pPZcrtZta66NK6vuf0bsvyE5XP/j/Gff8AofoajRpCMZbG45z932547dz1x35Ffx6/8PCv+Dnn/pGnr/8A4gz8U/8A59p/n+deb+P/APgt9/wW7/Y7uPB/xA/bW/YL0Twd8H9c8QXegSw+N/gB8TvgRL4nv7LQdT8TXWheFPH1x4/8c2ll4m/sbR9QvraO98K6rYLa21zc3kMVvBJOnrS4DztJSX1WTgtIqtO7stUnKlFNvpdx13lr7uTzjCNq7qdr8q09bOX5/fry/wBp5kPK4LFiCSOPwxk849/yqEAtuzwD1H1/75/M49fUV+bv7c3/AAUb8Jfsl/sGWH7aPhfwo3jxviFpvwrj+EHhDVrq60iDXfEPxjhsLzwwPEN3YW17e2em6RpV5c6zrkem2s+o3Nvps1lpsTXNzE0X89/gP/gqZ/wcf/GDwX4X+KXwy/4J6jxZ8OviDotn4r8GeJPCP7GvxU8R+Ftf8M6whudJ1PQteb40RtrelXVsyvZ6myRNeRYmMa7ttedlvC2b5tSqV6EaUKdOrOg3XqcjdSnpUjGEYSfuvRt8t2rbtOOlbMMLQnFTcnKUVL3Vsnte7tqvL1tdc39mnlK3QjGJDx7HGMHnn/Eio5IiiMCeAO/+OfX0B/8Aif48r3/gon/wc2aVZXmp33/BNrWbax02zutQvLm6/Ye+KcNrbWdjby3d1PcTD415ht4beGSWeUY8uJHcA4214T4M/wCDj/8A4KcftVav8PfhB+yR+xT8P/E3xsfw7qWr+MrLwZ4E+Kvxxv8AxjFpen2Oq3ev+E/AFtq3g1/AXhmwsL+zl1Ntb8T+LmWS7sTDqsUWoaYNQ71wJnycVJYWSbfM1XaUdN5Xim9dPcUul7JNmf8AbOEu5Xmnvbkvfvtou+stdltaX9vSIWLDPH3xx0I9ec8c9+c9uNrpFACBR833GIyf0/xIz7Yy38gY/wCCgn/BzsCSP+CafiDJxnP7DPxS5x/3W0nn6j6dK5Hwr/wcM/t2/sm/tEeHvhh/wVX/AGToPhp4S8TeG4PEt1pvh/4TeKfhH8aPDGgam+v2Gh+NNL8HeJvH3i7T/GXhzU9c0G60f7Hey+Gp3SDVNQ0rU77+ybixZVeBM7pU5Spxw9RwTapwrPnnZXtBTpxi5b2TlrtdXSJWaYOU1eU0m7NuOnq7Sukuto7K76s/soQ4X5xz6549v8nPuD0qGVg4AVg2M9CPl5yT6cn/AD0Vf48LT/gs3/wV4/4KG+NPEnhT/gmN+xfd6V4Q0jU9W0d/Ell4B/4XX4q0eSwvI5LOXxz8SPFWseBP2fvh14iutJl0+7vPBNzqXiC/t/7VWOC81G2hTUZ+1t/2Xv8Ag8L1XSm8RDXdZ0u4vYZNSXw/N8Sf2HtLvrYyLNOlgdCTwnq9jYumxIF0xvEN8sW+KBtQuUD3LdOH4CzmrTUq1XB4dtL91Uq1JTj1tKVGlVh22lPtp73Lk83w0Jq0as1/NGKSfS65pJ/+Sr5Xuf1pkFcEnk+3qOvPX9P6snMmVwN+3Ksf4D9eM5+nbIxiv46PGX/BTz/gvX/wTlGm6/8A8FBP2Pf+Eu+GP7tdV8V+NPhja+ANHae+urHTNPsh8ffgNrvxH+FHhi/l1K7tbKxsfF2h28mpzX4WDzZUKV+ungH/AILkfsp/FP8AYo/aA/a28C6Z4lg8X/s4eCL/AMTeP/2b/F8+n6P8SLHVpdSPh3wpFHf6Y2saRqngjxX4mktNPtvH+gDU7HTIpbqHWdP03XbC90SDy8w4SzvASp89GGIp1KkKUauGnzwU6klCCnzQhOmnNqPPKmoXavLVM6qWYYPEJ++4NRcmqi5XyxV3a3NFtavl1k911R+z5Ekeeqru54z/AI9Pr9M5JprTblXIJJOcYHOPy/8Ar9s8mv40vh3/AMFcf+DgX9pTw7J8Wv2df2BtN8dfCLWvEHibSvC+v/D39lb4rfEfwwzeGdau9C1TTbfxnL8VdEm1u/0jUbKfT9Wml0fS5I9RguITY2uwQp3Dft6/8HOL4z/wTU8SDrjH7DvxTH3v+609+3yr+uV9GHAue2vJ4NeXt5NrydqTv8vxumc080wl7w529tYxWmmvxR7ddulteb+u/DyAny8Ku/d26kgdz1P8u+QWqBGDEseFcAbjjjtj09zz6Drlf56f+CSH/BX39of9rX9of4sfsYftkfAvSvhP+0B8NtC8ZeIUv/DPhvXfBEcM3w+1zw9ovjXwN4++H3ibX/EWpeF/F+kjxZomo2F1pusX+malbLqdteW2k3lrarf/ANDfO07/AJWz/F0b2PT/AD1zgCvmczy3FZZipYPGU4xrQjGp7eMuaMoTb5HF66NqSfMozUlZqN05d1CvGtRnUpybi9NVZp9VbW219/vCRxjav3upC859ATng+2PrnnbSkAjO4n5vv9BIT9ODj8efTOcNZyu0DBGPofy6dRx6ew6rAx2tkgfKY+dh78+Z3xj6fUHA3cUZXv5f12Vvvf4FvROXRf8AD+f5feHVDuPBBznPT8RnGPQHP5BYVCqzKCCF98uT6DgDAx0yffGKlMgYlRlgwODz0xznp+WMj2zUH2ZgN5bDEnapXPOcYP3f5H6AfeqMv5dFtt+g+SMIe+/3tW1ru9lfrfl37XstXdXXM1yQNylWww+XGMEdQeWz0GMgZ56cbW9RlflPRlb/AFfynOPxPHA49WH3YmVgDz0bh+3POB079T9OvBpxJCFVP7wgn72M5J9Rx175PsP4hSb97Z/f5f8AA/4Ylx1tf2Nr3tfRrZXV9/TS9tdSlIWZ/k/iJ9/TnnH+e5xmoXOGG5csrduvH49/x+gzVsnblm3Lg8jOB+HAxxz0x6Z5qsASW3E7dxIcfTGBkg+mf/QRkBZUotcv/L3p6/dZf18V7xH8PVq34W/A/9D+JBNQ1K1MpgvZ4EkOxtjkho+meuQR/wACz+GahjeWdizuz8jLHJPPPPKjrz1PB4xj5qc/L7AvCsU9N49VxjHTJ475ya2rGAOq5yMHHI2E/XHr1HXHbGSV5+WnFX9kvybXXdPb1T6Lc25I9vx/Xr+nzPT9A8e+ObHw7N4RsfFWs2vhu7JefRoLqSKyk87nzPK5MeBlfJhKffzxgGs2LSYShVvLLNngk704++c85JznJHoDnO6HTrbaMiQAZjdBg7x0+ToRnsBznnp1rpRbqi/KQGPzMWPUnrz145PP4E8rWdLD0qbqThToUva66K7fnf0u7N9Olype9e/Xtr2/w9vL52OG1DTFQEj5cJheeuPXr7c9fY42tU0TxT/YVwYbtHNuz/un3b3jkPoecQduq4J7421v6ohlSVcOF/3s5/HnjsO3PbANecatbFznGSMKqg+W5HucKPb0+mQWtwpzjyyumuv5W08te/Xl0claPZfce5JdaT4njUxPEhJ4uY9/mPnrlduZc9xwDt5wcCr40S90hUeFPtMZxJ5iHJby+hMK/wCr/hyCT9TivnfR5r7TLsS2txJCwYYUn93/AA7vOiGTz1BxyMEZya+o/APimG4lt7TUo2M0rBFXaSkxOP3ceTkFv+BfQ4+bycTTeFi5wqe0oK7d38Pdbu2qvolfzMqkY6L52v8A1Y5W4kvLibDxyeWDuywlIBJzgDjHX+9yMk4+5X9Bn/BpFx/wVt8T4yoH7Pn7T2OqEf8AFQ/s5duCPXp2zxgV+YGt/CKcaRY6w+l3VhY6qoe3kMTm3EmzMkPm7Bmckghdx+vAFecfATxf+3v+xX+0BqPxs/YY8a3ngjxzreg+J/Dy6/oul/DPX9RstA8YyeHJ/E2kXOl/FTRtb0Dy9TvvCmh3CX8VnJeWw0+IWk9kXuPtGWAzjLb1pVMVQoxh7sqtapCnTVnqnOclCLej1l82XSpVav7unRm3zu0IRcpO99klzO+v81t+tj/Z2yPUfnS1/nu/8EIP+Cuv/BWX9oz/AIKyfC/9lL9s79pbxJ438FXXhf4zXPjT4b6r8O/gFokLat4a+Fknivw1K+vfDb4faNqge0uLyy1HbY+IPs0p8mC5ilUTxV/oRV9FCcKkIVKc41Kc4xnCcJKUJwkk4zhKLcZRkmnGSbTTTTd7mcoyjJxknGUW1KMk1JNaNNPVNPRp699gyB1/nj/P+fWv4rf+D0Mg/s6fsVgHP/Fz/wBoQ4zn/mgGu/8A6v0r1j/g6s/4KT/tuf8ABPW2/Yom/Y6+POr/AATb4pS/H9fiB/Zfgr4Y+MP+Eij8GWHw0uvDpmX4j+CvF4sTpT6zq2w6SbA3Md/OLz7Q0Vm1v/Gj/wAFHv2m/wDgsP8AHDwv8KdK/wCClvjzxL4s8D2cXxQ174UW+uaF+zvpUUWv3fwx1K11q8t5Pgroul6m7S6Fe28bReIGa1VJc20K3KyOmFXGYOhXw2Fr4rDUcTjHUjg8PVr0qdfFOjBTrLDUZyVSu6UGp1FSjNwhaU+Vcsi40qk4VKkac5QpcrqTjCTjDmdouclFxhzPRc0o3ei5npH/AF5PhF/ySr4ack4+H/gvrz/zLOl//r/ya/P/AP4LY/8AKJD/AIKMcn/k0H43d/8AqTr/APz+JHev0A+EX/JKvhp/2T/wV/6jOl1+f/8AwWx/5RIf8FGP+zQfjd/6h1/XSZn5t/8ABp0Sf+CWuuZJ4/a8/aQPX11zRM/n/ntX9MzdB/vL+rCv5mf+DTr/AJRa67/2d5+0h/6fdFr+mZug/wB5P/Q1oA/yUtJ8cX/w8/b1/wCC+HimyvF06aH4Mf8ABSrS7LUHWNzBrniL9rO/0DRlRJUkR5pZtSn8hXRkM6RB1IOK/sA/4NA/hNc+Av8AgmX8QPGl6bxp/ir+1V8S7yye58oRS6F8MvDHgT4O6a1qkccbYW58D6kl28hfffLcGPy4gkUX8K37VXjW28Nftcf8FfvDcWprY658U/j78Z/htp8OxXmv9K1b9vnV9T8S2tv5gKJKNN0lJfMKsUVcjGcV/pO/8G5Xwvn+Fn/BGn9iizvnuZdW8eeC/F3xl1We7eB5bm4+MvxI8YfEa2nUW0NvFFA2ma/p62sIi3xW6RrLJNKHkbysHhJUsxzjFySX1utg4wf2pU8PgqUU35RqzrJL1dlq5dVWopYfC0lr7ONVvXaU6s29NGvdUb97K17XP27pGGRj3Gc9CM/MD1Byuev6YBrzz4lfEXR/hppXh7Vdamt4YfEfxC+HPw7svtEvk+bq/wAR/GejeDNJihOCJJ2vtYhaOI48zYRzwrehnJGOhI7djj8en1/OvVOU/wA9r/ggB8M2+DX/AAco/wDBQn4WHSotGj8A/Dz9uDw3bWls5a0Gln9rj4TeIvDjWbE7/sw8KeINASMOFZTGQNyBZJf9CXI9R+df5kH/AAVt8a/t2fsT/wDBw7+0brP7APjG+8B/HL9pPSvh/H4Q1DSvD/wuubnxL4e+MPwx+G9xr3hJP+FvaXrHgpBfeM/gNcX8etzR2F42o2UtnDeQyS3K6h+mv/Bvz/wU3/4KrftDf8FOvF/7KH7e3x+8R+NbLwL8IvjxeeKPhrrHgj4EaKujePPAurfBSDSJ3134UeCtIkvJ9MtvGWtxlLTxBd6Vc/b1aWKaS2t3ix+sYf6x9U9vR+tex+sfVvaw+sew5/Z+39jze09j7T937Tl5Of3ebm0L9nU9n7Xkl7Pm5Ofllyc9r8nPbl5ra8t27arZ8v8AdXSZA6kfnj/P+fWlr+On/g6H/wCCkv7ev7CvxK/ZB8K/sWfHfWfhCfit4B+LV74j0zSvBfwq8V/8JN4k0b4kfBjwv4VaSb4l+DfFK2BtrfxlrFmgsbjTbaVr9Zr7zTbQPFq2opyk0kk223ZJLVtt2SSWrbf3WISvotW9El1Pvb/gqQ6j/gsN/wAG/pLAA/Gb9sAAlsDLfAJEUDPGWYhAOrHCjkiv6HcnYhycny+fqVz+f/66/wAoD4r/ALaH/BXjwL+3N/wTl+L3/BVXx94qkT4H/Hjwt8SPhNPr+k/s9WMFp4Yl+KXwt8P/ABoYn4G6dp0V1a3vhC8is72HxHP58f8Aox07y7Z9Qdv9Vfxj4qsfCHgzxT4zvnjOm+GPDOueKLuV3WGAWGiaTd6vNI9xKBFFGLe1LNNI3loPnOB93mweNwWY4aljcvxeFx2DrqTo4vB4ilisNWUZuEnSr0J1KVRRnCUJOEnacXF2kpKOlWlVoVJUq1KpRqxtzU6sJU6kbpNKUJqMldNNXSumn1R/my/8Evf+CY3w8/4KLf8ABcj9s66+OWgDxN8Bf2d/jl+098UfiJ4Yu5Hi03x7q2rftXfFnw98Nvh7qbwyLO/hnxFqtl4r1jxpaKYm1rQvCH/CKSyyaL4l8Q2tx/pW6B4e0Hwroml+G/DOi6T4d8O6HY22maLoOhabZ6Rouj6bZxiG00/StKsIoLHTrG1hVYra0tIIoYY1VI1AAFfxC/8ABnDrk3xN8Z/8FRvjZ4pvVvfH/wAQfG/wJ8RaiWvEuZLPTviFe/HD4s3doPkgklI8T+N9ZNzftbxfa7tWBRFhjt4v7kTjBz0xz9P1/l+ddRmcHb/FL4Y3nxB1H4SWnxE8C3fxU0jQrbxPq3wzt/FmgT+PtL8NXkiw2niDUPB0eoN4hs9EuZXSKDVLjTo7GV3jVJmLpub8UPhX8NvjX4C8T/C34ueBfCvxJ+HPjTSLzQvFXgnxpoth4g8N69pN9BJbXNnqGl6jDcWsivFK3lyiNZ7eTZNbyJMiOn8FX7NGua98H/8Ag76/aE1H4yeL7Hwfp+seN/2k5bnW/F2uWHh/TZ/A3iv4A+Dtf+GFreanq9zZ250m60DTfDtt4dhnl+zT3Hh+W109XuNMulg/unH7S/7OJ5/4aA+CXP8A1VbwJ/8ANAP5flQB/nNXH7O7/wDBIP8A4L/6h+yv8ONY1m1/Z2+PE2haP4M0/XvEOrazNdfDf42aBr/in4Z2OsTXBd9U8QfDX4t+EPFPgTQta1NL/VrzQHkv9Q1abV9f8Q3d3/VJpnww1i5iEkqMGYc7ARj16BsEEYGSc/T7386X/BwN4x8GeIf+Dg//AIJz+Mfhh4/8O+KYb/RP2L7XUb/wZ4k0bxBp8Wq6T+1t400UWs15od5eIt1P4f8AFl/BdWUkokaymgkWMI29/wCw9bO2tVljWJUEUkyjYAMASEDpycjgHAA56YO3+BPpXcH5ViuNOG86qUnTq4/JK2Fxk6St7eWAxl6E6q1U5qnjHSU3Z+zhCHwwij9s8Nc7xOHynGYFNzVPGRqUE27U1Wp2qJb2V6XNta829W2fypf8HD3idPhh+w54X8KSSy/Z/H/7Qvw00i/t0iM00mmeCbfXfidq1xIyA7GtYfCkM+ApeTiKMO7qjf1cf8EU/hxJ8KP+CTf/AAT68GXGlzaNeRfstfCvxLqenTsDNBrHjzQYfHWsmXb8qyT6l4jubhkGfLMxTLYLt/GR/wAHSni/Up4/2SPgnpFjd3974v8AEHxl8YLYWotkjudT/sDw/wDCvwqHknnhKXdzrXxIe1VTthWFppp5YlRN3+hn8IPB1t8O/hP8Mfh/ZWkdjZ+Bvh74K8H2llCd0VpbeGvDWmaNDbRsMbkgSyESt/EEzznNf0z4EZNQyXw3yejh4KnDF1sdjGl1csTUoJ/OGHhbb8U5fD8fY6eO4ixE5uLdGjhqHubWVGNT52lVkr/Loei18k/t8fCKD4+fsQ/tdfBaePzT8UP2bfjT4Jtk897b/T9e+Huv2emv9oTmHyr97aXzMHbs5wMhvctZ+I2jaN8TvAvwvubi2TXfHfhX4heLNKt5JSt1Npvw7vPAdjrEsEXSSOCfx7pQnY48vzYsffw3d3lrBe2lzZ3UST213BLa3EMqh45YLmNoJo5EbKvG8cjK6EYZSQc1+xHxZ/kqfs2+P/7Y/wCCEf7eHw5udRurzU/C37Yv7HHxEkgnkEkVra/FnU/hhPdTW+OIv7R8R+F9avJoEVYYpGYRqu4ov+gB/wAG5X/KFX9gvr/yTXxX3P8A0Vbx9/n/APXX+ceYdB+AHgP/AILA/sxxT2EJ0P4x/A3wzZx+Ylk+fgH+31428GQWsWnswdZLbw7qls0cAGdP0q3jjASALt/0cP8Ag3K/5Qq/sF/9k18Vf+rV8fVwYLD/AFermDXw18b7df8Ab+EwsZt+tSMvzu7tR3rT544fvCjyb3VlUqW+1L7Nv+DZ8v7P65/yBdW/7BmodOP+XOev853/AINMv+Ssf8FBgc4OmfAzP/h0P2g/z/znrX+jFrv/ACBdW/7Bmof+kc9f5zf/AAaZ5/4Wz/wUFAzzpnwNzj0/4Wh+0F9f88cZzXmcWf8AJP5j/hw//qXQNsudsZQf96X/AKRLU+r/APg1p/5Sm/8ABVDHQ6P456cf83h/Fqv7yq/g0/4Naf8AlKb/AMFT+v8AyBvHPXr/AMnh/Frr05/D8q/vLr36f8On/gj/AOko5anxy9Wf5/X/AAW6P/HTl/wT2zz/AKB+w4Tkn/osH7RHuOuT/PIya/rhV1QszYO4NtJ7EnjA47jGMflxX8jv/Bbpd3/Bzl/wT2B6Gw/YcB/H4wftEe49Px9RX9b7xgFlGWO5ueu3nPtnP1GOmTn5vyrxGv8AXMqtp+4xC/8AJ4+T6+XXoe9k3J7Gvzfzw23Vk9vl+V1qcp4/bf4B8eMD/wAyP4y/77/4RnVu5+g7cdeSa/m1/wCDJ3/knn/BQAf9TB+ymfy+GfjXH9a/pI8eHb4B8ebjz/wg/jIYA6/8Uxq3fBxj8fTJ61/Nv/wZO/8AJPf+CgH/AGMH7Kf/AKrPxrXoeHf8DMv8WE/LEW++7+4wzhWlRu9bTv8AeumltLfrfc/ucpMj1H50tf58n/BcX/grL/wV0+B3/BXj4ofsf/sSftKa/wCD/CiaD8Gj4B+GVh4F/Z3vrVdX8S/CK18Y+JGHif4q+BNQu4zd3FpqWp51XxKttE7S21oIQ9tbt+i1KlOjTqVq1SFKlShKpVq1Jxp06dOCcpzqTk1GEIRTlKUmoxSbbSTZ48ISqSjCEZTnOSjCEIuUpSk7RjGKu5Sb0SSu27K90av/AAe12xvvHf8AwT0t/M8pD8Pv2qpJp9ksy2trB4r/AGdJru7eKBXmeO0tYZbiRYkeQxwsEVmCiv2T/wCDdT/gi58Kv2I/2afhn+098Xvh/pmtftjfGzwbo/ji41LxRplhqF58BPB/iq0j1fQvh54IinskHh/xXc6Pdafd/FDxLZxwarqmuMPDVlPZ+EPDmh6Ra/wh/tpfGb/gqJ+1l8c/2WfB/wDwUz8dar49um1yPwv8MIL63+A2nmDwx8R/ib8M/DfxBslm+AljpcMkesz23h60vIvEMz3qQ26x6eYrWe93/wCxFptlbabp9jp1nDHbWljZ2tna28S7Y4Le1gjt4IY15wkUUaogzwqgc4qMPiMPi6NPE4WvRxOHqpypV8PVhXo1I3acqdWm5U5xvG14tq6tumVVpVaFSVKtTqUqsHadOrCUJxejtKE1GUXbWzSevoZ/iXxL4a8GaBq/izxhr2ieFfC/h7T7nVtf8S+JNUsdE0LRNKsozNeanq+sancWthp1haRK0tzeXlzDbwxqXklUAmjwz4m8NeNfD+jeLvB2v6J4r8LeI9NtdY8P+JvDWq2GuaDrukX8Sz2OqaPrOmXFzp+padewOk9re2VzNbTxMskUrKQ1fgp/wdAapf2H/BGv9ouysrqa2i8RePf2aPDeppE21b3SNV/aL+Gi6jp9z132l7BD5F1EVZJoWaKRTG7irn/Br94k1XxN/wAER/2N59WmWeXRm+OvhazdQy40rwx+0N8UtG0qNg8kh3x2NpCjYfZuU+WqIFRdjM+Yf+Dkn/gjN8Lv2uf2YPip+1/8GfhxpOnftb/AzwfqHj3XX8N6abCb4/8Awz8JR/2x4z8JeLLLRNMvL7xJ8QNA8L22r638Kdehtx4iOu2cfgyfUT4f8RXcVv8Ax+f8EcP2lvij+1B/wWq/4J0eLvi/rJ8UeMvBviH4Z/CaTxldS6pc634z0H4dfAz46aX4V8TeJ9Q1qe41TV/EuoeHrqxj1jW75xea5PbLq95HDeXtzBF/rC+INKtdd0LWtFvlL2Wr6TqWmXiDGXtdQsp7O4UZ4yYZ3Azx69a/yIv+CEGiDw1/wW2/Y/8ADq3Fxdx+HP2lNS8M29zdmE3Utl4V+HPx58M6cbg28UELTLp2kWscjRwxq7IWCjNS4xcozcU5RUlGVtYqVuZJ2bSlyq6ur2V72Q7tJq+jabXe17fdd/0z/X0XoPoOvP8AOv46v+Dzs/8AGCf7MP8A2dF4k/8AWZPjn/if8k1/YqOg+gr+Or/g86/5MU/Zh/7Oi8Sf+sx/HKqEfEv/AAV/3f8ADiX9hQNz/wATb9hPnvz8Ol4H/wCrnjrk1/Vb/wAET/8AlEh/wTn5P/JoHwQ/9QzT/wDD9AO1fyp/8Ff8D/ghH+wnkjJ1f9hQgDk4/wCFcr1PbOR6+nfK/wBVn/BE/wD5RI/8E5/+zQPgh/6hmn18vwl/yLsV/wBjbMvwrno5n/Hp6W/2ah8/d3+fy/BOX398X/8AklHxM6/8k+8a9Dj/AJljVfp39+vPGBX8Kf8AwZm/ssLqHj39qb9svWdKi8jwl8OvhL+zj4A1GS+muH/t/wAW+GPDXxP+K09vYCNLeydfDWn/AAb0/wC0iWe5mV7yFvJiXY/91nxfx/wqj4mZOB/wr7xrknoB/wAIxquSfoOa/H3/AINyP2ZbP9mH/gkD+yHpe0P4g+NHgW3/AGlPFV81usNxe3nxwht/F/hlLh8CSZtH+Htx4N8PwPKSRaaVBGv7tEr6g84/cZjgE5x7+nufYdT047jrX+YX438Cf8P6v+Djvxr4L1TWPEL/AACtviv4q8O3Wp2F9Y7dK/Zo/ZF0+Xwnqb+GL7SroSaLqHxD8axarL4e1lprzUNJPxmXxJbHT9U0zStv95n/AAV+/a4P7EH/AATg/au/aE028jtPGug/DLUfCPwrWSyu9SNz8XfidPB8O/hjENPsWjubuKHxf4l0zUL1ElgWLT7G8uZriCCGSZP4Pv8Agzcg0zUv+Co3xWme+jlPh39jH4mr4ctgtrZ/akuvip8DdD1DVfsQLTm5k03R9La7aKSRI5r6R7hnluElcA/0nvg/8G/hX8APhx4V+EPwV+H/AIV+GHwz8E6XBo3hbwT4N0i10XQNGsLdFRY4LO1jjWa4mKma91C6M9/qN2817f3M91NLI+jrHxR+Gfhzxr4X+Gmv/ELwNofxF8b2mo33gvwBq/ivQdN8Z+LrLSEL6td+GPC15fw63r1tpkYaS/n0uxuYrRFZp3QKxru6/gD/AOCs8fiXwL/wdUfsI/EDxrqY8PeCrrxD+xTf+EvE+tTxaNpWmeBLHxN8SPD/AIvjg129e3trbRLPxXc6oviXF3HZwXPiLTF1TY2o6eJQD++jWNF0fxDpWoaFr2labreiataT2Gq6Pq9ja6lpOp2F1GYrmy1HTr2OayvrO5iZo57a5glhljYo6EEhv8rH/g5g/wCCc3hL/gmf+2Db6x+yxDd/DT9nz9rP4WeJfGtt8P8Aw/4j1Gz0fwjrVn4u0Tw78Y/hlomhpHGkHwt1C91b4ceMPDvhiW/u9J0m81TVtHsdMs9E8K+DbfQ/9PX/AIaX/Zx/6OA+CXUj/kq3gTtx/wBDAP5fniv4Zv8Ag9M8Y/B34ieF/wBgHxH4D8feBPG3iDRtW/aV0HUJvB3jbRfEUlloeraN8KdVjttTtND1S8ijhutX0O0mtJb2Hebm1eO1kBacMWvuB+4X/Bqb4mg8Rf8ABIfwPbwkbvDf7QH7S2jzhSxzJqHxT1XxYhYHjd9n8SQgYx8uCRklm/pDJwPxUfmwH9a/ku/4M3PF1vrv/BMD4p+HQs6Xng39sX4nWl0s2Apj8R/Dz4TeLbGS36loZbXWFfcSMyNLgDHzf1oN05OACGJPopBPp2B7/lQB/nI/8Erb3WviL/wcU/8ABTT4h3kVqljY63+3DdkwFlKx6n+0/wCFPh9o4WNtxd5LPwPcT3UiuAssqhFKt8n9hswD842qylM7vkIGMnoPy6jvjBC/yIf8EH1j8Zf8FUP+Cn3xLsYz9jlvPiyYpR8yrF46/bF+LOt2w3/xGSLRhtJ+95RODjK/12SFskL6j/PPv9f0yv4rx3UvnlSN/gwuHil6qUn+Mn/TPp8qusLF95z/AMr9b3X5W03IFjw7D5cAeuN2P5f596jnHcZ6YAznH44GefUD68ENYIyQX+926J/IHpz0HtxUOQWIJ6nKnngdxjB/mPbNfGxkkvPqv+DZ9PL7rs9OMea/l5X/APbo/wBdre9WjCx/MTjd0Htwc8d+eabJK7fKAxDHC/4ZJPX3HPbH8NpztwrKGXIKMq4IPYZ56fQZz7ZqKHZmRTnPJ6fxZHbH+Tz83BV+7/D16a7bu/8Ae/Nf/IqU7yU5brRdv6t5fONveqGNhySoOefk/wDrn/Pr1auxfLZ+bHC9uP1x69PzzitKUhVwBgtww/u/yHGfXnnpkVTERcMSpYFsZHP9Rj6YOPwpyp+8lD5db7eatZ+T+Qubm1vfp2/r+u5AYzLuDH5sdlHY9D1/PHGfb5oCvljB7d/84/Xp74zVhpPJzkH12Dkj3+7wPXnv1bA2xbUJ3N8oGMjsgxyT35/DP4ktWsf+vnmktt11vfzWm+oc3Lre3Tv/AF/XY//R/hzmD/a2wfkLc54/HPf8xnpjklu30SEyeUHPPJ+b/wAhYPzZznPX2OOdvJzqfPJC7gzY3D/Vqe5PTP8A47746t3mgQsVJGN7KArE8DA4HsDj1Pfp/Fzu1tfv6f1qunrY6Dq4YX+XDYCnBHRM54yRk5/Efrtq7NG5XBITDcLgYOexz1xx/nNLHG6x4IVR8nQ9D+mcnOMBcH6imTCYblwCqruy7EHnt+PTr78cUAYeofdbeQQ4+XnGU/DkZOO/sMZNcXcoGJL72y6BVxhDk9RL/nn8K7S6UyDlc7eBg7MnjnpyPz64Oetc7cRZO0E7ixwCm3uPr39vwPWh6Jvt/Xn+X3gVfDuhXmsa3Y6Vp1ubvUL+8itLaBFJeR5pNkcZ+UkYBJ5PAUnnGK++NO/ZY8b+APEfwo1rxFbPNo+t+K9HtLpRG5jtsXMUzQzA/wCthEIkhM2QM4U45Nc1+wf4CHjr9oLwws0BmttIm/tF1YZBliliihJHOcngAnueuPm/qX+JnwX0jxXZ+GreaygRNJ8m5iSKGIiO4hjEvmx+Vz524gdTnsf7v4d4leIS4bxtDK07U8Th5e2fb7N9Nb3Wl/klvL6TKskeNoLEv/n8/wCleK036P00PO/i58GPCWofAa1sbCyghlitIr+zkiiiM1tOY/3cw4PGD+XqRhvzb+DXghn8WzWd5F+8t51T5xkALJyGAx0565+9yRtIr9gdfiMPhSPSJnYCGyFsikg+YfL2YI+bkd/XuDwF+JvC+iWmieNb+9WNV8118xNgwxL4EnP0b5sdui5FfiGW8WVq+XZlh5VPbe2xEqtDV+emtvPv8tD6vD5G4Zhh8TCnpRo626vz133Su91ujn/+CKlkmn/8HMGm2kYVUg0v48xqF6Af8M1+HWwOnTef6561/pi1/mj/APBGSVJ/+Dmu0ljIKPp/x5IK9P8Ak2jw2Dg/UH6V/pcV/Z/DrcuH8jk95ZRlzfq8HRfn+f3n5rmN/wC0MdfR/W8Rddn7WZ/BD/we9nFh/wAE6/8Arp+1UPz0X4Qj+tfix/wWo1L7d8Pf2YlDEhNK+LLAHqA3wjtF98dP68dK/ab/AIPfeNP/AOCdf/Xb9qn9dH+EI9/8+nWvwh/4K83Rufh/+zeXbLrpXxX75BU/Ce3AI5OMYxj8vVvh+MIJ+IHhZJ7xxXFVvnlFD139PmtT3Mnp8+Q8TT/5908sff4sXJeX5/J2P9Xn4Rf8kq+Gn/ZP/BX/AKjOl1ifH74GfDv9pn4LfE/9n/4t6Ze618MvjD4L134f+O9I07V9Q0G91Pwt4ktGsdYsLbWdJmt9T02S6tHeEXljPDdQq7GCVHIddv4Rf8kq+Gn/AGT/AMFf+ozpdS/FP4pfD74JfDrxn8W/iv4q0vwN8Nvh34e1LxZ428Ya280ekeG/DmkQm41PWNTlginlisrGBWmuJEicxxKzkbQTX6ifLHg/7Fn7EX7Pv7APwduPgT+zT4d8QeGPhzc+NPEnxAm03xL428VeP9SfxP4tNk+vXzeIPGOp6trLpfTWEVy9vJeyRLcvc3AxLczM/wBat0H+8n/oa14N+zl+1F+z5+118PX+LH7NHxZ8IfGf4bp4g1TwsfGXgi+k1HQz4g0WO0l1XS0u5IofMubGO/tGm8tWjAnTbIxLBPeW6D/eT/0NaAP8Q3/govHcP/wUV/bYktJDFc2X7W/7YmqwSggGKXR/jt8WNUjlXORvja0Dx5GC6gc5r/ZA/YK+E9v8Cf2I/wBkX4NW1uLVfhj+zX8E/BU0KzPcBbzQPh34esr8+fIWkmMl8lxI0ru7SM5Yk5y3+RJ+0p8Lz8aP+Cv/AMf/AIU79i/Ef/goj8X/AIey/wCkXFp5lv8AEP8AbX1vwFcwG4tZIbiKOe38TSxTtDKkn2dptrKcFv8AaC02xtdL0+x02yiSCz0+0trC1gjGI4bezhjtoYkHOEjiiREGeFUDmgD8SP8Aguf8dovgx8OP+CfWlx3rW2ofFH/grT/wT78MR28YuxNqGm+FPjVpvxT1e0We0x9mhltvA0cN2Z5I4Lq1nl0+QyfbFt5/3DByPxI/I49/T/8AV0r+MH/g8B+O0nws0n/gl5pdjdrFeeHv2rNZ/aPuvsyyTanp+n/Aew8JI+tx21uGujZWH/CcTNNJCpJufssKZnkhR/7MNLv7bVdN0/U7ORZrXUbK0v7aVRhZYL23juYZVHJAkjlVwCc/N35oA/z8f+DpDwpP8GP+CvX/AAT5/aet7+707SvEXgj4Qtqk4a1lgS/+Bf7SEVnqtxHbtCJwT4S+NX2O6R5ZILhZYWhSKWCSSl/4IcEH/g5J/a+ZTlG8J/tfPH/1yfXP2ZGi/Hy2XPoc+9fU/wDweqfCqx1D4D/sTfHBClrqng74ofGX4Xtdo08FzLb+OPhbJ8RNOh8+J1jKW2t/B+2vLaOQeYuoeRNb7Wjdq+Bf+Dcf4g6f8Vv+C7/xc+I+mHdZeNf2ffjz4khbz0uWZtU0z9k2efzJk4eb7QZjP0ZZvMRgGVhXiTy3/jI8Pm8UrLJcbl1V2968sdl+JoK937q5MQ7WVpSbV+Znaq//AAnzw2t/rdKsl0/g14Sfr8Gvy6n+jfX8Ev8AweJZ/wCGkf8Agm5jr/wi3xS/9X5+zJ0/HHr/AFX+9qv4Lv8Ag8GjEv7Tn/BNSM9H8O/ExD64f9oH9mFeORz83/6s5X08Wr4XEpbvD1kvnTkc1LSrTfacP/Svn+X3noP/AAUn/wCCc2l/8FC/hp4H8PxeJ4fAPxG+GusajrHgfxdqGh3PiDRns/Eemw6b4m8M+INMtL7S9Ql0nVobawu4Z7C+hls9V0uxluINRsGvbGf86W/4I6/8FYPEmi3HhjVv+Cj2vXHhnVdMk0DVNMvfjd+2DqWm3Gg3dqdNvbC40S7+KDaVf2T6a8kEmk3MDafcwH7FLGLZilf186Z8PLSBIcW4Z1VDhl/2F6ccd/73qeoFdnZ+FLaPbGluF3soBVMkvxgcKDzwOOvviv8AMngzxU8SOCMqeQZRnWElleExGKqYejisuw2LnQ9vWqVqsKVWUfaKnKtKdRQk7KdSfJypvm/oDNOH+Hs2xP1rFYOpDETp041J061Smp8kFGLlFSceZRio8y6K0r2TP4/f+DcD4s23/BL3/grd+0R/wT8/aK1jw74fuPjXZ6d8FfDfi64nbSdP1X4m+AdX1b4jfA4pHd3NytjpXxh8B/EPxPb+F01G886HXk8J+EY7i91TVrdJf9HsEEZHT/OQehBB4IIyDwcYr/NW/wCDgDxt/wAE3PjT4x1bXfhj+0ZfaH+3R+zVa6j4W8RWPw++FvxA8b+BfiRJ4Wmur3T/AIT+LPib4OsYNG8GfFP4d+LFP/CM+MrXXZ18DX9xrfh3xLb29ybLUPDf0d/wRt/4OtPFXgTT/Cf7PH/BTiLxX4w8F6db3OnaL+11Ho9xf+PfCen2vkDSLL42eFtI02Kf4haFZ2XnQy/E/wAI2jeN7G3s45vG3hPxGkereP5/9D+BeIcZxPwvlObZjluMyvMMRhaX1zDYzC1cK3iIwiqlfDxqxjz4XEv9/hpx5l7KpGLaqRnCH4dm+CpYHH4mhQrU69CNSXsZ06kanuXfLGbjtUgvdmna0lfZxcv6uP8Agpp/wRm/Yw/4KleGo5Pjb4Qbwl8adE0m00bwT+0V4BsdEtfih4e0nTr+61aw8Ma0+r6bqWh/ELwBHqd9f3Z8D+N9O1bSrG51HUNT8Nv4e8QXCazB/mtf8FRf+CI37Xf/AAS18dWOq/E/wtpfxT/Zu1fWbO10D4/fCvwbodt4P1mO41JYh4X1u01nT9f1P4T/ABJvLEiLSfDnjOXW/Dmt6o8UfhPxr4wvGuPD1l/rpfDf4l/D34xeBvDHxN+FXjbwt8Rfh5410ez1/wAJeNvBeuad4k8L+I9Gv4lltdS0fWtKuLqxvrWVGHzwzsUfMcqpIrJS/Ef4b+Avi/4E8W/C/wCKXg/w58QPh3480HUPDHjPwV4u0mz1zw14m8P6pA1vf6TrOk38U9re2dxE5BSWImN9ssLJKiPX171079v6X5/ceYfwR/8ABFb/AIJVf8E2PiTf/Db9uz4QfGf4k/GzXvhjrtlqlt8J/H3hn4V+Crn4P/FeyslutKX4h6F4G0SLUNT1rw+Lt9Z8JXtvrU/grxFHLpfivSZdYjtNNng/rRuZYoYmZsbiuc5zzkn25JOf054NfxT+NvhNqf8Awb7f8F2PAXw3+Hep+Krn9kH9qE+DLPStN1vV9Q1GMfBf4y+NbnwXHpGv6nqb29nrfiP9nX4xJY3Wla/eXup+I1+H2ufab5b3XfFfibVb/wDsn1i+d5ZU3ArA0xYqw2ttJGVK5yCFyvbGCCAc1/nv9I7Lc/yjizATzHNMVm+AzChOpk9XEqlB4OjTrf7RgOXD0qNJyozqU6nteTnq06lJ1XKcXKX7VwG8NjsHWWHoU8NUoSisTGDk1OTh7tW8+eXvxjJcrk1GUZct00j+P/8A4K4i/wDjr/wXS/4Ju/s622nDVdNg8Q/szWd7ZXxRdPDfEb9pa18W+I2mGd8kD+DfhTci9GF3MbaKPcrSyQf6OKjAx6E4x2GeB+AwK/zvfhBFrP7QH/B2z4F05rO2utC+DPiaG8Et9JJcC20z4OfsneIddkktoFtXjt5j45+KmnSWMbzBIZ7d7s3C3DQ27/6IQzgZ64GfrX9reHmEeC4G4Uw8viWR5fVmnup4nDwxFS99b89WV07220tY/Lc/qe1zrM5XvbGV6d9rqlUlTj+Ed+p+K/x/+MWnaX/wXY/4J3fCCbVJftesfsP/ALdl3FpKSMsKXXivxj+z1q+nX08e7ZM81h8FvEEMOVLwi2lZWCSyBv2oOcHAycHA9T6V/GJ+2V8Wrqw/4O4f2BbNfFD29r4T+DPgf4Tyab5wS1gi+Lfw4/bA1rV9LnTBBudY1FvAs65IcyLp6IQryq/9na5wM9cDP1xz6/z/ADr7I8c/x5/+DgvwNN8Gf+Cxf7dHhXS7bUdItPG/xl0jxxqFvcwOlrrGjfFLwR8LfihbX0DsiwXdu/i678RS2k0LO9ncWMke6OdHLf6Mv/BuV/yhV/YL/wCya+Kv/Vq+Pq/i6/4PD/hhJ4Q/4Kg+BvHaaXbw2vxf/Zy+DfiIanbk+Zdat4A8Y/EjwHrq3q7UH2gafdeCo4nQuGtraMP5RVPP/tF/4Nyv+UKv7Bf/AGTXxV/6tXx9R/X9f1+QH7P67/yBdW/7Bmof+kc9f50H/BpeM/Fj/goPyQP7L+BuSOo/4uf+0H+fT+ea/wBF/Xf+QLq3/YM1D/0jnr/Od/4NMWx8WP8AgoMOBnTfgZyTjGPih+0F+fXpx+mG+d4s/wCSfzD/AA4f/wBTMP6/123O3Lv98o+sv/SJf108t0pfVv8Awa08/wDBU3/gqgfXR/HP/rYfxa+n8vyr+8qv4Nf+DWnj/gqb/wAFUB6aP45/9bD+LX1/n+df3lV71J3pU33hD/0n5fl9xyz+OXa5/n8/8Fuv+VnL/gnt/wBg/wDYd6f9lf8A2iPp/P8AKv65EhyD82V3Hg8Z5P16d8gemeRX8jf/AAW6Gf8Ag5y/4J7D10/9h0ev/NYP2h+3ev65kkwZIynAZuT/AL3bj+v4d6/LPEW31vLbq7+r17W/6+w/raR7uT/wqv8AiWr22lbb0f8ASOK+ISkeA/Hg/wCpI8ZYI7/8Uxq3bB/Tdn0HSv5uP+DJ3/knv/BQD/sYP2U//VZ+Na/pL+Ic6ReAvHrzOqAeBfGb5Zo4wif8Ixq3Y9vc4z05wWr+bT/gyd/5J7/wUA/7GD9lP9Phn42rp8N5uVPNk5K6qYR8ia9yLjX5brRrms7X7O19WZ5zFr6vNx5ZS9opebXJqnezXovu+1/c5X8iX/BWP/g158R/8FNP22viZ+13Y/tpaB8HLL4g6J8N9HTwBqH7PN98QbnSj4A8E6d4SNw3iWL4y+D4bsao9pLf+Suh25tVlitjLMYnlf8Artr88fjv/wAFZf8Agm7+zD8UfEfwT/aA/bH+Cnwm+K/hGPRpvEvgTxh4jk07xBo0XiHRbDxHor3tr9hmWMaloeq6dqdrtkbfaXkEh279tfpx4Z/mWftY/wDBLK6/4JS/8FR/2bf2adX+NGnfHgajrn7JHxMfxTYfDu4+GlqkXxB/aJXQX0M+H5vGfjd3fT0+H8ssupjWE+3x6tFGbO1exZp/9eGv8xb/AILaftW/s5ftef8ABbj9l/4mfsy/GHwX8a/AEWh/sM+FJPFvgXUH1TRU8R+Hv2oPFl9rejNdtDEBf6ZZ+JtAuLuHaGjj1W0JzvYJ/p00Afzz/wDB0X/yh4+Nn/ZXP2WP/Wivh3TP+DV//lCF+yZ/2Mv7Sv8A6038W6f/AMHRf/KHj42f9lc/ZY/9aK+HdM/4NX/+UIX7Jn/Yy/tK/wDrTfxboA/oXm/1Uv8A1zf/ANBNf5Hv/BF7/lPZ+zf/ANnifEX/ANM/7S3+f/1V/rhTf6qX/rm//oJr/I9/4Ivf8p7P2b/+zxPiL/6Z/wBpagD/AFxR0H0Ffx1f8HnX/Jin7MP/AGdF4k/9Zj+OVf2KjoPoK/jq/wCDzr/kxT9mH/s6LxJ/6zH8cqAPin/gsArD/ghD+wlkD/kL/sKdOTj/AIVymM+5B7D8q/qp/wCCJ/8AyiR/4Jz/APZoHwQ/9QzT6/lX/wCCwJ/40Q/sJDjB1j9hQ5ycn/i3KHOMf4Y9D/D/AFUf8ET/APlEj/wTn/7NA+CH/qGafXy/CVnluJtr/wAK2Zf+n36/i/vPRzP+PS/7BqH/AKSz9I/Fnh628W+F/Efha9lkgs/Emg6zoF1NEAZYrbWdNutNnkjBIBkjiundASAWUAkZzU3hvQNL8KeHtC8L6Jax2Wi+G9G0vQdIsoV2Q2el6PYW+nafawoMhIre0toYkUH5VQDnFaF9fWmmWV3qN/PHa2NhbXF7eXMx2xW9rawvcXE8jc4jhhjeRzjhVJ5xU8bpKiSRsGjkRXRh0ZHAZWHsQQR9a+oPOP4df+Dxr9orxJ4ltf2M/wDgnt8N4bvWfFPxL8T6n8c/Efh3StZnsdR1fU0vY/gp8BPDzWCtaafqFrrnxB8ceJNbjbWNSgsbLUfBen3X2e4uI4TF+XH7JGn+Ev8Ag37/AOC7Pwy8O/E6/Tw/+zZ8Q/h9pHgG++Jni7VYUtbH4f8Ax28IeBdF1nx9qet3X2W3tbHwJ+0V8OIrfxiH3WfhvwXey6xcS2On28av+uv/AAeO/s36xL8Mv2Qf22vA41Gw8UfCf4ga98Ete1zS7eJZtMh8eQ2vxF+EniC61NI/tWnf8I58VPhza6XplzLKbCK68aSx3KIlyZG+FP8AgqT+1b/wTA/4KDfsefs4H4qfHr/hWf7XN58GvA/xh8Faj4P+E3jL453fw5k8d+H9H1Hxx8JfjRYfDq1nt9N0DxxPZTo+jXWswaxomrWWheObTS7yzs1sdU8jHYzF4XH5bGnQqV8HiXiKOJdKlKpOjNqlKjWkoqTVOPLUjJ22nfVqMTqo0qdSjiHKUY1Ics4c0lFSS5uaK1V5O6t6brU/0RYJ4rmGOeCWOeGaNJYpoXWSKWORQ8ckUi5WSORGV45FJV0ZXUspBr4V/b5/4Jufsk/8FJ/hQ/wq/ak+G1t4nTToNT/4Qb4g6LKmg/FH4Yalq0UMV/qvgDxpBFJe6T9vW0tU1vQryHUfCvii3tYLHxPoOsWCi3r+BH/gi1/wc1/G/wDYutPA/wCzL+2BoPjX49fsuade2fh3w34y/wBKvfjL8BPCkVpLFZ2nhi61G1il+Lvw80aaK2tbLwH4kvrPx94d0mUQeC/EXiW2tdI+Htl/ozfs3ftOfAX9rz4SeF/jn+zf8UPCvxb+F3i+28/SfE/hW+89IbmPi80XXNNuEt9X8M+JtJm3Wut+GPENhpev6LeJLaanp1rcRvGvrnKf5fP/AAV8/wCDdX9rH/gm+2t/F34dQab+0T+yfbSarfTfFjwz4C8N6d4g+GWmrOH0yz+OngyCyvJPDkKwSGGf4n+FTdfDa7lt5LjX7P4Uwy2VvddV+wf/AMEt/wDgnb+2v+zT8Ufi74Z+OXxmk+Nvwf8Ag94x8S+Of2Zte0T4R+DNY0bxVYeDtZn0bXE8R+EfDNvr3iv4Y33iKzhfT9Z0G4067M9pP4Y8VxaXqI1TSa/1SL6wstUsrzTdSs7XUNO1C1uLG/sL63hu7K+sruJ7e7s7y1uI5YLm1uoJHhuLeeJ4ZoneORGViG/zXv8Aguv+xPN/wQ2/bh+E37aH7Dek/wDCHfA39oSH4nbvhOv20/Dzwb4yl0STTPi/8H7KxssNY/Cn4i+EfE0fj7wv4RmlfSfC+seFdcs9FtrfSNB8E6X4e4sfQxOIw7hhMTPC11KM4ziotTUXeVKfMnaNRLl5o8s4v3lJWcZ7UakIS/eU1Ui00021y3XxK1ruPZuzV0904/sX/wAGYd7bt+xP+1VpUcoae0/aU8FarPAAB5a6z+zV8Ho1mwMKBPcabdIABgGA9OK/sR1a9h07S9S1C4Ypb2NheXk7jqsNrbSzysM8EiONjyV+vFfw8f8ABkt4ok1L4Sft7+H5J4iNL8dfs56lHbK6h1W6+HPinQRcGEuzjzIvDNujyfceWNgucbF/tQ+MV9Hpfwl+J+pzSiCHTfh343v5p2ztgitPC+qzvM2OQsaxlj9OOcV2mJ/ni/8ABrXrf/CY/Gz/AIKG+NbQ3D2epaV8J72OaeN4pJE8XfFf49eL7EyK4yk0+m3dvdtG3zqk6s23cob+xpyQ5+VsH5uMcc/iO+M/ofu1/JP/AMGomh+R8Nf2yNeCqsOoeIP2ctJWXYOZtN+FV7qM8e7AJw2uKxXJAZt3Vga/reZGZeP8fbp7Hnv/AFX8J4zlzcSY7l3jHDRXywtJvfRayfb8nL67LFF4Kinu/aP/AMnl6bJdX91yF5AFPPzbhtB9Pfpn8uT6c1XKEfMWbj+H+Hnj/wCvUvlquNw6jZnrn1b/AOt3z7UkwJVtjLjkdc+nr7dM49Mjo3y8pc1tLW87/pH+u1m5dkeXXm+W/wCn9fcyHmRf4+vTqPzwv9f61WdDGGx8mP3inccEHsQev5rj9asLMU6DJ6Nn+XTj6/N9Bn5q00nmliARx0C8fnn9Mfj1FHu8umlTro/v6dtNdtNGEfiX9dBkhaThuv0/H26/5znFQLL5XzAEMrd/4gOuRyT19eO2c5oWUI6uTu3Nt546Y68tjsMfzzimyvvk3YKj73XPQfTnrjt9DkbXGXL70buo+n477fco9/Ii0ey+4Y0nmtnbtLDnp/8AEjPuPl9iOC0RUOpIcBsbBuOdnfB9Ae3/ANY0O5Urj5g+CNwHyEjqPX88/XNNJ2biN7My8tt446f3uc8f0PWolUjze+/69dG3fXXv13NXDrF/1to+b1+z5eZ//9L+Jow5lZlG5fMzheMuR2556ewHYHNddpCMABgkg7xt6+Z6dSDgEZ4A+tcdFODMqRgRqGGCPlk/m2ce/PYZBAXttH+ZAWA77CuTt7DPQdOOnX0xWcpJx9f036f/ACN9/I6DqwsxiyPu7vnbj58+/JEw6dPXkVWuZGw3OMqPvH9ARjkY5I49h1W7GhWJGfKk4GGP157Zxj079s1j3RYF0Ub9pkcY6DHfPbpnp78YNZgZ08oBJBwQv8RJZfcDjBHODjjvjFY8uWdQSCGA27Qskme2Tgnn6jgdyK0ZjycKr+/TLHqTwf5fTHNVEBMqqvyGRvlVOP3n5Hsf64HSoquSpt66JvXayX+e9vnsCV9O+n3/AHfn9x+0P/BI/wCHcd34s1nxhdxKFSaO3t2dBlYo1DPk/wB7zgxzn2Oa/op1zUIIIdwwBGNhY8BE6xDHY8AA+vUj7tfkD/wTV8NP4W+F8N8UEUuoL9oclAfMeb94T5uOvk8DqCWHUHNfpLrup3E9pIMsWCHHMn93vyB0Puc9h0r+BfFXNo5lxZi4Squ1CTod9fL4kmrdFvsnb3f2XIsunSy7BOFN7Xd0tbpaK+muvn96OC+IHiiC2tLg+aUZA5ABA2nk55+gHb35IDfBmqeOpk16VoJT5bmT5ed7yF8YB7Z/rgdq9f8Aipql5H5wO8jbsKZbYnyH94fc55Oc+yk/N8oBjd3zyMqs24ooI/eKQOZR24J9uvGetLhzBwp4TmbVXTXqvk/de/l5Oy+L6iGG9krtumnd+q+7o7vR/Lqev/8ABCu+k1H/AIORPD15KWLz6L8fHbc245H7OmjpycLk4jH0xjjq3+nNX+YJ/wAEEV2/8HGfhRck40L4/cnr/wAm9aZ9f5/nX+n3X94ZAksiyVLZZTl1vT6nS9P677n89ZtpmmYrtjsV/wCn5+v5/efwP/8AB77/AMg//gnX/wBdv2qP/TP8IK/BH/grUG/4V/8As5klsf2X8VsKwAI/4tPBn6/X5R7c5r97/wDg98GbD/gnX/11/aqP5aN8Ij/n/wCtX4kf8FlPDb6H8Nv2ZJGTabrTfizzjGSvwjtXIxwOQwPH1+bkt8JxhKK4/wDCyLfvSxfFXKu9sooN9HsvTfzue5ktVQ4e4pg1f2kMqs/5eXFzd+vTTb5rQ/1UvhF/ySr4af8AZP8AwV/6jOl1+f8A/wAFsf8AlEh/wUY/7NB+N3/qHX9foB8Iv+SVfDT/ALJ/4K/9RnS6/P8A/wCC2P8AyiQ/4KMf9mg/G7/1Dr+v1E+TPzd/4NPGZ/8AgltrrOzOx/a9/aRJZiSSTr2jMSSSSSWJYnuSSckkt/TI3Qf7yf8Aoa1/Mz/wadf8otdc/wCzvP2kP/T7otf0zN0H+8n/AKGtAH+Tv+yf8KLP4v8A/BzNpXhnUFtZrK1/4Ks/HbxXc2l3H50F3D8M/jf8ffi8Ekh2ssgjuvh1aSR7wyR3YtJjtMayJ/rErggEdDz+fPv6+v51/m/f8EUvhbpnjr/g53/aS8V30drcT/CX4vf8FN/iNZRT2sdzJb3Y+NOs/DO2uoHdWNnP5XxUv0iu02SBFuLdXIndG/0gqAPgz9s3/gmL+wx/wUJu/Bl/+2H8AtG+NN58PND8XeHfBNzq3inx/wCHZfDWmeOZdHm8TjS38F+K/DJgv9Ql8P6PJDrGW1fS3slOlX1iZZml+49I0qw0LStN0XS4PsumaRYWWl6fbeZLN9nsdPtorO0h82d5J5fJt4Yo/MlkklfbukdnZmb+c3/gu/8A8FxPij/wSL8Wfs9eG/hv8Cvh58ZB8ZPBXxT8W6xJ448WeKvDdxozeAvEXw88PaVYaLD4Z0fWDqNxrdz44k3JeraRRtYri6Tcwb9tv2P/AI7j9qH9lL9mz9o82GnaVL8ePgX8Kvi7daVo89/c6VpV78QfBWjeKL7S9NuNVtbHU57DTb3UriytJ9Rs7S+mggSS7tbadniUA/D7/g67+GFj8QP+CQXxC8R3tndXP/Cnfjd+z/8AEgT2dp9rfT7K5+IVj8Odc1G4Co8sNlZ6D4+1Ge6uI9qRIge4ZbdZGr+TP/gzuRo/+CoM6OCrp+zR+0ojKeCGXXv2clIPuCCDX98//BZn4XXHxl/4JUf8FAPAFjpS61qd9+y18Wdd0XTGliga68QeCfDV1438PiKWeWGBLiPWPDtnLbmaVIjPHEJHRCzV/BZ/waDyQz/8FV9XubaF7e1vP2cv2mb+0gkx5kNpf+If2cry0jk2vIu9LeeJX2uy7gdrEc0Af6gtfwa/8Hf3/J0f/BM7t/xI/iPz6f8AGQv7L9f3lV/Bf/weCyeV+07/AME05DwE8PfEtyfQJ+0F+zC2f/Hfb9MNjidMNiH2o1f/AEiXr+X3mlL+JD/Evz+X9d9j+ohpLSCKMkq7eXEeWx1jX88kH05/NsjUdehtoJjET5ghcqyDlWCMQQwGdwIBGPukDKscBfCdR+KFkiAeem8Rx7m8wdPLTovzdeuQ3bnPRfPdQ+LdhG/7y4jCiRHk/e4Qx7hvXqMEoCBweeeMV/kHic1oUsTJRqLSvJy0vZKo209X01/zTvL+lqOXTnBTle/Jbd9VprZPy236q3u/zF/8G1/7Bv7Jf7eX7SP/AAUEtf2yPgf4W+PjeCrXwlr3hlfHNxrs7aLrviv47ftD2finUrRtP1XTmFzrCaDpaXzS+YJGtPNCrLLO7/16n/g3v/4IyYP/ABgB8Fun9/xl/wDNQP5/lX8t/wDwbUfFTTf2f/8AgtJ+3T+y54sns/Dkvxk0r4yaV4D068v7SB9c8QfCf40az8VfD1hpUM80M19Lqfwr+JuveI9MgtYJ7qXTtC1q6khgtrN5Jf8AQlI3KRnqCM/Uda/11y2vSxOX4HE0XGVHEYTD1qUo6xlTq0oThKLW6lFqS8mfzZiYSp4itTknGVOrOEovdShJxad9bpqzufwF/sPftIa//wAE6/8Ag42+Lv8AwT8+Ad2fBH7EXxh/aO1D4Ot+zmNQ1jUfh94K1e8/Z+8P+OvB/jf4d6dqd5qP/CIeKrfxtbz6V4gutMMKeNdH8Wy2/in7dN4b8K3eh/36DOBng45Hoa/lo1r/AIIJfGXxB/wXqg/4Kb6n8VvhU37N9p8SNH/aAg8JxxeKl+MZ+JOh/CDR/hdY+An0UaR/why+FU1jRLPxtL45Pi2TUpYU/wCEdHg0SyPrS/1MD8z6+tdpgfwe/wDB6v4dfSG/4J6fFPR7+7sPEVm37SPhmOaKO2khii0eL4RfEzR7pfOik/0u01/wrb7FcSW72st0jws7o6fvR4b+Iema74G8O6xJcRNd6zoHh26nZGCFJ9U0ewuGnCjgL5szMBwAvHYlv54/+Dz/AOIMHjr4vf8ABP79mHwxq+h3njW08NfFzx7qPhqKT7T4jgHxa8V/Db4Q/D+ae2iuA1np2tz6b46ksGntydRufDl1Hbyxi1m3/e/g3xhqnhXwtLJqM0j6R4L8F3k90ZJGSMJ4a8OSSHzpWYCKMmw2u7bdm7IIwS38pfSYwVPHV+BKVlKosRnMeVK8+Wv/AGVTgtFze9Uso263+G7cv1Tw1c4xzuVm6caeEb1sk4/WpN9NIxu3Z9r2ufnL/wAG7llrnxu/4L+ft9fG+9jtn0nwT4U/aeu4bp2lvZ1n8W/HbwJ8LPDMFvdGAxxbPD3wx1eZZPOjka2uXtIFeGKV3/0Ga/hI/wCDLzwbr3iC/wD+ChPx+111ZtfuvgT4Kt2S0kCzajq918VfjH4jkF/LK7SPG3xB0W2kt8B/Lit7qV5TOiRf3b1/UWAw0cHgcHg4JKGFwuHw8EtlGhShTilotlFLb7z8xxNV1sRWrN3dWrOo2+85OT79X3+8+CPHf/BMD9hP4mftV6D+2944/Z+0LX/2p/C+s+Ddf8P/ABfn8SeO7bXNK1T4f2dvYeEp7XTrDxVaeHVi0qztYYDZvoz2V+it/advdtLIz/e9fygft3/8HFvxO/ZH/wCCrkP/AATy8OfAb4Q+LfBFv48/Zh8I658S9f8AHfi7T/FWm23x5vPAVvrt2mg6Xo1xoj3fhODxot9Fa3ep2az2cVvLK8rySwJ/V8M9xjk/kCcH8Rg11mJ/B1/wesfCnUZof2B/jRYwiWx8/wCOXwi1yQWQZoZrmX4bfFHQHOoBwyOIPBPihI7OSNlMEl7PFJEUmSf+hL/g3K/5Qq/sF/8AZNfFX/q1fH1fCv8Awd2/CG48f/8ABMjwT4+06SeLUPgv+1V8JdfmaKS3WKTRfiNpviz4L6lbXMc8MhliuLj4gaYq/Z3gnhlSOYS+UkqN91f8G5X/AChV/YL/AOya+Kv/AFavj6gD9n9d/wCQLq3/AGDNQ/8ASOev8uf/AIN2P26/2S/2KPib+2ve/tSfGbQ/hFbeP7b4WWXg2TW9K8S6kuvXfhf4i/Gq91+C2/4R/RtWMLaba+INHmla5EKOL1BC0jpMsX+pNc28d3bz2swJiuIZYJQpKsY5o2icBgQVJVzhhyDyMcFf57T/AMGu/wDwR/EhlPwd+MhaSXzJSf2qf2h8yPLMZJHdv+E/3uzyO7u25XZ2Zy+9i9cWY4ClmeCr4GtOpTpV1BTnSajUShUhUXK5KSV3BJ3T0b8jbD1pYerCtFRcoXspK8XdNar53Pwr/wCDTzxZ4e8df8FJ/wDgph4x8J6lHrHhrxR4L1/xHoGqwxTww6loniH9q34m65o2oRRXUUNxHFfaVqNleRpNFHKiTqkqJIrov99tfwa/8GtPw98L/Cj/AIKlf8FSvht4KtLmw8JeA9A8aeCPDVleX9zql1a+HvBX7YHxY8IeH7e51K9eS91G6g0PQtOhu9RvZZr7UrpJtQvZpry5uJW/vKrrjFQjGK2iklfsvu/L7jJu7b7u+n9P8/vP88D/AIOBviZ4G+DX/Bxj+xP8VviZ4gt/Cnw/+H3g39jDxb4x8S3lve3VpoXh3Rvix+0Tc6nqtzBp9td3skNnADLIltbTTFfuIxAFf0DfBH/grT/wTo/aR8e2Xw0+Cn7V/wAM/GXxC1dbl9D8ITS654Y1fxA1rb3F7c2nhy38V6Noi69qMFlbXN9JpulPdX/2K2uLoQCKGVl+1P20v+CJ3/BP/wDb/wDjLB8e/wBpf4eePvE3xKt/BHhz4eR6t4X+NXxT+HdkfCvhTUvEWraHZTaL4J8S6NpdxPZ3/ivXZlv57aS8b7c8ZlMSIlfxD/8ABeL/AIJ4fsvf8E1f2+P2AfDH7KHhrxl4O0jxjB4N+IWvJ4m+Jvjr4j3j+KfDf7RvgTRdI1LTtR8c6zrV9pDWmnX15CsOmzW8LvO0zRly5b5fifh+hnGHnXlXr0MRhcLXWHnT9m4KTXOnOMqcpSXNFXUZQbWikm04+lluMlh6tOlyQqU6tWCmpJ81rpNRadrtdWnbztyn9Rf7Un7SEOq+G/GfhTwxqBi00eE/FcWo6hasJGuiuhagkkMR4PkNLtx0z0+U4Nflb/wZKHPw5/4KBHOf+Ko/ZeH/AHz8PfHa4/DGP/1VB8cPihZ+GPD3xAmnngtI7jw/riu/lgXETNp18iwDJVRlpgB944PA/uv/AODI9t3w2/4KBn/qbP2ZF/748BeP1/TGK/GPo9ZnmGbR4yxuPk5OpjMrVGPSnCNPH3ittm10+65+ieJ+VUcpWQ0KEVGMqONk31k+bDav79L/AKH91H+f89f5fnX+Xv8A8F7fA+hfE7/g4q+Ifw88WXGup4U8V6L8ANP16Dw/rF5ol/cWdt+zrPq0Sw3tkRNE0d7YwyAr1QzJlRKxr/UIr/MN/wCC5lxa2v8AwcleLprwKbZNL+A5lDzSQJtP7NF8g3SxMjIu91yQy5Hyn5WYN/QGcVKtHKM0q0JShWpZdjalKcNJwqww1WVOcWrWlGSUo67rofnOUU6VbNsso14qdGrj8JTrQl8M6U8RTjUjLylFtPyPzN+OvwK+Ef7Mf7Wf7HGr/C9/FH2XW/H/AMP9b1x/Fuu3/iG4Wfwr8d/hXLarDdanI7Jbx289yXjjKRMcMQTuav8AYiRtyq3ZlDfmM/1r/Hl/4KQRvbS/AX4keGHtlm8I+JfEGjwxxXgvYU166bRfGHg9LtLmVDDaXOv+FEtbqQTpbNbTtHHPFM0cif6zf7KX7QPgj9qv9mz4HftG/DnVIdY8GfGb4ZeEPH2i3cMbQtENd0e2uNQ0u7tXzJZanomq/btH1bT5ibjTtSsbqyuAs0Ei143BWNxGYcNZZiMXXqYnF8laniatWXPVlUp16sf3krK8uRQe2zW+h63GWBoZfxFmGHwtKNHC81Kph4U48tNU6lClL3ErpJSck7PdN63Pxp/4Oix/xp2+N7/wx/Fr9lh3P91f+Gi/h0uT+LAcetR/8Gr/APyhC/ZM/wCxl/aV/wDWm/i5+dfcv/BYT9h3xx/wUU/4J8/HP9lX4YeLfC3gj4l+M5fh14n8A+IPG8eqv4OTxT8MfiX4T+I+naT4mm0O2vtY0/SPES+GZ/D1zrOnadql1of9qJq6aRqwsn0266j/AIJRfsZ+I/8Agn5/wT5/Zn/ZI8Z694d8T+NvhN4M1C38ba74ROov4XvfGHirxTr3jXxInh641ey0zVL7R7HVfEVzpunanqGlaRd6pa2cWo3Gk6ZLcvY2/wBUfMH6EzHEMp9IpD/44fr/AC/Ov8jT/gijdLe/8F4v2Z7pBhJ/2vfH06gHOFn0D9pGdecLnCygZxz14ziv9S79tf8AaO8Efsjfsm/tCftIfEPVV0nwv8IfhT4x8XTyCa3hu9Q1S10e6g8N6BpP2qWCKfXfEviO40vQdBtDKr3ur6haWseXlAr/ACi/+DfWaWb/AILKfsQtPJczXQ+Oun/2hPeXZv7m51d/gx8ZZdbvJb0zXH2v7brMl/eJcCaRZo50kR3RkagD/YVHQfQV/HV/wed/8mKfswe/7UfiNRjnJb9mT44qBxnqSB/h1r+xUdB9BXw/+3R/wTv/AGXv+CjPgPwV8Nv2p/CvibxZ4U+H/jV/iD4XtfC3xB8ZfDm+sfFEnhvW/CT3smseCNW0fVLmF9B8Q6vYvYzXTWciXjtJC7KhQA/gf/4KR/8ABRb9iv48/wDBJD9jv9m/4R/Hnw941+N/gzWv2QE8UfD6w0bxba6nozeBvBcekeLBcXep+H7HSnOj6kRaXHkahL5shBtjMhzX9v3/AARP/wCUSP8AwTn/AOzQPgh/6hmn1/Lb/wAF/P8AgiJ/wT4/YM/YX8PfHj9nH4d/ETw58SIP2lPgd4Oh1LxN8cvix8QNLTQvE2sanDq8A8PeNPE+saL9pljtYlt74Wn2yzIZraZCzbv6kv8Agif/AMokf+Cc/wD2aB8EP/UM0+uDLsvo5bQnQoSqThUxFfEt1XGUlOvPnmk4xh7qfw3Tdt29zavXniJxnNJOMIU1bRWgrJ7vXvr91z77+McfnfCT4oRb2j834d+OI96sVZN/hbVV3qwwVZc5DA5BGRjAr5d/4JifHy9/ai/4J4/sW/HzV7vTr7xL8S/2bPhJrfjW50neNNPxAg8HaXpPxAgs4pbq9mtobXxnp2uWy2lxd3FzaCL7NczzXEUkjfUvxf8A+SUfEz/sn3jX/wBRjVK/mO/4NAvjxN8QP+CZeu/AvVdQivtZ/Zn+MeqaNYAXbTXK+B/jH4Y8P/Gnw809vLNLNbQ2niDxb4z8PWuBHbOugutsi+VKid5ifr9/wWT/AGVH/bP/AOCZv7XnwJ02xN94x1P4U6p44+GaR31xptwnxU+FE9t8Tfh19nv7Uie2Nz4q8K6dp87KGSW0vbm2mRoJ5Fr/ADov+DaT9kP9mr9sX/golc/Cf9p34SeHvi58NLj4DfHHxrpvgvxhNf8A2FdU0y8+Blz4T1WRdH1HTmk1bTtH8V6ynnrIzSG8uDcecYY/I/1kpESSN0kVXjZWV0dQ6ujAh0ZWBVldSVYEEEMQQc4r/NU/YY8M6P8A8Et/+DpTUPgZr934b8K/DjxH8ePjZ8HPCzXM0nha1g8GftT+DpPib8BIrWDUFlsr9Jtb1H4f/C2zEF5awahrlvb2+nq14n2NwD+xn/iHu/4Iyf8ARgHwW/778Zf/ADUV/LP+2d8TNH/4Ibf8F2Pg94T/AGD9H0/4A/s7+PvBX7H+n/HD4F6Fc+INQ+FvxJ8OfFH4s/EnwZ8QdT17wvqOuXNuPG1h4dtLPWPB/jeAf294Z1fw/a2lnLL4d1rxToOuf6FgOQD/AJHt9QeK/le/4Kwf8EB/jH/wUM/4Kcfs6ftb+Fvi78L/AAt8CdC8PfBnw/8AHPw/4nj8Vx/EzTIfgd8RvE3jmzn+GtlpGkah4c8U/wDCeaR4ouvC93D4i1rwifCV3AmvxTeI4m/sigD+qFTkA9QeQfUdj+Iwfxr+TX/g8a8GWOuf8Ew/hl4rdriLVfBP7XPw4bT5YZI1jNp4y8AfFHwTrdrcxSRSedDdadrBUCMxSxTJFMsnyFa/rKVQqhRwFAAHoBwByT0GB19+M1/IB/weYfF7Q/C3/BPr4D/B+TUdKi8UfFT9p3S/FFjp11qcdtqMnhj4Q/Dvxx4g1/UrPTtsk9/bx65rHhDQZpQIoLS+8Q6aJZfMmgilAPzQ/wCDKDxN4f8AC/jX9vKLWNc0XRY9e+GP7NOou2qarp+mi5utH8e/tC6Su37bPB5skNpcQK2NxjSWEHAmiDf2qftyfF3wPon7FX7XusWHjvwgb7Sv2YfjzqNmsXinQTK91afC7xRNbpCq3+5pnmREiRQzySMqRguyq38NH/Bth/wRa/4J9f8ABSH9lL43/EX9rL4V+KfHfiz4f/HXR/Bfhe90b4q/EPwNaWHh/VPgl8MPGt9BJpng7XtIsby6uPEHiHUp5NRvYLi/+y/YdOW5Flp1tCn9GY/4NR/+CKVoftUH7O3xChntv9Iglh/aN+OUU0U0P7yKSKVfGgaOSORVeOReUZQwB2gMAfij/wAGqkMH/DIH7R2oLHH58/7QHguxeUHEjRaf+z38Mikbd9kct1KycHLPJjIzt/qRLKI1ALBhx14OT9Bj2wT17c1/HF/wa1xT+Hviz/wUH8DaVeagvhPSrb4X3Nnol1qN3d2UF3pnxQ+OXhK21JIp5HjGpnw7o+maXd36qtze21jai6eT7PFs/sWLjDLw3JHI+57DB5Pvhen3SPvfg/GSdHiHHSk+ZP2E9NNHh6WnXVfj5bH12XJywdGUdHaaet38b6+7bfbl+66cqxkLNtYEqW+VhyPcjOCDwMf1wBUToS23c25uvXp0+v8AL8TxU5wHVR8zn/a9ent3/u4+nSk2kuX5U+4z37cj/Pp1X5a0lUptP2ie7ta1166/htZ23l2RjzX8vK//ALdH+u1veq4fkMAoA2sy9SPSTnjPOfvccHrmq+RH8oTr3HH4ng+vq3t0NaD4AZmbLYHLdP69Sew+ueKqMepJ/HH9KctJWj/Fe91e1121S/4HS6Q48zly6Kldetull7r9fev6XtKpMYvnOCp/2P4iOg6EdvqPVsfNXXD/ADHdn/a6en4/0q6V4XcU+b7g7k+h/P0/Ff4omRQocDBYf1xj2/XPfopWWpKT/e6+SSWtvN/11d0alXbl1bBCAHhj9/t09sfgDUkke3EgI52b0znf9emOAPXn0zUihW3AnJ6c9fy45znIB9uM0xgpOzP3uP8AJH+e1UYy5tOb0W36bf15n//T/hy+1uJzkugJIyOfn3fhwc8HJyOcda9H8PXMkrRncSD1yOrIB0wSCT6YHrk4xXlRVhM3zHaWJOR2IHQ9MDA4HTPJGCG9A8NynMIxtwTh39s5J9z+HH0AbJtP2Ouja1WvTyOizW/+X9f13PUgd8PDANxhy2A0v/TMHGPwGOe3FZN07KWGWLYY/e789eDnnnHAzxnircLfulZiv3c8n5Oeo9h+XTPqGz7uTLZUckdeB/T+q+x5ysAZ00jY7fNyWxg/h6Z//V1NdJ8PPD9x4u8Z+HfD1nG002qatZ2yxgZkcyzfvgBj0G7Hf0XFcfcuSVDPsOSoPWMYxgEj2Jx+favvn/gmx4Cg8c/tJeH5bm2a4t9CX7Z5bxiUG5lk8uKUdQBjgYHfvgV8/wAVZjHKsizLHVXZ08O0rb35Zba9tFtbdt293uy7D/WcbhcPvtb1butL9fWWq7L3v6Vv2dvgDdeEfhroOnW0LLKthaPJ8jAb/JiJHHU8kHhT37GvpHSfgzrWteZFHbElfkIkG3eeOvyjgk8nvxwcA19VeCPDyQaTp9tFaBY4LeBdrInlgiIZxwM/xjnPH519DeB/D9nDNkww7vvkbR8nGOh/Dgkg9s87v89aWB/1l4jnUrVK/wDteJlWbTXVvXp10366N7n7N9aq4PDLkf7ugrWut7W/l166u1kra3i4/jz8Tf2UPE+pW0v2TSYpnbzBmKQ8kx5/dCROeeeSM9OMHb8pWn7GHxAgu5ZrnQbnYD8rRIj9W74HU4wRuOOuTkqv9M2rL4esGzqEcKIzYG4IBz1/hGMn0GO+QD8uWo8E3AOxrXgNlQI+mD82MnkbjkYz05O4V+sYfgz6jTccNmNk1rGtp8l13T2j57OxzUs8xUmualJ+u29r+WyvrbraOvN/Ev8AslftKeAv+CWf/Bde7+Pn7SHhP4oJ8PPBum+P47m38EeER4i8TX1j8R/gfo/h7wzq+k6Tc6ho8Wo6RPq4u7WfUIb0W8cllf26PLdWN3Bb/wBbn/EXj/wS1x/yJX7ZI45/4sLp3H/l/wCP0H41s/F/9kP9kX9oe50W/wDjb8EfhN8WNQ0GG4ttC1Dxz4O0HX9Q0m0u3je6tbDULu3N7bWdxJBDLLarObdpYklMTOoevIl/4JU/8E3JVIT9jj9m/Jx/zTXQGYH8I1+h9e2OTX9BZRx5h8BlWW4HEYDF1a+DweGwlSpQdGVOpLD0oUfaR56tOVpqCnbl927ScrH5zj8ir18ZicRGrBRr16ta0lNOPtZufK7Qa0crXu776bR/m+/4OPf+Csv7N3/BW67/AGMvD37J/hD46f2z8MdU+MWj61Y/Er4d23g+bVdX+K8Xw70TwfpvhtbfxHrLateXmoaLdQzw4t3h325QTeY2yH/gvP4S1nSvgh+y5r76bJ/Zuma34/8ABWoTRMhFv4i8TfCWa20awYuYkL3kuj6mIcN5kxtXitoppmSN/wCnfwH/AME3v2Hfhh4r0rxz8Nv2X/gN4M8Z6FJJNofinQPh14es9c0i4ngktpbnSr8wST6ddtbTzW5urRorryZ5o0kVJHRvc/HH7Pnwx+JfhbVvA3xD8G+E/HHg3X4Bbax4W8VaJY63oGqWyOkiJe6bqMU9tOYpUSWFzH5kEiCSKUOA1fI8R8UYjNOKuEc8wmVyeF4XnmlWrSq16UcRiHmmGp4SoqSj7SnF0adNVIOUl7WcuSXsoxc5ell+Vxw+W5pg6mIvUx6wyjKEJOFP6vUdWPPzcrfPJ8rsvdS5tdUfOfgH/g7X/wCCX/hzwN4M8P3/AIM/bDa/0Pwn4a0e+MHwI0+WA3umaJY2N35Mp8fx+ZCLiCURSbE8xAsmxN2xflb/AIKQf8HOn/BO39qb9gr9rv8AZz+Gng/9qyD4gfGv4AfEj4b+DZvE/wAF7HRvDkfiHxXoNxpemya3qyeNL59N0xJ5w93eLaXLQwqxWJyc19Ef8Olf+CeuVP8Awxr+zrjvj4a6GeO//LJsY56jnpzj5di0/wCCUP8AwTvhdS37FP7Nkm3DYm+Fnh6bJBzna0Lq4yBlXUgjg5XcK+qq+LOGpKb/ANXM6lyp2aeBae1tfrfd9UvR2bj5S4Xqvl/23C+9/wBff/lXT00vtpY/Jj/ghD/wcE/sO/8ABPj9h/UPgP8AHXwr+0fqHjS++Pvxg+JNvdfDr4VWXi3w4/h3xvqWm3ejKNXbxZpmdQjS1mjv7ZIHS3mXYs8o+av2f/4i7v8AglqSAfBH7ZYG5ckfAOwJADDJx/wn3OBzjjOMZGc1iX3/AAS8/wCCeOp3l5qd/wDsSfsyXd9ezy3d5cf8Kj8Lwme5mYvLM8Vra28CvK5MkhjiTzJGaRsu7FufvP8Aglp/wTyG7yv2HP2ZEXtj4T6Aenv5TH9Oehz/AA8MvGbCwinLhbP07XaX1F2fZf7XFy9fLW1zVcJVm7LH4Ra21dVff+5+/e3nex/Ob/wSH/4K5/sXfsZf8FLf+Civ7Zvxo8N/Hq78O/tB658VYPhHZeC/hfZeJPElnovxQ/aV8ZfGK7/4Syxm8SaefDl0vheXwOr26Xd0JtRfUrQGWKyiuJf6az/wd4/8EtB18FftkD6/AXTv/ngD+X5149qf/BMH9g1o444f2H/2X1WDckez4PeGIZNrOX/fSxWyS3JyeHuWldFxGjrGFC+W+Iv+CZv7FVjbXF5B+xL+zL5cQdgqfCjQI84BIHfjjg8Z56cBvMxHjzgMNTdSpwlxLZJu0aeAlouqf16N7+mnW9lzdFPgmvUdo5nl683OsvT/AJdPf/h0r2j/ADgf8HE3/BWH4Df8FM/2m/2cPiH+z7pXxV0v4c/Cf4SzeFtYtPir4TsfBGq3HibU/ijbeKdZOk6f/b+qxXdlJo+j6BE941zFi5XZNGkMJlX+hT/gm3/wdAf8E7/2Yf2CP2Rf2d/ip4Q/aof4ifBL4B/Dv4YeMJPDHwe07XfDsuteC9Dg0S4n0XV38aWD3+m3C2qT208lnbyCNxG8O5CzeF2Hgv8AZR+APiHXpfAn7L/wJ+Hev6nompeFNZv9B+HHhqxvNU8Oat5Y1TRZriSxuJJNI1NYYV1DTg4gvUiiW5SVETZ803vwX/YYneQ237IH7OzFiWzb/C7QUUktkhFSJUQDOAkcaqvRcKF2+NR+knlVarUiuD+JFRSgqdVfUJSnJ83tFUpfWoKkoNLlkq1XnvK/Lyo9in4W5rVpRqU8dgm5Xun7ZRS05bSVN3urt3hG2lr3bP258d/8HaP/AASj8beCvF/gy/8AB/7XpsfF3hbxD4YvFufgLpU1s1tr+j3ulTpcwP49ZZrdorthNEVIaPcCr52N/Gr/AMEC/wDgot8Av+CcH7c03x6+P2mfEjUfAVv8Dvip8NEX4a+ErTxP4hk1jxFL8Hrbw/eT6Dca1pMlpbXdt8ONVutUaa632FxeWkSreK7y1+o9z+zp+yBfOBZfsi/AeIHHKfDzR0UF+nHltkgHIXjJ9Dwuvefs1fs7+JNJ0HQL/wDZz+CsuieGIb+38Pac/wAP9D+z6NDqV219qP2JY7WKSNL6/ka7uhJJK8ty7zyFpG3N6S+kLkzlBLhvPEnK03Unl8HCPK7SiliqnM+ZKLjJwsm5c3u8sn/xCzNklz4/Axcl7utd323/AHCa05ndN6q1tUfvp/xF+f8ABKr/AKFL9sH/AMMXpf8A8339Pyr+Yj/gvV/wVg/Zr/4KuftBfsPXf7K2g/GC2l+HQ1/wVq9r8UfBNl4Kub3xH8QPjJ8EtY8N22iRQ+ItaOpRyW/g7U1unXynt5pLVRC8bTTQfQFr+w7+ylOymX9m74OYKfdj8DaSpJOOf9X29/WvVfh1+yZ+zz8N9etPFfgH4KfDTwl4ns0lW11/QvCGk2WsWUc6GKdbO/Fu01oZYyY5GtzHIULIX2EpUY36QGRvCYmFHIs3dedGpCnGq8JCm5yg4pTqQr1JRhd+9KMZO2qjKzQUvDTMYVqUqmPwfs1Ui5ygq0pKKerinSgnL+VO131jq4/d2o/GrUptyQ3Eh4GVUSHBUBThskHBXAxgHOcHpXIXXjvxFqJbZJIqODtMpkA9yRuODjkZ/XOGwrLSY8cqEynpyOciTA7fiMe/IroINKUFFAU5wOM5PoRnnpj09+gDfxhHIsqpznUlh3ecpSd1fWWt9bX1stopfK0/1ueIaSiqm0Ulfy0Sf/gNvLu9VH8Vf28P2Yv2hfCvxn8Nft//ALHGr+JtE+PPw8utA8Va5Y+A0h/4TWbXPBMJj0L4jeD7I2tyniTXIdGUeG/Fnha9tNTXxZ4WhTSDpmsadc614c1/96f2Cf8Ag79/Z98Y6Ba+Av8AgoT8LvG/wT+Knhy0m0/Xvip8KPB+tfEP4X+Ir7RbXTItQvdf+Hejf2j8WvhR4kvr6fUvtHhT+wPG/h6wk0u+8rxkDssk5+30ouwIXcRjk/Jg57YXORwcgqc9wSNvz78X/wBhz9mL9oeee7+LHwR8G+LNfvLeO0k8WW9hLoPjN7eGSVoo18X+HJtK18CGSeWSHfevsd2cD5nVv6X4A8bVw3lmCyLP8BisXgMFSjh8FjMLKm8VQw1JKNLD1aVadOFaNKmlTpSVSE4wjGEozspx/NM/4JjmeJqYzL60KGJrSdStQq83sqlSTblUjOEZypuctZRcJptt3jflP6PLb/g4h/4IvXWnRamn7fXwkjgltvtQgudK+INrqKoE3GOTSrjwdHqMdyACPsr2ouGfCLGzFa/MT9tb/g7z/YW+DfhO7tP2QvCPjv8Aap+I18lxDoet+INC1/4I/A3S5I9Ts7D+0tc8WeOtIsvHHia3+zTXusaXpvgDwLrMeuwaZLaXGv8AhyG6j1SL8otJ/wCCIn7HGrHZaeAviakOzIjHxp+JnlKvHyFf7d+VRkgDcc+2SK+xfgH/AMElP2Uvgbfad4i8CfAHwdbeJNNu5L6z8W+LY7zxr4ts7mdZI57+x8QeN7rWb20nlinljLWLW+Ed0jVFdhX3+YfSN4IwtGTwmFznG4rlbp0HhqOHg5W0jUrTxE+RN6c0KdW1m1GVoo8fC+GHEGIqRVWpg6FJtJ1PaTqSSfWNNU43dtbOcPkfjL+yp8Af2tv+CjX7YV5/wUj/AG9LjX7q8uPE9v4p8AeE/E2gHw42u6j4eW5s/ANp4e8CX/mz+BfhB8M43W/8FaXcs2o6vrUdvrZv9ZnvPEPi/wAY/uz+1T4G8d6D+xh+1drPgzRtS1Txdb/s8fFqfRNBsLK81PUdW1NvBeqxQCy0+y/066vAjyzQ2doPtNzJGsUCNMUFfoT4V+H2g6DBHLcwg3qt5qeaP38mBtx5xzCcAYAyMLxiu2ldGkMRjMcICxmMomMmPmQ5yJpDECNpGxsnOc4r+aOJ+Ps14z4nwHEOYUIQwuW4nC1MDlcZSdGnh8Pio4h4d1NZTqYhw/f1ZQTk2lBQpwhCH63lHCmDyLK8Tl1CpKdfFUa0K2Lt73talJ01UUb2jGnf3Ie9brJylJy/lr/4N4/+C2/7En/BLz9lD4t/Cv8AaE0b9onxB8Q/iJ8fLzx3aXPwx+Ell4o8KxeCNJ+GXw78AeEgmty+L9NkutRu4vCl/qN8q2kcERvIVg3oC7fvu3/B3h/wS12n/iif2yRkED/iwunjnHr/AMJ+P649OawNT/4Jmf8ABP8A8Warq/iTX/2NP2bNd8QeIdSvdY1PVbn4UeGo7rUdUv7iS8v7y/aC1gjkvb2eaW6up0jzPO8s0m6R3Ncdq3/BK/8A4J8Wkahv2I/2bIo2ExNwnwv0FQrun7lc+V5pHGduBgnPPSv6fo+POR1KEaryXOE+Vc6X1NpS6pP6xHmV1bmtG+jcI35Y/j9Tw9x8azpxx2Dk23Z/vo6ed6TS81zPtpvH+H3/AIKdftv/AA7/AGoP+CqHxi/bN+EeneO7LwR4w+NPw28f+FrXxfotl4e8cTaH4B8KfBPQ7KG40Eare/Z78an8O9Y/s+0+2yxvFNYuk+5rpLf+8uL/AIO9f+CWQij8zwb+2MHEce8H4E6YcPsG8bh8QAGw2Ru24bqAAcV8+6j+xb+yH4W8DeLPht4c/Zj+CenfDrxVe2Wq+MPBtp8O/DEXh3XdR0eSCTSbrVYJ7B/tl3YTQx3WmTyP5+nyqslm0L5avj3xR+wt+wbYC5WL9kf4ARuVMkZg+H+iERQxxuSA0SeX5xZo2I6FO2TmvCxf0mOG8DOpHFZBnSSnak6UsFUdSFlacoyxNP2cufmi4J1FaKl7T3nCPq4TwmzXHOmsPmWBvOPve0jiIqM7/CnGlPmTVrSfI7u3KuVOW9/wV7/4OMP+Ca37fH/BOz9pT9l3wD4X/aisviL8QPDXh2/+HGo+Kvg3Z6LoOneO/A/jfw3448NXeoazbeNryfSIVv8Aw+sTalFb3LWolMhhdQy1L/wSD/4OUv8Agn1+xX/wTi/Zb/Ze+MHhb9p27+JHwk8Ha9ofii48F/CCw8Q+F5rvUPHXinxDbPo+sSeMtNkvrc6frFpuka0gKzeahDbQa8o8O/sCfsf6kCy/sm/AiS2kkYwXB+HmjTAxydAZGRl3W7ZJLDBTggg4X01f+Cd37Dunxtc3f7KPwGuZ49kMcZ+HegtbTXc0qFpHSKJEWERO5RGVIV2AIF4FefD6VXCdSfJDh3iJ6fy5d/8ANz2WrfvbaLW0PRr+Cmc4bSpnGUqfWKeL0X/hLvfzf6x/TD/iL0/4JY/9Cb+2N/4YbTv/AJ4J/l+dB/4O8/8AglgSAfB37YyjemT/AMKG07gb1ycf8LA5IGeON3QFcgr+b8X7A37CMVyiP+x7+zwIY1jmD3Xw60YtdvIWBhEMcRkO1vm8mL/lkM5B5XVuP2AP2AbaZkuP2R/2e/3KrcXKJ8M9BiZI8eY5aPmZRM2ILSI+UV/eGTlWNetS+klw3Vp+1/sDPox7ShgL7eWPXn1t6ankVPCzMqdT2bzTLW72unibf+mHv6L1Pyj/AOCOf/BZv9k39iH/AIKDf8FAP2kfjJ4d+ON38P8A9oy68eyeArfwP8PrLxJ4ltB4n/aW+JHxc0weJ9IfxHp66M//AAivi7S451F3cmPVUvLRVeKFLh/6Zz/wd6f8EsR18GftjD6/AfTh/P4gL/L8sjd8AR/sK/sK+IYLWyP7HP7PFsLKyuEtEPwp8PxT2tkbyW7iQyLaozR+ZcTzztK891LJNL9mKhytZ19/wTy/YSmlhiX9kT4BRIsTySS2nwv0WKO48nO7aX/eQ5Ix+9HI/gbB289T6TfDFKEZTyDP05N+7GOAlZX9298atWlzW6Xt71uaW1PwmzWrPkjmeWrzk8Sktr3/AHD1Tdt1fe2p+iH/ABF6f8Esf+hN/bG/8MNp3/zwa/lo/wCC4v8AwVQ/Zz/4Kk/ttfsR+Of2Y/Dvxeh074aaRovgzXbH4meCrbwhqt3rV78c/CHjGH+yrO01zXDdWMej6ReSXd2XT7MyEvGYUlmT9hR/wT2/YQ3xo/7Iv7PlvFLHHNul+G+hSTR7zwjFF8kptIP+t87PODjC/Lnxm/4J6fB/4c6hF8RfgH8JPh14M1e1Elv9l8OeFtP0y+SKVQ8v2O6t7Y3cZlhJElvDs3qoWRlTcK5Kv0neFcVCvhKeTZxSrVaNSFGpifqcMP7SUeWKqVKeJrSjFN68sZuy0UtGerlng3mcsXh5V84y+FGFaEqvs44mdX2cZJy9nGVCnFyaXuqU4q+7jax5B8R/FuufGLVNa8PW+mi5S8j1OK2tHEy/aN9tcrbQyypIFlEcjx7bgqqcKeQhNeS/8G4H/BYj9lr/AIJN+Hf2vPBv7VHhf45tr3xR8V/CRtBtPhv8O7bxW2n3Hw40Pxj4e8U2PiFL3xFoc2lX9vqmpQRRW5jmZwlwX8p4tjfQfgiQeGtWa71iH7FNZeXbMruY90ezy/LBwJY7yeXOIR0CdTwK7PxP+zR+yl441y/8eePP2f8A4VeKPFGrxwXWo6vrvg7Rp73UJhDHGt3rNyIFmvp1t4oovOnM1wYokRpG2qV+S8PfEjLuAVj6NfLcTjcDmiwtShVwMqXtFXoe2TjKFapBShONb4udSg4W5ZKXMfb+IfB1biiplywNelhquAVeDjiFPlqwr+ytLmpxlJSi6KVnCUXGd9HG0v2xf/g7+/4JUxg7/Cn7X6Y/vfAzSl/9C+IA/X8ccBf4qP8Agpx+218Jv+Chf/BYPxT+1D+z7Z+OdP8Ahx4p0n4ZW+nHx/4di8N+I7QeBPg//wAIrrtzqekWeq6ulpbPqamKxc35+1RSxE7GlRG+nf2rfgl+yH4E0R7+D4JfCTwsb4uLG30TwRpUet6ywjyLPw9Yw/LZwb9huNZvvNEUIfyYRId6/AHws8F+HZ9dudV0LwjovgjTHWPNrpVjb21xcWkDOYRe3Oz7RNE7/wCt8x03/OVjX7y/0PhePMHnmS4jFUsuxuHp18NVjy4n2MWlUg4Pm9nUq9JN9V063Pxz/U3FZVmmFhWxmFqSo16dWaoOpJr2U1KzcqcErtL5O++h9yeEPgh4e+P/AMP/ABR8N/Ghlmt/FOmxqdXgt4/7R0C5iKz6NqukpN8kepWV1HBqEMcgMU9sjwTK0MzhvXv+Ccn/AAVs/bF/4II+P9a/Z9+PHgbWfjx+x/4x8SRa5pWhHVpdFg0nUdY1BG1rx98BfGutRTaBputa1Y/adW8cfCDxbd6fpmteIbeXWTrPhTWLzV/Evjb279lbwUzWS3VrFtjvWW+1S4HmyTR28KxRWtrDFgiOSdE6hl8m3POHNfYHi74f+EfH2i32i+NPDGj+JPCt/A2nyaH4l0qz1rRLsICrNc6fqFvcW0oAXG6VS4BOHBwW/C14tVuAs3rU50P7RyjFTUq2XRnGniKFT4frOEqNOCk4RSqUqnuVOVWnTkry/T8x4JwvF2GpSVf6lmVCnyUcTyOpSqU1zSVHEQTjLljJtwqQ96HNK8KiahH95vhB/wAHPH/BG/4p6NZX2uftLar8EdcubOwvJ/B3xx+FfxH8Ha1Yi+W6AQ6rp/h3xB4L1Rbeayube5utC8VapaQyrGrz/v4GaH4yf8HPf/BHf4V6DqGo+Gf2h/EHx98QWlpf3Nr4H+A3wq+IXi/XtSkslg2W6axrOg+GPA2lm9nuobeyute8WaXZTy+aEnZbecp+OX7Ln/BC3/gnn8Z/D2sePPG3wY8SaTdanqZW2j+HXxV+Jnwz0Mx20W2aW28P+GfEVtpUSlvlDW9tEu0ABTjLfafgr/ggB/wSq8GeIrHxPL+zjqPj+90x2ks9M+LPxd+KnxL8LiVsAyXfhTxJ4om8P6iwUFQuo2F1GFdwEXcS37hlXipw/m+AoY+hhs0pKvTVSNGth6MZq62co4idNpNW0nfyV1zfiuZ8LY7K8bVwNathakqUmvaUpzlCSTtdc1KEk/JxfyPwX/ah/bk/4KAf8HL3xo8Lfs5fs9fDTVfgH+xf4M8YXOp+Irp76+8T+DNFl0jU4xp3xJ/aF+IGl2um+FvEPj/TNDu7TUvAXwJ8J3monSdZvHvLG/1y5ey+J3gTyD4teBvgP/wRM/4LX/sW+IrjwZ43P7PfwN+H3wQ8Y3uu+EvDNnr/AMQfiUlr8OvjZ4E8c/EC7022fQtP8QeMdX8d6za3nioWM1vaaWt7YWrG2jbTLN/7r/h98NfAXwp8IaJ4B+F3grwp8OvA3hy2Sz0Lwb4H8P6V4V8MaRZRKqRwadomi2tlp9qoQBcpBvYAB3brXm/x1/Zh/Zy/ab03RtE/aJ+Bnwq+N2leG72bUPD1p8TfBWieLV0K8uIzDc3Gjzalay3WmvdREx3ItJ4o7heJkc4K8X/EQKjzKNephZxy6FKpTWHhOLrSlNxarzbtGUly8qpqSUIynaUm+Yn+xoKg4RmnXck+eSkopJP3Ek27N6t6NuK/vI+Dx/wd1f8ABLoAA+BP2zcgf9EBsv6ePQPyH5Uv/EXV/wAEuv8AoRP2zf8AwwNl/wDN9XrZ/wCCSv8AwTB27h+wN+ys3y/w/CHw38x7YHk4HOezdec4+aE/8Emf+CYq8H9gX9lTHTP/AAqHw3n/ANEHH45zjqMA16v/ABEXLrc31DHcvfloW/8AT7f9dNznWR13dKrT8tZf5L838j8C/wDgu/8A8HA37EH/AAUG/YesPgR8CvCX7SWn+NLD4+fCD4lXF18RvhRZeEfDaeHPA+pald6yp1ceLdSC6hIt1DHYW8kCJcTNsaeIfNX2T/wTg/4Obv8Agnl+y1+wX+yJ+zn8SvBX7WNx8Qfgp8APht8NvGU3hf4J2ms+HZfEXhTw/baXqT6Hqz+M7F9R0x54Ge0vGtLczwsGMKEEV+nOm/8ABKr/AIJoaNqNlqmnfsGfsp29/p9zFd2Vyfg14TuDb3Vu6yQTpDeWNxbtJDIBJG0kMgSRVkVC6Iy0x/wSc/4JjEFz+wJ+yixc7j/xZ7wyoyxOdqpAioMnhUUKOAgRRiiPiNlsr/7FjVZaaUbt66f7wrbLW732D+xK2v72n98v8v0ffraPz14//wCDtD/gmL4l8C+NPD2n+Bf2yBf674S8TaPYmf4CWUUH2zU9Dv7G08+T/hO38uE3FxEJZNreUm6Qq23Y/wDKt/wbr/8ABX/4Sf8ABL342/HyX4/eFfifq3wk+L/wX+Gfh+6/4VR4as/GfiTTfid8KtSvYdCu9Z8PjxBpcMFlqGjeI/GOmS388w1KJNM0OB7VbZmZP7LV/wCCS3/BMUqxb9gf9lQbf+qQeHP/AIzx/wCPfyNdl4p/4Jtf8E+/HNl4T03xd+xV+zHr2n+BdBj8LeD7W++D/hAQ+HfDcM8t1Boeli1063eHTYbm4uLiK2keVY5rieVNryybheI2XXSeCxkU7tuXsU12slVle7842Wut/dP7Eq/8/ad/+3v+Db7vvPnf/iLq/wCCXX/Qiftm/wDhgbL/AOb6v5DP+C8v7dv7Pf8AwUm/bX+An7Qn7COh/tE6T8TNb8EeDPhN4h0Xxl8Px4D1rW/id4U+Ik83wZu/BNzpHiPUNZvvEuo2njLWNNtZtKvrLVNM1nQPCV9p8kN1Zxarpf8AaQ//AASb/wCCYkY5/YE/ZTbcO3wg8N8euf3P/wAT1OOma7b4Xf8ABPP9g74I+OdE+Jvwj/Y8/Z0+HXxA8NPcy+HPG3hT4WeGdN8S6BPeWk+n3V1omq/Y5brS7yexubqya9sJbe7FndXVslwsU8yOp+IuX2koYHFynZ8il7KMXK10pNVpOKfVpSa6J2tJRyWq2m6tPlbV7c17deiTfbRfOz5vxn/4J8/8HW+s/CWPTv2Yf+CsPwZ+Kei/FX4dQ6b4S1343eDfCb3fjv7ZZWtyJrj4/wDwGlg0PxZofiC3hj0eC68X/DbTvEeneMbvVI9aHgnwnZ3MLXH72+HP+Di//gi/4k0e01iL9uv4caKLqMO+leK/DXxL8Ka/YyYBktdS0LXvBVlqVjdQsfLmhntwUlV4z86Mq8b+0f8AsU/sjftdW1tF+0l+zx8LvjBd2Nld6fpfiLxZ4Xs5PGGjWd/5H2yDQvGlkLLxVoy3BtbUyfYNXg+a3gcKHgiZPzkX/g3c/wCCWsREVl8IvixplmPltdP039pf43pZ2kSDC29vHL4vuJY4UUBY1eaVwqgb8j5tcL4h5VUglisPi6Fa3vRpxhWpuXXlnzwk9f5qcdO9k5KpkldSfs6lOUf714y+a1Wnr6JXPfv2qv8Ag7I/4Jk/BXwnq918BLz4mftdeNYmurPSNO8A+Cte+Hnw3TUI9Lnvre48S/Fr4raZ4X0Oy0E3i2uk3d34U03xprUV/dxw22g3LLIIv5cfFHwM/wCCiH/Bw78Vfix+2r+0jD4j+HP7P3gH4X+OI/gX4W0DSrvRfCVxaaR4evvEnhH4U/s96b4os5LjxyfFXipdM1T4kfHDVrG807xHLbWcOlst1Y+GPDHw4/qA+Cn/AARU/wCCZHwC12LxT4Q/ZT8F+JvFdtqVnrNn4m+MOqeJfjXrOnappstvPpt/pUnxL1jxFY6XdafNbW81nNp+n2rwTRrMCZv3lfp7DBb2awW1vFBb29tFHDbW9tHHbwW0MQ2wwW0MKpFBFEoCxRRIkUQGERcAN5+aeIUeTkyrC1OZySdfEqMeWO75KUJVLuSTSc3FR/llZ82uHyb7eIqJx1tCF3fzbai0lvZLXurJS/iu/wCDdf8A4Le/se/8Exv2Y/jR8Lv2ifDPx91fxF8RfjJ4e+Ifh26+FPw1s/HOgnQbX4LfDjwRdR3uqHxTpQttSg17wtqkUliIpnihEX2l4bkT20X9Bsv/AAd0/wDBLt4pFXwL+2bl45FH/FgrHGWRgMn/AIT0jGccgce+K9r8ef8ABNf/AIJ7fEjxTrnjjx1+xX+zR4r8Z+Jr2XVvEfijWPhL4Xn1bXdXuTuudR1S5is4ftl9cv8APc3UiefcSEyzSPIWri/+HUP/AATMI2j9gz9lheD8zfCHw7n/ANFe47Ae453d0fETLXFOWDxilZNxUaTSfZSeIi2r9XCP+HpHKWS1o7Vae+jfMrrTW3LK3pfTuz+e/wD4NabbVtc+JX/BQD4kQ6Brdl4Q1wfDHSLLVNU06WzhfXL74jfGjx0dB81i0DaxYeGPEeianqllDLLJp8OqWBuMLeWry/2GhV+bk7W9OO5+mfp8vvu+9Xm3wo+DXwl+A3g+w+HfwV+Gngj4T+AdLnvLyy8GfDzwzpXhXw7bXmoTtdahejTtJt7eCS9vriR57y8nWW7upWLzTsRmvS3AYHy94wfm5A2+vck8/THpX5vneZwzjNMRmEVKhTq+yhTpyabUadNU7ys2uaXLzNX926ScklKXtYahLC4V4dvncLttdeaT0V+ba9lK/T4XpywHdHKcDI+9n+ecfh3796SV0++gwzLyPUjv/EB16Y+pbqoxjBwx+fPpn+Z7de3XknHygaMjlsEcn/P09PpXjy0lU/rodfwxV+nyv6fF19e3S5Wkf5MsTwYzgjnp0zgc/h+fNKIxt3HYePug5Plg4xnvnuAufrjLTsFkHIOCMbT0P1554xj7v65qF1UL1KhVB27j+hBGPTv7lcU4xcFVk+vT81fX77Pvpaxm7X92/wDXa2vf+rlQyR7/AC2QZ/X19vp0/LNNcAjhBt78dP1Gc9eh9T0psuQ24/Nnsv8Aj9B6d+9Lv8z/AFZ27Mb8Jn92MeuM4z2HucZUIo1LqpyU9Wu1l0162bS2v99w5Yrk3bvrf7nfV3f5ee8qm07twX8Nvf8Az7c9eM0kiEDcpBZf4eBnPfPzY/Lvxu/hkaTy/lIL4/i6E/4A/jz9AVjkdABlcsv68n8yT15H4YBZxfuLnt7Sz89fv/K9vPRC55d/w/4f8vvP/9T8v/iL/wAEXvA149xeeE73WdAldpHgjtrmWe0TEf8AqzFN54ERPPAUjoMEZr448V/8EoPjD4SaQ+HtbsdYhjUhY7u1e3uM+gni82PjgjFvnGOuCa/rVjkBVcE9m68KO4AJx/3119Oc1SurOzuVxJbRSjbgF44/nI/A49OR6dK/y1yP6SnHOXezjicS8XSpW/ju7slpZvW19Nbd+lpf2fmPhhwvmD54YL6po/4FvTVcr3727bNI/ir8Wfsn/HjwUJF1XwJqV5BCNrXOlkXcUh/65N5U3Tn5YD756V88a9oev6HMYdY0TVNKmjYFo76zuLWQDpn97AgAJBxgtn6Cv7ntY8DeGb8bbnTICzHf8qo4Ab/WjJGcjpz17beS3hPjH9mP4ZeKUnjv9B0q5MySqTdWULvjJ/vxE9eByMc46iv2LIvpaQq+zhmuA2aTdG97+Wie+/rra7Uficd4HUpxqVMvx3s3r/s9Z99vspar+67dLas/ihuZX8xOQ4PBzyCM+nykkZ6ELn2zX9Jn/BCj4E2+sx+IviZqtuGF1qn2HT7h49xFtp6YkliJCsB57Pg5xuUjjhm7v4if8Evvg94oF1PY+H7fTbiVspLppktHj4z+6MDkfMeTng4IOMlq/Sb9i/4W+Hf2ZPhxZ+EdEWSK1so3G6eTfcPPNIZZpZsk+ZmYjc2MHnG3Nexx5478NcT8OLAYDEqjjMW068atv4T8/ds07Lo/vSPnsF4YZ3kuLeKr0qWKp0rqj7K722fVvTfW621P0x13xFpfhnT/AC4ljcxw7FPCKeMg/wB7PfHPIxno69b8G9YuNet5dRmDBT5pCjuN+IpAPU4GM5z0yetfnx8QviPfzmRoVMybs4zjJ9scDnrnJ6Z6sF+6/wBmbzZfBFldzxmF5rVSyNnJkH7zoc8jjrj7vHXFfmPANSOKzuCo1aFWjToupfd69viat213Te7Zpm+DxeEwrliKUouq7LSy3ej1bun8temkjxT9szxbrPhzRfO0e/ls5o3dy0L7OYo2YADkZJ5Oe/fHDfhrqH7dfxR8Pa/eWEetXUtvazFFaWEOH7knMq5IwBkjB7AYIb9hf24Lk3Fk1uCd4jndge25SmenUg8c+wHU1/Nf4r8P3DeI9UlaNpI3vZ2Xafn/ANaefw9u3XoK/Vqjp1MbX9rVdk+l18Latb5387abn654XcJ4TNcvVXFYL62239lPldrrX89Iq663vH9EfDX/AAUN+I009varcJd3M7ptjKShn9j5RJHt068Y5DfZ/hH9p3406zZwXg0mApNHHMGYSDcmBxn/AJZ8ZGCp5bgkhhX46/s/+C5tY+I+jwNatJsLzHKDyyDJ5Ixgn8cn+LnFf0kfDj4XWFn4esvNsLdHWzgV1McYOfKGR908k9fvZ6cVyVaeLxNf2WAq10qb+LXX/K+yafTb+bo8QsqyDhv6vR/s2gq1S+lkn6PZ/c5W21s2eD2v7TnxYtQBd+Ho2G44Mc8hzH6nMf8AntXU2n7XPjC35u/DF5tH3/LlzuAGP9k9OeB7cfer3i68CaWiuJNNt28s/KBFGVz1zngnn/Z9ju4DZY+HOl3G4nS4GJfLjyv9XkjgYIw2Of4sdMDHzdkcBn0G+Sfq7XTVtL6LX0S2trZc349LF5JXk/8AZ/Yq+tnv0ttor9lZ67WXLwNp+2ZcR7Bd6Dq0O77xRS/l8fy7YPTt3rqbL9s/Rdy/arfU4cL1e0fC+xxsJ9uR7BfurZk+E2gyM3/EthQFXYDZk8k4Bypx7YC+pDVj3HwY8PThitiqsf3ezysbPxwR2OeD656BYc8+ot8ylVt5WbenlLd7v5pa+6nSyKf2XT2u779+q27LTXp8R31l+2P4MmCia/MI6uZLeQeX6jzfLPTryCc8cZNdXZftafDy4DA67p29ezzRofrsOGz7eozycGvmTxD8B9KSxuJIrV0YrIcjIC5zk8/Qnrx1w2Rt/OP4/wDgn/hDdF1TVLK6aKSMO8ZjJEglPc4Gcccfd6n5e9c7zPNYS5a1JU9Xut32v16qzttsr2PayThfKM5xaw8MRWvXW9na7fRe8r+l9PuP328MfHfwd4sv1sNLv9PvJn8tn8qaKWRIzjGIkJxzwRjj1Oa9J8XfZ5NAnkMIw8RZcLHzHs6dvUdz+pFfz1/8E07nX/EnxE8QXuoXEk9tZLYW0aM77PMllaTGDgnBxn65OTxX7/eO5Db+HmTO3bbEAcjAEeex5yfbPbnJNevhsRUxGCxNTEww79kukVtbptayvZLm8+W9zyOKuHKfDeaLB0qjq7eW/fTS177NaW03l+JP7TfhHS5dTur6ONBcSXLuox/q8ynv0PT7uBweMZ+X5QsvDgAQ7CuDzjg+gwdpz+97YB5/CvtX48sLnURCSGRppPLXnc5yf9bj0zjp+fNfPtrYbWHyjgdgNpA9MqvT07fkW/HsbiVRxWJpwVqbr7rW+reu1t1qlp2Vmz7PIZy+o05S/fba3t93ur5pdOrvY53TdG2IvyYRTyGHzjByP4uMnjHt2z8vc2WnImwAArH87Aen1AXHfnk+vHDWrayVRnO09Nvcc5zzk9R0x+IyK6G1t9nJTcWXr17567R9P04615das43cbP2r36K1+vTX07a2vL0KtRNe9r1tfb70k/PTTs9GTWNmqnIG7OcbhnGfTgdePrjkDiutsbQDadqNhv8AaPXjkHb/ADPv23VLK1LFSqNgv0x6++3PbPG3r7nb2thp8hwoRlwDzjeDj04I755/+s3DGanfmb9rut9Uu99O27+X83l1aseZ/wDPq3e7301to2/KVu+lpR2tkpCttHTH3fL3enHzf19O+K6C1s9oUEM3JLbv9Z7fveRz16du+BWjbaY5A+Uqfv7ivAP978+g7fhXS2ek89flIB3MNjjntxx177sdu4rSnh5SfOk9eln007aarv8Aff3fLnNS6Na33/4Hp1f4+7lWWnySlVijZnkIRT13D09ByR6ep6Zb6N+GPwm1DU54b64t1FupDz/KWCxrjrEdwzwg4H03fw894I8GyXl3bsYGlh8xS0iY2JmTBwACSw9/Yc8hvvXRLG18P6PaRwxqz+QMzsrRlZMf6qXuffgE55zwF5q1KpUqeyjKz0dXXdPsn5ff5bS9TCxpRprEShd7rW9nfpu3q/8AOyVytFoekaLpsEFlZ26zny0dfLj+YYDfuvuy5JHcnnA92ZIkwZswRNtHCdxH2j8o4PGc4569uamW4uJZnfbubbtWEqjOHLY82HHGB2wR74yBUeqSvb20szlpLkDAQiRpPLH/AFz4GD7jIA5GDVvC04x53SVkrO9rt+vKnt997abHTDEVW2o1bdtL7+jdt7dL2v1scrrV9HFColRkVG3LEBGJUAyPNx5ZMgHpx7g8Bua0O5vdVvJbPZdGOOby5hcq/wC9T/lnJDN/y0jMRPQcHIJXHzXktdU8RtJIluYraAlZBJAEncDsJTLmJZwmP4eM88qFkvdXtPDVksisbVjKbZQI/NCTy/usgj97wWAxx149G0wuFxGJrwjQo1lQVtbNpejdl00um9tdC62IpYeg516qVblfXXslb3tfl62+z61byWNpZCysG+0zIYzIow8iSiP93h5CMEBCcc4A5HArL12aPUbEQXKeWGjbIRdmJIj3wc5PPfvzuH3eF0fWgJEZZFklljM5MC/u3I+ePjnOAHBHXJyMZxVLXPFbWJLTOPnE5SPGJGkKbsEPnEPX0z1ycAV9cqdSOHqwk/3dFNLVdtndrV2311Vn0R8nOpGWIpSjr7dve22uu/rZe728z5+8cXYtF1a2kLJEw+byl4lWSTAzu/e+d5fBwR2PBOa+I9avW1XVLjS7WCNI7q4NutySjrHZiXEz+SME+dHlVYc5xnOPm+gfGviyO8u9ZkLKPKSWQSb32I+/BI+b94AOhyQPbNeFaBbxWk1xrSWsM87xQCGGQhwtjNJ5ZliXdiEySH5pskjtjBZvyDNpzxWJlRSur/ue6XNbt1/4Hu2Tl+k5PbCYf20klppfW9uqemuveXytynqelW0NvpdtpOnW5tQyhISMLujtWxLJ+8IXLduckbzzzWpHoW+GGac3d9/phRbaMeZaO8mY/OjMUnzTQcRW46CZ+R8m9ZPCNg1/c2yyQzST3EM00MDGN7fT4C/2eKSSXnJuFQy24+UnPGc4r6I0Xwgunw2zpbiNoI42CEp5Yc5PmzRYI86ftKBnoQo5WvpclyTDVFTc6a9r39baddfPzvZbHz2b5vXdSo5VV7svna9kt+iSV3v/AHbWPne00u0huRJd6VqVzdXMjQQlZI4INKjhfCnzZZZYIjOEJuD+9mlmJhEQBIXTv4tQmtbhbbSLCCYzQLJNcyeekaRO/lSzL+5nlnuF3NbwRYhabGcqgSvoW/8AC1uImgt/LEcSlmkhAaaKSX98fL8weTKc84mzjfkHIUr4/wCIEk0xbxbRhPcCOVi+sQPGJLuRNnmC5iErzSiNzHbW8MPmQHcIcYxX2FTIqNKm1JaO9un+Ts9ddfwSPmKWaVa1RJbut66K6ttFbNavVtrZK8uGuZbiC1kt727vlCyM5hs0jg86MlBiS88v9zMJCn2j5itvBwATWqmp+XFBYTRLAJxs+1wTObV4Io0Kxi5eIxf63JuJllE0535XG4VxN1rNro+ny2Op3zXOqXbvJdWmoxwJHeSmNf8ARbWJ/LaKyt4dnMyA3EvM0oIw1zw3q2nM8EAsfsUkckiQyu8P2NPO8vlArxwRQw+ZzCfNlMXORivhcfQp051ISp3tqn2v16J9On3H1uGqVJU6b6prW219Nb6LXW+t+m949U4+0b7WRrNoW8ucvEiXO/pjbLFET5px/qYfJx3Bzmr1pYWV4b6K7tXkEaPHJmSPKw+X/rR5glliiIORuPH+pz1RtCG5KF47397IoRo/7PeOGNpJXxF5MUa5fjeDmPyumeoqCCxuLOOeQp8tw7rHJM0f2gRk5xjaBJ5Iyf3xKg/NnivBhhFWkoS23V118nf9FbzPTVd0nTlCo3UXvNO6/wAr6fpu1Y+CvjJ8DY7DxR/bdrYySaBfyxX7SCJDbw3EPzZm8t8ifIzyPKAV8jnFfL3x5+KXhf4L+BNS8Ta04uJ0jEGi6Ss8fnaveDIs4vJ5lEXmhPPlzgDjnOa/aeexj1q1bR9RiiuLE2u1yIRPHHnKxfvRtikuOTLOM+UMgYGBu/Mv9pP9i3wh8QfEGm61qy3N9YaVPcPa2jzfu3eVCnmmOJjAJNmYYOTbwW+QNs2Sv0/Dme4HL8ZhsLn8av1GhX/cPS17+bulbXf56JnTiIVsxpe0wmI9liPYdPK6+Td+t/waj/MZ438YeK/ir42u/E/iu5vJLzUi1+9u08kken2G/FrpllC2YrO0gXy4jHCAS2WY5lNfVXwC+FWp+Lb23li0qW+0+0mtENq0kkEN5eSkR2n2uXbn7HbDmeGAN5/ykjqK9z1P9jfWLX4vvJc2IsvCRunS2gjY/vLOEjyYopvL58+T73UmFD9F/RL4Y/CKHwTYJDoaRRs0l1fpMI0yl3HAkVrDngNDBIN2c+5xX9H5z4iZNh8nw9HKatBUqtC2iStps/e1ejd2vPtE+CwvDGKliquJzBt1XXdt3pfV7d9dberse4fCT4dQeDPDXkXiRwXkyxTXkWn+WkRO6P8AdZT/AFEKyEgQ4zMvDYy9bWqzPqut2Gm2MsNva39xb2HkiPajrLLHFk9oZ1klJxCCZgBgkb2XwL4ufFTxZ8E/BiahceGdY8TavqlxBpmi6fo8WRqOsXX+pe6lHNrZQk+ddSz9Av8Ao5B2rWp8FPCHxe1rU/Dnj34p3sem3N5PZ3Nl4ZtHeG004SyxSwiZPl82a3+UCeabnrxklv59zxTzOpLNcRiKLw3N7Kjaqk6lnd2pK7T1tfXS9re9GP2+UUqeAlWpLm9q6Emrq+uy1fLrZ236W5U2mf1H/BHwrY+Cvhr4Y0Czx5FjplurMBgu00cc00v3ckzyyOGPHHXPJX1Z2YsAN6EdMemeDjtn39Oh6r4f8LvEZuPDmkQSSNcTpZ20ZSMOY+IY/wDloDzzyOSo7ZBNe4KwZCwGHIj3huvt+f5cYIHJb974cq4erlWCWHsqdHDUbpPsteretnqkrN/C9In4Jn1GtDMcTOvf2tbEVd+ibun0v39Hpd6EnmcfMct3P3f6P296SNVK7hzk9en8/wD639WgXP3TwrsCoIHzY/Tvgc+/OaeQ8bldwGc/N94DjrgA5/p6NjNe/wA3N7OdrUtbdf1dtt2tOik00eLy2vypfN769Fdfn94u47mUfd7c9emf88/rhWPycZJJ/jfjn1P8v170hYBd38W3/wCv74/z0zmgsN3oTj5fufieuc89xjqeoFTzKNuT56tfdpfbzX58zGSwlACXB7cjHpz19+ePTr/DHvxgN978B/8AW6Y9Pcjk1I7b2JOeF6Y+9n0+nQ+mfeoJEyyqAMjkZX/6/PXr39Ooo51y+9r3/pLT/wAm/GxX2vf/AK08vlsPcErgZ/D+vf8AIj8ODUahwyDdj5ZOueePrxz9fYjB3KrhspkkcbjjD/Uj2+o454zigqygnk/7ox/Vv5fn/Cc0ebms7/J69+34flzkjJAz/MB8o4H/AOvA/l7c8VCFDYGSoC9uf58Y/L9AWmc7Qm0hs53YOBjjPr1yO46c8kiq6hyzEDAfJA/iCD369s9PYFsjbMneT8tP6+Y9o891bt11uvNP5qPlctFEAQZX5jy2f14znr/Xj7tU33Qudv03R8fTH3vfp+JOQVUO/CoXLdgcce/Of6djk8Condz16Ku5gW6nGMfcGM5Pr7Dmr0lHT/l11XVtfO+1ulv73wiGF2zvYDJPI9uwz+fb8RnNQuobkEYb2ye3B6foR/wLg1Nu3gg9B7//AFh6entzUR2BDuLEDGFHA/n6+mPoafN73Lb+vu/V/j7sz+H7vn/X9bkagljnkYypVcFE5/HoOv5g/eqIruOIwcNnGT098nI5P5+2QKkII37fukb2xzwPy689/qDTd42sEBDD5AT3DnIA78fifzwtf0+v4f1+ARbaV/6/z/ruVm+Qnjcw45Gc/Xr7dfc8YxUDO+QD83y7tuMtk9R1Xrn8ecdcLoiEruZt3GGxn17DGOwHfj2OaYVQu3yruI2DI9T16jt2HTv1BWXByXLLV39P0X5eetyXJv4e13qmradbJaer+VjNeMNuYr83f/PPYcEH88g1CQPu/d2nqRjbkepPG7HccY4PJFa0oCrt/izj/dH69cevHvis7GGAYht33iQe/Tg5Hr1P4jGaJRtFx+Wvn6eT6Bz83x9Nt33+f4/dZDUlCRuCpBY8cZ46+Z0PA7ccd8AmoXVn+f5ih6rwn+I98Yxx353Tl1cdAGB6pyMf56YP5UzzAoMQBG5c88//AFuPXj1HXLOMbRs/3ulv+HaVu/ftra5MWo9PLTTv5P8AL5rYhA+V8deeo3ufx29uex/DOKiGYyOfmbH3eg/D8c/lgtgFbB+UcKW+nB/r/P25qs0JId93zH7mf/1jHHoePfNL3U7bN/18v1+YS5tOb9P0/r8SNogzb8Bvbt+PT9P1yRVTywxOCV5P3v6f4Y/Fv4bQVt+1icAfMMfkDzx39eemelRyxLGVbfw2Axzzjp6Z5+v0HenzNrl9nrrrs2uvXp07p/ZtaR8MvT5br/t79fkf/9X7EhcBTkrwvGcHke46e/H5YNOZsAfMF372wvT19D15HUfjivgDQ/2qdNcqst00cjlC+8J7ZJ+bH4DH4da9l0b9ofw9fLEv262l3n+J1Tp3J4x+Dc+hzX+MON8P+JcDJzq4HEOnfX9w7J9ra6278tvO1j/Q6njcHiW5UsTh+iX77e93d9ddO2rS6pS+hZWJ+bd8wD9TkdT7ZHXt1655Irn7l23EfKUBBcP/AAHof72Qf7ufxGTXL2vxM8PaiEYXMWW4JWSMxvxk55X04yeM44z819tf0u44juowrD+8Nhx398Z9PoWz8vzVbKsbhanLVw2IoWvvRf8AwHbXvv2O+ik5KN+ZPz1fVaqTWt7Xv6J2fNdEuDhQ2fnG0uTnnHYZ7ZIH5jHzSx3JjQoZH+VuQCWA69VzkfmSOpzWNJdRtgxSIeeDG4OI+xB6Efd7Ln36qCQhSyyFgX2YwM9RnzDk4I4xgN3NYxw9aM7zu3a2t9Pu5fz+Svc6KkY8r51ZenV+u/3x9dTTdbe7eOOWJZA0iKucnJk4U9snPA446c8tX6p/B+wTTvBVosaLGgtIV2ryP3cKHIHGPm/9B4zya/KvS90+p6fBhmZ723Qbf+eYlzg49RjnOe3Ffrd4Lj+x+DrZSFj22pyWIGP3fA/iHrjIzwOmfl/obwNoVpZjjKs/4dKg11v12fzXzXZI/HPEz2UcLh6SST9vdtJJ2v8AJ/Lyvre5+a37ZF+Jrq8XK7YraUv2k8zqDnkYA4/2s8hcZr8OdbtkmvLqTYMmd3LKO/mHoOCQck8Zx+Ga/Yr9sDUWe71rDBvLikXbvIP+rzgfKM8HsGBx0HNfBXwm+Ecfj/fd3YLoZHyY3B4jftkZ4yB057g5Ffq+NxkaOKxNWa0vbXfRttfO3W/bRu5+1eD+KweRcKVM0x1vYq2lla9r2X+Tev8Advc5/wDZj13QPCfjxdT1xYI4jblImuNkcXEiyOxEuP37EcDI79cEN+s8n7b/AMKNB8uxudc0y3xFGoQzR+X+6wgGcjnK4HAxycGvlaw/ZS8N3EKJLCsrd/3iB0APZh+P+1xikP7EPga9mzLaRPzvcNI+fN6g481vX1H4clccJxdQy+lVqRautdd9t02+ivbq7/ZslLw+N63BvGmY0a9XEVY1LP8AcJKyWz26L5+jtY+1NK/bO+EOr+XjX9GPmYkybuEE46ZPmDP14I65YHFelab+0j8Lr1cw6vpjFjghb6H5/XjzO3tjOeozhfyr8W/sKeGrIGfTZLm3C4B8qSV9vnf884uOB05H06jb84eKv2eo/CN2lnBrOqF55PJ4vJkkQHH3dkgIOCAuDkbTnAxXr4TjvD4qnGrGql0actdF/wBu/fbVa6WtL4uXhjw5jKjpYLM3SqXX7l677JXv+aSvdrU/oZtPi14Av13RanbDzRH9yaE4z/ukAY46gk9MjOK37Txb4NulTydUtW38sTLE0h688MDxx6deOfvfzhr8FfiDpltHfaV458S2cPzyRxy391/yy5WPHmEEEDjgYxnDcVs6do3x0tPKGkfEPWXdjtInkMhQnPAPldAD0J498kr1LjvLOVz9pRvSf+0Xt99ru2mrab+WvLhX8FJ2cqWYUUm93u3u7NyT28vRq/u/0calqOhajYNb213bSNIv3N0bHpjqWH6AdOQtflF+3F4etbPwrMsLKsl3cJCvkyDzHMsm0fvOgBy/U+2Ofl8L8L+Kv2kfDVxFHfarFrkKeXgSLLDKQ3BP7snzeMnt1/h61kfFab4tfETyE1XT3jtYZBPJCJy4aSOP0MePzP5Yrx8fx5w7j8O4wxWH9r7ZL4o6dG9GpaX/AJY2Wl3e57HB3hpjcj4gwuKxeYUXgqPT2qb0u3f1VtLP1Wp9P/8ABL/waLCbxDqOwlrjVIE83Jd/3USfuyTjkHPXp0Gc/N+w3xQdk0eWIBwDBJjaP4yOed2e2OjD0PIr8/8A/gnZ4WvdG8LSNqFu9vcS31zNIGx03kc9Bn92QM8/Xbmvv34jL51r5K8sV/HjPTOMccn06c5zX0uTunWyetVpVFVddfulfStZefMtPJta2s9OX818Wa9CXF1V4eS9lFct1t+N9eu2+6b+L8kPi1Ztc64Aeql33bVznoMDPvntnrg15tBoZO3GSw5JIPf3zkfr0yCON331rHwaXX9TN/KpZT2AI4zzJgj3IzyT1JHFXLP4BwDDGHHuI+fMx/reBgZ7EhvY9A3xFfhDNcXi6laNP93Ju7t317Pv2Xaz2PDwfEuEwuGhQ57Ol069fRtPty+Xu3bPhW30Jsrth3KR94cj68D1OOgz3xxXT2fh24faFtZPvDbtj+7z1GPp6j2HGW+8LD4HWMYw1uh4TPyY7/Q9/wD9RzXaWPwhsItivap6r8kfQj/dI+mCO/PStaPh9mE1z1J2u+7S9LdG3bd33so2fNjX4vw8m1G133e/frG607eiVve+GNN8HXsmxktHc9iylByPoc46c59sZzXoGl+BtUcrm2fd3OP1iAB79M/mOlfbun/DSwgGPs0Rwu45GOcDpgfngDkgHFddZeBrGJQ32dR9zoo4A4wSfXg54xz7BvUwvAMYy5J1NbvWyvdemvzT6a3seTX4nTS5WuzS+/X/ACt06anxrp/w6v5BGDHIvPzcdR+X8z78dK7zT/hfcMV8yMlc/NkYzjOBjryfdT2zya+t7Xwzp8OGMAXOf+WYbH06dD7dsjPBrfh0ixWJmj8s7R82ABIAPTl84PUfLjqT0r26XCODoU3zJJUYttu2mnnbs3Z3t0vvHz3n9WpPljttpdW89eqvbR67u1jxbwF4OTTJ5MssLRxl9xBC7iemdvB6epGM7Rn5vTBpOoX0c0ME0zKgldYyfMik9D5nEp68dOnbite204zSmOJCxchESMDzCS+PN3Dj8T7+lfTngnwFbWdpDLdN9rdo8mOZI9qyYBCeYAAcDgjpx1PzCvhcNw1XzfOsTSwlOypt/vbWWr78qStft6NXfL9diM8pYDL8PKs7uVC1nprbbd+a389D5YtfD2qaLENQlguWjmUJvVhIiYj7GWImMn73IB4+6SK8B+OfxMsPhZ4Q8Q+NfEV79j0Tw1pN3rGsXheLZBY6fFJJLJJEnlSzzmNXAtxNGJ7jGAPu1+o3irSNKi02S3kgjUzJtRV8tI+Afu847+mCD14Ir8Uv2yPhn8Ofi9418IfAnxvqtwuieI4dS8YeIPD0f2hJvEnhbwOtvrfiHRZHhligstOu4BBpV684l8+21UrDF5zrJF7eH4Ar4nN8Nl3MqtKi1Wxt7q1Ps7t63T6O2mmto8VHjCn9RxFeVP2dW3scO+mvW115vfTy2P5yPjN/wXG/actrt/E/w8+H1l4a+G+ufa/+ECnvdN1W41HxjpNpcLF/wkDaa5lf7A7yRxT3tuf7LSW4ihW8M0qCvb/2Ov8Agspr/wC0HqNt8M/i7YWHhzxpd34m0m9g0+6sbOaOICRJJPtErlZrZlHkQxb/ADpuSy7Sa/PD4n/tdePfEOhfGfTX8KaHp3gX4h+MXn1bw7L4atbO3uPhr8Obu6s/hp8OtBvIbWPUvDXhnS5Ej1HULHRp7WHXLstPqXmPNOX+Wvh58ZNC8QeGfhf8Kfh58Dfh1D8Z7L4pat4q1P8AaJjtbk/GXXNJ1O3ng0f4X214oe1sfA2im7F7JBE0VxPqFvDdNulNxcS/v8OEOHMLlMnQwCpuhTu69o3UqSulq09931SWktFL85q5zm1TGr22IdVV8RaKTbUdXtto101Wulrs/ut+FesGbwumtS3kN3FHths7hJpCtzFGjGWXzJeXPmyOJ5PVOOlYHjnxULmKWGEiSZy6rKv+vUeZjyg4xkZIHm/N+GCK8v8AgfFqmm/BzwF4fkS4vtQtfD2mx6pO0ryST6lLHG93JMHhMksIldy0v7r92mDleK9m03wBcSzreXphtxiSSNTz8gl/1US4XPn480bjgDJyMEt/IGfZzJ43HYTCWUfbV1pbVe0avfW2mu+ite90ftuWZZOMcLiMQtfYbPXW2r0Svv2201ufIHiLTp7lGFyhSUXbxXGXJX7NNIQfNiH+qb5cEynOemCRXJWehLJfwhZ5pIYN9hJbpG6Rvby3L+V5W3ycKJI1E5mJzyflzhvrbxJ4Khv75kjkEpe5+d7dR5bO0n/L35QwfIwkQyV83ggNkssc/g+30uG3e5WKWVEnfZFEEd0+fyvM8wDzBBLxwcCVcAjqvxlDLKjnWxG/ntb74tvR6pLru21zfR1cwVOnTw6SstUrW+Wl7XstdPndnY/C/wAOWuk2cZlgUzeVtZlTO9ohmGOQy53QW0b5XB29AM5Ne06pFGzRvA0Yt4FSVipxu2x9CBjIEm49Vx0715doerC3tH3So6+XG6qTs3xyxxxv80edk0MvJh7fewcFauarr9nFpssS3yW8vl+SrSOZI0n/AOW3m/8APXO8YwV9M81+q5JgcPLK+Zv99+Pq3y203sr67Ws3L4DMsRif7Q2tR1TWvfqv6vt0Zt6ddW5t7ieUtfNNLLLBbBZGkIhzH5vl7u0nT5tvk5ODkbeF8W20eprEl5N9nZW/cqhEDrLJGceWI4jsI/1fnk4BX/WLivGPiF+0/wDDX4IaPDH4w8Y6RpU7MClhLd2qX94sxzFEbeSRp8FFeb9yIoIYRibPzbuQ8LftP/C74pxvNoHifTLiUJ9oka0vtK1bbFjHlXMOmzSXltFDvA80RMcvg461nnWWZxLBc+Ho4mqrNXoqVrb78sbW31vfvrY3yzE5dHEf7Q6FJ30u7u61Wmmt5W6t9LWI/Fngm8sZHuXbRZI8Pcm91CO4v5I3343rcxxnzJvJ/wCWEoEUJG75iKwdPTUpWihMunz6cHS4uZrC0lhllhjPEkypLul/1bRfuYlMQHIIGW9pPi/Q5YbWzn1F7hZnzA9vbPJp7xS5EYmmeJgF81cEHy5TnB6Zby/xHoF9a6kt9oZs7d3Z3SbfvCykkzSXcUhhmlghi3EQwyw+8Zx835NiqlejUdCunGX/AC/UtNX6673T91+ertH7/D+zqQUaf8LRprqvla1r36trex2mkXtne3rqsmlsoYPbTxzywX0EQ2fvB5o8yQCME/vfNJ9BxW9PeQxztDG02pQAOkaz2rPZIJWP737VnMjZ/wCWPzH5RhccV5zax3sgjubuxhu2CBF1a2It4FQAebDFvllmjiuP9Z++hXb08wjbt7jTLJpGtpoltpZC2Wjub7ZGmf3fmiSJMSRwR5InK9VJ2jBLPD3lLlVrPqt35fe+6t57HPWcoRcl009baba2sr/a/wDArWPStPitJbW3guooUNxHsLIfKgaQD93FDEBFwBsFxMfTPP3affeE9I1GLyZ7ctEkRhUQYf7/AO6YiKWQj/Wk7iB+WAazbC0uJbiSSa7t7WK2Ty3eSZ7+SW2xx9ifMMMSzcfvts0x74ya67T763Lw2cYUvHBG6mIoqhZXxIQdm6Sc4AuBwe+QThjMMrhj404yjyu3o/taq19bN9O29venC5i8NZpu21/n3T+Vla99W7+78rfEL4CQT2zT2LtBcR+bJHDLEJY5I9hxHDxmI56DODn+HHz/ADBdNfeHj9iuLf7O8ciQyZEnyYkOT8keQfkTdCAvuOa/VzVbW2uYWhbzG+0BPKXf85MSdfnwVhzkfkTnjd8j/FHwBcb7jU7Mnzon8wxxLFHuGM5xJkSTe/Q9ARkGvnMRDF5XKnh5vEVcKr9dF2S3t0sk9Eru10j67A4+hiopT+ruq+ltX0Xk2tL6Lzte58eeNPiLB4etrKa60+w1QwDdaG/2XFm80v8Ay0kiKmYTWxGLfgAdD2FVvDHxn/4TKfS7vU9Jjilhv7Oxs47GRxbuILhPMlS1lAMoIT/SOijHG4cVwHxtvJPDelWt7qeiy3VrdSOzSRGOSGxniWTypJZIoiIjLjmGUgfN82c14z8KvG2kar4ns5HivJ7uGSCSzke/iWBCJQTGbWGOKLiLP8JLEc9M19VhsDGvktXEwp4is6K9vZVb8vW1tbNK2nXvGyR7FLDYWsm/Z3qeib1fy+V9u9naP9N3wa8XPLp+neXKEDW8CNuUJ5a+Wv7uKPKjzc/ljGePm+zNIvRfQROzOduA7Mxz067YyDxgex/vDov5I/BfxHLNZaeRdxb8RbVaR2Pl7MAyeXgDB/n36V+mPw/vIpLCEtdTXVw6g8JmNhx+7hzjOB0HJ9hgGv0fwzz+eKpxw1W/7r90ltaz67+S3tppy/Z/DuPcojRrPExVtXe6v16ddfJvd/FZc3rpjHBU8L6+/tlj29RjoelMbDliRwuO57j/AHV9P/1ZG5QMJg+p+8v3ue+COh9/xPVmABd244XB/X8+nH16/L1X9tXLZpXopars/PrvttL5/Z/JxFWM4OTuH8J7frzkD0/PPyq0QOD6/wCfQfzP4ZqUKoAYAZPGPX09QcHnt16nOKHDbtw+dT7bPfqfTp0Ppx8oanGPLSSd/Py2/Hb9Fa8gjKhTgEHHl8ce3oB1+nr15qIjnd0z/T0/H2HqAOaR9xbA4Vv4sYHf8v8AOOpp0ZCjBP6fX3Pr6/lSjze08/69Vvbr63sBTYBnBB2kfwjvnH1zgeq/n0qdVKZJIyeihsDnrGPp6YPT6ssjoFIbGOMg4x1/X+eeh6ZVGbpvXcvP49ueOx9+fbncQf8AH/r+t36/ICJSGb7iYyQNo6fh2zx/ieVpjhAduGAPQbif0wfUdc+uOcK9lZiME7Q237o/pt/px6fdZ0hUL8xKjtjqfQZwf5flVc8e/wCAECrscHllJxt6Z9xyfxwT9OcrXba0uCuzC9hnOf8AVjGB0BAzjqfbcugCmMAnOOARx6nJz/j9R/FC0YbdtJztG3I7+vXGOfQH6fdpKF3TjHTS7v8A5/d37Oy1D/H8/wBN/luU2iYMFJGFOcY6k+/X09B/NotmGAOWXIG/A5f3Oee3p16nI2zzNk49ufrn9MfXn24qBnLMpAK7RgbumB/n+tU4p/8AA1/VJ7dH99kA0p8wUDB6nv8A1/8A1f7WcLBtVWwVOf7pPTj16+444/AFpjvyCWH0Pf8ARf6/hwah3Fi54Ynhs8789T2wPT8eucUvgl76v2e3Tycrb9pfImXNpy/Pb9f6/AZKxU/KcL2B6n646fgeec44qtks4cD5hwMnPTnuox+R/pUzsD1U+3qwPp06Y9PpjNM4QspAXGTlF5Ofz+g5/wC+eFV21v8AL+nfVeTW+t+hOiXLLRfffW/978vv+yOd5OAGbHO777k9/wBPX64quyNt5K4UEHADcjoM7uP1+p4FPyFbg9T98nHPvkHrz/8AXzhmuw3gh12twVC4H88fp9c9aV3/AM/f6/D8/uKjrf8Ad38+q7W92O78/utzEIjBGcZ5XP3Y9wJ6e2Ac9T6cdWhkiKkndjHHPTp2x7ck9s1cc/dH3cr8wxnr7/r0bHpUDlSjDIwrfxfj049ueOfTjFCsoXvr22/R+n42dzPkl2/ErM6qpZ9rbkGR/H0xg9Ow7fXnrTRlw2HGD9w/3OfXjgdBx+WKVljb5WGV54AyfxAwe/rge2BUUilSoA+UsUUAnYPT+Ln6c455OcU3spza6fufvt8079bd+XRhot6vn0/T+vxKsgYMwP8AATtdT246cfl97POOhFVWYs23buKn5crj9cnp+Hr7VpeWoDfM2WGPTH6nsc9fyzVbcFyUVXfgH5O/Q9/r/LHQ0pRT/wA9/la8ev8ATtcPte51/rr+p//W/FDXIvFHh3ULrTNYgvdL1G2ZPMtbkSQXCZ7/AHuIDx3b1xWDN4917SmH+kmRcR4UNKM+T/t+aAc4GMEevOTu/Yv9sv8AZo0z4g+JJfE+g31xo89lY3ccotII5ILmOL97F9rJznMoXPJJhfqMfL+FnjfTfEXhLVbzStXtJFMM2xLl43+z3EfVpY5TkR9TwSB2A5r+ZeHc6yLijDe9Tw31jevQaivu+JX7O716O/u/rsMfmGGvLD4mvStayVeW9+3lbtpfqe26J+0D4qtZ47a1ubsyeZGqRo8sm+Tj92c9z6nA9eihvo60+P3xA8P6TFrGq290LEDdK8qSbo1lGIzNjIjh5PUtnOB0rk/2LP2fR8V559durOa9MDFbYQsREvlyCMSzbhiLGOOd205y2K/eXwZ+wj4P8beEn0rxPaRzLJZ+S1sg2fIIh+5MnWSUZP77Pcj5c5r5DiDK+HMTmf8AZ+HyVYmTd69eySop6W2torW0fq72PusjzjiydPnoV8TWVJa35mrW0u+ttnZ3fkfkR4W/a2fUXjj/AH0jbY9oDRyxMM8+V+8U8ZJB/DcP4vpDw/8AHc3sQkeCbbwSWVwhOO5ORxjGef8AgWQa8I+N37DOpfCX426X4X+G+gaxe6HrUDXNtGpluobGSKT99HPPJIRDCdwFtCJiccDruX7b+FP7InjjULa3t9T0H+zlEYQTSlHd+ASRCmRwOR5p56Eggmvg+IOAeH5O2X4FN/8AL9Lek9rbPRbdfKyaZ9tlXGWbOPs8wpXlS7638raJPut157mx8LfiXYeIPGvh3S8r9ou76NxGzDDCLbJjJyfwAGfXpX7g2MqW/g6En5f9CDgH3iHbGeueTn8ei/mR4F/YZl8K+OND8anVb7zdOkaRbURxpaPJs8vAURE9Tx0zjG3tX6Q61cf2b4TaOUtG0NqkLFvkKvDESPvZJyfbI6c4G72+COFafDdHMa0YeydVU/Y/+Au99Hrr1tbZ9GfG8c5x/atfAxdN0U5XTaaW907O3p5ebaR+N37W1+1xPrYDDHmTIGVsSZLlNpzkDjJyR+f8XD/s7WWoWOjWzQ237qQKXl37JGEp8w8Dkn8F7DBydtX9pfVVvbi9/eFhLfyeZsJw8fmnpxxnt1HfIr3r4D3ukWvhK0R7WNi0MexpBtOzy1wDjbk5BHPoOmSa+Vz6pOUK0oVLP6w2+2jemvleOj89bxP2uliYZf4Z4SjSftHiqi5n1va9tN9r3drvSys0fQOkBI7JXlibzCvoQcf9Nemfqo784rzjxl4o1TSZR/Z0OZWbEG1ZF5Hcnofrz14znbXoLa9ZInyxbCCEUZGCMEDJyBznpyB364rDkWz1TUreVo1ZQ0eQVx+8EmfJ5znp2xt/ACvzjOMbSweE/fa+2d7K/u30W3n5O/8AKtj8+yCg8TmEJum/3PTv67ffd7WS1ZzGhR+N/EzxS6g7xQH94w2uMRnn73brwfm6deSK4X4jfDTz9WtNUmBZrVt7O3mEu3bGc4x64/Pmvqe/1CPS7OFLaOONVxGQoQ4J5IOMDGMZOD/7LVO6isPEGnfvWXdIvLEJ9/kde31w3pjrXxmEzCtUqcmHq4ilSa+Wu/pfTr01UXfm+9hXp4LFVK8YWSa1Vt/nfZ7u6vvy6pnyhFBY6hHHYLK42MLbYYQ7pIPY5445xn0O7GaSLwS2javHdxoZILieBZMqPLfPbysZjUYHIx0IwedveaufC3hPUyt1cRxzrJ5gH3d2cjce5JHTGB/sjo2OPGVjrusR2dkRJDAwcur7/wB32GBuHB45I698YXozGWPwWWY2rKNf2da/7/W+sX3VldeurvdXR2185rYyeFWHqO3W2q9X0VvN9bpLVHo9lo1jczwj7NExRt+4Kg/EZBOPnxzjPbb0rdv/AAtZXUYtlsIjKULALHjPbA+8B16556Hdn5a3hpkmu8fewmN24L6Ywe4z3xz6IB83oN1qenaXHJPMy+Ykf3nYNKM5xFF8wxnv3HAwcE1+R5bHMMTiFU9rXpYZ4nWtzNc3yvfXfyts7+75eb5rLBXgqsvbJbJN6pPS2t9f0el0j2r9mrw2NE0pVMKw7lnYJg5B83njHHBz368A/wAXsHjFhLeRIDlfMjyCeDjsO55+v6krxnwd1yGXShdFUjikgRFAb94mBkZU8qO2Rux78Bul1qUXWr2+xlILbtg474yVyf8A0Ie3U1/odwTGnT4ayqnFyrSdChq15JX3bu93q2nrbW8f5t4jxdbF5hicTiG3U9tfW6sr7p2vs9LRW1n0lLotJsLYwRkxgAqRyvpz056cY59snHza6WNun/LNfbr359D09/16M60jEcMPHPl55578eg9ev45/itc9uvb61+o01BRpxh1329ddG/l189pfDVXJ1asrvR7b+r1tul2frohqRRgbQqrz2Xr7EHd39/fJ+6tpUjxgIM9mxnJ7cDOPXrjvzUQLYbBOV7FT/PnHT0wPfNSqSSDnHGVJPGCOmMnOPXgc8DrVTm1B6XS6b7+iT+5ve+ljOLlJ6P8AD/gP8F9xowIoPb7vU9/yJx19Tn2z8txHMZxIpCHgPkeWB/eB/wCWWD6n6jgbqkAJGD2YEfX+uD/nmrQdpFAVDzn7/wBzj69fz/PdXPUajrC1+7uu/Xf8vzUtC+GDbAD27f5/z+FE9vBLAwfMTOhG5Wxz15IQ9M+3Un2rMTzoD5i7TbofnRQXaM4x5vBOYMkfuct6kDOa0Fje7EccUu5pgPKC/JvMpIORzgYxzltueB1FePmFaNLD4ia60bLte2vR9Xa3TZJ3PQwUOfEU07e6k3d/5duXfbvy2vLtfAGjavPeR3E0FvNYW80aRho9kkicY5xmQYx1/DGS1fVYeO2t1EURREHzIg6Yj57/AFHbueM4rz/wNpn9jaNby3uFkZRtTj92ABj0IPuSe/cYrqJ7pCvms0myT5F2/cB7knoB6khcf3WwQu3DOFjleXVsRb99il7a+jsrN6PRtdf0d7E51i5Y3FKmtKVL3Vbbs77a383purM8f+IHiFvtFrBDuMSS7mjH35spJu8roIv4eCMfL2zX4oftg6pr3hn4waV8XNLtHu4dD0/V7C9lW2knP9latp32DVNH8xCMNfiO1itxAIRFcxxTzLJEg2/ph8dNSnstZijjuLm3Tc8gZJJIN6/MuPNjP+pGenHA7ZIr5W17wtJ4xjaw1OKO80mcOZmaB724eeQHyzaSyyQRAQOF+abzRkgjHlivzejxriMr4gxlbk9ret+/6fub2Seumt16dNLn29PhyniMpwbh9qhfSyTe/S/fe/fRXP42/G3hnx03jjxb4XuPhd42n07V9f1S98JTyWWm3Ud3per3M15Fosk8V+LWxl04zSQL9oeGGVETzmLZLfaf/BNf/glZ4ms/iHdftCfEzRI/Duh2RvE8G+Cnkt9QvrrUbx4pf7V1G5tJZYrX+zxHKLaC3mnjCyEeewVa/oU8KfscfCXQdcfxnqPhy11XVMySpLq0cV6thJLIJJJYoSvkCXy0GJl86Q7pAJjuIX3G8mgjEWnaNFDaWUISKJbVI4gqDEflYiiUJFt/5ZZB/Wuvi3xbxOKy6pl+U0JYaeLo+xr66Jar937yadurnr5a8vfkHBFGniqeYYzEKp7JrloO1193Xbpotbyv7vDaB4ej8PR2lvCyTzxxqkYB80LBEnlzGaXIhM4iDEQD9zFwCS2RXVXt3mxcwLNPcyxPBAjB9iAjHABH7+bOcjaAACAMYbfsfDYW4DTCRI5D5jbDIzPn/WjJTEZ5PQZPr0FdZcwaVYwW8l2IGitkwYgkrSJncP3pidt844IHy4PIIyRX4lhcNN+1qNNuvrJ1r3T62dm9++/Vq9j7/F4iDdKNOy9loku/vX+/8EvNHk2meGRptss7h3nu42eR2QYhSJkIXGSDNNL13HzsJnjJry74la7BZybZw0PksyOwcYD7MyJnIAACD9139uq/Q+rX1tPERbzQxW6jyo4wPIfeYs+bz5uZfQzDkjGSSTXyb8Y/Dstzpt1JpzSvOyyz2iwqLkzXIjP72WYyGOKaHGGhmh8njtk1GZVqmGw3JhWrXo3afRtp+7bvrvta9rrmywVCFav7Sun219G2vhe2mtvmzy7xB8XbPSYTNHIqOkH7pXnFvDIw5IEsmIYrhom8wK2TLxgjkr+Wf7Tf/BUHR/BWn3XhvwLYjXfiffyz6To+k28iT2yaxNK1hbx3SQSzyxzwzMpmhliiNxKkU1ussOw1x/7WV98VtM8CeIrq40/aiRyvLZWbXN7P5cCSxrNFJBzazToDMT5UHkQr5wlMRRG/I39h6x0nxJ+2d4G1D4oWkdvYPc3fimxTUExBqmp6dLCIYjNMCl3cWyyGefOZyQpG3biv3/wm4Qp5tl9TMsZjVXp0UpfV4ta2tpb3m9vl2d7R/OuN8zWXYj6vh6dqlXS9r6a2d1qvw22Vmj9N/wDh2no3xD+HU37SH/BRr9rLxJ8Etb+Ieo6No/he70PwpeeNNJ8KXHiVRBpltq/hfTp49Sa3hnaKG8isGKWtr5t3dKqLPcr+IPx+/Z61/wDZH+MnivR/gN+1T8Pvj7o/gJvD2pj4pfCG/wBY8IaTqV7q115KaNJ4b1fVrjVJvEGj3tug8QaWlxfWmnmWJ7mV4xPs/Zr/AILJ/G/xt4+vvhh8MfBVpfz6Ba3eteILhLB/KgL6dp62FnEI45QDM0d1cXCsCvy/6kggK387i65qcXjS3fWvDc11am1ls57SdJ7AxTxI8cWoLNLHKxngkImum2CO5x5ZJJxX9N5Rg8BXwUaaoYWFKzTpOKb0Vl71no73fuq/TVSR+O4+WJhilUnVrqpvfZLTf7Vrbp+9fysnL9vf2BP+Cp3jnVddu/gr+0bqhll1meODw74vSzi0uTRNWCxRw6ZqVtaBIp7LUJVM1rqAco877Ztu9Hb+gjwN4vbxDbSabd3i6l9nhhlinW1RJLqCWNzApPm+dFPk/wCuh82GaEgtK/Ib+NL4a/s/+MPjDfp4n8PpJZ22nXWn+G4bqJJra+1zxHqdwostN0eVYxHPLp0Za7vLlJT/AGfAhlOCrKn9cv7LPwA+IXgL4a+AU8aa1eax4ts9PjgvtV+0yXN3PFCH8lbiIRReaYI9kAmAzcRcysK/lrxx4LyrC16GZYGNGniarf1jD4e8V/18ata+z5Va219G5fsXhzn2JqUMRg8bep7Jfua8ttfVtN21e3psfVek28U+nwRWFq8F75254Jpibd/KO8oYsymWTHrt/wCWQEfJNdja6WlhM11c6e6SJDiWV40kgmE3VoFjkOPIiPQ+STz8py1aGnaTrdpIDHYxtIoWR50x5lsZFEZmh+c4m6Yhlx74Iy3RxaZqQSOSa5nV0XcpmtndEaU4EkrxSKJiST+9Pm+QflKhQ1fhOEwHLRhyU2qq1vrdrvr+j+6x91iMQ+e0qn7tvS9tPLvvbtfa63Mu4FzbQwz2dvbeRJ5bSozPuhgKYimAj82XPdoMZXuAaoW1ylxdCOGWG1jZd893bqVnMmTtjHmjzR+9xng8cHORXT3enXTXEIiMZd4g0k8zeVHx/rZIYUlb99Pxndg8EgKSKyjpd7HdSB4WeFVfC7Yowvz5EpaPdN04/wBdk9s5CryYjD4qOJhNQrrXbZL9Gv7zf3Xco60p05U+W6167972vHy1tfsm9h8N0sN2Glea6mRZELyvJsbywP3fB4hgz5p/d5Y8knC7c7XpILtJmufLWMxZfIkwD1hMQ2ZlY4GOc/7mfmsRNO6OXdIICSkzxwhpU7GOMECfyj/z23dskjhVp3trAbdhaxvPKVkCAlyzDn96JJeF7/8ALEAHGO27z81wuKr4ScmmrJ9N277q3a9tWtPNcvZgcTSp4mmknS7JdX01vr03W+z1sfGvxn8DWWqaPqCz2KTaXfxSJd2kiSeSjyxy4ujKg82KUApL+6KyLtxtwCtfmZ4Y+HFj4K8dw2llNKyi4Rx5pluY2jlk48nnzhEIs8Zz9P4f2u8Sada3kMllIVSURvHPGweSISTR58uPHyyTEHaSCVB9MZb5JsvhdHa+Iry7FmkrpLIFllx56RGXPkwgjt0HPHUY/i8PKM6q5dh8bgant/3ycVfzum9ZrTW22i11sfo2AxNGND2kl+863vbzv12dtVr3/l+nvgxqNullpyoQ7xrGN4jkH7wIo7D93BgD/X7vU9MV+p3wdvJ7yCJpmyP9WMIEiJwDvi3e5AUw4z1HQlvyx8BWyWDpaxxLBFGY9wSR3kkJ6R5MccUZB5PGPUtgbf0++BUVsLSOQ3Ek02xGdGmM21+gh8uP9zHnPZeMZ3cZr7fwuqVamc1Y869lKV7P+a66bJ6+d3s38UvzTj7k+oVKkF/E1tvrf3nzdd9kl213PqceWoQAljtHfPTHJzt/XOffGWa6gbgC24nnPQ5/ljkfe9jng03IBXI75b/cBxx+v09D1V4AK5GeDJzx68ehOf064PSv6lh8NT/D+p+AEasxUg5KnOMEdT9e35/1UaUqpT5gmI+vtgnuNv8A49n/AGelKMFv9xx0Oc45/D8j7A4pHdWXGB1BIx1/QY/8e9OM5quWPLyX028++1/63t0J1e1Lb1/X5/00BAZdx4I2cgdueD0yO2cc+gH3YkQs3BOBkn+n4DHp+WaeA7/dBXb68/rwPb7pPsM0+IbRyWz7HP15/wA/pWfxy7X3e6Xr8P5el7e9UXy2627/APDP8vuI5AyjDYPA+UHPX/gI6fQ+nfFQr5kgZWHQ5Pb/ALZn16+gx1Ock1ZkdemCSW+YsMbvp165Pfp3P8TIxt3HAXBxkYOffj8P8g1pKHva6d0//wBpW+59/ImPNrzfLb/g/n95CGKYxzy/DH/Pb0xn8CGAgm5I+Xjvn39M98dz78Eqx8zEkMoHTjn/AA/l+VOYlRtXrx39Se+D/PJzxjFSk+1qXTfV39LrW/V337ctEMiBDgDaPvrnH+J5wcfzzndTUcEAbj65fgfTHP4nd+AxUrRO6g/Lu/ur9O2SPQZOQPrxurtuVgnVl6j0BOc9eOvp7nPO0nOUJUprVdF8/Reu77O1wGMqglv4fxGM/iT+gpgUSNhcJtOGIPD/ANe/ofwwd0yx7w6tkhvl3LtBB9AM9uowR+AzVUhlK4blCBn6d5OQB15GT+BIak5OLpuasmm9/v0V+y6rv5Clt7m1/Lz+W/8AW46dAi/eB+Y9P5HrjH1/PrUAQkbiQBngsSM59PlPT0H1Oc5pzTEjBVvXP+qH5c/X6jOBnFNIZkDL95mJ2np0zwc49s8ewOKvmUk+R+nl87O/3fcKPupc3e2+3zs/Xp66EO3a+cliG7jp/exge/Y/nk7Y5yp2hQOMhseo/D3P0/2uCrQrBg5I2hv4vy46Eflx1H+zNKEIwnX0A6ntz2x6ce/q0Ru/c03+f6derb320DnXf8CqdrhkUZJ49f8APU//AF8ELE6ZYZ7H7rfr6DoB2OPWldhG3Qq2cn+A/wBR69B9cggUcsm4g4+/z1AHUDp+fPqegFP2eneVn0svv53bTy+6xRAXBZoyAg6Zzhxj8G74/wATTJogVyPlPPVcf+zc9fQZ7ejSBfMLEkfMD8yd/Xrj88Z9hxtSVGC4AK4I2sW7+pznofbv3ohzS9/vv18lrZLW3aPk3sTzKXu7r7r/AOW3n+No0nTAUoWLjhvw9efQ/wC1n0X+JgyCONuDng/dP04BP4/lirS4TcsgGduSydAR/Pg+v5cVWZlBwGJ/D/8AV/6Cv48GonGMVTclte1tWvz/AOD5XSD3Z+dvl/X9diIsWwO27jv14/H35HPrnK1nbkqzY6j5fkxn0yp9+o9+M4qYEhn+VevX8/8APt07VC6ky4PGepIOFz6H5s5PTnjoMjlb5nGNPnTfX5bbrT73p5k8kpS9Xvf7r7ff031tY//X9X8YXFzPp8whn86GWJ1Zd2DJnoD5mecev4AdK+BPib8GtD8a2OoOtpHLeSpJH5ZXfE0nRQNwyp84jv788bftj4y6hb+AI7W0vLqGO4u5Nm3d9/5D+7wCds2MjH+znJFfOtj4o0+7nSKwnR7tZEkNvuxuETCYcc5bBxx1KjOM5r/O7gp1cMqeMpU8RQ0elmqT179d11turW+H9Jx0cRSqUZSvZPV6vq9EtN/l2bdrn11+xt+ztH8CvhLC6Wkt9qF65vrgqHeR7i8Jl8rB5MEGRF8uQFTAYclv09+FOl63HajUNWcxRlDIkOcKsfQRjPXI7YJHJOMjd4f+zpqreIvBumSanG1tawxh4BNhZPL48wyg4yDjKjjt93INfWk8ttead9n0uZQsa43xYTDjI/ebcYHqPzzjFfrtSpQjD63Be9WoOrXeu60s++vyaWz3j/SHCrhTyPDKOFd60F7au4pXuvz6aqNvRcsZJfA3hjVL2TW7u2glmhHmBpI45Cj46CXgjbjkY9hjFeb3/wAXPCPhzWJdHiS3ingYKyxx52sJP72COnA4Xrj5eC1NfHkuiX02hX0/lNOZI0lkOd3v1IIPQfXBz1bgtR8F6df3cuqCUtNcEMzeXHIZTKd3XIAyOOpPcqK+dnnlOSccL7BVb/vr2Tav6XWv399bn0uSZRllariKuKWjvZaK1lpo0vvvddeayUvqDwh4u0/xZK3klfIUYBziMH74AwMkkkduepBrzr4769aaN4X1VlmSOX7LOVX7iuIYjlsg5ycYHXOM5Gfmj8AW9p4bgmRCoZiMRySptU478DDg9wT36Zr4u/ap8YeJJXmtre2mn08rOjNCJCf9XL5UY8rJmiB5JI5zgg4Jr0KeZ8uAqe1ftfbJJ2t7ttFqmnHV9vPWzR+YeJGGwlJuWEpr9w6T6d772k+1+/Ru7UfzE8beI7jxRrlxEwBg+2MuGLneBIf3mPQ4BOTnoDtwxr7G+FZs7Pw9bRuV4QEFzggbOh5XHXIz+Q4r428P+BvHGtTzz6f4c1N2luWkjzbSqX3yE78yxZEHGAPmJ6jggV9YeEPhj4zs9Ohl1aHUrEFfmhuB5YDkf6oYAG0YP544yQv5jnFH3atSF1RpP9+91q3v0/GV1s9Txsi4lxlfJqeX4upXVKlVVVJ7LyS00trp9yuox9ju9XsY4SvmwZ3BziROSe3cjP6HsMkV12kReXaQ3m4fOwdGDDBz0GCwPJPc89SBXBaZ8NxNIZL1kWS2aOXa0gkjaMhOo6ZPTqM4OSMmurvLK7Vre0sn/dW7xI+w/u0jHDY6cdyeDzjkfPX5hxBgqWMwPtZVPbUqd7ey026PXe3ba2l78p9lk2N9hN8tJr23sn7Zpp6dPLvdX6/F9r0Zoje2xDrjOcMBjr36/wAz+PeuHnbU9ImmEBPkkSB45EOOv7qWI988Y6e3cNr6h4x0zw9ZRR3zK0qrGNmfnLAY9upx689SOlaGheINM8TRMY408vYWD4JLn/nl+8znnHQfXOBXy+DwLo4eFWEX7NPT5aq7095XX2tX0dj18Ri5VK7hPXmV90r+S3/4Nr6LU+Gfj5HdG1k1y5mkjaFHdBAJcsi56fdJbII5HPoMjdzvwN8S2X2P7bqbNE8iyMhO/wAxYxxH5vcSkcjpjOOcA19feLfh9b/EO+OkpEptS/lyRoAB5cQPmjO4AYye/vziqUH7JdvYW6jTpbq1RvmKqAwfjgAdeMqMHI49yV+xxVGtm/DrwTw9Wsmmvba9ErJW3Tbtq7Lp2l6OV55lmCm8LiZ+yqXe/Z62X+Wmi+J3tHofBes6VqJaS3uY8jsz+XvjxjkjJDc9exOTjOK9t8PfDN/F7tcXExNkJBJ5YbzAqDAP7wdfO/H2Bxivmmb4LeKvDEe2zuVMW2TDNvjZOc9MnryDkdemM19nfs7W2vDSk0/UwFmAli8wt99BJ/ez6ZP3Rn0HBXwuBeAZVs4pLHQxFTLKTX7q1kqyfzTfz8mlY581zfI8Ti4U44ihLE1Glo1f13t001d/O6PVPDdvpWhz2miWcaeYTFC6r/rEP3OTjpgA54x75Cr69r3hKO2jtdRiZApeNSzg+ZJxu+Xg8BuhwT9P4WWvhfQ9NZdQuZFku1O9iHAy2c8c9O3U98dCV5n4g+PGt9LCWpC+THJGE/5Zx9czD5uvOf5N1r+uMFVwOT4ZU2kqVBJYdX8mtVq001b8Va9j4XirI8FiMJVxODpq6T12vK2vyv5xs9nqjr4P9WiEZ2qifLyc4zmLrk/lnjoAQ1uMqAxwmcnqccf98t0I/DvnPy+VeFfGUV5pqbzJJKkUZ3lJMj1PXqQD6YHJB4rsrfXrFoy0sqwryQrnEvl9wckYJJztB/PFfRZdm1HEzp661aOl+nTu23rvpZb72PwfFYOtRk/aJpX0utvva6vuv+3vs77OAOTtUdRux19vz9f6LYiwVUq64ZRz0/xzj689s5Feb65rQvESLTZUUL97dJGjuO+FJJ4z0zn6V0vh+6CWkaT3ETzdCnmofrjJHPfAzjpjivUVeMqsqUVWaS1s0u/X3rdr32Wrd/d5YR+1939X/C3nfodfEcMGd92OCGBI7/7Q6kZ4H4j+Fz6giFfu5DAgE+ufUd/87erZs1w8UTZG5du8PHjcPfnpjsec9OP4uJ1LWl83CszDP3n+Vxjvjv8AgfxI+asMRUVNpz32+advLv8A8Psb0ac6vub2vu9Pe+el+9nt8LPVLWVZkKhtu7+JV/TqB+YPpwa7DwXppl1yF5IVez3s8g3fIoixIZYs48kAnNxETxgmDFeK6DqrTMijkbgeSw69McDjrj9MZwv0v8N1VVvJplA3hlKv/wA85hxngenX+WSF8fFSpVYQpTuv319eq3afbpo0/noddLmoSqyd3069ejXT735XvY9qmeDywIykkKxx7PLbeBjkGMj/AFvQfe/HtWVd3LiBkTdmb5FiKOAxI6MeB+eP+A4xWHJdSaHK14kcs+jSTK11bgh7nTvOIV7qE9JbLP8Ar4OZrb/WfOBmug8y2vt0/mxmzji+0tNuEdvDGkfnebNMZBDDbrCnnNMzKMZLEc7vQc416fsoVLaKgqNF6pNaXumv8TuvnoeZLmhNztenfqu706vr3v6xPnT4keBLzWlMk0UkwVEls2YRrJOd/wC9hi8wN5txBngHdDLAOxUluG0nwMmiWA1DX4zDJGv/ABL7MSI+EH/LWcR4hUYzmA+Ywzkdc15N+0N/wUY+FPgNNW0rwZZ6d8RNQ0USLeaq+tWtj4d0u4gdoTJayRzSXeoYlHkvNHFFDLM/lQSuOV/LzxF/wUu+I3ja9YW83g+xsi4ZbawtL118kP8AvoY7qa4kEt5BCfNaLIM0Oww+Y3y18rjPC7M8diamPoYflTvt/wAvfzTt/hi9LWu/e+vy/jWnQwVPB1bJUdNdE9fST2t0sraX05f1w1PUbW8uQgdWjZvLjijChUQbkxhe/wB7/WA4xzkE7arxaVZGMMI7NRIA6SbI0dscGKXvNcSclie5wGH3fx3s/wDgo/Jo168es+FIfsph2NqOnTtNCqyn97ORLHFFHcN1x5vBLQnyeC3vPgD9q3wb8Zb6L/hGvENq7Axtf6bqMSW+rx/Js8yS0lkk8qGCbH2eWATQzq26EsD83iY3w0zPA0/rGIwrqNLbtrqr9Frbr+Sj71LjGhW9nCFXfe2nZX3XRvZu+zaumfoab+1llKxh52QhpFgkOEyR5Rlzj951HfHJ6FVqxfBAincjeY2/EUaOUPlj95N5kREvIw3UDrhcivO9E1C2t/JM808zeR9ouI4Ibh9lqEzyVBiNxnPkefmJs8E4Ir1C0lsNS0VdRKQ29hcRlo5tQmNrI8a8GbEcX7og8CGXOevIANfJ18mrU+eHsnS+X5p3+5Neb+0e3HNKVeMJ+1fRWvfd+bXRP020vePnuu2lteWkieZCrXULeS7bIt8sX8A3cxESjqTj1Y4Ir53+IsEzaSbe8tLMxJE/222WCVJCIoyfMjlEkUsZ8wCVp4BPBcdOBX0lqdhNK8Ihhht4JN0cMzyM/wBp8xOZYIiR5gwM4AXziMwkjK15fq+kuYrm1M0ciytOqnUIpJ5VHfyZN37q3+/thOOBjaf4fjsywEv4U/vuvVPT/PXtGz5vosHjo2pydW1n6rTu+mr0aXdPmvY+GJvhJYeOLHUvD+oRTQWGqaTqVu2qIGaR7TUIGiKSeb5wmngWTbaxTxEACPJABr8j/ip/wSg+I2g6nY618K/HjXB0fUY9V0fR9atoo760uxIqrLa6rEFaKa4hd5Lq3jWK3nXdbso81d39DFh4eW1v540VWVGha2i2qtvMo2fu7SWM/uzyxMMq8cDJxitDVtMv4po7gStayLBK8a3VuJI7zb84hxjzI/s+PN88ZJ8vjgBF+z8P+Jcz4ZhiKNOu3SqWfK3aP+Fq8uul+2rirWPm+K8voZtVpTnTd+rWl+7XXW+j111W6Uf5o/iv+zv8WPiX4b8MeFfF2keJvBfxA0rWbq6Pimw8PL4u0e6sLSNFH2W3i1GLUdPa4ib54JppYpi6mGJPLlSvNvDn/BKnXviX4hmij1L4ga1JEiw393remab8P9NsrhU83yYmlt7m/m89uIZ4DFbyQ+ZuuBcxFW/pwlt7rWlkg/s6zKXDSw3QuI3jjvYHj8ySVXDQz2swZzie2lRRCPlkMowvQaW8OjSM9raS3N4WeKELPJNHaxuMSQxvNzL5o6THz4ZP9bIDKGkb9PqeNNXB4bk9jg6dbZex3fm36KztHz0u0fHU+BZYqp7V1K6pXVnfRJb9FdNPsvm/i+Vf2TP2EvAvwL03w1q/jS3stT1vQ9Fj0/w1oc6RjQfB8lwh/tia2tLZ5bTUNf1aQrJca3cOlzKFMibVkmir9E9KsTlpLeNRaDbGn7uISPgYBgj/ANaBBFHnjhhz2Nebac2qXGoRXOoRTOrAo1gLgPInTyZecwEDA6w9emOa9i0GBpZLd3MkTHqFL7UYfc83oozF1ER5xgdfl/PsRxHj+MsxVWve12rNXil092+qe2lnp02PfhlWGyDDclKor7rpv1b962uu2t9nZcvU+HvD9rNOXawkJk+eQzg7iNvytnkfviMn93IQMquBVzUfD1mZnMUV3JMP3ckEMc0DxMQRH5EhjMTjHHQdwducV3uj3MFlBvSGRp2GDKjJcIDj/XRxSfc4yRnGMdAQBU19PK0BuvK89iN77EdexOeD5vPcgY9Mj7v01LJMJChySoLb+Mknd7rone77b73sfPzzPFSq83tHo9G6z87XXZel9rJXXL4RfeCIAWlG2N96+a83m+YkePuf8tDJNjBJwBzgEZqumiNlUs445xuwId8iEJH94yeZyQQOn3u+0kDc7xL4qe91BtKtzJYwKMSyTeYJIpsnyvJj4lki6YxnIGT2FbOmaROqwlNReXzEjzMtt5jnjmSI5zF/21zjuAQa8t5PhHXtGle1nqk7+mi8vktErs9COa4tU4KdbW767vps/wDL5bHHXnhGSadrq+gaNSNiJau8MaY7nzf3smYzg8knqvX5eS13R7a1Xy7KGO1hjixLqUsjyIkf8cIjKnMpyP30oHv0Ir3K9KhZYrqSWcKPL3T+WIl78bSx84dvfjjIK8jfadbX7yRpbxvCFBzIpCf8CjfaMnHX5fbOSV8nM8pw86VWEIUOsWreuitfv3VrbandgswrxqU6k6nLezXVrf5bPXbbury+Zb22tDFdfYzb3IAMhn/eB/NHoSDjj6++Mg15XqOji31Bbi1u4S8y7ZURXeNd3XqTEJuXBye3GK+tdZ0CAW3kmC2Eu3KW1vGIFt0ycTSy7P3vndP9UR0HOa8Q8S6HDE8cbEPJ5nmxrEDiJC6+b5qRA+ZgcdNw5zjNfgvEeTTweIdWnTbd+nrtulpfZdt1eR+sZJmUcVR9nK11fq+lr/y2+Tl8zi9Oj/sy6Uqs8sjHaXeXECBjnPl4PPAxkflg1+g37O+ptdQQqpaJFG1dhQrI/H3o8fqeD3POK+Lo9DS5jjnkWMiIxgiOR0kHznEPp3PXJ4GSeDX038CtVh0vUVsQsQZ5OZQXwibwfLEvPPpxxjvgh/f8Oq31POqHtKlnWeiltvs73Sbl57d9Dy+K19ayvEwhT9p7G77NPTp63te2+6u2foLHuYYwML975c9sjuPp3+79BUysqgJyM5+Y9P5L0/X26tVt5RJbxyKMxsiuWX/WcZz29ffnggd6m2sTlSR8uOnKj9c/pj1OcV/WkZc1JTV3dXv6/wDgV7W31287H4BKNpOEk1+H4+8tH6369gljUAAFDuYe2fXv69s/Td/C1EYM4DNlV3Zz+I/Mdc4HbthpVxjJO45wA+Dux3+g+hH0xhkQkO2D1XZjpwev8/T8qnk95Sm/l37LT+ujTvzEjDKYjlT97hiD+nUZ7+v06U0tuJfpnn1xn14Hb2/PFDquV45UY+gGMfzP8qVtwUbQd4353dByfzPpz+eRVTd3yQq63tbz+e3UBmAQQevb/P8AUUrlgDk4GBht2R75GP8A9ecfLjLRhnA565HTHP0xuwfTj2552vzvwDuJY7cYx/h+XP1HSjmXN+8Wu1vT89/Psr6ziDUQE8ZC/JngD09GGent79PmjYsjcMDz8m7j8R27jIOf6q+YoCiDhc8YPTrkcDJ475+g4JqQoAqE4ORz3wB7c44Oeevtgipu37l9KTulsrenvJ6/8FO9wF80GM8/N/F7/wA8dxnH51TCAsxOPUE8k+x5GcH3598CguxPJ+ZRgZJXZg8EnHOffd9V/ihKuo3Bsu3XOCD7c8+uTnH04rT2sfcvSfra333t5fd1vYAddhJVODz8vA47d/XHJH/AqYVAO5vu/Q9PzH6A++KcXkcD5QMneyj+Mj2/H3z+OVjcAjaGbd9c8fT5cY9d34DgtN1F6Xq63XT5L07+WyteQQyqxLlOW6jjp+vY+3PtgbolZwuPkCgfdJ5H/wCsdznp909FnyFDLklW/iPAH6n29M/pTVCsNwHy7evHr6cHPuOnTnBNZgUpPmDEe3+c4Hp7fj1o425Vhu/u9/qD/wDW4681PKu77vBHt15/3l/z6fxVUXORj5gfy9+vOOePl/matQk3ypvzs7efRv8AP7ieePf8CJgG3Fivux5/T5fzx+XVoZGeNflDNg+v3sevBz1Hp9etWJ9qLjcud3KKMZz6dcd+f5YxVdGDK24r/uux/wDiBg5A4z19OKUl7/J7Xp/w/V9+/wB1w+GPp8t3/wBvfr8hgkKhs5C9emc49QTj/P8AEeFiaQZG8kKPx/ouM8Dp+WfmsSMFHzNnPbGP8R145HvzVBjn55CflHy57fT7ucH2+u3+I5nGPJtrprrp/wBurW2js9d9NEPde9p31t12v736669kSuSyF9v8Pr/+r1/TvgGs/Y0hJyy7R8wPqOeT8uOB7/jgBrzSsUxhQPYg5/L+f5d6rtICCANrY5ZeePY/L754+uR958vNdzul9366fd890RG6ly9Pu6f9vf8ApX33tGuRuK9t33/p6H7uD7/hx1odSco+QoBKtnZ1785OOMfzIyTUqjAUnnd8rdsj8jj06e/y/dplxkjGeuB/n8sdVx60405L4Pyv+kvy+btaL5k1a/L8r21/7dv+H4XP/9D4m+MPiH4ifEmS28Sagt3Bp0a+bBawubgb5P8AlrPNnnEeQRFtbJ4AyNvJfDTTNRvNc0Vzc3O+fUoFd95+RPNj82KUbgBuiHlYOc5AwMAV9jal8HPi34T8DJZeNvhz4i0WRLYpO6WUl/AmEzJ/x6idgSRkEKR164xXjvhbwxrvl3MmheHdRnliuPNV1tGtj9ohkyZcTeWRiVeehbB6YBr+N8xxOT5Ng4YWhGj7OnrQ0s3/AFbe+idtbn7LgKscVGlUxFJu7vaysrO+tr2+VtL300P1u1XVtc8I/DfRj4baSITQW6Xjwr5r258lREBHGxPkZwx4z6k5+b2H4HeLvEFzpIOtSP8AaAHRpWGxJef9Z5ROMkZwxLd8Y/i/M3wT8Q/jzq5i0S8+H2rNDZ+VF9sjuIDbzRr+5zLDJ3MXorD17FvrXw7f/Fqztorez8GT2+9Yw0n2hHd22Yx5YBEXGM4LexHJr5TEcSUKcOSKck1b2MdVqtfT8fJvRn9H5DxDk0shp4SVOjSlSWuttVHR6J6u3by0PU/jLq2zxDpd3ZT4lZw3lhuHw/73A5wcjODnPYjOa828V/tATeDIhHdSP/q+VI8xEkA5fjkHOOQeM5IYAbc+bwB8bvE3iO3vrjw1NLZQmOSLEqh1ff8AvI8AcgA9M/hzmuX+Kf7MvxY8Typcw6NctDndLb+TtOHzmIk8Sw5/u4HTHcN8iqWIxGNqYiXt6VKt01SVne32ktLaWu13slHTI8RldTHKvXx8aOGb/gN7q71u3f8AB3UUuq5YfB37RfijxZrkBtbaaLSxMPMeRzveOQjEjcZxkEdcY6YAG79ZPhT4I8L/ABD0uOXVYLK4vZUjXM0UUhdDGvEOdwHrkgEdixJ3fkV4Z+EnjnwFYru8J6pLcKB5gSAgMR7EBjCMYGCccnivsf8AZp+IPjzRdWuLbW9D1G1s4Jke3Z4z5flYGIecYxyBy3qccV7WWY6ngcxp4erUrVcNimt1sno/ytay36HyviLRy6q5f2ZVo1rrbdvR30Tld2f4b6+7+k9t8APCGl26yRaXbonmnaUhiRljj68eVyCMnkcdi2Tt+Yv2jPC1rpGmOui2RZI0DGONBlUBwZcfKehPQZPUZGd30O/xqe8hETQSqiDpHC+Ffy+h5zkH+HOODkjBr5X+K/xZgu5JbCWyuZDIPvLbOYwOeDN5ZJI78+wAzX32cYfJsTkeMwtKeHpOqm3WTXN7y1Vtdel07fcnL5XI8nxVTCw9rSw/7pNpWtp01unb5XXVq6Pia8h1yRHksd0ZPyMuyQ7THggdQeCB3+ucVLol5qdiH/tEecMJl5VKYkPPYAnHGcg4OMj+/wCl2+qafvkO0wCZ5HeNoJc8jr+9iBA54+br6c7eI8ba3p8NpJJHJGCFA3oRGTzjp8oB44AOec5Gfm/BsTlNOjhJ4enUVa9/YPdX18r36fZsk+9j1pZpVrfV8vlhaNFUZex+sUtG+i1XV62dmtL66o5rUNEtPEOoCS5cskcm/Gf3R5x7dz7+nYtXX21nYeGdNmFphdqybSHJMfnfyJl759+Oa5PwpfRXkMsrPG5J+XD/AO6ecnnH/wBfHBFGvXAlngtVmKxvIqlN2d/Xg4xxn35z2r5SvTrUcueElTftXLVrW2r9Lb32f+HU9HCYeUsXCcqnM6UZO2n8stLem2umzuz1P4WSySXMtzImWZ/lk3B+T19QOfz9s4r6Ygunig8yQZCrgZXOffHTOcZHGffpXjfgDTrS2sLXy1j3MA8u3gEjBBJ59skfmOtdtr99dpbPbWMZnmdQiJGP+WvtgA8cc5yOuCBlvu8lpVKWWww8KnvSobWu7tdU+t7JWt53tY/L+IsbjcRmNWGHw+Iv7fp9pK6vp5Pv995Gb4h8QWt0s1uEBkRXDEJyPyzg+46jg4xis/wF8TtO8O3sthO4RhJuO7B4zjJOOOD2z+OAa0fCXhHWbuGa61KyB837wl370c8nngAAHOR8pxgkZLV2kfw08JzqxvYYIJz8jsOZHPHqMZHf9d2cr9Pw3SzLCYbEYKUeWo261CvV062VvNbdXZdneOWUcP5zjs4w+NpU5U/Yu/767ejvt5J23XXfVx17n4j2WoyR+TfpL5xjWKNZMlAeRgA89uflPfA/h2dQ0W1vNNW+1CVZIGXfhmVBI3U+aMcY55z25IGCvi/if4RWul32malpdxN9mtboMVgkkWPrvSOUR8E5Azyqjqele2y6BqOueH4bEXTWkLwBH+XMi7o+kXc9+SMnHOMCvUwVTFzqY3D42Ht6tJt0NL9LrtddLJ381Zcv6zhXGrUWGx9N0qdL+NZWdZWtonbz2tvZxd7nBaN8RvAtnqg0BL6CW6SVIXijzHIjkjMI5OQM5z39TxXXeIdMbUxDNp115QkdFjEZPmeWX/ejA49cZ9/Q18/aj8CrLw9rqa7Lc3EkqMZFmSQEiTfkSGMemOcjBzkYxXev8SLDw2LeCa7iKQrEhlkMe7/ptgFSTjnkng9Af4vayrFVcPVpvHxo4Nr+D10212S76KXbS6MuN8m4YeSVMRg1FVlQ0vpK+21lrpr8Om6dky18SvDHjLTPCd3feFhH/akdtI9nJcySfPIsR5Pl8YEsf94dSeOVb8hrr9tT49eC/Fl1ofizRYrY6fdPHcRW8sgkkRZP3UsM0kQzFcRLuYhflPAzyW/ezwn458P+MtJSy8y3kikj2ZBjeRvNA9CdpJYNxnrj5c5r8+/2tf2XU8TmTxHoOnqNTtfMkB8uJftVuD80U3/LXOO+ARu75+X7HOq2JpYCni8uare63WeHu9tU+2np3dl8J/MtDDwrV4RdV0aV7fjbvK+19Xp5393vfgf+1BoXxM022ju7u6W9eJFmt7m+mikTIB8sRxyHoc7Tj8D1r6HvodPvI1uIjO6Sj5JIry4jkQEcDzRIMY9DkewyTX4tfCf4d+PvD+sNs0e/sJbW5CiZwRkCTiKHG7zhtj47DHBOcr+pPg2PXLjTI49VuLpC0UauHlkQpIExiGKMRCLj1PsM9V+KyTiTMsbiMThMdSatJqhXas1bTV3tta/xaru7n0EMFToR5YVLt+uvZ3t1vp2v10ke4+FLa+iuoVtdQv8ADMnleZcK0gf+CL98JYpSQT2B7EjNfa3ht9c0Xw8lzdGyuDMPlhv/AC9PvWi6nyblGktZP9kERZwPk5O340+GngzStU8S6d9qtLq98uaNz9pvLxkPuI4pfK47cEjp3O37r8S+APBr6Kom8O2DMyx72+0TQu/ydv3/AJwHB5GMdwOrfUQdSrGo/aNeyV093f8ANu/npbpczrKKcE4r969fx6euielvV3ls6RMmvvEBFdWcsfzNHckAKmAPNPlebBLDgkHypjnjIGct+cP/AAWa+PHiL9mz9gD4o6h8Ojf2niLxXPpPgSPWNJ85J9D03xLdpb6rqkcsQxCstp9otoJxMBbTSgAqDtX7r8K+G9M8D/8AE5srXUra0uvMRrT+1rjUbR+FjMMdtd3E/kj5f+WQGO2MfL+XH/BVX4xeBofgxrGgeN7l7HwPrV5DpviqWa1e7g0i1nGI5buwbzjJDbu3mgwxHE/lkmIb6+54NwNOpUp1q0FWq+3u/bR0Svuteuui5trdbnzubVVGTo037mr0uum2z81e6S311P8APrT43+LtZ8Q6tp8WqatY3tvBJOl0mrXd7HdrBIQ8U9nJO8EuCEmOQvzqXwP4s8/HL4iaYXmtPFWsx7Z2mjie8kBW4CeXLPDCh8mLj1B44BPWu9+JPwP+G3wz+IXjDX/AXxbsPiN4VvbvVG8HwaZpGpaZKmn6i4dJNf8AthVFn05ZJYBFZGSKaVIpjlFKr82+IrRLi3cwSrEJvPtpJtsgRZMEAy/I3JJ7fTJ4K/tlNUZPkjaKXRaJemy8rvyeqVj5yzek113127/F26e6/wD233qw/bb+JF5Yr4S1PxBZ6jZSzu87S2SwTXJVx5tt/atsUkj8/wB8RxTgsrZIFe5fC39pfxJb+IbW90rU9T0DWrWSOS0uodQuHu7aVeYYY7l/KE9l2xP56nOSD0r8ktU0XXfC9ykt7p8jWsrJNBdqkr28o3f8s7jHkrMeMQHHXjHJr2vwh49sX1bRbmz0/UJNUj8hPsiwl4pbv/VRZmDkeQZTkmbyAoySpxioxmDoV6NS8Pa9+m/3bev3XNKU50qnuVGqPe9tOulr773ffb7X94H/AAS5/bQ1v9oW01zwT4n02bT9Q8IWtjCup5eePXJpU3zSzzNGczQylv3oMcHlOi/uirLX7cJpL6nabLseXbssay2qxI8bxj+JoxxJEOpEQHzbeTX8uP8AwRtsdT0GwtfEl/JcaZBfJerevNaSm3kvprgSRgzNKYfK8yRorZZY5YRsjUBN5r+njSfEv2lAqzqSVCLLLHJEgPl/vcQ8cmOPEypEAIyu0tkivxfifh3DqdWtSpRT3skk1fyS6W7S116Pm+oy3MqtOdKEqt6b672Sdle/d62fLptLflXxJ4a0n7Pa7JvLEKhFVTK8YHQR8HEPGSuf30AH8QOa8V1S2e3mfcFkgQyA2ynfO+P9bKfNjzLCSV5JXnv2r18S6t5ztcqkVu0vl2qrK06Nn5hPKyeb5nnggeTKBNBgHhARXJajMzXUT3Nk9ncxSyxxyzOkheOTdxCY/wByYp+ODkjvnbtr8FzvJ40J83stPb7/ACt1Sv8A5a6XtH9OyjH+1p8kn5rX/O2+mtrd7acvl+m20hurZYrRYoEupF88qXg8uaPzQ0ueI4/MIH8XkngnjFei3PhTStVigtL+VGLRu8NxBN5xWTbyPN5MQhB/cYAGA8JOc1TsrTz7y5Sa4LwTLu8goTHxxj93GIopfMAAlMTg78ZHNdXo8FkVQThA6tvhcQv56PD8mJVilUNBMGP2mZYegBwM1OV5N9a9z2X7qrt/k9++7ettL68yzDNJ4epze00tsutr2v8AE7adF99jz7WvhJeXFk0VrM6wNHuWNvKt7hY8cy20rrLMkc4KS4jAhJ5I5Fcpp3wnk0c+ZczTN5kgQG6k3xosa5bE0bBBN1PT164r6QW/uI5JbO3h81oRH5dvL5k/2eKTDebAZdks0E8h/wBHmDEW+PJmiYBtuvNDBf2ckUkUkFw6RorzKltGh7xfvB5Moyc+cB5vqCMV69PgTBTxPt5U7pJ300enTzurbPq9LWl5suLMU6KowqaJ+d9F0tbT5abK+58zL4UKXUZS+aN1kLRzPG7I6B/+PfzG/e+Ue2PX3ruNFkubaRo763iFujCNpY3fy3zJ+7+WOUGOUYwf1xnFdXd+ELUxMtzKXiYl2msZVlkhO/H+mRRtEYl4GZoS2eOBxTF0b+yBApmsfsDxkwyCM3ROfvnHm+aZif8AllNF50JyRu4Ne1gshw+Blz0qao28lffy0102tv8AOXlYjNauLi41qjrXurq78uy7dHprvdSOqsryyVd8d3GZNxUQv8m1AO/XPc8geg3Y+boo0jvljZJ2VWz5qkbPTMf72IAw/wDXHOfUda4hL2ysVUfaLSOQ42CaP/RJX/5aS+cS00Zz/wAsZtuOw5IW3Frk0a7zHH5Yw5cTILNfTyoinmgenHvnjFexzxTqRb0aT7baP7+y7HmezlL3uvl5drkmseAdB1O9a4uLNTJtSMyNK4DjPSLy9pEvT9/n8RzuybrQNK01WjtzLbtEdqr9qnklHrEP3v70+nAz2xnbWg+u3Dun2OcXUzCRjIrfu7VzziIyACTAPTHsM4FY02pmOdmeZZLl02Sb0jZGkPWXO790R9FPrjGF82sqfRb3/fbaNdV0t0s16/zdUIzk7Na6bq1vW36+vRlObTrZIzI0d3KwbOyQnbIeDjEgYjGf37dfTHSsa+mjMDmMSQlU+5CmRgcMJTxJKATjpn0Az8tm78S2qs6xbML+7bEv2h3z/rvJjTAHU8Tyf984NczqGoRO8lzLPJBbLjEEY+Zn7CTnYPplcdR/drxsXGnUjyQu38uj1u11187/AHuPsYeM4uHM26e91rr2s7vS+949tbozNRtTcRff8lWGZFXmd+mAfM/eR4OCfw+UcbfJ/EENtYzv9ojMaqrrHM0gk3vs/wBWT1jDZBJ4HuOtdlqniG0DyS2iTtvUI15c+a8aeWMS4JUwmYDgbfO+pxivF/Evit5/MhjT7TuBRmYRmR5Ij3ilA8qEjHzDce/PSvyDjP2NKFo1L1JPbTe+y89E9P1P0PhyVRS1hLS1u3rt5q92n01sbnh+3jufPnMLNEp3t5hk8j91/wA8o4n/AH3JyCSpPfvXXaJqcljq1sti7+Y8g2EQqlvD8/X/AJ65Hbz5ce4OTXnPh/Ub42kZmkFsg5it4hHvfJxLny16ZHcr14HWuq0+UvflWhzM6lnlZ5GP1Pl+VDnjjqcZ9NtfIYKcqE8HXgrNV4vm12WvTu9H20T5r2j9FVam8RCd6ntU1pey/K9uvu/J3cj9KvAepNeaTAJblbmRI40dg/WTGQf3Xr7d+vWu+BA4YZ2k/jz+n5t+HVvmv4P6vcw2kNqyRJEuxdyyo8kjnrmPC+WTn/lrkdyTglvoxXYupKtt69lyfcbj19gcejV/VmQY363luGqJ3qKglrpbv1lZ+W/VW1cfwrOsG8Nj8RFaUlXW+m9+nTW2zl520cpmJOCp+TJI4Jx83Tjj8cD6DDUKdud3zOTyB9zA7dOCQeeB+GaRn5yP3eem3/I/l+XFKCrZJJx6/wCPB/p7npXs/aS9p6rfW3e6/PXytY8nmduX+vy/Vf8AySqcsDgjD44A5+hwP6+uakc7VHPz9xjH4+3/AHz+IzhWh1UMBn6sP1HpxULBs5HG7nrnP0+Q9Pw69OBUyvFba779O/4efo9gS5n7ny1++zbX3a37aExwFwoTg9O3P9eOOeeemaiEmTy2NvC8A8H6sP8A6+c8cBWFsjax5x0+/l+e2Bj/AL65J5z8q0q5wwY7COm7v9O3v/QYywTy8ulrde/9f12IpV3Dcpzjj09Oep7du+epyKPnKhAzYByPr3P3l9f/ANX8VhSPLGSxGSOE2/n6+2On5VHLg8oGX5eGOcDJ/wCWmeh9+PT3arXjTm9762Vr26b6W6e7L8Cub3eX+vy/Vf8AyUEgZCDl27/KMH/6/wDngfepkhZyvyljnLbzyffoB9eO+BmnHeAxdvmPGMfd+nX2Oce3Gd1R5y3UKCc5/u/jkdc88D8APlr47/urW1tft129erv/AOkyQuGDfuyc/wAv+mfcY/Hv3xmoWR0IxgtyHKr9OD9exP8AWrTq5JZefbO7/wAeH6fIc47YpZHVRvZs568f4Y/Qe/GcVMIxd5/Lt/w34/jeIU23D5SCwGcK3QdOejd+2BgcZ6bWCRQuOycNkenOQOc4+vPqcfM+WTOSM/T2+uD+g9TxVWPAZsk52vt2nGfXP8uvHXnIp83vckN9b/h3X5et+gD2kbG0D5JPvFh+v+ySPXp74ysBYxuwjOOATn+Q/U/0OcrID8zDhl3fxOd2w9uQefTuep6YYkRANyH58Db8p5z1zlvTGf0XilGdk71teun5fL8vQTtzK1Na/j+Dt8mn6lQqZGYOectxjjscgj2+uO3PKiwAttJwpBc8j6fj26Dj1b+FgMm8ll+VVxuzx+Xvj27cDpTZAT+8y33eQG/+tz+n0OflmL5vfS9X2ejtay6vt5a2GOESMxw4bYflVf3n7vPGR8nUDPX8BioZVVByMjGcAYB+v3un1H9VeqpEdzuuCA7Enj88nHOPpnqahklhJOWOM8leox0/u4z644755FNyjyuEuq0/z+zZp+f3bSTfPLnvf+n/AHtLX7P5bFTo+5Rxt3ZzhwB9Rz6dD+OKcGRl4Gz04/8ArD07k/hzUy+Wwzjtgf8A1iAvrxxgdeP4q0gKHCk7RlmGBvz+Z6/Qe+aqK5L3/fX3et1+Sf3+WmrBbe7bur/r1fz/AMyFgNxAbHGQQucc9Pvc9vQ9znOFgk+Q4Y8nrxj+RbH5/n/DZyowxXDt6evbP1/D+jQE726By2V2t1TPHGD37D5enXJJVuMpR5Yu1XTbXe+jdr+mnTa1kS5pz57a72SW/wB/yt+KveP/0f6ur/wd4Q8QwSQX+j2cisuzb5URVsZ/vAj25VeuOcZryK5/Zf8AhM95Ldf8I/p8TXLfPttIQGYd/wB1FgHLgHHr3+9XsYulUmdHK/N2I/xP6jHfBztq5DqSzLhmYckZOMfieD+OD6dQN/8AHlalhsSqbxWGw9W3yS79Gnfpp56aH6jGNenJzo1K1Ja6ff01X5+XLc8MH7MXgC0aSTTNLtreZhkSJFs/edM/u+mACCCCD3z/ABZzfAt7aU/ZI4WRHBG6PIA/5ZDGcHPuRjrxg19JLOw5DkIxztx/XPUeuPx6Cg3bK3Djlvm2gZyBx79yfbOO9cGIyTLKz544ZUU7NeytbT7rdNNfLVtHbh82zKkuSM+2vd+iXZdL77o+e4vB2saEN50WG4WMZDxDy349MA/+gcY5DZqle+IruEvbzeFr5gqgZWGOTd15BI4A6dBn1GMV9RJPHIMAj5l+YHnP1zkc5P8AF+WAKge2tHdi9tAwwfmKR8/htPXtzx1GM1jVyaLhTjhsVUpPfWjrbqtG7/O3/b1rnXS4kxUP41Da9vNp/PW+t7xtfaVj4T8S6kJd7y+GtRjVf4ntd8YznumB+nGO2a4/T9e8N2uQ9l9llbOQ8XkASesvmA+3XnuMk4b9Gn0zRbsbJtPt2z99WjQfMM54H+PvxXM6n8L/AAXqu15dKgXIz/qosk/lzj/gP49F8LMOFcdiPewuYUVVVrOtS106/attff707R9PDcYYaE4LFYPq9Xf7+ut+7++6PiePxH4aZfLEowcs21o+p/M/hz74xuqlP/wh9/LiZImP38lEPbrg4zjg8j8q+qNW/Z08DaosnkwR20jZ+aMGOTn/AK5DjGc8ZHfIzXm11+yXAtw0lpq95HG3zqou5XxxwELlufqcfUAbfksVwxxlRdqVWli6WzScvm+ivtbdfdY+lwvGWTVI8s6nsO62W1vRrS1kv/AbWPLLTwb4H1FwrLbF3+X5oI0+pzyBkY/wHAqXWP2evAOuWrGWPTpF2Y2YiPXIHmjgn36dCeK6fU/2Z/F2nF59H1+73KPkRyknTnHX16nnPTAxXJXXw++Mumjy4xFcxqvzFFmj3846546HH67s4Xh+pZ5gqdT61lleo9f4K9rZ9/m11fW2lmbxzTJsRKnOhi4p3fVb97vl6rqtNHon73lWpfsv+D4lkXTkS3b+Bba6KRDqMKYpRgDOeh59Oa8w1L9lMvN9otNZ1FVjYyRp5nmFHByBznjH0Pftivf7rTvifpGWvtEupFx8zRMXxn0jHXp6L79cVTTxH4rh2iTSdTGxvmDW0h4H88fT8Rwa+Wr1cUqlSOIy3HUt7Xou+vm4+vXpbW6cfYw+JoOPPTxtG238ZNu1v8XdK627P3lHwuw+FPj7QJxBBrAuLWMFU3wYk5PHMe3nHPX2+XJ3e2/DTwrrVvNJN4jENzud5CRGPljQ4hysv8QwTyex65FSP8QbmDPnpJAwYFluIvK3r0/5aDocZ6H8atWvxRtVVkkWMf3yqg5xjpkgYPUjqexFd+WcT08rxFNVsNNTjb+Mna3ba2ulrqSV7dFI6KOCo+1+twhh6176vXr1Std3tqn2bsenRSxvcvZQ26hcPHkqU/1f0wAecYwfrwK8Q+KOkeJrRml0iGRskPmHjPz8yY3gkjPB5/3eCK7Kx+JekmdXV0D5JzgE8fl1Ax0PTrmugu/HWh6lCUnSNmZMNuKR7vpyPmPOMevJGBX3GX8c5ZiFU+tVPY2/gaJPyV072WnTa+i1UfbyrFvLsU68cKqqq6Wsml3066K9rx02Zx/g1bm90yzj8RM0MkihpElbduMXIz1GT2Hy+vPSsj4w+Px8PtFguNNuUjWWWNN5Icr/ANM+M4O1OBxxxk4IqDxhdw3unyHSplt5E2OjwSYMbxZMQ42kHpkAdxnbxu+XPE9/d+I0bR9bkF1a78yRzuRtkic4lyTnnIGAcEdxiu+lxhk0pTpUGvrVZtfWG1b566dL+6vVvU9aFTByzGnj8TStSs/b0Ek15/astFsm300vc9Ql+LUHiHwVc6tdS+Q0ltcKCzf8tIgf3g7gEc57/lX5vr8Wr3xH4kv7WCWS6hhuJbVDuJwYZD+8PfgHk9unc17947gSDRbfw5osssM16htzC7ERrE37rfCccTYPBycdyeTXqXwc/Ys0PUNPgvboTLezQBjNDI0bs02JvMlOcSEk9vm5528BlXzCOPq8sI/WsV7Gys/3Ke9/J9fwW6PyPjl1M3zGpSyqniKOF1ukn0d7btfl2961pcH8D/G2s6B4wsrF7hntdRZN8Jd5PLfP7uTksAdvYE8gjdwd36jXlzBq2kW7XMaSiWE71cfh7c/iPqc/J8e3X7LGo+AfFOm69p2pvNaW8vNvdDzOnWQzbsYGOg2gds8lvpsagItNtYsb7hYY43iHI+7/AKzmTyooiB/rD9e9fc8IYjHPDV8LjoezWtlrJO3Td6b9NfJaH5disnrYCVOdSjiLLq07X9WnbbX3dPLY5G58O6HaPNNFaoZm/es7JGBg/d5C/uSAevA7kjGKyDPCG8q0jaY79mIgm2OT/prcb2iPH/PJnPoDwGu6pcBtpuZEJaTbFBDvJb/Y8vCmUHu0o+z5OBjLbsKe7mjJhtUjSUD5mbyhHbjAyZccGfBHkRQjPGOylu6vGlGpVjSpJf3kkredkvmtV5JK6OqlBxj79/n1fr/k3t0V+b6I+DepR2OqrPqd/wDZYFUqosz+/Z/7kUUkcs8mRkZigwOx5y30lrfi/UbpHg8OeE7jUSkeRfanduzLPIpXypbaJXkihHEp82aGfBz5S4r5N+COjw3OvJdX4uLnIdwjyOk9ycjEcsv/AC7WnfyYpYm55bGQ32zfiCO0S3iuINNiRMN9hQg25kH7uJI44zHNPKRjPl/KB55MnVZw0pfvYJdNeultdLdPJ6+WxjiNXTnNferWupfdrbo/klaXkupeP9c0vSBpPi7+y9GneDy4Z7RUeN7g7jbxCGSeaaGGAGPz55pZJSRnaoyK/FX/AIKI/wBleOPhp4r8Ka/qSzw6/bX1jf3628d28kFrDLIJ7KIeX9hhsZv3txfTH9/hIIZR5iJX6y/FOQQ2t4Y7Wee1lj8lrqLDz3dxjyzEtzNumknP/LeeASQW+PLzuHy/gZ+1nrk0F3r50K01qE2sSQ6jbXE7yaXZRyTFpLy5lmSaW5vGwkttpduUFxLgDYHIr9F4YzCMf3XV+m+q12a0Wlp+t7Hg4/CTlP2mrVW+yenVeSvs+nbZH8sPxA8Jz+CLybR9Vxf2ytI1rfxJIvnW+6QQyGIxLPETAFcwY+XfzjC7vmzRUsr9detGeN4o9UuDGpO//RtkcnmGKT9//o8hcEnG0cHOMV+t/wAXvCMvjKRby8slutb1NoWyWitrqOJtkUVn9knMKyXs8LpPceVJ5truSKZ3CLXwHb/B26uNT1w28i2cUHiKWyVJZYYJHbyI22m6AHnTbti+TDF5Nz+8U5yxr9QwWMjUhzyqa202u++rd9l5t7Jr7Xh4nDuM42h7Ta7/AKa8t3t3PCLebxTpVw1roiHV7a7ElpFpl3ZC+trmOZPK/c23WQnhYDuTnAPZl+0P2ZP2btUv9e0rV9U8NaXFqdzdK1np13IbOC5uSflsoAUmiivbYSBlt5+DMIxJuiYNWb4S8MQeFddstNkuNOtdctZ0gvL2SOO4gjm84CUSvHgRzssiQ2wt8CKcbZiZCTX6p/APS9IN9p2r6hq/hHT9WSHTL3VbiTTpvEVjp/hazmkYalPpV3AP7K1W1uIgLieOeExee7faHiiZk6MRjLR/d/1o/OX5r8Ec8aCcubp2Wl/lv5PVd1bY/Wr9ivwFF8MvCOq6Qy3tpbQXN3ezI80rRX/k26XM729tJHGElt2RYRFYbg1xGktvCFLqv39ovxX8W69ZeCb7wn4em1TRNcuLlb3ULoz2dxpdpbxlY/tdpcKJ4ry4kBW2Mwg89dhMUQcBvjrwF8RfhToNt4e+IreLNTeP4gWVvofhnQ9Piu77wzq1xaymaXVPDumSLNNp+o3I8yLUY57jyJ1j+0QZRw7fT2gfHEN4z8WeD/D/AIbvEXwpotpKdZ1fS5La01W8u7fzobaHiGS+s4fN8ie4gzNbSpwJMo7fnudYuLhUc979Nb6f4lt5N+uh7GCotyShTeuu1/Lq1110Xb3We2tH8T7pb6bS7zTBc3t9BJpYuFdIYrKPy/taXnlkyxXsIRo/9cAegODmota/4SqB/Nu7+G3KoEkhSBJ7dpt/7yT96T5XkS/Mv+qmK9BLgb+K0X4l+JJItLW+0K2sbq7gkuNSsLKby8QFCfNtJpTL9pniP+vhx5/lrzGTjdmt4i1DWrgTmD7NbR3Mnn2++R3ntyZI4zKDz5w5Ofm9ccBa/B+JMTTqQ5Yz/euu9Ho7Xvsrvz19Va9j9ByPD1oTpynfbXqtdeqSenr/AIdUj1zw1cazqcUgl1uGN4vmRX0hd6+W4/dkR3EUssM+DLgjJ6DOdy+grJrUMSRySaXOMPJG4hng4+8TFD880Xzbf3JOOf4ui+J+FdYFtfSRRoiRxhXyzbt6RfusD975pltw+TLkAHlicAr6nNra3Jh2SqGiR2WTH3fWPC8/vh/y1Ibd8mO4r0+HOSnhoNtO0nq2r6+nn1s/nZ8vPnMJVa3uaO7310V/Jd+3XrY6NtcuY57T7SXhvIVxb3Fxskgkjz5n2UyxANLBnLW/nxRmD/VzFiMrqN4juL95mivIi7gOLbLtCxh/1scMn73DZDDyf3uYv3owAprzUXME6zbtQt7faS7211IYfOUjeYoZP3pE0+c+bEfKhmQr1JqVYbGTDw3TpNFJvSW3bbdRxmPbnzY8QygS/LmZRuDYyc5T6CpiIRk4c/sU16339Xq/82nrGXj08M+zt+Z6tZ31rMpcRwWDyJuzJs+eWQ7fKljQAyRTFT+5Pb5sDNc/qtq0c2GlsIW3YE0bSQR3Ec2Mx4kzEJzj/R/JGT2zgVy9rrb2PmvcyW8xYETXGFSCbyh+7ea1kkEEMwGQ00MnE3JVAatR+OdNurSW3dFvdh2m2kt3ku097WeOSaHOFOP9UR2/vLg8VSlFQnUvv/n3X6/PaOnsamrhS0fbS33L81/4E3zR1be30eeNku5iFjXlJWdkJhwWmmlliXJAB/1o5Pp/EyX7BGr3EV00kQBNruwHl/6aGMqAIe1uCCT3KkiuBn8R2Du4mt57S1kcJFI08nnsc9Lof6o4PBhAYt1mkXBLRzatbNbyTQ3ZkLfIPOkDIhh9Ih+94GT97joM8GvLxGKp0/v0699O3b+kdlHDVJOnzXXpZ/fprsuz62f2da91mfc6LILbaY0XOzzGjBHJdQoQse3J/IhuevPENnBviYzyzM2Nlsm9387ky+bkd+e+OhHNcbrGrKYQ8csJXOJpJABjq0nlD96Tg4XBwcDOe9Y8El1PG7Wpchuly0WNwbtEnlDpnqQR7DIFeBWx9V1PZwpurd2emmq/7eei12d+ijZ83sU8HTjHnnq/6vpdfnrvpex0uoajFCu+KGawkkyFRnSRlc/8tZvLjxlj97p0/BuQuNb1Py3h3K8e/JaWaMyOw4MnlJGTntzj8eavyWV9JGhvTcuFcNtieRBt9fKijbGB7t9Rjc0t1ZR2kYna2ghhZFH+lDyZXHUyxeYfNkm5I57cgck152KlVnHSbota2as9mvPR/wDbvzvY7cNyQ932bqp9uz76x66PXftf3uI1fWEa0f7VPLMI1JEMUU82H2HmI/6kygDqcevbDfPupT3cl/8AJHMwkaSNI7ltkojkz3B5IUcxHGM5wc4X0vxldYD/AGcTxx4byhHcfu2GcfvvLPB/2vm/3e1eJ3M08b+ebJUb945mLOnO/Pm+bIfPlyoGBFETzxnmvx7iap7fE73dO6ve9/1d2m1tu2r7H3+SxVOnu17Vapq9vuv1stFt3se1aHqflW8dn9psoGQxiRpY3mkjlwP3SxoDLLyfu+aq9uOa9A06YxI1w1xI8eQSrxpb+ZJH/rZJIif3UPTH3Secdc15H4f1bS5dOiJDC4ypfbGm+RhGf3Y8xxN5xHfjI4BHWtq01WWe4WFYpJGJ2RwST+e8Y3/ujKSeT/0xORCPmO4Aq3jQqSpqlDVVXbpdK6Wy6W30WvlY7lCKlVnGpakr6PV6eV4t3aafwrbe9o/Xvw013Uhfw+UbeO2Zo1Vi0kkkn7zOSZMxHPHI69cDJFfb+kXRms43lZXfZgnehO/6omPy24/Wvzm8Ian9ia1lvJ0EgAjEEMnmOse4YDDyzzz/AMsu3IA6V90+B9TtL/TIJEMjl1wW2vHtwMEHzM8/UL06mv3jw/x98MsLKo6tTprfd7bStbtfo9Xb3fzrjDBQ5qdeEGr666aru7O9+7Xm7WR6MQMBvn9fb35wfYf1emklfmBVRz0/x4zyfUe+eKiDBuBnjjH19Bxj6fTr1qcSHZjqxYgnjr6jj147/UV+nH57KPLbz8rf+3S/rvf3UQZCEhTjPPXr6fX+X4U9sMnysMquMMMlcfw8HIyO+Pfnna1VZUJ4br83uPTGe3BOPfB/igJ+ZlLNjd0HGfxwf5e+W6UfZ/g/3t9P0e3l9wQ+JfP8iQJkA5/T/wCzH8vzppIODjIUbWz/AC/H1/DuKe+0JhTyw2ZOGz7YyCO3fv3waiA+9gN15zg/QdunqcfhigqPK271dvv/AK9f0YokCnAI+XoxyZB+uPw7dcnG1myEydDg7vmyxPQ8f3Oew/L2pzIpA6ZbJBXj9O/bnIxn7vHzNK7N7E5WPr83XsOxA+mOPYEUf3P/ACX/AIPzsS3zP8F/Wn/A87XEbGzJP3cZ4z25PUdP16cYysOP3eecE4DqvyH15zxn8fTnIFOeUtjacLuwThXyO+cenHftxuHNMbG04Py8bSOjdfwBHTALdc5GPmblzS/4PT7ut79PR/ZXw+/btrun5O1vTe/pZjI5ApYMCe/QPjA6DBGM49Tn/ZwaQ7Tu3HbwP5d+D/MfjSBcNu/hI4cdR64+vA5/XqrHUkA/Xv8A5/lz7YpR921unfTf/wAC/X5CIpAobaT93P3unP5+n/1gOKbKpXaVOOnLZ/8A1nA6duuO9OVTlNxx/rN2e+e+ffoflGPUDikmZWztYBeOT+hxnnvwTkevOar3eXz+ff7tgKjByM9NrYww5L++OgPuRn1HIVrbm2iQnJbs2fTrwPX0/OrLkRrlWOWJDblByPzI4yc8A/XiqckhPCbsdz/T8PXj6DOKnl5elvK9/wCv67Exs5fwr6dL6fh5f5vZCTYVflG71YHjr9PY9j170sRUKckAe67v/wBX6fUdGh3O6tls7c9M849eeDkY6nn14pgjYKTgc9Qrchx+HIBPX/0Hks4ytJzj1f8An+j6Lz1K/r+t/wA/vG3TKcIVTCnjafvEev4fTPP1asIjImQSF3cnG8N/6DgAZxnr6DOGlKMVG9tzMeMevGSe3Q9sY98BqbkxN1KqwwwHcDtnDdfp+J6KlH+HLru9P/tvn8On4h9n3e2t7236/wCWm1+l5R7TkJjAXj1/+J69hnj1OKrsjBxl+R/C3PT2yc/ewOmPxxT2dkfcAWyf72O/pxn8+w6ZqFg0hbj053EY5/An/vlcH1zmjmtterZem9/s76aN73tdb2irL4fwv/VhHCkNllLDOPr/AExwOM5/IrDExX5m+6Vkz/MkHB/RR79cU5lJJ2g4z0Y4Puegx9Pm+ox80YBIKOdo53YOEIxgkn2P0/XLVF+96/r/AMENH7u+2ifzWqun9/36n//S/qVtr2KSJsONx6Dr9ZM+nbOGx79FeLlkzmRR0zjp79hjP/AuuBt4NefwXzxkt2KnamcbfYg47+xz1wuK0Yb6RwOW3bf4uD/JcY/r3xiv4wjiOZU4Wtfq9vzv+NnfRo/ZPZy7fhI7221IBdrsQyt8o34G0em3PBz37DHHWrL3ZZVIYNluFBJ/PkDHTHXPX5cZrz4XxVC3y/KR8u4nPXoP8Mfjzt14tUjdFADbmHXoR+ntz8w/DANN4i75Fe+q36W9PLsvlcmVGK99dH5K7+W2luvTqdnbXzAAs+1kzwzbOnbvn8f0JxWxFe7grbsr/CeO3f369OcepPNedfamLhnbB3RjIHoM5PTrweD37EVsWmp7o2GQdo8xSedwGcY4Xvnsf0qqdZ8vW/32+bsvwlfy0M6mHUpc+tvL8fw9flex1wuwjEllyTyBzg+ufkPOe5P48Vci1Ql9riMq4O3tzwe2Rjj1H1bJrjRdowYtIcupcOueQemMY6AAHjn0HO2RbuMso3cfJhucDj6tzx69euSfl0jU6xf3L9fvMZYeE9Zaeuv4q/4W7tvRHeregtuUAHOe56f8CH44/wDrLfjvi4O4HPfHHbp1wRj0A988Vwi3BcKFkyvAGTjp1kx/PgY75zmriXhUKMq2V5+c9yMYP1Hf81610U67pv8AidU7bfh8l1+Urvl5a2AjJfBbtpt/l9+3WVjvGUMMxkFsZUNx1645GO3QH8KRER12yKrjP8QjxjtwcE4Hpt444H3uVj1RwQAcAD5+n5c4zj6/XFXG1HK5BHzLlQQDx7DP6HP67V6XiKfxuK9GlbTR7+Xl9zUTh+o4im+VSfrrf57Nb933sbctjYzxhZ7SCVM5+eOM8j39MnoMfplsuXwv4bl5OmWmOd2IosN6nnoTnuee+MUkOpAja5HH05Iz0/nzj0yMg1OLvK5JB5+YAc468Hvjr2x6jOazlLCVNZUKNVdfbUYtr79fTfq9Ny4yx1PSNWtTprXrpfr0a09bOybS1jxWu/B7wR4hQrNpduhZc8xRyJ1OemSMcH29O7eV3f7K3gS5LeVbJHv8z5gZBt+nbk4yCD7ZwDX0Ul1ID8pX5fvDGeD0/PnuPxxlb8F0jjkgem3OAeo9eg9164yMGvKrZFkGPnz4jL8MqunSPLpe3S1uy6Wsua149tLOc6wi/dY1unptr8nru/JPV63tynxjf/seaJ+8k0u8uIG3OyASvzJjAzvOMcevOeT3ry7Wf2YvGFhMy2Vwl3COE3xur+n/ACz29SPc9Oepr9KRPt5JDKWGR6v2Pf37Dr0aniVHB3bckn5eTj/HqPp2JyQvj4rw74YxkvdoOjU0uqFkvvVvPXquis3H08NxtnlD46jqtv8A4N/Vtdr9r3PyS1X4G+O9NileTTZ5o8/N5MkmSc/TAPud2fTgFvEfEfwr19HkabSL9WjPzHynkkXn5j+6Aznjg5PHB4Nfu20VvJ8sscUoB+ZJEjfr+Y5Ptx7kGsy48OaDeFvO0u1Yt3aKIk/oOnv9MHk14eI8IcBU1wWNr0Xfdtq+977fPXXpe3Ke9hvEvF0/cxGHW+jWluluvrq010WqP5lPFmn6ro/iWxaSzv1ht541YXMEyCPy5MfuvMjJI9D0PTJwWb7x+GPxKWHTrFFm8poIY42G/wAsfueckeucevfAOAK/T/X/AIHfDrxEhF5olnI0iSfMYIjgkEEjIJzznqMde4WvENU/Y08FzXMlzpn+gIy8LbSSW+CSePLiwMZ/3vfbn5tMu4Cz7IcVCrh8TSx2Gvb2Tdn3V37rT62vZPR7Xl6uXcfZVKpUqYzD+ye+1rv8r/56JWUj5B+Ifxg1C6EWn24S5kZolUNmNT83+sPzH8PvZxzjNV9K1q4msFjZU8+RN8hYlo1eXkyyy/8ALZ8f8sBwMYGw5Vfc/FP7GNxcuJdK1S6MkCZ8xpt6qe0UMLrkz4JPPXvuxiuct/2dfiFo0JtS63UMa/uy0To/1mAwM5xnqfTua+5wFHMadT2mKp+y76WWi6W2v6+btYx4m4syjM8HSwuDoRV2266tu+lua72Xbyvo4+VOAoeXfJLOw2STvjzBGf8AlnFyfJhGeIYuef3xHJqGJIg4EqCSRH3xwqT5cY/56mYn95MT1GMDOPm4Ze9vvhf45svMd9IknwhQMhkG9+hIjxwcdeTuzwx4rCt/B3iazfdc6Nd7l+cBYjJz6nI4z7se+SOA1V5ym9Fa+vy+cVbd9X26XPi6Xs4+zftE999r7em56n8Krie21KOVEllX5Cyw4y+CM4iORnt19+cCvsu1EV7APtsREarG8xIAPmyfOtsBHyTs/wBfPnMp2W42wiQ18dfDeO803XLdrmxvkkkbaoWF03E4wD5iLEFzg49wDjgV9ZagJ/7IKI8qXM0YjjMbA4mujgydODArGQfe5QEDoGeHk6T5npU17peXXqn/AHde9rSitTVSK7L59fueujuvvuzx74hFdWnvI7SVUsNMhe2ikY5+0X8rZNtZCNfJjgtx+7upcEG4EsOf3eW/FX9tD4P+Lx4b1LxTNc6ZpvhPT3XVdanleRJZFgkRTLEY0mE00MZEVoW/49p5pmYEBNn7oXfhyOKEY2JBa28w8tz5kk90w2JKYn6ylHeWeZgD50mec4X5E/a88Aab8Svgr4r8HWDJYahd6YUeaMxLJCqskh8zy8ny5jGvn+aPuHuSRXZl+Lq08XTk6nVXj5dtlf7l8/tY1KdPknHe3ZX7/Le2z9b2P4hfjj+0pZfD/UdQhl+HetajFc6jdTaTqds8Zhs45Q8VrLLdTLIPtjLBLLPIRFuWRAYuUevkWH9tfwvd+I9Rj1DwXLYaJrFna2/+kpbtd6dqW9Y7vVP3SJDKbiIMfKzG0OxDFjcd33v8bPgzq/hzUdb0XVEupo7CSZH+22lxJb3V07SS+XN5lrHEIJ4Uf7NcQxDGVh3Bjhvzv8cfCTwpqUt5c/2NqOjXc8sRtLi0G61iRFSTzPs0kXkSQzpJwp8qcyngHBr97ympgq+Gptu7SV7W073aldvqtW/d6XPj8d9ZhNcvpy2sv16eeuj0tyn1R4Z8a/DH4kaBqfijwy9vp9xaamfDWm30qC31KEPYRE3MWnSt/pQ8xU33EqzfZ57oyiQkZr65+B8sPgLxvfaFpl/a+I9Uu7zTtG8UpcNFPYzeHHWG41W4uZrlAL47ZZIIIXzlEkgYYyX/ABXb4PEPA+l+I7i2h0vdcyKsE1kcwok19LEIZRFJNO0cUVxCYo+I85bOF3PBvir4s/D7X/7asvF1xqNzNeK6Q6pPdv8AbYnkEohiMsYljgmGIWKTEDdg8DNehiMHGdKpLD1tbOyrXT8kvi1v5dlrvHno15KpBV8PdXWtrWv332fdddEtUf2Z/C34gi9tNdkj+HFtp/gvw1psNt4WjhXT7q7bU7DHlXekWsaRm0gnLmK4jgMJl3ywN5kMSS19Q2virzIPCTNokkN+8jrdXc5BWG3uYcy2nmSZlOJFQiGZpJrdkAgYeVmvwO/ZP/4KFfDt1t4finDfeF7nw1Z3dql0l1arpk5kjR5o2sXlinmM0vnm2LQy8rHhhkh/1x8JfHH4L+MvA1l8R9P8d6U/g2eMXcfiS6n+xRNc6fC0sq+XKRCZ7eJPKubaELcMEcYDEs34bxE85oVKsKmGbUsQ7NbNPZ7Prr9n56M+xwFPAT9nOFVWt/ht99/y/wDAfs/RkniTxBJrd1ZXVrbTafPcQTeHLyMMk9tdRJj7FNKfK8u5aVfNtphiG6Bktrj963zdTqmpLaWQ1B5Hhu15mS35jSTfiaJ4uPJhm3+dASf3MrGLgRV+fviv/go1+yPoWhAQ/FLRteur+0Mlk+m5MXnwSqTb+bFG0lleW8rwTW8Nw3nRh45oVl8uRE+WvEn/AAVm+F974i0DQtFs9TnuPFUd9pVpq7hV0241BLKWewe6geJoomv72GezlmA2RvLFNL8k6svwMuGM/wAyquccHWgr39s9N33cLKyfyb+1ZKP0tLNcuw0fZrEXsn2utNb7t7dG/kfrrN8RNM0K4t5XNwklzN5cV2LeRys/TybwRsDAAQQZzEYJsqW+bJr1fw34zXxDFLFb2lxbsp3fag4cIgQeZIgz5ksI5kglxgBM54Ir8CPhz+3X8R/ifrukLbfB/wARSXsN3qWna3FHYP8A2esMNysVjfyXAaYW8tuo2TSrBLbzqW82KOXa9fsP4J1e4FpoWq2azabLfLHcPbPHtggvIYo/NtSUBi8meIyjyCQDuzzmuupl2OyKMI4h7763en3p26/DZ7Xbajm6+Gx/8JNWu9dNHrfZt2bXRWej3PplTPIWa6dLiaEbkBXEiwgdYXj/AHUzXAJO04++QcsMVPb6raWsaTfanKkbTCgk+0RQTSHIIjGZjBjzcBf3GMHcVO3no9QaZEmkLWnmhUAiY+R5hL/vIhx5IxjjPQ9sZrMvESO43eYm4HMUg3yOv/LTEvlD/XGTnzACCHVZslq4cVjJS9nOk27+evV9+mi+ze/ox0sKlaM/P1117Ptbb7jptX8TTENZTJP9klRGe4hhBaWKVzHDICCY5Ip1/wCPkSjI/wCWxG3C1rRmVlXTjeW0HyM8kMQSCbnOwRvkxzD5s4+TAH3eCtHQYLua4WdS0L5/49pkkktLlj/rY5N8KmElcDyJAQPvcgjd6Wkk6WzRW8NtAmDuUSNJEPUxSJnyiMcRyk49gM1rhY1qsuep01u3287detuX8bGdf2dP93BJ73f4a6PddFba9zHk1WG0gzE0l1cMpRxfRxnbKf8AloV/1MWfkycAkDAJzXL3v27UHULFb2zKwbMKII2Ocy+X5eAeO+O+MDGa0b+eW4kaIQ3Ek214y9uySB2HEIlGBgdzNuPoTxmtbRtEuPkmv4J4JEy0byMhzH2/1UnlR5J55GeM5x8uNaNetW5IfwtflZ6d1+OulrmlOdKjTUprW3q7ra227Vuvfq0Zth4esG2i6gnml53EKfKj4H7w/u3yR9T3OeldSLGxtkiijivJ5Vj/AHaR74YwT/z1Ji6fgPw4r0HTRBaW8bvDatAybN8zbnf5P3sUSRp/rj/z2zwf7wOKpXV/YCR4TElvEzJhRdRwyMBH+9E0skhwAOvH5E7q7YYSnRhD94va+vfRrzfnaPmtDmnip1dtuzf46KV/u+/Xl4Fry8sPM3xkBVO2K23GcCRcATeaWkl5GBgRdeO9eX67NqmotcSNYXMCRb0leeVRvb/logWX/VDbxuhB6A8HIb3OW40TMpgmd5XIRfKXekh++DHLInlZgIw3Bzg4znbXnOu3drpqtcavqDW1qzyGFCY3Fz2EQEn70k5OTjnHGAK+fzd01FylVtTV9XpfyV9vul+CPUwEqnPaNJ2reavp2fLvf5f4rWPlLXorOJ5pN15MUZzNFCkyWuc48r95ky468A57ADG3z2Wzivr0Tyxi4jXy0dYZZZJNw/5ZeTjyoZh/0zyMdT8qlfYPFPiC31i9WLRpLKOzxJBdNJE6yI3zHzbWOPGZfK6y9QeOf4uNtHstCeN5Lu31YxMXEZdradJWzII2ij4mIi4zNweS3UV+KZtXpTxNWEP4SfnrZ/f8rfe2fpWXQrQoUubR2t0VrLTV2118vloaF7rmnadYCxsdMMN9LHGkcr2aJJA/l4zuk8qE4LD5oTLjp1FM8Ny/YJUnuC/nzEPufMn7zvIB8uO2SyH8cNup3niKHVr2CSUvDKkWxbaAJsjj42yRSykw5GenlMc4AA5Na9hBaJNHdXS3JjXe5H2neJOP+WpiH7rjfmLAPHAOML5Ma16qcV+7TX75tO/RaaN3Xm9Ftudc04pwlTsm3Z301tqt1v1v5dE5fQ3hG5tp5oisjPvVPNkEKeYhyP8AVHqDn6H8iG+7fhzqVh9hitRMsrouNqr+8/66HG7BPAwwyOpxnFfn34XmhleGVbdreyQJIV3yReZjH73GRMc/UZ7kEZr7U+F+s6RFGkVjDFEjLH5k0spG5yex8ot1wf8AW8dDnJLfsXAVeFHELmq0aTq29bc3qtV5KKd76WfN8XxPR9pg9Lt/k7NW67ry9W7KMvpHCBAV+XI4B4/MjqSOSSq4/MrXwx5VhknH3Bhffgjj3x+AyVqNLuN1xGyvuzkrn5vofx6dqsB1yN2QvOeM46c/w5xye3p3zX7S+Wolya2S11ad97L5dHL5auX5VOLivepX9NL9u/bqvLXQmBkwyYbC9eB+X04+o/OmbM71OFLDAYnPP5Db9QT7gdadvUITjcA2Vw3A/n1/p260FSV3E+n69O/9Pz520ZERlC7VwzNnt86DPvwen15PsRS5fdlQGUfw9S+RnJIPb6d8fN95UVQWZsfxevT6D3/z0okZhxjB7HcT+hB9h1GffiqjGUoOftbrov6t3/4fYBiSnftYrgfdzx9cde5HX9M5qSR1wCFySfMwMk44/wBbjoCcen8y0aJG+d5ySMdM7/Tpg/zIxx120mEDYOQF7suce45GeB6fnmpjza/+232/Pf8Ay7lfDLvb5br/ALe/X9Cq7JliO5Ls2ePQ8Y55x0PrxyDUifPw/wB0jPIznHpjHr6jH+1xTtqFuByx65PP8xx9Tn2xTJQQ25G2nI7/ACH0B9D74+mMGp5Fe+ve3n683fX4fLzBy54+zp9Xto/1e/r6X2GuNrEKWZeu1VI9Op3HHr90+hzgGoDK2GXp3ZiO304z3/i7dutTFhhst0G/69f5/T881XO05/h+XBOc5A/D3J9/9nGW05lzX9qrW2t1/C3yv3utieXm6X8r2/r+u4hKueNoDDAy54+gOc9PVfTnAqCRDFgDn5c4/jx+ufXp9M8CpSmwKww/fOPu/Tp19s49s02QBgufr/np/nnB6VM0pRqONN9bar/gdNfnZ3tcCAurLhuNyhjxk8Z4/h7/AJ/7OPmjUhdy4+8uc5+o9D6+31p6x7gWzyOq44cdwTkY7Y/H1BWMttZ1cFyVxk/wgnAx3H/fWenXBDEVJW577ad7a99P680A1MLIQGGW+b0weh+uRx1498ijBdOv147Z6YyOuOvP061CF8sl2JY9UZmwSx49+35Z4xyaZJNkZRMeoz06Z7HOBnuPUZyKIu0eb2V03a61/C39f3r3idebr3/HYSTIZhuyvOz/AGcn143dPQfj1atKrqp9d3T+P9D9P7o7ds1YLKoX5cnqGcZJ9fz9yp9+aY+SWLDarHGM8J/006ZA6D+L1A7NMo81vLyv/wC3R/rtb3grKSY84bdnvznPv7fhnPIGMVCGIbttLfL8w9MdevPTqcY6c5WaWN41YfJhffg4PY98j/Z9+c4qOM5UsSyr9O568nH/AKDx1yabUv3cLJev4/f6x/HmjLtG8vLvb/5L8vvv7qSukeOOM8jPXAz1/wAPX2quzrKBJjI65zxj0xj29fz/AIX7UcgMWbB+TcM9Og9vfOe3XlqrSoAzog29RleuevQ+n1I4z3Cqx8nvUo99dP8Ag37X369bH//T/ovjuyCh3gkqPvH+meO/U8dM85rXS6UspK/eXLIpPXj2XGcZPB/M1xqTkoFAZW/hZef6L+PP5fda+LyXC7evHK45z3MfbH5/Thl/hmFa3v2uuz6X9L337r9D9zlTvK9tP60fX7rfg3LqEmKuSoZi2cZbfj+eOOpx6cHjdbt9RhLorZUg/PhiXJ59dv8An+EY+blY7uRQMr/H97P8HpwBnn24681H9pWNg2Q3L4OOjsPr0/EZ9s1o62vPH8/K3SP3+8vVGXJHt+J3H9oRyE5Zjt6HPr/nvu/D7rXoL9wUIyo9M7A2AcDjr7gYznnsG4WK9RNkkhAwwyhHf6ZOPxPp16VrfbkOVwo3neu084HuTyDn6jr82QFdOq5Rslbez677299aee/zaG4XkuR217f5y9ej/JR7IX+4KdyrkY4P59f6D6ZqTz2yv7zapO7rn3wDn078ccYNcN9tKtEy5Un5Hz1A6c5Pp7n0wM7m0kvmC48w7QOOc/X8/wCn1q419V67W3/8mf4tEez8/wAP/uh3UF6Iw27nZxvAzz375PXoB+IyCtmK/wAEkt06f5z+P647VwKX0mdqs6r74Hr/ALw/Tp65wtqO/DYDM3XP17jGMD19OOeOa0jifeV3fW/n6+dt3t89ieSXb8TuX1Bw25T8rr/eHzSe3XB78/pyKtpqErKMsy/wc4G7p0J3YPTPDZ6ZH8XEJffPl2+4eATnr6//AKz04P8AdlS9ZCZGPAbgDiMY5OAd5Hufx5AArSWI05ul7ddL9l7v3qTv23H7L3vP0af3Xa/Hz12PQBM2wckMOPmOMjr7jv6Z+md1WY9VKAAkNjMYHb+ZzjPr9M/dbjItVExXeQNwwuM/L2+UYHTscH6chalWf95kMmQcbvvE+xBxz/3z74xhpdRpKUKuvVf1zdfX5amcqKl8dO++n4d7a21/Lqd4t4pXO5l3L82OoHuPxJHGRg9MCnxX5i6EnjAB4H49Qf09fauSiuWcMu4nj+96/wDfQ/l6Z4Bq4LgmN8feUDAyO3v3/JT7Vqq1RdVfuZzw1J/FTS7W016P7Sf4b6PVs7WDVPMKq4wMHjHXpkdAc9McYPtnK3vtiDkMhC42dsn+np1bHXPNedpektncQeu8fjz1HPrgceh6VoxX0bofmdm9uQOP+A5/AHP/AKFrDFy0g5v2my1276238nbyT15eOtlsE+aF7/N99/h+/Ty6o7mPUFckbh1xgdfxyBjP4f8AAetXEnyuQ4bb97bxk88dcjgY4z646BeCF03Y4/Aj+ROfyH45NaMGobdqFlZm+6N2QpPftk/j+VdFHMKiu3U07Ptr6+XSL6JvVnFWy21uVW9P6ktNNL/NanaJcgcBwc/3u306d+DweR1qcTtgZZs/X/6w/wDrdBjovIi9HAHyN13HrxnpyevuM+wzirKamMbSc/N83U5/ljv6n88V6VHM5RspyTV9LatfLbd9NzhlgJLXrfrr/wC2v8eb5WOqEylcALtznPA/ofTuD7Yz8ozxuMbV4ORkeY3IxjoeeP7o9+lc+LvbwpHzHn5iP8/r/vGnLcFtvzAcDhTgfr0x3/8Ar11f2pp71Nadb/ppb73f8Dn+q1F/N/4Fb8oP8/uNZ7e0kADwRsoOQpjBI9cE8DPsD9DgNVKTRtJkJV7G3ZT6xc9/QcegHfGPlySzBdHcBuwSR0Ybfcnke3VX+hxmphd5z3x2xjP5k/0+hzmmsTQlrKmvK1undLmta/V9ev2a5K8H/FrrXu7Rtvu1897/ACSMybwvohRnisIY5RyNq+Uc9umSD9On909K831JHt74WfyReU29Qzbyfkx2yT17Dj0HAr15Z8kkfMf4vrXmnjCzkWeO7jEirJu8xk52oTzHnp/njpXm5jKnKEKtOnbvZ279NLduumvSx6WXVG6zp1KntbPZv8LWs7W6d9XqkcdqsM91btBZxOXcndNGXIXA6yfuxL+APJxyONviniLw/e28F1FeNGba5Em6HZEj3Dyr5Yjmz5kpE0o3MJZpJ+M7EOEX6AnlhsrZBA03neWGZmcCPEiYGTuz5pIxz07ZB3V4f4oumO66k3SLHKzlCS8jSHmJu5/1vsD78141WvGhGnUg/wB7e9rvTT5X1tsvuPXowlOVSNl7NaP1d+uumy2d+tro/Kb9qT9nLwbr+hazNfaaZdb1mbfc3EJ8h5fJkj+zsSQBDBbyoi+SD++/5a5V3Nfz0/EH9mS6sfFOoWNxZTajNcXV/Als6ypGbLyllF3JJH5QE1vLJBFbeSD9nijGOnzf2GeINGg11JbO6tFvbiWD7Reb1EiQIX8uPzjg+VFPL5kNvj5iY5J8HFfmp8e/2Z9dfUn1bw7m8DDUZ7mArtuIzNax2dtDFLFF/wAeUIYyNCC371Ip8/JmvpMm4tqZe+WpVbpVel27XWjd3+Ftej6GeIy6OKj71O3sfx/8l6rpZed9EfzgaH+yZ41ltLm0udPNzqz7b3Tc38EE17bSwy/b7D964EnmWrobea4YTtNDITCMIVdp/wCyZ460wa/Y3cOk3kU1hA1tJcR+dDciXMktiWkQS6Zqjxx+TbTwBYbi4aIcGVZa/cfTvgr4g1ezsVm0RRdWyRwC4YSQTpqVokgikIGTEswuJo7eaWUAGMyfO0gVO+8JfCi8tGl0jUbG3n1O5SaC7e4tfLgaSGZ0jktY5DNl4INhtjj/AFTJMp6qn0VTxAmqd1UvrsvyesVrfTRW69Tl/sPDyfupu3m9d/8Ah3pe+utz+Zbxp+zrqWgwJPdaI09qscltYwQ2s8V1qU86eXJJem2Esfm20v7rdP5nkyRg7iJVNbHwg+BvxT1uGLwf4i/ty5+GkV7fJB4Wi/tR9J0nX5kYXOqzRRvBaR3k8QSMy5itzMZTsaZmZv6W/G37P+gajeR3UsC20x0r7CBa28aQfboGkvI5XtjH5LtcSAxXL5/fXD44wKXRfg/puj6DcW0cT6ff6jcyTyXkUTxvdz3Dr9nleHypofNglC2k/mQ+Vj+5uMtcOL8SMOsM4fVlXq661bS9lWVtb3e7u1pZ/wB265bw/DK9rz+0aXz1+5pK3/bumlnqfgL/AMMRWN/Zf2TJoVzZvDqDtqcerxvDZanbQytJDIJtPk861vYYpALWfzIhPE0kVxksm33/AMA/sd2ng2GJpdIOueHo9Yhlh0q70x73WdFhkhUFpJpNsTiwmSR1mh8qaa38oRSTXCYl/Y3Tvg9rur3slxqNqPsUYSKWLy/s000ESJGWVovMik86PeZ45YY2A5QnbtX1nw78EIrdA9rDPbfZX8+3kkd5MvD88cV3Dx9phwA480YH+s4I+X5Ov4jZlVi6VGaSqK1oq1u9tla22l/Sx76yDL6ahOML1aNnrs+vW9/W772dve+bfgd+z1baXGmv6bcxxabczIk1kITY6izxPF5V5FfxxRSGWeED7RbXkTSmdpTPkV+jGl+FIPsUqi8muvs8CPbLdrHHPbyhMyx3SxRRQyg4/wBGnA53g/7NVtE8NQ6baBX2AvJHPLb4CwNKYxumgOMx5xjHp1HAVuhub1ICkkCS+ZFF5T7fMCyQdVEpwRNjYOhzjgAg14FfOMRi7zxN5er927frpouz2tpdmscHGL5oK2v9LaO3mvuv72NIkog8hJIx53Cl+DHL0HOeOnGc9+Rzut6BbrFKE1W2ZnDE+bFL97H/AC1PBBHtwe+7jFY1xdNKTI8bR7uVAH7twehB8s4x1/hz6AcVNBMMor3UivOXXa74SNR12nC+URJxuJwfbnd51CtKNbmdP93fS/z6aN+vnZNayOqUeaPs+r3at/8Abd97+l7+769JdQ2kcRsrRLuM+W74MfmKcd/mbnqe3oRyTWMIJb25LrOdOh3l5E2Ps4GPLIJ8r+LJ3HjsRmubsZXMuY1MkigJI32nZII34EoHmCCTp/r+/wDdODXTS+XG8Q33MpnxjyJo4xFJCP8AltHIxEnnf89Yv3U+3txX0FHFe1h09E18uknv1t99/d8itTVJ1I2d9vR326fh+O5psump+7S4mF6iI4kSNjHcJndsQx+dF9QSpHAOM/NoQa7bmMieISugcskasqMfuxibzIv3eD/zy3ZxngDLVLXw1fzxvJaq+E/efZysaSD2wmDNFPnnysAdMHGKo3MVxKTFaB0dMCVZN8EQx1j8uWIE4557npgjC7VueMfaQp2XV7b9727dm11eqMYqnL3JVX56K737a9GtFL8DbudWubrGwXNrCqZ8tHi2Men+rP7/AAOxEI68/wC1QN4iLGi2yT5/1huJIzJ+96SSymI9f9SBgEqeOhFYE/8Ao7bbhXgIXYNj7w4PfI3S9egx+eflzL6/0WC08u4mZ4Xy48sSI6t23HHnHBwDw2PbPy+HiMY6aqOdT2KWqf8Aw70120079D0aGEVT2fJT072+6+1tu0mtrPU0dV8W6bZQyW8kO2RDsVYF/dpIMjYZfM83pn/Uhse2QG8k8RSwvZyX19exxiQoYYAjLM5HMRmMsrYHIX90YfwzST3KCWe6RibWIlo2fZGwjIIJPm5MkWejNzwd2Mg1454r1rTUv42uhPHEzeUGujLPFJ6nyklmhSHp+9Bz32jHzfnPEOe89J04VfaJafPVPRN6a3vo396PrcpyrlqU51L+btp003037a+VlzZGqw3WoRXCaZa6RbNI5RriS6kS6Z5P9a7tHKYIYfKL/wDLTPqDWBpu3S4Ht2t9Ob/WD7S00MkkmeP+WgmJGBwfO798fNt2snh2/VTpzJGHaSP7NBbSWqMYgf3kvmxr5wJ6nd9MZIbntW0S706SaVbhNl0pby544sKCMxAny1kizxjG78cV+bYnEpXe97r2y11a22d3fzXaz3Pt8NTlKXslT6pJ+q7ctl9//gWriWes2drdqy+TLHy7M5RfJ8v/AFflRbZR5oIwMnHfZwd3VadrUGqTRunyW0kiFwJXjleQyd4jFDGeUBPkjvgYyNvhF9rdkqon2dYr2Ftsk8UrrboQ+PM2HEhyR94qw69BxXS+HpFuZY59U1RS7yCS3VA/yp/yykIj4HIOOnc8nIrKlTnKNOUNL26P5Xu7aff/AIrJR68VhY0qfNN2t+Hbqt/ne3kkfVVje3dv5cVq/wC7byzGkrF93zdfN56jrBwMn2xX1R8Lrs3dxa29zG5uIxEwCSpHEkm5f3vlRHyo4ec7ZgST1/2fjLSLq1trWDymuLhnjG5mWQOxPeESYCw8k5/LPSvc/hrqcttqUNzPK1vpjN++LsjTOMgSjy45f9kd+PQ9W+v4fzH6hmuGdSbqrRVmtLbLbVWW1rLq7nzWPwqxWBqxgv3qT3S2s2rN9emln66I/TTRlj+zIiSLISu3ep/d9vN8o/Nz0HX35xhdVwFwpOQTxxz/ANtCevqenpyCNtD4fz6ZrelxTWqSlXSMgkbEXheQDk84559yTxu9EbRLMhSWJLYyMj647D9Py/h/pzBYqlWwlKdKole34r5q+tt3pZK2rPwnHc2FxVWjO/tb37JeXnZfnr/NLjtoDYAXCHB3DeOenRv8AfbBpjtghFfbxyuT+XHX8SPx6V2H9i2gBKbtxPBOCO/GMjGPcn8eNqHQrY8s6pzkAEHf/MDGR646c811e2h1uckcRDmejXN87d/v/wCG2Rx0RZQDnAC45GR+XqP/AK1Oc72DAj/lp95eehHAwfT1Ge2cV1v9g2mFAdyWIfh/0zg9e3B49P4YjoNsM/vHPT5d2P8AP6fyDHtqfLyTq7a7Ky+bs728vmrcoe0StPvZ+vW3T9fLe5x5XDKQQQWcdeh9P8/0o2ShQcnd9x8Dt16+p9cfyy3XHRrdh/rDycBieB9eD1/Afgc0r6RB0Mjse2HzjHTPPHT378jHzLnpXv7Xqr+f5X+/y0uHtFJ9ru3fy7K23d/KxyaqWJ+baF5xxl/p6Y/r7GoSuT94f8CPP+fy9yM5rpm0ReMSkDIDNk449Rg47+menfNRDQ406Ts3Oc8r6devP4H14zij61S/n/8AJr/gmvz+8ZywUAkjBcYOMevp82egyO3X7vJpkjjIx6ev/wBgf6dPfFdKdBaRjiUIoU46HHr2B+n3uvUYzSnw2u0ETsx43sOqfyz+X17BRYilL4Pkr2/Gz/L7ip/E/l+RyhDsSd2FGeGwCfrzz046Y9DzURO5lXL4UZ6Hjph8ZBHI6nOB06EV2f8AwjwAwJixKYJ+TPPY52k5x7+nOQWrN4aiy5Nyy7uGPPOP+AHJ7gcevU4o9tS+K+mzd/8Ahu3b5szUoy079Gr/AI2X5fecnI7K21eSR/Cev4Y49uRn2+9VWSMMS/ccjtjy8cevJP4dMHIK9qdBRSCJuVGNx7/rxwcdfbaMHdSn8OHJBnIJGV2DJQHHBO3kjH/68bamVSPLpUW+mj79dr9d392hRyxRpRkn7vA59OnPOfy9c5zimlRjA6sc7umwnPA69eOcr06HFdA2gugw05K8Y4w3TuR1/IfjyFiOiSFcmbcNvG3OcZwc4OPTjHT1y22o4uHL7+3zXb+/fe/b0d/d09nL4/6v6Xtv1/DoYcqxxoqlfm3DcXHU9j3Hbsefb7tU8uXYMXO/5l988e3Ht/PJNdG+jbyAZu2UDDqOwKnOPUHcev0C130SRXcpcIW6gFfn4/z2z7YxmnPEU5ezlGpt02bXV/a307eVrtxXspfyf19z7d/k7e9hM21dpCsM888H8ef5tn8Kr7GYggDphkU8AduePftz7YxXQHRpm43qcH09Ppjr/wDqznFQHSpU4Ep/u9vy+97fTtu4pLEUOZ89WW2nVfiltt3e9lZB7Cr/AM+V96/Uw3QqTgkY7Lxt+mSD/nORxVNhIW3ZIycDn/8AX+v0yM5rpZNNfbv3jAPR04/LjOTke3HXIFUW0qZmOGXceg6YPGD97P6D8MiiVfD2dqvyW/38v6Lt/iiNKtH8f6uv6Z//1P6AIblzkK3Kj5jxs/p0yScD24qQXkiAbSV/vZ/kP8SR6YPFZkMhUKSV3NjcF6c9ezdc54H5/wAMzTEtnI+UdAPvcd+mPxP5Yr+DlKV3TVT7+lnb537+Xmj945FKX329P6/rQ2Y7qRcjOQRjb98jHXg4x+H64zQk+RyVGWHJ4/wz9M/lmsSOcklslW5w2cbs9unHb+9jg84y0qSBjnpx0P5/n+Xp3Ba5VbbLe66N7eah/wC3Lutg5eXS1uvf+v67G0s0ZJV8liCRtOePU/Xp1565H8N9Z0VY/mOeM7jnb6E5wO3HH5YFc15ykKfu/NzjGM9iRz+o7d8mrMcm9dxLbxwqHJj47n6Z6fUU48yVKO1nd99Ffe69HvvsE/7n9ff8v6udM12iptGC27cGxnt1z3x/X2qzFOrjc8g+UA4I/wCWnfB7c7s8HsMDGW5lp/m4XoMsdwCf4de1TCc7I13ZB5+99P8A9Xb9SGbqcnvW8rX7fL+98u8r2iuVcvLrt0799b/df77HSyXWQdp+X+/3Hv39+49h1pYLjCEgndngHkdOT1HOUHHv2wSvPmSRQx7nvnZn659fQf1FSx3DAqxZVDdARnn8+fz754/hTmpNc/yael3a2mnbTWXnYUY8t/Pyt/7dL+u9/d6Zbot82/GOeDhPbjBz6dv61dW9YrliNnCnZ1P6/wCHcZPG3l1n2NuYltvC8YQx98jnu34dSRkGpvtasWUfIg5Uf1z+XGF9R0pxqSS9+pe/lbXX06eavfq9JT7Pz/D/AO6HTxXq7kAY7AOB0cY6+h6e4x6tV6K82blyWz84xxgHrxz6ep56Y6Lyfnr8jBcFlG/5t/XGccjGeemP+BYJoa6Y4wMD7pYEZwDyOPw7c+jZO3WNTl99efn8tl17r1ta5XKn7K/3aP56+ltvNXsehQ6psGcgIfL2E4y3HXv6+o78cirUeqFwwH3mO85Pyfh8o5/EZz3/AIuEhvQ0e1iN4Xd04YZ79RnnPUfTmr0F0Mq3zK2NhVyDke/Qc+m3j24FEcQpezVlr1bt8uv4NaddeYj2MPM6w3b7uGOC38PPXkjPy/The2OcANbgvXjJADNuyDnB5Pfp3xj39iN1csl2of7vVSM7cc9v8QeePQAbtG3uzGm84bI7nJz7HHGD7Nn2x80KreT5e7166O+lvv317R97mrkjb9Xb56bfl6rc677avyE9VHz89/Tp14PIz9RkVOL7aVfdGvzc4GTj25BHHscY+jVyLXLPzuY59W7DpjAP55GfepzdK0QJb5c46c+vr39s+mBW0a32n63/AOB59ubXvG1pZSp3l6dvvWrf/D/3dpdYLtpBkM2fuZJJ/H/Lfnkmrsd55YBbd/d57juc84z06f8AfOPl4y3ugrAEsy5ycHr7Efy6H2P3V02ukkT93tYIMt8x7dvT8y3p71tGtK3tN6l9v891pf8A4PSWc6MXLVbeX/BX5aed0dYt8rKoDjcG4BH884x2x+HXO2r0NxKwyxH0Qc9PQHnnp/LqK4K1uCRu+4f7oGSXPTJ9/X8B0NbEV6yKpbbxwcf/AK8fh8vsey9Kxcvt389tP/Jtf/Jf0OaphI8vub3Xlp5e4/67XsdWkxGAGKlh9xh909c+mf59MDBarSXTE/MuMDk7eueOmSOvpgf73BrmYr8MQWXd/vLgL+PGM54OP4e2a0IpyxJPQ88nHrx0PTHbP4da6Y1o83PGtf8Arr1W1vx6HDWw7jrKk79337P+n8rNnSRzhmUDOeuD1OexOD0/+thsZrO12JriwnAcKNnyjaHKkf8API8knPYr6deRUUNyNzbgMFsbgOg9ceg/XvSaxe+VYyeW6+YR8o3L5jnoMcjBO7pzj0xiipXbpVHN6Lb0s18rLW/XZ6nLh6NSOKp2o2elrf0unz3bvqjw+7kn8yWHzHLBtm6TKbwByfp05xxyfmNeeazFdu6xkgRmYB1QGQkxndFyVBHb16ckEg1q6pr8ljrlxFecrIwCF/l2H/lp5vJGMnjGOp9cVnX2opLscNGyMQQy9RIc4z06A9cnp04r5dY7D4j2sPaXq0W0l00vstX9ye9rRufWSwtak1L2WlXZbaPzvdvXqu692/MchEJlbVfszhZbm7ETtOEOYLWCOIwnr+5WQSS84/fSSEZ5rMvNBtL1RZTT77qTDuSEWBQB/qhKD0x7EHPatwRxGackscSyPsT95uMmXJl+5jt/UcZrkNSkkS4WSM4ZX+XLfd9u2c4/wzy1TXq04UacvZeSbaem1tk+3V6J7BSpty5FUbtfTR2v+d+ztfytzHIal4YstMkuUW3SOR3yz7UdH8l9+7PfpweOnfgVyl7pely3cEwSGO4leYyuBGMYt2QS56giLuCOMjjINejanqEzPHFMsEsjtsWNnyEJ/eSynkZhgiD4HP7/AMsbeM1z2oaPaTyC4KNhIpGQpwP3uzny+37rd2b9K8yWIqOpyQvba7u7b+b38kvnqdcaajH3qVv6+X62+9HDajoGlvB5d1LEoUFFlcjegD+YJPXHmYlHyjrjjOa5+0l0VLSPyY4ZrkCVI2f50W4ieSLmL5jHAzxiQEFhnk54rt7/AEizjVmmXzU+632iXePKA5khAx26cjHqed3JaZZafd2/lwSRmWKa7aN9oSR7eSd5I0Eh6sM+VyR028Zys8kp1HzN3rWb1WmnVpNeW33XNOaUO1vLb7v+Ard+kmJqtxC2VVAkmFUGHzEVzs80gZUiI88kk9x1NT6h4hkVTvljjA+95KSL5n7vB6RgYPr/AD61k38w0+PZO7RRSv5bSmPzVEjSeUJJSBiLacZx+57HdjCxPHNLEqyLFOqNt82MZC/P+6l7/ucHr0y4BOAQ2qowhLkhUtt02366Wv6dehnzy7/gTnXZpIFeCW3uoTvTbFceWUJfHlEZyJx1HTOMFTjLUP7aukZcm8ikV/nSb94k0MbcSR8/JL0BHQrwByTWfLptlJcfKk8dwzfvxF5caq/J8x4RtXkYbzskHGDjrVm2a+gkML7buDzNis0SM6H/AJaRnHJPl89fYZwaJ1JL2cZK3z1ul89/02V0ivZ+f4f/AHQ6qLWnmjaTz0uOcgokaOOn7vy9ucjk+XgqO/J+UgsJtVLeZbyxp8zNJDJiSKMHmQRSZzEM8/ezjvnC1dM0W1urxo7O4ktLuQCVYpklNvKTjJ4BxnqYoSMdTXqulwT6VNFa6vEkRcgwXEcaNBI3pHL820XHOIJsednnAwF9HC4apXi+bVLsrb7PZtb2tqtL3lsc9avGjFxp6VPTf8dL2vbW2/N0jyVro91a/u59v2cmLZfxjaEi4wJ/L8zIHRhhfY8Hb3mmadYSxi3mu7VCsmILlJmVVeTpJmXEbjqPKzj0wRmupt9Ia8Ev2a1t5YV+e4hSUQSOkob97EBmKUwE/wCpygGMc4JrNlszpqmN7d4lcKm2Y21zHcY5Hlb/APlt5eD5Q59Cp5r3qGEjQjTlptb7vRJaLzd99GeTXxMqnu+0/e3ab731t1tp/ele6tbY6G2sdS05FVNSjli2/u38xJpUfgeVgbdq9+JfMGOAMYbmtdl1SwWYyzNeQk+crwxfvrfP/LIl5OYTKnmEnLDf75Xn55tQaZjZG3cLsVo5Cgi79YvN86JvVhtx1OMYagPEFxG5huVVkCukpt3eVQPkBT7/AJpB8rqCfJJ3cg5pYrMIqLpezs7fj3drP8X6bhQw8uX2mlV3XVJLTvbTpu/lsyo1/ezRyzC7hhZVJePyEe4yeIsDYDxxnn2AXBNeSapdXk93KLmzvXiRnRbmQ+WJMoeBiXyIxBKNx8zcT3I43dzq1/FqVzJCxnso0j3q08iRv5vO3Ev70SKcZH/kfGSG5iUSojGOffGEkQPIfPTrmTMUY8ok8c89OM8Bfh87rJ0JfvL7vr2fpa22/wBz1Pp8spfvKT632v5ejvfTqvO9zzjXtSiS0FndajemKUrlIIhInmbCPLM0aGKSD1835eccjJbzp7m2CvaxR38otW3bWltzDI8v7zzpGkzHH5OeFG4YwBnGV73V7iRHlTUrmVrRwzmM2rWqIhz5Xmyu4JhP/PHyl6/xZVl88lt9MtjJd2hshAglmkN5LIvMXaOKSTExJGbdSDlRyDjLfj2YSjOs5Qbs27rpu2n59T9Dy2P7tQmtdu7bvprzXX3Ls4tNKNae+061hea7uIRIynyALczvDnp5piVYAB1M+ec9sfN57rHiCWKNZo9QWeQyBDG0W9YkP+qliheRoiOP9cB7DGDWH4v8ZalfNmE3FxbOcyWcSRWcDRRdRlOXhIGMgt+orglutNu8EwXdrIxGQkmT9/p+73fuRngYyOoxk7eGGDcrye1/+H6O/wB2nlY+tweEpqHPJ/vU1bVO2vT3e99dL9WlZHXwx2t/cMk5866nUyMLlHMfmZMn3I+QRwvkkgdwDg7vS/DunxuUSGPdHhFuB9mRygP+qAYjMcI/hhGD7nFcHoej2DyIonnO9XJZ2eCPMnP708znHfGD2OOreweHo7G0aNFkeeZVxsSNoraMAfuj++wZ269SSTzjFOblSlThBfLo9LteTbW9/RRXxcWYTjepC6rX0XTbfX1faW1rbHRNNe2MltFl5FlwmxQ22Pt+84HUD/UgYGMHIxX0d4DtWuGhjEXly7YvKll2RIPMADdf3URA7AMfXqorwOzj+03xmSVmuIkR/KJSecpv+7FDFGsUXnc5nPzAcZG3Le8+E1voPIkmgWIyBXWNneSZI/4Y4udqS8g4JbpjHBLd+US56/PLbmS8/ls7u19/J2sfP4ya5YxiqNJqLutdNPvvstteW2lmfpf8HUt7TR0jXUGunRSGbP7pZMDMQxxgA8kHj0Xjd7mJgyrt4BIO5+cdeO3P4/ietfKvwd1O9nSG3YRWVlbKDFGkEklxLJwZJJpTiItkEE+/IIOK+lvtO0ZT+MY+YevTHTkdxn64r+i8jxFsBT5W/Z+wve/W2sbWXXXW+3m2fiGf4aUcxqVJ/vVWutLabvs1/wAHZM1XnwFyx56evOP1/nz71XMrE4DHlgTjpz+I6njv90nFVGkUquTtOAGUHjeemPb8sdTnPys8wZVg3vtxy59Rx6juB7Yya9WVec1Th7TR9Xq9tF06W6euyUfCjShHZf8ADfj+G/lsW3d+zbeoUtzkgcgcDk8eufXrSCbavztgZ+90HPY8sRk/7w+mcNWeRyOD3zjJP5ZxyP16c8CqbPI7Yzk/Tge/8WPy+m7japVbRWvzv+tlb738jSNH+b8P6/X7rGibjJwo6clc8n39/wA1+p52xidUPIO4cHA/xOf09eeQKoeaVGTngYznP/spP6+4zjFOAydwYc5G08Z6fxc4x/un9crPtanN2m9fi08/s9rLWX5NFexjH49Pvd//AEm+62Ubdb2LzyMxUAnPPGM5/L+tNeZoxn5d3Tb6e+c89ORx+HIqB5cIoHUZHX/63PT8P9rOVpiTDOzFzxkhjyMde3H0yP8AeGKr2jj7/XTy3/H7rfmpEafur913/P5fl9xoGY7Sx/h7Dpz0AHufr19sK7zxgAMFLY6+/wDnp3/2cZbNEwJ3KCysR1Yh+/P3T/Ufn8sElyAoKncFPft7j73Ppxx78ba9pKPvX8tv0ur79/vK9jGT63+79X+L+41XuDnAbHrweeOME5x+R9Biq8lz8qkEF2PTdkHA7heBx7t6DoxrINyRtPOQeoYEc9OCR6euPXPFV5JWL72PPG7n/VgjtxjkjHQZ7+jTKs+dQV6vo1b+r/ir9UaRwto89r62tfvb/g/eav2wvkBynHOT94/kcdDySPp/FUYnLYZi/wDvhvMLDj3XoPfBHBxj5s8kqQxHIGQockP/AL2evvg89eMCke4LYCkBdo3MB39vmGeCenrzjAFVCpUlPllorXtfbtfb7n+O5Spxcvd/Jq3p/wAMn63uXJbj72DjC/LuGNvvjd6+3PouPmpvcKoc7t+70PXPoPbPv7dGK1HuDkkA7Qfu/wAPH6k/U9u+RUYJO/cSqnJ+YcfTPt+v51NSpL7/AD7ednf7vS1zT2dvi/yt57/p991y3HuF2B8EKo6Hnj1zgHjjqPbnBqt5xPzKf3b4x/f/AJe5zwM9Bg1A7qVxgNlPl2dPf+Hjt/Fz29KiklVRgnDfK+B/qw35Aj8fyGK0lKV+X8nbfys/wa+YRjy38/K3/t0v67392w8mN+GYbiVBY9SePQdeMjHPviqpkKnaZCPl++OYyOcjGTyOM8+3FV2kXZkkrGzHJc5keT1GecH6H69AsbKXHmYbaPb/APX6ev0zQ78mq3/L777b6bb315Rxj6W62S/4H5/jeM5f72cbc7ww4yD04P8AXb9Oc1VeVVJ25bcZHzn5Mjg8EDGcdc+2BgVBIzhnXOUC7ix9D/zx/I5znnHqStYOrDcAyL90Ly+8dxwRjqPr6jBrGFSUZWsl8/69LXle4RjFazV/w/C7uvmvlb3v/9X94oXEn7xWIIPG7u+Pw/Hj8sml83c+5vvD/wAe4/Ibfxz2xy1UI3jiyhbC498cf99Hp9fXjIqOSaNXLAtt+7hvbpj7vTPr+AyK/gpPk9lzrZtPrr+v9aqyUv3rWPlf5ms0ocKFOxhgH7vGPTnt3zj6n+GyJUDBclnZfvduP0/XntisSI7mYj5v4snpx/AeeO+Tk9BhTktViSV1IZQqlV/3x+GM56evtzijnjzc/Xvpp5rff9LafETy82lr9e39f13LXmOkhVgTlvYY5Oc9fX0+mcVajmILIzHr+GR78Yz+Pt6VnLc7j8w59eB+n+H49aeZy53BTsU7RgYz7nrjH1+hOTucZK6/e9/y+f5feaezl/Sf6tfn95uJMGyQc4+9/nnpnj+mM04NltjHH/Aic/T1/NfY8GshXYrx8vzE4Iy/rk9MfrjjHpVlZXQqCyvlen+f8Pzqoycr3++//AX5v5XJlHlt5+Vv/bpf13v7u1FIdxyd2e/TGef9r0/pzgsrvMyPmJ+9wufUdQcDnjpn8Ry1Y3mP5gVWxu2DnuCOf7ufXv6c9GtRuSTklnB78E/L1/U9s/TIojJc38Lb5W89ebbpflv0/unK4+9/wf1t1f8Alpc2YZF28g4xgb+eT2HpnHqeCDzjLNErkqQpxnlc/oOuOPz9sfLTDHcDlv8AgPGcY6//AKm4zxT1ZgNoICZxk+/foMHH+RjC6yjzU/v321f/AA3f9Yzz/b/T5bc3/t3+RsRzALgg7lz1YH+QIGcevHOC2SaXzA6sWXbt+6ygpz3OQfp/e/UmshJ2RwCrHdwQASfbk7enpg/hkVeSZCdu528xeR0x6Dgn9QfTI5KxGT5qX49L3/4fv81f3QvwyAFcl04OcOGGfyPGG7kdPfCXC7KQ2/aBx/h/nj+jYy43DAZWXG0e3cHsAD74+uasqTk7s/e6f/r/AJ0T/ufP8b7/AC2f3gbkVwSFPmhV3Zz1wn0HPXnhv8a0PtTHEaEsAu75eqfThe/t+XG7n45FUKuCcLyG9vwPc89PbrmpRdFTlCpbP0+v0/X9MrHNKHuS207ff1/pdL3H8S5bX177/h+r/H3ehiujGQJCx3H5ecc/kf6e/rWjFKGQDqx9+mOBnj37fn0NctHdhjguobdjjLlfrjkZOeuT1xgD5rhmLMoWQ7lPykbxvPoeuP8Avn884rWM7L+Lq/K3f+nt6K9hHSrMyyIp+Ykct+Xb2/EHt2C247kAMpyhbopU5JGeDyCM/wD68DledhuMFS+Vbq2Dxkducdee/wCVXEk37XJ3Fj13HePpgryf06c5JrXn5Wumm/37qz9N16OzZPuy8/nb8DcSYryHOGbp6fp298+oz0W4l0p2qx3KpOfmzx65GPy56HHQrWExACsSwDH5d2fz6kH6YH1PSneYo6N93AZgfrn6bscc+4DY+V88+byv3/Tv5cq9dOaS5U0mtPx/Dm/V/wDyPVRXABPzgbh97qOOeRg4x9Tk/wB2tOG9GV/vL6fh1wTj9fwziuJSdiyqCvHqdnT8s9P/ANfStCC6KlADubGSN24Hr1HHbPp7A/dTSNVqXbTp56aaK/3ffZGVSl0l+H/Du/ToredzuTOw2sd44IA/n9eBnquMHJP8PPa9fT+Wy+UGjC/K3/LXzMdiO/T2OOO7KLfkxmOQkZw5yemOmOSeB0AI9z2rK1N1+z7/ADJANvAV9x56N39OhPGMZOPmwxdSVWPJGq3del7+Wm3r5rd8pRpxjPnlSt/l2W+v3fOx4P4rkaWfzGDGSN/mkcAyHP8Ayym5564Az+I4rn1vZDDxhVXpng/UZ9/XOPbO2u01lBOs4C5dsjewxyPQcgdunfpjGa84uYJoVYqVUq3RT5gyMnGT6DjgH2Bwa+Lx0J4PFe2im07t2vfrpfr10tqukrKMfqMPKnisPyzt+60jfR620v7362e3c3bW7Rw7Ej96PLf5kLb0yOgK8kY6k498ktzt8v8ApDMrFlXphY/1PzY6DHXofpXLzX9zZuXyzRGQb1AB6nPH3cZA9zxnkgltWPU47mJpcgIy5PqMDuA3tnJ/8dwTXXh8yWJp8j/5crvbf19NdJb7v3ebhqYOWHlUlD56b22Vvetv3/Vx5u9j828uLr52WPZbR/MMb96SSzH6SlY8Dpsx61Et7KrPFISQV3HI/eL8xwOuCMYxzjPrn5tIpGYQ/O5neTBwYzJI8jgnO3PDIfqe2ArYsylWkZ8Av8vRj/2yyNo5HbPHcnOGynLlqc0Nnt/WvfR2XprymkY+6oy2tZ+nTa39d7WMjUdQhnWaOXJOFjUr1EYQ5PQkYK4IzweQxyK4R4pNNvNO8qPZDOvyMjZ+fafMhxkA5wsvXueBndXXXluVkBiTKv8ALJxkKkv+tGcD/ln04/PFc/qO02obcxWzm3IW6ofM/eGPrk+XgDB59Tj5n9anKPWk/J/df8d/W62k404/u06b11vs35pe9a76Wkut1Z80kslvfBopUVhKsjNFJjYuBsP7rg+UZeh7dRuxhsK3WSym+wno7f6M2/MTwfflhPUSRAgjHUDGcYBqeSCWK4iuozvjdXywf5EEroXHOCTgjjHHfHG3FvrrF/YwNGxjkuJpQVfBjWL91IvmcGHJ6Ln9/wBhyVVSx9klJfvOu1trLXW93Z6temoQo8kXK/8AG0s915XcfJa79ktpal4kiulxg793l4jjxIqHH7mX5v3sWOFnyWEIxtGMstxcrCkcwkEacbikseJfK9Mky+ZDkjtlcDHNFyJWeKG3fzGBkeKRtyO6+Xgxyyc/vOXyMfQHPzYccT7LqG9jE9qvzBotpltsP8glPy+USfl84ZGeDngMSxMowS9l5p6a+beutn5fi0Lliu3z/wCDf+tdL2PYNAR7iCG9jjhuPJfzBLFLIZQkrcxSxxx5EZHUxDp3PWvWbC9sL6D7NNYRXMBwhSWbbOkkXeLpvEBx/rdvHIzkivnnw1rbaGIbc3d2vmlxZz7om+Qg/wCjSRYXPkx8eZHuJj7/AN3TufF8D6klqAtvczjzTIPMSO4kjP72QGN/KlmgiHneTgA9COPm+gwOY0qWHpzdTmbetG//AAe+l7ta3XePlYjByqVLqDejtbe27ffW919x7TqH2a0YTWlxPBPEyK8bymNGjbgoAP3T+gYTAenfdkXGoTRYk1Ca3vNLlYvlLYrcWssg/dNFKD5WQR/rhLnAwBnmuNTxOLiCaaQw3SxwvCJCfLdTuj2pNnPmHBE3J4HIJ/i5Z/EL31sqaPIVIkWR1Q3DKv38+UEzFKPMDA8bct0XcNvZUzqm9IPXp719b+UdOl1Zvpo2zCnl853lPTs2trLW7vpfpo/Ppy9Tq2o6ZekwWTzTPISJrmGOWQ2+P+Wk0Uecwk95BjuXOKz4dGcGS4jjEhVNp2ebHK/XJJOIvbsfpxVKz8N3El9b63canf2czQfPasscYUSkZJEcsS5JObYTAjuQM4rpJfJMKbtZvGhi8xlluI0Z5cZzFN5ccSyg4GSJhj2wVrmnU9tTqVqrtUuuW/n1t2XRX120sb04ulOnCKvfz3/BXv8AL0loeeajqGpQym3g0+WaNZMNFLNb7EjORjzZI/3Q9T83Qc/xVBda/YxW6WV4kttOV3OIpRIkMvO1PNjAmOc8xQ+bAQo/eg4FdvFb21sxuWNvPZsu+BNqGVfNcGaTzM4j+kwlxgbT97bz2oy+FGuWeazhe4lRxEqw+fdzuMZ+75oihB6lQD346V8nmvPKnyzqO1Zaf5adf71427fZPcwTTnpTadFJXem73v1XqnbbS9peZX+npfSC+nu7iKKM70dgsm8Dv5LibfjHHnE4HJbru8W8WW3h9nmvJ7Nr6WHzBCjzTCBpB0kEEcUUEkgyCBPL9AedvrfibUr6xLiON7SDGyCwjF2ZHMp+VCYvOxwF/wBd5PpsGSV8U1Ma5dSsx0zT40diU2iSdwIzky3YdgPOPzjgIvc5xhvy/MGtaUFte2vn30/Fq3d6833mV8zfNPTXRWtZXd3fTfq7fdseRajHJqdwPJtFtIF8tPLhhd957pmQkCI8/uYsA9T0UVLb+H9JE3lA3rXudjL5flsvz/6vyo+POIHHJxj7uSdvcXV24DRzRxy3ZAjjht4Y0gU7MhlaPdHwf3fs2PmJBC9x4Q8KyaiYrnUreOzjT95JN5yA7B84Jym4znPXHfnblhXLh516qpwjT8m/02tdLpqn3Vz6DEZmoUv3f7q336ff/NvZW3vuT+Efh/MFS+u5ptPtWG5PNREkx5fMg8wT/vm2jr6/UV3K6dpiTPFa+dqNzmMQl1eSRJAdhlMghVRH5fT5eO2Ojd7ZnQoreOxjE12SUTyYI3ubh5fL/dY6LHE3HXaPVTgV1GmaHZ2aNLcxi1iffIYA3kXD5fzDFIY9xOT/AMsA2c9MgkL71HJK2IlTjrf089bW62b/AE3PjsTm7jOpKa9r13v1eu3ftdvdJW97nNB0A2hWWG3/ANIuh8xMPmTtxs8yUj95FD6Qc7vbGV9e0nTRZSx3dwhlnBj2W6jIT/YEXMUR5yPOORgdQKtaZZGJI718RQOSIxJC9uqRD7kS/wDLaWcAEjzlQHPO7OF6bSEtNQufIijk8hZAZZ2dEy/me2S03XgEZ9Bxu+owvD8cNGlGK/e3230+e+i89dtrx8SrmntnUnPazW3bZL77+f8A5LH6P+FSXjrHeXcu9m+S0jziOJDj940UXD3BzjzpT5PU4U53fRsTkBTJ83HXpn/x08+uAATz2IrxnwDaC1gjdLRLdTHHGm9pNkI/2YgBKZZuR++BG71z8vru4sidUyMnI+cYHbkY9/XjpnK/qGWUZUsNShPS2nb5dVv/AMFu/MfA5pNV8Rzdr7dL9LX7P+b7tiz5pLMdvy9m3A9eo6dsew9+7OYkAbXHA47nnjpx09jz7Yqmko+ZCcMDwcZwOmPr3xjjrzmomuM/Lj5d33143Dt2Ppk8/N3xgV6E/ify/I8z2cv6T/Rv8/uLoZgPvc9uM+vPXtgdxnrxikymGJ+8v8WcE+57c4xn8utUvNdjxwT+GzHXr0+mDnGeOjRyTELnu48sKwz+fIx7c/nk1UfefL7Lfq3drr2W/nbya3D2cvtfk/1mvLq/loWGmyfnB5HynPTPT65+vHOc0LdbflIO0fxKc+nsufTORj3z8tZhwS2AqkE/N2+uOPrg59BghoEl++APvDCE9ge468rz1P4npRPejfe+v4m3JH4rv5b9u36P5mpFJu3PuI4/i6H0x+vZuxxwKjM4YMX+TBPOPvntnnr75OffFVJSVIUsoAXevPLNgdsccdPvf0qrJMWVlwGAfn2Gfxzz9PbNaNpezjPTom99rXe+3r6X3lEKcX3el/611+6PpraNl5m3bhkjnP8Ahkfj6464PzCq8hO3IDk/woOd316Zx249elV1uTyu1hGq437s75AMgD72RzwRgY9ByoLk4LYd5Bnj+4e31wP88Vny814e089/67W2i+rWjNbOKf8Aw7/T9fRXuSqQFI2/OScsF/gHYYAHOef5DJqPexdVL/Ln5Gz27eaOOgI7/lyagklc5HJB/ukfe7Z4zjqOpzz0xSF/KQnP7xmw5H8IOc9eDjpz+Y6NUaFmv3tl6pP/AD7dV/hVwk7SXp3t1fr+T+V04vlZkIwWdi3OMjP4Ddnr69McnnbCbgHK4427WVePwz7H0B+nPyskmX5kOWP3056+hxzj6c/VsbapmYLubCsxXDDd37+/v1598VXJL4o6fk7f8NbZ/K7ZPNH7S16W0+Vk4/rf5Xld80/wx7UT55MNn5eucZ7dMZPP5qyScMoKg7SrgAH0554GfYj1zgVVE7iNy5VY1Q9MSb5B/wAs+2Qe3I7k5yKpSXJAUhdzswCpyNvrjrwRjjjpgA8mj3vtb/13/r7h+7zVN/n/AMDTe23zLrSghQML8y7gpPf/AJ6+n59yeeKjLsckliuOnHz4x5WDx0PB/mck1TjkR3CDcm35pPT3iJ7fr69yFc8jghUG3B+VWPf1PykHHb+mKr3p+dvlv/wxBJ574wQfMxyv/LOOPuT0w3fHGMHpmnyzfKu12Kgcn27no3HT+ueq1HdkLKx5dDz1d+fTsDnkEcdRnmqBlOX+cska79oODntFnkeScdhnvxnbVax+Kkvv/wCHt9+vZaEyjzW8vK//ALdH+u1vetSzOzYUM6gbUUtgt6cZOT+OO/GBSFyofdGQ7BOWZfLXvnHOT1B6dO9Z5uFysq5y3OwEFw//ADyx6Dnqfzpzy7izLyxyjJ6Z6jPQnjsT+GcVNpRi5fp/we9ui/B8xP4X8vzP/9b9upnQE7NzfL8wB58zsv3T0wefmz3xmjzmbpnDYxx0x/P19+nB+Zc2S6ZSTt3L3w2M/ifr+PfnFNilYsmOEPLjP6DjHB9+e471/AtSfvu6VLfTfW/bW3/gUu+l7H77GKcfX9PmvzXzt73QLdLjAyrIedrflnBGT7fLg9znNSQksd7EhOu0nP054zzkY25+vBrMjG13wRgnc2eMnPHPP6FfxxSm55jDfKu3nnOXPrgD1xjHbvQ1d0ua1t76ffvZ66dO9uknD4V8/wAzX3pkgqMDrtwN3XgdM4I79M9+DQZnwwXKjdkbeAMnHI/kM8erH5ly2uJFfCkhAMEsMu+UGT2JB7dQPfoqi63hdykLxnHQfrz24yP0y0y/vT+//h/0+eiRRtLKR1bH1Pr9fTnuM9OMfNKJ95ClQwA+X/8AX82B9Bj6cbcQy7t2ZCdvAx369PT8zj3/AInRymMD5wTwTuHIx0H3jn8CPrzVe15VrS7JKzdt/wC919PusuWHTV+3la/486/L7zf+1EfP1ONic/T/AGunqfoNtaFtMgwSdgOdoHz8Y6mXaOpxxjB7EHO3nhccMyqzDaC28cH09+P6+5p63DPzG3YEkY/LHOMc5z7cDGK0VSz57fJdvnb119Nb3Fywlt93T8bf+3fLc6UXQOAmMYO44PQ/J79Tjkd/TkVIJflyGAOO/f156n6gfl1XnkuuFRiAucMyHvn6jOP19uqzrcscndhV/hDDj6nGeRx2z04wDVKp3Wnk/wD7R+XX7xez5ZKHTo+/pe3Xvt52sdALhQ2Af4epPC+/qeOnTP5hp45CQpRg3yHaW7/Tr/LjrzXPNOSFK4HH+Sev5Z4981egnZQo34b93wDxjfyCO2cA9RjuOQWftp90/wBPL+v0Q/ZStfztt26fG7P+rO6NzzHBwXIYjrtPQDvj1/D9CGkM7/Jlvmdud3XZ7HIx+KnP5vWM1yC7lzjep6HOPfqM+3JHrtp/mg7OcH1zkDHc8ewxz+fSn7STi+Sl+667b2e3vLv1T7W0Q4wsqfNpuu/R+vbs/lY3zc7lGTtZdyZxjgY6Z3Z/L8wQFXzgoxvRh1z6fzxx/hxjFYP2nn51JIbB+XGfn65JbHGOn5/3VEyhyqMCjdMclQPXPXv798LkBiUny87X49Pku1v89LijB8y079fL5/n950cUyh1RWPzneoxjf6uD34OP5cCtRJtrKQ3Q+n9ev9fzrkVm2yoPvEfc6/J6due45Zc/lWlFdZCnGWb0/wA8fj/jRCUYynzr06+f6+X6SmUeX5/13l+f3/Z6Yy71WRnG/PbH6nPH1H5dDViC4bBy21EHBxn+Pjoe/t27c5rnXlZ0CkrjHHb8e5Pr1HpipoZtm5Wcn5s7e30Hb+f4fxbKfve9S0b3vd+VtvLrLzsSdas3nRttJbaPkAdR0+vPGeB39uNypI/LP9CuRyR9BjP4Y5xxk7cSGcLtwcAn5sfocd8Z7/TrmtRLtSFVs/MePl/kcjHUdc8HPtVcql73yfTvr+FunfW/uhoRS79xY7Rxlh16enOOePvfnkmrEU6Aq3llHI6BvLkx2OPmGCO2PpnquMLlCSRuyzYLDtnOOm3sP/1ZxVlZNo3Lk8Y3Hgn/AJ5nHI9V7ep64qopR/F99bafjYmUeb5f13j+f3fa6mCUyrgnLNwAOM9ueozz/s+2c4WlqAuAhypZQpHXhF6ZOM5A+vX1yKo2l27OEHylfLDqnA/ee+PUcDnOeQMnd081v5sCOhYnb86yNnGPYZ6emW9axqRjUlD7NV+vXfXS1/NfJbijLkjVV369vk7/AJ+Wvunj1/G5LEBcg8ciJH/DDfNzg9c9fl4NcxeRJs8rYCW5VtuAZM8xdT0688+pOa9Pv7FpXbbEh+f7o9P1/wDrj+7jC8he2mzzA8bYbfjA+devX164B746Dkt5uLwLqRaSdbqn10WttFtbt992dWHxSjrLtf8AHd6r5aP8DxvUdPJlk3RmT+IY5jzwDnafoP4Tzk9jXDaoLnThK0LbVaOQY2vyOOnDbR0GRxz3HK+x38MCuBIFVl3nc/079Mc/XPtmuK1G0S43xF4X4dPlOd6EZyB2OTzyex55FfP1MtqxjOcGqOre3W2l+99/LdbHqLFRmqfOva377aa6O7ulbtFd77nncHiKW3EcN5HtVlRQ6MJI8GPjzZCR7dx65ONzbc97bvArRyBvlyPLIfnt3xnvjn8eRXJeINJe3ikwvl7fkVmf5Jc/Me2CfcD88bV8N1LW9X0q4mG26FqD5h8pt+8B/wDVggtjrnn5eccYzXmVK1fDXjVi6r3Ts3bfdX9LLW/S9kjoVKnUvKFTX7reW/btzee7Z7/FfxOJ41kSQo2JHb5Ski5/eDB6emQe5wc4rI1kxtaTKh3F49qEHZslkiJEo+7yWcHr9SB97wKPxpqSF0+zyszj/Wb/AN2kkrZxJ5fBIixjGcde5C71341v3tFRLYzbUGzzBkI/cZyv74A4HA4/8dyp49Sh71PV90vyV3o/72vZe8VPCyiqT2173736d+z630skeiwanbrawQ3BTznt4kRmI3+Yqfvc/WQZ6HHbOM1z07iaddQLpIsJKNEMHzN/B86INxNk8nkfJnjGG8TvPEuoxwSmeKRrwzzKkSyEyLHLJ+65jbpBF3wpGzrgU6z8czw2VxbpH/pDTPGIxnHmSx8zSyyjmLAHr3CoM054l1FTW2ttNPv/AB6y0fmL2PL5X6b/APt0f6XS/ve0W2pM1vfzJOyXMJ2NDn7hx2+YjyjEG5GeAQe23JbxFZJBFD9pdJLuR0LkgI/SQR8rzDMOBnPzdAck15TYa/cReRboj+c9vm8mO2SOR4XMsdqD0Mvzluc5WQwY4KLssEuTGwtNs8v7tmC75IPMfcJYYfM/dRQdFnABPJGQhC9kPaSp037S9N/Zeuzv6rttK/Lboc8+Smve0euu++2m2nna/wArS9EfX4LQ2+4xIsUc6rKBu2SEPwY+omyMYi49wAA3IXOvm4vbWOB5ZZnnmVJUZCbG5KY8s9D5JU89PctjFSaZZXN5cMhg83G2WO4JQxzAR+T5UkfaaEDzjKsHM3UmQbq7Tw94AYz3t/8AZottzAyRxvIgke4+5DKeRLDmWT/XYyOmDnFdlPB4qv7ONGk+6fle391L5rp1+1yyrUqV+epfbTvvor2/N97PTlXSP7QuJVN242RSiK8MfyQS+ftSEbcY85Qp5I/A5rvZvDMNubWeK61CEOAsIspPs+6TzY5JAZeMRTlj9pix5IxxggVtaV4WvrC1uIbu+tkeR4mu3ktY5LF3OP8AVyRS+b5q48q3l5ICOSOyy3mhTajNaTtf3Ntp9qk6SLBdxyRiSM4iki/d5k+0ZGSTmA53EEfL9BhsslRpv2lK1Xo+3/pe/n6dLnnyxka0vdel91qunbTVr+rMts2i6NGV1TWhd6myb4dLY+ZcMkUe9RNJERLLFbhflz5Q4HziuF1LX9av/wDQra3nm0tmDmCO0+zxtA0iHM00iQxCIRbsmIgk9SzZLeoQ6LYQxxXd19nmmS3CRzXEUUl5kgIBNIWEsvnx56cEcgknFZEt8Jorm3TR/tNuJXkEEMbiS5iijwPm3AAGXEUMLbVxuByKxxKqOXJF9Nd9Fs9k/Xdbdbs3o8sY05/xd76LR+e2z1ty+lrWOYs7TS9Kt2lnttTEkp3xxJfMYXjOw+UpWQwxyjn9z5O36cVk6hPZrOt1a6Q6QTAJJcNI9qYpT/AcmWcN1x5P7mckkdMN6BFfXcsEdjdR2VkzxhreyEH2uS2ORlrqb/VRmCIf6qLJ4B6jC41/o15PHKmnWkEW2TdJq115km89mggkTndltuPL8oeWMHq3k4/DzxDpRpr+D16X7aK1rPu+q5XY9LDzp005TdrO3r5q1r2v3foeeXYazjnvmuTGLk7Y4I2ea4MmziQ+bJN5kpx08kBR6c7+Fv7/AMMXG22uYpre9Y7zdiSRJ3kKDzYvJjx5gPORhoT3K5ru5PAp1a/WPV/EN0lsN6zJHBNDdy+b+72Qyg/uRFwcQKuRkzEdV7fwz8BfCOnzRXpfU71IV3RvqN15m/pK8hlIHlQ9QVxjHADfxeDU4brYiaaw1Jq9309Xo99O6XpdnpwzmFFW9rb0e99LaXvZ+no1dnn2jeArW4gt5orTyreU73vWjjknlBTMaRDzG8qE5GSMTd+MEr3sHw2tljWe51GQtJEUNnsQR28ewjBkkwRN/wAtMfMfoTmvVJNLkt4xb6XZMIYmCwTJIiRL/wBcoj1x0yQ305NRpYakGIktmuJkJZTGm8D5/uxDLRSEZ5l3f8CHNezlnDGFg17SlZrp+C1962vXt3s2cWJzurKPu1W/V776PR/g18zm9C8BJY2yyaZGj8bxLM0kCF+p8yQxfvBwfT2JzXRW+liOaOS5SKW5Q7PKhCXFvbg/8tvMfnzs85YDj0zXQR6Xq88YW5geGMqP3JaRt49N4fCntmNcdjkEip5EvLGMQwWbTt/BHt/j7+YY+ZcdPJYgng5/vfSLJ6VJU5QVkndbfne+i/u/fZKXhzzCdV8kqvVbff8A8Nqr+X2cz+zWmVpAJJNzuVkud4jQL/rSgGIu2B/qvbBJNa3hmK3sr8QrHEkgfzDJKC2xt/8ArPKjGVbp5HT3B/hleW+ig36jE9rGsaHywse+RjzsAy37o/7ue2Tyaz9I1pV12Nmg+zW/moA4UvcvJgES5PTv3wvQZzXFWcaNWEtv36je10lbr723Tdct9OvN04dSnTqaXdm/X8dLPvbtZn2b4ThjgtIpZPnlkVH86Y7C2Mf6qH5Zic4xlcfTOW7KW43fLggDO12OzcDwMjK9xz+uOlcp4furN7G1ntEcNJGFMkx8x2yvSWSQ+ZjgH3xj5cANtPIpP7wqu0jaQfnEhPTuMEj8OuRkGvsaK5qVKMddL3S8vnpqtb+l73PmqkJSr1ue/Xe9/W+u19kte60LzHnG75ivLehHt3791/EAFYXfI2hQMLwoP3vXoc/p+BwQ1QsAGUPuZ/nkkLAbO/cc5xj3H93gtC0zF2bdguv7tcfPkDGfUZ+v51s6d/h6b9V+f+d+6t70xhyyTh5rbb01a+9L5s0N7jOAcoO5B9OCcgY/767dOlOMm3DNtUsOrn93x2+7/nsTwVyvtYCiP5mKnexPXJ/PP/1u3SmySM332Kll6DuPpn8OnHtwacY/y9er8vRafdrta+hEr83v9tfTpfrv6/drHSlm2AE42Fs8/wASn0Hofx91HIas0pAwCrMx388usf5D2/wGKqGXcFDBjGF27T0/D/DC9B6VDNJtClR8zYyx/gPYSjjj05/KlLn5n6+Xz7dfP0sXFWVv6/N/n91y9KSx3s7BV+p57c+o9h+WBUNzO0hSKNdrFQzSbXP7v6jByOemc8/WqnnsNzFyyDEYUEHd7e3PbJH0wNypKoO3glvmY/8APOP0zz/9fGOOtXGEZ+95/PT/AMB206a/3b+9lK8X799Ou17/APgT0fe/y0LHnb3ztBUfIoPOfWTvyT7DGOvNRzXKW6cLukZv4mwPwHHbjr+WQagE8aguu0KjbF3cbic9fqPQH+TLiNObm4YufkT7u3jp0H3s9f8Aex264p+zcUl/X9fLS28teWTXaaVV3HIZ2yAuXxnucZH04/8AsmB8Oql8Mfvs2Tu6fkPYtg+2M1S+0Hy9wXYsZTbub7/r+P8AP2yGWJXkkO4/LuGGOfyzwOvrn65zV2uuWWm1rdVZ+flvf/t1a8wXriQKwG47Cdm5RwfUYzjuOp9+P4Yw6Y3OwjyGxkD5o8Yz3yenbPYZ5qqHKsTJ88aDovR3HB7Y/wDQu+OCRULvuJOAHZflywJT0z2yAORx68/dpxinG0af3v8Az9N3v025pSpRlp36NX/Gy/L7y08yHag8ySKNvm2/Iu70GP06n3PJquWkLCQSICz5jTcM4J75HX0PzdenQtDKC+1Yn8sKCcDnzZDwZRwP9QM9uhxxnNVkd1YDbubsGPvmJj93GTg4Xp3A6NPL9jWNX1d02+nTS9uu1/KJG6jbXrpf8P6v+CUdN3RcIgK8mSTJJ/ed8dOBjpj8uRULSuSWZCCq5jKnfk/88ucD6g/rjFVpWZBllZ3cb2A6gnHGen07du9UfOkYurFkK8esfT/WDjnvzxj0P8NawvzO+ttHtv8A3X+v/btrCht8zSNxIqYeUyMwzzzJGDkySfltixnP8IzioZSrSKq7sJ82w9CBgnsuM5/ToOjUnkchXBDdU3bsZfrGpGOO56H8RmqrXJz5cjBncZQDKOF6/wDkf1qdZS97otunye34+Vv5TSPtddtrbdtldLTz89WWpJ1LtJx5ePlyRkehxziY9AMkY7j+FhdEG6PdvO5jjHOc+ZJ1/hHA+9+uarl9xYNiFY8eYGbiTnPmHp/x7dOM8gcDJNVpZM73UptymxD/AKx+8cZ44JOZSM47nPStCHUlbRfJdf8AyRfk7+R//9f9nmGWwxPlfvJG468Afn0xwO4IGajgk3fJI2xAfLU8f6sZyTj04+X8cjGGzVummUoW4U9uu8dY8c/ln65yKkMoULyGAIyPbjJ/L29uc1/ALlduX33V/v2Xf/g2uf0AbLSOJBEsmc/xMc9EHPHTrnr27YqcNGiIXbzMDBIP8uMY5PT657Vjx3ALsQVODnYPlIxnHZuvH/1ulSPOqRfMfmVwcgeZn6Hn8RxjHU4xVKcEueN/xf58t9m9vv05iLcV+HfT8P677mmJVY5YSAKcYJw4H5cD04Y/TI2v8xUKjDfMdhUKO+MehyRk5yfoMbawTc+ZIvzKRt3YIxz7Hc2c9cY7dRmtIy7hFtZPlILkDlcDBA6de+Dz2xWd+s362/CyAvCRQzBSxX1ZOR+RGfxHHqM0G4jAXBY+v4fhnnvkDPtxWaZRGSxLSADjHbPtwDk479ucVGtyigcbmJJJ3Y6/gc8dOPbjNTKfNL3L/h+qVvvfy0NEly8knstXq737ab69Jbfajb3t9ZV2hg52t8j/AOyfXPAOfTHvxgip4pSpXadw6Z3Y78n/APWTxyOSduHHPtRl2Kp3Hau4DYffOQPXj6c4Aeb7XEdpAAbhW25jzJ3IxgD047dc8GtFVlL3tPS2mn3/AKdu7M4Rjzbfj/X6fmpbe8gNg4+YOD2EW/PPPHbrnODgDBq1GyN91gremMfrxkDr09uKxHnVYm2Ozru5GB/fxg+vT2wfXAanxXAZRk7Rn/gH3+c4LfzHfp1Woybl6/p8lf7lv1t71XfLy267+mu1u7/4PQ2/PI2gEDOS/Of3hTOc8kemR+mRttxSKqMw5wf8/r9P0w2Ij7cDdvRtmCGA7sOh59D1PvjGWlW4ZQVGcZxtHI6/6zocfXBxz0z8tSk9P3b9l5tX/V7+X3kmv5pZ8hzuUcZGMdv3XUHOMjr2BA6VOt2QVTdu5/i/1Z+UZycDPY9OOnOaxjI4dGzkY2fJyR0GegzgYxyPc85aRHy/8OEOCOOvbJ57c9O/fAobcfZp/d0a/Xd22fmtGBvecfmOS7KuADwMDpnG4nr+GOhxmpEbLAiRQeo3EfmO/PHc/h/FlRy7ieMj0yF3Z7ZLEZ/Ee3rVlBvLYyFAx83f6Yx0zzj9fu1Up2lTh7P8/wCt/LS32gb3jfvp+G/4G4s0bAITkk9f6f5x05AzipkkWMHLd+MAjg98nHU/5PWsO2kww3MAR1XODnHOTjvjGMHp3q9LcKWz8x29ewP4/N147fgK2jLmv5ed/wD22P8AXa3vQ1GUut9mu/p2tb5/M1VumOVA2op+Ygj/AFfXOR0wc9vXpiru/YmVO5mPXJ/D0z+I/IVzkdyi5xxvZNylSc8Z5wPUdPm9e5VtEXAzlSDkbMAgYPrnI6d+PbC9KKfO9rvt19f0v/w5nO0uj1/Tz938vu05tiOcsuzzDnGCwfOfoeffqfzwd2gkwVV3nDBgFX/WZP0yAOnp15AOMVzUVyIiFDEEfewO/r26kZ9vfrU6Xe+QoxL/ADcgjHbqPTnPr7dcrpN2VP1S+9f12vtdbiOmDqNpjbhjzn1HbHt79c9sYa19obYyh2b+M89B1Pbnjp93uMj+HmEnO7JLBRyuSOMn1GRkY9ARxg8mtEyfLvDfKQT8oy/4+nTqT+DZ+XeFpbfufu3+5tprTpbuZ3k/e/DX06Jeu33nSWlwplQYOCVXIViDh89MjpuA6Hv0r1OG1c2yTeYv3RtwuyQfh2zkemexHJrw/TrlUu4HfJQMgb5uOvvtz+Z9sda9+0m9s7uBVWWPJRI3VskAA9pcj8evrjFVQ9nLEuE321W2vlfXbzt57EV5S9jVnG8ravTpZetvl+G5y97bIDKwI3Yw218HnqP4R1754z2/i831dzCzqVYxHJWUfPzjIA28+oOSv14r2fUraBUkd1jdQXzJHyqxg4x6nBOcg5Ptg15nq/2cqyxgMqEhQo2Dp6HHrjnHtivRrYeEKV07b7a338oW+/8AI8ulWlKpza2eiv8AjpeX/D972PIdQtLS73JMzec2HRx+75HI455+mPo3Abh7+yWyR5AsknYyg+ZJ05MajiT3A/rXp+pooyzBMDlozH+9454ZMevT8c9l4LUJpFDhQzRZBXfEY8Z/gky34jhsevIrwcVSSjb2T66X8uumvff77WPaoVHH2fLrrqvTdf01bzvePldxdXM8k8EkOIix2u6h1cHnBikJlhY47DjvtxlfOdb0O2vxOrIyMPmIWXeVPdhEqjEXr64GccFfSdYVWDxx3CwuzSOiPIgRjg/ui0wBAOeAcdO+Qa8/KapFLIkkMD+WpcBnRJAn8Ji/ejGe2ePTGWK/J4ignLlq7Xdmk9t1qr2v6a676nuQrJqnJ0/ZPS6W70+T1tfbttdHkVxo8NtK0Hn3FrMC3PlJ5Eh/hi5OUMw+VSd3Jx2JrJOlpJIYpZbpJA/ytPM8cTCT+DyowIThScFpj1JJ5FewXRe5GJ/ssqd4zE/mIQMEmY5J+ftD97Hbg1xWv6XFBA8myS4QguqxyF40kP8AqozvfMJXn93nnHUEnb49TDXjzQ09l+WvRb6abN6rTfl7adaMvZXfS3a6/C/3/dY5K68CxtbNeWt2rs7u6mWTzCEAx5UcoHEXy5P5E9RWLB4R1Ke5jeP95a+XsNvtSCO3eUkebJIcGWbORAB14JUYxXRaUt42n3EUNk8YaQv5E6PC6Y/d/aYvOk4hyhOAWGTkLzsrrtNSN5Vhui8N9bJGiBUfyLhZU+aOeEvhj82baaIHnoOPl1wtJVXyex6L99y2v923VXd97O17kVajjGotE7238/O35y7aXOLbw3rmmuka2tpbRFtqS3yyJHJIf+Wscw/5bcZzzgeWfZfU9A8M3DBVgsZL6+EWZzbtbukijDkrNKAfJgXP3eSX7YwuvpV39uM1l9ouLG/XejQ3Fol3aSCJ/wDWReas0UU4h48sGMnrhj8y79prcHh14o9Q1OGby2z5ht2gMeV3y7/kj6RckRlR2wcDb9dluX0eVSn/AMD0W/z0++9pfP4jESl7kN9bq3l6v9e+mxr6P4d0uxJu0sI4NSnUJBaSySeSJMnccRp+7BjJzzgTcnOQ9ehQ6PEgiuZ4oFkuUiZpI0jgjhaIeZHF88YlligkCg+bLyeeMbVyP7U0zXBbz6QY5xIkErXaSoYEXAEMmEdpYoZzw2RknPQD5YdTNq8q6fNf3IubnCXFhaCWRVZ+uLuUxQwjjjt3x/d+hap01T5NLb6Wtv5We9935WuzzEqkn7+/6bX316bP1tb3c3X9aNiJFtrBr8SSFJodPdbYNOI8x8uf3kk8wJaX5Qi5HfdXNeF55tUa61bUlFtcFPJjs5ne3IjDvulOnHiOEbDGZvOAmwJQDXdQeFZZ0lSKb5VRQLd4gbBJATJFK9xG8UxnEWBPNJL5BPQnOFkuNCt1R7qbT3a7jiW2ku4JE+0NHsfyoorYtMJYJCF/fDnye4zljlqzlzS2vda7rp2++3XWw1OnH3ErW8vnd6vV77/dYxLxzcr9ru5Io0mkFtYQSTj7RcTwkSRExR/MbcR8mOHEwhbJ4JDb9no7QhBK0im6Bd4fNkjjbzevkxx9IJpARBD5+QpwSuQW58WN94cjOo/YINWureSa68p5Fee3jkjzESTsgh2xZWcxCLEKY5xUPhv4hWniaCSZ/KSSOcW628FyjyfLJ5b+T5ZkjhgklHli4ycdOM/L59VKNTkmre1ej2tp3X/DfebqpP2fu6Ja33+XwxfTv62v729qWltbFBG6Ww3+QwjDSMTJ8+Ih5k0rEDAPP3uBnGVdJo7zQR2srX4VkLm4j+Tb1zDD5hMvnsMkyzBvIyQvQV1mn31nAkQlghMisWtxs8x29X+TJB6jzuvfAyBW/EiyuLiVjbRycrCFBuZU75DEEA8Z8pjngg9qX1Nu8YJf1vd2vtfo/wDE9Ilxryiqc3s1t8uq7r1Xys+bmNJ0DT7KFLi6ZZJFVBGkwM88anH+ulwfMmxjJA5z2rsrW20y6hEcGmXF7ODlh5vk28WMY/1sowAeOuDnPIFX7azXUDi4Q2ltEQqGZ1jR8HAM2wmUxfxDpzzzjbVy+1DSdNga2tPLmdflItU3lzzy7EgND2A44GCe7erRwcacOZ6fuFfTr/h2votnp5nDVxDlLl839nzv/N5ed/K15Z91bbVi/cpCqDBghCOmegi83mMHB9c9hnBqvb3c8ZHkQwRJ/BN87RL/ALPvN68Mp7jpRaSG/mZpHljt8xuYHQrH9Bk+SSfbdjp711cl7tt/KtLWIonyMRDHyx6yiWVAY2HsOvRjVUMLLm5pVLav/ly/W/S+ujs+ttLCqVOaNKnt1/ra/wD5L+F5cnJqdzIQx+4D5bT7UjcJ6wjcOp56AcdTn5MeXW9jvHC1vAA5zJNLHJeO+OUhijAHIx6k8HC4NdtDpNleLi9xIH+Z0DSfL6R+bF2z1wB07cbq2oWnhrTVYwW9vJMpypRBJtk6cSy7eeOk0v1xw1dFW1OjzT6PZq2zv33/APAfJ6pxzp8vtPc7/pp2X4etjhb9by8SOTaqwgeWXdvnOT/rpRIMxcE/uIc/Q4Brlb69trK4tszSS7JI0P2eORww8wfvpfvYIznBOV75/h6i91JrqWUx2IKqC3ltPGnmc/upfkkk68DI/T71eVeJb6VP3aQQ2zxt5mUleUvL1/fZ+/zyRz6dSCv55xHjKdCKqU26ntZfNXfbda379m3Zs+xyWi5vllo7NP8A4Gj/ADXbWx9z/D25E+iW9z5glDqm1MSxunTGTz79vqDkbvQnuUYn7p8sx5B6fd7jnOSPUEfiRXhXwo1DUZfClk88sUjMq42Qyx44HTOB0OOFH6At6vBOgba52lCXbkfP3HqNx6D6dAcCvuMqlz4PDTitHQou8r9dNrab3v8A+laOPyuOXs8XiYP/AJdV3bd/n3VtL6dLbR2DMPMAVtzS/O+3mNCT1Pctj0Ax3HA3MadWcs5Py/JHn/HBP5A89cZ+XJludgaQNGxkOyJV5kAI9c/zU57EYzVeadWjTcxQr/4+T39Mgg84OeAB02+jHl15vlv+n9ficknaN112+f5aGoZ4jvHIwucdc/jkfXOPzpBOZDlQzZ45/hP6j398Y424rMVwNoYuZHHynuBx5ZHfjnk4z09Sz3ldiPl2hD/Cdm4+/wB0kj1HTPbIVqp9fl+pPPp7zcv+B1d01r2Vkv710jVN0NwjLEKv8KAHkdCZCvHfGM9OQRzVV5pZGIRoxFJ8u9unPT+L69S3TpWU0jKyoVcBifvOTuHr05/En07/ACrl4nEgjCRldikt5gz+gz04De3JyKrdL/l2uv8An6+qS16bBLmjaftHr36dNtN99187I0oSIzINu9I8s7KwxnoeuTjp19hxnFRyzFW3Y2s/3dpz+67ZyOTzjHy4z+FZrzqqeVlg+C8gHyb4+ODknj6+pAzy1UUuPMcupKoPMRQW/eNzk4+96ZHrg/e/hIRjFLkWl+mj/r+upnzc2t79O39f13Ne5visYSJQF/iLA/J9CCOfXnOeBnBqktw4ThdrMOW28A+o5GM598/his97jeyrnCb0bP8AH5YHTg8/p9TxtmSUZc4bABRcq+SffGR7fzAzinb3ua/Sz/4e/wA9vnq0Bey8oLM7MEXcdxEaL7HH48kEnnr0qJNzq0jSShg/ygYT5QnUfp+X1qBScCMjnOOmA/pkAkdj+fJJphnKNs27to2NtOeB2HPb0+X0z1K3ypfEt1pre7Xyf4r7rE1JX+f6W8tf/JfxsW0LuoADYXO8o3b15XJ//XyMgszKxs07F+PkTnGM/wDfQOeSeO/OcZWkZWUghmzJw0S9cHsDnn64GOnOaZNcM+1Gj3heSnT5+f3vQ/6mP3wd3KiofupzSfTVbvTsr9Pv8tyOaV7fhb9UWZS7fvB90j73cR9ZSOPXn3x3zupI5Xdt5Zv3YPzKNgI7AZxk8YJ2nscCq0csjNuKfe4Xj7idjg8ZPpg9O+QFjuGeMqjsG3NuUoCNg554/wCesv3vRePWm483s5yd7eX/AAVvbyt57CUnHZ/16r+vvLJkmZ2fdtMh+YNjevfJzj/UjHTHvjNQKHJZSScShiGYAMh7nDHPnEngAAe+AtUpGlRdzzJvLOhb/WbM4klk8vnaPLyD1xnvmoFunYh1YKrnduZf+/GO3THGMfWgOaT079Er/jZfl95oGUNOXdtsY8xURR9/Gd7455H3cnHXPotMdkCsy7WlKxjfnB3S8RoOcEwdTjAAJOTk7as0zAc7CgXcxDDOzB6dP9dN1x2BHzdGpNJv2ogBZP7ufLZ5v9YAcjAEQz0+hFVf3ue2uz1/+1/9t8vMksvOUVYdpdGb75J3iIcnPJH+kTZx2KcDPVkadd6ncrtGD0YH97J/qh3z5ERXPT+IepqAyrhpFAjXy8tn7siRZjji56Ekg5UjPbHFVkdIVZIxGzyjYruDHtMx8yWbjkiD7uSOOm04JqSuZ83N1/D8v62v1P/Q/W6O5wNihyFd33dCxyR1Oeg55HA9cVcE5eP5toUON56EEdvNGe2emfQheA2TG331+X7rsOh9x1HTsDgfgAKckgG0CTAG9iuQd5GCcgccZ9Cee3Ib/PpVJK8JWdLz0u/Xo3fv11tof0B7OUoq76/12+7lXe72lpSSkNujbax+9g43Y6R9G/DnjP8AFkBZ/tP7vHOW+cbiDhf+WuQce/Q+vTismOcSGUDgr68kHvxk5/T1wcYpjP8ALt/iVsqXyZB79eenT5cfjmojUi7x366Nf8Dte/56I2UakvTVPRf5+f8AkpfZ1Y5yZXDYVT8wHyEnj7voR7kD2xkhpGvWVFA+Vc8Zb+ecfoPyzWQsuTIw3Iy8A5H9zJ4I98Yz9M/wxyyMWT5jtAG7BHvj8846HHuBhc/aeX4//cy4R5f+vW3fr11b7tK3pZ6G2LhvmIbI27j8x2ED0Pf3H4jvT/tQEatwpZxvyTv8vsMZ9cj+L8jmsWGVQrqGOGIT2XHQDH+Jz74+acbm+UBsqcEbspjGM/xd+OT36nHy5832or0X4PePr9n9GOKjKo4X2118tbbLb1d7X0No3OCCSpX25z8nfpk++4dxg9WsLOjlTgDb/DjGfTnjPI6YH45xWHE2xWDDAyerdfXsenT9TkjbVuImP5s7ly4zgtw3Occ5P4c9cgitqcpNp/ud79m/Tvbfp0ts1KZR11V7O/r/AMP/AFsbLTgsVAbnl/lIwDzxnOeeh47/AEqRGzgFywKHB6jmTHHQdgeP1wTWSuGzvJ6nYVOQ2fp9O5/LFTxSEbmVgSi7ctwFzxgN7Y9G7HtW3tP+noGyt2VK5dfkZFIB5k3e2OB64UemTkFbf2gsQ25MsvG0NgSbcYEWeM4zyB1J5IrnvNLCMNlWRcMWbP0wBu7cHJ/LB2zrM5yQ3cdfudeoP8z1H5USm7cj6W/z7f8AyP6GUYc3Xy0XX71+T+eqj0IuGZAF+Vtuc7efy9ce/wCVTW+4MSzEfNgLuA3k49jk+vI7YzkVhxzLlSOQOM79menQfNkHHByfpyKuR3ibFHcPlecyAgYzx6euV56Ac7dufmivXfv02tp9/wB/2T3otxX9P/hvO33tR3FlfDBh8rYxtAxH7YP+T+Aq0Ljaq/vPmH3vmIH3+OhPHJ78e1c4bwAuSQFxgcA+nX5sf54AwQwl07KOcg55yO74xxn69v5itJ1KcZfL/h1dpP1V2vTQj+v6/r8joo5t5KjcTjAbeeP8M9ce3sasmYBWLblYjeD7eh4/z6965z7SfKG1wpBzuAIfj356k917jr0pftsnSRWLFvlZRn5T7frz1zx0rOMuX897f+2y/wCB5392uX3uX9PK+3N/7d/kdLBPHIcllHy5UDOzP6+vOW9sDitGORZQMHof++j+fA/4EfYDGG4pLhvlZTgLncrLx6d2Hb8vU5xWjBe4wNx3E7/u8PjPON2Afzx75NdFOrGXuTfst7X2dvTms9b9/XWUVKi1L+Jaz72v36firej+z05lHTcrY6YOP/ZW/n+XRZYpRuxg/MT82/5B259M9O+fxyvMfay2HyQ27/PsfzzxnByRVmK8DZILEA4bjGDj07c9MBc56cCrjU5pKF+v9P4Y99k+u6MZ03TXu/i7779Ffftp52OrN2gTqcgbeoGPxJB9+fyXPyzreKUUR8j+Ld85EZ9CHx+Iz7gcbuXF1GykFyW6HHtu5J2nJJwO3B5J4NaVus8yhYU+8pwwcbM8Ec4/p/3yPvRicdQwkKsq9RUX25lsvWzd15X7WubYPBYjGVKapUml3WsbvzS3v37pa/EbButu1ywWPMajb3OeueOMdOPbgECvY/CNzDFaq0k/mswjyrEp+nIOB6+uTjOK8q0rw3e37RltzR7tzHbmPHXPp+H5dK9Ks9PSyIQmUiJcK0S7VTpycjJJ4yeBx0J+78ws8q4zG0/qkH7K+9t/O9131/J2ue9icooYLB1YYirfE1e3R9ktbfn2TtynUXmob22xyLnP+qZvLGznn/awfp+uW891iaVnfKgID83zoAMkHA6+vXHQ9Dg7te+HmK/zTQs2NruM59CMYAz9e3bnbx97O8e6My+erDkOu+M/U7QDwc8r+Bwa+3o41yo8lWpo7P0ad7bPTbb7lZs+LdCMKz5b737/APyPbt99nzYeoSwqrbXZSfmyF3Y/7adfT9fSvOdXul8uQ+aGwwBTdJ1x24XOOuf1FdhfPvwceV/shkxznHB6enTPPBGM1hXEdp8zs8UiBI1dXwP3mc/ugOpHfg+vOcLzTlGvK2yat57fidMIuMVOav6ad12e/p9x5LcWwvbhnFrLJCTiZPLjmfnvh8Djn/Uk/SuY8SaZc28DG1sriQKm9pGeOGREI/diWMSRS+QOMeaAf9nqK9G1RbdGlNrO8Um7OGlRIh13GKTzIcYzx37ZHVeI1S7uTFK32tBGy/615Ecu/l9Jh5h8wY6AkjqTjgL4+JowiqsJ72e2vTvorP1f/wAn6NKXK6UnfT53tsnqu+9meW6fqNrn7NeOttPsLr55/wCeUuSQYwc8cqQfm6Dbj5Yr+5gQwgLLLZ3EmPtEKpPFGTJs848kycE/uZsHuNpANZ1xpmqXursI006aGQfJdCA+TCJf9akpeVBHMPmxBCTzwCOK25dDNtartKM0buH+yXEkCHnmWeGR5fNIwcAEYPI3YG356nSnUVSEINqjLppzab3d76J/jt7vL6V4r35rp56X30V3+npry1rawgtbpZEdQsySQlXZ5rcgnzP3sUjqYTgMOCwXqueK7DTrG0RY1nSxUxx5tr+aAeXCZX+WLzXPmxiEuAssowBgDaDubzV725aSVZdKlVduILu5ni+yO3/LKSWUfvpMbecw88dM13/hmG18QN9m1+HTwQnkWsqTmNJjInQqsnlOfKGbcy45xnkZb1Mtj+85I26aab9t2uv97u+sTlxTai5Xfsm3+G347/er6uPZwaVZpIrxRT2tzM259UWSGaOeQnmWExHyeMH/AJZibB5JzXcQ6LoyQW/mRrf3KrvcrA889y/H7y7ikDKMjqPNYf7I4DcRaeHNIgifTdASZTAWDTRyS3EdrKr+ZLMDtMI83/l4OBxwvUlNe0ubfSYHW71i70+6dmlg2nzBsHoXz+8n+aXEoIGcDauBX2WHmqUPe9hs9VHRaerW+mj37JM+erS5tKf8XTr0/BbPsvmdBdw6fplt5txo6WaMSiR27xxxLIc/vZvK/wBVMYm/0WFfN8jjIOGKczp/iR4INiW6JpguDFI08r3t/cP5mBLPNLzFFjgww7gOgbBzUdvex3Cz3bXQunKlo7e4RFke5R/3R+yyf6o3AwPtAxCd/Ho2jp122ox/Z7S1tYJrZ5ElcsjSq8v+uBWUKsP70lRMFmU7TKHX5CxOSmoyjVTte6WqfbZdNL+73XvW92IqS0nTtbs2/wAorfV/hZ2uWJvF1tCHNxBeW9lE/wDx6pDPNDN5bjEg+zxSk5Dp+4JX8Aa07LVb+5eeaDT2WGRUttkgdPs0c0e/zsykGQD/AJ4w4l4wQM4rnNWg1+5sX03REtvPH7iTUrh5Ut1klk/enzUEc0mI8RC4A25HcAbdjQdB1wfZU1XxMYY9PGy8S2ERtZFlx+7zIB5jQAD9/NNnBzgYFRGdeU+TZK+t9/xtp/27bzveNyjTjFy+1267O19XbTul21s4y6OTTdRkt3s5bnT5LX7PGss80DwRm3lfmKeXzN0mVJXyehAHJ6Ly8Pw78M3l5LLpllBpsihI5dRs1lijKj7yRQwuY44QeYcwMWY8kZrpr+3n1Arpeh6hJdTvJGissazwooO8xm5kjaDiMNuOfl/5Yk8bemGj+KdOjQg2LeTAEeBBsVJOOD5Z/eGcDfk7fzINdMKCnaM6ftbap7d7LV6/K/ZrW0eeVeUY2hUv5W3/AMreV/0jxF9aXnhJI9s1nLbFf9Gur258yX90f3xhtSQxmEQ8w8YhiydhYkV0Gi6pb6r5Upv7OcHy2aX5RGQOcQzSCISehAOVOAAcmvOfFXwa8UfEjXLbXpfELWEmlO0dnZw2sptbfzNnm+csMqg+eu3Jm67Dkj5g3SaV4H1PwvcJHqFxcX0h+RpUXy7Vo848yGLywM+npnvya1pQqxq831e1O/TTey0ve/3L/t6y5qlUpukkqrVXffR/LVqye+t/PlPWXudLtFaa6uIL9T+7iSIyTyIW/wCWcvzCE85zjGM98A1jXEk2rSxrY6Bey24PysIvssY9h8/EIxzk5bjpj5uj0bS9LuYxFJksAH+Vk+Rcf62NXiYR+n8QPUdK6f8As/SrQsga9VmCD5nm+cdh+6zDyOoAHrmu9UJVJc//AC67dPyenkrd0zhlW3g156fLr/8Aafd8R5teW+rxRxIliLbPyIkkrySoOvmQhRJFzgcHnp06s7T7DUZGX7bDqM65JAMvyd8gxRRgEjjPT8Oa75rO1M2yJ7iLn5WeSOSJ/TnzOD1HA4zkluNtmW3JWNRcIuwPuljlUbhL/wAsgCcSdieec8EYp/V46SVW3le2r379rb2unZu75qjUvHl9n6/8PvotPy6HCXmsf2VHsWx1ELnjZbyEcnH+u6kjnPA985zXI3/iMzyosnh29hRgCby6c4A462wxkdMExEn8MV6bq1uLWJVa81B1YFkS2WMI5xviHYOeOnGf9nGa861XVLTcEJvDM/yqt2Qj7h0wcHoB1P3QMjOGDeBmdWNOD56v57r0v021++7PUwdP2nwUuttbX27X1sk9LfPocjqGtyQeYLe2QO/8Mm7mL0URAkA4/PgA5rxjxFr0hmJaGGPbNgBYng3jkyArJnGOSJe/OduAF9D8S3iwYMYxMV6xFHTnPHmoBkjoceoPGcL4RruoyMsyXMxklLEL8ofbFxwd5PJIf646Dk1+KcS5rKpXVGD1Ult5Pa3p2fX7W5+k5JglGnCc6bTaaT2Wq30Xa3b1eh+gPwi1A3Xhi0VZpWSOPzN0Xlm3Tp+6jMbnc3XOevYcZb2COdF5dWZmOWLDB9cdGPGfbnr1wvzV8DruU+HLEFFjtyEK4ZE8wDHDRRyZ54yQPqVwN3vc15kttDkZ2NhePofvAfhnrz0xX7bw7OVfKMFU9nqqFHr8VkvS3yf3WPzzO6apZliIJ6Ovrp/Wy7b69jY+0LNK5ijCRxhCp9T0PtnOT684omk/ex/LlUOcNjHHTH3vfnPtyQSuKJtoUbsLkSErwcY4Hf0/unp+Ksa7eZmy/HbOOepA6H6dRjvmvckl+756X3P8eui21a723PE61P5Out38n+en32Nv+0NhklZQ2AUjTBOJPXrnjj+99Dj5q5vbgEHYp/5abTgkjuT2GRz07d81QEwcLC2wbQHY7s7D+HX8SvHfmq09wxDSRuo5MYyyj90PQ5Y8kf45yRUz+F/L8xG19rExyQd27CgLlAT0zyD0zjgA+nGGV7twqxO0aqDuPTpx1zj+fQY9CvOG4ncBlIjZW+YIwxx9CcdccE++P4UWbzEJ34Zz5eWPG/uP5c846kEcrRnKUoyt+D/zs7a36fdoakty8qPIuA7t5aHcAXj9eM46d93XvgBaiTCIncm0p94kj5McHoR65zzn0qkwz8kbjaijcSewzyPxzngevPRcq8usHygXYt8uWyuTnjHcfiMj1bHy0oWi+d/cv/tpdfL7t4lN2l8v1T87fd950Mc6SFigG6QbSByU9TnAGDnJIJ4HbFWxPKiiJnAb72QvY/6oc+ox0Ug++C1c9BK22MKrqUXBXGD+9/HjHr7cbcZay93LH++z5nl4RozjOf8AVxDt/ePOPpgYFVy8vvdvK2+m/NL/ANJfy3FN3drbXXr+C/X82b6fKGkeTmP7sjcDzOPJHlg59u34ZxUQlynMbsxO8kfu9x6dvmyfr/31zWO2oNIVj8p1ON8hbnpxFjk5wRjt04HNQPegbyRIz/wjo4x1/wDIvHQ+vOAKNXpGfp5PTVvp00089ryg2/tA3yZi3RxL8rZHmOsZ/elQM5Al6fN7c8mqslwGRSdyyTSFUyc4j58wHb03YPZvTFZTqAq+VNMWuPkdGP8Aq/LzJMR6Hzfp+OAGcjCJmQB5J8BSz/6r96d+ei89+D9NucMRv8E1Z/dfX8PvXp1kGgpkm2lWOFYo0kjgCR5B+6xETnEPOT27jjFQq5M75k3bAQcnfvx0x2wDgj5uegz1qjNOoiZnjAb95scvw5l/dL0Xknpzt6kgdWprXCxQKB5QbbvYc78RYjByBziTAHA4PsQy9nLm5ev4f8EL82t7+e39f13LEu7eDgMis6MwY5PHmS5xjj8zz1GCKa853iFVQIVRmQY37/8AlljH/PGHnkA5weMnbU3IJUDyb+YwWUZA/wCWkv0/X37lW+a9v508cajzC+xpf3coaY7PLB74i5GACPfOFfs/sX/errptrrb117agX1kSRpWZozHEAwX/AJaP5XSMY5wJu3OcZ74Wo86ylVfbHITtA+47iX/WSnHGRF0zjI6EcmqkkkMMUfyeWC2H3K+dkfG8ygj/AF8vBJJ3HjPO6gXKSFC0Knyl2ylhsUSSktJ2Zj5EeDkEDceMc7R/Y/rsBYeRiyq2HVfn8sHp5WI7VAD+B4PPfGKh/eF8/MFjzCoGCv7w+ZNLz+WAOMZ54qk1xA7yXEbJtDvKE/5aOkKERknIHXkAHn3xUAmdIxk5ZvLQFu0tzJ5knPPWHGOmefUmiVnvTv5J/rZX1XZfOy5g/9H9VULorsArfcQbep6AcY64z7Ennb1aXKKQUYq+4MGOxznOD5hwevGTx9H5K1tjbQQ5Ruu0Lnp+eOvBzx15/iBIGdzgblCblH3z3IHr9cD6f3v87YvlXv6/P/gP8n8rPl/oglMu0Mwz1kU4UDOT1/PnGOPVuNry6uI1ctvCiQD/AFm/2xjgHv0HoD/DH5btGS338+ZvwU6/8sj6n6Z9O4KwsrDcxbaf9Wp7rxwO3Xvz2yMYNZ1ZSj7i0v230/L+npa8qXvSvH10e3fv93n0ukXhIpDFW2je2Qw6dPqc+h4xnGDyasxlWkAKll+7v6fJ+R3fQY6deKyo8BXLgbw+QuDgZ4833wOAePfqCwtwTJtJCqV4x2GcY/A+3f8AhohWcVThNO+ny6rq/Pr620KlF83u/etN/wDO369TRYhTlThVbadvb3PqeDjp3+jWY2C7VG0LguMDJX88fjuPbqMfLnR525Utwf4uh/XHr6+xHO6EyH7jDae23jf3HtwM+h7c5+WpVOX4qXpfW/4q3bbs9b2JhGXwQ3/y313+V9L9LM3HdUjfdltzYAYnv246Z9f0PJUjmy8YLZVcbVbjY2/gHt0x169iMbaxfMf5VJbaOhb+Pt06j8vyp/mNGXOd3GSobHz9v4T+ePfiq9tyx/p9f+3f/Sfu1cqlFKPnp9/42+/77I2ZrhU2qOjN94fwc+vy9SM8D1wB/FIkoVmeV22nA+nv2zzz079uBXOfaZW2qc4yGTjHzHgnqf8A6+cDON1XBIBtLn5T/tZ/wA9/0zyamNZO/LTXzXW3rr+K819q/Zac9+r7ffs1q/L5R+zuzXKqQiEtvA2ttJAGzO3BYeYBj1YjuV3CmrdOYdu9QNzllBxjHTjORk5/iPrgYw2f5isdybQqrt+Y9vbp1Oe35UiSxltwcFQ3zjGSnv0HXr34HXpWzm35ej/W0fut932lGnHbZfl90l/7bbz1OhF18q9BgDqMfl9Pw7Y9Wg+2EsrDOWblSMfwYyf++u3X0Gd1ZBvVyqrxnbtLDgZ38/X8vT3aWO4YEYXfgEjpwQmOp7dxz6DnIqvaf9PSYxtJ+Xlvdf4n/wC3fLU3Xnc4G/Bxjbzk49eo/X8sYqUTMzL+8+UZwoPlpuP4A/8AoX1GQawhK2V5UEnnLsf4x09Tj0/lVkSjb83LJypz98+nIbBPHv8AXgranZc0qt+ytpr3du391+q0cj2fn+H/AN0N8XIQDJJ57c/wenTnHGOuPanJdyyScBMgDPJ/v4/iyTxzwR7+lYscg27S4Yf3S3AHpg5Bx+ntkGnpceQjSFsH+H2PTqfp6MfQVcZRUvK3XT8Updey++/u5nRGRmb5SMoCr/f6FRx1xk9P4cYyeeaRLg7gH+XYcdifQ5PbpkY6DArFS+J5ZsMwByvGR6nnp0zyQPfJqdZCrNI53Z6Er8g9c/icHjPrnIrZfzr0v+liXGTfvvz2/wCDH8/ktHLba42oNpRsnPI4x2IJwQTk5GG7dMir1gZLuTy4lLZ/IY9f5dfy4rN0fRrvWrpI4EJVGzI7K/lCPvg/LuOPmAHbAGOWb27S9EstIjWNoB5jL87sB+OCDznr0/4CuDu8nM87hgIuEH7at+Wmmydmv6vZqXr5ZktXGS56i/c6O1tWtNd07Pprrbrc5Wz0Iko9wQob7uAOG9DkDJBxkY/LIZfQNK0mKQx2tuQWDfOSud/XzeeQex/wydmlp2n2884Ii3xlTvVlziX2zg8jjofX5ei+oaD4fkjCsIFCE743Kjfxg+n05B4z3HFfExp47O8aqtSo6mu13Zq+it7y0WnXvs7H1dbE4LI8G6dOmua1tVG/qnv3d01bXfeOxo1nbW1nFA1squix73ZeQ4HPTb2/3u+MgmqMsEXmzMbd42LfLIP9U8fX97EX/eYPoBxwcYzXapCqRKiRlpWfb5YXfvPPuMAZ6Y4zj5s/Nga0pt42UoUfHzZ/hk6HPTr0xx93PP3m/S8syh0qVN+z1pK/nbbut+y3tuj8xx+aSxFapepe70Xl2eultdubXu7qPm+qbVLBArqi8ffQcZAxs3Hr6Dn1GNteXX9w7u4Ec0QUlDjBRoyPbaT1JzwfzLV6LqDsrvlgM/ONv8eeuCeM9Dj3x2FedavdBPMP3S22NkYfj/BjoO4A9wcDd24m6i3FOir2tqrv1XVpdvuszno+/Lb8f+BHp5fd9rlr1EUZX5R2DsfnHT2J6A4+Xp14Bfjr+7SPcAYDIQNqF+Bn1G449uue+OtX9Tu7iWRtrFFG9A2Ef1xGMuR9CRj1ziuVurVSd8nmhgocMI0REP8Az1klJbJHbnjkYPBXx3jLScVe9K2+/bRe73vvtppa0vUVL3VP2evRW1v562XfTm8+jMLUp5Xkk/4lkm4J80gkcwheP+enkxSnP/LHMmfbIrktTsZL63LSxPDEE3+csflxqAP+eMY56dBKvb6V6RGk0durDDq7H5nTzAMd+3Hqfp1xmuf1oRzRxwu0yKSDIUkWOLLf8shx2B7n8+dqdSNSnU5nb2t7f52urWbvvr5bFU48svXyt0f96X9d7+75XoVtZ6bdXkiiWSBmj3YLlZJO7gS8eeePXtnrldo3WnT3Cw/Z2R33qkMtvJ846+bL0EZOeZR1754FW7i3t0R7OyCNcqsjMqHzA0nJ3xYJxNjpP047ncWoQ+ZbxyS7ZnkjVY5HJSYo/HmHnLDDHrn2HQluTDqcU4xV47vXfpq0pP8Aq2t249MuWTU+tu/bazsrqy7ad3sYGq+ErO+uluv7OlVo2kC/6dMkCxx/vPM+zxymLPmbccD6npXW6b4alu7OOFWisLaMI7XLRFSknl+X+6lzDmaLkCYeb15Iz82npGBbSrqE3zP5pWedP3mTzDFDDmUcjd++Hp1HFU2067mlaVb6U2Mfzv8AvC/mJEvmAQRRAmMR4AImWL97nnaMr7GFw0ElUhT31aT+Xa71139ba83m1qs06kJS879Ffvsl1Vt32aVjo7C6Gj250a2g+zo42zyuPnl6P5kp87EQueTgmTdnjbmtWSwj1hYmkWOFomaRP4oJYBH5XMiYjMXzGTERlOQvAINcfcRWOoyxra/bZbiFY3dHneCBPNCjzJpZf9d5MnaFj5XXgEvXSxQTWSM9/I08628DabbwMs0aRhjH5su/ImG/0k5Iz1HzepT91crpP2e1/tLp05m97q76dXdR8z/l5/X8pz8/hufSNWsZoL661RWZ0hSFfNCRzHzTEYfKEnlW/UXEzfuOcEYArpLDSI1um1S8maK+ukkg+y5lxHBDuwJbmJMRGc/vT0+rnAW/D4ihsUvYf3yXjKjMhOGWWVgYoojz5WYt+Yc4GRycfNfjhTWoHia7Ol6Si51FdgR7lhHkxCXzfOklDc+cJWAA6812QpU7XpWXXstevz16Ls7aIzc6zdpJUk306+TT8trNPW+jdjN0bxQTqUml2+lOljEscLTrJ9paR8l5I4hzJNn5h54/1I+UktuDZ2r23jKw1Q2Hh+1s73Sbu4LSx3cc7SAzcyupR3m+UBOZpRBlPJiUkk12VtLotvosF7oKW1zb2ckltBM/lwSrJgxyxwx/elhB/emebAEvXGQ7aNlq8Nhbi8fUbTU9R3BJVR43gt36wQypGRIJlB6DPQ8DpVexU4csqi69db+W/S2y+8Um1JSjScn01389rbdNPJuxleGdS1Syu5bLUrO3sZVKPGkMtwA/GFHrDLcY/f5AHzIAVBYr1Nl4i1RJxFe2cixyyum4zbXeTefJ4k/eSwwDA3ZOMd8DdC9xpVzvvr+aCfUJljklKTAi2Ep/1cUfPX5QBNu/EgBZBaxzwmcyXEUSyBoLkr9q3ScfuumIsZ/1OG9O3zdVKMqXs4xqtq+1r6ba3815b/OWEpRXxU7P1T/9tX5P0OyudcmsrILFIbKW4jkKyBH3iTGwjyuI5GMueefb0rgrbxGLuVory+u5bjlS8lm9qGTd5fHmg+ZknJ8kL8vTFblr9qGPPtmvbWSUlZJDGh37/Lz3EJm6mFSMY3HAO1t4+GoNQAdYIluI1cpHN5QLp1EY8wiGSIZ9z2HXFd1Nuq4Pb2W+v4va+nRJeTjZnLKSprm/rZ99+28d9ybTJ9MURyG9kt5twVpo0TynUEfuyR698/gDy1dRJcoYvIa+WaPP7sEbDvm/1Ril6jOPXtxivOpbDxDp8rCwstMig2/OkUiNI5/6bW00cZ+vkboRnEI3ElUjupZi0N6YraY/OyoJYNhBPC5yDx0zFx2z1p1K8oRqU40n6dH876eenTR6tDjT5vZy9pZt7X8+uj8/tL00SOgn0yczNJC0vzZY/wClu8bD/npEHU+WQe3bpgZzWVdDUWDCJAAq/K8pSR8xdAPkwCDjsQ3bGM1dt4IWG5LuQzLjMTzxgOD0wDNFjnPQdwOABWBrWuSaQoJV5mTe+0TRvIf+2ssoikweoGP+BDmvHx2NhQjzzadrN63svW3/AMl8rWl6WFwtStNQj+96LTrv81r5W662UqL61qVuxExlZVOwbpEGfpFu/lk84AIBNcfr3isyiSFbOVJ1G9pms3SJI8YliEvlDp1x5vvzmsnUvHlpNHJJJpdzcgeZvZljLxj/AJa4xJH5gxz5sMq+hzgFfOdX8X289u0UWoG3Eh+WGYzMfLl5yQ5miiH+z5ufTGTu/PM74iw08NU9nU1210a3vb3tbvupLS99EfXZVlFf29Pmh237bO62XVrfR62dubn/ABTrlmYndb2aSdS6FLceTGqZz1d5ZCeozgZ7dDXjF/rsTyLDNO43SqpPkbpJH37PKjmjJIJJ69MdSORXSaxNYOW/fxyKA7sYx8j5PaQDqMEfvj+HevJby7U6ki2rRiJZgkWR8n3/APWE5AGMddvOcHGPl/F8TiJVcXKbdnzLVvz6WdttNGk99Ej9Oy/B0409H/Cuknre3yTd35etz9KvhRPa6doWmhmZC0KMS/mJ/rAOMcDseg5wOnFe7/bY2WFhLtZmDlQxAPvz68j8O3Cr8w/DOVTpGmNMAs7LEfOadXjb7g8vy+cfp15wOW+ho5QWEhjMixx7AV6e4PH64/DnFf01wfVlWynDq9/Y0ElZ77dF8nrta15XvH8Z4ppKnmFWVv4krPtvfR/PXTz5tOU6ZrxpIpQAoWRvL+bvwPf2yeOPy3Qjz0KJldrL86s0Z3xnuoGeeeemD06kVgtcNtSIYDM25j/cB/1XXOe2cgYxxu5FK9w8e6R0aRk2Ju8zMfToOhGOnG7Oe2MV9Y4bbrt13/7ej/XbeXyV+WV47fP/AIf+rdTW85wskWUVd+xWfHmd8DOMfzHsM/NUedQRvldyvy7cDOT1Awee/pjHQ8haUl1j74VwwyMn7nQx8Z56lupxwMjq1Yyh1GyMkqZDuXI6eh46/wD6s5+bNxlvvfr/AMB+m+n4XlpzSjrp8r/jff8ArVaKW4rJFGdhbYV2fKeCPc4POT/dHr3FRSXAZEjQMD3XvjOBnH/1vTjG9sh7hWVYwfLH3m7c+vX+nHbPO2J5xu3GU5VRtYHJz9OmPz9umVqUZL4NPn+L+Xlpu7kysvfX/A273d9n9levU1Qzok0gkaNmPCt2I4wPT17/AKZXOaWS6u4UWYybmDvL/q8/9M+OOOew/HrTJJC0B/eurN95Spk3v7DjH0J98jnbTga2eZmJlyg2L8wwJPfGOSc4z69+tW1zS5Oq1+a9Vrp5/LqZnWLdmGOTauW3YVvvEp2HOB9OevTFVGuI3UJtcg/vGCn77g7P333sbcH+97EZ2tWWVY4tm2RFKM7nJZ2kT/VA5zwSfUfyFUFkeNmnCZhJkRk3HeiEEnzeVyTK2c9snpkiqlGUZWvot/Ps9n37r5lJ81ud7f01dL8kvkbcUu7zJ8MpP3QAQAkX7uPgkdSfXqeM4qWPDyIxlbnLMrYk+RP6iXvn8sVjLK7KrhvKDFNsZOY8dPXORJ7H3BPFTG5CSeXgNtCJuTjc3+scSkZHH06/k00+bl91Jvzt3fr/AF23JL8kro7ESFky0bt/ef78oz26DntnNRiVmVXSUlmfDqwO6TDf8ssdxFnHB6Y5yduas+FYk+ZvPCKQmZJJP3oOdoIxz69sAHDNlk5idCdqPu3Kw+QH93Fk4Gefp0xg5DM3e/Tz/S1tPX/hwNCVlkddquu079rg9/3cR8vke3B475zloRcl5ssNyKPLKMvRIk+bP3RxKQecdPxqu92ivMzmQ/8ALNZFzJv8tOEHJxib0II7Mciol2Rws8kgWWVo4lj35PH72WWUfN0HXnJ7k4G2oRcpc1rUur/Lon5aJ23a1UQLMkqlWCTbHb90FVDg+b8/I5wfKIySR64OdtRT3JitkUytuBaRxzJukj/dxYzuJIwOM/icfLA8qhI8gIsgdg0fEjySuR5suS2PkHHOAMDnA2tmkVZlbY3kqihJN4yUtUPmynqAfN4Jxz1wf4s5rldRx1fzWy/xPy7eberAc080r/NOzgLHE1ux+YxxfvZJO3U/7PcdACKi82eRZn35JXfskcAbpH8oReYQvSPjHfPQYBZkbK8TyQqxZjtEn3pneZ8ymHof9Tnj374JpjLH+7Rg6IZJLkM7/ejizFFnHP8ArucDPPHP3qbdo39Px+T/AC+4BzLEqKoDI7Soisn+rXyv3kyn3zxjPHvzUpeJXUSgu7ZlCowwk8o8uLzeBkQxcDGOecjpVGSUSSSQB5i0apFHkfeuZn3yyHzM4xF34/XCRpdRmdmVi5iLyNuXIWOJPL80FOCPNwDBgeueoZ80neMKben9a6Xt6+WhMt+Z9Onrv3tuvsy+W5//0v1K5G0SSbf4wSwwenbnj6k59qTcWl4wdzcMuOceuByB/vL9ByFqJMp+YlWVR/F6+vQY+g69OBgKv2iNhGfmDhxtJOzJ/DdnGPb6c5X/ADn9onCnFW089l0Wl/xd/N2fN/RXLy257/56eT0+/wCfU1xJ5ZUEk54Ptn8sdPf1yAMVVkkDHGCRuwzv2A/5aHr+WfxGc1B5xKqUYow+8rHaPN9Mc/y798VG9wAru33iMEBgUcdgRn6nOT+PFKpUjG8vu6vTtbbbvHa19CqceaX/AAL9H5r8n+BdSWN1KjDMq4Ge49uTgD0z+DYzTEdWO4YIUeWAR5YT8+fw+XpndwNuarqNpTcgXGRnH5HnHft9c4qcTqCmAHIPGen0P4Edc468ZxURqNpc716Pffv8vPy1ubcvu8336edt7/ovy5tOMrvxuYbjg7T9zn8zjqen65aCSV/PbYd+3OWGGTn0HHJ5By3bPOCKR71Yio2BdwGSy57cY7Hk98Z65GCGpxXGWYnCFiVKgdB64+Xn0wD68dKudTVfvdbf1+N+n3ijGXNzzVkvvuvOz3b6KW+62NJRuwNxf1U8H7nb731P9clVRwxWVh0zsZh3/DPb8PXJx8oj7mIV+dkmGx078+//AAL+eFha4yNgQM2/5ipweOpz6Z3k5+npRKenvf8AA8+1tP8AK6tzCGbV8xVLEqhEgYHgnsBxzgj/AGfTvirbTZ43H5nA2t/Ed/r+ODwMdP8AaagJIklJXzGUDB28kHG9xg46evPrkZxTZJW2qUHL/OflPIH/AC2x6k+g4K8ZrFSUZL019PLTpv19F9rR/wDLv5foaJklSTJ2ouecj/OMY4x756ClSUBQXH3hvVh8mPvYwRu4zkkHPHsMVlSXBQNvfl++OO2OOPXsMnvjpSfalLBSVOxPlG3rxsyeTjkZGRzj+E5K37eXNybUvPVrr5Lfp5bq/MVyR7fiaZcMGYMwZeh68dgOmOff8s5qwt2Vj3E7SC+cdzt7+v59c/eyDWHDdSFSWPyN91enB6DHGD78/QYzTHufmK5BQ7EZQwOMYwcrk/xHtzjlRis1Wirqe3S9rOz+/rf+kHs435dtelr79r3t9/fW9jooZNzqxfYpaNv/AGp7Y4B456e+KtvOWQAHcu8FvmG/HUSnHY+wJPTqTt5A3bD5C3y7di9vp9O+Dnv0XA3T22oMquM/KTgDnzB65J479yPw/h0pYim5LmtZef428tNHby7SHRT9+9vLffrvFa37s6mO7UZyu1VIzj9Mx5GOcn+oxUjXhlQRKd6ZyG6HzPrnoGfptHoSc5rkxejnftPPXH/1x/P88VraWn2u7SOJ2+9GWRiT/wAtM5HIxgnkc57jinLEy+GG9X0vpf0tt318tWL2Uea/tPdb0Xk/+3bX87rvZaxPQ9I0K/1byUgGB8gVTj5zv5GeR5R9O+e3WvW9K8AeZAFvU2OhjcAj75HYH0x0JODnkLj5uu+HWh2S6ck8y7XQF8sc9FAyAOeMjPzDPoDXZajdxQMwh2Msa7U9T9cjuen3ux7kVlj8ZUo4eHJ8W3mr36379Peta/NZpHp4HBwnVvNOqqVuv4P4b2v1Xlp9rn9N0q309RFCI7baNjOnVu4OepJwM9xz1xtZjhZb3Y7SSQI+C6njf7ZyByOcBs5Gc53KNcRzK7TOyiRhnac4A7dsZzj8OAM5XZ0DTzeXUcUasV37l3tv3g9iTk8c9/fAr4+NOeL9yblKtVr+T0T7tu2j62svuPo/bLDQ55fuaVHfaz3u9HHVa9LdrX970LwjoCXDRzMhS2J3pIwy/THlnr6Z/wAONvtK28ItwkLCLyl2Y2g78d+cHAHr9ctgisvw/oTW9pGJXCxKN2xcgA44/h75PPyn25ytrVbyCxzGqlpchI/9t2zj0z2B+XjvjJFfrnD+R08BgqeIxFJ3q7XSW3R3vZ+TSe1t3yfkfEGc1Mxx7pUaj9km7pPs9f5dOlm9e6t71fTIJjczmUyPHE2VKrjYd2BiTnOCP9V/LrXN6+YjLNtLtI7P8ssZSJDzgnPc9unPrkGu0inKadEHdYpCN8vyq784wmI2A3duc54yRkGvPtaulcMWkEmH34bPXceDnOQMfrjjg19TTp0Y0HyO/teZNaLpZL7P9W21jLwqU6k8TU0TS01aWqVr9LXtr8XS1rtnmuqyBFkMgTbtG9lHmEZ9xg9R159+ma8w1cwsHdDCy/8AkTeeOO3bPIXHTuRXo2tQxyK2C4Zhk/N5Y/AZI7n0x1HpXmOoGKIu0TEFC6MpXzByM8D5vocEZPJxwq+FjqcJX3VNb397utVdNNN/3nu9Nj2MNKUd+3p93pfe/Trc851GRFbOUbaz/J93b13euc9M4/MVyFzqtpHMylnZsh1TJeJ+P9XtI5HPH/oLZzXZ6pJBKziVlJ2k+WkWSh/Rj364+hxivOtVc/MEti7Z5cfITjHldCMds4I7Zzxu+GzCMqcuem9L+ez27pdtW3rutOX6bDS5o927W+X3d/le2trkia8pcQruVydrL5b+Vs/55QxiLG4/9Nt2e/HFZmrXcIi3v8pILrFMM5lI444wPbPHTv8ALzk895bTq0jRQsPlyUfzH7iJsExDPP7/AKjoM53VVv5Pt8BikUIzkbcmVNz44MRfnIzyeOcDIyTXFHMJ/BPfa3f8/v8AK+l7HTPDWUJWv5+a+Wl13flr9k0y1d7yWfe0cTsXd1L/AOsKCTywR+9/c5wRz/dHAJXRuxdNOtvBHaM0roi4+S8b5OZZRJgSQ8Dk5PP4ViWNhdxxw20V48UMTFyiyGR7h8hyZjJGJcYJGQTx24FdnpsttC7Zs0lulBKtnekcZz+9lmlRZDjH+qhx6+1etl8ub3Xfbe99um0bX9X8/tcGI5o+8l+N+9l18lt9+pLpq2UafY5I/OnT5HNvHJKnmbvm8ybj/bGM+QWOOMGtOaS5gyNNs3hhjXdKu3bIxKYi87y8SNk7h+62/wBWzLu/iG5UD6azsmwoI1Zoi2TJ5uIh/rSCM+bkHqcndS0eXU7zUpbqb5bSN/3nmzyJ5otGTyZAsRG7zw4zDznOCOTX0lGcacqcYbO9/uu7+82v/Jr+Wp5tXmlFzndP/Lt3v5rTzNKHR7qO2kurosLy9YR28DNIkEUUxHmSS/vJcgkd8AjqR0rc0/TGs2dp5p54rdZGglu/3dspx80VqTjy4N3PJPPMPzE7799dutrLdg3Cw7S/76KNpmHJm8qKP97HAB/x7mUqYhz1IqCx1PTp4Y5buKW7kCrNBayJL5eY0/dRNFu8yWER/vT5uF3HOect6cFTThd36vR/Pq1q/JfgcFSUnHmdlayvv/l6bS+VkatlpMLl5TbxeXLG08krReYwY8zXEfmYeWaaA4gJ4hHzkEAisuTQW1tHkgLw20bH7HmYxIyxfuxL8hEUzEADJzCe4IOVuWYl1eSaS9upIbWVNxgSdI/LjkTYB+73GHzhiIw4ytvxz1XorQwQ2jpbxQCzgH2fbH5jqJAn+qh8xjnHMrem3POQG6IxhUdOOz62evo+9unlotlKOHNVVnBN76vX7m9H/XkcdLoK6fbLBqEnmiS2dLeGFUjkAP8ABHDHjAzzczkMSfLO5QCreUXHhnUfD326exlbzNRuIrrypBJIjyRHMUY8oEcZzOYvpzyG98ntmtrxbh7iO4urq28qBpg+LaCJ380AEfuoQB1Db585ACgGpPs+lSTQ2ktvJL9hhe4XYM/aDK+Ttl8wmKHvzyO+BxTlhYTUORuk9Vd9fTfp0tK/3Dp4iopPr3u7/wDtsevbt0+18+2l9qnhGwu9a1f7VqdpK6JcR2qbblZc+YfMikzF5MH3+SMKgGRLhm+htG8R6Vd2lpDatNcTSQwXPlLIBsSWLzBxIXilmgGBcdSuzIJwBUeueFIdas5jDGVthsAtpAPKf51PnTMMCXHGRlvw5rzHUNBvPCdza3wgdNPCfY3a2ZzJp7j95FceVHMJZYZ5cA8TZX5cKp+XntXwEk3++pp6u7189Fbvpa/V3vyx15qOKvGS9lVXV3V9Onxb+b+/aP0Pbz+fLE8JBTeFkiVYx5Moj/1vkyCSKbziepxt69sN1kc9pJF5UM2y5hX94u5B5YHX/WAgHr0Bz6HJFeR6DPaXtug1C88tp1R7a6hkeMvJxxJH1jlHZZogBg+6t1DLM7RgSJOsXyJM6eXOuBkpKcoJAfUjnv2rvp4yMYKf7i9TbXX525l0X/B1jHmlh5OXJJ3V+ul9vW260d+91a50d4t5MCy2wvNi7VZnQTJ3En7qIy9e2CPpn5eWudTlVZIL3TyGyUieR0dOP4sx+bMmMEZzkd6uRavPZhk8iYsGd0DOQrHPygS9enqVx0zg1TvdQl1JZI7i2iWMtuys8aO/H73EscUXTJ6Nj1HeuLFY+m42hP8Aea/8Na/33tbTVq3L0YfCyUuadPbTR7ddPds97vRW87nO3EkYTzJd/CH915r/AC/PnKSeU00ZGRz37Z/h4nWp7qdJBDP5iwDDQSJHOjx/9MjLHFOTyDnt39V3NWsJYopJoHmdVWQRubiTz4E5OMZ/e89jnPXJ5FctZ392Z9kjRsExiSVTlnA4GewOOQATn1wN3weaYmtiZOjGo+10rpvt1XbXS2+mql9Vl9GjTtO6v22av2636bddbXPNtQuVjFxKqxx4yWMavHPC3/XJpIIpeh9O2AeleOa1q88d1slt45CWeRLqKONJEB/1Rl2bgOMfuQMDnPcL9NeK9NS5tGMlmkzyLIoeKby41kl9AFQZzgZmGCehX5q+R/FkTaXdOqw3O4NJ5iuF8xeoPQmCWE44MGGPYV+YcR4XE4aUF7Rqk3rp1td9dUtr9N0t0fdZJOhXfubrpp91r7W3XvbXe9zNn12KQS2rmVXkzuZBGX8zH+t35Vf/AK3HGCKoz6StxCJRLDuR4pPMlURyscg8bB5bt1/1I56jbzXFSeZdztNBC0UisHMkcmI0x2kiY4xzx+ZyTtrsNNvlia0tZXM0juioqL5gwX94+AO3IOM9Mhq+ZjFTdNOD3X77e9m9LN/fprdPT7X1VWKop+yTtyu+6T6vVpfl5aXufbXw4Msmk2BEmPIgt1VQhRASo5+bHPf7wz2243V9BabfTfZ9khjKOAMs37xznmL7557EfLjoM9a+a/Ad+qQw25jPmshCqGlbd+7T/lk/cehwM+wBb3K0iISH90QzfvHdpYwRwOTHgdf1xjjov9KcDc0sBTtB/wADRfLRfPt8j8P4tS9vU55t3k3p69L7vz001stjrknXzJPmWLavfp7c/wBAV+gBG2sbxiu0I2Wk3Bjn5x+f9Bj8Pmyhfook88hkDbNwH3j/AMsueTwcDouPU5pstyxZNgJj28yjsnrxjOD7flX33I+6+7/7d/k/R7HxRtLcuWbaqtldpLdx6DqM56D+WMVH9raM7Qrq2zYA3OzPXPTvj0zjjbjNYZZpo5ZPMeHymO0Djd+pxjr93qehzmkmvnEcaAOWfkSbf4fQnJ55/wDrDOaiUYqNP/p63p2d/l1/zsrqJUHL95daP/g3/wA9e1uptteKzNJJIDg42KmN31GOn04HT5sZVguDKymNFkdjv2g4BSP/AJ49Bkn3ON3SsVbhEjd5ZELcIq8tJ98ken07k9RnAKyxXEQ+bEq4HHG2TH/TCPnBz9fTnFEOvP8AL9NvnuJ76Xt57mhqE0ksYVpfskarhtpDyMY88HGeucZz83vg7l08KQpjb5ZVJ3v2MXX8/wAMfhhuevZkfIjDKZOG3tj6cDdz+PPqOi2dMlCgrIBEynPPmGPHPIz0yP8APIpfa009q/uVtlt2b3j+IjsJZJmeJWYiNfLTHB8zPz4l5Hpt7n8RiqL3Mw+TyyqtJsOAo3oD5gGMgYGD9cckZFZZuGIk2eawZtyueY94f1wMcdsc9sYzUhuWfarBdzKDudj5Y8z93nlWPQZ9++eitxvF9v684/0+lrSDSWbexDusbtsAyDhAreapxnuRjoOmeejTJcqYnZ5diSl9rKIzvkkwGOeTHmLJPze+D0rm2lbMjM7qE34O3f53Hlx9c8D6jOfYbJDdK/lxrhsNjawHBiTudoOPm4Ptjjg0Rula/S3y/r19XuVGPNfXb5/rH8/ut72qJ3DqI42aEb2Dsx/ef8s4znqBjpg8cjHXc17xyZTE8cSoQGjf5t/lIeIeDj9793j8uKpOUyAAGKhBKI2OUP8ArJYh05z7fTGKglkiSI4CiRwqgMf9X+846ZzMB+PHbOapxvG8W/nbT8V+v4JEmhFM0sarIXDqFUShMDMj+ZL6eaRjgnBOe2TVlFclWVkjZhI3mSfweY+B2By0YB4zjJBNYRuyuze5MCl3MnI/ef6uMmLnB/FvTBGStqO6Tdtw7APuHzgl0EWcck5GT049e+KI6W09r6JpK7f2bu/TW+nnZqUzbi9vXy+dnvfqvuNHzozJNIXSSSMvt9P3UYxL68y+qnpjn7y1FdxGUlmRg6xws4PHmSv5s0WBxjHBxtxjJ3HAWqtxAkLEnDuUXd0jHmyeb5UkuecYJI4yBjJ4202lBnXzJYRveeb5XLxnGY4/JxjE3J/h/LkVM27dpt7aeWq17f4u7UXbmr/B8v12+exoS3LpsWM7I42kJ28bz/q4wORz+PHOc5FSIzSyGFXaaTKRggovlhh5sgGT0GOfywvBak7xKd4mOFaKIK6DLEL5hfGTzkZ9Pr1apHc/eIjl3GOST7SdmV82Ty8nOBg9DwSOPTNOMVKa5pr2atr56fPf1/Jxzab9+L+/7r3vp5+7LuaxlNuDLLNGGZJ5nVyJJGc/us57bhgfd9MZwRVbd5cXCCJ5VhhC7vlZJZPMkaIAcn6Hnvt+61aVWmR4WVQrSQ27MGG8xxfvGxwOp5PP1J601pTAY9qNPtjluEiwm8IP3UZh/DnofocFq0W7nK9vLez0vb06W17x+0W59b/Lf9Ydux//0/0ndnTccfeXcvt79Mnk/wCz149KAz/u2JOWw6Y7e3v+XHvmsr7W5LI33ieDj7g/PnPb7vv2NWobpUfZINqKu5WdhlT3x0xnGSMjoDk4G7/NKFWM/wDO9l+T9N187n9JcnNHff8Az73fb+X7tzXV/lMhbDAfc3Z3epyM9MDJ/DjOaryAsYwG35br6dO3bP5cZ9ay5btQBgOHZ+iLyB/01Of8fTnGKI7pScyH5g2FVT8mOxAz2x0/DPRmU8TGd47a79366/p52slLRU5R95vTt/nqu/Z/IvyStGrcfxbQc5P4jr16DnH0ICvidowvm/OXO9NuO/8ArD0HTnucemPmrKiuAj7JiMSSFl4zyTx/EMnvj6cnGKtCfMhZWzGAR8/b6fT0xx71cajv/Fv2/rT8/uLhF8vJ7Oy3Xm+/Xa3b7zQF1zISA6fcXcCXxH0I6cH2/XAFSLIrBQ2BxwFJx6ngD6en1PNYzyrHGFdy2/a+0n5UGfMyM4J4GeD7cU4TlwpO7lWA6JtGfM/UnPfpj0K5Kum3e2jtu9bv0dte69LFSjy219dLW/8AJpf0+v2dwySYZgVChIwY2x0H/LTsD9enoDnFRmV2b5G6nn2/9Cz3P+Ody4Mt26khsPx/Ccbkz+8AyecY4AU9OoyDSNfHAaM7WHG3s4xwPoCc9B6ccVcsRHm992/rbo3v/nfcj2PN0su3/As/zXlfU1xI4llG7AZt/wA47D92SBgDk5GMnPfGBU0t0d7eWcCKMfIOTiX0+Yd/c+g6msRLt98bqQ4XIIHXIAz1J4MvHf1welRzXKDLK3LfK6jrn+fX3/FB95Rrcqvq/wAX1svz1b+6xXKl/wAuv63/AK2/G0r/ANplDbpAWUvgnhj/AHwQdox2wfw4PNQS3aK7Dq2Sg6fINnQ9yfYnP1xWRLfsrFAn8PHHf0/ztx69RVN74yLnnPLNgYKtx36kjA7fQ9d2PtVKK/eNat2fm9notvV3XY29j5/j/wDczq0uJNiBmVcL1Bz1Gz6dD6DPbGcVHLLEoOH++U4QZkJIHUkAHA57+pPSudGoKAVaR22/ImWGeU7Z9ZMnjtxxnDQ3V+uECbt3+9x9zZ5nBGCCRjnB6cYIrT2kfZ+8tPXzf9xf130RMad5PVtP5b7397X5KPppynSPeIzMu9iVCIMDjnjrnvk/wnp1BYGqz6gVPlqWYtw+PuD+DGOeinHVcn061yaXpGSdzPn5geMJjGe/TGcY/LOaqT6kUZgrFiw2EhjhfpjPsB6YIGMk1PtJctOfSz+bX4/8N5mjpcvu7rfW/lv33Wy+/U7g3qMqKrD5iMDnHB6y9T9eh/Vq6vwzqFvbXsH2iUhfMALRZL48wYxk9gR279sA14w+obFGycKMYEbdW7nnjGQmcHv6/dqzp/iI2c8bo+THJG6q+fLHcckd+5we3Xito1JJqcKXp0v087d9eb57xFC0/ft7LyS/4L/8l89b2P0z0DXbS20638iffG4GX3EbOAef7uBweOe+MCnXWowyzM8Um9NvI3b5PdioA9T1J9gOtfOHg74gW2qWItXKJcqm3EZAHYYIz6jOPwzj5m73TbmRw7iUqN3Kk4PXHU449Bkkduvz/N5ljpSrexno23ru1pvbTf8ATrsfV5fhqcqNSrBrS3TfrZb/AJpbJrQ9Pj1AXs8UFuPLCsFc9dxHcg4w2OT0PPGc76+i/h/ok0/lyKiMI1DPI6rgdsdsjnuF/UV89eA9PXVdQUAOUMil0b5957gc8HB6kn0wc5r7a8Oab9hsY0hXylZUU7EA5+vAwRjj8eeBX2fBGUzx+L+szh7WlS+Svtd9vXXy3bj8dxjm6wOFeHj/ABau9mrrpZ3u11197rpszVlnNnCyjYdqgkYGCAMHPB59hj2PFeVatrYudUhjAVWjbdIwONg6Y59+Pb8a6bxRqcNhBM0rkFFk3OT1JJ2xbRgZyM8Dr6fw+F2WoSzXc13NJ9+Xaiy7PLTP/LUYk6QjjEuM55zk7fu+IsyjhY0MFCov4tvY6q191fRtJb/c2viPjeHMuWJ9pjKlO6fz1/Lo+muloq1z3KPVbb7Lh5Yk2oMpHIwB9PNOfc/3u/rmvPtZ1HLkxLCYuUXyADx18zJb959Que3GCaYNU0uVBFNOuUjD+ckHmEPzkGNZBGQQM4yfqpJrntSuYPlaG+jI3ZEflJBL6/uh/qh04zn2xgrWuHxkZYenz1KSa2956aWt6rvbTfW6CrglCtV5KV/avdq1tbeSeq008kluclrNyZQzGaTacKzRq3y8cRTHtnPp2PDdF8x1SbajDPyg/ejL+avscZwT+Y9gSa77WL6I7lU7mc5KlwJH4BODtxk+vHB6jpXlGqzhpJVDrHIwypyeg6kgk547HHP1xXh4zESdSpyP2q30d7aOzWi79320sztwtCNv3i9lr/wF/N07yXaxz19hkG92kVm+9sC7Yxz/AK2PJGcYJyccddpSuH1KEBmIZUYNnMryNj3hxIcnt83TgnGSK6xzJEzRyThV++kpzsc918rP7s4ySJf3Q77elYt86yI0cozg5EiJGdwIz2H9e3Toa+drxWIp8s17K9t9L2vp31fl6WsezT/d/D57+f8AXl+kuE1FJUQZhIV9hLJI5idusQl8wyY5HP1xznK5Mk7m5hS4wWUhzs7YGPKh4Hb+nAzW/fyRpF5DI7L1WRWkd046fvQIsj0JPbpisOI6dNIAsMjSjYnyzc7ehl8ouP3w6g/MBz8oyBXzuKw9qj5Hay1e3z6t3V+sfJO56NKSl8dXf/K66+nV/NNmrbTWqfv5pBbbfnl84Okr/wDPOIb9sIiYc5AU8YBPO2xBd+dE10xS1iEzI4kZHxaYYiQhCf3FwR8vOenXpXOajqP2JFiubRtQTdsjjRHe7DgZiJeMHgAZ/DoSTRptlqWp2UzSrPbJzJbrMIodifwx+Z/rpMYHyzH/ALZNzt9PA16iUPc12v0etv5rK/p1s1G3vcWIgvj79f637dPwvLp3uEnsSPJadphAd8cUclxjPaXeI4oYQnb1+6MkrsRiW/tftOnyFYInggdpEXekmB5snbP71esWfYjOK5fT7pNLRzOZLhIwFe2dDAI5DH+8mzHH++hyc88c+9UDquoTzPcadcslk7rbNDDCsTuS4/e4/wBXGAT/AK/nJTPUkL79PGcrp89rrdfrvrf0+77Xl1KMuZ8tvn5v/I9fsvD4uYVtr67up7mRzJlZnihKyc+WIuDIFxzHjHQnGQK1XistHIhQxXcyxljbW4iJjP8AzzllMjGTO1P3MeOeOeWXzy2aeAqp1G4haQFBNNcxeZbp5eJJvOkJEUMw4HHOeNucrNZ3B2vaw3FptleSN75o5R5aZyZIrmRIDJPPjBlEphUA+R5pANe/SxUfc02SbrKz2/7dfZ9U99dDzKtCbbl7X7rd9+vfrv5XbOou7Ka+eC9aVbS8uRse2gWMzCLPEUUMLkRzTjieebAhh2Y7Gt03Melxt9ptFKYM0blz9ntoBHiTECY83IHlTzZJMr4VuSa5Gx1KC2uZNk8DCKE2z3KyLIfKi4KHJEsXOPmmkJnycKcgKy5mm1XUYS088dnb2v7sNInkSN1GIeJJIM7GPQHqc42tvHFUotzjb2l+/wCNttv72vltGPZyafNU809te17Pf1Xz0NvT/EP2qI3F2i2801wXt93zo1sMxxReUR5wE0XzcnHfnjbf07VY7rVJ7poo5Fto5EihgGIvLCbDJKN2ZSJTyuVzuxiuavo2ntxa2U9vJcXA8keSVYA5QSR+b8pg/dj7oPHQZ5LVL25tPCGnR5mV7uE4dLeKSU/vmwLYyjqYJDu9Oc5GCGUsTKEef2rdtbX/AKvp5x9R+yTi4Qp+/Us7t9O+0b6W6/dc9TbxRHHHZxPGYreIuzxMPI2SH/ltNF/q5IBG/wB3npnB6rn6lp8HiSNmhhtnDxb7adwXt/3e4pLGH/dEZPfd0HHGa4Oz1RdZjj+SOaFm2ndLE8kbxjmPzJF/dzAHpN1xg7sAV0cmrmxigt4ZpXiUgRiGCNwPUS7PNHGMcQ9u2ay+vqUGp9v0vrtt0bl6W+A0WE5Xr+7lbda9vnr110VrXuUNFWewlk0rV4rcyxOUe7gaMRpESPK/esfKU9P9U30xjFdazyQndbXfmx58sFrnzJEHXJLyeVx3Ppxg4BXAvrOy12Af2tASsXlncZhFIuP+Wvl5WJD6ZOfpnNQafFDZlrawuUurZcvDNMIp40BIHlzSxj94QV9iPU4riqVHKNOMPdjrqn03VvNaWVlrp05pbxpRjN8+u2q7emvoreum5vRW0N5+8udQuEKl0VBcu8bySZHAeTqV443D3GQVsNoOpqm6K/XYyHylLplo+o/dSR/IR64bOOmBUUouJkjZZLZWC4Bh8uONn6A+XHGSOuf9YSPxG27pst5byIrlZmDYQyycJ1z/AKzkjtgccHBY4Fa4Wl7SThOOj/5iO/TV2/R6b3FUrOMfc7W369NbJ/hbpqYFvJHBcrFqUm1lbYzwTukiDtKQWIiA6f6lgeny4rQutEtCGurPUBdmRQ6xyRo7tnP739z5J9jkfgc/L6J9uhvE8i8/shiwMe9YYpJEJ7nzHi80g9cHHp3rOu/C/wAouLW7tWwPlWMJC6LxxFF5nErdjk88c9V7amVRnF8tNX7u2t7/AD7/APyLtHmxp46cb81R0rPZJPXpppa61Stpsr/EcINOtLu1lAdLa6RcMETekhBOPOikz5Z98yY5HGa+T/iZpwhvJ45kt5oJARFKkbpJHnPm/eJBIOf3sXBHIJOa+1pLZo2ZJpWEi/c+RBI/of3mBLxjj5ie2OjeCfFTToLi2M01lHIY2bd5n7qXy+f3kP3vLIJ5hlMsPsMmvg+MMpjPAOcvY0nRV9NL22u3FNN76p3/AAPq+HMdNY2Cu2nvftfX7SevWy631sfEEulFJJIrG5SSIjfJGRnax6+aXxwMkcMQRjkYpNGsGOv2sc00irHKHAj5jXyjmM8cjIGMAnHXk43dFrEMcAnnsJJbSYF1aOR0eCSPGTFLgII/riSIddw/iwfBckMuttJeztaonyiQHzApz/z0yQcdcD8wOa/GaMHCvCPZ3dvK/m76+Xlpc/V3O+GrTjovYNfg9PXpfpc+v/DN9EFjS3tpJpRjc7ybCvHON+3rz1POcfKPvey2NzMMeasi4jT5GYSbeM4O3aPmwP8A63zGvn/w/OlxcwJY3Ely6H95JIE8tvrgAggc84ySBzjNesWt5lpA7vuVcSIrbNkinnH6evtjnd/SXAdNPAQn7St8l+PR97999b2Pw/i2a+sQh1u29r6Xeu7e67W3u9Edkl6i7TNEQhfcyiQZT6jjkdSD+YzhbwvfNSQ2+dqjaCwxEgGec7uCOvf1BPIrkY57fMbSRkRvncxY/wCsx3+9knp+vONqyrfkiYIyNCv8GfK3n/VxR8ZH0OfzzX6E4+7e+lVvrstv5d99157W5vjjqra6jMbLKS0kn31/gb6dcn6jI4PPAqrJdlnMEb7ApOcYz5YTkDjv2wT6HttxBelljO1YHB+SPzIzjg/vZe/cZyOeozis4XBRpZ5HGAWwNwLuemIsHGCeeR+efl56zjTjTh93W3r+Nt7+VlzFPSTlLTst/TvsvTvd3sdbGyiM4mR2ZyMkH5fVeehz9f5FXiePbuMjSsrfeY52ewxgYB9+eOmDXNK8blQLkq5HmFPMAx5nqCo5/wAPcFVmKRlWV5JpcDdEjbE9z8o6jPA579M5XF8yg+S6/wAn3++9nvt1ZrHk23b7q/8Akvu/G1yzPfwLLg7mG7hkWTeh9x0PsCfoTzu17e6R1LKJA0cfy5bZ+7648rpz7rxxnGcVygu7czrGx2u0m8N3PGfKl+hGMdB2rS+0xojPG7bCF8wx8n/Wf6odf1Ptk4+a40o/u43d+9u/zVrejv5GR0SXZUhQzhXb7jK4EnyfvRnoMDv0PfpVxZIJHdghVUVCsZYPsMSYyME5PXGT+f3W5dtQ+eJA2/CyBYwP3ie8vX/OegOaX7WiEvlyWjd943+V/wA8hFwR1b1HJ52nBrVLlTe/4bfOX5fff3Q66R4UhKqxSTMZWRjH5h/5aE9cDvxz6gYAC1POV5Qy4EYQP56J9+Tf+oPGRu/LJC84bjKAs8k+T8xULiP935eDwMj6dO/XCpDc7rgxeY8ccbKu3JMY/d9PvdBj17+w3Y3alBL/AJe8yva/6317/K2lwjHaK/z8+6/P7zeFzE0Urs7RuryOrZ+8+/ywDz6ZB46DOBnCvF4g2I0BZlLvHuX94zeXxxyoizjqfxPArAu71Uiit0WIYlR5H/vxjMkpz2Y8HGOOvOKiOpL50SHzVJQIJHZZBslkGDwe8Xp6jO3GGr3oeV/n/W39XA22uPMkaOQSCNDAqpCm+TI/eyL3zxj+L8jgUu+N4mk8xgvRUZfLkQyPgD95zkHA5z7+i4SXBlaaS3mZY1adg8S4LSD91H/rMehxjr/eOBT/ALVdlAXGVZ0XY+zzm8qLrF0ABm9/TpU83N73f5eXd/n9wG4tyX8lGVnjUyM7DmMSRR+XHwRznkdPTjAAqO5kD3CqsSrHHHAiK3BUk+dJKPvHIPOcc9gcfLgI0glS3lVYmaLzCzvJvOXx5eYuO/cn8R97ThKb5kSV2WVpH3vHllMKeX+5lPGOOMjn2wacJ+9Ti+17+q66fcl9+yBcv2L/AK/O2vf+rlk3KyZaSRsKs0gjC58ySRvLik8zK9egHt2zhpHlmWP7MIYU3ywxCTf/AMswPNeMnPQAZwNuPRsfLlO1xHCI22uUCIJ2aMO5z5gGOmIB8vOMZxkcGq8v2giNkdVQiaZpv3khMcuY8D7vmZ/3uOwGMs5R5fn+H4u/4fi0Y8vvcv8AX5r8/vsa5uA7Q7kwyrcTeWjH948knlZPJCcdhwM4wBk0/fHJckLJHG8SRRKkzbBz+8l55yB2zj1wucLjwEJcMnnRERRQRIQsnyh/3gDD5j53rx9cYoa5+aZ5ZYJWEk0yIi4kTH7v/toODwcgYxtOapWjKlFr79l5ap/+lL06GjjHV/j+ttP6112P/9T7we5BYsXVCNg4YOOB/wACbH4fXH8I2pBYyj7pGJH1PvypAPTHzDPvjFcL/aTMoZCN7dSeck9+Px7L+WaU3kr/ADNKFOO+e3oB26E56/lX+Xvt+WXuPe9lfbz8u6s/vP6fjRs+T2n7lO/ouz+K9/lfy2j2D6uXdVUv8q7cKdn5rnk+pJGe4GAaabl2ZJtz8vldoxs818H0wQPx7jOcVyJugqht4EjSZ2jgHzT69RmPBJywB71Zi1GUsSxyE9emzsMe3Xr/AN9cmsVKVRuMnr11/wAtfu9GW6fLeXTRf8Nr+OvTRXZ2BvBl9w3RrlvmfafNkPzPnK5Hl9Pz4zho21ByNgdsZ2qPnEigdRxkA+Xkcn88E1y5u98DFXCkNkrsBkIfJ+Y8gZBGMEEZ5FTJdI2Dlv3Yw2B6r5o785zjqcZ74rSdd8lKHs1eNle3lo27vo215vZWuXyRTsn/AArXdt/T3vPqv/kTrhcrIi53B1XABb26fxfoMfXPyNivdqtHuYbjJuJ5+QegJP1ONvrg5G3l4r1drhzy7fK78HB6Z9MZz+OOwqZ5iwJBVAvy5J3568jsD7c+gxjNV7bmWqa62/4Nn81bftZCVPXR6Pys31tvLr6fjY6FbwMXcNuZQEOf+/hwTjr9TnqewqOW9iEa+WR5jMrttXB2EZIySx9B0/A8becW6VIir/fYn5ycnZ2Bxjp759s9FpveRK2C3zjHIAcew5xj0689OMDbnLEylHlW/S/r6u3/AJN6IFCKtzP8Pn/M+y7a/wA1rHYLeMhyWwGX5ehAb07dZD1yfbb1rOm1RBMM7mXneSP9Z1z5XuZPy/AM3ONeYUfMxKnJ4+8o7bQQe/8AeOOueSKzpL04bL/6wnHGDGOm0AZ/nz15rNYpWqc+iel/NdlzXtr3lbsacn2/w/Dbl/8Abv8AI7B75mHB4JREPHHGeeM/ofXJ5FUpL4+bhi2VAC7SRGP+mPBOScevHXj5a5qTUTEPLaRWwQqu4y6EEEfc4Bx05P44JqlNqDKC527mPygtvHrjjGN3044B/wBm/b3mo2Wttb7LtfbRu2m3TZms6fKr/h1eu+j03tt9+vL1DX+Qi5Csn7xtx2nDfj7dSef9nis661tgxQN8rcblHToefT6Ee+V53c3casjZYNtLYTA+/wCbj/V89sA4B/MdGxXvX2swKsA5fa3dfX1ByMdGPHXnbWsakvgp7aaX8uummivvLbfrJKnH4ev/AAfu1838tHzduNYSKJmZixXBJcc7PXpjnr19wT1bOOsxy72D4YN1757dj79x+PNce+oOT5fybSSVLMR5h/55DJ7If9rj65qCD7TO7vFHI3PPl4Of+uWOnHYgcehNbup7NPnq29lrZ69PWP699LJGtKhKUvcparr+W6tq/JeVjpzrAmk2IzN82Rt/1jSHn269B+PXk1t2Nrf38gWG3k9VaVcY6dfKDDgj0b07/NP4S8MS3Ekb3lpKsLsjKxUY8w+vPI9+B3wa+p/D2g6dbQwrHFFnEaOCo+U469Bk8Y7n16ZryK2fUqdR0qbVnpdev46PolvsviPVo5O2lOpfu/L5adFr69dzz3wp4c8RaeFnWNRu+ZlUSea4I6g5AHX+8Ov3jj5PR9J1jURqEdld3P2aBpPm3NiTPoPvck9upxnccfL6JDLbRQ+TGg3Ku0cgcdwODyP06ENjFcVcaXDd61bXLBo1WSNmAHVFPQDoB1/h7jrjFeFiv9sr06tOd6rrrmS9OuvRN62fRaHq4ZRwlKrD2X7rz66bW5b3ura2vvpZn3r8GdKtjbwyxbZ2xG80sg+507Y5yMEkMO3JyQv03PfBI/KhYrHGvzMG8v8AnnHP/fWe38Pz/wDC+WO10WzigEcfmQxFnABkc7P/ANZ747qSRXpesa2be38qBV3tsBkmPOV7Z+bHIB5Hbof4f6Q4Voxy7KKUoO7q4e9d7NOy7NNNa7J/d7x+I8TSnjszqaL4u7vpJ7efTfXpayPP/iDrE7ZtrdnPmOglkjQylIjnLy/1xu4H3gDlvJrzUo0iaJxEi+X88pZvn7HHlyKRx6DPHbGG1/EupT3eoySNI0aD5FaB0UeYQRLHMPTjP3iB0wa89u5rePek1wfKWTKqBH8zjJliEsi9CAcduuCTyv5zn+ZSr5nVkp6UbpWXyWz0dut5bbXufc5LgFhsvoQ9ldte1b+VrO1+y6WXZ2ua1vd3t0hRJobaHGxGkuGBfv5fmBA0XAODntwzc1BdzXNsgdVFwqrtl3TmTHUZjzIPM6HDZ4HHGQa8x1ifT4ZFmF3Nay/61I7qZ/Kk5/5ZXAlaPDf88cg+ijPy82nj/V4ZvIUafdwRvs2LcRi8EecSnyjHEJYgDu4PnbgMZzmvOw+eU6DVKpUav7qTb8u7fW/n30s5b4rLqlZOcKSS7W6fer9e/fyPTtRnku4VkjyqseDuLyQkdfJzg8e4OOu3nFc5qN5OIRDcR73V/LWdETzG44kMnYeuRz/sjIqNdYjuYzNBMInUB5bWUIPMDAHKyZ80Z5AOAOP4sgrjalqdu8SXNtMHhZNjwNzIkw6xzA9yRkZ7c9K9X+0KNVc1Krrba+t9Vbr3XVdr7yPFlhJr93OmqaXa729Ol/v+TLDqLi2ZZmJePiOZBtlYd/41jlGDjJH4LnDco8bpJJFJJLCi/NDO0eY3Tn94ZZMjH0z0wNuBVqa5dYleMSR208exCAd6yfeIHHXHb5enuBWeLkiFZ/tVvPC28OkknydekcQJ8qUD/lixwTzzjFdNP94qcZ69d2+q020163a30XxGPvU/hqJvTfW2/Sy19Xotr3Mqe2RX85po7jJCtGixyJg9CTHjHydcnA7YyawdQgeMyyxRAFdrRnGyQ/LwAZOYW/65H0JIz8sOqKDekLaXf7z5SESRbdkbHlEAeTDIeehEvqMZw1uIMBJFK53jy2+zmAyfKI+gG85J/wCeIPHGMDisqmHhXi4qk01e/W77bpLW3dfdYFUt7Oab8+t3r0TS0tbfr11MS0uwbkJNqEkKSNHG32kRGSMy/wDLITJH1GcDnJ6nb91uhk07bh7i6lSP5kleFzI8j5/cS+Vx+9wE8/nHJxjBrJlhL6jFE1tbGMwtIq7njRJOdrCLYT5/XuPpzV9heL84s7iVYwfMEkiYQkYPkzDjz+/kzew65rmw2FlG+7tfz8novN2e1reVpVXqvlp8ui7X6v5LVf8AbyW7voinNq7Wd49rNBcfYriCRHvGicWzxkYMczFxJFk9f+Wx/wCWGcA1RIntpVi0smCzFrJJDHJMskdxJnOz96TNJDCcyZZg3zc9jVy3E2prcwah9rubYCRUS6gRUuJBzFJ+5J8ue35hHecAHnO6qd/HawwxvpN2WSAKZRcbMWvPlTxeTkTecBniX9xjb9V7ZUa0YqtF672V0+2/Lptqt9dntHm9pHm5Z3t63un8l+Dfd2F03xAZyn9p6bbSahJ5kYMcheN5A7/JJFsY48qMHb2z94YxWqniG/08vPeXVw9tKzhLf7Il1HFlf3MH2XbCQABtWaEfL1mmGG20IlEsaXVjp5vBbuHN1bKgRJBy/wDy0hiinJ2/uQCJuoxnCwf2prAuEN3LZ6fFckJBZXMUZuLvnO9Ucy72HP8Ay15PcYArowkq0Ye/Ua7RXW/37fLy3uY1Y05z5o7d+2juvs7776dGzpbh5dRtJ5pZUsEWLzI2WFEluZMRSxGGKJPJxDjyszeeM9ScfNuaffizhjikRU82ETSTTYe8eLoU84jETeZnEQGBFwdw+7yclrq13qFtftKlvBbPb28QmnaOKb5/N2eTHx5wGcRgMJseSc43MzXb7zrma3KXUkkMIuWW2dEijk3rtIPzSy/aMORbed+55Xacjb0yqyjCpVcG+va9vLW3q0/SJFNKXu+bf9f1+Z21vNDd9UNlCzPGDG5mHkLvx5o8qKMTTyjPnRNkDHJAArN1a6iurL7I7ym7kUyJM0bv5lvFIRHHN0Mk/wAnkqxAPPnkNiqEkhuLOKKzummlEcEgtrnZaxwiP/ll5ki5MxHUbcY6EdKqeHru6u9QuIXngtLu1O15GZ5k2Tf8spPMMeTt6HzVU9OcYU+sJulHb26v6K/XZbvp6a2TKjCEbt9L6Ws/T7SW38t/N7RigSz1FVtYra+0K/WQOI4yI47hInCRyzh5JN5OM+bgeaG6jBrrHu5LCRY7fWSJEPlzi6hiMcPyYMsYj/fcYf8AfGdh9MErBe6Bpc0rXc2mM9z8rnazwifyuPOlMcseM4J27/IiXByxzuwIb67ivLixS0kNpIqO85hjEMf/AExtZcyyzQhBzISo8k98/LNSfsXyq9qt/O33t+WyW3W5cOWcXo9/L5dr7dUreeh3ltHBdKZItZsr6SRstGk7vHJIesnlfvRJLj2XsCegW7pel6q84UMlpbtuZcQAxsf+uKvnPv5y/TisO1GkSFWtbaRmjMYmNpbGKOTj5v3nmReTB15VS36BurtDFIrR2uotb23/AC0hNrLI7nhMfazxj1OSe3PBXswlSMn+89PK+ttLdrdV/wDJYVVLlbjuk/006b7b/cdW3kaed0t5p9xMI412SRxiR8pzgPLwc8Y4x14yRVebU7iVQY7OAEMiLIkPlxkevnMnbOMxQnPYDis+AWkDEW9vDcykYjVkJD45Ess0h83PsuPYHNapjvZwAhHnEx4iji2RpH/zzHmNwcjjpnHbg17VOUJX5P8AP/Lv2W/Wx58ufl6q3yd+l/NP089ry0tPkgmUi5t7eSR873bbvRfUeZF5eevYepI6VvxGJUaFZZTEAgRQwguIm9fNxJCR2JKgdxjmuZjiu4Pke0+Yt/rGngLZ9e3OPTP9K7XR5YpI2juopJy+Btkjj4xgfupYuueOx7HnG2vWo35Pf+d1/no9fL77I4qqjyqcV/S0ve8r9PS3W7Rn38YLRhZmnLLuDSLGCpIz5Xl4WJ5cj/XwjgdAv8Xz78WVlfTWEbKJV8wPDK3EiD/WSwykZ/cg7MfNk5x6V9MahYRLC5Vma3w7R7T+8gc8cRNycYGOR0PXOV+bPih5dxZiPfDcKHfDSLIJImO4yRE7vNiuDHjMJwOATnovyfGFGE8txDk1pQ3attda6vqm9ndaKztI+g4ZlOONpyte783fvfR9dNVG/L0sfCXiq9kit5YX2rPtKxiVY43kAP8AyzkI5B46kQ4xnOKi8CCEO/29JI5GX5QscflcD5ZIiMZA7EHjPPXK5XjmNLjVvsuJDtIEcbybysYkyiwj7w45xn2yBnbPp0r2UMUQZo3jX7kpbPPTyuuDxjt/Sv57wFGcsTDm/e/v+nRK673/AA0d3rf3f23Fezjl6Sqey9ovb1lbyul0a1X/AAdEo/Q/hiRF1OD7JJIYicMPmiHp/wBtCMdMn3J4r16O6jjSTfIpLNzt3lkBH+tPJGMflnvglvnPwvdyoYxNLNGZQCcKfn6cQnJI6c8DtjNen2t0WSSLf5cfPzud8vmDH7k9SCfbn1x1r+nuEKTw+WU4ez0q6X28td7Wt5N6vpY/BuI68a2PcoX1d16XstNV56736WsehpemRgsEgVVXG+UnGevmRZP/ALKR05GQaRr0AH98rYYDaH6yfQDkDg9fpjPzcxBe7xGjSmJh8gOzMZxjA6nGOnA/E1IsyRE/6uQlzy3v0wN3cfXPBGOjfVSly09rv1s935Navu1+LPnYxvK/V2v6Lfr1S7K3mbwnZ5Y2Vwyt87qJG8xSHOR7gnpz68Ngbb9s6oHkO+eRnCAM2EQGT7nbng4GD0681zJuTEUEMbNIxPmGMFNuewJ64HJ6/wAirba/dgRFM0Swudyu2+R5PMHIzjgZORj+eFxlKNrzt7S3y2fl6dPO2tjTli17lt/l914/n92vN3i3UccjBowHb53Vl+72Ih59uB/6F0WmdXMjSBWeMEmOP91sx85G/o2eOfvfnjK82l6zSs7TBT5fzs+ctjjjoM4AHPB984pgZnVjFO5V14YpgpjmUxn6biGwPQD727Cc+ZQVkrbPa7Xlr+a9Co0/Jt/cvzlr8/vt7u1b6kXuI1DRt+8kZ2dCMxjqR2BbH+1jH3em7Y+3AFZYpo4RGseYwAZJH8zHC/xFvTp/u4y3D200aur3AaXPyb42B6HMWYgehwMnt6ckVqwzSgeb5aFFJ5fh/wCv+emOtFKo7JX/AHqbSbd7K+vS23mvPb3onC8qfo+na6359LryfzOp/tAkDfAGlZclk/dycP36nHTP8h1WJrpZLdnlaVAH7MAufM/1cfJ59Tge3SsRbsF8MNqFkdSTuYEjgGXryO3Tv2qR5YoIg+x3Uuj7MZiXk9Of9b26HPbANW2nfl9NV6X2/Tf5EuLVlCnv2f8AXfrbsr68uu94yRRNDG4yj7VfIf8Aev8A67sBj39vmGMUQX2Iplykbqzo7/8APTzfc85BH/1znC47X4klUx+ajusZLg+Z5cXmHIERyBgZyD09skVYaRWgMqtCfNbfGm/ypDiTy5SRz25/DGR1qLX9+NT+Evvd7ba977ff9pu6Tjp6/wBX8uq9FrzajTeQqRqIrhmO9hKMfu/Lz5UW0naOxyfQjOMU2G8la7ZJLZN0exViRWeOJtnmDdN0BAyeSfXjgViPM0EkOLRAil3eRZW8xvU4BbtjAz3zzztsx3Ezyyv5k0K7923aoxH5fPHUdOcH881UpJunDa1/1d9367Ltrck6P7XKltJG8YjeQAdYxszL1xyfyx+ODVOe5kklt0cSxupmdVONrZHXzP8AnjgcdffHG6is8ckUHmwkuZ4cS78Zj8vrn/ntxjBLfXJpRIT5EStcy5SVFZhHI4kMhxHngcFsdF9cMMVU6acb3at7LTe6u1/Mtv8At3zvZAaS3kwuliEcVyodDIv2jYkflx7wNwDebyOnU+h5CzreSNHcExwxwvF80xleONPNk8vy4V5ImPp2zwR1rFSRpTcottHuieR/NdPKjZY48EZQj99kY6ZPqOKoriK1xmb96sBACyvHFJ5mO4Yydz0GMY7LUe8uztps0/1X4/foCXverS9Pyvv/AMHZR6YXMR/dqyMwuEWFFEkm+OJMTJN5n/LY565/FsUSTr5oUvJHHFbRqYH5CiSXrEI9x87t144OTnauSqwiENJcSZVZ7jzEaOPfL5mC/p5R4PI59wBTI7mO5uCA0zhfISSZHj3yCOPzDz6egA7HrxVxlb2S3fb+vyuvVAqe7/5d3/Xvo9/Xfy5Tcinczu8Bt4UjkmbzHR/+WSED97tI8/8ABu46DNVwga1LROu4RIsrjZ5jebJ93zSOOOf/AGVuq5C3NyYLmR1UW5hu3UOSJUk3+WJvLJPmbYscfzyGpkl2BaKY8u7Na25lTh+cuCIs4kzk8lQeep5NPm055Utm13v3stHp8/LsB//V+hI7ty6/MVXIPyH17nBOenHPuM5xVj7fsOMkbhhfn5f6gbuQOevPTnqvAxa5bYAEiqQo288DHcnB/Doe+eTR/bdtuwJN7sJMM7Z/DsPfqfboN/8AmJ9UqSXuRdJLfdX32fK+7227q9j+nOa03fb7+n/D9t79LS7p7kkoztuxG4RMb+QeM4yec55YZyPpU8d35cOCw3sp39SG6n/VY7duffjB3cLHrCMpRmTnHGfk2fXGfy2+gXvUw1YIoLybkMeVUkgYzyeATk9unp3zXMsPOm706bael3pey3ty6b7X07yXw7N3TX8Rb+nf8ltb9JdzHqEkgwW2ruycLjfJ2J6dPfOM9+AtlL2ULgg5A3MhP3wOh7gY54Abtyc5XgodVBibYx+7gEkseuT16Z+rDtn7takGohlRvMb7oXaT+8x3JPvnjrkcHB5qnhm/eqaWv5dOlk7fK+na1pzJNLbXtv8A5f13tY6xtSHLMCVHl7QoO9v5HnHv/WpU1HzAo2yDP3vm6jIzwHGORjgfmM1yLXkLFcll2/MfXP3e3TGSeC2fXmrSX0K4Py4+4SP+eZ445A6H37jHNZ+xqctSa1tstrr/AMm/Xb5Fe1jGK/4deb6fm/RW5Tp5bv5GdHG08BV5z8/zY446Y43e3XFUGusHLbVQsXDA8jp7Y4Prn69SuG99GvKyfKvyL823PpnB5OM9B+f8Of8A2iCzAuONw+9n1PbPXHt+ODWccNUk6cW7Lfrsra/C7en3tbFRqL91r6R/4PL/AO2+XmdK90A3+u6D1/4F1wc53DjqPQ5FVZ7uMgNzlX4JOzj1IyfQdhjnOcGucW9VmlYso44yM8evLD6dBn0PCpBJcySFmU4Qfd78bMck5+9jPQYxjqQ1VVw7bpwb066K7t9/r8N/NaGyl73N59Pw6for9bG5PdqcAvhs7h2RvY9euRyDx3A4rLuL9xhs4/gHWTn6Akevfn2zWR5yhvmOSR1/yOv0A/Dmqk83yBYiflZnPU8+oOc988A89xgrWlPCSlJfurfJ9vL/AD+/U2i4/bq3V9vl076/1sW5L7kMTu+cOdoxkjuBzz65PHTk1B9tmnDqvQkbcHyyT6E8H/gIJz/e4NZLSH5md93P3eu+Tp9cdO+Ppinx3TjLoR8p+QAADd79xx7E9sDktz4ipiKHwUfve/z02T/vX6Ws0fRZbl+GxUoc1RWbTtp39Xd2fr5r4jpLSznuGGRLLt4yT8id+PvE+n8s4xXqPh7RkiERwI2Yo5J+526c45I9fTnvXkllql9B88bArmPlQ469QRnPTpyffOa7nTtbkRY2M6LvbP35DIrnttIBIznHK9PcV8Zm+YY2q6kVfRLZ2Sfr1a1107tJqx9rhskwlGPPC2ltNL666rTz7teVz6C0rUYLfZGxQbF27VXoYz6E/jnAxnviuuXxHDbjMMnzA5X5/wBODwD6k/THO35zXXVUGV5g21cu+7G6PvyGOc8dOmD1zmq0njm2hBSMsW6IV75wDnefT+9ux2B/i+dhPHzne772tzPztaKv1dvd8rnTPB0XLVXt27+to26dJfLXm+p4/FkTqpICMRywc98ZI65PX+7/AMCx8u3pWs/br2GGACZ2f5Av8IH/AC0z7dD+VfH1p8QbXftlkZWU52t9zOeo+YZxj0745r6v+Ak1jq8eoao0qy+XIFTbg7TwPQkjp1HJ9OK+gyOlicRmGGp1Jukqsl++tdyfVW09Nr3aWh4OdUI4TB1aqp3Wuuq01faT0vtb77+799fDq6nt9LtncOrRR7EV+mQvHpn8Poc9a7DUtTuGEjzbRhMrheB2x5WP1APr7L574Q1GMWh+cfuzJtXHI5yMde/Xn6Zw1aF1e3NzI8siusDPsbY33wBzF0xGMZ/ugActwDX9MrELL8mUPaPmWH0bvarolo3039e8dHL8BjRljM1sqd/3zu7bavS1lto3bt0u1HidUlheZ2kJRZ2O7bHJlJS2ShD9eP8Aj3xgenGQ3OXUNzJGQsLvbg+UCPIjMmQeR537uMjA5BU+/BrqdQtvOvRDb3AMM7ZVlJ/0bBx5Xm4OSPUAjjAwDWnY6BdJMsdzcxzK0nmKrrJvWI9JBiIRZ529se+Sa/G61SdWvVla6rV9eV6pdX+HR997M/UqcVSo07/ukqF9u3n6u/XR36px8bvPDcU8azpo10s7ttic3ySO3O/MQkjlhHcCHKn34Fcpqnh67Imhex3L5e5VuoYxJk9lliAljmHH7yXAbgArjFfW+peHUmgAs47i7dMFZzcRrFER/wAsxLiIDIwRjk+oxmvKtV0PVY3eSZSzK23Mckjyt5hOMuc+b16xrkckZziufFYJv2cqdPXR35bW3T2T62uvR67Szp4mM1/E67aaXv2avdLra219LS+Oten1zSfNt52+crus5AHW4gkOfJjPMXmgSgDP+p5wOuF4c+Kdb0xWm1Tzgp8uSRo42Ec/7vmSXzYwI2JypKgc9M4y3174j8PQSosrW9rqUiKymOVEa7hxzJ5Jl8rAt+vlEMec55FeOap4Gg1RysPn7xG7CG7O+zefzOTNN5f7vHH2fd+5HUheleRUWKweJp8tRrz9V1+b+drFuOHr0nzeeq30vu9b380/lvHi/D/xDttbVY2eaOFgRGkciSXFu4HEgiMay4IQ4yPyzlunN8iTupikhn/1kbKqgTeZH+7lI/1MkzDP7k4Pp1y2Je/A+a2invdLka01OWGBUubX99cL5beZti/1cUYJ4M4hJI4yRmuAvbLxhoqm18Rm804m52W8r+ZJDdwx/vBLDLHH+7bHPXktwF53fYZTja/Io1ne/wArbdpNK68/k7s+cx2FpKTnTv2+/bt+O295XUZeuiXV5JVujd3E9jDH+7giEaFzIMHJL4hNuSeRn5eME4Kvlj2wW8s73DySPIssauhcJN0lMgQyxywRA45bPQbc4rhNM1G8uDZtbObiG2idMNJJ8rn/AJaS+W+ZJbjODDcHHy55rqYr25cySR+WLiKGRDbzFSjyAeb5kQTGcbcdcAggk4zX1NGspR73X/D6rR/+Ax39XHxKjdNWh026NN26tPdJ9PmtilqlkLaCW8tLuQtbDMaSSM8szSp96bzP3ohAb/UndyoOP4a1dOuNRjtF+0yRGKdUDmGPNy8hTHl+VJL5PHUt80p5yVwN/Osl0IZLjULeSaS6khUFJDH5ccsm+OYeYFMxg5Hld+VOMZaWK+uY3m3FDaxuVhCt5ck3qfLGeOO/HHbINXTi6eIhKFOt7Pqumv336btea1RnKTnTXPbR667/AK39H5O1kdDBqmmXMptLyfiMorKR5Ak8vBGI45DLHNCB/rod2TwVHy1marDp8F7bXbCUpdM8EsqyxbzGchYZ4SZYpC0QB87G49DhqbLpNxN9lntbWGaM72KSNGjJISZDmUn9397PLdhjGMVUktNPeXOpWytIriSJ7YT3EVsev76PzIIZsYBPkzfj/FXU7zvGdN2vpqvnd6L8Y3+8x91/DVv33/Jyj/XbTmspqEcHm2thcGO0jjkWZWSOHZJJzFJF5cXmTGFcDOIsE57ZZtra2mrX4c3Km102KMrezBJtssp7Sn/Vy+kQI27sk8DdfNlZPYNKZobeOYOi3QwQz7CglyOYZZs/dlHGOQ2CqwaXYRx2sL2y7vI+SDeWaAj/AFZlm3+VAZp+Tb+bCQBg44xTjQlzc9ttNNOvXTr6+dtmZTqpK0fn+q2/KLv0a3lpag9lpFussl09ytruWGTDyQNIehjKbiZ4c/68ZEPQHacNYEEVza21zM0ji7tN0Yt5I4ZTl/Mjkll83MdxCc584MWi45bG7MvYUkiS1a2kaYl0REceWzbl/dRZwAW6mfPkYHOAuaqXukm3is11GRYXjuUlSJbrzdkUfzvFO0W0S5OAJQMcY4wNyq1PZSqKpKKpLV8zitddUuZ6WdrXT+9l041Kvs4wjJtu7dr6+lv0+TsdBBBp0EkA1C+mmnuGKQQpv8yT93iNDLjMmCCc+UfYn7y04D4ct7ya9tWvZriP/R7q4kgkjtHJk/1cvQ4glHlGeaDnHDBTuq3E9qVM0Onh7YeY6OQXuGkIAAhm6xRdcCLcw9eQKt293qF8y2Elja2VlJbzRy3MqRR3DR94pt/72WGGMiUTydWGByamliMHU9yNTDvRuhqm76be8vNb72VlZctyo1o356OISbv119Lq+t+n39TRW4jj2faJlkkc5isUaSQT+d/y0mnkJ8yEcZ6Q449qoai109lKsEUk092JiqqsUTZH7qOGLCAxQgDEE3fgnJAFVbOHS4H2HX3v2A8u3e1VEt2hi/1kEHm/vRtj5uJcY9Cx+7oXrTTQSNaTQ2VuqxrJOfmn2D94IoJXz+9AXIwBjt0JrJ6+05ra+VrLXr0v5bp67FKVnThZq2+vn2t0a7+l/s0NItLopDaXt0lhbeZG920jyPd/6s5jjB/13r55GCRgqv8AF1s097Y2bTQO94kjqlpBCvl7kP7tZZieCRwWJ2Zx+K+d2cn9oPFdyXVziEuLcEYd0icjzZu0gn5PPbpXfQ6lbbI4ZZftBC5kCHYg+XkbR1I9voQc5UwuJoybhe9t7O1rXfnb/wAB+/Y2qUJS9/Xz/wA9rdtPx6Gpo9w0xS3kjuPOk/eSeRlE3jjBl5OMZ/1JA7Y5rtlT7MwcJdPtKAxmfYikDOZZZME8epx06VwEGrPFF5sMMq24fZCQ3k+b2H7yVBL5PrzznnFdPp08d24n1CJQsQBUbpWRhnHPmSCOUHg5O48444Ne7g61NeybVlu23bZ/ha/e76X1PPrUZS9r5eT/AEb/AD+46iGCfUGVjfNEMHbCcIqN/wAs8yiWGA/LkjpnHKnpV21i1CD9yk00kSMMshTegByTv8wHGcZw3HfdwWwLzxxoelRG3s2spZ8geU5LFz08uLyoyBjrjg88AgYbmn+KtlczPZXWhXunXCHNpdiJEspkOPmNyPKlzPk4hmY4xnysjNepVzDCxVOPt37v4267r130Xc5aeBxVSNvZ+dv8lZ3/APJ7dGtWeoX2rXFsGimlkurcgGRZF23sGekkRwMw8Yzh/u9sV8zfFi9QQT3tvP56Q/vGWRBHv/2hJH/y2g6ZlxKxzwORXof/AAmH2wSRXJeOPEiRzSEuFl48rjDTxAD082E7efSvFvGk39oQXVreMxhlhkWK4iQxvGQWAM2P3UkEzY/ckZI5ywJ2/AcX5o62DqUabv7W+i3a6qzel+y33fNtH7ThrKKtPE0pTpSV+tmr66v4nr/TvdI+QdVmNxqkmpwMl1AWZ42cgPD5g/exS9TGAw45z9etZMOqG7uGgYzQyK5dE2+ZG+OM+d5TZx14PcDnFdUfCc1nczRvJI7SN5hTbmKQH/lr5XA6D8PfGa6TTPC0YkRykfzD7oGHVs8SEdB6cYVeg9G+M4ZyWrXxFOpVp/ut1pbs79V3t8k7bn3mcSnGhUppaKh7H06Le7d31X4XuR6Rq81ukA8x3kQxFmwHdfXbnryOxHTlT1r0PTtcjuBIlxuz5m7zydmTnrLF0HXtn+q51v4SjuEYQt5ciM3zHnazHI8vjn/OQOi2E8LalCJvKPmMyhGEo8tGAfrGcbmJxwTtyOnUiv23B4x4emqPs/3S0T02/DRduZW89In5Ri8gxcn7aFJv73ft9la/4v1Tj2YvUAhFs7uSMGV2xn2Byuc/Tj1HVrHnSpD5hRmk3JtjVs5LfdPXPHoc/UD73MWtvfRLHBdQmPIVA0beYc85PlYyevYD3xgVrW+ny3DrLb3UmYT/AKlnfpDxkxHaSODkY755JG7v+uQmvd0/Tr6d1t85WfL5CynFxv8Aun2Xu2662d5LS3k3stE0dDbX124VyvlsVKRhsZGB+8l6c98nHfOO1QxwGXzrlpZNyyL5iq4IxwT9zn346dfm6LBJJfWUqTzKlwdpRliDmOOM8E8EliA3PyjHYNnNNj1Np4CxRQi+YgEA2b+emeORnvnrjgE1ccRT+1U9rva+lvwWmllqzlrYSvRvCVN007XaW68tF3ffe99DVN4plAjlMCrGQPtK5G/0649uRk+vJFJJeTvCojmUMpHmOFxH745Xr25/Ljdl/aYhcRwJtKvb72aZvMfeOZMhARxxjGc+nUK6O4j8mXzVdl3H7nyR4HQYJBH4jvwFzis5Vk9qlkr6ev8A27H+u1/ezjTkr/52/r+u5qW6K1yskMzvtX5tzcO+zqBleP0+nIbcLv5O0yPFGceZIACP+uPck/hzxnPNcKJh5kbRsyxtsHlj93gnt/EYx9fwyMhddLgbUe4uZ3QNtW2XB2AdJABjPHcnnrxg1rGvFQTVOz2evlr567bx9SZw05v60+623eXojp4iVkxEjXKyIRnL/u0jTiWXoB6LjBJODjikF3IrrGIvtIiWORMy+XiU/gc9hnuB0HArLt79ZXZYZim1EjLP8nBHIBwOfUjP/AelTj7NbQR/6Ss1w0hVWc52cEDd6g4POT6c4zV+0933bb9/1tJPbovW9vdycHOWlPpuv+A4+XX7vtacNwxmLkeTsCfu0G6T/ppg5weWx7dMc5qIzmYt5m5STshmKGQIkj8kDkA++TgkdKqiePzGX92jvDG4ZW+d3I6RHBx25x+XFVFlMaJuaSGNSkca+SRvk8zAGSQZM9Tnr2x1WZVIx9ktdt09PT5P1t+Ea9m1/wAukv6+X5/cb6TvG8SpK7yL80pKghxv6/vBgdPoP9r5jTvt8EUs8ZLbn8zYGJeRh5ZH7v8A5ZccY45981jRSXFu5aSYPIQ7fvM/JGHxj1k6ZH8geWZHcxK1ycPLM4mKtIOI16xYHAGCc8tz/s9KHU1/ia9FbVX/AK+YRjF7vrtZff0/PS3S5uNeNLHEIdxdGT91KhOPLj48o8AY4zlRnjGeWqVbqSRrOOE+VI8X73L7NhkfBkGeTt2k4/8ArVjRzELHK1xEWEiNPFEwMmRF0OAfKHXocepON1Ik9vPcor3KEJHCxByhV95HlZzmU8dt3P1Jqo1WuRyqbb7a/LVfPS+/S5Eofb9l6r797P12Xz6G359xFDIkTNNEBcBWD5R5N3eXrj1HOO3JIWx/aDKixzx+WpMCMwOI45THx5A+XzJZvrwRu4xtbnorhWjuILRvMRVnLSmQfIRLjysjPrnBx6YOAasqyyxwxLvklE21GMiFHn8vrzjyx7/jzgCqVe/w1U/x/wDkf/Svkt5Q47c9LTy0fy1f5/dcvypuECNIGJidQrf88vN/e5RAfMlw+MALjOcGrq5heaSAELHIUjyiYREiGJMDOTDt+vORjJFYbXLwMFmfNwlsmDDyWEsv+qi69COTx0AZzgGrKSSNI4MjiNrh/NC+ZJu8u3+bZ9396dwzng7fujHzaRqRjbo0u63fWz8/X5aImafL9r2W/wCvl117u2iWkSbzzNYqrPLLKfv+YxjSb95keSHBJE+SMeh74wy3MgmjhRXJZr9UijjQoipDH/quzEQScA9/fk1nxorWUzeXIYv3YSaV83GzzOkQz+77e6jkbs4Vs13cFrJZPNWJbqbbIsaJBbx+XwfNAE0txxyTuHrngVmpShHnlrv5/wDt2r0Wt4+mouSXb8T/1vj+L49aiYw8uja9BGNgy2k30Z6g+ZmWDP1yTnrzkleo0/42zXJ8wWOrFQMD/QLrePMznpEfc4PfjnBNf06/8M5/Ci4VgPCunFQN7KbOHt0z5gI7d+voeKtWn7PPwxtTvi8L6UAuCpSytjnHTgxc+mOeD15yv8UPLsFKLhHDqmrO6smt/wAe1lLXV6WTP29ZziI25qej8vv3atp3T+Vj+cHTfHviDVCrad4a8TXkT+WQItGvnV5BjMhl8oEQ84IO0/WvQNPufH935RXwT4rkRiWIGi3uSn446DPY+65xX9F1j8MPBOnCNY9DsIEQb18u1hi65xkRRc854wv1611Vp4T8IwpGy6TalsDnyU2c+xHA69f1xurz6mRYed7+wUHppuvvd15Xut9XsdUc9rxtaFHrv+it+q1/8m/nrsdD+I8sStH4B8W+W4G0DTLgZB/7ZZOPocdOea7LTPh38XtR+e1+HfiVo2xGnmWpg49cSyR8e569eMbm/f6LSdBj2pHYWsWFc/LAhHy8Z74OOvT2xjLaEcFkgzFbwY/hURRgLz6gemeP16CuR8N4SUeRTXz9d7677rT77ErPMQ/aeV1bb0d/LytuutnL8Cp/hL8aoQd/w818hhlCkaTt+cc2QPx498fLlXPgX4u6fbSPd/DvxNBDF8zH7I7nrziKPzSfxB9Djmv6EwIgmTFCDtyF8osfplYz/PP1zmo5NNs7rJe3Ei5G5XizEQRkZOBn8l/Do0LhvCRteopNb9Pl9pf+S7X3esYed1+VR9k93a/a1tPeve2j97z62P5jdc8ey+H55LbXLC/0KRG2KmqWs1k7nPQRyx/vD9WHPBAwKwovidp0xYpcoyDIwsgGfxHT8C2cA54av6SvGnwL+G3xEsZLPxR4K0nWrd8yf6VYW7TIf+ekTSRHyxk8cbs+mBX53fFX/gk38KfFOoPrPgPxD4j8A3TNLK2nWV19q0meX5mwbW6E/lg9P3EkQwADlTtrX/VrD+Vr9/xty/r82dVHP471qfl8NrL8Vps22vJbn5uW3xB02RlUXkLs+Npz+7XqeACMHp1Jx2xy1a1v4109z5clzGvPqP5H/HHOeeK9e8R/8El/iXazNc6J8TNQ8sAcRx27x474i8qHkjkjcMZ4zjFcG/8AwTR+LNkJBJ8SdQjkKlMyWUO9ooiCcfvMYyD6Z6H1anwphpKMozs9XfVXXRW381p56WNo5/hm+X2T0620a3v0s726+Whir4q05zhbmHaP4vMj/UksemCMD1Jzis+48U2QcbLiPDN8reYh3nJ5LDORx6KOOMYxXUy/8E9/ivBbqsPxCuHkVdvmPp0bBxnJyIpBjA9Bn6dK5i9/YF+O8ew2fja2uZFeQj7Rpzojf88v9XLk44zzz7ZO3BcLQbv9Y09Fb8XFv9L620Ut/wC26CfNBbJ36/Lt+MfyKf8AwkVsxIW4jBGflB/XJPf+ec4wFa6mtwBl/eqWK4Zw+AZOccdCfuZ4+ma5m9/YZ/axsEebT7/w9qOPnjWU3tpvIGegMpBHYfpyBXm2tfs8ftl6BkT+D9Nv4Y3OJbPU2/IiWCHOMdicdMDPy44jhClXg4yrqz6/f/Wu/k7zPSwnE9PDzpypdNNF3W97q2vWzfa1j6Ij1qBQqJMhz874HXpz/Fyf85BxWjb6jBdBlE/zhcsd47dcRgHoP9rIzySeK+UNN8H/ALQmnS+R4i8GXFkBIEZxdGdEx2HlKCeFzwD04HBr1nTLTxTYxxHVbX7PxhwjxlpM/UjBPYfjx1X89zzhOhhJckKt9H06+frbS+nU/VMkz+WNo006sbvo3vv0ve67+7d/ee0Q6laE+S7McHazJJ8mR34I/I4/HpVS8vrVJCsCNJKw3Eu3P8yR6cHnrzkCvL73xJa6SoiZm+0MPmXdHl/ptxyeeB07EdFl0/V9T1u4tbPT7WW6vbuZIba1tY/NkmlIIii+Uef1AyMYJ7jgL8l/YtSnKnKMWm359Xa2lt16+q1R9S8RRVN15uNKP+JO/ls2trq71tpy6nsGgeHtQ8XarbaTYQtJNdGPYUGTDH/y1kmwQOBznBPPGMGv1I+CPwYn8J+HljZpXabLTu3mR736yYGCOx9PryK0/wBjT9lW50DSIPF/jq0Z9a1NY5ksJFz9kiIHkxDPPIf/AEjOPQ9MN+j+s+HNH0fSmc28Ft5ce8RRqhTPl4G3oR39fbrmv0nhLgepV/4UMdU9jSpNuht2Wlnfp5dOt0finGnHVOVZ5Xgv3tPVX6p373Wul0ubXTRWSPliwsv7KjkVchNuctyARjOfT079eMYG59zdSWtuZnZ1WUgbQ37tt3/LSLYTjAxgkD9K57xH4szf3NnZQSPHC77pUU7I/n7HgdcfxflkFbsM2yCB7gzMZFSQqAmB5vBHlvH5MvrtXbj05zX0PFVqWEp4ehUdrd9/0Tu+8V80fL8NqTxdTE4ju3vdK76XSa6t3b79Ub+mWUE0klwnmvM6q8cBmdo04yZTFyCSfQL05zkVvWF3ElyYRHNOT9+OWTZIp7P+9WaKWEHJAimj9CF4aotMtXjjiuGcM7p5kMoj8vZ6xGNBgKIzg5HGOBxiupe1luFintbmKaZRG6RTRIhhA7xxrH/qORgHmvhaWC5Y3SftdL+S/H81fpu+T62tjHKbg1elfvbT5XVrrzVu9hWvJrpAkxmhXa6BIoY9iuMCIxfvSCSOP9V7DFYt9ZE2rDyHScYU3UxQSIJO/lAIISOMbZmHHArfa5ktZBPJO105UIsCwJHAj9z5kv8ArDjGDECe/GAGuTRXN5aFjYJGtwc4lZppHk7yYf8AdxRcjvu74XJ3d1PDyktt+r6fg7fd9xwTrKmoWeuttElrfzVtO7089DyDW9GmitoFk+zToFd45wYnkXzgf3k8flQx8jI83pzk56t5jqdpHbzGJZFiaby1dVbcJF/55mIx4kJ5P7rp9K951zTQ9pLYxy2zzOA7z2pecwsD/qpp/LIVRg5h8oSdfUrXi+uW13MfscKrFNbTsJb6WCSWRkEeZJQY5MQ4JOCJN24nHQpXlZjglLpqrbL/AIbfzV99rnVg8QlO06mm299/RPr5vbZ2bMZ7mW3SOIRxxtJlFLNG8ieX/wAsy+e/GFwcZ9hthuZLLUwLPULFL1X2oVmiEiJj/WyQSCLAIGfcg/w4JbPntI4ZJlZhcXBWNMQPJ5zR7P31zg4EWeR5+MDHbNZoufske/zMQEyRq8ZKlG9zv54HM21R23cCvmKmJxWGk+V2V7Xvy7NtW6Lvr96u4nuU8PQrQ9+HtO35K2nR26772fxXL74feGruBPsFlDpBQN5zWSfu3j7edwv7/o+7rD6AcNxep/C0QTi502+ju7khDbxStxCkX35JhGcuJyCB6jgjnNdbFrcCTw27u5WTzNwiMsm4CP8A1cnlecvnH5eox9cfNYbXLjc45hhZYyQ3lySxW0f8HA84zH/ngDz75+Xrp8SYmnTpfh1v32+XVfK1jlq5Jhqz0Vvm7J3f2dnZ6/E2vO/LHwzxBbatYeRa6jDLaztK7rNId8CvEm8mLqYoSOBxyDg5xVXR50vAFWSKGWEvDcSMfkWM8xERx/6w3IzjzjwOeSDXsOtXmk6uWhul+0CWPj7ZHJBGsZQx4LlAYiMtnJHUgBsFq8cvtP8A7LnvbywCtZzGNYZ0Ypbq8Q2SjPP+oAx1Of4Su4V9bkfE1HG11RxFRUal/taK+/W67rfXfr73zObZBWwMPbUU61JK7V7237bO9nbXs9mo9YLGOOaeS3gS6lEcb7meQRogT/lsPMMAYkY7HJxzXM61qDaU0Tefb3epykQQWNkwa3t/O6STyykRzTAvjEWQBwBkGrejan/a1rHptszzXE7qZYY2fzJ18wDzZIY8zeSQTxKV3A5yK9G0j4I6xrFxDe3UkFjGj74laNvtCIR+7Iimx5fGT+93HsT3r7HMMdhsNQ9rFxbuuurXe3RvzX3WZ85hqFetU5VSa3V73v8A5dH108m3HiJdFaKzS2Zhi6ENz9njiM4ludnmSpEg6cpkbvep7fw7e3rYlWW3iCwedDK7pJKN5/1cccn7rPH3x8vfFfRlj8P7PTzFumluLuOPY0j7xshHGR9OTkBcdBW6fDlrFDlYVikVN/zLk3EnOJRKckwZYHyOp74yTXxGa8SYzERVHAU/Y/8AT9Lda7O+n9adT6rLcjw9N8+Nqe002fS/R6/LXovtXsfNs/hi5fyvMjltZ4JR5cKN5MCKP9VLuEoLymLrnzVOeVPSqL6PcQvcNZrBLIjJskm8uTfJ18oSSnEg83JAzJ3BBHK+va54e1GaaUwNFHCrBgZSTJPD5f8Aq4IcAx/vGIEM3H0wAuC+gw3umSQXEiJHFsuEEkHlXFvdZAAiijliMZBxkKvkGA5GeGX89xUs3x1epGtXxC129s1ps+115av70z7fC4fLcNRhOFPD7dknbq9m1fTz9bOJ5dPqer6eqveWJhELvl1tHaDyyM8+VmGEedt5wCPXk1dsvEumaj5bXcSSTIrpKUfHkx8nPBErDnPJwenODXdavocCLbW4t7m+uUjdY547h/LaSSPL+fHvihli4EQjn8yaGIcAYArwTxRph0ZUv7ACz1CVt19CpzGzxOSBBKo4gIx9pHkgx9yeKx+r5lgWq1OrK1G1v3raf5/1bbRBUWDxUOWVJK/VLVq/yb6bJadrpx9O1TR9Ku4InsorWRmV2iDoULO3QExEeV58ka/vT16HBIK83q1lcrpslvc3hin3CQvACtvHHL+7li81eYxD0M+cnPcE159Br+rWSxXF5K32UP8AOsV0glD8cmFx5UqkP/o+ZV7HAyFXuU192gxBc2eoo4jK2ieXJLLAf9aZRFuG6DvFMFAIGRwd3s4XinFU5L2961PS9r/PXW933V+17I8fE5BhpRTp1OWq9dtotabuT07dbW0VmZD2krP/AKLdKtnbW8TR7f3krvF8sph+Y+aOVa3aYYOM4OCrdTa3NvZWpDyRq4G9J5MSSO8w5/cgcTZ5K856errc0/VNGmIjaCy3hUSWFQkTgDPl5kC7Y/I6kgLwcE9Ks39j4cu2Zfszq8kWRLHNlw/sY/8AWjGTkDPclc/N9BQzzDzjzUrqpVt16fpbz/HRx8uOS4iMuSdRuk73t18t1e+ml9nfTYs6Tr8FxKwjtZr2S2TYt3d/u/Mk2ZMVracxbei5ypUjADEVI8eo6gwklmeG1Em42tzcvHtw+NnlReaPJ6f64H3z/FyI06GFytncTEIqIhTeFWTzP9YPWcY54GT1xwF1Yb2O3bcSzXEPyeaZXTzP+2ZklEp+o78da+tyzN4V6dOFVrdrT+lurLdd0o6ndT4bg25xjfrqtn03+a1Wm/vaI7aFbexQQ3EENtuWOQOkMZgkz0wfLVJA2eeev93I3Ubm7e3LFJbZ7fdujWS3Tg4/1YPm+VJF9Rkb8g8AVws/iW5llkUeZE5byzDMoltnHrD/AKqWLI6YBOckZ6Vitq8kbDyysaAuJF3pJGr8/wAPlmVM84848dCSM7vVnUjKFoJKm3o+3ldrz8vna8vawPDCac50+ny307W9bX9Ps9jqN4s8q4Ro4/3eVTBjTg/6mX/WmLJO0SiUdhxjbzt86+U5kw6kOhLKH3Dt6YimUDk4IOSM4KtmDVbkuWEsbq64O0cbOmO/8A6j8CMZp813FcQMGZFO0xHAx6cc9f19OM5ryMVgI1583RbJ3dvua++zv5an2WByWnQjTfsrab9W1Z76N262Wm2ljko7a2lmJZUYASiI7MmOM8ZB4PHAyeO/PIroLbTbZ1XyxldpBysZ56Z/h649enQj+LAlX7MwG7cv7twUPGPMPH4jnrwR2rTsb9UO1yNqtyS2DwfQ4HXI6fkSK9jBKjhadOMKdl1d+3/D9lbb+9LqrZH9ZkpxTd9LdLPpbW+q3+dnq5dNY6dEmMb/AJeMEDvxwRj177s/7PJrr7PT4ZQm+PfhQF9ueBjjqfm5HOO1cvaahDIVwysg+8ePl+oJXPT157gcFuitNSijZGViyrv2fP1xnPAK45xxk5znj+L3KNSm/Pvr06fy+u/k+jlyT4c9hdTp6vTVb9b63ttrt3WmhtP4XtLpNywgOuATjDoe8nGOuOMkg8cZrEm8J3Fq7Nb4KhixfG4v0JA7ZOex/nhew0/WIpCo8xPmXjJGEyR1PUd/y966yF4plVXKHc20EcZ7Yx83sB8354wuvs4yjaNXb0Xqu7/D8Ly4K2S0WveoKOr9b918Pf5+Wp5XBp4LIt3AqyHq4TL/AOH689guDugv/BFvfxu1uTCzNuY2+w/vOq/uh0BHsenQ5r1yTSYJFJCJysnIxkH2Pc/gv1yN1Zf2Ka1P7pW2qc7XA+YH8Bu9PvfxdiMVKjUj7jtUSWlrq3rrrvbXm/C54+I4ewlWLhXpb6p2tb5+9rbaz67o+c9T8N67pEit5JeEsUkuolcyrEc5MsYHI9eR0z2O7CWS7cSiOb/VuVYOMSL28wc5PGMc+oBOK+tQ0NyojuYUVum/HHAOOOnf6DqO7Lw2v+AdN1GOWa0Is718/vYSVjYf8sfMIz5ue449TjOWyacVd76vft9/Tr13stj4/NODXGLq4LW2iSve3lZa+rve1rL7Xz03myzFmu2wFjXAO3dJv69OnXv7+m3VtJ9r7WlKlf4ipMez2k+voc9OpzSa54d8SaLO3n22LYmNRe26+fHIcf6yYDMsXGSem3pg5zWR9rukaW2bZJbldzNx6fvDj5efwQHPbo2P1qVP49ls927+jjb036XVm5fEV8vxeHlyVqfs9bbdrb29f1Owk1GO38nEBmacFY2ieIDzR8hkkiwc8g8gr/ujIWmxX0Sws0lsrOJCgG6SR2P5+nUcegBwa4y31EQSxTBFkdfMiiXyy6J8+M9ATKOec8e+Pmux3rTG4iaOVpt+4yKMJH8+Y44m/vcngk4zwTnbRHHKfvydrb6voumzVv6vaxzexdNfw32fe2/Wzfpyx+dkzrortpMSxWyD92h+8VkXy3/5ZA/XsRx69VlGqXKrlnt2Zy8cQI8yRD5n+tlEhABHuT7Yz8uEXkQ2rXLFG2ME3bs/f445hHXpn88ironjaC5jlW3ESh/MkVh5heN/ucdcDHP5da6I15zilOfLTSdmvutu7eei+dzGVOKfWsnbTa11dPy7Wd/LvHUaYeY++8SaQ9JZf3fkdMgRR45HGBuwf9npSRXFu7XSvLudDM/mDGZP3fTyv+eHbIzg8/xArhLLCHieKNIrRixkDn966/70mM/7uD14/wBudWeO8kWCFA+H/fXAzH++jziLscxeuPXnBFV7eE/Z/vGv+XWltNNG1e99tW3a1tneI4xV+Wjq/l+q/J/IvG4iS3UpA0YmuIwZCzRg5T959ccf4jGGdDdKtzEscEnKqFZQbjMm/wD1rH/ljD7Nj9CGoyzTs8cbEPt8oFFU+TsMfEeTkds+eTjuAfussMk/7tYYTGJRGkkKyhkj2SYGJQQZN3PXCjODuzmo+s1FPk/5d7X28uttX193ottgjRhyrvd6W22+/r/TNIXSpBds9s0JLTKiwJtDSeb+9k7eaM5P6BRy1TrI4giWQIS8xdZQQhlTy+M+V/quD3A9CecNQa4gt0ljeSTzMz7o2+dGP/PMTfLxjk54HfHSm2zO8GUjNv511GiSspO6PysGUegz3HB98krtz8ztGrp82vnr+dvR2ZmqfN7W1LbTe1099eu3r26mql0qyW1zcRvHcfY0jQwszxGMSZiEvXEXBJP4Hb1WdbiV/NaVtqvPO0aqzb2/c5/deUSR1yPO/M5NYitGEZ5Sx8weXHsikW3T7JJkyd+ZuTgcHPbINXFJ3zfaDEpkuGMMcL+Wf3sH7rzOpxzzyOvIJ+Wto4mS93f5ff8Aa1+6PqZOjKMnz/w7dG3Z9mvdf49L6fauCef+zzmRNr+SkTxsC4i3YGYf9YJvf0qaWdiYHFw80Ze5ZwpjzH5SeX5UMOAP3w5PvzwchccKfsjM0GxR5G6dJf3inzOfMj4/dHGM4H48lpREsTwTslvEGlufISNZJJpMR+YZZfm2xg88jGWIyB1rrjUuocut77a/8FtLXfXyM/Z+f4f/AHQ//9f+mXyJBkDy2Ur95fvtkdJY+PTPXHXkZG2b7LmNVUKM4B2ngHrjGB6npke9LGiqT5iOpbqUP9cDP4D88VZQRHJ8xmTKAqp564H38/TOTn25NfxurL2vLvb8H6pfi38rH6t73N/d+Xb79ymLJg4UqpDfcLHeJCOpzj9yOg9OevGKcbP75ZEMZHykMR8w6jIxkZ4zjjGQBn5dVYUYgnkbgmwngR/9NccenTP0OcrHJBGJMRuFQH5vMGyRjnnyfn8rBzx06dDgbc/Z3/5deZXPf3ezte36302ttr52uU0tkQBgpVuVzu3nHf8AujI46nnjr/FZ8p8KY3jLdQjhC6cDiUArgcfl69asRrEgfEjLh/n3YY4GcyR88f8AoI7DnNMOwNuimfbnJDL+8Hp2wPz5zwO9L3ortd+v9X9enS5quWTc2+v46dnpr5PVeT5Y445oggJRjjGVb9SO2Qeu4/TnauilwVIDxr8o5BGPYEjHv7565GapFiAFZizE84VfmHY+btPP5/qdthCcDBLFjGrb8f6vG791Idp56YJ9uP4snzc3dX1X+ei3fZvTtZD5I9vxND+0wiYIVMn5Srb4/d/vHjoBkjPTsai+2xTbvutjPmAY+XJ9/bPIzj8VKwi3gYkq6BD/AKyMiPePX5tpHI/PoSOBTFtYAXxhcH5W5/edhnGc5HX+nJqpupze5TSX+K6T0/uq/wD5L8xxtb3dtvu9dVv8/kTo1kRgg56Fxh0z6+nGP1x6Vn3WmaTqCsk8UTtyu4IMvwf9Ufmxn/d9BxksswtFwxRkjLqSVJ4Pr5eATx25YD8xTFtzkbWO0D5T/wAtF9xwMRccHDfjU+2rXcbOy/J9mu7/ALvS6vewuWmtqv4W/r+u5yE/grSG3PB0/ijwH2Hv/CBjjnn2wP4aX/CKWKPvNuoCtnIbrjI4i5zj2xj1PBbvPs5i+ZVZWiX7ytv3xS84PaQbsng+f2+UHNI1svD7mZeoG3leec8A5+rDpj5sUvaPl5fYu23n99vxt8tbFRu/+Xit1Vr6ddbpa+j+9I4+PQNPYCPZJEfm6L0+XnGVOTn/AOuRnFZV/wCANOvFywLf70eM9e23/D8cgL6SwgZdhjfarr82+PzSh9+D37c8cnqFeqNHhkO2MuUAkwSf+mvOAM/j9RjFLmpt+9p031/T8UvK5pzVX/DWvrv/AOk/l11to5eB6j8GPDupIRPaQSNt+Y+VHv4x1zGN34DoTycV59qn7LngTVxtuLKFOn/LGP5ZOf8AplzkE/3QcZx0C/XhSE5YqWOX/gI284z5mM8joM/nxtekcGPufOwyGf8A1f5H+v0wOrY1MDhq/wDFpqt2a0tfrtLb/gJO6lHpp5hiqDgoVMRS87vTu/d2v307Po5fnhrv7Anwv1lnaSxiWc7yskbyxvx1P7vp1HAHT0roPgt+xd8N/hV4yHjCWBrkafDI8cd7NJPFHyMSwCbiOXjHnd1OCpwN33c1r3kaNf8AdJ/D0B6f1IPIqGSFXUo0aXEZXy5lkQbHjPXhic889BjtmuaGT4ByhN4ei1Tdkm9302evq+bffU7o8Q5l7N0qmNxHser163W2uy7t/wDb1lE9A+HHiWHxGlw9naCysLN/s9r8uY5IoePNiJxz8vHGD79a8v8Ajp8RrDw/aXsIv4g8MO5k8yM8lOI/4TlmwAuOWIAxghtrT2uNIiMGlqbaFydyRfJjJIxkID7g569M814V8RfgnoPxGnSfVr7V7NhcCV2trqWMTSQSebgjkSjzUOcnA7bcnb7dWvTp4Knh4U/fcru3w8vRq22mr62uuh4KoU3jKtd3cHf2PS+mr1Xd9U+6STcTywXOpDwdHr13IbJdXn86GdVjMipLKSPmkzydo+XHf67vW/B0Z1aw0+4EdyjSRx4EsSSJLHCAZZe0UO4/N0B7DOAW37v4ZxXmi6XpEmoyDTdLijXykij/AH0Yj2R4kSUGOeE7TwCGOAcDNdJpenCwjt4Pt4mS1VI0WEYkcZ8r9/GR5RnwDnj0JzkKvx3EUaaqYeFP962tbPms2km9I9L9bd9LtH0uRXjDESndafr01a/4fyvLcjjhiUhrWNiq7Fd97Rv3BlMKLwRn8scY3M+4iuzCWk/s20RVXymtp3huTzwo8tsAZ/56564OeaannJLvmaOTzCI4I7iaJU25IXzIg5jyO+059FGKa9pLG0zrAjhzwYhHO7SR/wDLKLPT/Z4PXPOBu8GNH2K/5+X7JafOy81f00SR6c6vtJU3zex79V80knfZaP7zHdQ5Rjcu8iB1MdtFI75wcIJTwDxnMOfXB6VpW2q3PlTMxmeOFfLNu65CDj/XSgMBLOePJ/1/Y7s7lni0zU3ja5vp1sIFEg8lI98snqnEoYHyzk+TDwehBIp7XEdrEkcUDSIeEdYsO+DnzZYwSIiBkg3GPNl5BbIpU6U43l7S1NvVbv0736aJLXW9rilXp35P419PR9bb9Lt/cpNpsyZbe6jhk2mKDzl3yMf9HhV5OFjEeG/dW4bM5AM/8c6gGuK1jT5Ldre2kulYyo+IrVUZ5MJxJLLIf9Qf+egJ9s11t9dNcx/uzk26yMguEJjVJX/1Y5GfOGTcTHOP9SBkLXFa25hQtcsJrq4WOWDy5Wgjso4xmKWAD97JCNgyMBfnOOp3efiqUb1H8XtLvXv0tppbzSvtpqdVBu9P9710/r/I8o1EwyzTeTDAlwiSQF4w7ztJz/qyMxJDb/8ALwJhIZiQFAyK8n183bSMEubWHcFF1C8Umx22kLGDEvkxxTcMIooeZh5MwIJC+meItUWKVorO1SeMyC8u5FU+Xb5/5aebHnzpp5c+dDEDzJGCF5rmFkS6jaVIIoRM4t2gdXN4m5t5/cyZKTbv3pnhziDjg4ZflMXhKNSNT8LLe35X0W8tPvPfoV/ZezldbuLv5fcttr/hfnjw/h3w5e3TNNFdyIoV0EcbSWkglikfzP3cueCoIxDiHHKg4w3af8I7cW0jPNetbo3lmOLyw/2lDhzH9rlbzImnlzgsOD2FenadoL2ttbyG3tnEMaTLdOX2qW5ixwxEL5JPneuSWz8t238Nar4o1az020sjdLcKZWYylLeIcYkljePzVhxnGOTwcnIC8mH4eqVo06WHpN1autGg/vu7rz3s399o7Vc4owfPUqeypUbvdaJd7Wv8r+fc8Ou1uPNcxRQOkjeVM0roPs0ciYK3UpjaLgZGIDkbeCc/L1vhX4d3HjK5TT4rdzZRt5dxOLeR+ZI+ZV/dCAgRnyrbHtuLEkt9oaD+z/4TjS2m1mJ9YvF3TyJM/labv7RyRZPm/Z8f8tcngDjJFe3aXoGmaLbR2dlaWdulvhlitII4Y0A6D92AcAdc9ep6AL9pkvhljKeIpYnMKjotfvfYUtFptfTTvvK/8qv7vyOb+IGDlh6mGwWHVWdpa6tab9dt3t56WfN8teCfgD4d8KlbjR9CJvuHnu73yzK+HyQMBvKhJH+pyAD6YO31G/8AA164z5lpDJjYEkX7snGIvMhGB9Tx1ztzlvZrieCOMKJFgcDzHbb9+PjkHgA+2Dnua4PVpjKZo7WVPOHzyr9p+6meZDF1PuYQecdBzX3GO4ew9GFr+1/cbN6afNO/S9tOl7nxuBzrF4itDk/dXu9l663te3bXT7jz+TwLcW0Ac3FsjIZNqxmOT2l86SQeb5PqPmIyfpXAapot3bBnIZBtwsTSGWJSp/1uPKAEO3JwCT+Wa9nsVWaMXBuGBMmx4WfzCz4wZjJ5vEWR33dyTxloNah0iaN7aS7jjunOxixDxJ5sfyOf3uT2AEOQPfIr5irwz9YoqdKm6SWre1t7Wu+r+e6S1ufTUM9qYepyVavttbW1XRb3vb+krWsfN97HawQO7zq0zldlw+9Io8/ei+f96fv9cDHXGQd3m2tvZyXJmEEWZlG7UIJ3h5h+SRYZI0OZcZ2yTRFR0mLJ81eqeONIn0YCWRBc2EnmPtt3jmEh/wCeeZc+STxn963GMYxmvl+61q41PU3tNNDWkHmmNHuTJtjMfEsccOCJfv8A7maInOw53DBr47MMJPBXhKm3VS5r7vrvt531l201Pr8FiIYqCqxq2uvha008uZXt5ctvPUludRTdd+XepsL7Iisx86Z1bynll8s+VJMIsnzoQsUwwDgfd5rWrW2voL1/tcF7LHZpJJFIsUajzn2LI0P+tM0H+qPknHTO4kV0reF9Ska4m+0W1wHkRJIg0YSNvLyJQTGsyRSyP/qYhnf1wQVbnL3To40kuBCsTMslmdqhY7mKX/WxwyPtImt5eemQeQBt+bzXhq1ahzVqdu3bVaJ6vWyenTzteXdOtCNSmoVPTbXS13pJKzt0++3u+Lp4esxeyahbX8qlk8mW3DNParHNKnnyyxGXdJHAUPIBaCFuACgVt3R9KhsUlXS3DwQ3DyyR3KlCvl9JLKWVIJrqK4P75Vl3f6OdoBBG3D8R+H3tNTjv7XVzpkbwGO+ZxIypBHsiMf7vKxRXJytyeZx5nnjIArodC1S1v5ZPNvrSaCyWBLB4nJ85IWEXmGQAxPLbxh47eUwjzvL/AH27pXk0cFT5nGdO1Rvdq67avRPfS0duqvc3qYmoqfM6ntett3t3smv/AAK3a2nK2bTr8T/2hIxDXS7I22xPbJHI+JY5LWL99D53+q+8T7HmuqtYCllLHbTLcyoUiiW3WTfbDyxhTFJ5U0QmJbHIAyMk8bdrTl063+0STSyXAA81Znji3uJcSqY4AT52JAG4xxkqOtdIltbTLEpga2mn8tYp7UeRIyTP5hlJzx/z0MUynA+QABct6mFyf+JOOz+71/HXV+drJy455hOPs99bb9Py6Jv/AD2PF7y51iPyALW+W0Z5vMec+WnnwtmSIYIyRj5SDjA4zWJNq9z5m0LGkZba25/Nkx3ORjyh0wQR6c5zX061jE8CWF9DHPa2zPKbgxyLKkcg2eZkYiMWeWmwfJOSTgNXi/jbwDcWUdzf6QYbm2hJk3QmTeI5efLuYuN2DjyLgfuSeuM4T2sNhKmE+Gp6df6tpZ207yv7vuZVndGdSnQq07KotW1p5LTm3t0d+99FHze518qnl/aPNVCXDMcSKQf3Y756buTjnHOPm5m68WJvk3zYYuMug++I/wDnrx68ngjHqTXlniHVLuxu57eUyIY3ctC5+dZPm5DbcyjvkYTjvklfP73XZGZ3aRyHHRTkExccjOOfTP4nAr6zB1JyjSjKp7WzX+avfzXbp1P1nLMupVadKqmrVXe3TTW9+VrTZKy79ke/SeMokOWmdSuOFPDE9sZ+vGTx68VH/wAJ+qAqZUA35/Lt94ZIz+OckEc18wXXiGSNv3jFcNwQxdM4PHYD6/p3XLl8WshPmlWX++DnZ6EZHzY/4D+Gcr3yjUtzQdkvn38799l9+vL71PLKUOumum1vn729+i/8CuuX6zm8cxspCn5iu9tn8I44P3gMdTzke/Rc0eL8NxISM7+G7+vb1GPz543fNNr4ieRg0cxlXb/A/PGe2WznPfgY74IW5/wkMyBWjJPUAkkdfcdf0/DBas+arOLhazt2u7evN1v2XZXs0JUKVF1FH1/p6J36XvbbW94/VGneMuETzQvzRnDf6vjH/LXk5+pXJ5yK9EsPEkVzt3SfMhw3zYYknHGMA49+oORnpXxNp/ilG2KXKSgqSH4TOeuDnB445OOeGzXpOieKzG6LK+0DPzffC7vQ9z77m55PTDa08RUpy5J1FZ7X0+7V9NVpr1TslJOEZx96Htajdm39m23ZtW7v7rM+v7TUmRleKRiSM8DHHsMse+T+gJBrvdG8SOjRxzlnVf4sc/XjsT+WOOpr5i0TxQriH9+enO75yPxyeoOcYHseCtem6drUM21iV+918znjpx2/NvWvRoYlRknCol8+3+bT/wAne8fJxODjP3Z0beitdd+y6bK3a28fp/T9TjulV1cljz8zfkMc4xwM/oACK1yRJt3fMdxO5eR0A/P0x/49nK+D6XrhQqEmxuwAVJyMfljp3DfUEV6VpmvJOFEnz5O3cCMfgODn1575yONvsUcVRq3cuvr99rLbfon53tD5vFYSVJt6+z809rO7v7t36W9He8d6W2RsHO1kYYOcfoMjt68Z75Jqq6SAEKTgHgE4Djvj0+p9QR0NaaNHOoaFlbJ5VeJI/U5569QOOR26tFJ83XGFOGVuJcj+X+Rg9VKlJNO229vu9b2t/d+ex5HJ1h99l91pc3S3T0S1cce5jE6OkscbKy7Hyo798Ywc/wCd3JXzbWPBOnzu09pGIpH+SREAEUhHV/KXIiOSMnHvzxXqrqD8pHHUDPT+Wf1xn8aieFHUgKOvbvjjnIHv1J9RisZ0IzjDn/h6eV9+vvO1umu+97qXFiMDg8WnSxOFodbV1FK/fo73fbltZv3mrnzreeE3KpHh7drdn2pGE+cBuCcczbup6Z6/JjFcrd+HtVsZbp55JYbb/XeaGwWPl+gz0PcEe4r6avNPSQgtGu5WO3nDjOfr3z7H2wDWY1jExMV5GZFK7GDJuyvvyenX/HOW4ng4KUtbLppf00v/AO3ebta0vlMw4PpVVUlhKl+22l9kktvv0du7UvnONppbdWkZ0CHYqySb1f5Meac9D6KefUjOGjXUBEbiOKJJzs2BpOP4B+9wSoI4/wD1cBvXdd+Httf28k2kzGCRm3hFcPG56hfK6Q55HTjHU4zXjmqWF/ot75F5ZyWqouzc6krNJjGYpv8Anic5wQMnrjPy8WLhicPGDjU93ZrV6dtL9Fbb7rcx8JjMmxWClUhUpNru10b81Lve3TfS9izFdvd/ZUVF2Y2FmdfLWTyzyMqvHoCcD15+XYildLnLzRzRhEy0jgHfLGIv3GM5xgjJHG4cHPzcLC4inITzVPHy5zGv7weZJn1+b0XB7VqRzz/a4ZvLVsqYd2Pmx5nXyecy8cdPw6txUsbKK21Tf/gSW+/frZeUVoebKilCei721Vr+l1frql3tvE6JbySVGQKzQRFCrSfuxmKTMcf+rBIzxyT16cVYRgkvnXH+itPvOyzQyj7/AKf8s85GQT7HAArB/tKIzXEEqXAMe8iTaY0V4nDlPK5BOAe/bqM7amF3CoTyZpRvlZSn39/moOv/ADxHH94/jgFuinjIStN1Fe/f7vxa9Njn9jJR5el7/rfm5fLqtdrK3NLov3itcRqIZkkmmb5v9XEksf8Arpz/AMsvm4EHr0zghYXEsVsoW8RljktsRQMSUT7hjHPQqe6njqBjLVHm/wBJaATAxyGAzbpMR/6oEx8D9507bsdyf4q48kQNJbtHFsO9uOAIZfLkklXqfOGduMfj0rtjiV7Tya17q/XqtXa127dpWMfZ+7fXfe3Xtbn/AF+77W/I9zGIPIke4TypXBYfu0Ik3CKXPp07AjnABAqYtJNchpmtxKku9hKrYkeWPEeRFgjyB93r/DkDrWY8iPbW7RTEQh5432MEkfzP3gk8k5/dW+OOGOD24WlDFrwbZjEZDGwc5ZXPlbJDyuB0HfjPUYranXTl7tTdbav/AOR32tf0a15olT93fXyW/l8XR+t1e17XLcUkX2SW38/fcXBR2nIfyESKT/nkcZyOxA/4F1YafaLcSSJBtmm3yM++OY+XmLycZaLqDwABn+LkLWjkt3hmSSXZuidMbU8yZI5P9YBn5eeAJBg568YqoRNItvhT9nF4YFZhGZHQRjzU6HmHn5hkbRxjrXXTxD5Pce3na/bo+mmrXfW5EqPvKV/Y30vsn666u/8Ah7va5//Q/pwQDBIRtu3ksfyI9+D347ZzTwIyOGYZ6rxkfXGeSenAxz7mqyO+G3oAy9SZCjpED2+UYz+J4/hzmpEZXCHdsxnBUhyMdfNzjrx0P5c1/HMnd7f19y/L7z9XUeX/AIa36v8AP5K9yyrqMMJAcHmM4/IDkdiM4zx7jdKlxEQUEhBX7/yBynfiToe+eFzjv0WAqpJIX8Tlf/rnuPX3P3aUQyDlEVhwxYts3+nQjkHjkcdRnlaz97m/u/Lt9+4KSe33f8Gy/L77FnzAx+ba25eWQoMccYz17joM+3SmxSRFgCNm0gbWGEPX/XcH/wDawecYZhiTDFRtlHZv3kfHTj1HOMDnrzUixhyC428YZj/q/bucdPU+vy4+aJz5u/n/AEkrfe/kONotaab/ANf0+9nsSqiNtCkbN5LBmBRj3xgf0P44NSDyA2DuQZBG5vkDHrjjoPTnrxnOFqvBsG1eQDvVlbyxgdDnv6498DtUgUsu5XMhY8qTjYB19vc8c+2BSlHlt5+Vv/bpf13v7tRqe7t6Xf8A9o/67bFlUUE5HDf3GjG8j/VfxHPHPHpggZzTo1bozodvaUAZ/wAcfhjr04auHRsgkI3Izjf+ZwR7cYz3PWnHO0fMIxt5x/HJ0yA+08Z6E4Geo/iPe+P8fw2/ruSaCuu/YVhAx8pOT8v6d8Zx098fNIEE2NqorKeHX5UA/wCeR5OMeg/M4rPR27ur7TsjLZ+b0OcDH5n3xk1oKrooyWUqCQrEESDsRj8cdP5lhSltv6v/ACT/ADVvO5UuX7P9ffqBgCgr5YLY4UZHTuoOfxGePU5G6MoitgxO6kZODjk9vLz+8I7nIx7ZNXY1IbKvksE2LKvJHqeg9OgP161OkY3bpIwzBtiqhx9OOOn+QCdtVKMvi89La7f15+WzcZjUSv5+Vv6/ruzINkkgG2NlDAYYbd+eee2Oemcf8B61J/Z07KERXOFYcgYKH1HAJ/EH1zxWvHCQzZKkKuT825+OOIX57nJJ9OvFSAvt+RGVv72ME9+foOOnHvUujGS99+rWn6y/P7/s37SUfhj8r/5pLfzflaxhfZpElUND5YT5nwjmOTHBJ9wc9PXHY08QgEgJIxdY8Ecxe+OOOMZ9fXgCt4lmj3O+1wdqf7Y9QeMjPt3/AO+Yh5eC5aTkcbSI047j73qfb64zUui/sv8AH9LLz+19+wliIyjyTWrtbzeuu9/vS/xJIxTCh+Tru4YbPn9uuMfnz3xilaydSTG7KfuDcM7k9MHvn37jlsfLtBCyqEk2Fm3KW8ti5/8AHiOvXKnHPGaUW0pCnCSY342FM/kRnJx6Ljnrj5lGi4x54JdnfXyelk99Vrp0va5SqRqJc79l897emi111et7aXMN4buMt8jBW4G1h24lx1A6fjnqODT4IpLiSKNN4DNgbup6euc4zzz+fG7XdXULh2TjlSAT26jB9+w68jvTkLjawKMNwKkEIQc846eVj3+nJBNP4Zcs9X3Wmy87rfs1+SKTTj7vyV799/efXzX4XLb21tp1q5lUMxj3qpEZ+YjAkxnt+ByOhwCvBlEupVkjiVG80uE+d/MyeuMHAPbIGeuMErXU60l5fW6pbiSJk+YoZAPM78S8AjHQY59sGvMdQuNf0wnzNAvJoI2/11uDOZI+37yLzZYyD83HueMmvBx+E9pieeOlLRrs7dtNLbde2t0o+lgcVGnQqKVR+0btpfv2bVrrtzfPVnbshuMD7PA5XG3zLYI0eOnkytx53PEpibH45rLvl1GykeeC7hc7uLVoXeVM+8eMTHnB29+xAFeeL442TJDdPPZIwfaJxIrpz0m80iWM5+XGOTjkbht3V8Q20yLMkrXPJKSwM0W/H8Epl4z09M598NxywycakLeastPO235Jd0/tdDqyUoSVS6a/Fa76P8tHre/LLo471hme81BLAsf3xcIZ0xgHyPmkaI8/dm57YGGakMmnTPcCzup5zIm64uLlvLjfHbESjLA8iAHn24Fcm+padKZGmtFRjlzKzCXe4HHHIE3OMn5fXGAKgguIFdd0h27d/ktIzlOf9ZtXDDHA5LDPAPHzYfVpP2cNbK+y/Dt/6TfZW3jrGpGPvyqdtuv3Py7L5fEa4ZYJJbuVTJAqEgXClDM8SbAkcPe3+/jyvqO9cLc6FqGvTXF/bmK0aK28tHmWTNx5p2RRqsmPLigj+YDHPXj5dvXTSwlvPuLhpIrURzSAoXEryufstsojI8r/AKbwKO/LGprK+8hbxr+RduoJIEdWi8tLiXBi5lx5Qt4gg/dE85GODXJPL4uUpVp9Gra2Vvw06+vkdlPHfyPTVaLf+t/w6Hk7+B77R45Jri/8u6dy5soBHJE9n/rPMmDxExTeaP8Aljn5c4ZtpFZelaDYalqcd46C4uYBJ9kWYkbZAcGIyARg9ffPqcGu41nWrSGb+z4ZFumSONvtrGUyPJv/AHkIPOIYAWk4wD6kHFTaXHGdQuZQWWURxMhhjJDuT5UUUP8AqhEJ4gZbif8AInG6vHq4WhUrww9KC1tq7OzbtfZK2unvLZvW6Z6NPFVfYTq1VovO/pp06dfNqV/duLptxbWwhMLTPdNGwX5ZkSQcRQxxZyB04IwM8njFfR3gPwrZaHpkV5fRRwX90u6eYj94Y5v+WJ+95MY54/h984ryO7aPRf7Llu5lhmubiNLeAFDcv5snGSN3fIHfocnOK93GoG2s9N898LeTxiXzFjItrcAeVJLJx++uJdvyqTxwB1r9J4cyahhpLESSq1aNHS9l6dNPKz+/Tl+L4hxWLq06cYXVKq20lu7vfrstdl2TOlbUILQEzIotlxs3Y3tjj9yoz82wjjqemRnNc1qGuW93KtlDHc26GOS4u2UhJIoAf+WxiciMzYx1yR2GTR4yvINA0efUZZhHO6SNEsuCqpjoQMiPOAQQU4wQTmuS8BZn0PWr3UriGS/1GKS7itlkjZI4hG0sUUP8Uksw5808D5emQW+uqVK0q3sqqw9J+wslq7vZWeq/DrezumfJ08Nyp1Iqun9pLW3e+rdnfo/Lo4yi1Px1pls0lhNHMscA8x7nzYyyQZHlS5kwTD06E8jgrgVxepOLk/2hp11/aNyIna3DSeXs/wCWu+YQcyjHOO/TnG5sXxKLG3u475oIrwFI/Mimbf5ccz48qSEcGLzS0mMkDZ0FeTeJfHEXhBZLu5mNtHO5fbb5jYQFNkZJ8s+VbwwgHyYgC2cA8gp4WIi6sasqqt7Lr+fyfmpa9NT3sJH2Mqcaejqa7arVvrd3vv8AF89FH2mPxLJb6QJJbi2jkJk3FX8gKSJPOjl4XpuziU5Oe2Stc4SNQtIdSTIcSuzssgkjPlD91KZHz5XHIAxCPfIr4l8UfHPRbrxBpugy39tEl07XU5ScSB44v3oJtIjNLLPPvP8ArvJxt7dF+t9B8Y+HdS8NGexvYLi3j02Gb/RT88D+VmaO4ibpgLkwyjnJBC8BuXD4adfDVfY29mk30ettV1037ej3Oio5Ua8ZzV/aVtraafLZvz9L393g/Evi/U2e806+unaHcPKaVkeCaMHZ+5iTJM/8IO3oMjHJrkV0/S7a3GoSxgybt86PsGzusgiABU8JyvPfJzilv73R9UzLaASzb9jtId80A378xBORGc54H+r9MVzWq3MlpOkTktbzHaduXePH+qH7yX94MY+UKc9Mjk18RXwDliKvtoup2bW+vT3V92n4e99fSxsY0acKf7n06tfe9+69E73Nh76G8jlNhLF58TpJtlDgSRyDHlSjb5pUYH2efJ/fLgsOreYeI9Qu5mgjtYzEGnkleN0eR0uNhjIj5YAkDzj+YJzleyW8t7Oe3upQi/aGKMLcL86DkGUkZjOY1Jxtx26kV5b4rEr3VzeafM8MEcyG62HfJFJHJ5u8g/w4PM8Rx3OQtfG8SYeeFw/PSTsn0t93Rfm/vTPoMoq069bkmumj/wCHvr11fkrlRZ90a6dJEri7cxqbiFHSKWRPLlSaWVspBPEn+jy4/wBecYXPzcXKlppOpR2lkvlQupaKMWw8yFX3xy2w8uMiaKaZGlgm65/ckgc0niu+uYvsly0huGtVidJVkjjjuPOHyoVikHnbZXQHcBkbgdp5rqvCmp2t84m1OCOHU7fKeTsH2SbT5Y08yWGY/wCrmgkJlUHaAcYJwWX5XByjjfZ0/aONnq7LXyv01fl0t3l6dbmoJ/ut77f07f18N7x6vw7epceQ0kXkxRIT5hWJyxEZ8smI8jycZMXDQYyflDFu20vW4r+CG5XypLi1k8lRtCOwkkk8mXoYpM4OeRtz3zXH77MXc/kM9uM5kmikIHlxo0cRlyTCPtALRTvj9/kHJAWtfTltooJEMBkdVclI8Rq8fEkMg6ZlWN8ADIl4wO6fV4ClUpv2XtPbJLva99ltJ6WT28tW3y+NXkqked2u3f8A4dX03vqtfk+XsJb6aOSMieS38xnubaT78SSQ/u5ba6iGfMgm3SR+UdyyEseMYqpqS6bciK1huHtLmLdFNAUdoFab9646mIwuTlQS0S9BtAFUJZ3litCiqIGg5MnyCUj/AFsUn/PI55z19OprO+zzBJ3hklkSXK26yjzEVM82/mf6+OWIjNtNz+75PYr6NbZwVJ7a66frayT6aed2YU2/j9q6Psdmnf5bJ/dffro4+G/Ff4Y22pwNc2Ngj3Kpva6t5PLjkHO6KLeDljIM+T94cEZ6N8LeItG1LSbloZoGj25wrLmQeW/l5nwvJAPfb0565r9UypuIljS+iSKVcTxzCSSNnUnMsuyT91ICPKLEr5vXnnd4f41+GS6lLPKn2KUzO7xxx/PGwPzmLzJHyvfI47cHPy89PFVMDLns/Yp626L8batvbd9dj9K4W4xrYH2WHxdT21LfW91d9G0mnb+911u0on5vTmRi4bP3n4xntg9+MceuemRgbuduLO7mb9yGIB6OHwffHHTjjOPYD5l+lfEHgm1028miEP71Wk3QMvzp69N2BzwP59KwIPD4BLR26yKE+ZVIWVff94BgDuT09skL6+HznD1KfOquvl+XW3/k9/LY/XKXEGEq0va0mmrXd9P06301++6R4AI7jT51dQ8bL8pSQmP73+s/ddP4hkEkd+AQK6nTtRt7nakh2PnZsf8Aic9iM9yAOePQYGaueKPAfjnUp5r/AEjSIp7PGwb7h5LhzjGGxHFEnsd4z74O3zK88NfFLTWkE3gzUp0i8tC1uUkLc56fLnP1PoM8lfp6OBrYmhTqU4fxkrPq3089e6sk9NbWPmcw4qwPK4fXaFGp1289X7y2vaz31+E9ejhtpiqAKvL5dGOegGOmccHPX6D+LTtDdWpUK8ksSHhRuOzPcf3j7cn07hfn6Lxd4p0NpE1bwp4kt4ovn3yaZcyRrk5/10UUoIAQgDIHYbc5rorb4waCigXV29mNw8yG8hltWT5M/wDLaL353d8HbWFTJsWm0qd33Su/TXV3Xm+yv9r5SfG/1WcpRxVCql19suj3Suuit07K+x9JadrlzblDG8m3cgYM3zj1znPH48dTnNenaJ4zACq7MAOrBufvcfxcZ/QfxV8p6b8SPCl6I3tNXs5CG2lfOick7P8AltlweOc4289jjNdzp+u6bfEi3vIo5sjOHj2SHj/VfMuRjP04xnGG5amCxeHdpUq9G22l7Wtte1v/ACb5XTPosr47ynMp06VetGNZ76rfyf37KXZrc+ztJ8Trc+X5c3+rA+YNyM/UjHfofrmvUNJ8QOMbncEt977seOeTgscj1P1welfDui67eWMqM7sY9x2kN+7f64//AF46ADLV7ToHitLnbE8gEh5+ZiN56jGCemTzhsZB5/h1oYj2coJ3qO/XRrvde7tbv6crXvfQYmFKrS56b9vF7S7d1o7W0v8Aa/Nn2DpeuKSjFyp6ttOfbpnj8d34Yy3Xw6pHKmWO7s0hH709s8e/XGenbHzfOej6wXCKHO0YwyucjHP4Z4GSW+jZwvoenaspUBmb+IbMd/VcAdv/ANZJIr36Nd1Lc/7xbrWzX46/jfZpHyuMpxj8DS67dXffV2+6Xkldo9OMiOT8xkUH5P8AZ9uNoPQZ/wDZedyox2sDubnKsTsxn8unA4/XrXN2d8rbdrOMg8E9j1HbnueDjjmtVLjeADtDHo2Mj+uP89OlavnbWi9ldWa7vfb0fm+nU8ucvdcJb0td3d/c0tl0T/wK9i8wzywDbvut2Hrjrnt6dMd91V5YI2DfKgwfX5/zxnn04OB14BZDN685+V2Ht147H2y3seBQZFPyn73bt19senTJH/xR7OXdfd/90Ob26h8Cf37+ukemmz767SzvKkgkLoPl7LnJweoH4Hn8u1Q39hp+s27Wmp28MobOxpIxlOODEeeQeh9BkLjAbTfOcHqRv+U/e+mfX6tkfhVSQYYsw569f/rf0OM8ZzWM7XUJxVZfgk9Ou+n8qj2ZyV1SxCqKVL21OqkraKzvdpXS8rvS6110Z4J4n+Hd5pT3F3pbyXFu38BOJEMoJ6AHMGMHOARxweRXCMhggCSEx3MUqKAC5ljEnfv90jqR2zgDivrDeQjI/KOOjLvGB+BPfjj3BHSuB8SeCrLWElnsittdOPMVlyBJLHng49c98evqG8DGYKEveoXvv926XbXv2XY+LzTh+0va4fb/AJ8Ws0u/VNP107Ssubw6dwtwSZ/llVCxC78eYnljPAIuNyEZA475NVUZUjcmRCYWjLooIkfZiME8Z6HJ6Zxgg/w2dU07UNGu0jvofLBLou4YiPlnzfNGM/MRkYx6kE8rVNfJ3zCWQl5zI6soHlJH/rYgDk88knAbPPAwRXgWlGfJPvv+fR/ffys9D5CrGdGXs6lLv0/C1tFto3+CfNdLvut2hlkicrGZWl2SRp5b4YDI5/d46ZxjkDPzXLYiN7mEGRwWmZgf9W0Z/eR85XcMf8sQBnrxj5s5WQx7TKXYmRSSnlkRvHz5XBzzk4Oc9BjBNT2skgeORlaQNGjnLYMf7vyhkYHqMjPGMHGd69KqunUp8rdra3118vw6x8+5i1GS20fZfLuvPvb8C9LepNLGltbx+ZlBuVdg2CPY4PQCY4IwB9cdKsC5a32tIQsUYhbGPOKfvPL2R+YVyOhHpnuBms6Fd0byCaPKiN1Rv3creVJ+9lB6HoOMgnrnrugmlGYR87tuliwD+7kfHm5A2nGBz+HUEgV2QryherKrfpba2+6+/ovJu5i4KU+SH/Ll2v06va0fNf5bmmlxBPNPhZXETXJEiq8UaJ8vM2cHHPfOMcZzlZLqTzbQzwyrFDBcwKkSt5hZJY8TSgcH9936H1JwDWSt0PPmBkPlTIoIx5cbebFsHX/WfMmOvXoDkis9ZZGtriOOMmOOHKu3UvFIU6EgcYx1b/gOauOKm46X9dr9e7v00a1/u2JlS5nz6u/z9dNPz+T0P//R/phWZtzbSZMeY4zyHj7c57H0wOOpz8r4mR3WRhMSvU4jQrJn/lrz5Rh7E4468c7ocgjYSqjcEWPBzx/02+vsB39N0kf3irMpUj5Ysvvx6Hr0xnnHp6Gv4wkkna/3+l7bv03+65+r6L+v6vr+fmXY3AVSzSAnO75o8esPoTjOMZ/L5asCYMCrAhvk4Hfv14HHbt354FZ624GNsjHdgsoTGwj/AIEP5HOOBwasPFKiYWRpO33Rx78gEZ5Gck/TIrSEpRj7q66/8NZ9+jW19RKSenfo9fxsvy8tSeWXa4wm4IDlG39+4l5/L8MnhqsLLG64LtEfuBFU+WwH5YJ5Pr9c5qmsaYjDMVkZRkbZPm6ZPXjHHG1uuO1T+QRlEk3sw4wzmMxjuOuGA+pHHAzilf8Auf1/4A/xS+Y9Irt+P/DjmLBWVR5qN8mP7kf/AG04Bz6cr+NWEG5R5RCNhPmDlX9PL5O0nHba2PwpgSZY9u4OueU2rvP0JXqfXqOMA9Fkih+fAUZPDb+Nhx3Pzds+vTA6saiUanNpaWzsru/3RVtunLs273QuePf8CSNp4/keKBcF3LE5lfr/ABY8kdc49xgdHpgJeVXEXllSfmb/AFfPUkEe3OcexOaldGP7tlBjj5w4Lqh/67deuMkhvQAY+ZkaSO4jETbcZ2F+H9/aIjt/9eiM5R+O/nrr91n5bNfMPd+P8fw2/ruWEQlQcjZudBv2iMnOcfh/wH2HOFmCsxBHzKu5HZG+RuOmdvGDg8H8sfKwb48KCqnP+q2b4gvqD3P047YbOKlj2ruOGjfPzbWyW9f3X+qx6Ht0wckq/d5f73z7/dsEYuO/XX/g9d7d+nUlRFQht4Vj93ezyOwPAQR/MOOw/U4ytwShFDkDj5FVT+8Z+vfn8s46EnGaizvG8Knmbdo2bOIx3k+XAP0OR6tn5UAOOoLY3lJP9Z7CL398+nStjN6v3vT07bb/ANeZoxMsu3cpHOSysmdw/wCWZ56D6sT2xztuyBW4L/dwR7HZ1lweD1GBx3O3o2HvKKSsbK+cMSvyuT6yAjB57N+A6U5LkqxzvHHzFwu1+zEc4x+PHfGRtPauUl+6f4duutv/AErt0uPk0X7x+0vfqrrb+8r67Jeet/d0HDEfeVkTCjlOB9cd/offOBUCzHaYwvygZVWH7xox/wA8j6kdzx7joyLKcLtIDcum7byegx6Z7kDjuGBpgbOHkH7xvuty8b9fMjwxBBwMYBx35zWcv54+fS/lp6f4H3/wqMeb5eV//bo/12t704MUah+Wb5wxZdskfc9iFA9gDnnnAWrK3UIUkLvb7uVaPLjP6Y9s9eewWhIziNwYm2M2xWDZCdj94+dyDjGT7dcqyOFY2PlquzPDFufu49Oen/7PVqjJq8vuXon1st/T7tGaOKlr+K1/VX+/7zbiuI51GcrIofaMfeOSC+Y9x6jGcce38LjBEy7mH7xmR3OB8uOv7zp5RA/zgVioG27dxVlldgql/MIz0BA4iIHJ+UnqOhFTR3bh3jSSQLs5D5MWOuPkPfp91ufxqo1VK8XSt5/1t263/COP+D5frt53NN7eN1wF3sxfDI+Py5GAB7H8KQWyhdomZSpT5CzjP/bXIz+pH4gVVF1IGQOgk6HdGuzZ6SS9CeB90/hkgmrBZJW6urON53KNqkcZH/1hwOuSadoP/l0n5b2+5L8vvLjKUY+9Ut6f1p06/cZt7oekagrx6hp1pfHPytcRRmRH9eAZuRnHof4j1albeGPD9ojRR6LZeU6yKwkO9ElH8UQkkB59cZHGd38XT7Y9vzYfK5B2c7h0PB59PpwFXq0RESMww2xux/exp/8AEevT86wnSvLmhRW97t9nq/z9A9q5R3e/ft5f5v77nE6n4KsrlSbeC0iZTGUWEGF3JPMUshkmBi7nEWeSeeQ3JXPh9bCR1uNNl0/T1Xzb24twtxJeeV/yzi8qPzoh5oyemcZAHSvaCI8EIVLJ87spCScDpjbj16Fs4xjkUqLNt+dAY2P8QHH0BY//AF+oJ+6x7OMtPYp/16Ltfd28ilUnH4az79Xv6/12Pntb7TNTvmt7e4jWKCMu0B+QpMP9XLMePOm9cDEWCOCMVk67YFYUEd15lvEn2mUt5ZMrxtyOeY4dvG8H8s4X3fU/C+i6hM7S6XEk7L81xbxeTO8foZI8YznBOfz+YV5X4j+E11c210uia7PCXWSL7PqH7+LEo8zyjLH+8wJSuB36AHqvHiMFCtGran/F0tZdtder8m1873j2UcW4ezUb+9v6/O3TuvuPlu919bHxNbxwyedZzTAtIZJJQsskmAsWcD/Vb+Dgf7RyRXrdpqckVwqwtIsTmNpA+d8kH3PL9ySWwYW74wMgr4XrXwf+JHhh4pLuK0121Gofb5buwnSL7Gpk8vyxayYmli8kmIgcRfeGcBq9XDv5tpJJsin8pGVDwkYiSP8Ad4wMTZzzkgn0xXwWLy3G4XGU504WV7XtfRu3fpv062XSX1mGzHDV8K4Tt+63V1rps1b0Wl79l9rqoNSn8S+PrGe+Go2eh+GI/NLyw7LW/n2cxRb/APW+RJh/PPTOfWvRvid48gs7SwUylI2ks2iSNsRI8ksZtsgAiWbABYZA9RzurwvWtXuv7Pv2tX8meNX8olnwOCMSk/6xZ5iB0XGP4sfN8H2vi/4t6jqd0NfZ5549Xke3ild47DS7JZJIVmmfzTFLMYsG1ggGREfOmlDDbX6FgKeKjhKSUv3tXe3ZPRLf7ve267x+br4inUxEHNXpYVNd97201vb71re1/d/R3x9491D4l3lh4R0q7lWO3jt7nVmQlPLgiTDRHB/dmc5igB7D5sfdb5H+K/7QmofBzxFoz/2rdRQ6VeQWFxGZpI7W4s2lEXlTzfKJCIixzjcT+5GMAt5nN8RfEvhiO6vfD+pQxalqNwlpJ9oCSvdRQvIJZZf+eYglz9nHGFGMjrXwv+1/ruo+KtN0fT7TxKINSu/EOkXOsT3jW8sEclndR3c4eJ5AYrS5jiMFr5Bk2u4ySDWk5Y/F5jhsPFumtLrV3S08k+ZXXSytblvc68FicBh3WqVaCnTdFrS1k299laz9528lZJH7hSfEex8SaDFq2niW5/tfE9pbofupFEJTKORN5AJeQ5JXccbRmvmb4qeJNTv7UwyvJOXOXhhTz5o45E/dW3lYBEc4Pleg68ZC1+dHwg/4KC+B7LV4fA9/qe3WrO2uYJJjb4ttLsLONIDHJmXyIZJoyrD5v9IkfC4wRX2lpXxA8O+OzLdeFtTsr4zRxOWjuUluDLN5fzzD5vL/AHTDEAH7n8cL7+Z5LjfYc/8ADp7uyacnba99/Vu/dWaPDpYyhHENwS1fS37jsuie9902tlGzPk3w94I16/8A2hbDU54kttEstEvbpVlEqbpMIIYp4jK3lSZd/OyVyIoxkZBr1n9nH4ta1eeM/jRplxq9tLZWniK10nT9ME8aMsEQeKSUQ+aCYppHJGB93naa9S12y/4Rw694iulV7i20a5YOvl5KxwSyDyj16gDHfvkHC/zo3/jnxj4L+K7ePfBOq+IND8b2PiWXWPFPhi5mlfRvEFrJcTSWkp81WT/j1dIjDCVGV3Q4xuquHsFHEPEUK1T2Ko0N1ZJ73dlu2rrpffupbZjjpyp05U6Ptdr6a32utOmm9r93Y/q+trRrJIXmMMF7Ir3KCMuY3AG4RtjH/LJgemD0AG35eA13xdZmaWOeRYGCSJMXYbEx/qfI3ZwZ5R1wDnkHk14d4G+PWoeKPhhofijXrP7DrOoaVag2aMPM+2zR/u44RgHySZCwU9eBxnC9xH8BPiZ4j0Ox8S6TqdvrYvkE15prL9nntUP75BHJ5kscwGcH5YvmTgZJCfG55h63tcTTy2Ht3R00e1ut9tX63v52j6mWzpxjRljq3sb7J69t76tbrr57xUZpfiFHbWkiTuJmtpXLKSmXjMfljEgbrjacZ7e+6uJuPGUeorIsM7NPKUVUWMxiW243edJHJzNCQYQCMTryeu+uc8TfCv4heFtP/tbUbSNrKOR0neNnDwjJT/S4ZIsRjjiebcuMkddteOabrSNdvHDLiaKeRFhU7EEe/wC55u7nO3Ixtzx6KK/GM8oZxWdSli8PiKNFXj67db7210a87WR+g5ZVwUIzqUamHrOlay0fr5vprZ320vc94sob3V7lXKMbSMSbB98QyQo5iJjKtnt1PJ6Z/h6y2iktdTghnJijvdOSMTMm4GSSR/3UsfHlRnd1HpyeAF0vhfeaffxG3u0DrdFOfM2SJz5fmA85Hm98+/IFbXj21j0o6bAqgyx3josu4P59v26YBwSO/fIAztXLD5A8NgIYuNS9viTeze7et+j0b3e9ncmrmqxGJ9jb2N+6008+Zr777dL3EEiLM0ajKpYG0ZFD/PKcyAzRnAkEHybWHQYxnpXa6bDLcC3knAhiNnGoCnGzbGkcvm+XgrDNhdrcEcfdyRXkdlqhivLm1nVYp4bhJYpwwzslxmTndmHk5+X8+CvqOn6kJV+ySgrtGyOaM+WXjlTzBFKeMRzgEjGf4emRXr5c6Up803b3vY2ta7XVWd7ebv5JXODE8y+BX7L7vu+/7tDYlt5LFI1neV7RN25mcsNrHPmJzxJAJEx1Eu7OAQ9SWOyETiOVmM5KxR3reWLlDny1M3Aim/5985HTJYEipknhnsY4ZUBEblQd3DRfcKP1zLAR5Xf/AHuPlydSgga3a2maVoBuktLqPzBsQf8ALOeL/VSm3PTI9OePm9apSlGVSpR/hLdbtqzXnptpra7TuclOvdck1qnfXq0/lfppy+t9pZV1c3dpcNvtCyl3S4iRo0kCyYxLIQgEf2brk/uZcZGclqy9Zglkt7fzbadZG3PDdRNHHE/V/wB9LGHieYAHjySD+lanlPqcbwz3cgkEf+jzRnY64QASeb/rDnA/cTbue/JasK5lure2aIXUl6LWPeYTGYbhAOD+63CGYRHJ/dCOUjkqd1fM4unUhGpz7VtV5JvfbS/o12vZHrUa9OUqagrW7W8+vy001XWNve828WaVp1zamS7XzLhP3n26ONGuE45ibylljkiA4PQnqa8tOhQ2Q4eBY5XdzhVlkeOROQes0UwyPl5wM52ZxXo2q6yLpvKhvZhG5/exfZIo7iOQZz5sLGKKQcPj94ecEg4ry3X/ABC0Nz/Z2h20k0sQH2q7khRPM81P3gh8xjGDjieeH14zjFedgsPjJ4qlTo3dLmWn8zvbz179t9HZnuxziWEwtVKq1o/4sraabJJPt+bttH3LwbpPh+8hggjlAm2bNvCYkwOPKypPuZevJAGAK9itvAFvJGCio5deNyRshHXkc4/Q+xzmvl3whDfOIriZ5ImOJEEJKFT8uCTGePzbj64r6R0HUtbgRVj1CRhlNqShNnTnO/JPtgYHfIBr95yTF4ijQpUamH/heV3620101tfTXyPy7NcX9ZrVJ+1rq72Tdv8Ahuyvp2lpy9APhZZ3C/vtLsblWEfytbxA854GVbgfT8RkVjar+z14B1iB4tY8E6TeRSZ80PYW5LHPY+T055GOep6/L6TpfibVE2i4S3kXkAIWSTnt5f3TzzzjPbphu3tPFdttxcKVH7vzBJH+6OTnr0/mf5L9Th8xinzSpLyutF+e/p630PmqsZVPhrNrTrLT1739dLdT4e8QfsQ/AbXCxm+H9rZNn5JNPWSwdBjj95a+UDx/ePOMDq1eQat/wTw+HZmFx4d8U+NPD0inEYtdVuZrfAORF5VyZgIQe+CTjIxgpX6zwalo86FvKX5/4lMbxjPJ65bI6Efz4Rp1h0eVWxDtByD5iDH4AZ4PtuHAznovTLG4St7sqSfk/Pu3fZbXXkr3tLlpPG4eftKOKxFGzXL719ejsraabPW76/a/IT/hlTxz4SjKab42Gv2Ubfu4dUgQ3CpjAjlli8kdsjj1BwR82LL4b8UeHJguo6eyhGGJ4SZIv3RzkAN5sYIySN2B26MK/W/VdP0liyiOJkZdrYIRyD0J56Dn26ZHIFeM+JvAmj6rvVUaBmyN+4P2z5h4PIz23fUGvm80ynAYhc+HtSqq7stn28r6LTVflH9f4R4+zfB+zw2OqfWqNkn3/Ha66o+MfD3iaVNsTGQAgrn955sadcDnLZOc/h1+7XtmiayZxHlmf5d+37kie4G7B49+euE/i47xJ8O5dGuTcWgeWBHcnaPblgcZ5zyPm7Y9KsaJEyJGrFg27mT/AJaDPAzzjgY+vP3cAN8m4YrCVvYyf5/8HTS+9r63enN+xLMsLmWFp4ilZPRtK2mq0snsm9b3t0b2PctPvwyAht3y5x8w4zjP4/VsdO+5umiuicE7TgZB3e/XGcfkR+FeZafM6hAzMyLypUYBz7DcecevHuWyvXQXJARmPyhMKVA6d89QSPX+XSvWo1pTjThLS+/lp93S+iXnfaPiVmlOpUj9z0+Td36beel7HWCbAyThfzx+BwP1/LAqQTK+Mlx15z/9bsc9d36YrFjuFdQAMnOevX5/fdz9Dz1OM/LZSUDlWx/noeD7en1rrTS6e0+T08/P5v77o86pU7afjbz+FX/8lt53ZpmRwPv4X/d/rn+n/fP3mhZt/A79ST/Lj1x0J/Q7YEnwACoVsDjiQSRH0BPQ47EdhxmnlkcqVbkfwryB2HoRnp39upNTUhKV7a63XT5bv8l87nPHEtS5Zcy/r5em2jWyv7pvJ6Z4OQzD+n/1vTrURzncAAcdQc7jzkgYAX8B+eKkK7AUJ6dSOv4fn+P40wjJC9gM/wAucZ9h3/PA3efUguTljS/eeuiX4LZP9L6o0jWjLSa1bt3v23v/AF23MrUNKsNViMF7CkynzPnYfMnBGQec8euOmOOC3kmteCJbCd7jTx5sB5YZ3sgi7j5QR+59j6Hoa9sK5HBXLN8vGd/PHsvHHAb17YqFlXDA4+Y/MNu/r1/P6dM+mW86vhoT5F7PdO/XZeauvktei0vLzswynDY6PM0qNX8H/e6u+qvtp62Pl5laBLlXgihaGTzEZhtkPz9+fl/dnn5R7E9arrcRblcp8qKQzE7N+HSTBBPAyMEfnuyAv0Bq/hiz1ISyLEkUrLxhUEbnacEcH5ieeTx0yckt5LqfhS5s3djESEffHvEhj/uSf3c8+o46DPNebXwtan7OMKWie/o/l0620/ldz4rF5LicLzygnV13Wq+66t5723e1jm0nEklzGg3NtfPGY0i2eYBEO46dAMn0Gdr4CzW8c/7uSZXRyWwqSCX91yCf3RGAvTjqe25LiznjljYKAzYjZR8n+rfJ7gcj1P581FKhiSdFt2yy7SyHdHGd/mDAk9hnGBjsTmsY05SlrSfV+Xr1T/G/nY8SUKlO6dJdL9+60Xltb8yd0jjkgeYqqrH5gcvuA8qTmMREkcnIyd2exGM1XiMby3cLurRM10tuquBtM0Yk8s5znBPpkdCBnFJI6vFG6SDMZZWWRfm8uWP6Ecykj8ARnOGpwxTPeRyKfmKQSOuFjiKZ2Anvkcchuff7lDjaXJBe1uk99r9NLJ692rW3f2iPNL30tV03en/gPTy66Wt73//S/phaEp8kgAXu6/fKevbn19/XGKn+zsVVonRtq7twfbKMd5T36YI4/q1WOSTawzvVh8ueoP8AM56dOD64qYepXqP4f1zz34PTvjPGK/jXkj2/E/UCdNy8PtOeI2A8uTeenTjjHp3zxipys3IR97BPMK58suB1x/z05Hr371AvzbcsvzNwQME+v4jr3/oqshKowff1wTnf8pxyc/pjn2wNxJaWg7edu63/AF9Ldw5uXrbztf8Ar+uw8GY4IMiEdVcZIPXGcnpzwA3vgU4vJw3mHC/J8o2HMhyQCp/p24PJFSyODFvUrudUOA3zs2RkjIPTg9T3+9gGq5HKtt5XkKBkEkfeHP708jtnv8uSzZxTptr+Nom1povK1+3frfWxXPLv+BbSdZCGkLkEPGQfM8xMceb9Mjjn6E/xSl4k6yOuB94NJmT/AJ5ZwDg9PXOendaG/BQHarnHfqOhGOMHPBJHfjBFWC2GVdsZbGw4bZ9M+u08Z5J56c7pUmleO72t+X2tV6a+X2Tnl3/AvxSupJlclXb7jDA59ev/ANb0ONrSiVdzOoKkk8r1H4YOePQAe3JWs/leFIHK5H+sRPXn5sH1I6d88BTc6SHALK5TlRnZ0GOnGfTnuec4XSMk96Wnyf5f126hrLz/AA/r+uxrRyJzukDLujRfMH3XPaLhf/rcYxjLWfLVVVlbPoD/AH8fVvMz6YH4ZG3PG3awGdoOCjj8s9Ofx+uMCgB/7g6lgvVvcZ7Z9cH3HPy6B73wfh+O/wDXY0EwCJBJncvltk/J64x1j6d//HTy0izbDyCy+qMHPrwOTnH+1+WMVWQwbsOh37OciRE/Djt7f+O9WnWPysgNE6Mwd1C4kH06fqCf51T59bW5L6d9/wDPz+8klZ423Jvlid/nK8Y+sowMSnPI74yMYAWdVRlAjCsNvWX2H73ys7uDk454Pc/w1kdNvKkOW6MOue4PPfPp+manG3GD8uG27hzj0HQdeOh/OpT933/4vS2zt0eyXTt21+KVcso+95W810+e/lb8ZLEsRYAjoJN3/LLtx7dvb+jDRwyFstKwVvkO44/7ZAA57c89unJp6gIGjY+YzHAbJAPr0PuPXp1HO6cCMrnfuIX5lcfcA/55Y+v1PPoaOXm0tfr2/r+u5JSWBidyy4dT97eXPHpF8vX3z+PRryxSbXYhnLfcKkCQAc5C5wM/VvXjO1nKYweiqo6MY3+TP3eec5PfPvk4+aYlmkXaAWH3GPRfw/HPX8Gx8t8it7zV+mit57zX9d9GKVSy5d/wt+D63e3loVwWDMGGQvR24ZkODyTnv6l/oM4qVGQlsMqNj5t6fcP/AEzPHbIH584+aQsjAfKPMz83eP3OORxxx/LGarFIt7BzsZmH3e3X6jueh7d8URjy/wDLz8v83fTTV/ddDJdytuRiNhCZDYJfd0zMAuO+Rg+vc1IIsDAbfnj5X27o/TO7JPuCv05qFojlkRVdR85BGw8r06eucH5v5CnLD5YGQ4T7yp12j274/HtznFTyOUX2/pd1b7nfyDn+x+nz35v/AG3/ADJEdvmZAU5jQFv4cP34HH1x264zUrNk5APmHAZlYHOfWHAHPQdcdjxUBHlnG7Mbfe29k/6adencZ5BzuFNdmQ5jb7+wFc7zgdwcLyOn49sZZ+8lyWt0t/wdfz+8C2vBLDaGx1YZPPp0z+f1xS72LKHJ3bs7lwkf3OQSOhHv0/GqKSvlxncu7h2TcQfp7Z98+3C003MpzldqlvLHG8Nx/rPLHT1B7epHCy+WKTWvdLS3/kvn/e/UC+08qgNGW3biSd6Hf0/dHzCM+2NvXPcrWTd384ZcRgIzBFkBIEefoQAecE9u2PvVbSSTYybUbL9sZcf89R0/r6YHBpkkReNv3KuN2S2P3bn167h9M+5J4rSnHm1n187/AIKX/t3+RnO8Y+7ve1vXzafn0+45bU2g1ATW93HviZCm3btOOn+tA+ncZ/D5vnbxX4E162lmvdFkW+jLeY1orbbhYYz/AKvHmjpnB49+cV9GXthIis8fycD92xeQe/705GPQY7HOcCsC4c26b5WjjYNyzn55BsOTngYPcc44PU4orZfTxEeR9E2q73XZX1a0fKtHbsmvfzp4mtQ96Kai9G9Wtf8AwHdf8BK1pfDni/xPc6fbrp+r291pl/Nm2eKVJIbORpOITHM8WM52kHdnPPoK+UPHHhPW75l1WGGfG14z5N7c+TcocgY8qUSmY8kT4Prg5O39UPE+u6AIZLfV9Is9Wt3D/u7q2inTPHJmki86E+4zjHGM5X5k8Z6BpF8v2vwhFJo9zA0hXT2V59LnzyYYxKTLExyeYQR6EdVX1CcVCMav/Xm2uve6tv36a72TN1jOaTm6Td9Grdrb732vv95+XHi/UPFGlTW7WVtfWk9payQQQF5Li2uTET+8ubqXzpIuri4xumn4PHD18S/HzSvFmu6e3ipLa4t746Zdaar2tkb0W08jrLLPLFI8EMOGHmW7GGWbJA8wZKV+1HjDwLL4k0eS+8q10u9sj5dxEC2Gdc8GAlk8qb/WiU/OD1JyCvxB4+01LKO6069Bl2I6SLEjmNo8EmaXdkSD0xkgcfNjFE62Jyyrh6ns/au+tfXTo9OnTe/Xa8WdmGVHFqpB1PZPX3V59La28tfvPw28M+FNQ0DxDdarqE1z4i/tVIE1HTkiEE9ztkMmDc26SSRRQS/vp4TNDypDSkEIv3J+zTq/xJ0Px6t7Y+fpGk3O5I9JhkJinkkdSLqWWX/ViCIiPPnc4yOMVtjwGk+tSCyitYxcTSSIyrGCiybP3flR7DmbPctlcjBxXmPxC+K+qfBPxNoE15Yzp4JvroaLe3KDy57e9ZBLHdZ/1pt85Bh5/cJkA7SK+qqZvisYvqtJe1qVaC0ae7XRvTfty9r68x0RyrDxp+3T1Tadra7t3+XdK/ZXPtP9q743ano/hXTdLWW713W7tJkTTNLmkjtp3m+Q/bbqGT93Db4TJPn5PYZJr8y9Eh+IXxW8dpFDp0WkW1rcW1vcPB5k/wBsS3SOTzJbyUnzobeVXtzDCQfk5U5Fe6J8QL7xxrU+muttqGjXcjPpl8pijubSOZIjL5VznPlT+ZmHAGMHPVd36UfsvfAfSJJYHe2SCZVjEYMET+dPLH5ksspIyPtEbA5yPO9F+UryUakqEXhvq9sdWTTa6Jq1m7u2/VeWljnxEY0YU5c/7qk762S16336vX5LdnuP7Ovwk1yfRdCvPFDRm2t4Y1gtV/eW5/dxxfaz5uZY5iAJbcZxB0HA+b9PPh+0+lrFpEk4ljYiGFoBKpiTGyPzssPNJwMkDyT2IyNvy9rGp6f8N7C1s76dEIxHDaRYEkwyB5UcP/LKKEJwpb6HBBXpF+Jj2WlaP4gs7K4uUs9TtE1Lyj5M1vp91iOK6jXBMsEEsiRXO7r/AHjyW8KphIYHEVKTq2qu/tlp+9flu/y+W0tXRxWNo08R7P8Ac6qjbXRrfo12T97urXaPrPxr4Hi1/RNQttSjUWt1ZzwyXEflpklGjEc45BEBIY8EjqSPuv8Agh8RNBl+Hnj7VNBmmhZLe/ItZ0fAe3MskkWDwDiEevbnGc1/RD8PvFmmeJNOuNHuJbSa4u7Y3loC8aeYk0eTHJ5v/Lc58rgcYUEH+L8pP2gfCPhr4geNPEfw8v47Ww1+Evf6DfK8f2/Tr5TLJaSzeVGSVMmIJ4STBOnAUqN1ebxHl1OthKFS6s7X/wCC7ppJW6PTe1z2OHfbQr16Xs3+6T872/S+ur6dDxjwh4pjGk6be287w3NleGK4K+WEaP70UcvtPHkjueOR0b0bXvFw1hbKWSYebBCgjjB+dZZZMjpuH+qwOB05ORwv5v6R468R+BdZ1/wx4w0zVY7nT9a+wXMtvbPJE8kcnkxX8EUeRLaGHEvGQIpMYDBhXs2j/EW2gv7lb2WQhSHhaSOXY8B2fvIPMiYecITjaPcDODt/P6uV4ilCeFgva0quvV9b6Wdte/u2vpo2z2edRruron1Tavfqu34fN7n1fqE0bta6hGUEk0EQZHGAPL2JmXLDOeehK9geK6/R9a2SRpcpuhU7EdhmRcg/uiP+mHP2eU4Bz7gt8rSfFjQI3sjcajBHZXMSRrJLMg2EuYxFDvAAmHBMGF9hyK9R0/xbpM6JFFfWjLIEVJPPjjE3lxj95L+9JEvldhheD8uTmvBxWCq4epT5aTXVtc3Rei3Xr+p0xrudP37X12kn96Sb06bX2ufQrX0lo4WOTzLK6bzNzEn7NIeo3DpDcdei5n49a2o5hdRLZ3ioYJkkGZGkiMeM/vRKCYu6fuZdmepIxXg8HjWCP91LfW8RVUVmkZJrS5SP5Fimi/18c/X7PLEVh79a6zTfErXjMimWQjYkQhjaR0yeJoQo8mWEYH2mKXkH+7ljXr4eE3paVT2y1te0flaK02009N5cFSai+e689er+/e/TbyukdRcyz6G8vnKZrKN/3OWkhnTjPmwygzRSHHH+txk8belc9qutWN1FNcjzGkCmRCJ3juGTy8CL93gyHA/ubj3z96rV3r0tti32mSGX71rNDgA9DLBFPF/y2GT94AcgA5yvMXPl30jW66PItww3JJDJ5D+X/COAIgRzx55xnt0rx8xpNS9lGna76rbddb9/71/L4j08HVjH3p7rzVr+S0b7b9L3X2fDvEPjG+t7oQJYzC1aUCV7hQZFaXPG+SIS9P8Alv8AKCOABk7PQ/B2m6bqqx3EyQSTt87giPzEzxjt8o78flkbfPPG/hu8WS4lksdWmmdf3Ra8PlQy84MkQSQTRbRj/XRd+Dmrnwp0HxW9yojtbvyfMYCRjkL84/deaSR2P3jj3GWFepkEYUMRS56XtanW2qWqvvvppvb1ujkzaKnheeNV0lro3e/ld26Xet7La9rR+vtF8MWcccaxpC2F3nakeUz/AKrkg/kenvnbXZ2mh20QAYKcneME/nnt146H2HSqWhabNa20fnl1lOxmwSemPO8zHJOc8ZHtnBFdfFFIDu3BkLHYCNkoH/LPntxn1zj8F/WafsXGnOKtbdL7+mumu6fW19Efn8o1FJ/vr6vXv876r7+miuQJp8ap/Gu1SikCTP8AwM449efz7VZjwgIA4XYh43c+vbIHU+nqetaEKynPmPtTPGX+d48e4JHfjP5cNU3k4OVZcfeB3dx/P6cDB9sto/Yt8sVrU2d9vys3tt9xnTpz5uRJ1r+du99fe0279n3GWjwCYJIN+1hyu6Nc9eeg/T3Gc5rrf3TIotpJQGUgYYumD2yT+IJx7DjDca8LH52f5hySq47g8evXHtxmr1teXUShGkDLuyDtwEx0I6c4/wAOcjdg6km3TVr23pLa3db7u3VW+6Po0MDUlKmpU2+vW9l22a1a2/HWRLeQzDLb/nxgvJzjnj1689Pbp1rmbszgMCSoT5N39/PuPQ+oUDPHXavUyOZsMRGznPR5Dz2z6cZ6+/BzlcO8jGDgHK8kFgcj14C+nbp6DOGz/eRj723pvfXzb9fkrbH12Ay6mnS0ftd7badtL/h963OC1NY2DLMvmIEfIZB15yOrY+vfvnGF81vNMtredpbQhFZt7J98hv0AOc+3bnrXpepIX3KqE8nBdcPzz0z7+3v12thx6Q8rbmIHHLFMDg9+uB/P261wVI+29o5Ur9mt9NrPpff/AIY/RMqhVwsN7K2qdt79Nr/K1t1bU5yzWRT8oOS5zls9erfkP0966KAMAMcBSDn/AAHOf0xn3Jq5/ZrRMu4KpGMNtxu+uMjn8P0Jq15KKAGCKxztdc84A+uPy9h/tc0KMYev5+r0/wDSV21+I7a2IUpdfn/Xe/Xr1uQDJJCMynOQe2ef9SR7D0/Kp0uWjOJSwbt/HuHYnn+g/X5opAY1YCMvjy8H0wRjp+J4C5PbioXG7cPXj8vy/wA+vWtqcdeWTtr2/wCGfnr+N0jlqOWl9ntt06eVvnv2aUdZbgMRyRxkAgdu2B0HPTIx+O1rccq7cFsbs/MimNwP9o4bt7Y+vO3llkdOCWRUPfP49gPr+eVz8uhHMWU7WywAG/8Av5yMex+pH4Ag1pH2kdv0X636L7S/OMuee3z/AEZ0Ub7uGJ4CHdj2I5GTjO7Gcnhe2flfjeA3/wC3x6cjA/l36ArlQ3GQFYFG78fI2eo74/8AHsHkHtV+KZsZBGV6HfhMHsQep6fX/ZxlsZRk433s9en4fP8Aq46UrX9fvv8ALTb/APZ3lOuRtzhtzbfp7+xGcdPzyaQohXG0FiSd56/l/wDX568ZAV4kVsD5RuODhf15wDnJ7+/HFByrNhlwp4+vY9umPX8q55U+Z89ree/4e76dO/kdUJ9r97P878v6P5XsRFVXr93GAegz6nJ/TIz3xxVC5tYrpNsihhtydy4BJGMEg/Q9B+QO7TUhjgH9P/rjP5/nUDbOrE7d3CL0x9ev6fTGKzlTXK+Z/h/9u9fT8VdS2qUoVI2kuttr9NXfXr/d8tdUefap4XjZWMC7xguOOjE9OmSB0zjnuOCK4u40JY5trozZOPveWjylNkh7/qPXk7gze5mNf4dze3T9eT19mx+dZl1pkU6k4VXbJ3Hj5xjp6e/X9cryyw8fhnv01b+98ttv7vzWvN5GIyWhVi6kKfnbT0vbS3zevdfZ8Qn0lPK27B8uwEqqAgRSDoTtP6n07A1FHpsKGOZdjMCUG7BCgSeb++wBnJGD+fGCtelXmizJ8yoHVV6qOPTnDNnP+cgfLzNxZS2xKqjHk8FA2STnzePlb+QxgEYIbnWEbn7lLfTbS78lor9U77+TUfGqZI1b2fu/L8nzNrTuvK7s+b//0/6VyJFKsCp3feABzjjH4kk9+gx8tWyWZVLkKcf4DP4/RfpzVBLjeWfKplflwpx9z/nljMZ6dj681Okgb5T37ep9fr9D+eK/jXlTl79Xbey3/F7eiv56n6gWUDl92RgYKt2/DufXHOOg9FvxsoTc0OdxPzbievrF6Y/zwKyzKwbO1T83VW4/Paucjrz+IzQblyWIDHH8K/iOOf1yvTp3U549/wABaz+Nde/l5W/JfPeWnIIXAXBZR9x0yAg9TwOMcHj25zTUgzlV3FScbyr7F/l1OT0yfYCo4bt4o1+RUO7Y+F8zzPr7nrk/gGwRU6300fEaksW+8SMY7DaNvb6/j0Y/dwal7V322d3f7/xem11e4R5ox637X/Dpf7+vQg+zyRyBty8vJyzZl6Hrwv6lsH1BxVkpHJGGVhK6uCpk+Q59T93P+eRnFJLdxzMrOAsh+TG3y/M/IHOcnJByc9Diosswcq+1WHmH5M7Vi4HBAB7kcAjPOf4lyx5nODvfdP0fmrb9n8rl80l/k1b9Hb7vLSxK0ZRtu4oHXfuRsybyevQY6+p/DIpfMuo1PlkujL86rzLHjjf0Azzjcc8/nVfzpEBEhbyyPvt/+o4/yQGyTVlHwEB3BHJIZTg49/bt2/UFs7Xb1/havp3afnr5v5WvKQhuJHC/Nhh0Lfw47S/XJyc4OOwArSiumd8MFXaoC7jsBHOZAcDB6YyfzJqm0Cu2Ymj+YeWyKcyBM8kZ7+h2/kSBU5ikVCQC8cbDG7mTHTrwOMdcD3Bx8ySnDV1LKrdpb2b0a031Xdf4tLyqUua3l53/APbY/wBdre9orNvX5tu1PulsgtGO/fr1GRx78bl3qUJ3EFW+UKucfj1bA7k/kDhaKSDYSAxG3BO77snocHnPsp6YJHBoZU2ggOW3Z+Vwg9n9z9CfTjq2ycvt1Uu/X03/AOD+FoyaW8uwIRtu0F/uuU+uOTjnv25xmpAGKMFOVj/efN1zz3x29cdunasdZeThnXLbQF/nnHPsMD8MitCKVmBQt8yrwWbfu+o7Z54yfTPJ2kqkWrK3tdNf6vvbTVW3e9gL0ZCqGY5Oc7cg89B1zn9O/wBamQqHAIfYqhxyP9Z69/8A6xzwcZagrgHa+F8v7pJx3z/nj24zSxtvOPmZmOdpPH8h356H6DkVpGpL7a+5/wCUHf7l8wNRLlQxKiThdr/cXOPqTyP73v0HBpTcb+QWiZ+MfcxnvnnPHsCegDVUWMs+0Da20438jjnrx6+nPtxtlYCM7pFeRVUoVZekg9c7ifbj3Of4X7SXZff/APcw5eXS1uvf+v67FhCnysxypKH/AG+vXv1+rfpUwjGXeNgwYbNx4O7ngdcZ57n3xWaokLAxqUX+63RSec56DPB6Hrjjo1q3ZFAVpGaRj8ynL5PPIwOfTnb+PRVFJuz9dP8Ah13XXTW99Ad9e/nf8epdX5N5YNkv86q54B7eZgk9/T8MZaWKXezEbsqn+rK52rx356+59ucGqhWRMfM3zDg9WOe/5467cf7WSVcjvGBkN8zclh87A8/JzjH12+3TNac0oScYLZ9/n1i7bv8Am+QunvW8+34l5sD5iyx/9M9kZI+mcYx368DqMgVCNrEEBSu7AdF4x6DJ/r6fMc/LGXU5YkszNs/D/wAd/kvpk/wxtIHVudu32/56/QkcDGcDnHbOKmVRv+vX/Pv95lFe8vJ3fy+a6+fnrYmZPkZVDK7Nxn5N/phtnGeemffg5VEhk+RDtfOPvK33/bgdPXnOfu9RUtuoZG3ShRH84L9AeBj+v6Ve3BVUkh9q7t5GN3/XP5j6DHT3BziqhGNTer19NvPW2/SPzQ5OcZOMNbX1a/4fV9PyW8cvYAdzRrlS/wAw4zknOMg9OPT60xrragCj5WbBz0x0x5n8OcAnA6jnFW5JIyzMCjJ1bevfn90Md++MH8OTVV1hBcO2wM2VwvGPToM4zxyOM8HGGUm4yqctS6Sdrqyts7626/hd3vylKPN8d/Tt8vX/ADe6IJ2jmVkk+SPGwbl/d+2yUE9OcZA645zXM6j4dsNXgdJsiRt+WikdAeRkQ84/9C/QGurxGY8RAPglADzG2evcHtnn25XkVVwVDAAKqh/lAwFOT3+bg889vQ4zWtOvKKp6X/rbrvtqvvsTKjGXVr7tfz3835a2Pmbxn8MLyFJJtOvroKrOxSYySRp3/wBaMnscYDYHXPDL4Ff6dqNg+xjKWRzGXSQyReYOfN8vAwTyOxHUjqW/Q6WJ5o87EO3llf8Aexn6qSM4+h/9BrhtU8NWtxKz/wBlWu1huZ1jjCeb6GHPAA9ufbk11wx1Jey56fsnfTZ/PpZuz0tp5WRg8NUgly1HVvuno/lpJq3dP5JL3fz/ANVWZ7WR4mhScgu5mdMM/OfOUyEEHA54AzgggZr4R+P+q6Nonh/V9a1V4NNudGtrm41Np2jQNH5cknmRSjEE0HlrxJFu5yvGcV+22s/CzR9Xtm87S7bEiuq7IlLJHnJ+9Eep6YbPrnA3fN3jf9j/AOHPjG2vLLU7MXVrdROk9rdBJ7VopV8uWGSOTzopR1zDNEOoxnOV66mNoV4KlUoe0Ser7JdeltF322TbIpUnTlzc9elV00bum352V+z37Le5/Dp8Zf2xfHvifxxDZ/CbWE0/wvoksOq3WtCPy7wXVlPJ5sMUrkiW1uYIjb+T5R4kwPKIJr9HPinfeAPjh+zJbeOLHxHoNxqK2GjaxJaJe2w1G21i1eKK/t2i8zzopmMk8TQmInntyK/TD42/8EPf2XfiCupSaPbaz8OtVvE2tqvgyc6Z5ckeSrTWgiFlNEZMtPC8AE5weAFNfAr/APBCD4ofDmx1S1+F/wAddB8SQXV1JcxW3jnRbq0uHgkWWOGOS50mUW3n28rxzeeLMngkg5BX6OtiMhx9DL/YVll+KwlWz/dpKsrWtKp/wV2V73jWExmOw08R7VOtRqbXWz6dld/PXXfQ+RfhFren6Nq+mx6veobaJFeJppEjgh+RcRFeBLEIhuxn2JBzt/b74QftLfDXwP4astVfXdOWQTx2pR7uONzcQwiSVLWWRjEZJolea2h+fAjMOTjFfgj8Yv8Agml/wUp8Eapp+o6b8PNP8e6fplt5ZufAHia21AXMiySSfaZdH1OPS3CzRLj79wckDBr5C8VQ/HP4dW15pXxe+A/xd8NWyajuur7VvCPiv7BpUv7vzmtrq1tpNFeESgywXZvFWAvt89Y5GRfaw+S5Tia9PF08dh6tVNX9k1+u7jZ6dba205uPHZpiK1NYd0vZpPfe60/ux0t5/db3v6hPiv8AtOeE/it438F3XgTxNpms/O6apFZ3Uf2q2t5CqfaJ7QNkNbSx7XyDhJDlTwG/R7wQXPw3uNXwJRbWL2l+CkUhuLS6j835IuPMQS87s5Djkjjb/G1+y98TPhT8OvGf/Cda7qDXcVzpM0E0Nvaaq2uWTSyRHyZFLzWNpcTOn+kzeY58lc4OMr+rOif8FK/DWm39v4d0bxJqVv4a1BVV476S2SO0j2iOSW1nuBHFdDaf9Jg81Jdqy7MzEI/xPEvDWOebwxOXU3WpO3tLarR+rTS01u91tf3fqctzp1Msp4StP2VOj20b9Htr6elz93PhJ8Q01XUrrS726sraztrJLjStTe4S2+0W8L7PLl83aI7y1kQxzjjABXnAr5++NuiXt58UdL8f6QGlutMuU0/Ur+zZpJL23mf/AEa4mMW7zoIBsHn8gb1B7mvydl/a2g1nxdD4b0HVFvrW11EXkn9gldRSa3vCJhHJf+ZAsUMwZDdQzQmaD54hGQA1fqZ8HPGfjHVbCw16fQLyfw+6xrLttXkCfu4/3cH+tmz6bs2/HHTFfHZvga1FVMPiqlan7V9Nbem6XTztde9bll6+Gx86EvrWFa979zqrX01ae2nfle9rvQ9q0D4beGvEk93resaDZ3M9zdO3nXVvH5jp5SSGY5iHnK0xP3sMAcndjFenad8NfBNpAqQ+HdFMTMXCTadbSIr45EPmgEDnnDYHTjA2+reEl0XV9KivY9P8nKjFvMjxSRnjjyeOT7Ht2/h6KTR7TCrHD0b5NyYcewwenA69D0zytctHD4WhRgv4lS2lZpvtpstV13em+p5uIniqtdzk2ruXp1+7p3/FqPhl18MPh5cxMl34L8M3kZdN6y6PYyoP+ecg8yLr8xDTDaB64AWqyfCH4Xy7Q3gbw3GqrtXGnwoiGP8AdReT5aJ/qfYdOTn5dvvT6Nbcq8Dhhx8vP6cfoRn0XBqu/h+3bLKAxySExJ8ifxZkGenp8pHfOcLXsqNR2dFVtNXZJa/hpprr2s7WIi62t6rp+TbS/X1387rSJ5bp/wAOfh/YyCez8J6NDcbYwZxZLvbyvukGTI9Mcfn0rqItM022YiC0tYh9wCOCHOz0/dRHr145HQg8Vr3WgXNsd8VzMVI+UOD5e8juwHOMe3B6mueuZbq2KrcRsh3Z8xAZIuD1BPPfuBn3xhcnSp0rL2Xsd7aL/JNbW/ytaNwjUV7ydfTz/DWy2tbbtb4S5daNpF9FsvtLsbxCMg3FtFJ+HzwrjjIyDkZ7Y+bz+8+C3gy6nlu7e3v7GbdIzJDeyPbhZj8o8mRpIgOcKIS2BwMY+bqW1G6UMYmWXDcYMeee+M45P+yB7jASqB8X/Zm2XUEsSLJsZm/1eT6AAnv9R7Aba5K9PCVpQdalQ/dbq1rr111dr76vorMumsZTv7Kto/m1r809tO3lqjzq+/Z68L3citJd6nKAyOsMl2JI/wB31jPyA9OxHHbdiu60zwJaaJbRW1lFDDCqICrDYXMWfQAhsAEZ6njA/h1Y/GulsATNGpd9rdBsPvzkge7HHqMkVoQeJtLuWG2cEMxJ53g9sDrjP1bPQE4O3TCwy6nNzp0vZteln2dnf019b9JLEfXKihTq1K/stntpbrvbT5Xd9vijUGkSIpeJE91Q8N64PzfX298g0otJI+kTDysdOR7ecf6YyPVuNvQR3tnKUKXMRY8KpIzHj/rmM+33efQ8laF2WVWKtg7+CjRyRnj/AKZjcPbJz64/i9H3XHmg/wA9em/TXyto1o7HPClJ1FH8baWenmr+V/S5nGFGXIO1j8zblIR89Bg4JOcnHGB128GomlRF27R8rcYb1Pfr/X6DOKzLq/MTMxddm7YSpYyL79/yw3sFwKyn1ZAWIKnIAAYH5z6Y4yfr+vWnCUbr97/Vn/X/AA59Lg8tUlT5Ia+m99O+9rdr7Nu75duS7OCoZh2HP8uTnnr8vtg9aqC/eHDb1bYuOWzn1Pld+o7dz93kVzdxq0LBgGUMeBt4OPXnAHp/jgCufudWZXOx9qjfuJ568EYYceucj2zmq59OaNn0/S3nv/Wh9ThMmpzam1bfTfyfX1V+nTmulH0ldVB3BmCk524BOeOvbrwf8cYqncal5gcHkj1H6DOOAByc855I/h81OuAgAs3HyN8/QDqOh6evYdc4AZRri/wOrKcg5Y9hkdcd+OP1wRW1GvTn8dRdVt5LpzO1/V/K3Ke1Qy6NO04aNfPXv32tta3orS7dRHPLvcqxRgQD1Q+gOOmPXp/ebOFnKRBQFXk/eOMf1Pv+ZyTmvPxr6jgPuy3zZ9x0HY898D3x0a5F4gjfhXU4J+7k9PXOevsP++cfK3Gm03frt1s3fa3y2l3vqd3NKMeqe29tEtL77drLbVr7XTzyjhWUHnkZPf3wcdMZx37kZqg6kksnzAEbQvITPYZ4OMct8vqF5xWb/bMUvLyIob+7xkjpg9BnjnHbhf4aeL9N/BHB/wB4de/YAj1H581hUpxi3O69ltbu+lkrvTTq++mqjMakvt/nr9/I/wBNvNImztzuy0bNjYP4Tzz7euCcH3xTWgDj5AGAOWjyccdxj8fp+dL50T8sAZSQCwG1D1IGMH1/qccrTfM2Mw3KO4Ze/wDPHXBOD9B96s48v2r/AC9fl0/p3SNVyy+DVelvy9N+u3Qi8ksWVgF4xtb74GfUMfQf/X+Y00QMmGTgY6bSCPxJHYen59KtxzRvnzMB87ACAPMz26np+HsKlDqGyB069tvrg85/znGM1E1zX5VZ0tldu/pp+b+77USpxl+nkuy10+7y1v7tdE4wAy/L13BuuR9R39f6rajlIxHu+6OuPz4yw9uvXkZ/hj+UnI7cfh+ePy/8dwAzNyq2Pk3bsk9f07/oOMnqQ0Sh7Nwe7q6Pt6Pt2vrvfq1HklGUdY6vp0f/AKVrpruvndmlHKABkEruTgdeevf8uvoAOKmR8fe6DnP+Qfzz+BxWOJDuIzjd0/z9cfr6mpRLtAIJJZuV6fnjrn8P1JbGUeZ3v+H/ANtH8vu+1Uakl/Wv5K33v5WNPzBkHoOuc/8A2I+vX2yPvKocYGTzn2H+fpyT17kLn+ep+6CvPABP45JDdP8AOeCrWn4Yg5GN5+uep5Xp6Z4yTxxu55Jq/wC62v8Ah8v0XyOqnUjJrS/f8eny/wCGtaWkrLgkH5j5n+HA5/EHr7daYZB/Ef8A9v14/l/hWf8AaAAw4JOP4uf5ZJ55/I7c5qA3GN2GU7f9r19eef0x6nnbLqR+Ld/8Hy06v8mbcy/d2e8dVa13su1/v08i/JMF4JXqnT6Y6f8A6unHYNnXAtZA4dFdR3C53kc8Hjt1x0PHOc1QmvMBgrBl3OMt14BHXnPv06++ayZr9eqsr7lwAi+WCfruX16Z9en8TjOUIuE1r5et99en92XbTcxlHmt5eV//AG6P9dre9//U/pA3jIcElVBLA8v7AcfXPXrnIq6jRvlgWTb0Kdffv+uWx1/2az4wAcsp2rzj/E8Z6DnH5ZpY5GjkyvOP74yCPp/9fuOlfxipSjp+DVv0drLy+65+oGqs0XIJZAxLbVXfv98f/XGffGVnaaMLmPeG9NoB/wA9D1PTsOWrjYwBUKoxknkpn9Op/Ee+d1RozFtjR8DvjPHtLwRn8cY565qHO0qcba79r6+vT5bbu75Qvh1O1m4JXPzL8/0H+ePxFW45UztYZTbxIvf/ACe3fp3FZUe8udzEE5IHv6Z469OnsQM/LNvZgcDkN6/p/Dn/ADwOA1uXtPZTaWrv+lrdfVtvTre8QtHZG+7CyHd8gwTGSenTmL27fUnC2PMKnptXaeev+f8APpVOGU/dYhd3HJz+fTP5njruzUmxlIYMCQfkj48t+eMZzyf/AK2TgNSXN9m/nbr+n3/5gT8SRqwYscjJPQ4yOYuo6e54+pVQzqmGRSxYoNvKD6d2GPTB9QORTN6kEKFD9DkZwe2PXjjqvrnIqRZwm0IAsjKMlhh09ccnqS/HtjJzSSvHWpb2z23stV23te3w7+Vio7+/v8/L57f1sLE0iMSvB3cOOJB3GOMEjjPr/tdV04LxiiwsM8jGV5PXAJ4H48nrwM5rGY/M0mSHJwuD8nmenQYyD23fUY+afzVlwFITb5eSCSfXPzdOfTjv2NCl7P3Jq7Wvp/W2m3XoHu8v9759/u2LxDGTCPhixBC8qPwBzk9/u/oTS7mLNznDcr644wCO49jx05qksjoCWJlXKZI/EZz7/wDAfbHVXLIByAF9Dk9PxHOfT5ffOQFJc37r2e34erv523v5d4ii3t/Xy0/P7rF5GSQkMzpgb8jj+gOfpnHrzVyIoylUcg8/ewHeLp5g+vuPYYxWPG+8YRMSd/my4A7/AHefocfTkBrcbKpUsBvzs+Y4j565OAB9AD67hxQHu8v9759/u2LskBCnMrGNQ5zuyx7D64HoeT0yamgMqK21ww2/xDB+vfP+emcVX+0JEyhslC3zYzsz+YxjJ9j7Yys8c1vJldxTGSGVcbvUDPpzkZXOevFbR5JO8Pwd/XSy/Kz2V9SSxDPM4YOVZkbKlv3QHXHf+n587bHms6vLIDtV49oDAfvMY9/0B6ds1TEwU7WCncpHH+s9MiX8fx6naThmb1ALjJCnGfnEaexILfmT9M4+XVuLjUftLW0tulpsndWt5c1/K9gL4ut7MSo+XKfOuJHQ/jxnHqcd85NOQuWC4K5+6TjKn168c49enQAVkCZmfap74X3HQ/J2PA4x+K/xWorja20rjPAbfnbjufcAf1PQVjzSfwXXfX/7WPnt+H2g02uvLwCxZt21Y25Pr+oHt1yPRj7Sx3EK2/H+qZfXjpxjH156DFUS8bthi6uR+7YHPPbnC9Poex5wAyRy7SQVaRtpPmdlOevBG08+rDuM5Na+2iHLzaWv17f1/Xc0o5kKlWkZWX7wPEmf1/AAD+tJ5g3tgYb/AFm1mwJM/n2B7ep5rLWQPIWJO4H/AFkY9OD5pPr7j881YV43THnBCgyC/wDHxyeg4Hvnj8TWcarXT9f0h+DK5OaPr/W+tv8AwF/K946kVzEg/ehsM33fc9ug/l75H3amOoIq7FUsA3yt12E/w54xt5+XGfTFYwnMe5WAkBPDAjLdeR/PE3TgGladoVRiqtG/zpGcAx56STRnB9+vHTjIolKUdV993+n/AAPzUp5ebS1+vb+v67m59oEflssSneQXA/5aH+L5c/uj79D3HGKjMtvI7II23HIbcM49R/8Arznnpj5siW5UhXCtHuA37T8598ZOM9vpgZOSz4JckO/3Q5+VuMf9dQSSB05wPUZqfb80eSy1VvP79dtv8rtlQox+PXXT+tr/ADflpa5oho04BcYXGFJKfnx+vT3yTTlNuAVKvukbhjxGg9c8HOeAT+uc1DK5f50jARM46Jvx2HYjjIHOc4yeTUsISWNVQBWf5trAr9T/AIgY6c9ctpH/AJd+zv026rVXev8Ahbt16bokSVYU3F98QLR7WUeZnpj6Z9uv4Gq7mNgSQPKU9fvyHH/fQ69c+nU9VknBI2qFZ+jFjiPP6YwPQ/QnrUWxVGW2Rt93b19vMz1P1OMDuOQ1a/F/XbZ/11ARfLdcMiurA7BFmP6A+h7cnscbsk1Ue2tWG1oUkRjvXMaeYrfqWI7cAnJyeRU+6MZRdu4fvFG4iNhz1x6deT9MVCTt+8212OQww5jHpjv9SP8AgP8ADWcatu/3p/8Atsf67W965K6tq6t/uv56vp8/JO5lXWh6bdxlTbRqzSeWQY/3ufSWN8Y/Dd+GAa5W88CWk3mCOGB1U7dyLsdRnoeo7YHPfHy8bfQwkT8SMWzyZVYknHdzxz7H9etTJsWTyzI3QuVH3/LP/wBf3bH4ZqlL2nxPru9bW2/l79vW9nzK0YpcjvvdNbel2/z+48Pvvh9bxRyN5bpu+UPGSNjDtwF7f5G3NcVqPgDT7uKW11CKz1CzlGyS01Gyt7tHTvHIs6GOWHjOZYQSRgdCK+qGSIrsYRmLfysndT16fhycemRyGgk0bTpiryW6lvTb8j+nqRg5P8iBk1tFVKckqVadHTu1ZrqtXZvXbTo0tHFScXf2tG9NL1bfbbr6vyStzH5p+Pv2Df2VvilHKPG/wZ8DanPIJHW6g0Cy066WTOBNDd2MUMvnAN8pwO4543fFfiH/AIImfsrahfzS6Ba65o2nzTPJ/ZcWpTSW8EnXzIPtLSiEZ5G3GOowSTX733PhrTXVjFEU2NvK7shx3AzgnGOAAc+uax38PWr7vs8zxyAZEUmOAc5GMHrjHb2NdlPM80o3hHG15U7W19757d7/AC662I9hhpWUKfsV2d9rfn9729I/hXoX/BJ3wF8PNRj1DwrqFzqAWaOS4i1kvJeXEcR5Iuoj+8PlqsXI/wBT1xn5v0q+G/w/TwhoFro6WcVvbW0SQpaiNHjTywP3glO0nkEHj6k4219LT+HbglSCHIaRA3HfoRgA5I44K479Koy6DexhSR8rfd3dM9x26k//AFjgiuCvKviJ+1xFT2tu7v5LdK9tlv5s64zXJCPtGrN9LX6LvZ30t1e1r2OJhsIoQyw26x5xI3ljDPIPSToMe3Xr3rSiUBgjq5dm3klgSY+ntjkdfmP061qnTLqMsSqyYZ8YJ/1mOvk9TkD26fi1d4HQZVHUjjBRpPyOPbPAB9cZFcU8Ol8WqXRdL/dfp6ed7m6qbx1vrq9fl/w6+6xGsUYUgnb83zkscKeoBLZzkcnyT7c8GmsoDEoQ21fvY8sSeZ/yyA4IlBHXHPXAxmmSzMAVCuy9M7cID/8AW/D9cNLEizlfMVcqybRu2bj2IkOOO3GeevXFRGM6Mrw/hX1/L1+5aeZXNGT9+nda/aj29Hf71+JEXWHd50b7GOMgIY/b1xx3wDxgBuaz7mwtLpd0lvG+/wCXY2MeYOnG3gHvjpjGTkFepXT49gfLA7sbQd4BPeTgjIPAOD3Ixzt0F0iGVMFJC+OCkf7r/tqRt6YGcjj3wQ3TGDrK1RX+fn8+yWqfy3jhKooxTg/Tf7u70ut9Olzy+XwVo11nfBsk2nc8YRAORgCTp1PY5HTjJqnJ8LllP+h3byKVDrHNiQcdm8wL/wChZJ44yGb1SbRp40VV4Tdv+79/GR+C5HXdz74wxG9xZ/ddWT7zK3CJ9Ze2dvbOf1VxwEHtT9rSeje342V7PpaK/wAVyfrsqcdtLduq0Xe6fXTTz+186ar8KnTzmutJ84bsNJbRyI6ZPXCADGB2JPU8VxjeANFjYeXdXtjJkqIJ3m8sP0HlElce2Rz1BOPm+xI9aALpcQqVPybXIaPPc8evU/8A1jVDUdP8Naskgmt0hnK42p5XHfzPx4HbGe+MUpZRhObb2b2ael387237+epX9qVUra23d+z8tPXbr0PlqLwZJboPs9/I2ODIGGXPfnpxyOnr1zWdqFtqel5LXkjNz88YB7dZeMcke/B6jq3smueB5rRHn0a7cb/M2LHJvjyf+esRXPXg+Vj8cAr47rk+v2O77dbidUGzei+X+75IGMnoRx93Ge/IqKuD9hGpy3ttqtPl2v6vyvY9TAV41p0+e/V+7577+Xp9+suHvtfu4PME0aSIBkmTCM/T12nIz1H0OMb24++8SQ4Y5aBhnKZzGMn1yQeD/h0yxr+tWchl3maJlXARgDhycy9VPXJ789wcfN4X4i8RxWjuyyhVLP3fkHPPYHH0PGfT5/FxGIlSl/wNb/fb7l9/2f0zJsJDEeyUIO3m033v9nVNeW91faPpzeJDuO8q+DndzjjoRz0GOxI4781BN4k3Z+fOWU8EkA+nUds8j8MY3V4YPFiEfLKoBI+VpOR/0z4GeueP55LVUn8TAMMy85+6M5BJ9cZx2/ix37iudY2Xn+926ed7W66vZ93ulH6aphZU3ThCmtVvp/kr/d92rPabnXYy21W2/NvI6A8cd8ckc9h/tZwua3iLa2BJtG7BG/GBknI5wAM+gxwSScLXiVz4lkGcyFhnAGDs/wDZj+nPfdztzZvE5I5cspYBgx4B9BnsOe34rxuzniKkvehvf/Lp71+610+d46Uqco2U79utt7+aTflve+mx9GRa8H27pCcqVwQB/wACHzYIz7HPfGSKfHrQGfKk2hWO7njHY88HB9x+H8XzvD4nDMMTbmA+Vc4wPVcnoOg69fvdl1k8TOxWJ5GBVuqjAYehmx34z1zxkDA3dUMRW5acZfxfLr1XVdv+GveOlWnF3k/yT/y66fOz5rXl9Bw+IFOxWlCnMfy8DODx/ewBwTk9znd/DtR66AF3Sgpu4UNtPuM85/EcdORjd86x62X34ODmIhVz8h44IOST+K+hBwK17XXZE2bpdwY9Gwg547HB7dRj6HG7eOMlKNowdq2+zt6Xml17fccFako6+y27vW3Rbu9tP5t91qj6Gh1cuAysMZ4G8Z+uPwA7+/UhdCLWFc4Zt2flAwOBz37c/UnoeBhfBrfW+6yHBPTee3fOOMfQ8568VuQa8c7RKwyvy8gg4xnjHv69u3O7odRL/h/05Vt/wdNjCMkrt+l7pafNeXfXyt73tf8AaCE5yvIIDHrnpxwP0HOe2AatJqIAVS4bP3XU88+/HOOefpzgmvKIdfUhA8i5wdu3B2fXp/P6dSVuLrWBuBLhjnd0x9QAR3z/AEPNac6l73R/poXzx7/gemSajCGOZUV2y3zOg4HJYgsPlA6nAAHrg7kN8gDK0iBuGILqMKehKk5VSc4Y4HHAOCV5mL4m65pkGh6XocuoW1rZ287ajJaWvhB7e41nVfij8O9QXU/N1uzu9Tln8P8Aw50LxraWpQwWkNz4gRLKz1DUJkuNKvxfFvVLVfCS2XhmeGy0vUvFGsajbz2HhK6bzVuPibd6GDf3PiWSK/13WP7e8A6bc6dL4bGkabY+H7lp/Fs1tZ2em3Hv0Moy2vQp1J57gcPXnSVSVGrGSnBu37tWlrJXtryPmWi1Sl85jM6xlDFVaMcjxtaMKrpxq0pwcKkU5fvFHkTjF6falprpY0m1CE5IkhIADOVlUKAfusxDYCkA4JwOwPdgaigZR5saszBlUMNzRk4+VT8zAHjcuc/UZXB0b4o+J4Htm1xdU1i7sbaSOy1iew8FTvY36fA3wZ4cuvESafpdz4TfVtW1L4tW/irxDDFdanpJFvKt8l/oKx6Tp0Fi4+KVpB4a02+1e6e11rV/El/JN8L9KstG83VrXU/jr4R16C+8QS2NrrVzDPbfC2wvfDl4un+Kr7wroOkvry32r3731ml3dPhvLq/N7HiDL5OKnJxs4SjCnDmlNpzcbLVu0rpK8VNtRPOrZ7jKMV7XI8fT5nCPMmpR55z5Ywi0uZuS2bUUndPRcxqLqkJCt58ILSFVPmJhjnGASSCQeMA8Hg5PFNl1ONd5aeNPLL7hvUAZHy+YcjbxyNwXOcjGBuyx8ZNal8VpqMthqkGgT+M/DcmtR22j+B7K/wBb8F6DoHxNn1mwFtPr/isWkWu654i8E6JZJaaxpd5e6b4cMt5F4X0tVtLjndV+Lfir+xLSy8PabcaLqum/CbVtE0y/g03wfNJpPjvVfA/hfwxb3dhqGpa5q66p9h8TweJfHN/ql/4U0aC1vLi1MNr4qvJm28M8jyvlrx/1py2U4Xe09VzqCVNXXNLlfM02krfE03OG8M8xrcOXh7MFKa/nh7nuOXv+7dLmSjdRlvd8tuSfYjUFkE2xt/2eGW5m8vD/AGe2gXzJri4IB8i3hjw808uyKJMM5UEFs+TVYhvPmRYT5ZCJAPnHVWJztYd0YbhzkDpWP4l+J/naVqfhvw//AMJ9p+lD4beNfBkGqRHwZc6xcT6z4d8A2+kyW99e+I4nvLg+INC8SXs+o6jZ+HnEuuSandjU9VtvtV7meJvizrc58SQeF4PFFi2oaR4l0zS9Z1GD4d2Nx4Uh8V+LPADaL4X8EppKXwi0H4d+CtD8ZQf8Jh4htj4q1HWNdtriw0y9vJ9Rvl56uQZVGlGouJcBKThGcly3tFxhJRS9rzOouZwcOW3OtZxipuO1PPMfOcovJMdGPO4QfNq2pTTlKTptKDUVOMk/hdrc3LGXQy6kgITzUUkfcLrubvgKcMeOeAfqc/LkyahI0M9xEGkgtmVJ5E+e2gkuZTBbG4lUNHDJczjyLZZHV55g0UCySKyVhzfEmSwsI/Dmk2fiO88L6d4W8baZJZahD4Osz4q8T6t47+GFx4U13Vr6SbWPEVta6L4S8O+OYkKa5A0EPiHzrnR9Y1y7ht9Fs+N/jBd+KLf4gaTa2mt6Ro+r6j8P30IaVpnhTRZ72Dw1468W69eafqsQ8X6+bXw1ZeGNa0Lw3BqllcWmt3EOm6rBY+DtPt5rKV8KOVZbVwk69fiPA06kKPP9VSTrSqypOUKUH7V05Lm5ISk5wjzOWiUeae9XOsdHERoU8lxU4Sqcv1hy/dKmqkIurJciqJcvPJRUW/dV73cY/wD/2Q==)\n",
        "\n",
        "The good news is you basically know the score you already got because of the autograder. In fact, since for the first time the autograder is integrated into Gradescope, you should be able to see your autograder score automatically! Beware since we'll check for plagirism, so make sure to cite your sources (if any) using simple urls / links.\n",
        "\n",
        "Before you submit on Gradescope (you must submit your notebook to receive credit):\n",
        "\n",
        "\n",
        "1.   Restart and Run-All to make sure there's nothing wrong with your notebook\n",
        "2.   **Double check that you have the correct PennID (all numbers) in the autograder**. \n",
        "3. Make sure you've run all the PennGrader cells\n",
        "4. Go to the \"File\" tab at the top left, and click \"Download .ipynb\" + \"Download .py\" and upload both the Python file and ipnyb notebook to Gradescope directly, just like HW0, naming the files \"homework1\"!\n",
        "\n",
        "**Let the course staff know ASAP if you have any issues submitting, but otherwise best of luck! Congrats on finishing the first HW.**"
      ],
      "metadata": {
        "id": "sm80Qhz0h_jn"
      }
    }
  ]
}