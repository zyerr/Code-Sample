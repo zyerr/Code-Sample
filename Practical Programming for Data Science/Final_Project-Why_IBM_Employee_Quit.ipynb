{
  "nbformat": 4,
  "nbformat_minor": 0,
  "metadata": {
    "colab": {
      "name": "Final Project _ Why IBM Employee Quit.ipynb",
      "provenance": [],
      "collapsed_sections": []
    },
    "kernelspec": {
      "name": "python3",
      "display_name": "Python 3"
    },
    "language_info": {
      "name": "python"
    }
  },
  "cells": [
    {
      "cell_type": "code",
      "source": [
        "import pandas as pd\n",
        "import numpy as np\n",
        "!pip install -U -q PyDrive\n",
        "from pydrive.auth import GoogleAuth\n",
        "from pydrive.drive import GoogleDrive\n",
        "from google.colab import auth\n",
        "from oauth2client.client import GoogleCredentials\n",
        "# Authenticate and create the PyDrive client.\n",
        "auth.authenticate_user()\n",
        "gauth = GoogleAuth()\n",
        "gauth.credentials = GoogleCredentials.get_application_default()\n",
        "drive = GoogleDrive(gauth)"
      ],
      "metadata": {
        "id": "SMZk1X-mIK77"
      },
      "execution_count": null,
      "outputs": []
    },
    {
      "cell_type": "code",
      "metadata": {
        "colab": {
          "base_uri": "https://localhost:8080/",
          "height": 574
        },
        "id": "SCJGyNIHZIO6",
        "outputId": "70f6df30-a414-481c-fce9-b09358c3d542"
      },
      "source": [
        "\n",
        "link = 'https://drive.google.com/open?id=1c3QoGr_PuZ7YHWyslYYGYzpOMGRbNSPY'\n",
        "fluff, id = link.split('=')\n",
        "print (id)\n",
        "downloaded = drive.CreateFile({'id':id}) \n",
        "downloaded.GetContentFile('HR-Employee-Attrition.csv')  \n",
        "employee = pd.read_csv('HR-Employee-Attrition.csv')\n",
        "employee.head(10)"
      ],
      "execution_count": null,
      "outputs": [
        {
          "output_type": "stream",
          "name": "stdout",
          "text": [
            "1c3QoGr_PuZ7YHWyslYYGYzpOMGRbNSPY\n"
          ]
        },
        {
          "output_type": "execute_result",
          "data": {
            "text/html": [
              "<div>\n",
              "<style scoped>\n",
              "    .dataframe tbody tr th:only-of-type {\n",
              "        vertical-align: middle;\n",
              "    }\n",
              "\n",
              "    .dataframe tbody tr th {\n",
              "        vertical-align: top;\n",
              "    }\n",
              "\n",
              "    .dataframe thead th {\n",
              "        text-align: right;\n",
              "    }\n",
              "</style>\n",
              "<table border=\"1\" class=\"dataframe\">\n",
              "  <thead>\n",
              "    <tr style=\"text-align: right;\">\n",
              "      <th></th>\n",
              "      <th>Age</th>\n",
              "      <th>Attrition</th>\n",
              "      <th>BusinessTravel</th>\n",
              "      <th>DailyRate</th>\n",
              "      <th>Department</th>\n",
              "      <th>DistanceFromHome</th>\n",
              "      <th>Education</th>\n",
              "      <th>EducationField</th>\n",
              "      <th>EmployeeCount</th>\n",
              "      <th>EmployeeNumber</th>\n",
              "      <th>EnvironmentSatisfaction</th>\n",
              "      <th>Gender</th>\n",
              "      <th>HourlyRate</th>\n",
              "      <th>JobInvolvement</th>\n",
              "      <th>JobLevel</th>\n",
              "      <th>JobRole</th>\n",
              "      <th>JobSatisfaction</th>\n",
              "      <th>MaritalStatus</th>\n",
              "      <th>MonthlyIncome</th>\n",
              "      <th>MonthlyRate</th>\n",
              "      <th>NumCompaniesWorked</th>\n",
              "      <th>Over18</th>\n",
              "      <th>OverTime</th>\n",
              "      <th>PercentSalaryHike</th>\n",
              "      <th>PerformanceRating</th>\n",
              "      <th>RelationshipSatisfaction</th>\n",
              "      <th>StandardHours</th>\n",
              "      <th>StockOptionLevel</th>\n",
              "      <th>TotalWorkingYears</th>\n",
              "      <th>TrainingTimesLastYear</th>\n",
              "      <th>WorkLifeBalance</th>\n",
              "      <th>YearsAtCompany</th>\n",
              "      <th>YearsInCurrentRole</th>\n",
              "      <th>YearsSinceLastPromotion</th>\n",
              "      <th>YearsWithCurrManager</th>\n",
              "    </tr>\n",
              "  </thead>\n",
              "  <tbody>\n",
              "    <tr>\n",
              "      <th>0</th>\n",
              "      <td>41</td>\n",
              "      <td>Yes</td>\n",
              "      <td>Travel_Rarely</td>\n",
              "      <td>1102</td>\n",
              "      <td>Sales</td>\n",
              "      <td>1</td>\n",
              "      <td>2</td>\n",
              "      <td>Life Sciences</td>\n",
              "      <td>1</td>\n",
              "      <td>1</td>\n",
              "      <td>2</td>\n",
              "      <td>Female</td>\n",
              "      <td>94</td>\n",
              "      <td>3</td>\n",
              "      <td>2</td>\n",
              "      <td>Sales Executive</td>\n",
              "      <td>4</td>\n",
              "      <td>Single</td>\n",
              "      <td>5993</td>\n",
              "      <td>19479</td>\n",
              "      <td>8</td>\n",
              "      <td>Y</td>\n",
              "      <td>Yes</td>\n",
              "      <td>11</td>\n",
              "      <td>3</td>\n",
              "      <td>1</td>\n",
              "      <td>80</td>\n",
              "      <td>0</td>\n",
              "      <td>8</td>\n",
              "      <td>0</td>\n",
              "      <td>1</td>\n",
              "      <td>6</td>\n",
              "      <td>4</td>\n",
              "      <td>0</td>\n",
              "      <td>5</td>\n",
              "    </tr>\n",
              "    <tr>\n",
              "      <th>1</th>\n",
              "      <td>49</td>\n",
              "      <td>No</td>\n",
              "      <td>Travel_Frequently</td>\n",
              "      <td>279</td>\n",
              "      <td>Research &amp; Development</td>\n",
              "      <td>8</td>\n",
              "      <td>1</td>\n",
              "      <td>Life Sciences</td>\n",
              "      <td>1</td>\n",
              "      <td>2</td>\n",
              "      <td>3</td>\n",
              "      <td>Male</td>\n",
              "      <td>61</td>\n",
              "      <td>2</td>\n",
              "      <td>2</td>\n",
              "      <td>Research Scientist</td>\n",
              "      <td>2</td>\n",
              "      <td>Married</td>\n",
              "      <td>5130</td>\n",
              "      <td>24907</td>\n",
              "      <td>1</td>\n",
              "      <td>Y</td>\n",
              "      <td>No</td>\n",
              "      <td>23</td>\n",
              "      <td>4</td>\n",
              "      <td>4</td>\n",
              "      <td>80</td>\n",
              "      <td>1</td>\n",
              "      <td>10</td>\n",
              "      <td>3</td>\n",
              "      <td>3</td>\n",
              "      <td>10</td>\n",
              "      <td>7</td>\n",
              "      <td>1</td>\n",
              "      <td>7</td>\n",
              "    </tr>\n",
              "    <tr>\n",
              "      <th>2</th>\n",
              "      <td>37</td>\n",
              "      <td>Yes</td>\n",
              "      <td>Travel_Rarely</td>\n",
              "      <td>1373</td>\n",
              "      <td>Research &amp; Development</td>\n",
              "      <td>2</td>\n",
              "      <td>2</td>\n",
              "      <td>Other</td>\n",
              "      <td>1</td>\n",
              "      <td>4</td>\n",
              "      <td>4</td>\n",
              "      <td>Male</td>\n",
              "      <td>92</td>\n",
              "      <td>2</td>\n",
              "      <td>1</td>\n",
              "      <td>Laboratory Technician</td>\n",
              "      <td>3</td>\n",
              "      <td>Single</td>\n",
              "      <td>2090</td>\n",
              "      <td>2396</td>\n",
              "      <td>6</td>\n",
              "      <td>Y</td>\n",
              "      <td>Yes</td>\n",
              "      <td>15</td>\n",
              "      <td>3</td>\n",
              "      <td>2</td>\n",
              "      <td>80</td>\n",
              "      <td>0</td>\n",
              "      <td>7</td>\n",
              "      <td>3</td>\n",
              "      <td>3</td>\n",
              "      <td>0</td>\n",
              "      <td>0</td>\n",
              "      <td>0</td>\n",
              "      <td>0</td>\n",
              "    </tr>\n",
              "    <tr>\n",
              "      <th>3</th>\n",
              "      <td>33</td>\n",
              "      <td>No</td>\n",
              "      <td>Travel_Frequently</td>\n",
              "      <td>1392</td>\n",
              "      <td>Research &amp; Development</td>\n",
              "      <td>3</td>\n",
              "      <td>4</td>\n",
              "      <td>Life Sciences</td>\n",
              "      <td>1</td>\n",
              "      <td>5</td>\n",
              "      <td>4</td>\n",
              "      <td>Female</td>\n",
              "      <td>56</td>\n",
              "      <td>3</td>\n",
              "      <td>1</td>\n",
              "      <td>Research Scientist</td>\n",
              "      <td>3</td>\n",
              "      <td>Married</td>\n",
              "      <td>2909</td>\n",
              "      <td>23159</td>\n",
              "      <td>1</td>\n",
              "      <td>Y</td>\n",
              "      <td>Yes</td>\n",
              "      <td>11</td>\n",
              "      <td>3</td>\n",
              "      <td>3</td>\n",
              "      <td>80</td>\n",
              "      <td>0</td>\n",
              "      <td>8</td>\n",
              "      <td>3</td>\n",
              "      <td>3</td>\n",
              "      <td>8</td>\n",
              "      <td>7</td>\n",
              "      <td>3</td>\n",
              "      <td>0</td>\n",
              "    </tr>\n",
              "    <tr>\n",
              "      <th>4</th>\n",
              "      <td>27</td>\n",
              "      <td>No</td>\n",
              "      <td>Travel_Rarely</td>\n",
              "      <td>591</td>\n",
              "      <td>Research &amp; Development</td>\n",
              "      <td>2</td>\n",
              "      <td>1</td>\n",
              "      <td>Medical</td>\n",
              "      <td>1</td>\n",
              "      <td>7</td>\n",
              "      <td>1</td>\n",
              "      <td>Male</td>\n",
              "      <td>40</td>\n",
              "      <td>3</td>\n",
              "      <td>1</td>\n",
              "      <td>Laboratory Technician</td>\n",
              "      <td>2</td>\n",
              "      <td>Married</td>\n",
              "      <td>3468</td>\n",
              "      <td>16632</td>\n",
              "      <td>9</td>\n",
              "      <td>Y</td>\n",
              "      <td>No</td>\n",
              "      <td>12</td>\n",
              "      <td>3</td>\n",
              "      <td>4</td>\n",
              "      <td>80</td>\n",
              "      <td>1</td>\n",
              "      <td>6</td>\n",
              "      <td>3</td>\n",
              "      <td>3</td>\n",
              "      <td>2</td>\n",
              "      <td>2</td>\n",
              "      <td>2</td>\n",
              "      <td>2</td>\n",
              "    </tr>\n",
              "    <tr>\n",
              "      <th>5</th>\n",
              "      <td>32</td>\n",
              "      <td>No</td>\n",
              "      <td>Travel_Frequently</td>\n",
              "      <td>1005</td>\n",
              "      <td>Research &amp; Development</td>\n",
              "      <td>2</td>\n",
              "      <td>2</td>\n",
              "      <td>Life Sciences</td>\n",
              "      <td>1</td>\n",
              "      <td>8</td>\n",
              "      <td>4</td>\n",
              "      <td>Male</td>\n",
              "      <td>79</td>\n",
              "      <td>3</td>\n",
              "      <td>1</td>\n",
              "      <td>Laboratory Technician</td>\n",
              "      <td>4</td>\n",
              "      <td>Single</td>\n",
              "      <td>3068</td>\n",
              "      <td>11864</td>\n",
              "      <td>0</td>\n",
              "      <td>Y</td>\n",
              "      <td>No</td>\n",
              "      <td>13</td>\n",
              "      <td>3</td>\n",
              "      <td>3</td>\n",
              "      <td>80</td>\n",
              "      <td>0</td>\n",
              "      <td>8</td>\n",
              "      <td>2</td>\n",
              "      <td>2</td>\n",
              "      <td>7</td>\n",
              "      <td>7</td>\n",
              "      <td>3</td>\n",
              "      <td>6</td>\n",
              "    </tr>\n",
              "    <tr>\n",
              "      <th>6</th>\n",
              "      <td>59</td>\n",
              "      <td>No</td>\n",
              "      <td>Travel_Rarely</td>\n",
              "      <td>1324</td>\n",
              "      <td>Research &amp; Development</td>\n",
              "      <td>3</td>\n",
              "      <td>3</td>\n",
              "      <td>Medical</td>\n",
              "      <td>1</td>\n",
              "      <td>10</td>\n",
              "      <td>3</td>\n",
              "      <td>Female</td>\n",
              "      <td>81</td>\n",
              "      <td>4</td>\n",
              "      <td>1</td>\n",
              "      <td>Laboratory Technician</td>\n",
              "      <td>1</td>\n",
              "      <td>Married</td>\n",
              "      <td>2670</td>\n",
              "      <td>9964</td>\n",
              "      <td>4</td>\n",
              "      <td>Y</td>\n",
              "      <td>Yes</td>\n",
              "      <td>20</td>\n",
              "      <td>4</td>\n",
              "      <td>1</td>\n",
              "      <td>80</td>\n",
              "      <td>3</td>\n",
              "      <td>12</td>\n",
              "      <td>3</td>\n",
              "      <td>2</td>\n",
              "      <td>1</td>\n",
              "      <td>0</td>\n",
              "      <td>0</td>\n",
              "      <td>0</td>\n",
              "    </tr>\n",
              "    <tr>\n",
              "      <th>7</th>\n",
              "      <td>30</td>\n",
              "      <td>No</td>\n",
              "      <td>Travel_Rarely</td>\n",
              "      <td>1358</td>\n",
              "      <td>Research &amp; Development</td>\n",
              "      <td>24</td>\n",
              "      <td>1</td>\n",
              "      <td>Life Sciences</td>\n",
              "      <td>1</td>\n",
              "      <td>11</td>\n",
              "      <td>4</td>\n",
              "      <td>Male</td>\n",
              "      <td>67</td>\n",
              "      <td>3</td>\n",
              "      <td>1</td>\n",
              "      <td>Laboratory Technician</td>\n",
              "      <td>3</td>\n",
              "      <td>Divorced</td>\n",
              "      <td>2693</td>\n",
              "      <td>13335</td>\n",
              "      <td>1</td>\n",
              "      <td>Y</td>\n",
              "      <td>No</td>\n",
              "      <td>22</td>\n",
              "      <td>4</td>\n",
              "      <td>2</td>\n",
              "      <td>80</td>\n",
              "      <td>1</td>\n",
              "      <td>1</td>\n",
              "      <td>2</td>\n",
              "      <td>3</td>\n",
              "      <td>1</td>\n",
              "      <td>0</td>\n",
              "      <td>0</td>\n",
              "      <td>0</td>\n",
              "    </tr>\n",
              "    <tr>\n",
              "      <th>8</th>\n",
              "      <td>38</td>\n",
              "      <td>No</td>\n",
              "      <td>Travel_Frequently</td>\n",
              "      <td>216</td>\n",
              "      <td>Research &amp; Development</td>\n",
              "      <td>23</td>\n",
              "      <td>3</td>\n",
              "      <td>Life Sciences</td>\n",
              "      <td>1</td>\n",
              "      <td>12</td>\n",
              "      <td>4</td>\n",
              "      <td>Male</td>\n",
              "      <td>44</td>\n",
              "      <td>2</td>\n",
              "      <td>3</td>\n",
              "      <td>Manufacturing Director</td>\n",
              "      <td>3</td>\n",
              "      <td>Single</td>\n",
              "      <td>9526</td>\n",
              "      <td>8787</td>\n",
              "      <td>0</td>\n",
              "      <td>Y</td>\n",
              "      <td>No</td>\n",
              "      <td>21</td>\n",
              "      <td>4</td>\n",
              "      <td>2</td>\n",
              "      <td>80</td>\n",
              "      <td>0</td>\n",
              "      <td>10</td>\n",
              "      <td>2</td>\n",
              "      <td>3</td>\n",
              "      <td>9</td>\n",
              "      <td>7</td>\n",
              "      <td>1</td>\n",
              "      <td>8</td>\n",
              "    </tr>\n",
              "    <tr>\n",
              "      <th>9</th>\n",
              "      <td>36</td>\n",
              "      <td>No</td>\n",
              "      <td>Travel_Rarely</td>\n",
              "      <td>1299</td>\n",
              "      <td>Research &amp; Development</td>\n",
              "      <td>27</td>\n",
              "      <td>3</td>\n",
              "      <td>Medical</td>\n",
              "      <td>1</td>\n",
              "      <td>13</td>\n",
              "      <td>3</td>\n",
              "      <td>Male</td>\n",
              "      <td>94</td>\n",
              "      <td>3</td>\n",
              "      <td>2</td>\n",
              "      <td>Healthcare Representative</td>\n",
              "      <td>3</td>\n",
              "      <td>Married</td>\n",
              "      <td>5237</td>\n",
              "      <td>16577</td>\n",
              "      <td>6</td>\n",
              "      <td>Y</td>\n",
              "      <td>No</td>\n",
              "      <td>13</td>\n",
              "      <td>3</td>\n",
              "      <td>2</td>\n",
              "      <td>80</td>\n",
              "      <td>2</td>\n",
              "      <td>17</td>\n",
              "      <td>3</td>\n",
              "      <td>2</td>\n",
              "      <td>7</td>\n",
              "      <td>7</td>\n",
              "      <td>7</td>\n",
              "      <td>7</td>\n",
              "    </tr>\n",
              "  </tbody>\n",
              "</table>\n",
              "</div>"
            ],
            "text/plain": [
              "   Age Attrition  ... YearsSinceLastPromotion  YearsWithCurrManager\n",
              "0   41       Yes  ...                       0                     5\n",
              "1   49        No  ...                       1                     7\n",
              "2   37       Yes  ...                       0                     0\n",
              "3   33        No  ...                       3                     0\n",
              "4   27        No  ...                       2                     2\n",
              "5   32        No  ...                       3                     6\n",
              "6   59        No  ...                       0                     0\n",
              "7   30        No  ...                       0                     0\n",
              "8   38        No  ...                       1                     8\n",
              "9   36        No  ...                       7                     7\n",
              "\n",
              "[10 rows x 35 columns]"
            ]
          },
          "metadata": {},
          "execution_count": 2
        }
      ]
    },
    {
      "cell_type": "markdown",
      "source": [
        "# Explorative Data Analysis\n",
        "\n"
      ],
      "metadata": {
        "id": "X3dM4NMUcDDE"
      }
    },
    {
      "cell_type": "markdown",
      "source": [
        "### Data Preprocessing and Summary Statistics"
      ],
      "metadata": {
        "id": "qnMlCKa1p893"
      }
    },
    {
      "cell_type": "code",
      "source": [
        "# check missing values\n",
        "employee.isna().sum()"
      ],
      "metadata": {
        "id": "UOjl2juOEeyO",
        "colab": {
          "base_uri": "https://localhost:8080/"
        },
        "outputId": "3ae6789a-c42e-43b1-dac0-66d05bbf4e52"
      },
      "execution_count": null,
      "outputs": [
        {
          "output_type": "execute_result",
          "data": {
            "text/plain": [
              "Age                         0\n",
              "Attrition                   0\n",
              "BusinessTravel              0\n",
              "DailyRate                   0\n",
              "Department                  0\n",
              "DistanceFromHome            0\n",
              "Education                   0\n",
              "EducationField              0\n",
              "EmployeeCount               0\n",
              "EmployeeNumber              0\n",
              "EnvironmentSatisfaction     0\n",
              "Gender                      0\n",
              "HourlyRate                  0\n",
              "JobInvolvement              0\n",
              "JobLevel                    0\n",
              "JobRole                     0\n",
              "JobSatisfaction             0\n",
              "MaritalStatus               0\n",
              "MonthlyIncome               0\n",
              "MonthlyRate                 0\n",
              "NumCompaniesWorked          0\n",
              "Over18                      0\n",
              "OverTime                    0\n",
              "PercentSalaryHike           0\n",
              "PerformanceRating           0\n",
              "RelationshipSatisfaction    0\n",
              "StandardHours               0\n",
              "StockOptionLevel            0\n",
              "TotalWorkingYears           0\n",
              "TrainingTimesLastYear       0\n",
              "WorkLifeBalance             0\n",
              "YearsAtCompany              0\n",
              "YearsInCurrentRole          0\n",
              "YearsSinceLastPromotion     0\n",
              "YearsWithCurrManager        0\n",
              "dtype: int64"
            ]
          },
          "metadata": {},
          "execution_count": 3
        }
      ]
    },
    {
      "cell_type": "code",
      "source": [
        "# sample size\n",
        "len(employee)"
      ],
      "metadata": {
        "colab": {
          "base_uri": "https://localhost:8080/"
        },
        "id": "Geol6oukwIVf",
        "outputId": "e2984692-18ec-4461-acb7-32cde5c4de22"
      },
      "execution_count": null,
      "outputs": [
        {
          "output_type": "execute_result",
          "data": {
            "text/plain": [
              "1470"
            ]
          },
          "metadata": {},
          "execution_count": 4
        }
      ]
    },
    {
      "cell_type": "code",
      "source": [
        "employee.shape ## Get the shape of the dataframe"
      ],
      "metadata": {
        "colab": {
          "base_uri": "https://localhost:8080/"
        },
        "id": "CwnIrBWS0BGb",
        "outputId": "27a2a172-990e-428d-b595-d4e22ad52f01"
      },
      "execution_count": null,
      "outputs": [
        {
          "output_type": "execute_result",
          "data": {
            "text/plain": [
              "(1470, 35)"
            ]
          },
          "metadata": {},
          "execution_count": 5
        }
      ]
    },
    {
      "cell_type": "code",
      "metadata": {
        "id": "123UleDbJj5L",
        "colab": {
          "base_uri": "https://localhost:8080/",
          "height": 202
        },
        "outputId": "51cb78a8-b5b0-4176-b8d1-08eab7224852"
      },
      "source": [
        "# summary statistics of continious variables\n",
        "employee_sum = employee.agg(\n",
        "    {\n",
        "        \"Age\": [\"min\", \"max\", \"mean\",\"median\", \"std\"],\n",
        "        \"DailyRate\": [\"min\", \"max\", \"mean\",\"median\", \"std\"],\n",
        "        \"NumCompaniesWorked\": [\"min\", \"max\", \"mean\",\"median\", \"std\"],\n",
        "        \"YearsAtCompany\" : [\"min\", \"max\", \"mean\",\"median\", \"std\"],\n",
        "        \"PercentSalaryHike\" : [\"min\", \"max\", \"mean\",\"median\", \"std\"],\n",
        "        \"YearsSinceLastPromotion\" : [\"min\", \"max\", \"mean\",\"median\", \"std\"],\n",
        "        \"YearsWithCurrManager\" :[\"min\", \"max\", \"mean\",\"median\", \"std\"],\n",
        "        \"MonthlyIncome\" : [\"min\", \"max\", \"mean\",\"median\", \"std\"],\n",
        "        \"DistanceFromHome\" : [\"min\", \"max\", \"mean\",\"median\", \"std\"]\n",
        "    }\n",
        ")\n",
        "employee_sum.to_csv(\"employee_sum.csv\")\n",
        "from google.colab import files\n",
        "files.download('employee_sum.csv')\n",
        "employee_sum"
      ],
      "execution_count": null,
      "outputs": [
        {
          "output_type": "display_data",
          "data": {
            "application/javascript": [
              "\n",
              "    async function download(id, filename, size) {\n",
              "      if (!google.colab.kernel.accessAllowed) {\n",
              "        return;\n",
              "      }\n",
              "      const div = document.createElement('div');\n",
              "      const label = document.createElement('label');\n",
              "      label.textContent = `Downloading \"${filename}\": `;\n",
              "      div.appendChild(label);\n",
              "      const progress = document.createElement('progress');\n",
              "      progress.max = size;\n",
              "      div.appendChild(progress);\n",
              "      document.body.appendChild(div);\n",
              "\n",
              "      const buffers = [];\n",
              "      let downloaded = 0;\n",
              "\n",
              "      const channel = await google.colab.kernel.comms.open(id);\n",
              "      // Send a message to notify the kernel that we're ready.\n",
              "      channel.send({})\n",
              "\n",
              "      for await (const message of channel.messages) {\n",
              "        // Send a message to notify the kernel that we're ready.\n",
              "        channel.send({})\n",
              "        if (message.buffers) {\n",
              "          for (const buffer of message.buffers) {\n",
              "            buffers.push(buffer);\n",
              "            downloaded += buffer.byteLength;\n",
              "            progress.value = downloaded;\n",
              "          }\n",
              "        }\n",
              "      }\n",
              "      const blob = new Blob(buffers, {type: 'application/binary'});\n",
              "      const a = document.createElement('a');\n",
              "      a.href = window.URL.createObjectURL(blob);\n",
              "      a.download = filename;\n",
              "      div.appendChild(a);\n",
              "      a.click();\n",
              "      div.remove();\n",
              "    }\n",
              "  "
            ],
            "text/plain": [
              "<IPython.core.display.Javascript object>"
            ]
          },
          "metadata": {}
        },
        {
          "output_type": "display_data",
          "data": {
            "application/javascript": [
              "download(\"download_328b5425-ec90-47c8-beff-4b563ac1a3e9\", \"employee_sum.csv\", 631)"
            ],
            "text/plain": [
              "<IPython.core.display.Javascript object>"
            ]
          },
          "metadata": {}
        },
        {
          "output_type": "execute_result",
          "data": {
            "text/html": [
              "<div>\n",
              "<style scoped>\n",
              "    .dataframe tbody tr th:only-of-type {\n",
              "        vertical-align: middle;\n",
              "    }\n",
              "\n",
              "    .dataframe tbody tr th {\n",
              "        vertical-align: top;\n",
              "    }\n",
              "\n",
              "    .dataframe thead th {\n",
              "        text-align: right;\n",
              "    }\n",
              "</style>\n",
              "<table border=\"1\" class=\"dataframe\">\n",
              "  <thead>\n",
              "    <tr style=\"text-align: right;\">\n",
              "      <th></th>\n",
              "      <th>Age</th>\n",
              "      <th>DailyRate</th>\n",
              "      <th>NumCompaniesWorked</th>\n",
              "      <th>YearsAtCompany</th>\n",
              "      <th>PercentSalaryHike</th>\n",
              "      <th>YearsSinceLastPromotion</th>\n",
              "      <th>YearsWithCurrManager</th>\n",
              "      <th>MonthlyIncome</th>\n",
              "      <th>DistanceFromHome</th>\n",
              "    </tr>\n",
              "  </thead>\n",
              "  <tbody>\n",
              "    <tr>\n",
              "      <th>min</th>\n",
              "      <td>18.000000</td>\n",
              "      <td>102.000000</td>\n",
              "      <td>0.000000</td>\n",
              "      <td>0.000000</td>\n",
              "      <td>11.000000</td>\n",
              "      <td>0.000000</td>\n",
              "      <td>0.000000</td>\n",
              "      <td>1009.000000</td>\n",
              "      <td>1.000000</td>\n",
              "    </tr>\n",
              "    <tr>\n",
              "      <th>max</th>\n",
              "      <td>60.000000</td>\n",
              "      <td>1499.000000</td>\n",
              "      <td>9.000000</td>\n",
              "      <td>40.000000</td>\n",
              "      <td>25.000000</td>\n",
              "      <td>15.000000</td>\n",
              "      <td>17.000000</td>\n",
              "      <td>19999.000000</td>\n",
              "      <td>29.000000</td>\n",
              "    </tr>\n",
              "    <tr>\n",
              "      <th>mean</th>\n",
              "      <td>36.923810</td>\n",
              "      <td>802.485714</td>\n",
              "      <td>2.693197</td>\n",
              "      <td>7.008163</td>\n",
              "      <td>15.209524</td>\n",
              "      <td>2.187755</td>\n",
              "      <td>4.123129</td>\n",
              "      <td>6502.931293</td>\n",
              "      <td>9.192517</td>\n",
              "    </tr>\n",
              "    <tr>\n",
              "      <th>median</th>\n",
              "      <td>36.000000</td>\n",
              "      <td>802.000000</td>\n",
              "      <td>2.000000</td>\n",
              "      <td>5.000000</td>\n",
              "      <td>14.000000</td>\n",
              "      <td>1.000000</td>\n",
              "      <td>3.000000</td>\n",
              "      <td>4919.000000</td>\n",
              "      <td>7.000000</td>\n",
              "    </tr>\n",
              "    <tr>\n",
              "      <th>std</th>\n",
              "      <td>9.135373</td>\n",
              "      <td>403.509100</td>\n",
              "      <td>2.498009</td>\n",
              "      <td>6.126525</td>\n",
              "      <td>3.659938</td>\n",
              "      <td>3.222430</td>\n",
              "      <td>3.568136</td>\n",
              "      <td>4707.956783</td>\n",
              "      <td>8.106864</td>\n",
              "    </tr>\n",
              "  </tbody>\n",
              "</table>\n",
              "</div>"
            ],
            "text/plain": [
              "              Age    DailyRate  ...  MonthlyIncome  DistanceFromHome\n",
              "min     18.000000   102.000000  ...    1009.000000          1.000000\n",
              "max     60.000000  1499.000000  ...   19999.000000         29.000000\n",
              "mean    36.923810   802.485714  ...    6502.931293          9.192517\n",
              "median  36.000000   802.000000  ...    4919.000000          7.000000\n",
              "std      9.135373   403.509100  ...    4707.956783          8.106864\n",
              "\n",
              "[5 rows x 9 columns]"
            ]
          },
          "metadata": {},
          "execution_count": 8
        }
      ]
    },
    {
      "cell_type": "code",
      "source": [
        ""
      ],
      "metadata": {
        "id": "gFuUzveNaxHw"
      },
      "execution_count": null,
      "outputs": []
    },
    {
      "cell_type": "code",
      "source": [
        "# summary statistics of categorical variables\n",
        "category_cols=employee.select_dtypes(include=object).columns.tolist()\n",
        "category_df=pd.DataFrame(employee[category_cols].melt(var_name='column', value_name='value')\n",
        "                    .value_counts()).rename(columns={0: 'count'}).sort_values(by=['column', 'count'])\n",
        "print(\"Summary Statistics of categorical variables\")\n",
        "display(category_df.T)\n",
        "category_df.to_csv('category_sum.csv')"
      ],
      "metadata": {
        "colab": {
          "base_uri": "https://localhost:8080/",
          "height": 167
        },
        "id": "We2He2RycLES",
        "outputId": "af34593e-1749-488a-f1fe-9b3a5c224a79"
      },
      "execution_count": null,
      "outputs": [
        {
          "output_type": "stream",
          "name": "stdout",
          "text": [
            "Summary Statistics of categorical variables\n"
          ]
        },
        {
          "output_type": "display_data",
          "data": {
            "text/html": [
              "<div>\n",
              "<style scoped>\n",
              "    .dataframe tbody tr th:only-of-type {\n",
              "        vertical-align: middle;\n",
              "    }\n",
              "\n",
              "    .dataframe tbody tr th {\n",
              "        vertical-align: top;\n",
              "    }\n",
              "\n",
              "    .dataframe thead tr th {\n",
              "        text-align: left;\n",
              "    }\n",
              "</style>\n",
              "<table border=\"1\" class=\"dataframe\">\n",
              "  <thead>\n",
              "    <tr>\n",
              "      <th>column</th>\n",
              "      <th colspan=\"2\" halign=\"left\">Attrition</th>\n",
              "      <th colspan=\"3\" halign=\"left\">BusinessTravel</th>\n",
              "      <th colspan=\"3\" halign=\"left\">Department</th>\n",
              "      <th colspan=\"6\" halign=\"left\">EducationField</th>\n",
              "      <th colspan=\"2\" halign=\"left\">Gender</th>\n",
              "      <th colspan=\"9\" halign=\"left\">JobRole</th>\n",
              "      <th colspan=\"3\" halign=\"left\">MaritalStatus</th>\n",
              "      <th>Over18</th>\n",
              "      <th colspan=\"2\" halign=\"left\">OverTime</th>\n",
              "    </tr>\n",
              "    <tr>\n",
              "      <th>value</th>\n",
              "      <th>Yes</th>\n",
              "      <th>No</th>\n",
              "      <th>Non-Travel</th>\n",
              "      <th>Travel_Frequently</th>\n",
              "      <th>Travel_Rarely</th>\n",
              "      <th>Human Resources</th>\n",
              "      <th>Sales</th>\n",
              "      <th>Research &amp; Development</th>\n",
              "      <th>Human Resources</th>\n",
              "      <th>Other</th>\n",
              "      <th>Technical Degree</th>\n",
              "      <th>Marketing</th>\n",
              "      <th>Medical</th>\n",
              "      <th>Life Sciences</th>\n",
              "      <th>Female</th>\n",
              "      <th>Male</th>\n",
              "      <th>Human Resources</th>\n",
              "      <th>Research Director</th>\n",
              "      <th>Sales Representative</th>\n",
              "      <th>Manager</th>\n",
              "      <th>Healthcare Representative</th>\n",
              "      <th>Manufacturing Director</th>\n",
              "      <th>Laboratory Technician</th>\n",
              "      <th>Research Scientist</th>\n",
              "      <th>Sales Executive</th>\n",
              "      <th>Divorced</th>\n",
              "      <th>Single</th>\n",
              "      <th>Married</th>\n",
              "      <th>Y</th>\n",
              "      <th>Yes</th>\n",
              "      <th>No</th>\n",
              "    </tr>\n",
              "  </thead>\n",
              "  <tbody>\n",
              "    <tr>\n",
              "      <th>count</th>\n",
              "      <td>237</td>\n",
              "      <td>1233</td>\n",
              "      <td>150</td>\n",
              "      <td>277</td>\n",
              "      <td>1043</td>\n",
              "      <td>63</td>\n",
              "      <td>446</td>\n",
              "      <td>961</td>\n",
              "      <td>27</td>\n",
              "      <td>82</td>\n",
              "      <td>132</td>\n",
              "      <td>159</td>\n",
              "      <td>464</td>\n",
              "      <td>606</td>\n",
              "      <td>588</td>\n",
              "      <td>882</td>\n",
              "      <td>52</td>\n",
              "      <td>80</td>\n",
              "      <td>83</td>\n",
              "      <td>102</td>\n",
              "      <td>131</td>\n",
              "      <td>145</td>\n",
              "      <td>259</td>\n",
              "      <td>292</td>\n",
              "      <td>326</td>\n",
              "      <td>327</td>\n",
              "      <td>470</td>\n",
              "      <td>673</td>\n",
              "      <td>1470</td>\n",
              "      <td>416</td>\n",
              "      <td>1054</td>\n",
              "    </tr>\n",
              "  </tbody>\n",
              "</table>\n",
              "</div>"
            ],
            "text/plain": [
              "column Attrition       BusinessTravel  ... Over18 OverTime      \n",
              "value        Yes    No     Non-Travel  ...      Y      Yes    No\n",
              "count        237  1233            150  ...   1470      416  1054\n",
              "\n",
              "[1 rows x 31 columns]"
            ]
          },
          "metadata": {}
        }
      ]
    },
    {
      "cell_type": "code",
      "source": [
        "print(employee.Attrition.value_counts())\n",
        "print(employee.BusinessTravel.value_counts(normalize=True))\n",
        "print(employee.Department.value_counts().sort_index(ascending=True).sort_values(ascending=True) )"
      ],
      "metadata": {
        "id": "oSbB27Oy_ONn",
        "colab": {
          "base_uri": "https://localhost:8080/"
        },
        "outputId": "cf8fb004-d356-4c30-d2c0-14d5be9c21d0"
      },
      "execution_count": null,
      "outputs": [
        {
          "output_type": "stream",
          "name": "stdout",
          "text": [
            "No     1233\n",
            "Yes     237\n",
            "Name: Attrition, dtype: int64\n",
            "Travel_Rarely        0.709524\n",
            "Travel_Frequently    0.188435\n",
            "Non-Travel           0.102041\n",
            "Name: BusinessTravel, dtype: float64\n",
            "Human Resources            63\n",
            "Sales                     446\n",
            "Research & Development    961\n",
            "Name: Department, dtype: int64\n"
          ]
        }
      ]
    },
    {
      "cell_type": "code",
      "source": [
        "print(employee.Education.value_counts(normalize=True))\n",
        "print(employee.JobSatisfaction.value_counts(normalize=True)\t)\n",
        "print(employee.JobLevel.value_counts(normalize=True))\n",
        "print(employee.JobInvolvement.value_counts())\n",
        "## Pie chart\n",
        "print(employee.Gender.value_counts(normalize=True))"
      ],
      "metadata": {
        "id": "Taj0cM0V_OS3",
        "colab": {
          "base_uri": "https://localhost:8080/"
        },
        "outputId": "9e2f6951-816f-41bb-fa5b-27cebc30cae6"
      },
      "execution_count": null,
      "outputs": [
        {
          "output_type": "stream",
          "name": "stdout",
          "text": [
            "3    0.389116\n",
            "4    0.270748\n",
            "2    0.191837\n",
            "1    0.115646\n",
            "5    0.032653\n",
            "Name: Education, dtype: float64\n",
            "4    0.312245\n",
            "3    0.300680\n",
            "1    0.196599\n",
            "2    0.190476\n",
            "Name: JobSatisfaction, dtype: float64\n",
            "1    0.369388\n",
            "2    0.363265\n",
            "3    0.148299\n",
            "4    0.072109\n",
            "5    0.046939\n",
            "Name: JobLevel, dtype: float64\n",
            "3    868\n",
            "2    375\n",
            "4    144\n",
            "1     83\n",
            "Name: JobInvolvement, dtype: int64\n",
            "Male      0.6\n",
            "Female    0.4\n",
            "Name: Gender, dtype: float64\n"
          ]
        }
      ]
    },
    {
      "cell_type": "code",
      "source": [
        "print(employee.JobRole.value_counts().sort_index(ascending=True).sort_values(ascending=True).to_frame())"
      ],
      "metadata": {
        "id": "m_rqTjcsJO5G",
        "colab": {
          "base_uri": "https://localhost:8080/"
        },
        "outputId": "94d79aa3-c791-4215-94f2-fefe4e600977"
      },
      "execution_count": null,
      "outputs": [
        {
          "output_type": "stream",
          "name": "stdout",
          "text": [
            "                           JobRole\n",
            "Human Resources                 52\n",
            "Research Director               80\n",
            "Sales Representative            83\n",
            "Manager                        102\n",
            "Healthcare Representative      131\n",
            "Manufacturing Director         145\n",
            "Laboratory Technician          259\n",
            "Research Scientist             292\n",
            "Sales Executive                326\n"
          ]
        }
      ]
    },
    {
      "cell_type": "code",
      "source": [
        "print(employee.WorkLifeBalance.value_counts(normalize=True))\n",
        "print(employee.RelationshipSatisfaction.value_counts(normalize=True))\n",
        "print(employee.MaritalStatus.value_counts().sort_values(ascending=True))\n",
        "print(employee.PerformanceRating.value_counts().sort_values(ascending=True))\n",
        "print(employee.RelationshipSatisfaction.value_counts().sort_values(ascending=True))\n",
        "print(employee.EducationField.value_counts().sort_index(ascending=True).sort_values(ascending=True).to_frame())"
      ],
      "metadata": {
        "id": "1zxM8VrWJO9L",
        "colab": {
          "base_uri": "https://localhost:8080/"
        },
        "outputId": "311f6220-30ec-4ad7-95fd-8aac2d181e9b"
      },
      "execution_count": null,
      "outputs": [
        {
          "output_type": "stream",
          "name": "stdout",
          "text": [
            "3    0.607483\n",
            "2    0.234014\n",
            "4    0.104082\n",
            "1    0.054422\n",
            "Name: WorkLifeBalance, dtype: float64\n",
            "3    0.312245\n",
            "4    0.293878\n",
            "2    0.206122\n",
            "1    0.187755\n",
            "Name: RelationshipSatisfaction, dtype: float64\n",
            "Divorced    327\n",
            "Single      470\n",
            "Married     673\n",
            "Name: MaritalStatus, dtype: int64\n",
            "4     226\n",
            "3    1244\n",
            "Name: PerformanceRating, dtype: int64\n",
            "1    276\n",
            "2    303\n",
            "4    432\n",
            "3    459\n",
            "Name: RelationshipSatisfaction, dtype: int64\n",
            "                  EducationField\n",
            "Human Resources               27\n",
            "Other                         82\n",
            "Technical Degree             132\n",
            "Marketing                    159\n",
            "Medical                      464\n",
            "Life Sciences                606\n"
          ]
        }
      ]
    },
    {
      "cell_type": "code",
      "source": [
        "import matplotlib.pyplot as plt\n",
        "%matplotlib inline\n",
        "import seaborn as sns\n",
        "import plotly"
      ],
      "metadata": {
        "id": "ol4Zdd_Kt1TT"
      },
      "execution_count": null,
      "outputs": []
    },
    {
      "cell_type": "code",
      "source": [
        "target_columns = [\"Attrition\",\"EducationField\"]\n",
        "subset = employee.loc[:, target_columns]\n",
        "subset.value_counts().plot(kind=\"pie\",subplots=True,colormap = \"GnBu\")\n",
        "## Try, same chart as using groupby()"
      ],
      "metadata": {
        "colab": {
          "base_uri": "https://localhost:8080/",
          "height": 283
        },
        "id": "_he82SGESTX1",
        "outputId": "dc7acd71-1a61-4332-f472-6cc2c29b92d8"
      },
      "execution_count": null,
      "outputs": [
        {
          "output_type": "execute_result",
          "data": {
            "text/plain": [
              "array([<matplotlib.axes._subplots.AxesSubplot object at 0x7fc602982fd0>],\n",
              "      dtype=object)"
            ]
          },
          "metadata": {},
          "execution_count": 15
        },
        {
          "output_type": "display_data",
          "data": {
            "image/png": "[encoded data removed]",
            "text/plain": [
              "<Figure size 432x288 with 1 Axes>"
            ]
          },
          "metadata": {}
        }
      ]
    },
    {
      "cell_type": "markdown",
      "source": [
        "# Sub-task 1: Who are IBM employees?"
      ],
      "metadata": {
        "id": "pUol_jpcN5Kz"
      }
    },
    {
      "cell_type": "code",
      "source": [
        "# function to plot distribution\n",
        "def distribution_plot(var, color_start, color_end):\n",
        "  plt.figure(figsize=(15,4))\n",
        "  plt.subplot(1,2,1)\n",
        "  colors = sns.color_palette('GnBu')[color_start:color_end]\n",
        "  employee[var].value_counts().plot(kind=\"pie\", colors=colors, autopct='%1.1f%%')\n",
        "  plt.subplot(1,2,2)\n",
        "  sns.countplot(employee[var], palette=colors)\n",
        "  return employee[var].value_counts()"
      ],
      "metadata": {
        "id": "7JLY3aJCKAya"
      },
      "execution_count": null,
      "outputs": []
    },
    {
      "cell_type": "markdown",
      "source": [
        "## gender distribution"
      ],
      "metadata": {
        "id": "mYaCP05jP27n"
      }
    },
    {
      "cell_type": "code",
      "source": [
        "distribution_plot('Gender', 2, 4)"
      ],
      "metadata": {
        "colab": {
          "base_uri": "https://localhost:8080/",
          "height": 421
        },
        "id": "ZIsUij7MNkCP",
        "outputId": "8cadfc63-8802-4794-ae85-383df5456d07"
      },
      "execution_count": null,
      "outputs": [
        {
          "output_type": "stream",
          "name": "stderr",
          "text": [
            "/usr/local/lib/python3.7/dist-packages/seaborn/_decorators.py:43: FutureWarning:\n",
            "\n",
            "Pass the following variable as a keyword arg: x. From version 0.12, the only valid positional argument will be `data`, and passing other arguments without an explicit keyword will result in an error or misinterpretation.\n",
            "\n"
          ]
        },
        {
          "output_type": "execute_result",
          "data": {
            "text/plain": [
              "Male      882\n",
              "Female    588\n",
              "Name: Gender, dtype: int64"
            ]
          },
          "metadata": {},
          "execution_count": 9
        },
        {
          "output_type": "display_data",
          "data": {
            "image/png": "[encoded data removed]",
            "text/plain": [
              "<Figure size 1080x288 with 2 Axes>"
            ]
          },
          "metadata": {
            "needs_background": "light"
          }
        }
      ]
    },
    {
      "cell_type": "markdown",
      "source": [
        "## education distribution"
      ],
      "metadata": {
        "id": "Eq2Tvj8gP-Fe"
      }
    },
    {
      "cell_type": "code",
      "source": [
        "employee.Education.replace({1: 'High School',\n",
        "                       2:'Undergrad',\n",
        "                       3:'Graduate',\n",
        "                       4:'Post Graduate',\n",
        "                       5:'Doctorate'},inplace=True)\n",
        "distribution_plot('Education', 0, 5)"
      ],
      "metadata": {
        "colab": {
          "base_uri": "https://localhost:8080/",
          "height": 477
        },
        "id": "1GTHjC2XOlM0",
        "outputId": "12f741fe-e97c-4caf-877f-6a4e9cce8330"
      },
      "execution_count": null,
      "outputs": [
        {
          "output_type": "stream",
          "name": "stderr",
          "text": [
            "/usr/local/lib/python3.7/dist-packages/seaborn/_decorators.py:43: FutureWarning:\n",
            "\n",
            "Pass the following variable as a keyword arg: x. From version 0.12, the only valid positional argument will be `data`, and passing other arguments without an explicit keyword will result in an error or misinterpretation.\n",
            "\n"
          ]
        },
        {
          "output_type": "execute_result",
          "data": {
            "text/plain": [
              "Graduate         572\n",
              "Post Graduate    398\n",
              "Undergrad        282\n",
              "High School      170\n",
              "Doctorate         48\n",
              "Name: Education, dtype: int64"
            ]
          },
          "metadata": {},
          "execution_count": 10
        },
        {
          "output_type": "display_data",
          "data": {
            "image/png": "[encoded data removed]",
            "text/plain": [
              "<Figure size 1080x288 with 2 Axes>"
            ]
          },
          "metadata": {
            "needs_background": "light"
          }
        }
      ]
    },
    {
      "cell_type": "markdown",
      "source": [
        "## marital status distribution"
      ],
      "metadata": {
        "id": "UvsxgzfdQCwN"
      }
    },
    {
      "cell_type": "code",
      "source": [
        "distribution_plot('MaritalStatus', 2, 5)"
      ],
      "metadata": {
        "colab": {
          "base_uri": "https://localhost:8080/",
          "height": 440
        },
        "id": "mLeI3vC5QM7c",
        "outputId": "82c32a83-74b1-4f7c-a5c0-879255bb9d14"
      },
      "execution_count": null,
      "outputs": [
        {
          "output_type": "stream",
          "name": "stderr",
          "text": [
            "/usr/local/lib/python3.7/dist-packages/seaborn/_decorators.py:43: FutureWarning:\n",
            "\n",
            "Pass the following variable as a keyword arg: x. From version 0.12, the only valid positional argument will be `data`, and passing other arguments without an explicit keyword will result in an error or misinterpretation.\n",
            "\n"
          ]
        },
        {
          "output_type": "execute_result",
          "data": {
            "text/plain": [
              "Married     673\n",
              "Single      470\n",
              "Divorced    327\n",
              "Name: MaritalStatus, dtype: int64"
            ]
          },
          "metadata": {},
          "execution_count": 11
        },
        {
          "output_type": "display_data",
          "data": {
            "image/png": "[encoded data removed]",
            "text/plain": [
              "<Figure size 1080x288 with 2 Axes>"
            ]
          },
          "metadata": {
            "needs_background": "light"
          }
        }
      ]
    },
    {
      "cell_type": "markdown",
      "source": [
        "## department distribution"
      ],
      "metadata": {
        "id": "AjdMvWoxQz02"
      }
    },
    {
      "cell_type": "code",
      "source": [
        "distribution_plot('Department', 2, 5)"
      ],
      "metadata": {
        "colab": {
          "base_uri": "https://localhost:8080/",
          "height": 440
        },
        "id": "kSXZbAoGPhRz",
        "outputId": "d00838c4-cbeb-41c2-edca-2df8535236d0"
      },
      "execution_count": null,
      "outputs": [
        {
          "output_type": "stream",
          "name": "stderr",
          "text": [
            "/usr/local/lib/python3.7/dist-packages/seaborn/_decorators.py:43: FutureWarning:\n",
            "\n",
            "Pass the following variable as a keyword arg: x. From version 0.12, the only valid positional argument will be `data`, and passing other arguments without an explicit keyword will result in an error or misinterpretation.\n",
            "\n"
          ]
        },
        {
          "output_type": "execute_result",
          "data": {
            "text/plain": [
              "Research & Development    961\n",
              "Sales                     446\n",
              "Human Resources            63\n",
              "Name: Department, dtype: int64"
            ]
          },
          "metadata": {},
          "execution_count": 12
        },
        {
          "output_type": "display_data",
          "data": {
            "image/png": "[encoded data removed]",
            "text/plain": [
              "<Figure size 1080x288 with 2 Axes>"
            ]
          },
          "metadata": {
            "needs_background": "light"
          }
        }
      ]
    },
    {
      "cell_type": "markdown",
      "source": [
        "## Attrition Distribution"
      ],
      "metadata": {
        "id": "RReWcoSDR5S8"
      }
    },
    {
      "cell_type": "code",
      "source": [
        "distribution_plot('Attrition', 2, 4)"
      ],
      "metadata": {
        "colab": {
          "base_uri": "https://localhost:8080/",
          "height": 398
        },
        "id": "AXN-ZScOPzt5",
        "outputId": "5151780e-e29d-4d7b-cc46-62674a4b9e77"
      },
      "execution_count": null,
      "outputs": [
        {
          "output_type": "stream",
          "name": "stderr",
          "text": [
            "/usr/local/lib/python3.7/dist-packages/seaborn/_decorators.py:43: FutureWarning:\n",
            "\n",
            "Pass the following variable as a keyword arg: x. From version 0.12, the only valid positional argument will be `data`, and passing other arguments without an explicit keyword will result in an error or misinterpretation.\n",
            "\n"
          ]
        },
        {
          "output_type": "execute_result",
          "data": {
            "text/plain": [
              "No     1233\n",
              "Yes     237\n",
              "Name: Attrition, dtype: int64"
            ]
          },
          "metadata": {},
          "execution_count": 20
        },
        {
          "output_type": "display_data",
          "data": {
            "image/png": "[encoded data removed]",
            "text/plain": [
              "<Figure size 1080x288 with 2 Axes>"
            ]
          },
          "metadata": {
            "needs_background": "light"
          }
        }
      ]
    },
    {
      "cell_type": "markdown",
      "source": [
        "# Sub-task 2: What job roles do they play?\n"
      ],
      "metadata": {
        "id": "pj-kg_hdvr0e"
      }
    },
    {
      "cell_type": "markdown",
      "source": [
        "## Job Roles: How many employees in each Job Role?"
      ],
      "metadata": {
        "id": "rbtkUuNPUyCR"
      }
    },
    {
      "cell_type": "code",
      "source": [
        "plt.figure(figsize=(14,4))\n",
        "sns.catplot(y='JobRole', kind='count', aspect=2, data=employee, palette=sns.color_palette('GnBu'))\n",
        "employee['JobRole'].value_counts()"
      ],
      "metadata": {
        "colab": {
          "base_uri": "https://localhost:8080/",
          "height": 560
        },
        "id": "FwYqBJwLSMER",
        "outputId": "947578c2-01b5-49bf-f6de-96d3e1b50795"
      },
      "execution_count": null,
      "outputs": [
        {
          "output_type": "execute_result",
          "data": {
            "text/plain": [
              "Sales Executive              326\n",
              "Research Scientist           292\n",
              "Laboratory Technician        259\n",
              "Manufacturing Director       145\n",
              "Healthcare Representative    131\n",
              "Manager                      102\n",
              "Sales Representative          83\n",
              "Research Director             80\n",
              "Human Resources               52\n",
              "Name: JobRole, dtype: int64"
            ]
          },
          "metadata": {},
          "execution_count": 13
        },
        {
          "output_type": "display_data",
          "data": {
            "text/plain": [
              "<Figure size 1008x288 with 0 Axes>"
            ]
          },
          "metadata": {}
        },
        {
          "output_type": "display_data",
          "data": {
            "image/png": "[encoded data removed]",
            "text/plain": [
              "<Figure size 720x360 with 1 Axes>"
            ]
          },
          "metadata": {
            "needs_background": "light"
          }
        }
      ]
    },
    {
      "cell_type": "markdown",
      "source": [
        "## Salary by Job Role: What's the average salary by job role?"
      ],
      "metadata": {
        "id": "nvnNOwcebcxs"
      }
    },
    {
      "cell_type": "code",
      "source": [
        "plt.figure(figsize=(14,6))\n",
        "sns.boxplot(data=employee, x='JobRole', y='MonthlyIncome', palette=sns.color_palette('GnBu'))\n",
        "plt.xticks(rotation = 30)"
      ],
      "metadata": {
        "colab": {
          "base_uri": "https://localhost:8080/",
          "height": 488
        },
        "id": "IR1aorGEeBsK",
        "outputId": "ba387b92-371f-434e-ace0-2904ddaeaf11"
      },
      "execution_count": null,
      "outputs": [
        {
          "output_type": "execute_result",
          "data": {
            "text/plain": [
              "(array([0, 1, 2, 3, 4, 5, 6, 7, 8]),\n",
              " <a list of 9 Text major ticklabel objects>)"
            ]
          },
          "metadata": {},
          "execution_count": 14
        },
        {
          "output_type": "display_data",
          "data": {
            "image/png": "[encoded data removed]",
            "text/plain": [
              "<Figure size 1008x432 with 1 Axes>"
            ]
          },
          "metadata": {
            "needs_background": "light"
          }
        }
      ]
    },
    {
      "cell_type": "markdown",
      "source": [
        "## Gender by Job Role: What's the gender distribution by job role?"
      ],
      "metadata": {
        "id": "PMP4Pf6Bi09M"
      }
    },
    {
      "cell_type": "code",
      "source": [
        "plt.figure(figsize=(10,6))\n",
        "sns.countplot(data = employee,\n",
        "            x='JobRole',\n",
        "            hue='Gender',\n",
        "            palette = 'GnBu')\n",
        "plt.xticks(rotation = 30)"
      ],
      "metadata": {
        "colab": {
          "base_uri": "https://localhost:8080/",
          "height": 488
        },
        "id": "01b7wL4ki6Ia",
        "outputId": "3abc3337-7073-4f19-c212-d08201a46210"
      },
      "execution_count": null,
      "outputs": [
        {
          "output_type": "execute_result",
          "data": {
            "text/plain": [
              "(array([0, 1, 2, 3, 4, 5, 6, 7, 8]),\n",
              " <a list of 9 Text major ticklabel objects>)"
            ]
          },
          "metadata": {},
          "execution_count": 15
        },
        {
          "output_type": "display_data",
          "data": {
            "image/png": "[encoded data removed]",
            "text/plain": [
              "<Figure size 720x432 with 1 Axes>"
            ]
          },
          "metadata": {
            "needs_background": "light"
          }
        }
      ]
    },
    {
      "cell_type": "markdown",
      "source": [
        "# Sub-task 3: How involved are they in work?\n"
      ],
      "metadata": {
        "id": "Nk1m55qDN8m1"
      }
    },
    {
      "cell_type": "markdown",
      "source": [
        "## What is the job involvement distribution?"
      ],
      "metadata": {
        "id": "bmLoHUZsOtgV"
      }
    },
    {
      "cell_type": "code",
      "source": [
        "employee.JobInvolvement.replace({1: 'Low',\n",
        "                       2:'Medium',\n",
        "                       3:'High',\n",
        "                       4:'Very High'},inplace=True)\n",
        "plt.figure(figsize=(12,2))\n",
        "sns.catplot(y='JobInvolvement', kind='count', aspect=2, data=employee, palette=sns.color_palette('GnBu'))\n",
        "employee['JobInvolvement'].value_counts()"
      ],
      "metadata": {
        "colab": {
          "base_uri": "https://localhost:8080/",
          "height": 471
        },
        "id": "0hGOI-ilaPEj",
        "outputId": "956a7f83-3e11-489b-c2a6-d8f0db2c2395"
      },
      "execution_count": null,
      "outputs": [
        {
          "output_type": "execute_result",
          "data": {
            "text/plain": [
              "High         868\n",
              "Medium       375\n",
              "Very High    144\n",
              "Low           83\n",
              "Name: JobInvolvement, dtype: int64"
            ]
          },
          "metadata": {},
          "execution_count": 24
        },
        {
          "output_type": "display_data",
          "data": {
            "text/plain": [
              "<Figure size 864x144 with 0 Axes>"
            ]
          },
          "metadata": {}
        },
        {
          "output_type": "display_data",
          "data": {
            "image/png": "[encoded data removed]",
            "text/plain": [
              "<Figure size 720x360 with 1 Axes>"
            ]
          },
          "metadata": {
            "needs_background": "light"
          }
        }
      ]
    },
    {
      "cell_type": "markdown",
      "source": [
        "## What is the median salary by job involvement"
      ],
      "metadata": {
        "id": "T3Uso3I-em3p"
      }
    },
    {
      "cell_type": "code",
      "source": [
        "plt.figure(figsize=(14,6))\n",
        "sns.boxplot(data=employee, x='JobInvolvement', y='MonthlyIncome', palette=sns.color_palette('GnBu'))\n",
        "plt.xticks(rotation = 30)"
      ],
      "metadata": {
        "colab": {
          "base_uri": "https://localhost:8080/",
          "height": 428
        },
        "id": "j7aMEMbScO44",
        "outputId": "4493f49d-f61e-43a2-886e-45fda897f25a"
      },
      "execution_count": null,
      "outputs": [
        {
          "output_type": "execute_result",
          "data": {
            "text/plain": [
              "(array([0, 1, 2, 3]), <a list of 4 Text major ticklabel objects>)"
            ]
          },
          "metadata": {},
          "execution_count": 25
        },
        {
          "output_type": "display_data",
          "data": {
            "image/png": "[encoded data removed]",
            "text/plain": [
              "<Figure size 1008x432 with 1 Axes>"
            ]
          },
          "metadata": {
            "needs_background": "light"
          }
        }
      ]
    },
    {
      "cell_type": "markdown",
      "source": [
        "# Sub-task 4: Who resigned?"
      ],
      "metadata": {
        "id": "UtiJAdH3sBwg"
      }
    },
    {
      "cell_type": "code",
      "source": [
        "employee.groupby('Attrition').mean().T"
      ],
      "metadata": {
        "colab": {
          "base_uri": "https://localhost:8080/",
          "height": 845
        },
        "id": "zUpWx6KRFMhy",
        "outputId": "7294da24-3d02-47ca-d810-6b43c1e7169d"
      },
      "execution_count": null,
      "outputs": [
        {
          "output_type": "execute_result",
          "data": {
            "text/html": [
              "<div>\n",
              "<style scoped>\n",
              "    .dataframe tbody tr th:only-of-type {\n",
              "        vertical-align: middle;\n",
              "    }\n",
              "\n",
              "    .dataframe tbody tr th {\n",
              "        vertical-align: top;\n",
              "    }\n",
              "\n",
              "    .dataframe thead th {\n",
              "        text-align: right;\n",
              "    }\n",
              "</style>\n",
              "<table border=\"1\" class=\"dataframe\">\n",
              "  <thead>\n",
              "    <tr style=\"text-align: right;\">\n",
              "      <th>Attrition</th>\n",
              "      <th>No</th>\n",
              "      <th>Yes</th>\n",
              "    </tr>\n",
              "  </thead>\n",
              "  <tbody>\n",
              "    <tr>\n",
              "      <th>Age</th>\n",
              "      <td>37.561233</td>\n",
              "      <td>33.607595</td>\n",
              "    </tr>\n",
              "    <tr>\n",
              "      <th>DailyRate</th>\n",
              "      <td>812.504461</td>\n",
              "      <td>750.362869</td>\n",
              "    </tr>\n",
              "    <tr>\n",
              "      <th>DistanceFromHome</th>\n",
              "      <td>8.915653</td>\n",
              "      <td>10.632911</td>\n",
              "    </tr>\n",
              "    <tr>\n",
              "      <th>Education</th>\n",
              "      <td>2.927007</td>\n",
              "      <td>2.839662</td>\n",
              "    </tr>\n",
              "    <tr>\n",
              "      <th>EmployeeCount</th>\n",
              "      <td>1.000000</td>\n",
              "      <td>1.000000</td>\n",
              "    </tr>\n",
              "    <tr>\n",
              "      <th>EmployeeNumber</th>\n",
              "      <td>1027.656123</td>\n",
              "      <td>1010.345992</td>\n",
              "    </tr>\n",
              "    <tr>\n",
              "      <th>EnvironmentSatisfaction</th>\n",
              "      <td>2.771290</td>\n",
              "      <td>2.464135</td>\n",
              "    </tr>\n",
              "    <tr>\n",
              "      <th>HourlyRate</th>\n",
              "      <td>65.952149</td>\n",
              "      <td>65.573840</td>\n",
              "    </tr>\n",
              "    <tr>\n",
              "      <th>JobInvolvement</th>\n",
              "      <td>2.770479</td>\n",
              "      <td>2.518987</td>\n",
              "    </tr>\n",
              "    <tr>\n",
              "      <th>JobLevel</th>\n",
              "      <td>2.145985</td>\n",
              "      <td>1.637131</td>\n",
              "    </tr>\n",
              "    <tr>\n",
              "      <th>JobSatisfaction</th>\n",
              "      <td>2.778589</td>\n",
              "      <td>2.468354</td>\n",
              "    </tr>\n",
              "    <tr>\n",
              "      <th>MonthlyIncome</th>\n",
              "      <td>6832.739659</td>\n",
              "      <td>4787.092827</td>\n",
              "    </tr>\n",
              "    <tr>\n",
              "      <th>MonthlyRate</th>\n",
              "      <td>14265.779400</td>\n",
              "      <td>14559.308017</td>\n",
              "    </tr>\n",
              "    <tr>\n",
              "      <th>NumCompaniesWorked</th>\n",
              "      <td>2.645580</td>\n",
              "      <td>2.940928</td>\n",
              "    </tr>\n",
              "    <tr>\n",
              "      <th>PercentSalaryHike</th>\n",
              "      <td>15.231144</td>\n",
              "      <td>15.097046</td>\n",
              "    </tr>\n",
              "    <tr>\n",
              "      <th>PerformanceRating</th>\n",
              "      <td>3.153285</td>\n",
              "      <td>3.156118</td>\n",
              "    </tr>\n",
              "    <tr>\n",
              "      <th>RelationshipSatisfaction</th>\n",
              "      <td>2.733982</td>\n",
              "      <td>2.599156</td>\n",
              "    </tr>\n",
              "    <tr>\n",
              "      <th>StandardHours</th>\n",
              "      <td>80.000000</td>\n",
              "      <td>80.000000</td>\n",
              "    </tr>\n",
              "    <tr>\n",
              "      <th>StockOptionLevel</th>\n",
              "      <td>0.845093</td>\n",
              "      <td>0.527426</td>\n",
              "    </tr>\n",
              "    <tr>\n",
              "      <th>TotalWorkingYears</th>\n",
              "      <td>11.862936</td>\n",
              "      <td>8.244726</td>\n",
              "    </tr>\n",
              "    <tr>\n",
              "      <th>TrainingTimesLastYear</th>\n",
              "      <td>2.832928</td>\n",
              "      <td>2.624473</td>\n",
              "    </tr>\n",
              "    <tr>\n",
              "      <th>WorkLifeBalance</th>\n",
              "      <td>2.781022</td>\n",
              "      <td>2.658228</td>\n",
              "    </tr>\n",
              "    <tr>\n",
              "      <th>YearsAtCompany</th>\n",
              "      <td>7.369019</td>\n",
              "      <td>5.130802</td>\n",
              "    </tr>\n",
              "    <tr>\n",
              "      <th>YearsInCurrentRole</th>\n",
              "      <td>4.484185</td>\n",
              "      <td>2.902954</td>\n",
              "    </tr>\n",
              "    <tr>\n",
              "      <th>YearsSinceLastPromotion</th>\n",
              "      <td>2.234388</td>\n",
              "      <td>1.945148</td>\n",
              "    </tr>\n",
              "    <tr>\n",
              "      <th>YearsWithCurrManager</th>\n",
              "      <td>4.367397</td>\n",
              "      <td>2.852321</td>\n",
              "    </tr>\n",
              "  </tbody>\n",
              "</table>\n",
              "</div>"
            ],
            "text/plain": [
              "Attrition                           No           Yes\n",
              "Age                          37.561233     33.607595\n",
              "DailyRate                   812.504461    750.362869\n",
              "DistanceFromHome              8.915653     10.632911\n",
              "Education                     2.927007      2.839662\n",
              "EmployeeCount                 1.000000      1.000000\n",
              "EmployeeNumber             1027.656123   1010.345992\n",
              "EnvironmentSatisfaction       2.771290      2.464135\n",
              "HourlyRate                   65.952149     65.573840\n",
              "JobInvolvement                2.770479      2.518987\n",
              "JobLevel                      2.145985      1.637131\n",
              "JobSatisfaction               2.778589      2.468354\n",
              "MonthlyIncome              6832.739659   4787.092827\n",
              "MonthlyRate               14265.779400  14559.308017\n",
              "NumCompaniesWorked            2.645580      2.940928\n",
              "PercentSalaryHike            15.231144     15.097046\n",
              "PerformanceRating             3.153285      3.156118\n",
              "RelationshipSatisfaction      2.733982      2.599156\n",
              "StandardHours                80.000000     80.000000\n",
              "StockOptionLevel              0.845093      0.527426\n",
              "TotalWorkingYears            11.862936      8.244726\n",
              "TrainingTimesLastYear         2.832928      2.624473\n",
              "WorkLifeBalance               2.781022      2.658228\n",
              "YearsAtCompany                7.369019      5.130802\n",
              "YearsInCurrentRole            4.484185      2.902954\n",
              "YearsSinceLastPromotion       2.234388      1.945148\n",
              "YearsWithCurrManager          4.367397      2.852321"
            ]
          },
          "metadata": {},
          "execution_count": 18
        }
      ]
    },
    {
      "cell_type": "markdown",
      "source": [
        "## Attrtion VS Employed"
      ],
      "metadata": {
        "id": "oTnSFTASEEkH"
      }
    },
    {
      "cell_type": "code",
      "source": [
        "# slicing the dataframe by attrition \n",
        "stayed = employee.loc[employee.Attrition=='No']\n",
        "left = employee.loc[employee.Attrition=='Yes']"
      ],
      "metadata": {
        "id": "d9mhFXugFPvQ"
      },
      "execution_count": null,
      "outputs": []
    },
    {
      "cell_type": "code",
      "source": [
        "def attrition_lineplot(continuous_var):\n",
        "  plt.figure(figsize=(10,5))\n",
        "  sns.kdeplot(left[continuous_var],label='Left Company',color='tomato')\n",
        "  sns.kdeplot(stayed[continuous_var],label='Still Employed',color='royalblue')\n",
        "  plt.legend()"
      ],
      "metadata": {
        "id": "DIiMkQeWFbnX"
      },
      "execution_count": null,
      "outputs": []
    },
    {
      "cell_type": "code",
      "source": [
        "def attrition_histplot(categorical_var):\n",
        "  plt.figure(figsize=(10,5))\n",
        "  sns.countplot(x=employee[categorical_var],hue=employee['Attrition'], palette='GnBu')\n",
        "  plt.legend()"
      ],
      "metadata": {
        "id": "KA3z2uqrFkMO"
      },
      "execution_count": null,
      "outputs": []
    },
    {
      "cell_type": "markdown",
      "source": [
        "### Age"
      ],
      "metadata": {
        "id": "KUOncPsrEEkI"
      }
    },
    {
      "cell_type": "code",
      "source": [
        "attrition_lineplot('Age')"
      ],
      "metadata": {
        "colab": {
          "base_uri": "https://localhost:8080/",
          "height": 334
        },
        "outputId": "68576476-0b79-432a-f83a-ca7999ee584f",
        "id": "N4R-Ki8KEEkI"
      },
      "execution_count": null,
      "outputs": [
        {
          "output_type": "display_data",
          "data": {
            "image/png": "[encoded data removed]",
            "text/plain": [
              "<Figure size 720x360 with 1 Axes>"
            ]
          },
          "metadata": {
            "needs_background": "light"
          }
        }
      ]
    },
    {
      "cell_type": "markdown",
      "source": [
        "### Monthly Income"
      ],
      "metadata": {
        "id": "bkACUyF-EEkI"
      }
    },
    {
      "cell_type": "code",
      "source": [
        "attrition_lineplot('MonthlyIncome')"
      ],
      "metadata": {
        "colab": {
          "base_uri": "https://localhost:8080/",
          "height": 334
        },
        "outputId": "b27571be-c846-4a58-f2b8-d438e61ae642",
        "id": "XeipVzBrEEkI"
      },
      "execution_count": null,
      "outputs": [
        {
          "output_type": "display_data",
          "data": {
            "image/png": "[encoded data removed]",
            "text/plain": [
              "<Figure size 720x360 with 1 Axes>"
            ]
          },
          "metadata": {
            "needs_background": "light"
          }
        }
      ]
    },
    {
      "cell_type": "markdown",
      "source": [
        "### Distance"
      ],
      "metadata": {
        "id": "TsrBmwf3EEkI"
      }
    },
    {
      "cell_type": "code",
      "source": [
        "attrition_lineplot('DistanceFromHome')"
      ],
      "metadata": {
        "colab": {
          "base_uri": "https://localhost:8080/",
          "height": 334
        },
        "outputId": "4d4f9d92-0c2a-4e2b-a692-ff14d25c9dbe",
        "id": "r7BSlfvWEEkJ"
      },
      "execution_count": null,
      "outputs": [
        {
          "output_type": "display_data",
          "data": {
            "image/png": "[encoded data removed]",
            "text/plain": [
              "<Figure size 720x360 with 1 Axes>"
            ]
          },
          "metadata": {
            "needs_background": "light"
          }
        }
      ]
    },
    {
      "cell_type": "markdown",
      "source": [
        "### Number of Companies Worked"
      ],
      "metadata": {
        "id": "0-CAOBkfEEkJ"
      }
    },
    {
      "cell_type": "code",
      "source": [
        "attrition_lineplot('NumCompaniesWorked')"
      ],
      "metadata": {
        "colab": {
          "base_uri": "https://localhost:8080/",
          "height": 334
        },
        "outputId": "8f5442c4-1eab-4d13-9358-382f1a58b593",
        "id": "-ogJkGBEEEkJ"
      },
      "execution_count": null,
      "outputs": [
        {
          "output_type": "display_data",
          "data": {
            "image/png": "[encoded data removed]",
            "text/plain": [
              "<Figure size 720x360 with 1 Axes>"
            ]
          },
          "metadata": {
            "needs_background": "light"
          }
        }
      ]
    },
    {
      "cell_type": "markdown",
      "source": [
        "### Years With Current Manager"
      ],
      "metadata": {
        "id": "Szxse2QDEEkJ"
      }
    },
    {
      "cell_type": "code",
      "source": [
        "attrition_lineplot('YearsWithCurrManager')"
      ],
      "metadata": {
        "colab": {
          "base_uri": "https://localhost:8080/",
          "height": 334
        },
        "outputId": "a3accdbe-6b22-476d-cec4-e626c941a170",
        "id": "NUraOaLpEEkJ"
      },
      "execution_count": null,
      "outputs": [
        {
          "output_type": "display_data",
          "data": {
            "image/png": "[encoded data removed]",
            "text/plain": [
              "<Figure size 720x360 with 1 Axes>"
            ]
          },
          "metadata": {
            "needs_background": "light"
          }
        }
      ]
    },
    {
      "cell_type": "markdown",
      "source": [
        "### Job Involvement"
      ],
      "metadata": {
        "id": "hNQMffWMEEkJ"
      }
    },
    {
      "cell_type": "code",
      "source": [
        "employee.JobInvolvement.replace({1: 'Low',\n",
        "                       2:'Medium',\n",
        "                       3:'High',\n",
        "                       4:'Very High'},inplace=True)\n",
        "attrition_histplot('JobInvolvement')"
      ],
      "metadata": {
        "colab": {
          "base_uri": "https://localhost:8080/",
          "height": 334
        },
        "outputId": "8551a486-fa8a-4a8e-b5d2-6a4cc6bd9ee8",
        "id": "NNT7AOiQEEkJ"
      },
      "execution_count": null,
      "outputs": [
        {
          "output_type": "display_data",
          "data": {
            "image/png": "[encoded data removed]",
            "text/plain": [
              "<Figure size 720x360 with 1 Axes>"
            ]
          },
          "metadata": {
            "needs_background": "light"
          }
        }
      ]
    },
    {
      "cell_type": "markdown",
      "source": [
        "### Overtime"
      ],
      "metadata": {
        "id": "aAQzgA6iEEkK"
      }
    },
    {
      "cell_type": "code",
      "source": [
        "attrition_histplot('OverTime')"
      ],
      "metadata": {
        "colab": {
          "base_uri": "https://localhost:8080/",
          "height": 334
        },
        "outputId": "fa930836-5ce0-4766-ea21-0222d2ef9bfc",
        "id": "7iy5dNhCEEkK"
      },
      "execution_count": null,
      "outputs": [
        {
          "output_type": "display_data",
          "data": {
            "image/png": "[encoded data removed]",
            "text/plain": [
              "<Figure size 720x360 with 1 Axes>"
            ]
          },
          "metadata": {
            "needs_background": "light"
          }
        }
      ]
    },
    {
      "cell_type": "markdown",
      "source": [
        "## Attrition Rate by Gender & Deparment"
      ],
      "metadata": {
        "id": "n1A5nEmDlmrK"
      }
    },
    {
      "cell_type": "code",
      "source": [
        "import plotly.express as px\n",
        "import plotly.graph_objects as go\n",
        "attrition_cate = employee.groupby(['Gender','Department'])['Attrition'].value_counts(normalize=True)\n",
        "print(attrition_cate)\n",
        "attrition_cate = attrition_cate .mul(100).rename('Percent').reset_index()\n",
        "fig = px.bar(attrition_cate, x=\"Department\", y=\"Percent\", color=\"Attrition\", barmode=\"group\",\n",
        "            text='Percent', opacity=.80, facet_col=\"Gender\", category_orders={'Attrition': ['Yes', 'No']},\n",
        "             template='plotly_white',color_discrete_map={'Yes': '#758a99','No': '#66CDAA'}) \n",
        "fig.update_traces(texttemplate='%{text:.3s}%', textposition='outside',\n",
        "                  marker_line=dict(width=1, color='black'),  width=.4)\n",
        "fig.update_layout(title_text='Attrition Rates by Department and Gender', yaxis_ticksuffix = '%')\n",
        "fig.update_xaxes(showticklabels=True)\n",
        "fig.update_yaxes(title = \"\", zeroline=True, zerolinewidth=1, zerolinecolor='#f9f9f1')\n",
        "fig.show()"
      ],
      "metadata": {
        "colab": {
          "base_uri": "https://localhost:8080/",
          "height": 780
        },
        "id": "rlOSgXrKlkD9",
        "outputId": "b8cd7469-f85e-442f-8d9d-0693a8af945d"
      },
      "execution_count": null,
      "outputs": [
        {
          "output_type": "stream",
          "name": "stdout",
          "text": [
            "Gender  Department              Attrition\n",
            "Female  Human Resources         No           0.700000\n",
            "                                Yes          0.300000\n",
            "        Research & Development  No           0.886544\n",
            "                                Yes          0.113456\n",
            "        Sales                   No           0.798942\n",
            "                                Yes          0.201058\n",
            "Male    Human Resources         No           0.860465\n",
            "                                Yes          0.139535\n",
            "        Research & Development  No           0.845361\n",
            "                                Yes          0.154639\n",
            "        Sales                   No           0.789883\n",
            "                                Yes          0.210117\n",
            "Name: Attrition, dtype: float64\n"
          ]
        },
        {
          "output_type": "display_data",
          "data": {
            "text/html": [
              "<html>\n",
              "<head><meta charset=\"utf-8\" /></head>\n",
              "<body>\n",
              "    <div>\n",
              "            <script src=\"https://cdnjs.cloudflare.com/ajax/libs/mathjax/2.7.5/MathJax.js?config=TeX-AMS-MML_SVG\"></script><script type=\"text/javascript\">if (window.MathJax) {MathJax.Hub.Config({SVG: {font: \"STIX-Web\"}});}</script>\n",
              "                <script type=\"text/javascript\">window.PlotlyConfig = {MathJaxConfig: 'local'};</script>\n",
              "        <script src=\"https://cdn.plot.ly/plotly-latest.min.js\"></script>    \n",
              "            <div id=\"a3b6f66c-ea5f-4017-a139-25e30b7bbf27\" class=\"plotly-graph-div\" style=\"height:525px; width:100%;\"></div>\n",
              "            <script type=\"text/javascript\">\n",
              "                \n",
              "                    window.PLOTLYENV=window.PLOTLYENV || {};\n",
              "                    \n",
              "                if (document.getElementById(\"a3b6f66c-ea5f-4017-a139-25e30b7bbf27\")) {\n",
              "                    Plotly.newPlot(\n",
              "                        'a3b6f66c-ea5f-4017-a139-25e30b7bbf27',\n",
              "                        [{\"alignmentgroup\": \"True\", \"hoverlabel\": {\"namelength\": 0}, \"hovertemplate\": \"Attrition=Yes<br>Gender=Female<br>Department=%{x}<br>Percent=%{text}\", \"legendgroup\": \"Attrition=Yes\", \"marker\": {\"color\": \"#758a99\", \"line\": {\"color\": \"black\", \"width\": 1}, \"opacity\": 0.8}, \"name\": \"Attrition=Yes\", \"offsetgroup\": \"Attrition=Yes\", \"orientation\": \"v\", \"showlegend\": true, \"text\": [30.0, 11.345646437994723, 20.105820105820104], \"textposition\": \"outside\", \"texttemplate\": \"%{text:.3s}%\", \"type\": \"bar\", \"width\": 0.4, \"x\": [\"Human Resources\", \"Research & Development\", \"Sales\"], \"xaxis\": \"x\", \"y\": [30.0, 11.345646437994723, 20.105820105820104], \"yaxis\": \"y\"}, {\"alignmentgroup\": \"True\", \"hoverlabel\": {\"namelength\": 0}, \"hovertemplate\": \"Attrition=Yes<br>Gender=Male<br>Department=%{x}<br>Percent=%{text}\", \"legendgroup\": \"Attrition=Yes\", \"marker\": {\"color\": \"#758a99\", \"line\": {\"color\": \"black\", \"width\": 1}, \"opacity\": 0.8}, \"name\": \"Attrition=Yes\", \"offsetgroup\": \"Attrition=Yes\", \"orientation\": \"v\", \"showlegend\": false, \"text\": [13.953488372093023, 15.463917525773196, 21.011673151750973], \"textposition\": \"outside\", \"texttemplate\": \"%{text:.3s}%\", \"type\": \"bar\", \"width\": 0.4, \"x\": [\"Human Resources\", \"Research & Development\", \"Sales\"], \"xaxis\": \"x2\", \"y\": [13.953488372093023, 15.463917525773196, 21.011673151750973], \"yaxis\": \"y2\"}, {\"alignmentgroup\": \"True\", \"hoverlabel\": {\"namelength\": 0}, \"hovertemplate\": \"Attrition=No<br>Gender=Female<br>Department=%{x}<br>Percent=%{text}\", \"legendgroup\": \"Attrition=No\", \"marker\": {\"color\": \"#66CDAA\", \"line\": {\"color\": \"black\", \"width\": 1}, \"opacity\": 0.8}, \"name\": \"Attrition=No\", \"offsetgroup\": \"Attrition=No\", \"orientation\": \"v\", \"showlegend\": true, \"text\": [70.0, 88.65435356200527, 79.8941798941799], \"textposition\": \"outside\", \"texttemplate\": \"%{text:.3s}%\", \"type\": \"bar\", \"width\": 0.4, \"x\": [\"Human Resources\", \"Research & Development\", \"Sales\"], \"xaxis\": \"x\", \"y\": [70.0, 88.65435356200527, 79.8941798941799], \"yaxis\": \"y\"}, {\"alignmentgroup\": \"True\", \"hoverlabel\": {\"namelength\": 0}, \"hovertemplate\": \"Attrition=No<br>Gender=Male<br>Department=%{x}<br>Percent=%{text}\", \"legendgroup\": \"Attrition=No\", \"marker\": {\"color\": \"#66CDAA\", \"line\": {\"color\": \"black\", \"width\": 1}, \"opacity\": 0.8}, \"name\": \"Attrition=No\", \"offsetgroup\": \"Attrition=No\", \"orientation\": \"v\", \"showlegend\": false, \"text\": [86.04651162790698, 84.5360824742268, 78.98832684824903], \"textposition\": \"outside\", \"texttemplate\": \"%{text:.3s}%\", \"type\": \"bar\", \"width\": 0.4, \"x\": [\"Human Resources\", \"Research & Development\", \"Sales\"], \"xaxis\": \"x2\", \"y\": [86.04651162790698, 84.5360824742268, 78.98832684824903], \"yaxis\": \"y2\"}],\n",
              "                        {\"annotations\": [{\"font\": {}, \"showarrow\": false, \"text\": \"Gender=Female\", \"x\": 0.245, \"xanchor\": \"center\", \"xref\": \"paper\", \"y\": 1.0, \"yanchor\": \"bottom\", \"yref\": \"paper\"}, {\"font\": {}, \"showarrow\": false, \"text\": \"Gender=Male\", \"x\": 0.755, \"xanchor\": \"center\", \"xref\": \"paper\", \"y\": 1.0, \"yanchor\": \"bottom\", \"yref\": \"paper\"}], \"barmode\": \"group\", \"legend\": {\"tracegroupgap\": 0}, \"margin\": {\"t\": 60}, \"template\": {\"data\": {\"bar\": [{\"error_x\": {\"color\": \"#2a3f5f\"}, \"error_y\": {\"color\": \"#2a3f5f\"}, \"marker\": {\"line\": {\"color\": \"white\", \"width\": 0.5}}, \"type\": \"bar\"}], \"barpolar\": [{\"marker\": {\"line\": {\"color\": \"white\", \"width\": 0.5}}, \"type\": \"barpolar\"}], \"carpet\": [{\"aaxis\": {\"endlinecolor\": \"#2a3f5f\", \"gridcolor\": \"#C8D4E3\", \"linecolor\": \"#C8D4E3\", \"minorgridcolor\": \"#C8D4E3\", \"startlinecolor\": \"#2a3f5f\"}, \"baxis\": {\"endlinecolor\": \"#2a3f5f\", \"gridcolor\": \"#C8D4E3\", \"linecolor\": \"#C8D4E3\", \"minorgridcolor\": \"#C8D4E3\", \"startlinecolor\": \"#2a3f5f\"}, \"type\": \"carpet\"}], \"choropleth\": [{\"colorbar\": {\"outlinewidth\": 0, \"ticks\": \"\"}, \"type\": \"choropleth\"}], \"contour\": [{\"colorbar\": {\"outlinewidth\": 0, \"ticks\": \"\"}, \"colorscale\": [[0.0, \"#0d0887\"], [0.1111111111111111, \"#46039f\"], [0.2222222222222222, \"#7201a8\"], [0.3333333333333333, \"#9c179e\"], [0.4444444444444444, \"#bd3786\"], [0.5555555555555556, \"#d8576b\"], [0.6666666666666666, \"#ed7953\"], [0.7777777777777778, \"#fb9f3a\"], [0.8888888888888888, \"#fdca26\"], [1.0, \"#f0f921\"]], \"type\": \"contour\"}], \"contourcarpet\": [{\"colorbar\": {\"outlinewidth\": 0, \"ticks\": \"\"}, \"type\": \"contourcarpet\"}], \"heatmap\": [{\"colorbar\": {\"outlinewidth\": 0, \"ticks\": \"\"}, \"colorscale\": [[0.0, \"#0d0887\"], [0.1111111111111111, \"#46039f\"], [0.2222222222222222, \"#7201a8\"], [0.3333333333333333, \"#9c179e\"], [0.4444444444444444, \"#bd3786\"], [0.5555555555555556, \"#d8576b\"], [0.6666666666666666, \"#ed7953\"], [0.7777777777777778, \"#fb9f3a\"], [0.8888888888888888, \"#fdca26\"], [1.0, \"#f0f921\"]], \"type\": \"heatmap\"}], \"heatmapgl\": [{\"colorbar\": {\"outlinewidth\": 0, \"ticks\": \"\"}, \"colorscale\": [[0.0, \"#0d0887\"], [0.1111111111111111, \"#46039f\"], [0.2222222222222222, \"#7201a8\"], [0.3333333333333333, \"#9c179e\"], [0.4444444444444444, \"#bd3786\"], [0.5555555555555556, \"#d8576b\"], [0.6666666666666666, \"#ed7953\"], [0.7777777777777778, \"#fb9f3a\"], [0.8888888888888888, \"#fdca26\"], [1.0, \"#f0f921\"]], \"type\": \"heatmapgl\"}], \"histogram\": [{\"marker\": {\"colorbar\": {\"outlinewidth\": 0, \"ticks\": \"\"}}, \"type\": \"histogram\"}], \"histogram2d\": [{\"colorbar\": {\"outlinewidth\": 0, \"ticks\": \"\"}, \"colorscale\": [[0.0, \"#0d0887\"], [0.1111111111111111, \"#46039f\"], [0.2222222222222222, \"#7201a8\"], [0.3333333333333333, \"#9c179e\"], [0.4444444444444444, \"#bd3786\"], [0.5555555555555556, \"#d8576b\"], [0.6666666666666666, \"#ed7953\"], [0.7777777777777778, \"#fb9f3a\"], [0.8888888888888888, \"#fdca26\"], [1.0, \"#f0f921\"]], \"type\": \"histogram2d\"}], \"histogram2dcontour\": [{\"colorbar\": {\"outlinewidth\": 0, \"ticks\": \"\"}, \"colorscale\": [[0.0, \"#0d0887\"], [0.1111111111111111, \"#46039f\"], [0.2222222222222222, \"#7201a8\"], [0.3333333333333333, \"#9c179e\"], [0.4444444444444444, \"#bd3786\"], [0.5555555555555556, \"#d8576b\"], [0.6666666666666666, \"#ed7953\"], [0.7777777777777778, \"#fb9f3a\"], [0.8888888888888888, \"#fdca26\"], [1.0, \"#f0f921\"]], \"type\": \"histogram2dcontour\"}], \"mesh3d\": [{\"colorbar\": {\"outlinewidth\": 0, \"ticks\": \"\"}, \"type\": \"mesh3d\"}], \"parcoords\": [{\"line\": {\"colorbar\": {\"outlinewidth\": 0, \"ticks\": \"\"}}, \"type\": \"parcoords\"}], \"pie\": [{\"automargin\": true, \"type\": \"pie\"}], \"scatter\": [{\"marker\": {\"colorbar\": {\"outlinewidth\": 0, \"ticks\": \"\"}}, \"type\": \"scatter\"}], \"scatter3d\": [{\"line\": {\"colorbar\": {\"outlinewidth\": 0, \"ticks\": \"\"}}, \"marker\": {\"colorbar\": {\"outlinewidth\": 0, \"ticks\": \"\"}}, \"type\": \"scatter3d\"}], \"scattercarpet\": [{\"marker\": {\"colorbar\": {\"outlinewidth\": 0, \"ticks\": \"\"}}, \"type\": \"scattercarpet\"}], \"scattergeo\": [{\"marker\": {\"colorbar\": {\"outlinewidth\": 0, \"ticks\": \"\"}}, \"type\": \"scattergeo\"}], \"scattergl\": [{\"marker\": {\"colorbar\": {\"outlinewidth\": 0, \"ticks\": \"\"}}, \"type\": \"scattergl\"}], \"scattermapbox\": [{\"marker\": {\"colorbar\": {\"outlinewidth\": 0, \"ticks\": \"\"}}, \"type\": \"scattermapbox\"}], \"scatterpolar\": [{\"marker\": {\"colorbar\": {\"outlinewidth\": 0, \"ticks\": \"\"}}, \"type\": \"scatterpolar\"}], \"scatterpolargl\": [{\"marker\": {\"colorbar\": {\"outlinewidth\": 0, \"ticks\": \"\"}}, \"type\": \"scatterpolargl\"}], \"scatterternary\": [{\"marker\": {\"colorbar\": {\"outlinewidth\": 0, \"ticks\": \"\"}}, \"type\": \"scatterternary\"}], \"surface\": [{\"colorbar\": {\"outlinewidth\": 0, \"ticks\": \"\"}, \"colorscale\": [[0.0, \"#0d0887\"], [0.1111111111111111, \"#46039f\"], [0.2222222222222222, \"#7201a8\"], [0.3333333333333333, \"#9c179e\"], [0.4444444444444444, \"#bd3786\"], [0.5555555555555556, \"#d8576b\"], [0.6666666666666666, \"#ed7953\"], [0.7777777777777778, \"#fb9f3a\"], [0.8888888888888888, \"#fdca26\"], [1.0, \"#f0f921\"]], \"type\": \"surface\"}], \"table\": [{\"cells\": {\"fill\": {\"color\": \"#EBF0F8\"}, \"line\": {\"color\": \"white\"}}, \"header\": {\"fill\": {\"color\": \"#C8D4E3\"}, \"line\": {\"color\": \"white\"}}, \"type\": \"table\"}]}, \"layout\": {\"annotationdefaults\": {\"arrowcolor\": \"#2a3f5f\", \"arrowhead\": 0, \"arrowwidth\": 1}, \"coloraxis\": {\"colorbar\": {\"outlinewidth\": 0, \"ticks\": \"\"}}, \"colorscale\": {\"diverging\": [[0, \"#8e0152\"], [0.1, \"#c51b7d\"], [0.2, \"#de77ae\"], [0.3, \"#f1b6da\"], [0.4, \"#fde0ef\"], [0.5, \"#f7f7f7\"], [0.6, \"#e6f5d0\"], [0.7, \"#b8e186\"], [0.8, \"#7fbc41\"], [0.9, \"#4d9221\"], [1, \"#276419\"]], \"sequential\": [[0.0, \"#0d0887\"], [0.1111111111111111, \"#46039f\"], [0.2222222222222222, \"#7201a8\"], [0.3333333333333333, \"#9c179e\"], [0.4444444444444444, \"#bd3786\"], [0.5555555555555556, \"#d8576b\"], [0.6666666666666666, \"#ed7953\"], [0.7777777777777778, \"#fb9f3a\"], [0.8888888888888888, \"#fdca26\"], [1.0, \"#f0f921\"]], \"sequentialminus\": [[0.0, \"#0d0887\"], [0.1111111111111111, \"#46039f\"], [0.2222222222222222, \"#7201a8\"], [0.3333333333333333, \"#9c179e\"], [0.4444444444444444, \"#bd3786\"], [0.5555555555555556, \"#d8576b\"], [0.6666666666666666, \"#ed7953\"], [0.7777777777777778, \"#fb9f3a\"], [0.8888888888888888, \"#fdca26\"], [1.0, \"#f0f921\"]]}, \"colorway\": [\"#636efa\", \"#EF553B\", \"#00cc96\", \"#ab63fa\", \"#FFA15A\", \"#19d3f3\", \"#FF6692\", \"#B6E880\", \"#FF97FF\", \"#FECB52\"], \"font\": {\"color\": \"#2a3f5f\"}, \"geo\": {\"bgcolor\": \"white\", \"lakecolor\": \"white\", \"landcolor\": \"white\", \"showlakes\": true, \"showland\": true, \"subunitcolor\": \"#C8D4E3\"}, \"hoverlabel\": {\"align\": \"left\"}, \"hovermode\": \"closest\", \"mapbox\": {\"style\": \"light\"}, \"paper_bgcolor\": \"white\", \"plot_bgcolor\": \"white\", \"polar\": {\"angularaxis\": {\"gridcolor\": \"#EBF0F8\", \"linecolor\": \"#EBF0F8\", \"ticks\": \"\"}, \"bgcolor\": \"white\", \"radialaxis\": {\"gridcolor\": \"#EBF0F8\", \"linecolor\": \"#EBF0F8\", \"ticks\": \"\"}}, \"scene\": {\"xaxis\": {\"backgroundcolor\": \"white\", \"gridcolor\": \"#DFE8F3\", \"gridwidth\": 2, \"linecolor\": \"#EBF0F8\", \"showbackground\": true, \"ticks\": \"\", \"zerolinecolor\": \"#EBF0F8\"}, \"yaxis\": {\"backgroundcolor\": \"white\", \"gridcolor\": \"#DFE8F3\", \"gridwidth\": 2, \"linecolor\": \"#EBF0F8\", \"showbackground\": true, \"ticks\": \"\", \"zerolinecolor\": \"#EBF0F8\"}, \"zaxis\": {\"backgroundcolor\": \"white\", \"gridcolor\": \"#DFE8F3\", \"gridwidth\": 2, \"linecolor\": \"#EBF0F8\", \"showbackground\": true, \"ticks\": \"\", \"zerolinecolor\": \"#EBF0F8\"}}, \"shapedefaults\": {\"line\": {\"color\": \"#2a3f5f\"}}, \"ternary\": {\"aaxis\": {\"gridcolor\": \"#DFE8F3\", \"linecolor\": \"#A2B1C6\", \"ticks\": \"\"}, \"baxis\": {\"gridcolor\": \"#DFE8F3\", \"linecolor\": \"#A2B1C6\", \"ticks\": \"\"}, \"bgcolor\": \"white\", \"caxis\": {\"gridcolor\": \"#DFE8F3\", \"linecolor\": \"#A2B1C6\", \"ticks\": \"\"}}, \"title\": {\"x\": 0.05}, \"xaxis\": {\"automargin\": true, \"gridcolor\": \"#EBF0F8\", \"linecolor\": \"#EBF0F8\", \"ticks\": \"\", \"title\": {\"standoff\": 15}, \"zerolinecolor\": \"#EBF0F8\", \"zerolinewidth\": 2}, \"yaxis\": {\"automargin\": true, \"gridcolor\": \"#EBF0F8\", \"linecolor\": \"#EBF0F8\", \"ticks\": \"\", \"title\": {\"standoff\": 15}, \"zerolinecolor\": \"#EBF0F8\", \"zerolinewidth\": 2}}}, \"title\": {\"text\": \"Attrition Rates by Department and Gender\"}, \"xaxis\": {\"anchor\": \"y\", \"domain\": [0.0, 0.49], \"showticklabels\": true, \"title\": {\"text\": \"Department\"}}, \"xaxis2\": {\"anchor\": \"y2\", \"domain\": [0.51, 1.0], \"matches\": \"x\", \"showticklabels\": true, \"title\": {\"text\": \"Department\"}}, \"yaxis\": {\"anchor\": \"x\", \"domain\": [0.0, 1.0], \"ticksuffix\": \"%\", \"title\": {\"text\": \"\"}, \"zeroline\": true, \"zerolinecolor\": \"#f9f9f1\", \"zerolinewidth\": 1}, \"yaxis2\": {\"anchor\": \"x2\", \"domain\": [0.0, 1.0], \"matches\": \"y\", \"showticklabels\": false, \"title\": {\"text\": \"\"}, \"zeroline\": true, \"zerolinecolor\": \"#f9f9f1\", \"zerolinewidth\": 1}},\n",
              "                        {\"responsive\": true}\n",
              "                    ).then(function(){\n",
              "                            \n",
              "var gd = document.getElementById('a3b6f66c-ea5f-4017-a139-25e30b7bbf27');\n",
              "var x = new MutationObserver(function (mutations, observer) {{\n",
              "        var display = window.getComputedStyle(gd).display;\n",
              "        if (!display || display === 'none') {{\n",
              "            console.log([gd, 'removed!']);\n",
              "            Plotly.purge(gd);\n",
              "            observer.disconnect();\n",
              "        }}\n",
              "}});\n",
              "\n",
              "// Listen for the removal of the full notebook cells\n",
              "var notebookContainer = gd.closest('#notebook-container');\n",
              "if (notebookContainer) {{\n",
              "    x.observe(notebookContainer, {childList: true});\n",
              "}}\n",
              "\n",
              "// Listen for the clearing of the current output cell\n",
              "var outputEl = gd.closest('.output');\n",
              "if (outputEl) {{\n",
              "    x.observe(outputEl, {childList: true});\n",
              "}}\n",
              "\n",
              "                        })\n",
              "                };\n",
              "                \n",
              "            </script>\n",
              "        </div>\n",
              "</body>\n",
              "</html>"
            ]
          },
          "metadata": {}
        }
      ]
    },
    {
      "cell_type": "markdown",
      "source": [
        "## Attrition Rate by Gender & Job involvement"
      ],
      "metadata": {
        "id": "DgaLFrr-ChcV"
      }
    },
    {
      "cell_type": "code",
      "source": [
        "Gender_Depart_Disparity = employee.groupby(['Gender','Department'])['JobInvolvement'].value_counts(normalize=True).sort_values(ascending=True)\n",
        "print(Gender_Depart_Disparity)"
      ],
      "metadata": {
        "colab": {
          "base_uri": "https://localhost:8080/"
        },
        "id": "CbSU29z73obC",
        "outputId": "3633ec5f-c537-42ed-9892-979b00c6782f"
      },
      "execution_count": null,
      "outputs": [
        {
          "output_type": "stream",
          "name": "stdout",
          "text": [
            "Gender  Department              JobInvolvement\n",
            "Male    Human Resources         Low               0.046512\n",
            "Female  Research & Development  Low               0.047493\n",
            "        Human Resources         Low               0.050000\n",
            "Male    Research & Development  Low               0.056701\n",
            "Female  Sales                   Low               0.063492\n",
            "Male    Sales                   Low               0.066148\n",
            "Female  Sales                   Very High         0.068783\n",
            "Male    Sales                   Very High         0.085603\n",
            "        Human Resources         Very High         0.093023\n",
            "Female  Research & Development  Very High         0.097625\n",
            "Male    Research & Development  Very High         0.111684\n",
            "Female  Human Resources         Very High         0.150000\n",
            "Male    Sales                   Medium            0.241245\n",
            "        Research & Development  Medium            0.243986\n",
            "Female  Human Resources         Medium            0.250000\n",
            "        Sales                   Medium            0.253968\n",
            "Male    Human Resources         Medium            0.279070\n",
            "Female  Research & Development  Medium            0.279683\n",
            "        Human Resources         High              0.550000\n",
            "        Research & Development  High              0.575198\n",
            "Male    Human Resources         High              0.581395\n",
            "        Research & Development  High              0.587629\n",
            "        Sales                   High              0.607004\n",
            "Female  Sales                   High              0.613757\n",
            "Name: JobInvolvement, dtype: float64\n"
          ]
        }
      ]
    },
    {
      "cell_type": "code",
      "source": [
        "employee.JobInvolvement.replace({1: 'Low',\n",
        "                       2:'Medium',\n",
        "                       3:'High',\n",
        "                       4:'Very High'},inplace=True)\n",
        "attrition_cate_job = employee.groupby(['Gender','JobInvolvement'])['Attrition'].value_counts(normalize=True)\n",
        "print(attrition_cate_job)\n",
        "attrition_cate = attrition_cate_job .mul(100).rename('Percent').reset_index()\n",
        "fig = px.bar(attrition_cate, x=\"JobInvolvement\", y=\"Percent\", color=\"Attrition\", barmode=\"group\",\n",
        "            text='Percent', opacity=.80, facet_col=\"Gender\", category_orders={'Attrition': ['Yes', 'No']},\n",
        "             template='plotly_white',color_discrete_map={'Yes': '#758a99','No': '#48c0a3'}) \n",
        "fig.update_traces(texttemplate='%{text:.3s}%', textposition='outside',\n",
        "                  marker_line=dict(width=1, color='black'),  width=.4)\n",
        "fig.update_layout(title_text='Attrition Rates by JobInvolvement and Gender', yaxis_ticksuffix = '%')\n",
        "fig.update_xaxes(showticklabels=True)\n",
        "fig.update_yaxes(title = \"\", zeroline=True, zerolinewidth=1, zerolinecolor='#f9f9f1')\n",
        "fig.show()"
      ],
      "metadata": {
        "colab": {
          "base_uri": "https://localhost:8080/",
          "height": 848
        },
        "id": "hxDTjL-C9lpd",
        "outputId": "36824b1c-bbe1-42cd-fb0c-394f5296df1d"
      },
      "execution_count": null,
      "outputs": [
        {
          "output_type": "stream",
          "name": "stdout",
          "text": [
            "Gender  JobInvolvement  Attrition\n",
            "Female  High            No           0.866667\n",
            "                        Yes          0.133333\n",
            "        Low             No           0.612903\n",
            "                        Yes          0.387097\n",
            "        Medium          No           0.855346\n",
            "                        Yes          0.144654\n",
            "        Very High       No           0.886792\n",
            "                        Yes          0.113208\n",
            "Male    High            No           0.848948\n",
            "                        Yes          0.151052\n",
            "        Low             No           0.692308\n",
            "                        Yes          0.307692\n",
            "        Medium          No           0.777778\n",
            "                        Yes          0.222222\n",
            "        Very High       No           0.923077\n",
            "                        Yes          0.076923\n",
            "Name: Attrition, dtype: float64\n"
          ]
        },
        {
          "output_type": "display_data",
          "data": {
            "text/html": [
              "<html>\n",
              "<head><meta charset=\"utf-8\" /></head>\n",
              "<body>\n",
              "    <div>\n",
              "            <script src=\"https://cdnjs.cloudflare.com/ajax/libs/mathjax/2.7.5/MathJax.js?config=TeX-AMS-MML_SVG\"></script><script type=\"text/javascript\">if (window.MathJax) {MathJax.Hub.Config({SVG: {font: \"STIX-Web\"}});}</script>\n",
              "                <script type=\"text/javascript\">window.PlotlyConfig = {MathJaxConfig: 'local'};</script>\n",
              "        <script src=\"https://cdn.plot.ly/plotly-latest.min.js\"></script>    \n",
              "            <div id=\"7313bb8c-4db3-4ceb-8398-a94559cfd947\" class=\"plotly-graph-div\" style=\"height:525px; width:100%;\"></div>\n",
              "            <script type=\"text/javascript\">\n",
              "                \n",
              "                    window.PLOTLYENV=window.PLOTLYENV || {};\n",
              "                    \n",
              "                if (document.getElementById(\"7313bb8c-4db3-4ceb-8398-a94559cfd947\")) {\n",
              "                    Plotly.newPlot(\n",
              "                        '7313bb8c-4db3-4ceb-8398-a94559cfd947',\n",
              "                        [{\"alignmentgroup\": \"True\", \"hoverlabel\": {\"namelength\": 0}, \"hovertemplate\": \"Attrition=Yes<br>Gender=Female<br>JobInvolvement=%{x}<br>Percent=%{text}\", \"legendgroup\": \"Attrition=Yes\", \"marker\": {\"color\": \"#758a99\", \"line\": {\"color\": \"black\", \"width\": 1}, \"opacity\": 0.8}, \"name\": \"Attrition=Yes\", \"offsetgroup\": \"Attrition=Yes\", \"orientation\": \"v\", \"showlegend\": true, \"text\": [13.333333333333334, 38.70967741935484, 14.465408805031446, 11.320754716981133], \"textposition\": \"outside\", \"texttemplate\": \"%{text:.3s}%\", \"type\": \"bar\", \"width\": 0.4, \"x\": [\"High\", \"Low\", \"Medium\", \"Very High\"], \"xaxis\": \"x\", \"y\": [13.333333333333334, 38.70967741935484, 14.465408805031446, 11.320754716981133], \"yaxis\": \"y\"}, {\"alignmentgroup\": \"True\", \"hoverlabel\": {\"namelength\": 0}, \"hovertemplate\": \"Attrition=Yes<br>Gender=Male<br>JobInvolvement=%{x}<br>Percent=%{text}\", \"legendgroup\": \"Attrition=Yes\", \"marker\": {\"color\": \"#758a99\", \"line\": {\"color\": \"black\", \"width\": 1}, \"opacity\": 0.8}, \"name\": \"Attrition=Yes\", \"offsetgroup\": \"Attrition=Yes\", \"orientation\": \"v\", \"showlegend\": false, \"text\": [15.105162523900573, 30.76923076923077, 22.22222222222222, 7.6923076923076925], \"textposition\": \"outside\", \"texttemplate\": \"%{text:.3s}%\", \"type\": \"bar\", \"width\": 0.4, \"x\": [\"High\", \"Low\", \"Medium\", \"Very High\"], \"xaxis\": \"x2\", \"y\": [15.105162523900573, 30.76923076923077, 22.22222222222222, 7.6923076923076925], \"yaxis\": \"y2\"}, {\"alignmentgroup\": \"True\", \"hoverlabel\": {\"namelength\": 0}, \"hovertemplate\": \"Attrition=No<br>Gender=Female<br>JobInvolvement=%{x}<br>Percent=%{text}\", \"legendgroup\": \"Attrition=No\", \"marker\": {\"color\": \"#48c0a3\", \"line\": {\"color\": \"black\", \"width\": 1}, \"opacity\": 0.8}, \"name\": \"Attrition=No\", \"offsetgroup\": \"Attrition=No\", \"orientation\": \"v\", \"showlegend\": true, \"text\": [86.66666666666667, 61.29032258064516, 85.53459119496856, 88.67924528301887], \"textposition\": \"outside\", \"texttemplate\": \"%{text:.3s}%\", \"type\": \"bar\", \"width\": 0.4, \"x\": [\"High\", \"Low\", \"Medium\", \"Very High\"], \"xaxis\": \"x\", \"y\": [86.66666666666667, 61.29032258064516, 85.53459119496856, 88.67924528301887], \"yaxis\": \"y\"}, {\"alignmentgroup\": \"True\", \"hoverlabel\": {\"namelength\": 0}, \"hovertemplate\": \"Attrition=No<br>Gender=Male<br>JobInvolvement=%{x}<br>Percent=%{text}\", \"legendgroup\": \"Attrition=No\", \"marker\": {\"color\": \"#48c0a3\", \"line\": {\"color\": \"black\", \"width\": 1}, \"opacity\": 0.8}, \"name\": \"Attrition=No\", \"offsetgroup\": \"Attrition=No\", \"orientation\": \"v\", \"showlegend\": false, \"text\": [84.89483747609943, 69.23076923076923, 77.77777777777779, 92.3076923076923], \"textposition\": \"outside\", \"texttemplate\": \"%{text:.3s}%\", \"type\": \"bar\", \"width\": 0.4, \"x\": [\"High\", \"Low\", \"Medium\", \"Very High\"], \"xaxis\": \"x2\", \"y\": [84.89483747609943, 69.23076923076923, 77.77777777777779, 92.3076923076923], \"yaxis\": \"y2\"}],\n",
              "                        {\"annotations\": [{\"font\": {}, \"showarrow\": false, \"text\": \"Gender=Female\", \"x\": 0.245, \"xanchor\": \"center\", \"xref\": \"paper\", \"y\": 1.0, \"yanchor\": \"bottom\", \"yref\": \"paper\"}, {\"font\": {}, \"showarrow\": false, \"text\": \"Gender=Male\", \"x\": 0.755, \"xanchor\": \"center\", \"xref\": \"paper\", \"y\": 1.0, \"yanchor\": \"bottom\", \"yref\": \"paper\"}], \"barmode\": \"group\", \"legend\": {\"tracegroupgap\": 0}, \"margin\": {\"t\": 60}, \"template\": {\"data\": {\"bar\": [{\"error_x\": {\"color\": \"#2a3f5f\"}, \"error_y\": {\"color\": \"#2a3f5f\"}, \"marker\": {\"line\": {\"color\": \"white\", \"width\": 0.5}}, \"type\": \"bar\"}], \"barpolar\": [{\"marker\": {\"line\": {\"color\": \"white\", \"width\": 0.5}}, \"type\": \"barpolar\"}], \"carpet\": [{\"aaxis\": {\"endlinecolor\": \"#2a3f5f\", \"gridcolor\": \"#C8D4E3\", \"linecolor\": \"#C8D4E3\", \"minorgridcolor\": \"#C8D4E3\", \"startlinecolor\": \"#2a3f5f\"}, \"baxis\": {\"endlinecolor\": \"#2a3f5f\", \"gridcolor\": \"#C8D4E3\", \"linecolor\": \"#C8D4E3\", \"minorgridcolor\": \"#C8D4E3\", \"startlinecolor\": \"#2a3f5f\"}, \"type\": \"carpet\"}], \"choropleth\": [{\"colorbar\": {\"outlinewidth\": 0, \"ticks\": \"\"}, \"type\": \"choropleth\"}], \"contour\": [{\"colorbar\": {\"outlinewidth\": 0, \"ticks\": \"\"}, \"colorscale\": [[0.0, \"#0d0887\"], [0.1111111111111111, \"#46039f\"], [0.2222222222222222, \"#7201a8\"], [0.3333333333333333, \"#9c179e\"], [0.4444444444444444, \"#bd3786\"], [0.5555555555555556, \"#d8576b\"], [0.6666666666666666, \"#ed7953\"], [0.7777777777777778, \"#fb9f3a\"], [0.8888888888888888, \"#fdca26\"], [1.0, \"#f0f921\"]], \"type\": \"contour\"}], \"contourcarpet\": [{\"colorbar\": {\"outlinewidth\": 0, \"ticks\": \"\"}, \"type\": \"contourcarpet\"}], \"heatmap\": [{\"colorbar\": {\"outlinewidth\": 0, \"ticks\": \"\"}, \"colorscale\": [[0.0, \"#0d0887\"], [0.1111111111111111, \"#46039f\"], [0.2222222222222222, \"#7201a8\"], [0.3333333333333333, \"#9c179e\"], [0.4444444444444444, \"#bd3786\"], [0.5555555555555556, \"#d8576b\"], [0.6666666666666666, \"#ed7953\"], [0.7777777777777778, \"#fb9f3a\"], [0.8888888888888888, \"#fdca26\"], [1.0, \"#f0f921\"]], \"type\": \"heatmap\"}], \"heatmapgl\": [{\"colorbar\": {\"outlinewidth\": 0, \"ticks\": \"\"}, \"colorscale\": [[0.0, \"#0d0887\"], [0.1111111111111111, \"#46039f\"], [0.2222222222222222, \"#7201a8\"], [0.3333333333333333, \"#9c179e\"], [0.4444444444444444, \"#bd3786\"], [0.5555555555555556, \"#d8576b\"], [0.6666666666666666, \"#ed7953\"], [0.7777777777777778, \"#fb9f3a\"], [0.8888888888888888, \"#fdca26\"], [1.0, \"#f0f921\"]], \"type\": \"heatmapgl\"}], \"histogram\": [{\"marker\": {\"colorbar\": {\"outlinewidth\": 0, \"ticks\": \"\"}}, \"type\": \"histogram\"}], \"histogram2d\": [{\"colorbar\": {\"outlinewidth\": 0, \"ticks\": \"\"}, \"colorscale\": [[0.0, \"#0d0887\"], [0.1111111111111111, \"#46039f\"], [0.2222222222222222, \"#7201a8\"], [0.3333333333333333, \"#9c179e\"], [0.4444444444444444, \"#bd3786\"], [0.5555555555555556, \"#d8576b\"], [0.6666666666666666, \"#ed7953\"], [0.7777777777777778, \"#fb9f3a\"], [0.8888888888888888, \"#fdca26\"], [1.0, \"#f0f921\"]], \"type\": \"histogram2d\"}], \"histogram2dcontour\": [{\"colorbar\": {\"outlinewidth\": 0, \"ticks\": \"\"}, \"colorscale\": [[0.0, \"#0d0887\"], [0.1111111111111111, \"#46039f\"], [0.2222222222222222, \"#7201a8\"], [0.3333333333333333, \"#9c179e\"], [0.4444444444444444, \"#bd3786\"], [0.5555555555555556, \"#d8576b\"], [0.6666666666666666, \"#ed7953\"], [0.7777777777777778, \"#fb9f3a\"], [0.8888888888888888, \"#fdca26\"], [1.0, \"#f0f921\"]], \"type\": \"histogram2dcontour\"}], \"mesh3d\": [{\"colorbar\": {\"outlinewidth\": 0, \"ticks\": \"\"}, \"type\": \"mesh3d\"}], \"parcoords\": [{\"line\": {\"colorbar\": {\"outlinewidth\": 0, \"ticks\": \"\"}}, \"type\": \"parcoords\"}], \"pie\": [{\"automargin\": true, \"type\": \"pie\"}], \"scatter\": [{\"marker\": {\"colorbar\": {\"outlinewidth\": 0, \"ticks\": \"\"}}, \"type\": \"scatter\"}], \"scatter3d\": [{\"line\": {\"colorbar\": {\"outlinewidth\": 0, \"ticks\": \"\"}}, \"marker\": {\"colorbar\": {\"outlinewidth\": 0, \"ticks\": \"\"}}, \"type\": \"scatter3d\"}], \"scattercarpet\": [{\"marker\": {\"colorbar\": {\"outlinewidth\": 0, \"ticks\": \"\"}}, \"type\": \"scattercarpet\"}], \"scattergeo\": [{\"marker\": {\"colorbar\": {\"outlinewidth\": 0, \"ticks\": \"\"}}, \"type\": \"scattergeo\"}], \"scattergl\": [{\"marker\": {\"colorbar\": {\"outlinewidth\": 0, \"ticks\": \"\"}}, \"type\": \"scattergl\"}], \"scattermapbox\": [{\"marker\": {\"colorbar\": {\"outlinewidth\": 0, \"ticks\": \"\"}}, \"type\": \"scattermapbox\"}], \"scatterpolar\": [{\"marker\": {\"colorbar\": {\"outlinewidth\": 0, \"ticks\": \"\"}}, \"type\": \"scatterpolar\"}], \"scatterpolargl\": [{\"marker\": {\"colorbar\": {\"outlinewidth\": 0, \"ticks\": \"\"}}, \"type\": \"scatterpolargl\"}], \"scatterternary\": [{\"marker\": {\"colorbar\": {\"outlinewidth\": 0, \"ticks\": \"\"}}, \"type\": \"scatterternary\"}], \"surface\": [{\"colorbar\": {\"outlinewidth\": 0, \"ticks\": \"\"}, \"colorscale\": [[0.0, \"#0d0887\"], [0.1111111111111111, \"#46039f\"], [0.2222222222222222, \"#7201a8\"], [0.3333333333333333, \"#9c179e\"], [0.4444444444444444, \"#bd3786\"], [0.5555555555555556, \"#d8576b\"], [0.6666666666666666, \"#ed7953\"], [0.7777777777777778, \"#fb9f3a\"], [0.8888888888888888, \"#fdca26\"], [1.0, \"#f0f921\"]], \"type\": \"surface\"}], \"table\": [{\"cells\": {\"fill\": {\"color\": \"#EBF0F8\"}, \"line\": {\"color\": \"white\"}}, \"header\": {\"fill\": {\"color\": \"#C8D4E3\"}, \"line\": {\"color\": \"white\"}}, \"type\": \"table\"}]}, \"layout\": {\"annotationdefaults\": {\"arrowcolor\": \"#2a3f5f\", \"arrowhead\": 0, \"arrowwidth\": 1}, \"coloraxis\": {\"colorbar\": {\"outlinewidth\": 0, \"ticks\": \"\"}}, \"colorscale\": {\"diverging\": [[0, \"#8e0152\"], [0.1, \"#c51b7d\"], [0.2, \"#de77ae\"], [0.3, \"#f1b6da\"], [0.4, \"#fde0ef\"], [0.5, \"#f7f7f7\"], [0.6, \"#e6f5d0\"], [0.7, \"#b8e186\"], [0.8, \"#7fbc41\"], [0.9, \"#4d9221\"], [1, \"#276419\"]], \"sequential\": [[0.0, \"#0d0887\"], [0.1111111111111111, \"#46039f\"], [0.2222222222222222, \"#7201a8\"], [0.3333333333333333, \"#9c179e\"], [0.4444444444444444, \"#bd3786\"], [0.5555555555555556, \"#d8576b\"], [0.6666666666666666, \"#ed7953\"], [0.7777777777777778, \"#fb9f3a\"], [0.8888888888888888, \"#fdca26\"], [1.0, \"#f0f921\"]], \"sequentialminus\": [[0.0, \"#0d0887\"], [0.1111111111111111, \"#46039f\"], [0.2222222222222222, \"#7201a8\"], [0.3333333333333333, \"#9c179e\"], [0.4444444444444444, \"#bd3786\"], [0.5555555555555556, \"#d8576b\"], [0.6666666666666666, \"#ed7953\"], [0.7777777777777778, \"#fb9f3a\"], [0.8888888888888888, \"#fdca26\"], [1.0, \"#f0f921\"]]}, \"colorway\": [\"#636efa\", \"#EF553B\", \"#00cc96\", \"#ab63fa\", \"#FFA15A\", \"#19d3f3\", \"#FF6692\", \"#B6E880\", \"#FF97FF\", \"#FECB52\"], \"font\": {\"color\": \"#2a3f5f\"}, \"geo\": {\"bgcolor\": \"white\", \"lakecolor\": \"white\", \"landcolor\": \"white\", \"showlakes\": true, \"showland\": true, \"subunitcolor\": \"#C8D4E3\"}, \"hoverlabel\": {\"align\": \"left\"}, \"hovermode\": \"closest\", \"mapbox\": {\"style\": \"light\"}, \"paper_bgcolor\": \"white\", \"plot_bgcolor\": \"white\", \"polar\": {\"angularaxis\": {\"gridcolor\": \"#EBF0F8\", \"linecolor\": \"#EBF0F8\", \"ticks\": \"\"}, \"bgcolor\": \"white\", \"radialaxis\": {\"gridcolor\": \"#EBF0F8\", \"linecolor\": \"#EBF0F8\", \"ticks\": \"\"}}, \"scene\": {\"xaxis\": {\"backgroundcolor\": \"white\", \"gridcolor\": \"#DFE8F3\", \"gridwidth\": 2, \"linecolor\": \"#EBF0F8\", \"showbackground\": true, \"ticks\": \"\", \"zerolinecolor\": \"#EBF0F8\"}, \"yaxis\": {\"backgroundcolor\": \"white\", \"gridcolor\": \"#DFE8F3\", \"gridwidth\": 2, \"linecolor\": \"#EBF0F8\", \"showbackground\": true, \"ticks\": \"\", \"zerolinecolor\": \"#EBF0F8\"}, \"zaxis\": {\"backgroundcolor\": \"white\", \"gridcolor\": \"#DFE8F3\", \"gridwidth\": 2, \"linecolor\": \"#EBF0F8\", \"showbackground\": true, \"ticks\": \"\", \"zerolinecolor\": \"#EBF0F8\"}}, \"shapedefaults\": {\"line\": {\"color\": \"#2a3f5f\"}}, \"ternary\": {\"aaxis\": {\"gridcolor\": \"#DFE8F3\", \"linecolor\": \"#A2B1C6\", \"ticks\": \"\"}, \"baxis\": {\"gridcolor\": \"#DFE8F3\", \"linecolor\": \"#A2B1C6\", \"ticks\": \"\"}, \"bgcolor\": \"white\", \"caxis\": {\"gridcolor\": \"#DFE8F3\", \"linecolor\": \"#A2B1C6\", \"ticks\": \"\"}}, \"title\": {\"x\": 0.05}, \"xaxis\": {\"automargin\": true, \"gridcolor\": \"#EBF0F8\", \"linecolor\": \"#EBF0F8\", \"ticks\": \"\", \"title\": {\"standoff\": 15}, \"zerolinecolor\": \"#EBF0F8\", \"zerolinewidth\": 2}, \"yaxis\": {\"automargin\": true, \"gridcolor\": \"#EBF0F8\", \"linecolor\": \"#EBF0F8\", \"ticks\": \"\", \"title\": {\"standoff\": 15}, \"zerolinecolor\": \"#EBF0F8\", \"zerolinewidth\": 2}}}, \"title\": {\"text\": \"Attrition Rates by JobInvolvement and Gender\"}, \"xaxis\": {\"anchor\": \"y\", \"domain\": [0.0, 0.49], \"showticklabels\": true, \"title\": {\"text\": \"JobInvolvement\"}}, \"xaxis2\": {\"anchor\": \"y2\", \"domain\": [0.51, 1.0], \"matches\": \"x\", \"showticklabels\": true, \"title\": {\"text\": \"JobInvolvement\"}}, \"yaxis\": {\"anchor\": \"x\", \"domain\": [0.0, 1.0], \"ticksuffix\": \"%\", \"title\": {\"text\": \"\"}, \"zeroline\": true, \"zerolinecolor\": \"#f9f9f1\", \"zerolinewidth\": 1}, \"yaxis2\": {\"anchor\": \"x2\", \"domain\": [0.0, 1.0], \"matches\": \"y\", \"showticklabels\": false, \"title\": {\"text\": \"\"}, \"zeroline\": true, \"zerolinecolor\": \"#f9f9f1\", \"zerolinewidth\": 1}},\n",
              "                        {\"responsive\": true}\n",
              "                    ).then(function(){\n",
              "                            \n",
              "var gd = document.getElementById('7313bb8c-4db3-4ceb-8398-a94559cfd947');\n",
              "var x = new MutationObserver(function (mutations, observer) {{\n",
              "        var display = window.getComputedStyle(gd).display;\n",
              "        if (!display || display === 'none') {{\n",
              "            console.log([gd, 'removed!']);\n",
              "            Plotly.purge(gd);\n",
              "            observer.disconnect();\n",
              "        }}\n",
              "}});\n",
              "\n",
              "// Listen for the removal of the full notebook cells\n",
              "var notebookContainer = gd.closest('#notebook-container');\n",
              "if (notebookContainer) {{\n",
              "    x.observe(notebookContainer, {childList: true});\n",
              "}}\n",
              "\n",
              "// Listen for the clearing of the current output cell\n",
              "var outputEl = gd.closest('.output');\n",
              "if (outputEl) {{\n",
              "    x.observe(outputEl, {childList: true});\n",
              "}}\n",
              "\n",
              "                        })\n",
              "                };\n",
              "                \n",
              "            </script>\n",
              "        </div>\n",
              "</body>\n",
              "</html>"
            ]
          },
          "metadata": {}
        }
      ]
    },
    {
      "cell_type": "code",
      "source": [
        "Gender_Depart_Disparity_1 = employee.groupby(['Gender','JobRole'])['MonthlyIncome'].mean()\n",
        "print(Gender_Depart_Disparity_1)\n",
        "Gender_Depart_Disparity_2 = employee.groupby(['Gender','Department'])['MonthlyIncome'].mean()\n",
        "print(Gender_Depart_Disparity_2)"
      ],
      "metadata": {
        "colab": {
          "base_uri": "https://localhost:8080/"
        },
        "id": "425p9af_5tQR",
        "outputId": "35d0bb32-6e1e-4c8e-8b41-119de5649d03"
      },
      "execution_count": null,
      "outputs": [
        {
          "output_type": "stream",
          "name": "stdout",
          "text": [
            "Gender  JobRole                  \n",
            "Female  Healthcare Representative     7433.803922\n",
            "        Human Resources               4540.687500\n",
            "        Laboratory Technician         3246.905882\n",
            "        Manager                      16915.276596\n",
            "        Manufacturing Director        7409.166667\n",
            "        Research Director            15144.484848\n",
            "        Research Scientist            3344.473684\n",
            "        Sales Executive               6764.310606\n",
            "        Sales Representative          2671.947368\n",
            "Male    Healthcare Representative     7589.300000\n",
            "        Human Resources               4100.222222\n",
            "        Laboratory Technician         3232.413793\n",
            "        Manager                      17409.327273\n",
            "        Manufacturing Director        7182.671233\n",
            "        Research Director            16657.787234\n",
            "        Research Scientist            3173.044944\n",
            "        Sales Executive               7033.123711\n",
            "        Sales Representative          2587.200000\n",
            "Name: MonthlyIncome, dtype: float64\n",
            "Gender  Department            \n",
            "Female  Human Resources           7264.000000\n",
            "        Research & Development    6513.691293\n",
            "        Sales                     6972.126984\n",
            "Male    Human Resources           6371.023256\n",
            "        Research & Development    6129.888316\n",
            "        Sales                     6949.645914\n",
            "Name: MonthlyIncome, dtype: float64\n"
          ]
        }
      ]
    },
    {
      "cell_type": "markdown",
      "source": [
        "## OverTime Rates by Department & Gender"
      ],
      "metadata": {
        "id": "olbcqN3PCzES"
      }
    },
    {
      "cell_type": "code",
      "source": [
        "import plotly.express as px\n",
        "import plotly.graph_objects as go\n",
        "Overtime = employee.groupby(['Gender','Department'])['OverTime'].value_counts(normalize=True)\n",
        "print(Overtime)\n",
        "Overtime = Overtime .mul(100).rename('Percent').reset_index()\n",
        "fig = px.bar(Overtime, x=\"Department\", y=\"Percent\", color=\"OverTime\", barmode=\"group\",\n",
        "            text='Percent', opacity=.80, facet_col=\"Gender\", category_orders={'OverTime': ['Yes', 'No']},\n",
        "             template='plotly_white',color_discrete_map={'Yes': '#758a99','No': '#48c0a3'}) \n",
        "fig.update_traces(texttemplate='%{text:.3s}%', textposition='outside',\n",
        "                  marker_line=dict(width=1, color='black'),  width=.4)\n",
        "fig.update_layout(title_text='OverTime Rates by Department and Gender', yaxis_ticksuffix = '%')\n",
        "fig.update_xaxes(showticklabels=True)\n",
        "fig.update_yaxes(title = \"\", zeroline=True, zerolinewidth=1, zerolinecolor='#f9f9f1')\n",
        "fig.show()"
      ],
      "metadata": {
        "colab": {
          "base_uri": "https://localhost:8080/",
          "height": 780
        },
        "id": "89mR_j5s5-d8",
        "outputId": "2244b97f-75ed-435f-f1da-3801117e5772"
      },
      "execution_count": null,
      "outputs": [
        {
          "output_type": "stream",
          "name": "stdout",
          "text": [
            "Gender  Department              OverTime\n",
            "Female  Human Resources         No          0.700000\n",
            "                                Yes         0.300000\n",
            "        Research & Development  No          0.704485\n",
            "                                Yes         0.295515\n",
            "        Sales                   No          0.671958\n",
            "                                Yes         0.328042\n",
            "Male    Human Resources         No          0.744186\n",
            "                                Yes         0.255814\n",
            "        Research & Development  No          0.726804\n",
            "                                Yes         0.273196\n",
            "        Sales                   No          0.743191\n",
            "                                Yes         0.256809\n",
            "Name: OverTime, dtype: float64\n"
          ]
        },
        {
          "output_type": "display_data",
          "data": {
            "text/html": [
              "<html>\n",
              "<head><meta charset=\"utf-8\" /></head>\n",
              "<body>\n",
              "    <div>\n",
              "            <script src=\"https://cdnjs.cloudflare.com/ajax/libs/mathjax/2.7.5/MathJax.js?config=TeX-AMS-MML_SVG\"></script><script type=\"text/javascript\">if (window.MathJax) {MathJax.Hub.Config({SVG: {font: \"STIX-Web\"}});}</script>\n",
              "                <script type=\"text/javascript\">window.PlotlyConfig = {MathJaxConfig: 'local'};</script>\n",
              "        <script src=\"https://cdn.plot.ly/plotly-latest.min.js\"></script>    \n",
              "            <div id=\"44baed45-0c45-41b8-8b7d-b253d2f98f93\" class=\"plotly-graph-div\" style=\"height:525px; width:100%;\"></div>\n",
              "            <script type=\"text/javascript\">\n",
              "                \n",
              "                    window.PLOTLYENV=window.PLOTLYENV || {};\n",
              "                    \n",
              "                if (document.getElementById(\"44baed45-0c45-41b8-8b7d-b253d2f98f93\")) {\n",
              "                    Plotly.newPlot(\n",
              "                        '44baed45-0c45-41b8-8b7d-b253d2f98f93',\n",
              "                        [{\"alignmentgroup\": \"True\", \"hoverlabel\": {\"namelength\": 0}, \"hovertemplate\": \"OverTime=Yes<br>Gender=Female<br>Department=%{x}<br>Percent=%{text}\", \"legendgroup\": \"OverTime=Yes\", \"marker\": {\"color\": \"#758a99\", \"line\": {\"color\": \"black\", \"width\": 1}, \"opacity\": 0.8}, \"name\": \"OverTime=Yes\", \"offsetgroup\": \"OverTime=Yes\", \"orientation\": \"v\", \"showlegend\": true, \"text\": [30.0, 29.551451187335093, 32.804232804232804], \"textposition\": \"outside\", \"texttemplate\": \"%{text:.3s}%\", \"type\": \"bar\", \"width\": 0.4, \"x\": [\"Human Resources\", \"Research & Development\", \"Sales\"], \"xaxis\": \"x\", \"y\": [30.0, 29.551451187335093, 32.804232804232804], \"yaxis\": \"y\"}, {\"alignmentgroup\": \"True\", \"hoverlabel\": {\"namelength\": 0}, \"hovertemplate\": \"OverTime=Yes<br>Gender=Male<br>Department=%{x}<br>Percent=%{text}\", \"legendgroup\": \"OverTime=Yes\", \"marker\": {\"color\": \"#758a99\", \"line\": {\"color\": \"black\", \"width\": 1}, \"opacity\": 0.8}, \"name\": \"OverTime=Yes\", \"offsetgroup\": \"OverTime=Yes\", \"orientation\": \"v\", \"showlegend\": false, \"text\": [25.581395348837212, 27.31958762886598, 25.680933852140075], \"textposition\": \"outside\", \"texttemplate\": \"%{text:.3s}%\", \"type\": \"bar\", \"width\": 0.4, \"x\": [\"Human Resources\", \"Research & Development\", \"Sales\"], \"xaxis\": \"x2\", \"y\": [25.581395348837212, 27.31958762886598, 25.680933852140075], \"yaxis\": \"y2\"}, {\"alignmentgroup\": \"True\", \"hoverlabel\": {\"namelength\": 0}, \"hovertemplate\": \"OverTime=No<br>Gender=Female<br>Department=%{x}<br>Percent=%{text}\", \"legendgroup\": \"OverTime=No\", \"marker\": {\"color\": \"#48c0a3\", \"line\": {\"color\": \"black\", \"width\": 1}, \"opacity\": 0.8}, \"name\": \"OverTime=No\", \"offsetgroup\": \"OverTime=No\", \"orientation\": \"v\", \"showlegend\": true, \"text\": [70.0, 70.44854881266491, 67.1957671957672], \"textposition\": \"outside\", \"texttemplate\": \"%{text:.3s}%\", \"type\": \"bar\", \"width\": 0.4, \"x\": [\"Human Resources\", \"Research & Development\", \"Sales\"], \"xaxis\": \"x\", \"y\": [70.0, 70.44854881266491, 67.1957671957672], \"yaxis\": \"y\"}, {\"alignmentgroup\": \"True\", \"hoverlabel\": {\"namelength\": 0}, \"hovertemplate\": \"OverTime=No<br>Gender=Male<br>Department=%{x}<br>Percent=%{text}\", \"legendgroup\": \"OverTime=No\", \"marker\": {\"color\": \"#48c0a3\", \"line\": {\"color\": \"black\", \"width\": 1}, \"opacity\": 0.8}, \"name\": \"OverTime=No\", \"offsetgroup\": \"OverTime=No\", \"orientation\": \"v\", \"showlegend\": false, \"text\": [74.4186046511628, 72.68041237113401, 74.31906614785993], \"textposition\": \"outside\", \"texttemplate\": \"%{text:.3s}%\", \"type\": \"bar\", \"width\": 0.4, \"x\": [\"Human Resources\", \"Research & Development\", \"Sales\"], \"xaxis\": \"x2\", \"y\": [74.4186046511628, 72.68041237113401, 74.31906614785993], \"yaxis\": \"y2\"}],\n",
              "                        {\"annotations\": [{\"font\": {}, \"showarrow\": false, \"text\": \"Gender=Female\", \"x\": 0.245, \"xanchor\": \"center\", \"xref\": \"paper\", \"y\": 1.0, \"yanchor\": \"bottom\", \"yref\": \"paper\"}, {\"font\": {}, \"showarrow\": false, \"text\": \"Gender=Male\", \"x\": 0.755, \"xanchor\": \"center\", \"xref\": \"paper\", \"y\": 1.0, \"yanchor\": \"bottom\", \"yref\": \"paper\"}], \"barmode\": \"group\", \"legend\": {\"tracegroupgap\": 0}, \"margin\": {\"t\": 60}, \"template\": {\"data\": {\"bar\": [{\"error_x\": {\"color\": \"#2a3f5f\"}, \"error_y\": {\"color\": \"#2a3f5f\"}, \"marker\": {\"line\": {\"color\": \"white\", \"width\": 0.5}}, \"type\": \"bar\"}], \"barpolar\": [{\"marker\": {\"line\": {\"color\": \"white\", \"width\": 0.5}}, \"type\": \"barpolar\"}], \"carpet\": [{\"aaxis\": {\"endlinecolor\": \"#2a3f5f\", \"gridcolor\": \"#C8D4E3\", \"linecolor\": \"#C8D4E3\", \"minorgridcolor\": \"#C8D4E3\", \"startlinecolor\": \"#2a3f5f\"}, \"baxis\": {\"endlinecolor\": \"#2a3f5f\", \"gridcolor\": \"#C8D4E3\", \"linecolor\": \"#C8D4E3\", \"minorgridcolor\": \"#C8D4E3\", \"startlinecolor\": \"#2a3f5f\"}, \"type\": \"carpet\"}], \"choropleth\": [{\"colorbar\": {\"outlinewidth\": 0, \"ticks\": \"\"}, \"type\": \"choropleth\"}], \"contour\": [{\"colorbar\": {\"outlinewidth\": 0, \"ticks\": \"\"}, \"colorscale\": [[0.0, \"#0d0887\"], [0.1111111111111111, \"#46039f\"], [0.2222222222222222, \"#7201a8\"], [0.3333333333333333, \"#9c179e\"], [0.4444444444444444, \"#bd3786\"], [0.5555555555555556, \"#d8576b\"], [0.6666666666666666, \"#ed7953\"], [0.7777777777777778, \"#fb9f3a\"], [0.8888888888888888, \"#fdca26\"], [1.0, \"#f0f921\"]], \"type\": \"contour\"}], \"contourcarpet\": [{\"colorbar\": {\"outlinewidth\": 0, \"ticks\": \"\"}, \"type\": \"contourcarpet\"}], \"heatmap\": [{\"colorbar\": {\"outlinewidth\": 0, \"ticks\": \"\"}, \"colorscale\": [[0.0, \"#0d0887\"], [0.1111111111111111, \"#46039f\"], [0.2222222222222222, \"#7201a8\"], [0.3333333333333333, \"#9c179e\"], [0.4444444444444444, \"#bd3786\"], [0.5555555555555556, \"#d8576b\"], [0.6666666666666666, \"#ed7953\"], [0.7777777777777778, \"#fb9f3a\"], [0.8888888888888888, \"#fdca26\"], [1.0, \"#f0f921\"]], \"type\": \"heatmap\"}], \"heatmapgl\": [{\"colorbar\": {\"outlinewidth\": 0, \"ticks\": \"\"}, \"colorscale\": [[0.0, \"#0d0887\"], [0.1111111111111111, \"#46039f\"], [0.2222222222222222, \"#7201a8\"], [0.3333333333333333, \"#9c179e\"], [0.4444444444444444, \"#bd3786\"], [0.5555555555555556, \"#d8576b\"], [0.6666666666666666, \"#ed7953\"], [0.7777777777777778, \"#fb9f3a\"], [0.8888888888888888, \"#fdca26\"], [1.0, \"#f0f921\"]], \"type\": \"heatmapgl\"}], \"histogram\": [{\"marker\": {\"colorbar\": {\"outlinewidth\": 0, \"ticks\": \"\"}}, \"type\": \"histogram\"}], \"histogram2d\": [{\"colorbar\": {\"outlinewidth\": 0, \"ticks\": \"\"}, \"colorscale\": [[0.0, \"#0d0887\"], [0.1111111111111111, \"#46039f\"], [0.2222222222222222, \"#7201a8\"], [0.3333333333333333, \"#9c179e\"], [0.4444444444444444, \"#bd3786\"], [0.5555555555555556, \"#d8576b\"], [0.6666666666666666, \"#ed7953\"], [0.7777777777777778, \"#fb9f3a\"], [0.8888888888888888, \"#fdca26\"], [1.0, \"#f0f921\"]], \"type\": \"histogram2d\"}], \"histogram2dcontour\": [{\"colorbar\": {\"outlinewidth\": 0, \"ticks\": \"\"}, \"colorscale\": [[0.0, \"#0d0887\"], [0.1111111111111111, \"#46039f\"], [0.2222222222222222, \"#7201a8\"], [0.3333333333333333, \"#9c179e\"], [0.4444444444444444, \"#bd3786\"], [0.5555555555555556, \"#d8576b\"], [0.6666666666666666, \"#ed7953\"], [0.7777777777777778, \"#fb9f3a\"], [0.8888888888888888, \"#fdca26\"], [1.0, \"#f0f921\"]], \"type\": \"histogram2dcontour\"}], \"mesh3d\": [{\"colorbar\": {\"outlinewidth\": 0, \"ticks\": \"\"}, \"type\": \"mesh3d\"}], \"parcoords\": [{\"line\": {\"colorbar\": {\"outlinewidth\": 0, \"ticks\": \"\"}}, \"type\": \"parcoords\"}], \"pie\": [{\"automargin\": true, \"type\": \"pie\"}], \"scatter\": [{\"marker\": {\"colorbar\": {\"outlinewidth\": 0, \"ticks\": \"\"}}, \"type\": \"scatter\"}], \"scatter3d\": [{\"line\": {\"colorbar\": {\"outlinewidth\": 0, \"ticks\": \"\"}}, \"marker\": {\"colorbar\": {\"outlinewidth\": 0, \"ticks\": \"\"}}, \"type\": \"scatter3d\"}], \"scattercarpet\": [{\"marker\": {\"colorbar\": {\"outlinewidth\": 0, \"ticks\": \"\"}}, \"type\": \"scattercarpet\"}], \"scattergeo\": [{\"marker\": {\"colorbar\": {\"outlinewidth\": 0, \"ticks\": \"\"}}, \"type\": \"scattergeo\"}], \"scattergl\": [{\"marker\": {\"colorbar\": {\"outlinewidth\": 0, \"ticks\": \"\"}}, \"type\": \"scattergl\"}], \"scattermapbox\": [{\"marker\": {\"colorbar\": {\"outlinewidth\": 0, \"ticks\": \"\"}}, \"type\": \"scattermapbox\"}], \"scatterpolar\": [{\"marker\": {\"colorbar\": {\"outlinewidth\": 0, \"ticks\": \"\"}}, \"type\": \"scatterpolar\"}], \"scatterpolargl\": [{\"marker\": {\"colorbar\": {\"outlinewidth\": 0, \"ticks\": \"\"}}, \"type\": \"scatterpolargl\"}], \"scatterternary\": [{\"marker\": {\"colorbar\": {\"outlinewidth\": 0, \"ticks\": \"\"}}, \"type\": \"scatterternary\"}], \"surface\": [{\"colorbar\": {\"outlinewidth\": 0, \"ticks\": \"\"}, \"colorscale\": [[0.0, \"#0d0887\"], [0.1111111111111111, \"#46039f\"], [0.2222222222222222, \"#7201a8\"], [0.3333333333333333, \"#9c179e\"], [0.4444444444444444, \"#bd3786\"], [0.5555555555555556, \"#d8576b\"], [0.6666666666666666, \"#ed7953\"], [0.7777777777777778, \"#fb9f3a\"], [0.8888888888888888, \"#fdca26\"], [1.0, \"#f0f921\"]], \"type\": \"surface\"}], \"table\": [{\"cells\": {\"fill\": {\"color\": \"#EBF0F8\"}, \"line\": {\"color\": \"white\"}}, \"header\": {\"fill\": {\"color\": \"#C8D4E3\"}, \"line\": {\"color\": \"white\"}}, \"type\": \"table\"}]}, \"layout\": {\"annotationdefaults\": {\"arrowcolor\": \"#2a3f5f\", \"arrowhead\": 0, \"arrowwidth\": 1}, \"coloraxis\": {\"colorbar\": {\"outlinewidth\": 0, \"ticks\": \"\"}}, \"colorscale\": {\"diverging\": [[0, \"#8e0152\"], [0.1, \"#c51b7d\"], [0.2, \"#de77ae\"], [0.3, \"#f1b6da\"], [0.4, \"#fde0ef\"], [0.5, \"#f7f7f7\"], [0.6, \"#e6f5d0\"], [0.7, \"#b8e186\"], [0.8, \"#7fbc41\"], [0.9, \"#4d9221\"], [1, \"#276419\"]], \"sequential\": [[0.0, \"#0d0887\"], [0.1111111111111111, \"#46039f\"], [0.2222222222222222, \"#7201a8\"], [0.3333333333333333, \"#9c179e\"], [0.4444444444444444, \"#bd3786\"], [0.5555555555555556, \"#d8576b\"], [0.6666666666666666, \"#ed7953\"], [0.7777777777777778, \"#fb9f3a\"], [0.8888888888888888, \"#fdca26\"], [1.0, \"#f0f921\"]], \"sequentialminus\": [[0.0, \"#0d0887\"], [0.1111111111111111, \"#46039f\"], [0.2222222222222222, \"#7201a8\"], [0.3333333333333333, \"#9c179e\"], [0.4444444444444444, \"#bd3786\"], [0.5555555555555556, \"#d8576b\"], [0.6666666666666666, \"#ed7953\"], [0.7777777777777778, \"#fb9f3a\"], [0.8888888888888888, \"#fdca26\"], [1.0, \"#f0f921\"]]}, \"colorway\": [\"#636efa\", \"#EF553B\", \"#00cc96\", \"#ab63fa\", \"#FFA15A\", \"#19d3f3\", \"#FF6692\", \"#B6E880\", \"#FF97FF\", \"#FECB52\"], \"font\": {\"color\": \"#2a3f5f\"}, \"geo\": {\"bgcolor\": \"white\", \"lakecolor\": \"white\", \"landcolor\": \"white\", \"showlakes\": true, \"showland\": true, \"subunitcolor\": \"#C8D4E3\"}, \"hoverlabel\": {\"align\": \"left\"}, \"hovermode\": \"closest\", \"mapbox\": {\"style\": \"light\"}, \"paper_bgcolor\": \"white\", \"plot_bgcolor\": \"white\", \"polar\": {\"angularaxis\": {\"gridcolor\": \"#EBF0F8\", \"linecolor\": \"#EBF0F8\", \"ticks\": \"\"}, \"bgcolor\": \"white\", \"radialaxis\": {\"gridcolor\": \"#EBF0F8\", \"linecolor\": \"#EBF0F8\", \"ticks\": \"\"}}, \"scene\": {\"xaxis\": {\"backgroundcolor\": \"white\", \"gridcolor\": \"#DFE8F3\", \"gridwidth\": 2, \"linecolor\": \"#EBF0F8\", \"showbackground\": true, \"ticks\": \"\", \"zerolinecolor\": \"#EBF0F8\"}, \"yaxis\": {\"backgroundcolor\": \"white\", \"gridcolor\": \"#DFE8F3\", \"gridwidth\": 2, \"linecolor\": \"#EBF0F8\", \"showbackground\": true, \"ticks\": \"\", \"zerolinecolor\": \"#EBF0F8\"}, \"zaxis\": {\"backgroundcolor\": \"white\", \"gridcolor\": \"#DFE8F3\", \"gridwidth\": 2, \"linecolor\": \"#EBF0F8\", \"showbackground\": true, \"ticks\": \"\", \"zerolinecolor\": \"#EBF0F8\"}}, \"shapedefaults\": {\"line\": {\"color\": \"#2a3f5f\"}}, \"ternary\": {\"aaxis\": {\"gridcolor\": \"#DFE8F3\", \"linecolor\": \"#A2B1C6\", \"ticks\": \"\"}, \"baxis\": {\"gridcolor\": \"#DFE8F3\", \"linecolor\": \"#A2B1C6\", \"ticks\": \"\"}, \"bgcolor\": \"white\", \"caxis\": {\"gridcolor\": \"#DFE8F3\", \"linecolor\": \"#A2B1C6\", \"ticks\": \"\"}}, \"title\": {\"x\": 0.05}, \"xaxis\": {\"automargin\": true, \"gridcolor\": \"#EBF0F8\", \"linecolor\": \"#EBF0F8\", \"ticks\": \"\", \"title\": {\"standoff\": 15}, \"zerolinecolor\": \"#EBF0F8\", \"zerolinewidth\": 2}, \"yaxis\": {\"automargin\": true, \"gridcolor\": \"#EBF0F8\", \"linecolor\": \"#EBF0F8\", \"ticks\": \"\", \"title\": {\"standoff\": 15}, \"zerolinecolor\": \"#EBF0F8\", \"zerolinewidth\": 2}}}, \"title\": {\"text\": \"OverTime Rates by Department and Gender\"}, \"xaxis\": {\"anchor\": \"y\", \"domain\": [0.0, 0.49], \"showticklabels\": true, \"title\": {\"text\": \"Department\"}}, \"xaxis2\": {\"anchor\": \"y2\", \"domain\": [0.51, 1.0], \"matches\": \"x\", \"showticklabels\": true, \"title\": {\"text\": \"Department\"}}, \"yaxis\": {\"anchor\": \"x\", \"domain\": [0.0, 1.0], \"ticksuffix\": \"%\", \"title\": {\"text\": \"\"}, \"zeroline\": true, \"zerolinecolor\": \"#f9f9f1\", \"zerolinewidth\": 1}, \"yaxis2\": {\"anchor\": \"x2\", \"domain\": [0.0, 1.0], \"matches\": \"y\", \"showticklabels\": false, \"title\": {\"text\": \"\"}, \"zeroline\": true, \"zerolinecolor\": \"#f9f9f1\", \"zerolinewidth\": 1}},\n",
              "                        {\"responsive\": true}\n",
              "                    ).then(function(){\n",
              "                            \n",
              "var gd = document.getElementById('44baed45-0c45-41b8-8b7d-b253d2f98f93');\n",
              "var x = new MutationObserver(function (mutations, observer) {{\n",
              "        var display = window.getComputedStyle(gd).display;\n",
              "        if (!display || display === 'none') {{\n",
              "            console.log([gd, 'removed!']);\n",
              "            Plotly.purge(gd);\n",
              "            observer.disconnect();\n",
              "        }}\n",
              "}});\n",
              "\n",
              "// Listen for the removal of the full notebook cells\n",
              "var notebookContainer = gd.closest('#notebook-container');\n",
              "if (notebookContainer) {{\n",
              "    x.observe(notebookContainer, {childList: true});\n",
              "}}\n",
              "\n",
              "// Listen for the clearing of the current output cell\n",
              "var outputEl = gd.closest('.output');\n",
              "if (outputEl) {{\n",
              "    x.observe(outputEl, {childList: true});\n",
              "}}\n",
              "\n",
              "                        })\n",
              "                };\n",
              "                \n",
              "            </script>\n",
              "        </div>\n",
              "</body>\n",
              "</html>"
            ]
          },
          "metadata": {}
        }
      ]
    },
    {
      "cell_type": "markdown",
      "source": [
        "## Attrition Rates by OverTime & Marital Status"
      ],
      "metadata": {
        "id": "FqSYJ_3cC5mo"
      }
    },
    {
      "cell_type": "code",
      "source": [
        "Attrition_1 = employee.groupby(['MaritalStatus','OverTime'])['Attrition'].value_counts(normalize=True)\n",
        "print(Attrition_1)\n",
        "Attrition_1 = Attrition_1 .mul(100).rename('Percent').reset_index()\n",
        "fig = px.bar(Attrition_1, x=\"MaritalStatus\", y=\"Percent\", color=\"Attrition\", barmode=\"group\",\n",
        "            text='Percent', opacity=.80, facet_col=\"OverTime\", category_orders={'Attrition': ['Yes', 'No']},\n",
        "             template='plotly_white',color_discrete_map={'Yes': '#758a99','No': '#48c0a3'}) \n",
        "fig.update_traces(texttemplate='%{text:.3s}%', textposition='outside',\n",
        "                  marker_line=dict(width=1, color='black'),  width=.4)\n",
        "fig.update_layout(title_text='Attrition Rates by OverTime and Marital Status', yaxis_ticksuffix = '%')\n",
        "fig.update_xaxes(showticklabels=True)\n",
        "fig.update_yaxes(title = \"\", zeroline=True, zerolinewidth=1, zerolinecolor='#f9f9f1')\n",
        "fig.show()"
      ],
      "metadata": {
        "colab": {
          "base_uri": "https://localhost:8080/",
          "height": 780
        },
        "id": "Yx54XnVflIXT",
        "outputId": "e5f06b41-8c38-44ff-e3da-b850bd520811"
      },
      "execution_count": null,
      "outputs": [
        {
          "output_type": "stream",
          "name": "stdout",
          "text": [
            "MaritalStatus  OverTime  Attrition\n",
            "Divorced       No        No           0.938596\n",
            "                         Yes          0.061404\n",
            "               Yes       No           0.808081\n",
            "                         Yes          0.191919\n",
            "Married        No        No           0.915811\n",
            "                         Yes          0.084189\n",
            "               Yes       No           0.768817\n",
            "                         Yes          0.231183\n",
            "Single         No        No           0.837758\n",
            "                         Yes          0.162242\n",
            "               Yes       No           0.503817\n",
            "                         Yes          0.496183\n",
            "Name: Attrition, dtype: float64\n"
          ]
        },
        {
          "output_type": "display_data",
          "data": {
            "text/html": [
              "<html>\n",
              "<head><meta charset=\"utf-8\" /></head>\n",
              "<body>\n",
              "    <div>\n",
              "            <script src=\"https://cdnjs.cloudflare.com/ajax/libs/mathjax/2.7.5/MathJax.js?config=TeX-AMS-MML_SVG\"></script><script type=\"text/javascript\">if (window.MathJax) {MathJax.Hub.Config({SVG: {font: \"STIX-Web\"}});}</script>\n",
              "                <script type=\"text/javascript\">window.PlotlyConfig = {MathJaxConfig: 'local'};</script>\n",
              "        <script src=\"https://cdn.plot.ly/plotly-latest.min.js\"></script>    \n",
              "            <div id=\"85637205-1e97-490d-a7f6-2ff35f776f21\" class=\"plotly-graph-div\" style=\"height:525px; width:100%;\"></div>\n",
              "            <script type=\"text/javascript\">\n",
              "                \n",
              "                    window.PLOTLYENV=window.PLOTLYENV || {};\n",
              "                    \n",
              "                if (document.getElementById(\"85637205-1e97-490d-a7f6-2ff35f776f21\")) {\n",
              "                    Plotly.newPlot(\n",
              "                        '85637205-1e97-490d-a7f6-2ff35f776f21',\n",
              "                        [{\"alignmentgroup\": \"True\", \"hoverlabel\": {\"namelength\": 0}, \"hovertemplate\": \"Attrition=Yes<br>OverTime=No<br>MaritalStatus=%{x}<br>Percent=%{text}\", \"legendgroup\": \"Attrition=Yes\", \"marker\": {\"color\": \"#758a99\", \"line\": {\"color\": \"black\", \"width\": 1}, \"opacity\": 0.8}, \"name\": \"Attrition=Yes\", \"offsetgroup\": \"Attrition=Yes\", \"orientation\": \"v\", \"showlegend\": true, \"text\": [6.140350877192982, 8.41889117043121, 16.224188790560472], \"textposition\": \"outside\", \"texttemplate\": \"%{text:.3s}%\", \"type\": \"bar\", \"width\": 0.4, \"x\": [\"Divorced\", \"Married\", \"Single\"], \"xaxis\": \"x\", \"y\": [6.140350877192982, 8.41889117043121, 16.224188790560472], \"yaxis\": \"y\"}, {\"alignmentgroup\": \"True\", \"hoverlabel\": {\"namelength\": 0}, \"hovertemplate\": \"Attrition=Yes<br>OverTime=Yes<br>MaritalStatus=%{x}<br>Percent=%{text}\", \"legendgroup\": \"Attrition=Yes\", \"marker\": {\"color\": \"#758a99\", \"line\": {\"color\": \"black\", \"width\": 1}, \"opacity\": 0.8}, \"name\": \"Attrition=Yes\", \"offsetgroup\": \"Attrition=Yes\", \"orientation\": \"v\", \"showlegend\": false, \"text\": [19.19191919191919, 23.118279569892472, 49.61832061068702], \"textposition\": \"outside\", \"texttemplate\": \"%{text:.3s}%\", \"type\": \"bar\", \"width\": 0.4, \"x\": [\"Divorced\", \"Married\", \"Single\"], \"xaxis\": \"x2\", \"y\": [19.19191919191919, 23.118279569892472, 49.61832061068702], \"yaxis\": \"y2\"}, {\"alignmentgroup\": \"True\", \"hoverlabel\": {\"namelength\": 0}, \"hovertemplate\": \"Attrition=No<br>OverTime=No<br>MaritalStatus=%{x}<br>Percent=%{text}\", \"legendgroup\": \"Attrition=No\", \"marker\": {\"color\": \"#48c0a3\", \"line\": {\"color\": \"black\", \"width\": 1}, \"opacity\": 0.8}, \"name\": \"Attrition=No\", \"offsetgroup\": \"Attrition=No\", \"orientation\": \"v\", \"showlegend\": true, \"text\": [93.85964912280701, 91.58110882956879, 83.77581120943954], \"textposition\": \"outside\", \"texttemplate\": \"%{text:.3s}%\", \"type\": \"bar\", \"width\": 0.4, \"x\": [\"Divorced\", \"Married\", \"Single\"], \"xaxis\": \"x\", \"y\": [93.85964912280701, 91.58110882956879, 83.77581120943954], \"yaxis\": \"y\"}, {\"alignmentgroup\": \"True\", \"hoverlabel\": {\"namelength\": 0}, \"hovertemplate\": \"Attrition=No<br>OverTime=Yes<br>MaritalStatus=%{x}<br>Percent=%{text}\", \"legendgroup\": \"Attrition=No\", \"marker\": {\"color\": \"#48c0a3\", \"line\": {\"color\": \"black\", \"width\": 1}, \"opacity\": 0.8}, \"name\": \"Attrition=No\", \"offsetgroup\": \"Attrition=No\", \"orientation\": \"v\", \"showlegend\": false, \"text\": [80.8080808080808, 76.88172043010752, 50.38167938931297], \"textposition\": \"outside\", \"texttemplate\": \"%{text:.3s}%\", \"type\": \"bar\", \"width\": 0.4, \"x\": [\"Divorced\", \"Married\", \"Single\"], \"xaxis\": \"x2\", \"y\": [80.8080808080808, 76.88172043010752, 50.38167938931297], \"yaxis\": \"y2\"}],\n",
              "                        {\"annotations\": [{\"font\": {}, \"showarrow\": false, \"text\": \"OverTime=No\", \"x\": 0.245, \"xanchor\": \"center\", \"xref\": \"paper\", \"y\": 1.0, \"yanchor\": \"bottom\", \"yref\": \"paper\"}, {\"font\": {}, \"showarrow\": false, \"text\": \"OverTime=Yes\", \"x\": 0.755, \"xanchor\": \"center\", \"xref\": \"paper\", \"y\": 1.0, \"yanchor\": \"bottom\", \"yref\": \"paper\"}], \"barmode\": \"group\", \"legend\": {\"tracegroupgap\": 0}, \"margin\": {\"t\": 60}, \"template\": {\"data\": {\"bar\": [{\"error_x\": {\"color\": \"#2a3f5f\"}, \"error_y\": {\"color\": \"#2a3f5f\"}, \"marker\": {\"line\": {\"color\": \"white\", \"width\": 0.5}}, \"type\": \"bar\"}], \"barpolar\": [{\"marker\": {\"line\": {\"color\": \"white\", \"width\": 0.5}}, \"type\": \"barpolar\"}], \"carpet\": [{\"aaxis\": {\"endlinecolor\": \"#2a3f5f\", \"gridcolor\": \"#C8D4E3\", \"linecolor\": \"#C8D4E3\", \"minorgridcolor\": \"#C8D4E3\", \"startlinecolor\": \"#2a3f5f\"}, \"baxis\": {\"endlinecolor\": \"#2a3f5f\", \"gridcolor\": \"#C8D4E3\", \"linecolor\": \"#C8D4E3\", \"minorgridcolor\": \"#C8D4E3\", \"startlinecolor\": \"#2a3f5f\"}, \"type\": \"carpet\"}], \"choropleth\": [{\"colorbar\": {\"outlinewidth\": 0, \"ticks\": \"\"}, \"type\": \"choropleth\"}], \"contour\": [{\"colorbar\": {\"outlinewidth\": 0, \"ticks\": \"\"}, \"colorscale\": [[0.0, \"#0d0887\"], [0.1111111111111111, \"#46039f\"], [0.2222222222222222, \"#7201a8\"], [0.3333333333333333, \"#9c179e\"], [0.4444444444444444, \"#bd3786\"], [0.5555555555555556, \"#d8576b\"], [0.6666666666666666, \"#ed7953\"], [0.7777777777777778, \"#fb9f3a\"], [0.8888888888888888, \"#fdca26\"], [1.0, \"#f0f921\"]], \"type\": \"contour\"}], \"contourcarpet\": [{\"colorbar\": {\"outlinewidth\": 0, \"ticks\": \"\"}, \"type\": \"contourcarpet\"}], \"heatmap\": [{\"colorbar\": {\"outlinewidth\": 0, \"ticks\": \"\"}, \"colorscale\": [[0.0, \"#0d0887\"], [0.1111111111111111, \"#46039f\"], [0.2222222222222222, \"#7201a8\"], [0.3333333333333333, \"#9c179e\"], [0.4444444444444444, \"#bd3786\"], [0.5555555555555556, \"#d8576b\"], [0.6666666666666666, \"#ed7953\"], [0.7777777777777778, \"#fb9f3a\"], [0.8888888888888888, \"#fdca26\"], [1.0, \"#f0f921\"]], \"type\": \"heatmap\"}], \"heatmapgl\": [{\"colorbar\": {\"outlinewidth\": 0, \"ticks\": \"\"}, \"colorscale\": [[0.0, \"#0d0887\"], [0.1111111111111111, \"#46039f\"], [0.2222222222222222, \"#7201a8\"], [0.3333333333333333, \"#9c179e\"], [0.4444444444444444, \"#bd3786\"], [0.5555555555555556, \"#d8576b\"], [0.6666666666666666, \"#ed7953\"], [0.7777777777777778, \"#fb9f3a\"], [0.8888888888888888, \"#fdca26\"], [1.0, \"#f0f921\"]], \"type\": \"heatmapgl\"}], \"histogram\": [{\"marker\": {\"colorbar\": {\"outlinewidth\": 0, \"ticks\": \"\"}}, \"type\": \"histogram\"}], \"histogram2d\": [{\"colorbar\": {\"outlinewidth\": 0, \"ticks\": \"\"}, \"colorscale\": [[0.0, \"#0d0887\"], [0.1111111111111111, \"#46039f\"], [0.2222222222222222, \"#7201a8\"], [0.3333333333333333, \"#9c179e\"], [0.4444444444444444, \"#bd3786\"], [0.5555555555555556, \"#d8576b\"], [0.6666666666666666, \"#ed7953\"], [0.7777777777777778, \"#fb9f3a\"], [0.8888888888888888, \"#fdca26\"], [1.0, \"#f0f921\"]], \"type\": \"histogram2d\"}], \"histogram2dcontour\": [{\"colorbar\": {\"outlinewidth\": 0, \"ticks\": \"\"}, \"colorscale\": [[0.0, \"#0d0887\"], [0.1111111111111111, \"#46039f\"], [0.2222222222222222, \"#7201a8\"], [0.3333333333333333, \"#9c179e\"], [0.4444444444444444, \"#bd3786\"], [0.5555555555555556, \"#d8576b\"], [0.6666666666666666, \"#ed7953\"], [0.7777777777777778, \"#fb9f3a\"], [0.8888888888888888, \"#fdca26\"], [1.0, \"#f0f921\"]], \"type\": \"histogram2dcontour\"}], \"mesh3d\": [{\"colorbar\": {\"outlinewidth\": 0, \"ticks\": \"\"}, \"type\": \"mesh3d\"}], \"parcoords\": [{\"line\": {\"colorbar\": {\"outlinewidth\": 0, \"ticks\": \"\"}}, \"type\": \"parcoords\"}], \"pie\": [{\"automargin\": true, \"type\": \"pie\"}], \"scatter\": [{\"marker\": {\"colorbar\": {\"outlinewidth\": 0, \"ticks\": \"\"}}, \"type\": \"scatter\"}], \"scatter3d\": [{\"line\": {\"colorbar\": {\"outlinewidth\": 0, \"ticks\": \"\"}}, \"marker\": {\"colorbar\": {\"outlinewidth\": 0, \"ticks\": \"\"}}, \"type\": \"scatter3d\"}], \"scattercarpet\": [{\"marker\": {\"colorbar\": {\"outlinewidth\": 0, \"ticks\": \"\"}}, \"type\": \"scattercarpet\"}], \"scattergeo\": [{\"marker\": {\"colorbar\": {\"outlinewidth\": 0, \"ticks\": \"\"}}, \"type\": \"scattergeo\"}], \"scattergl\": [{\"marker\": {\"colorbar\": {\"outlinewidth\": 0, \"ticks\": \"\"}}, \"type\": \"scattergl\"}], \"scattermapbox\": [{\"marker\": {\"colorbar\": {\"outlinewidth\": 0, \"ticks\": \"\"}}, \"type\": \"scattermapbox\"}], \"scatterpolar\": [{\"marker\": {\"colorbar\": {\"outlinewidth\": 0, \"ticks\": \"\"}}, \"type\": \"scatterpolar\"}], \"scatterpolargl\": [{\"marker\": {\"colorbar\": {\"outlinewidth\": 0, \"ticks\": \"\"}}, \"type\": \"scatterpolargl\"}], \"scatterternary\": [{\"marker\": {\"colorbar\": {\"outlinewidth\": 0, \"ticks\": \"\"}}, \"type\": \"scatterternary\"}], \"surface\": [{\"colorbar\": {\"outlinewidth\": 0, \"ticks\": \"\"}, \"colorscale\": [[0.0, \"#0d0887\"], [0.1111111111111111, \"#46039f\"], [0.2222222222222222, \"#7201a8\"], [0.3333333333333333, \"#9c179e\"], [0.4444444444444444, \"#bd3786\"], [0.5555555555555556, \"#d8576b\"], [0.6666666666666666, \"#ed7953\"], [0.7777777777777778, \"#fb9f3a\"], [0.8888888888888888, \"#fdca26\"], [1.0, \"#f0f921\"]], \"type\": \"surface\"}], \"table\": [{\"cells\": {\"fill\": {\"color\": \"#EBF0F8\"}, \"line\": {\"color\": \"white\"}}, \"header\": {\"fill\": {\"color\": \"#C8D4E3\"}, \"line\": {\"color\": \"white\"}}, \"type\": \"table\"}]}, \"layout\": {\"annotationdefaults\": {\"arrowcolor\": \"#2a3f5f\", \"arrowhead\": 0, \"arrowwidth\": 1}, \"coloraxis\": {\"colorbar\": {\"outlinewidth\": 0, \"ticks\": \"\"}}, \"colorscale\": {\"diverging\": [[0, \"#8e0152\"], [0.1, \"#c51b7d\"], [0.2, \"#de77ae\"], [0.3, \"#f1b6da\"], [0.4, \"#fde0ef\"], [0.5, \"#f7f7f7\"], [0.6, \"#e6f5d0\"], [0.7, \"#b8e186\"], [0.8, \"#7fbc41\"], [0.9, \"#4d9221\"], [1, \"#276419\"]], \"sequential\": [[0.0, \"#0d0887\"], [0.1111111111111111, \"#46039f\"], [0.2222222222222222, \"#7201a8\"], [0.3333333333333333, \"#9c179e\"], [0.4444444444444444, \"#bd3786\"], [0.5555555555555556, \"#d8576b\"], [0.6666666666666666, \"#ed7953\"], [0.7777777777777778, \"#fb9f3a\"], [0.8888888888888888, \"#fdca26\"], [1.0, \"#f0f921\"]], \"sequentialminus\": [[0.0, \"#0d0887\"], [0.1111111111111111, \"#46039f\"], [0.2222222222222222, \"#7201a8\"], [0.3333333333333333, \"#9c179e\"], [0.4444444444444444, \"#bd3786\"], [0.5555555555555556, \"#d8576b\"], [0.6666666666666666, \"#ed7953\"], [0.7777777777777778, \"#fb9f3a\"], [0.8888888888888888, \"#fdca26\"], [1.0, \"#f0f921\"]]}, \"colorway\": [\"#636efa\", \"#EF553B\", \"#00cc96\", \"#ab63fa\", \"#FFA15A\", \"#19d3f3\", \"#FF6692\", \"#B6E880\", \"#FF97FF\", \"#FECB52\"], \"font\": {\"color\": \"#2a3f5f\"}, \"geo\": {\"bgcolor\": \"white\", \"lakecolor\": \"white\", \"landcolor\": \"white\", \"showlakes\": true, \"showland\": true, \"subunitcolor\": \"#C8D4E3\"}, \"hoverlabel\": {\"align\": \"left\"}, \"hovermode\": \"closest\", \"mapbox\": {\"style\": \"light\"}, \"paper_bgcolor\": \"white\", \"plot_bgcolor\": \"white\", \"polar\": {\"angularaxis\": {\"gridcolor\": \"#EBF0F8\", \"linecolor\": \"#EBF0F8\", \"ticks\": \"\"}, \"bgcolor\": \"white\", \"radialaxis\": {\"gridcolor\": \"#EBF0F8\", \"linecolor\": \"#EBF0F8\", \"ticks\": \"\"}}, \"scene\": {\"xaxis\": {\"backgroundcolor\": \"white\", \"gridcolor\": \"#DFE8F3\", \"gridwidth\": 2, \"linecolor\": \"#EBF0F8\", \"showbackground\": true, \"ticks\": \"\", \"zerolinecolor\": \"#EBF0F8\"}, \"yaxis\": {\"backgroundcolor\": \"white\", \"gridcolor\": \"#DFE8F3\", \"gridwidth\": 2, \"linecolor\": \"#EBF0F8\", \"showbackground\": true, \"ticks\": \"\", \"zerolinecolor\": \"#EBF0F8\"}, \"zaxis\": {\"backgroundcolor\": \"white\", \"gridcolor\": \"#DFE8F3\", \"gridwidth\": 2, \"linecolor\": \"#EBF0F8\", \"showbackground\": true, \"ticks\": \"\", \"zerolinecolor\": \"#EBF0F8\"}}, \"shapedefaults\": {\"line\": {\"color\": \"#2a3f5f\"}}, \"ternary\": {\"aaxis\": {\"gridcolor\": \"#DFE8F3\", \"linecolor\": \"#A2B1C6\", \"ticks\": \"\"}, \"baxis\": {\"gridcolor\": \"#DFE8F3\", \"linecolor\": \"#A2B1C6\", \"ticks\": \"\"}, \"bgcolor\": \"white\", \"caxis\": {\"gridcolor\": \"#DFE8F3\", \"linecolor\": \"#A2B1C6\", \"ticks\": \"\"}}, \"title\": {\"x\": 0.05}, \"xaxis\": {\"automargin\": true, \"gridcolor\": \"#EBF0F8\", \"linecolor\": \"#EBF0F8\", \"ticks\": \"\", \"title\": {\"standoff\": 15}, \"zerolinecolor\": \"#EBF0F8\", \"zerolinewidth\": 2}, \"yaxis\": {\"automargin\": true, \"gridcolor\": \"#EBF0F8\", \"linecolor\": \"#EBF0F8\", \"ticks\": \"\", \"title\": {\"standoff\": 15}, \"zerolinecolor\": \"#EBF0F8\", \"zerolinewidth\": 2}}}, \"title\": {\"text\": \"Attrition Rates by OverTime and Marital Status\"}, \"xaxis\": {\"anchor\": \"y\", \"domain\": [0.0, 0.49], \"showticklabels\": true, \"title\": {\"text\": \"MaritalStatus\"}}, \"xaxis2\": {\"anchor\": \"y2\", \"domain\": [0.51, 1.0], \"matches\": \"x\", \"showticklabels\": true, \"title\": {\"text\": \"MaritalStatus\"}}, \"yaxis\": {\"anchor\": \"x\", \"domain\": [0.0, 1.0], \"ticksuffix\": \"%\", \"title\": {\"text\": \"\"}, \"zeroline\": true, \"zerolinecolor\": \"#f9f9f1\", \"zerolinewidth\": 1}, \"yaxis2\": {\"anchor\": \"x2\", \"domain\": [0.0, 1.0], \"matches\": \"y\", \"showticklabels\": false, \"title\": {\"text\": \"\"}, \"zeroline\": true, \"zerolinecolor\": \"#f9f9f1\", \"zerolinewidth\": 1}},\n",
              "                        {\"responsive\": true}\n",
              "                    ).then(function(){\n",
              "                            \n",
              "var gd = document.getElementById('85637205-1e97-490d-a7f6-2ff35f776f21');\n",
              "var x = new MutationObserver(function (mutations, observer) {{\n",
              "        var display = window.getComputedStyle(gd).display;\n",
              "        if (!display || display === 'none') {{\n",
              "            console.log([gd, 'removed!']);\n",
              "            Plotly.purge(gd);\n",
              "            observer.disconnect();\n",
              "        }}\n",
              "}});\n",
              "\n",
              "// Listen for the removal of the full notebook cells\n",
              "var notebookContainer = gd.closest('#notebook-container');\n",
              "if (notebookContainer) {{\n",
              "    x.observe(notebookContainer, {childList: true});\n",
              "}}\n",
              "\n",
              "// Listen for the clearing of the current output cell\n",
              "var outputEl = gd.closest('.output');\n",
              "if (outputEl) {{\n",
              "    x.observe(outputEl, {childList: true});\n",
              "}}\n",
              "\n",
              "                        })\n",
              "                };\n",
              "                \n",
              "            </script>\n",
              "        </div>\n",
              "</body>\n",
              "</html>"
            ]
          },
          "metadata": {}
        }
      ]
    },
    {
      "cell_type": "markdown",
      "source": [
        "# Sub-task 5: Correlation Analysis"
      ],
      "metadata": {
        "id": "pl1BNA1Jcgbn"
      }
    },
    {
      "cell_type": "code",
      "source": [
        "import seaborn as sns\n",
        "employee_continuous = employee.loc[:, ['Age', 'DailyRate', 'DistanceFromHome','HourlyRate','MonthlyIncome','MonthlyRate','NumCompaniesWorked','PercentSalaryHike','TotalWorkingYears','YearsAtCompany','YearsInCurrentRole','YearsSinceLastPromotion','YearsWithCurrManager']]\n",
        "corr_employee = employee_continuous.corr()\n",
        "corr_employee"
      ],
      "metadata": {
        "colab": {
          "base_uri": "https://localhost:8080/",
          "height": 477
        },
        "id": "1Z0oR9kkmp3i",
        "outputId": "f2c3dd94-0f53-43a5-9fc2-89adf3c18079"
      },
      "execution_count": null,
      "outputs": [
        {
          "output_type": "execute_result",
          "data": {
            "text/html": [
              "<div>\n",
              "<style scoped>\n",
              "    .dataframe tbody tr th:only-of-type {\n",
              "        vertical-align: middle;\n",
              "    }\n",
              "\n",
              "    .dataframe tbody tr th {\n",
              "        vertical-align: top;\n",
              "    }\n",
              "\n",
              "    .dataframe thead th {\n",
              "        text-align: right;\n",
              "    }\n",
              "</style>\n",
              "<table border=\"1\" class=\"dataframe\">\n",
              "  <thead>\n",
              "    <tr style=\"text-align: right;\">\n",
              "      <th></th>\n",
              "      <th>Age</th>\n",
              "      <th>DailyRate</th>\n",
              "      <th>DistanceFromHome</th>\n",
              "      <th>HourlyRate</th>\n",
              "      <th>MonthlyIncome</th>\n",
              "      <th>MonthlyRate</th>\n",
              "      <th>NumCompaniesWorked</th>\n",
              "      <th>PercentSalaryHike</th>\n",
              "      <th>TotalWorkingYears</th>\n",
              "      <th>YearsAtCompany</th>\n",
              "      <th>YearsInCurrentRole</th>\n",
              "      <th>YearsSinceLastPromotion</th>\n",
              "      <th>YearsWithCurrManager</th>\n",
              "    </tr>\n",
              "  </thead>\n",
              "  <tbody>\n",
              "    <tr>\n",
              "      <th>Age</th>\n",
              "      <td>1.000000</td>\n",
              "      <td>0.010661</td>\n",
              "      <td>-0.001686</td>\n",
              "      <td>0.024287</td>\n",
              "      <td>0.497855</td>\n",
              "      <td>0.028051</td>\n",
              "      <td>0.299635</td>\n",
              "      <td>0.003634</td>\n",
              "      <td>0.680381</td>\n",
              "      <td>0.311309</td>\n",
              "      <td>0.212901</td>\n",
              "      <td>0.216513</td>\n",
              "      <td>0.202089</td>\n",
              "    </tr>\n",
              "    <tr>\n",
              "      <th>DailyRate</th>\n",
              "      <td>0.010661</td>\n",
              "      <td>1.000000</td>\n",
              "      <td>-0.004985</td>\n",
              "      <td>0.023381</td>\n",
              "      <td>0.007707</td>\n",
              "      <td>-0.032182</td>\n",
              "      <td>0.038153</td>\n",
              "      <td>0.022704</td>\n",
              "      <td>0.014515</td>\n",
              "      <td>-0.034055</td>\n",
              "      <td>0.009932</td>\n",
              "      <td>-0.033229</td>\n",
              "      <td>-0.026363</td>\n",
              "    </tr>\n",
              "    <tr>\n",
              "      <th>DistanceFromHome</th>\n",
              "      <td>-0.001686</td>\n",
              "      <td>-0.004985</td>\n",
              "      <td>1.000000</td>\n",
              "      <td>0.031131</td>\n",
              "      <td>-0.017014</td>\n",
              "      <td>0.027473</td>\n",
              "      <td>-0.029251</td>\n",
              "      <td>0.040235</td>\n",
              "      <td>0.004628</td>\n",
              "      <td>0.009508</td>\n",
              "      <td>0.018845</td>\n",
              "      <td>0.010029</td>\n",
              "      <td>0.014406</td>\n",
              "    </tr>\n",
              "    <tr>\n",
              "      <th>HourlyRate</th>\n",
              "      <td>0.024287</td>\n",
              "      <td>0.023381</td>\n",
              "      <td>0.031131</td>\n",
              "      <td>1.000000</td>\n",
              "      <td>-0.015794</td>\n",
              "      <td>-0.015297</td>\n",
              "      <td>0.022157</td>\n",
              "      <td>-0.009062</td>\n",
              "      <td>-0.002334</td>\n",
              "      <td>-0.019582</td>\n",
              "      <td>-0.024106</td>\n",
              "      <td>-0.026716</td>\n",
              "      <td>-0.020123</td>\n",
              "    </tr>\n",
              "    <tr>\n",
              "      <th>MonthlyIncome</th>\n",
              "      <td>0.497855</td>\n",
              "      <td>0.007707</td>\n",
              "      <td>-0.017014</td>\n",
              "      <td>-0.015794</td>\n",
              "      <td>1.000000</td>\n",
              "      <td>0.034814</td>\n",
              "      <td>0.149515</td>\n",
              "      <td>-0.027269</td>\n",
              "      <td>0.772893</td>\n",
              "      <td>0.514285</td>\n",
              "      <td>0.363818</td>\n",
              "      <td>0.344978</td>\n",
              "      <td>0.344079</td>\n",
              "    </tr>\n",
              "    <tr>\n",
              "      <th>MonthlyRate</th>\n",
              "      <td>0.028051</td>\n",
              "      <td>-0.032182</td>\n",
              "      <td>0.027473</td>\n",
              "      <td>-0.015297</td>\n",
              "      <td>0.034814</td>\n",
              "      <td>1.000000</td>\n",
              "      <td>0.017521</td>\n",
              "      <td>-0.006429</td>\n",
              "      <td>0.026442</td>\n",
              "      <td>-0.023655</td>\n",
              "      <td>-0.012815</td>\n",
              "      <td>0.001567</td>\n",
              "      <td>-0.036746</td>\n",
              "    </tr>\n",
              "    <tr>\n",
              "      <th>NumCompaniesWorked</th>\n",
              "      <td>0.299635</td>\n",
              "      <td>0.038153</td>\n",
              "      <td>-0.029251</td>\n",
              "      <td>0.022157</td>\n",
              "      <td>0.149515</td>\n",
              "      <td>0.017521</td>\n",
              "      <td>1.000000</td>\n",
              "      <td>-0.010238</td>\n",
              "      <td>0.237639</td>\n",
              "      <td>-0.118421</td>\n",
              "      <td>-0.090754</td>\n",
              "      <td>-0.036814</td>\n",
              "      <td>-0.110319</td>\n",
              "    </tr>\n",
              "    <tr>\n",
              "      <th>PercentSalaryHike</th>\n",
              "      <td>0.003634</td>\n",
              "      <td>0.022704</td>\n",
              "      <td>0.040235</td>\n",
              "      <td>-0.009062</td>\n",
              "      <td>-0.027269</td>\n",
              "      <td>-0.006429</td>\n",
              "      <td>-0.010238</td>\n",
              "      <td>1.000000</td>\n",
              "      <td>-0.020608</td>\n",
              "      <td>-0.035991</td>\n",
              "      <td>-0.001520</td>\n",
              "      <td>-0.022154</td>\n",
              "      <td>-0.011985</td>\n",
              "    </tr>\n",
              "    <tr>\n",
              "      <th>TotalWorkingYears</th>\n",
              "      <td>0.680381</td>\n",
              "      <td>0.014515</td>\n",
              "      <td>0.004628</td>\n",
              "      <td>-0.002334</td>\n",
              "      <td>0.772893</td>\n",
              "      <td>0.026442</td>\n",
              "      <td>0.237639</td>\n",
              "      <td>-0.020608</td>\n",
              "      <td>1.000000</td>\n",
              "      <td>0.628133</td>\n",
              "      <td>0.460365</td>\n",
              "      <td>0.404858</td>\n",
              "      <td>0.459188</td>\n",
              "    </tr>\n",
              "    <tr>\n",
              "      <th>YearsAtCompany</th>\n",
              "      <td>0.311309</td>\n",
              "      <td>-0.034055</td>\n",
              "      <td>0.009508</td>\n",
              "      <td>-0.019582</td>\n",
              "      <td>0.514285</td>\n",
              "      <td>-0.023655</td>\n",
              "      <td>-0.118421</td>\n",
              "      <td>-0.035991</td>\n",
              "      <td>0.628133</td>\n",
              "      <td>1.000000</td>\n",
              "      <td>0.758754</td>\n",
              "      <td>0.618409</td>\n",
              "      <td>0.769212</td>\n",
              "    </tr>\n",
              "    <tr>\n",
              "      <th>YearsInCurrentRole</th>\n",
              "      <td>0.212901</td>\n",
              "      <td>0.009932</td>\n",
              "      <td>0.018845</td>\n",
              "      <td>-0.024106</td>\n",
              "      <td>0.363818</td>\n",
              "      <td>-0.012815</td>\n",
              "      <td>-0.090754</td>\n",
              "      <td>-0.001520</td>\n",
              "      <td>0.460365</td>\n",
              "      <td>0.758754</td>\n",
              "      <td>1.000000</td>\n",
              "      <td>0.548056</td>\n",
              "      <td>0.714365</td>\n",
              "    </tr>\n",
              "    <tr>\n",
              "      <th>YearsSinceLastPromotion</th>\n",
              "      <td>0.216513</td>\n",
              "      <td>-0.033229</td>\n",
              "      <td>0.010029</td>\n",
              "      <td>-0.026716</td>\n",
              "      <td>0.344978</td>\n",
              "      <td>0.001567</td>\n",
              "      <td>-0.036814</td>\n",
              "      <td>-0.022154</td>\n",
              "      <td>0.404858</td>\n",
              "      <td>0.618409</td>\n",
              "      <td>0.548056</td>\n",
              "      <td>1.000000</td>\n",
              "      <td>0.510224</td>\n",
              "    </tr>\n",
              "    <tr>\n",
              "      <th>YearsWithCurrManager</th>\n",
              "      <td>0.202089</td>\n",
              "      <td>-0.026363</td>\n",
              "      <td>0.014406</td>\n",
              "      <td>-0.020123</td>\n",
              "      <td>0.344079</td>\n",
              "      <td>-0.036746</td>\n",
              "      <td>-0.110319</td>\n",
              "      <td>-0.011985</td>\n",
              "      <td>0.459188</td>\n",
              "      <td>0.769212</td>\n",
              "      <td>0.714365</td>\n",
              "      <td>0.510224</td>\n",
              "      <td>1.000000</td>\n",
              "    </tr>\n",
              "  </tbody>\n",
              "</table>\n",
              "</div>"
            ],
            "text/plain": [
              "                              Age  ...  YearsWithCurrManager\n",
              "Age                      1.000000  ...              0.202089\n",
              "DailyRate                0.010661  ...             -0.026363\n",
              "DistanceFromHome        -0.001686  ...              0.014406\n",
              "HourlyRate               0.024287  ...             -0.020123\n",
              "MonthlyIncome            0.497855  ...              0.344079\n",
              "MonthlyRate              0.028051  ...             -0.036746\n",
              "NumCompaniesWorked       0.299635  ...             -0.110319\n",
              "PercentSalaryHike        0.003634  ...             -0.011985\n",
              "TotalWorkingYears        0.680381  ...              0.459188\n",
              "YearsAtCompany           0.311309  ...              0.769212\n",
              "YearsInCurrentRole       0.212901  ...              0.714365\n",
              "YearsSinceLastPromotion  0.216513  ...              0.510224\n",
              "YearsWithCurrManager     0.202089  ...              1.000000\n",
              "\n",
              "[13 rows x 13 columns]"
            ]
          },
          "metadata": {},
          "execution_count": 4
        }
      ]
    },
    {
      "cell_type": "code",
      "source": [
        "plt.figure(figsize=(16, 16))\n",
        "heatmap = sns.heatmap(corr_employee, annot=True,cmap='GnBu')\n",
        "heatmap.set_title('Correlation Heatmap of continuous variables', fontdict={'fontsize':12}, pad=12)"
      ],
      "metadata": {
        "colab": {
          "base_uri": "https://localhost:8080/",
          "height": 1000
        },
        "id": "GvuGXCDlsT88",
        "outputId": "426119ff-66f4-4552-8837-2cfce5a4f693"
      },
      "execution_count": null,
      "outputs": [
        {
          "output_type": "execute_result",
          "data": {
            "text/plain": [
              "Text(0.5, 1.0, 'Correlation Heatmap of continuous variables')"
            ]
          },
          "metadata": {},
          "execution_count": 5
        },
        {
          "output_type": "display_data",
          "data": {
            "image/png": "[encoded data removed]",
            "text/plain": [
              "<Figure size 1152x1152 with 2 Axes>"
            ]
          },
          "metadata": {
            "needs_background": "light"
          }
        }
      ]
    },
    {
      "cell_type": "code",
      "source": [
        "plt.figure(figsize=(16, 16))\n",
        "triangle = np.triu(np.ones_like(employee_continuous.corr(),dtype=np.bool))\n",
        "heatmap = sns.heatmap(employee_continuous.corr(), mask=triangle, annot=True, cmap='GnBu')\n",
        "heatmap.set_title('Triangle Correlation Heatmap', fontdict={'fontsize':12}, pad=16)"
      ],
      "metadata": {
        "colab": {
          "base_uri": "https://localhost:8080/",
          "height": 1000
        },
        "id": "xybBEXuRu2C4",
        "outputId": "2a56b1f7-2a02-448d-9600-c56ed93e524b"
      },
      "execution_count": null,
      "outputs": [
        {
          "output_type": "execute_result",
          "data": {
            "text/plain": [
              "Text(0.5, 1.0, 'Triangle Correlation Heatmap')"
            ]
          },
          "metadata": {},
          "execution_count": 6
        },
        {
          "output_type": "display_data",
          "data": {
            "image/png": "[encoded data removed]",
            "text/plain": [
              "<Figure size 1152x1152 with 2 Axes>"
            ]
          },
          "metadata": {
            "needs_background": "light"
          }
        }
      ]
    },
    {
      "cell_type": "markdown",
      "source": [
        "# Regression Analysis"
      ],
      "metadata": {
        "id": "QZ8CfYqB_0mW"
      }
    },
    {
      "cell_type": "markdown",
      "source": [
        "## Preliminary to Regression Analysis"
      ],
      "metadata": {
        "id": "ED-TiDjh-FXD"
      }
    },
    {
      "cell_type": "code",
      "metadata": {
        "id": "cNlQYYg8Jj8J",
        "outputId": "bcb18157-1003-42e8-91b9-93227dabefd6",
        "colab": {
          "base_uri": "https://localhost:8080/",
          "height": 276
        }
      },
      "source": [
        "from statsmodels.stats.outliers_influence import variance_inflation_factor\n",
        "def calc_vif(X):\n",
        "\n",
        "    # Calculating VIF\n",
        "    vif = pd.DataFrame()\n",
        "    vif[\"variables\"] = X.columns\n",
        "    vif[\"VIF\"] = [variance_inflation_factor(X.values, i) for i in range(X.shape[1])]\n",
        "\n",
        "    return(vif)\n",
        "\n",
        "X= employee[['MonthlyIncome','YearsSinceLastPromotion','YearsAtCompany','DistanceFromHome','NumCompaniesWorked']]\n",
        "calc_vif(X)"
      ],
      "execution_count": null,
      "outputs": [
        {
          "output_type": "stream",
          "name": "stderr",
          "text": [
            "/usr/local/lib/python3.7/dist-packages/statsmodels/tools/_testing.py:19: FutureWarning:\n",
            "\n",
            "pandas.util.testing is deprecated. Use the functions in the public API at pandas.testing instead.\n",
            "\n"
          ]
        },
        {
          "output_type": "execute_result",
          "data": {
            "text/html": [
              "<div>\n",
              "<style scoped>\n",
              "    .dataframe tbody tr th:only-of-type {\n",
              "        vertical-align: middle;\n",
              "    }\n",
              "\n",
              "    .dataframe tbody tr th {\n",
              "        vertical-align: top;\n",
              "    }\n",
              "\n",
              "    .dataframe thead th {\n",
              "        text-align: right;\n",
              "    }\n",
              "</style>\n",
              "<table border=\"1\" class=\"dataframe\">\n",
              "  <thead>\n",
              "    <tr style=\"text-align: right;\">\n",
              "      <th></th>\n",
              "      <th>variables</th>\n",
              "      <th>VIF</th>\n",
              "    </tr>\n",
              "  </thead>\n",
              "  <tbody>\n",
              "    <tr>\n",
              "      <th>0</th>\n",
              "      <td>MonthlyIncome</td>\n",
              "      <td>3.881511</td>\n",
              "    </tr>\n",
              "    <tr>\n",
              "      <th>1</th>\n",
              "      <td>YearsSinceLastPromotion</td>\n",
              "      <td>2.367267</td>\n",
              "    </tr>\n",
              "    <tr>\n",
              "      <th>2</th>\n",
              "      <td>YearsAtCompany</td>\n",
              "      <td>4.334148</td>\n",
              "    </tr>\n",
              "    <tr>\n",
              "      <th>3</th>\n",
              "      <td>DistanceFromHome</td>\n",
              "      <td>1.728443</td>\n",
              "    </tr>\n",
              "    <tr>\n",
              "      <th>4</th>\n",
              "      <td>NumCompaniesWorked</td>\n",
              "      <td>1.875217</td>\n",
              "    </tr>\n",
              "  </tbody>\n",
              "</table>\n",
              "</div>"
            ],
            "text/plain": [
              "                 variables       VIF\n",
              "0            MonthlyIncome  3.881511\n",
              "1  YearsSinceLastPromotion  2.367267\n",
              "2           YearsAtCompany  4.334148\n",
              "3         DistanceFromHome  1.728443\n",
              "4       NumCompaniesWorked  1.875217"
            ]
          },
          "metadata": {},
          "execution_count": 7
        }
      ]
    },
    {
      "cell_type": "code",
      "source": [
        "second_set= employee[['DailyRate','YearsWithCurrManager','YearsInCurrentRole','DistanceFromHome','MonthlyIncome']]\n",
        "calc_vif(second_set)"
      ],
      "metadata": {
        "colab": {
          "base_uri": "https://localhost:8080/",
          "height": 204
        },
        "id": "yMjJKU5VmpB0",
        "outputId": "ce8faca5-6fa4-4961-dfb5-68f1a1f082b0"
      },
      "execution_count": null,
      "outputs": [
        {
          "output_type": "execute_result",
          "data": {
            "text/html": [
              "<div>\n",
              "<style scoped>\n",
              "    .dataframe tbody tr th:only-of-type {\n",
              "        vertical-align: middle;\n",
              "    }\n",
              "\n",
              "    .dataframe tbody tr th {\n",
              "        vertical-align: top;\n",
              "    }\n",
              "\n",
              "    .dataframe thead th {\n",
              "        text-align: right;\n",
              "    }\n",
              "</style>\n",
              "<table border=\"1\" class=\"dataframe\">\n",
              "  <thead>\n",
              "    <tr style=\"text-align: right;\">\n",
              "      <th></th>\n",
              "      <th>variables</th>\n",
              "      <th>VIF</th>\n",
              "    </tr>\n",
              "  </thead>\n",
              "  <tbody>\n",
              "    <tr>\n",
              "      <th>0</th>\n",
              "      <td>DailyRate</td>\n",
              "      <td>2.719916</td>\n",
              "    </tr>\n",
              "    <tr>\n",
              "      <th>1</th>\n",
              "      <td>YearsWithCurrManager</td>\n",
              "      <td>4.765305</td>\n",
              "    </tr>\n",
              "    <tr>\n",
              "      <th>2</th>\n",
              "      <td>YearsInCurrentRole</td>\n",
              "      <td>4.971583</td>\n",
              "    </tr>\n",
              "    <tr>\n",
              "      <th>3</th>\n",
              "      <td>DistanceFromHome</td>\n",
              "      <td>1.947116</td>\n",
              "    </tr>\n",
              "    <tr>\n",
              "      <th>4</th>\n",
              "      <td>MonthlyIncome</td>\n",
              "      <td>3.037389</td>\n",
              "    </tr>\n",
              "  </tbody>\n",
              "</table>\n",
              "</div>"
            ],
            "text/plain": [
              "              variables       VIF\n",
              "0             DailyRate  2.719916\n",
              "1  YearsWithCurrManager  4.765305\n",
              "2    YearsInCurrentRole  4.971583\n",
              "3      DistanceFromHome  1.947116\n",
              "4         MonthlyIncome  3.037389"
            ]
          },
          "metadata": {},
          "execution_count": 39
        }
      ]
    },
    {
      "cell_type": "code",
      "source": [
        "## The Pearson's chi-squared statistical hypothesis is an example of a test for independence between categorical variables\n",
        "## Contingency Table\n",
        "from scipy.stats import chisquare\n",
        "employee_cate = employee.loc[:, ['Attrition', 'BusinessTravel', 'Department','EducationField','EnvironmentSatisfaction','Gender','JobInvolvement','JobLevel','JobRole','MaritalStatus','OverTime','PerformanceRating','StockOptionLevel','WorkLifeBalance']]\n",
        "df_employee=employee_cate.apply(lambda x : pd.factorize(x)[0])+1\n",
        "\n",
        "Contingency = pd.DataFrame([chisquare(df_employee[x].values,f_exp=df_employee.values.T,axis=1)[0] for x in df_employee])\n",
        "Contingency"
      ],
      "metadata": {
        "colab": {
          "base_uri": "https://localhost:8080/",
          "height": 483
        },
        "id": "YNJ4kGClxymC",
        "outputId": "c3dca5f4-e78e-4017-9870-998ba06ac233"
      },
      "execution_count": null,
      "outputs": [
        {
          "output_type": "execute_result",
          "data": {
            "text/html": [
              "<div>\n",
              "<style scoped>\n",
              "    .dataframe tbody tr th:only-of-type {\n",
              "        vertical-align: middle;\n",
              "    }\n",
              "\n",
              "    .dataframe tbody tr th {\n",
              "        vertical-align: top;\n",
              "    }\n",
              "\n",
              "    .dataframe thead th {\n",
              "        text-align: right;\n",
              "    }\n",
              "</style>\n",
              "<table border=\"1\" class=\"dataframe\">\n",
              "  <thead>\n",
              "    <tr style=\"text-align: right;\">\n",
              "      <th></th>\n",
              "      <th>0</th>\n",
              "      <th>1</th>\n",
              "      <th>2</th>\n",
              "      <th>3</th>\n",
              "      <th>4</th>\n",
              "      <th>5</th>\n",
              "      <th>6</th>\n",
              "      <th>7</th>\n",
              "      <th>8</th>\n",
              "      <th>9</th>\n",
              "      <th>10</th>\n",
              "      <th>11</th>\n",
              "      <th>12</th>\n",
              "      <th>13</th>\n",
              "    </tr>\n",
              "  </thead>\n",
              "  <tbody>\n",
              "    <tr>\n",
              "      <th>0</th>\n",
              "      <td>0.0</td>\n",
              "      <td>983.500000</td>\n",
              "      <td>453.500000</td>\n",
              "      <td>1307.816667</td>\n",
              "      <td>857.666667</td>\n",
              "      <td>576.0</td>\n",
              "      <td>957.500000</td>\n",
              "      <td>901.616667</td>\n",
              "      <td>2140.880159</td>\n",
              "      <td>534.000000</td>\n",
              "      <td>344.0</td>\n",
              "      <td>1062.5</td>\n",
              "      <td>721.333333</td>\n",
              "      <td>477.916667</td>\n",
              "    </tr>\n",
              "    <tr>\n",
              "      <th>1</th>\n",
              "      <td>629.5</td>\n",
              "      <td>0.000000</td>\n",
              "      <td>726.500000</td>\n",
              "      <td>1627.233333</td>\n",
              "      <td>1286.583333</td>\n",
              "      <td>674.0</td>\n",
              "      <td>943.416667</td>\n",
              "      <td>1205.450000</td>\n",
              "      <td>2744.895238</td>\n",
              "      <td>875.833333</td>\n",
              "      <td>657.5</td>\n",
              "      <td>817.0</td>\n",
              "      <td>973.833333</td>\n",
              "      <td>1019.583333</td>\n",
              "    </tr>\n",
              "    <tr>\n",
              "      <th>2</th>\n",
              "      <td>383.5</td>\n",
              "      <td>1008.500000</td>\n",
              "      <td>0.000000</td>\n",
              "      <td>1430.783333</td>\n",
              "      <td>959.750000</td>\n",
              "      <td>609.0</td>\n",
              "      <td>965.166667</td>\n",
              "      <td>822.066667</td>\n",
              "      <td>1776.657143</td>\n",
              "      <td>666.666667</td>\n",
              "      <td>521.0</td>\n",
              "      <td>1056.0</td>\n",
              "      <td>885.916667</td>\n",
              "      <td>659.833333</td>\n",
              "    </tr>\n",
              "    <tr>\n",
              "      <th>3</th>\n",
              "      <td>2582.0</td>\n",
              "      <td>4852.000000</td>\n",
              "      <td>3275.166667</td>\n",
              "      <td>0.000000</td>\n",
              "      <td>2406.166667</td>\n",
              "      <td>3454.0</td>\n",
              "      <td>4275.333333</td>\n",
              "      <td>3230.333333</td>\n",
              "      <td>3586.631746</td>\n",
              "      <td>2882.000000</td>\n",
              "      <td>2931.5</td>\n",
              "      <td>5534.0</td>\n",
              "      <td>3521.500000</td>\n",
              "      <td>1782.250000</td>\n",
              "    </tr>\n",
              "    <tr>\n",
              "      <th>4</th>\n",
              "      <td>1689.0</td>\n",
              "      <td>3591.166667</td>\n",
              "      <td>2060.333333</td>\n",
              "      <td>2728.800000</td>\n",
              "      <td>0.000000</td>\n",
              "      <td>2467.5</td>\n",
              "      <td>3224.833333</td>\n",
              "      <td>2281.000000</td>\n",
              "      <td>2736.354762</td>\n",
              "      <td>2158.166667</td>\n",
              "      <td>1951.0</td>\n",
              "      <td>4175.0</td>\n",
              "      <td>2660.750000</td>\n",
              "      <td>1140.166667</td>\n",
              "    </tr>\n",
              "    <tr>\n",
              "      <th>5</th>\n",
              "      <td>400.5</td>\n",
              "      <td>778.500000</td>\n",
              "      <td>487.500000</td>\n",
              "      <td>1364.816667</td>\n",
              "      <td>1017.416667</td>\n",
              "      <td>0.0</td>\n",
              "      <td>825.250000</td>\n",
              "      <td>907.716667</td>\n",
              "      <td>2386.578968</td>\n",
              "      <td>633.000000</td>\n",
              "      <td>440.0</td>\n",
              "      <td>797.0</td>\n",
              "      <td>789.333333</td>\n",
              "      <td>707.416667</td>\n",
              "    </tr>\n",
              "    <tr>\n",
              "      <th>6</th>\n",
              "      <td>922.0</td>\n",
              "      <td>1416.666667</td>\n",
              "      <td>998.666667</td>\n",
              "      <td>1862.233333</td>\n",
              "      <td>1480.750000</td>\n",
              "      <td>1061.0</td>\n",
              "      <td>0.000000</td>\n",
              "      <td>1445.400000</td>\n",
              "      <td>2706.365079</td>\n",
              "      <td>1121.166667</td>\n",
              "      <td>973.0</td>\n",
              "      <td>1516.5</td>\n",
              "      <td>1299.666667</td>\n",
              "      <td>1055.333333</td>\n",
              "    </tr>\n",
              "    <tr>\n",
              "      <th>7</th>\n",
              "      <td>1220.0</td>\n",
              "      <td>2856.333333</td>\n",
              "      <td>1522.500000</td>\n",
              "      <td>2326.650000</td>\n",
              "      <td>1515.000000</td>\n",
              "      <td>1949.5</td>\n",
              "      <td>2517.333333</td>\n",
              "      <td>0.000000</td>\n",
              "      <td>1941.473016</td>\n",
              "      <td>1632.166667</td>\n",
              "      <td>1640.0</td>\n",
              "      <td>3103.0</td>\n",
              "      <td>2105.750000</td>\n",
              "      <td>1126.833333</td>\n",
              "    </tr>\n",
              "    <tr>\n",
              "      <th>8</th>\n",
              "      <td>7545.0</td>\n",
              "      <td>14000.833333</td>\n",
              "      <td>7451.000000</td>\n",
              "      <td>8430.783333</td>\n",
              "      <td>6631.500000</td>\n",
              "      <td>10522.5</td>\n",
              "      <td>12319.250000</td>\n",
              "      <td>6042.316667</td>\n",
              "      <td>0.000000</td>\n",
              "      <td>8370.333333</td>\n",
              "      <td>8954.5</td>\n",
              "      <td>15774.0</td>\n",
              "      <td>10353.333333</td>\n",
              "      <td>5331.916667</td>\n",
              "    </tr>\n",
              "    <tr>\n",
              "      <th>9</th>\n",
              "      <td>538.0</td>\n",
              "      <td>1537.833333</td>\n",
              "      <td>846.666667</td>\n",
              "      <td>1630.933333</td>\n",
              "      <td>1114.833333</td>\n",
              "      <td>980.5</td>\n",
              "      <td>1465.166667</td>\n",
              "      <td>1263.933333</td>\n",
              "      <td>2351.172222</td>\n",
              "      <td>0.000000</td>\n",
              "      <td>865.5</td>\n",
              "      <td>1743.0</td>\n",
              "      <td>396.250000</td>\n",
              "      <td>715.333333</td>\n",
              "    </tr>\n",
              "    <tr>\n",
              "      <th>10</th>\n",
              "      <td>254.5</td>\n",
              "      <td>876.000000</td>\n",
              "      <td>491.500000</td>\n",
              "      <td>1327.366667</td>\n",
              "      <td>922.666667</td>\n",
              "      <td>526.0</td>\n",
              "      <td>878.750000</td>\n",
              "      <td>898.316667</td>\n",
              "      <td>2258.978968</td>\n",
              "      <td>640.000000</td>\n",
              "      <td>0.0</td>\n",
              "      <td>925.5</td>\n",
              "      <td>795.333333</td>\n",
              "      <td>601.666667</td>\n",
              "    </tr>\n",
              "    <tr>\n",
              "      <th>11</th>\n",
              "      <td>559.0</td>\n",
              "      <td>443.500000</td>\n",
              "      <td>538.500000</td>\n",
              "      <td>1511.766667</td>\n",
              "      <td>1341.666667</td>\n",
              "      <td>469.0</td>\n",
              "      <td>627.000000</td>\n",
              "      <td>992.166667</td>\n",
              "      <td>2787.644444</td>\n",
              "      <td>743.500000</td>\n",
              "      <td>511.5</td>\n",
              "      <td>0.0</td>\n",
              "      <td>767.833333</td>\n",
              "      <td>1116.166667</td>\n",
              "    </tr>\n",
              "    <tr>\n",
              "      <th>12</th>\n",
              "      <td>789.5</td>\n",
              "      <td>1911.500000</td>\n",
              "      <td>1215.833333</td>\n",
              "      <td>1920.800000</td>\n",
              "      <td>1373.083333</td>\n",
              "      <td>1312.5</td>\n",
              "      <td>1759.333333</td>\n",
              "      <td>1737.783333</td>\n",
              "      <td>2746.614286</td>\n",
              "      <td>361.166667</td>\n",
              "      <td>1117.5</td>\n",
              "      <td>2106.5</td>\n",
              "      <td>0.000000</td>\n",
              "      <td>955.916667</td>\n",
              "    </tr>\n",
              "    <tr>\n",
              "      <th>13</th>\n",
              "      <td>1024.5</td>\n",
              "      <td>2684.166667</td>\n",
              "      <td>1504.166667</td>\n",
              "      <td>1962.000000</td>\n",
              "      <td>1244.416667</td>\n",
              "      <td>1743.0</td>\n",
              "      <td>2441.166667</td>\n",
              "      <td>1773.233333</td>\n",
              "      <td>2389.793254</td>\n",
              "      <td>1474.166667</td>\n",
              "      <td>1377.0</td>\n",
              "      <td>3183.0</td>\n",
              "      <td>1889.333333</td>\n",
              "      <td>0.000000</td>\n",
              "    </tr>\n",
              "  </tbody>\n",
              "</table>\n",
              "</div>"
            ],
            "text/plain": [
              "        0             1            2   ...       11            12           13\n",
              "0      0.0    983.500000   453.500000  ...   1062.5    721.333333   477.916667\n",
              "1    629.5      0.000000   726.500000  ...    817.0    973.833333  1019.583333\n",
              "2    383.5   1008.500000     0.000000  ...   1056.0    885.916667   659.833333\n",
              "3   2582.0   4852.000000  3275.166667  ...   5534.0   3521.500000  1782.250000\n",
              "4   1689.0   3591.166667  2060.333333  ...   4175.0   2660.750000  1140.166667\n",
              "5    400.5    778.500000   487.500000  ...    797.0    789.333333   707.416667\n",
              "6    922.0   1416.666667   998.666667  ...   1516.5   1299.666667  1055.333333\n",
              "7   1220.0   2856.333333  1522.500000  ...   3103.0   2105.750000  1126.833333\n",
              "8   7545.0  14000.833333  7451.000000  ...  15774.0  10353.333333  5331.916667\n",
              "9    538.0   1537.833333   846.666667  ...   1743.0    396.250000   715.333333\n",
              "10   254.5    876.000000   491.500000  ...    925.5    795.333333   601.666667\n",
              "11   559.0    443.500000   538.500000  ...      0.0    767.833333  1116.166667\n",
              "12   789.5   1911.500000  1215.833333  ...   2106.5      0.000000   955.916667\n",
              "13  1024.5   2684.166667  1504.166667  ...   3183.0   1889.333333     0.000000\n",
              "\n",
              "[14 rows x 14 columns]"
            ]
          },
          "metadata": {},
          "execution_count": 40
        }
      ]
    },
    {
      "cell_type": "code",
      "source": [
        "from scipy.stats import chi2_contingency \n",
        "\n",
        "cat_cols=[]\n",
        "for i in employee.columns:\n",
        "    if employee[i].nunique() <= 5 or employee[i].dtype == object:\n",
        "        cat_cols.append(i)\n",
        "df=employee.copy()\n",
        "df.drop(df[cat_cols], axis=1, inplace=True)\n",
        "df.drop('EmployeeNumber', axis=1, inplace=True)\n",
        "for i in employee[cat_cols]:\n",
        "    if i=='Attrition':\n",
        "        continue\n",
        "    employee[i] = pd.Categorical(employee[i])\n",
        "df=employee.copy()\n",
        "cat_cols=employee.select_dtypes(include=\"category\").columns.tolist() \n",
        "chi_statistic=[]\n",
        "p_val=[]\n",
        "vars_rm=[]\n",
        "for i in df[cat_cols]:\n",
        "    observed=pd.crosstab(index=df[\"Attrition\"], columns=df[i])\n",
        "    stat, p, dof, expected=chi2_contingency(observed)\n",
        "    chi_statistic.append(stat)\n",
        "    p_val.append(p)\n",
        "    if p >= 0.05:\n",
        "        print(\"Attrition and {} are independent (p-value = {:.2f}).\\n\".format(i,p))\n",
        "        vars_rm.append(i)\n",
        "\n",
        "chi_df = pd.DataFrame()\n",
        "chi_df[\"Variable\"] = cat_cols\n",
        "chi_df[\"Chi_Statistic\"] = chi_statistic\n",
        "chi_df[\"P_value\"] = p_val\n",
        "chi_df=chi_df[chi_df.P_value<0.05].sort_values(\"P_value\", ascending=False)\n",
        "display(chi_df)"
      ],
      "metadata": {
        "id": "u_y590Z9eKZ8",
        "colab": {
          "base_uri": "https://localhost:8080/",
          "height": 669
        },
        "outputId": "6f741f91-5730-406c-eb7c-d5ce24ae31cb"
      },
      "execution_count": null,
      "outputs": [
        {
          "output_type": "stream",
          "name": "stdout",
          "text": [
            "Attrition and Education are independent (p-value = 0.55).\n",
            "\n",
            "Attrition and EmployeeCount are independent (p-value = 1.00).\n",
            "\n",
            "Attrition and Gender are independent (p-value = 0.29).\n",
            "\n",
            "Attrition and Over18 are independent (p-value = 1.00).\n",
            "\n",
            "Attrition and PerformanceRating are independent (p-value = 0.99).\n",
            "\n",
            "Attrition and RelationshipSatisfaction are independent (p-value = 0.15).\n",
            "\n",
            "Attrition and StandardHours are independent (p-value = 1.00).\n",
            "\n"
          ]
        },
        {
          "output_type": "display_data",
          "data": {
            "text/html": [
              "<div>\n",
              "<style scoped>\n",
              "    .dataframe tbody tr th:only-of-type {\n",
              "        vertical-align: middle;\n",
              "    }\n",
              "\n",
              "    .dataframe tbody tr th {\n",
              "        vertical-align: top;\n",
              "    }\n",
              "\n",
              "    .dataframe thead th {\n",
              "        text-align: right;\n",
              "    }\n",
              "</style>\n",
              "<table border=\"1\" class=\"dataframe\">\n",
              "  <thead>\n",
              "    <tr style=\"text-align: right;\">\n",
              "      <th></th>\n",
              "      <th>Variable</th>\n",
              "      <th>Chi_Statistic</th>\n",
              "      <th>P_value</th>\n",
              "    </tr>\n",
              "  </thead>\n",
              "  <tbody>\n",
              "    <tr>\n",
              "      <th>3</th>\n",
              "      <td>EducationField</td>\n",
              "      <td>16.024674</td>\n",
              "      <td>6.773980e-03</td>\n",
              "    </tr>\n",
              "    <tr>\n",
              "      <th>1</th>\n",
              "      <td>Department</td>\n",
              "      <td>10.796007</td>\n",
              "      <td>4.525607e-03</td>\n",
              "    </tr>\n",
              "    <tr>\n",
              "      <th>18</th>\n",
              "      <td>WorkLifeBalance</td>\n",
              "      <td>16.325097</td>\n",
              "      <td>9.725699e-04</td>\n",
              "    </tr>\n",
              "    <tr>\n",
              "      <th>10</th>\n",
              "      <td>JobSatisfaction</td>\n",
              "      <td>17.505077</td>\n",
              "      <td>5.563005e-04</td>\n",
              "    </tr>\n",
              "    <tr>\n",
              "      <th>5</th>\n",
              "      <td>EnvironmentSatisfaction</td>\n",
              "      <td>22.503881</td>\n",
              "      <td>5.123469e-05</td>\n",
              "    </tr>\n",
              "    <tr>\n",
              "      <th>0</th>\n",
              "      <td>BusinessTravel</td>\n",
              "      <td>24.182414</td>\n",
              "      <td>5.608614e-06</td>\n",
              "    </tr>\n",
              "    <tr>\n",
              "      <th>7</th>\n",
              "      <td>JobInvolvement</td>\n",
              "      <td>28.492021</td>\n",
              "      <td>2.863181e-06</td>\n",
              "    </tr>\n",
              "    <tr>\n",
              "      <th>11</th>\n",
              "      <td>MaritalStatus</td>\n",
              "      <td>46.163677</td>\n",
              "      <td>9.455511e-11</td>\n",
              "    </tr>\n",
              "    <tr>\n",
              "      <th>17</th>\n",
              "      <td>StockOptionLevel</td>\n",
              "      <td>60.598301</td>\n",
              "      <td>4.379390e-13</td>\n",
              "    </tr>\n",
              "    <tr>\n",
              "      <th>8</th>\n",
              "      <td>JobLevel</td>\n",
              "      <td>72.529013</td>\n",
              "      <td>6.634685e-15</td>\n",
              "    </tr>\n",
              "    <tr>\n",
              "      <th>9</th>\n",
              "      <td>JobRole</td>\n",
              "      <td>86.190254</td>\n",
              "      <td>2.752482e-15</td>\n",
              "    </tr>\n",
              "    <tr>\n",
              "      <th>13</th>\n",
              "      <td>OverTime</td>\n",
              "      <td>87.564294</td>\n",
              "      <td>8.158424e-21</td>\n",
              "    </tr>\n",
              "  </tbody>\n",
              "</table>\n",
              "</div>"
            ],
            "text/plain": [
              "                   Variable  Chi_Statistic       P_value\n",
              "3            EducationField      16.024674  6.773980e-03\n",
              "1                Department      10.796007  4.525607e-03\n",
              "18          WorkLifeBalance      16.325097  9.725699e-04\n",
              "10          JobSatisfaction      17.505077  5.563005e-04\n",
              "5   EnvironmentSatisfaction      22.503881  5.123469e-05\n",
              "0            BusinessTravel      24.182414  5.608614e-06\n",
              "7            JobInvolvement      28.492021  2.863181e-06\n",
              "11            MaritalStatus      46.163677  9.455511e-11\n",
              "17         StockOptionLevel      60.598301  4.379390e-13\n",
              "8                  JobLevel      72.529013  6.634685e-15\n",
              "9                   JobRole      86.190254  2.752482e-15\n",
              "13                 OverTime      87.564294  8.158424e-21"
            ]
          },
          "metadata": {}
        }
      ]
    },
    {
      "cell_type": "markdown",
      "source": [
        "## Regression Analysis"
      ],
      "metadata": {
        "id": "8F8FrOdyemca"
      }
    },
    {
      "cell_type": "code",
      "source": [
        "import statsmodels.formula.api as smf\n",
        "import statsmodels.stats as stats\n",
        "from sklearn import linear_model\n",
        "import statsmodels.api as sm\n",
        "y=employee['Attrition'].apply(lambda x: 1 if x=='Yes' else 0)\n",
        "X=employee.loc[:, employee.columns != 'Attrition']\n",
        "num_cat=['BusinessTravel', 'Department','EducationField','StockOptionLevel',  'EnvironmentSatisfaction','Gender','JobInvolvement','JobLevel','JobRole','MaritalStatus','Education','OverTime', 'JobSatisfaction', 'PerformanceRating', 'RelationshipSatisfaction' , 'WorkLifeBalance']\n",
        "\n",
        "X=pd.get_dummies(X, columns=num_cat,drop_first = True)\n",
        "\n",
        "y=y.astype('category')\n",
        "X\n"
      ],
      "metadata": {
        "id": "gk7DngO6Mwqa",
        "colab": {
          "base_uri": "https://localhost:8080/",
          "height": 461
        },
        "outputId": "ec793e59-6093-491f-9a58-70384b1df37a"
      },
      "execution_count": null,
      "outputs": [
        {
          "output_type": "execute_result",
          "data": {
            "text/html": [
              "<div>\n",
              "<style scoped>\n",
              "    .dataframe tbody tr th:only-of-type {\n",
              "        vertical-align: middle;\n",
              "    }\n",
              "\n",
              "    .dataframe tbody tr th {\n",
              "        vertical-align: top;\n",
              "    }\n",
              "\n",
              "    .dataframe thead th {\n",
              "        text-align: right;\n",
              "    }\n",
              "</style>\n",
              "<table border=\"1\" class=\"dataframe\">\n",
              "  <thead>\n",
              "    <tr style=\"text-align: right;\">\n",
              "      <th></th>\n",
              "      <th>Age</th>\n",
              "      <th>DailyRate</th>\n",
              "      <th>DistanceFromHome</th>\n",
              "      <th>EmployeeCount</th>\n",
              "      <th>EmployeeNumber</th>\n",
              "      <th>HourlyRate</th>\n",
              "      <th>MonthlyIncome</th>\n",
              "      <th>MonthlyRate</th>\n",
              "      <th>NumCompaniesWorked</th>\n",
              "      <th>Over18</th>\n",
              "      <th>PercentSalaryHike</th>\n",
              "      <th>StandardHours</th>\n",
              "      <th>TotalWorkingYears</th>\n",
              "      <th>TrainingTimesLastYear</th>\n",
              "      <th>YearsAtCompany</th>\n",
              "      <th>YearsInCurrentRole</th>\n",
              "      <th>YearsSinceLastPromotion</th>\n",
              "      <th>YearsWithCurrManager</th>\n",
              "      <th>BusinessTravel_Travel_Frequently</th>\n",
              "      <th>BusinessTravel_Travel_Rarely</th>\n",
              "      <th>Department_Research &amp; Development</th>\n",
              "      <th>Department_Sales</th>\n",
              "      <th>EducationField_Life Sciences</th>\n",
              "      <th>EducationField_Marketing</th>\n",
              "      <th>EducationField_Medical</th>\n",
              "      <th>EducationField_Other</th>\n",
              "      <th>EducationField_Technical Degree</th>\n",
              "      <th>StockOptionLevel_1</th>\n",
              "      <th>StockOptionLevel_2</th>\n",
              "      <th>StockOptionLevel_3</th>\n",
              "      <th>EnvironmentSatisfaction_2</th>\n",
              "      <th>EnvironmentSatisfaction_3</th>\n",
              "      <th>EnvironmentSatisfaction_4</th>\n",
              "      <th>Gender_Male</th>\n",
              "      <th>JobInvolvement_2</th>\n",
              "      <th>JobInvolvement_3</th>\n",
              "      <th>JobInvolvement_4</th>\n",
              "      <th>JobLevel_2</th>\n",
              "      <th>JobLevel_3</th>\n",
              "      <th>JobLevel_4</th>\n",
              "      <th>JobLevel_5</th>\n",
              "      <th>JobRole_Human Resources</th>\n",
              "      <th>JobRole_Laboratory Technician</th>\n",
              "      <th>JobRole_Manager</th>\n",
              "      <th>JobRole_Manufacturing Director</th>\n",
              "      <th>JobRole_Research Director</th>\n",
              "      <th>JobRole_Research Scientist</th>\n",
              "      <th>JobRole_Sales Executive</th>\n",
              "      <th>JobRole_Sales Representative</th>\n",
              "      <th>MaritalStatus_Married</th>\n",
              "      <th>MaritalStatus_Single</th>\n",
              "      <th>Education_2</th>\n",
              "      <th>Education_3</th>\n",
              "      <th>Education_4</th>\n",
              "      <th>Education_5</th>\n",
              "      <th>OverTime_Yes</th>\n",
              "      <th>JobSatisfaction_2</th>\n",
              "      <th>JobSatisfaction_3</th>\n",
              "      <th>JobSatisfaction_4</th>\n",
              "      <th>PerformanceRating_4</th>\n",
              "      <th>RelationshipSatisfaction_2</th>\n",
              "      <th>RelationshipSatisfaction_3</th>\n",
              "      <th>RelationshipSatisfaction_4</th>\n",
              "      <th>WorkLifeBalance_2</th>\n",
              "      <th>WorkLifeBalance_3</th>\n",
              "      <th>WorkLifeBalance_4</th>\n",
              "    </tr>\n",
              "  </thead>\n",
              "  <tbody>\n",
              "    <tr>\n",
              "      <th>0</th>\n",
              "      <td>41</td>\n",
              "      <td>1102</td>\n",
              "      <td>1</td>\n",
              "      <td>1</td>\n",
              "      <td>1</td>\n",
              "      <td>94</td>\n",
              "      <td>5993</td>\n",
              "      <td>19479</td>\n",
              "      <td>8</td>\n",
              "      <td>Y</td>\n",
              "      <td>11</td>\n",
              "      <td>80</td>\n",
              "      <td>8</td>\n",
              "      <td>0</td>\n",
              "      <td>6</td>\n",
              "      <td>4</td>\n",
              "      <td>0</td>\n",
              "      <td>5</td>\n",
              "      <td>0</td>\n",
              "      <td>1</td>\n",
              "      <td>0</td>\n",
              "      <td>1</td>\n",
              "      <td>1</td>\n",
              "      <td>0</td>\n",
              "      <td>0</td>\n",
              "      <td>0</td>\n",
              "      <td>0</td>\n",
              "      <td>0</td>\n",
              "      <td>0</td>\n",
              "      <td>0</td>\n",
              "      <td>1</td>\n",
              "      <td>0</td>\n",
              "      <td>0</td>\n",
              "      <td>0</td>\n",
              "      <td>0</td>\n",
              "      <td>1</td>\n",
              "      <td>0</td>\n",
              "      <td>1</td>\n",
              "      <td>0</td>\n",
              "      <td>0</td>\n",
              "      <td>0</td>\n",
              "      <td>0</td>\n",
              "      <td>0</td>\n",
              "      <td>0</td>\n",
              "      <td>0</td>\n",
              "      <td>0</td>\n",
              "      <td>0</td>\n",
              "      <td>1</td>\n",
              "      <td>0</td>\n",
              "      <td>0</td>\n",
              "      <td>1</td>\n",
              "      <td>1</td>\n",
              "      <td>0</td>\n",
              "      <td>0</td>\n",
              "      <td>0</td>\n",
              "      <td>1</td>\n",
              "      <td>0</td>\n",
              "      <td>0</td>\n",
              "      <td>1</td>\n",
              "      <td>0</td>\n",
              "      <td>0</td>\n",
              "      <td>0</td>\n",
              "      <td>0</td>\n",
              "      <td>0</td>\n",
              "      <td>0</td>\n",
              "      <td>0</td>\n",
              "    </tr>\n",
              "    <tr>\n",
              "      <th>1</th>\n",
              "      <td>49</td>\n",
              "      <td>279</td>\n",
              "      <td>8</td>\n",
              "      <td>1</td>\n",
              "      <td>2</td>\n",
              "      <td>61</td>\n",
              "      <td>5130</td>\n",
              "      <td>24907</td>\n",
              "      <td>1</td>\n",
              "      <td>Y</td>\n",
              "      <td>23</td>\n",
              "      <td>80</td>\n",
              "      <td>10</td>\n",
              "      <td>3</td>\n",
              "      <td>10</td>\n",
              "      <td>7</td>\n",
              "      <td>1</td>\n",
              "      <td>7</td>\n",
              "      <td>1</td>\n",
              "      <td>0</td>\n",
              "      <td>1</td>\n",
              "      <td>0</td>\n",
              "      <td>1</td>\n",
              "      <td>0</td>\n",
              "      <td>0</td>\n",
              "      <td>0</td>\n",
              "      <td>0</td>\n",
              "      <td>1</td>\n",
              "      <td>0</td>\n",
              "      <td>0</td>\n",
              "      <td>0</td>\n",
              "      <td>1</td>\n",
              "      <td>0</td>\n",
              "      <td>1</td>\n",
              "      <td>1</td>\n",
              "      <td>0</td>\n",
              "      <td>0</td>\n",
              "      <td>1</td>\n",
              "      <td>0</td>\n",
              "      <td>0</td>\n",
              "      <td>0</td>\n",
              "      <td>0</td>\n",
              "      <td>0</td>\n",
              "      <td>0</td>\n",
              "      <td>0</td>\n",
              "      <td>0</td>\n",
              "      <td>1</td>\n",
              "      <td>0</td>\n",
              "      <td>0</td>\n",
              "      <td>1</td>\n",
              "      <td>0</td>\n",
              "      <td>0</td>\n",
              "      <td>0</td>\n",
              "      <td>0</td>\n",
              "      <td>0</td>\n",
              "      <td>0</td>\n",
              "      <td>1</td>\n",
              "      <td>0</td>\n",
              "      <td>0</td>\n",
              "      <td>1</td>\n",
              "      <td>0</td>\n",
              "      <td>0</td>\n",
              "      <td>1</td>\n",
              "      <td>0</td>\n",
              "      <td>1</td>\n",
              "      <td>0</td>\n",
              "    </tr>\n",
              "    <tr>\n",
              "      <th>2</th>\n",
              "      <td>37</td>\n",
              "      <td>1373</td>\n",
              "      <td>2</td>\n",
              "      <td>1</td>\n",
              "      <td>4</td>\n",
              "      <td>92</td>\n",
              "      <td>2090</td>\n",
              "      <td>2396</td>\n",
              "      <td>6</td>\n",
              "      <td>Y</td>\n",
              "      <td>15</td>\n",
              "      <td>80</td>\n",
              "      <td>7</td>\n",
              "      <td>3</td>\n",
              "      <td>0</td>\n",
              "      <td>0</td>\n",
              "      <td>0</td>\n",
              "      <td>0</td>\n",
              "      <td>0</td>\n",
              "      <td>1</td>\n",
              "      <td>1</td>\n",
              "      <td>0</td>\n",
              "      <td>0</td>\n",
              "      <td>0</td>\n",
              "      <td>0</td>\n",
              "      <td>1</td>\n",
              "      <td>0</td>\n",
              "      <td>0</td>\n",
              "      <td>0</td>\n",
              "      <td>0</td>\n",
              "      <td>0</td>\n",
              "      <td>0</td>\n",
              "      <td>1</td>\n",
              "      <td>1</td>\n",
              "      <td>1</td>\n",
              "      <td>0</td>\n",
              "      <td>0</td>\n",
              "      <td>0</td>\n",
              "      <td>0</td>\n",
              "      <td>0</td>\n",
              "      <td>0</td>\n",
              "      <td>0</td>\n",
              "      <td>1</td>\n",
              "      <td>0</td>\n",
              "      <td>0</td>\n",
              "      <td>0</td>\n",
              "      <td>0</td>\n",
              "      <td>0</td>\n",
              "      <td>0</td>\n",
              "      <td>0</td>\n",
              "      <td>1</td>\n",
              "      <td>1</td>\n",
              "      <td>0</td>\n",
              "      <td>0</td>\n",
              "      <td>0</td>\n",
              "      <td>1</td>\n",
              "      <td>0</td>\n",
              "      <td>1</td>\n",
              "      <td>0</td>\n",
              "      <td>0</td>\n",
              "      <td>1</td>\n",
              "      <td>0</td>\n",
              "      <td>0</td>\n",
              "      <td>0</td>\n",
              "      <td>1</td>\n",
              "      <td>0</td>\n",
              "    </tr>\n",
              "    <tr>\n",
              "      <th>3</th>\n",
              "      <td>33</td>\n",
              "      <td>1392</td>\n",
              "      <td>3</td>\n",
              "      <td>1</td>\n",
              "      <td>5</td>\n",
              "      <td>56</td>\n",
              "      <td>2909</td>\n",
              "      <td>23159</td>\n",
              "      <td>1</td>\n",
              "      <td>Y</td>\n",
              "      <td>11</td>\n",
              "      <td>80</td>\n",
              "      <td>8</td>\n",
              "      <td>3</td>\n",
              "      <td>8</td>\n",
              "      <td>7</td>\n",
              "      <td>3</td>\n",
              "      <td>0</td>\n",
              "      <td>1</td>\n",
              "      <td>0</td>\n",
              "      <td>1</td>\n",
              "      <td>0</td>\n",
              "      <td>1</td>\n",
              "      <td>0</td>\n",
              "      <td>0</td>\n",
              "      <td>0</td>\n",
              "      <td>0</td>\n",
              "      <td>0</td>\n",
              "      <td>0</td>\n",
              "      <td>0</td>\n",
              "      <td>0</td>\n",
              "      <td>0</td>\n",
              "      <td>1</td>\n",
              "      <td>0</td>\n",
              "      <td>0</td>\n",
              "      <td>1</td>\n",
              "      <td>0</td>\n",
              "      <td>0</td>\n",
              "      <td>0</td>\n",
              "      <td>0</td>\n",
              "      <td>0</td>\n",
              "      <td>0</td>\n",
              "      <td>0</td>\n",
              "      <td>0</td>\n",
              "      <td>0</td>\n",
              "      <td>0</td>\n",
              "      <td>1</td>\n",
              "      <td>0</td>\n",
              "      <td>0</td>\n",
              "      <td>1</td>\n",
              "      <td>0</td>\n",
              "      <td>0</td>\n",
              "      <td>0</td>\n",
              "      <td>1</td>\n",
              "      <td>0</td>\n",
              "      <td>1</td>\n",
              "      <td>0</td>\n",
              "      <td>1</td>\n",
              "      <td>0</td>\n",
              "      <td>0</td>\n",
              "      <td>0</td>\n",
              "      <td>1</td>\n",
              "      <td>0</td>\n",
              "      <td>0</td>\n",
              "      <td>1</td>\n",
              "      <td>0</td>\n",
              "    </tr>\n",
              "    <tr>\n",
              "      <th>4</th>\n",
              "      <td>27</td>\n",
              "      <td>591</td>\n",
              "      <td>2</td>\n",
              "      <td>1</td>\n",
              "      <td>7</td>\n",
              "      <td>40</td>\n",
              "      <td>3468</td>\n",
              "      <td>16632</td>\n",
              "      <td>9</td>\n",
              "      <td>Y</td>\n",
              "      <td>12</td>\n",
              "      <td>80</td>\n",
              "      <td>6</td>\n",
              "      <td>3</td>\n",
              "      <td>2</td>\n",
              "      <td>2</td>\n",
              "      <td>2</td>\n",
              "      <td>2</td>\n",
              "      <td>0</td>\n",
              "      <td>1</td>\n",
              "      <td>1</td>\n",
              "      <td>0</td>\n",
              "      <td>0</td>\n",
              "      <td>0</td>\n",
              "      <td>1</td>\n",
              "      <td>0</td>\n",
              "      <td>0</td>\n",
              "      <td>1</td>\n",
              "      <td>0</td>\n",
              "      <td>0</td>\n",
              "      <td>0</td>\n",
              "      <td>0</td>\n",
              "      <td>0</td>\n",
              "      <td>1</td>\n",
              "      <td>0</td>\n",
              "      <td>1</td>\n",
              "      <td>0</td>\n",
              "      <td>0</td>\n",
              "      <td>0</td>\n",
              "      <td>0</td>\n",
              "      <td>0</td>\n",
              "      <td>0</td>\n",
              "      <td>1</td>\n",
              "      <td>0</td>\n",
              "      <td>0</td>\n",
              "      <td>0</td>\n",
              "      <td>0</td>\n",
              "      <td>0</td>\n",
              "      <td>0</td>\n",
              "      <td>1</td>\n",
              "      <td>0</td>\n",
              "      <td>0</td>\n",
              "      <td>0</td>\n",
              "      <td>0</td>\n",
              "      <td>0</td>\n",
              "      <td>0</td>\n",
              "      <td>1</td>\n",
              "      <td>0</td>\n",
              "      <td>0</td>\n",
              "      <td>0</td>\n",
              "      <td>0</td>\n",
              "      <td>0</td>\n",
              "      <td>1</td>\n",
              "      <td>0</td>\n",
              "      <td>1</td>\n",
              "      <td>0</td>\n",
              "    </tr>\n",
              "    <tr>\n",
              "      <th>...</th>\n",
              "      <td>...</td>\n",
              "      <td>...</td>\n",
              "      <td>...</td>\n",
              "      <td>...</td>\n",
              "      <td>...</td>\n",
              "      <td>...</td>\n",
              "      <td>...</td>\n",
              "      <td>...</td>\n",
              "      <td>...</td>\n",
              "      <td>...</td>\n",
              "      <td>...</td>\n",
              "      <td>...</td>\n",
              "      <td>...</td>\n",
              "      <td>...</td>\n",
              "      <td>...</td>\n",
              "      <td>...</td>\n",
              "      <td>...</td>\n",
              "      <td>...</td>\n",
              "      <td>...</td>\n",
              "      <td>...</td>\n",
              "      <td>...</td>\n",
              "      <td>...</td>\n",
              "      <td>...</td>\n",
              "      <td>...</td>\n",
              "      <td>...</td>\n",
              "      <td>...</td>\n",
              "      <td>...</td>\n",
              "      <td>...</td>\n",
              "      <td>...</td>\n",
              "      <td>...</td>\n",
              "      <td>...</td>\n",
              "      <td>...</td>\n",
              "      <td>...</td>\n",
              "      <td>...</td>\n",
              "      <td>...</td>\n",
              "      <td>...</td>\n",
              "      <td>...</td>\n",
              "      <td>...</td>\n",
              "      <td>...</td>\n",
              "      <td>...</td>\n",
              "      <td>...</td>\n",
              "      <td>...</td>\n",
              "      <td>...</td>\n",
              "      <td>...</td>\n",
              "      <td>...</td>\n",
              "      <td>...</td>\n",
              "      <td>...</td>\n",
              "      <td>...</td>\n",
              "      <td>...</td>\n",
              "      <td>...</td>\n",
              "      <td>...</td>\n",
              "      <td>...</td>\n",
              "      <td>...</td>\n",
              "      <td>...</td>\n",
              "      <td>...</td>\n",
              "      <td>...</td>\n",
              "      <td>...</td>\n",
              "      <td>...</td>\n",
              "      <td>...</td>\n",
              "      <td>...</td>\n",
              "      <td>...</td>\n",
              "      <td>...</td>\n",
              "      <td>...</td>\n",
              "      <td>...</td>\n",
              "      <td>...</td>\n",
              "      <td>...</td>\n",
              "    </tr>\n",
              "    <tr>\n",
              "      <th>1465</th>\n",
              "      <td>36</td>\n",
              "      <td>884</td>\n",
              "      <td>23</td>\n",
              "      <td>1</td>\n",
              "      <td>2061</td>\n",
              "      <td>41</td>\n",
              "      <td>2571</td>\n",
              "      <td>12290</td>\n",
              "      <td>4</td>\n",
              "      <td>Y</td>\n",
              "      <td>17</td>\n",
              "      <td>80</td>\n",
              "      <td>17</td>\n",
              "      <td>3</td>\n",
              "      <td>5</td>\n",
              "      <td>2</td>\n",
              "      <td>0</td>\n",
              "      <td>3</td>\n",
              "      <td>1</td>\n",
              "      <td>0</td>\n",
              "      <td>1</td>\n",
              "      <td>0</td>\n",
              "      <td>0</td>\n",
              "      <td>0</td>\n",
              "      <td>1</td>\n",
              "      <td>0</td>\n",
              "      <td>0</td>\n",
              "      <td>1</td>\n",
              "      <td>0</td>\n",
              "      <td>0</td>\n",
              "      <td>0</td>\n",
              "      <td>1</td>\n",
              "      <td>0</td>\n",
              "      <td>1</td>\n",
              "      <td>0</td>\n",
              "      <td>0</td>\n",
              "      <td>1</td>\n",
              "      <td>1</td>\n",
              "      <td>0</td>\n",
              "      <td>0</td>\n",
              "      <td>0</td>\n",
              "      <td>0</td>\n",
              "      <td>1</td>\n",
              "      <td>0</td>\n",
              "      <td>0</td>\n",
              "      <td>0</td>\n",
              "      <td>0</td>\n",
              "      <td>0</td>\n",
              "      <td>0</td>\n",
              "      <td>1</td>\n",
              "      <td>0</td>\n",
              "      <td>1</td>\n",
              "      <td>0</td>\n",
              "      <td>0</td>\n",
              "      <td>0</td>\n",
              "      <td>0</td>\n",
              "      <td>0</td>\n",
              "      <td>0</td>\n",
              "      <td>1</td>\n",
              "      <td>0</td>\n",
              "      <td>0</td>\n",
              "      <td>1</td>\n",
              "      <td>0</td>\n",
              "      <td>0</td>\n",
              "      <td>1</td>\n",
              "      <td>0</td>\n",
              "    </tr>\n",
              "    <tr>\n",
              "      <th>1466</th>\n",
              "      <td>39</td>\n",
              "      <td>613</td>\n",
              "      <td>6</td>\n",
              "      <td>1</td>\n",
              "      <td>2062</td>\n",
              "      <td>42</td>\n",
              "      <td>9991</td>\n",
              "      <td>21457</td>\n",
              "      <td>4</td>\n",
              "      <td>Y</td>\n",
              "      <td>15</td>\n",
              "      <td>80</td>\n",
              "      <td>9</td>\n",
              "      <td>5</td>\n",
              "      <td>7</td>\n",
              "      <td>7</td>\n",
              "      <td>1</td>\n",
              "      <td>7</td>\n",
              "      <td>0</td>\n",
              "      <td>1</td>\n",
              "      <td>1</td>\n",
              "      <td>0</td>\n",
              "      <td>0</td>\n",
              "      <td>0</td>\n",
              "      <td>1</td>\n",
              "      <td>0</td>\n",
              "      <td>0</td>\n",
              "      <td>1</td>\n",
              "      <td>0</td>\n",
              "      <td>0</td>\n",
              "      <td>0</td>\n",
              "      <td>0</td>\n",
              "      <td>1</td>\n",
              "      <td>1</td>\n",
              "      <td>1</td>\n",
              "      <td>0</td>\n",
              "      <td>0</td>\n",
              "      <td>0</td>\n",
              "      <td>1</td>\n",
              "      <td>0</td>\n",
              "      <td>0</td>\n",
              "      <td>0</td>\n",
              "      <td>0</td>\n",
              "      <td>0</td>\n",
              "      <td>0</td>\n",
              "      <td>0</td>\n",
              "      <td>0</td>\n",
              "      <td>0</td>\n",
              "      <td>0</td>\n",
              "      <td>1</td>\n",
              "      <td>0</td>\n",
              "      <td>0</td>\n",
              "      <td>0</td>\n",
              "      <td>0</td>\n",
              "      <td>0</td>\n",
              "      <td>0</td>\n",
              "      <td>0</td>\n",
              "      <td>0</td>\n",
              "      <td>0</td>\n",
              "      <td>0</td>\n",
              "      <td>0</td>\n",
              "      <td>0</td>\n",
              "      <td>0</td>\n",
              "      <td>0</td>\n",
              "      <td>1</td>\n",
              "      <td>0</td>\n",
              "    </tr>\n",
              "    <tr>\n",
              "      <th>1467</th>\n",
              "      <td>27</td>\n",
              "      <td>155</td>\n",
              "      <td>4</td>\n",
              "      <td>1</td>\n",
              "      <td>2064</td>\n",
              "      <td>87</td>\n",
              "      <td>6142</td>\n",
              "      <td>5174</td>\n",
              "      <td>1</td>\n",
              "      <td>Y</td>\n",
              "      <td>20</td>\n",
              "      <td>80</td>\n",
              "      <td>6</td>\n",
              "      <td>0</td>\n",
              "      <td>6</td>\n",
              "      <td>2</td>\n",
              "      <td>0</td>\n",
              "      <td>3</td>\n",
              "      <td>0</td>\n",
              "      <td>1</td>\n",
              "      <td>1</td>\n",
              "      <td>0</td>\n",
              "      <td>1</td>\n",
              "      <td>0</td>\n",
              "      <td>0</td>\n",
              "      <td>0</td>\n",
              "      <td>0</td>\n",
              "      <td>1</td>\n",
              "      <td>0</td>\n",
              "      <td>0</td>\n",
              "      <td>1</td>\n",
              "      <td>0</td>\n",
              "      <td>0</td>\n",
              "      <td>1</td>\n",
              "      <td>0</td>\n",
              "      <td>0</td>\n",
              "      <td>1</td>\n",
              "      <td>1</td>\n",
              "      <td>0</td>\n",
              "      <td>0</td>\n",
              "      <td>0</td>\n",
              "      <td>0</td>\n",
              "      <td>0</td>\n",
              "      <td>0</td>\n",
              "      <td>1</td>\n",
              "      <td>0</td>\n",
              "      <td>0</td>\n",
              "      <td>0</td>\n",
              "      <td>0</td>\n",
              "      <td>1</td>\n",
              "      <td>0</td>\n",
              "      <td>0</td>\n",
              "      <td>1</td>\n",
              "      <td>0</td>\n",
              "      <td>0</td>\n",
              "      <td>1</td>\n",
              "      <td>1</td>\n",
              "      <td>0</td>\n",
              "      <td>0</td>\n",
              "      <td>1</td>\n",
              "      <td>1</td>\n",
              "      <td>0</td>\n",
              "      <td>0</td>\n",
              "      <td>0</td>\n",
              "      <td>1</td>\n",
              "      <td>0</td>\n",
              "    </tr>\n",
              "    <tr>\n",
              "      <th>1468</th>\n",
              "      <td>49</td>\n",
              "      <td>1023</td>\n",
              "      <td>2</td>\n",
              "      <td>1</td>\n",
              "      <td>2065</td>\n",
              "      <td>63</td>\n",
              "      <td>5390</td>\n",
              "      <td>13243</td>\n",
              "      <td>2</td>\n",
              "      <td>Y</td>\n",
              "      <td>14</td>\n",
              "      <td>80</td>\n",
              "      <td>17</td>\n",
              "      <td>3</td>\n",
              "      <td>9</td>\n",
              "      <td>6</td>\n",
              "      <td>0</td>\n",
              "      <td>8</td>\n",
              "      <td>1</td>\n",
              "      <td>0</td>\n",
              "      <td>0</td>\n",
              "      <td>1</td>\n",
              "      <td>0</td>\n",
              "      <td>0</td>\n",
              "      <td>1</td>\n",
              "      <td>0</td>\n",
              "      <td>0</td>\n",
              "      <td>0</td>\n",
              "      <td>0</td>\n",
              "      <td>0</td>\n",
              "      <td>0</td>\n",
              "      <td>0</td>\n",
              "      <td>1</td>\n",
              "      <td>1</td>\n",
              "      <td>1</td>\n",
              "      <td>0</td>\n",
              "      <td>0</td>\n",
              "      <td>1</td>\n",
              "      <td>0</td>\n",
              "      <td>0</td>\n",
              "      <td>0</td>\n",
              "      <td>0</td>\n",
              "      <td>0</td>\n",
              "      <td>0</td>\n",
              "      <td>0</td>\n",
              "      <td>0</td>\n",
              "      <td>0</td>\n",
              "      <td>1</td>\n",
              "      <td>0</td>\n",
              "      <td>1</td>\n",
              "      <td>0</td>\n",
              "      <td>0</td>\n",
              "      <td>1</td>\n",
              "      <td>0</td>\n",
              "      <td>0</td>\n",
              "      <td>0</td>\n",
              "      <td>1</td>\n",
              "      <td>0</td>\n",
              "      <td>0</td>\n",
              "      <td>0</td>\n",
              "      <td>0</td>\n",
              "      <td>0</td>\n",
              "      <td>1</td>\n",
              "      <td>1</td>\n",
              "      <td>0</td>\n",
              "      <td>0</td>\n",
              "    </tr>\n",
              "    <tr>\n",
              "      <th>1469</th>\n",
              "      <td>34</td>\n",
              "      <td>628</td>\n",
              "      <td>8</td>\n",
              "      <td>1</td>\n",
              "      <td>2068</td>\n",
              "      <td>82</td>\n",
              "      <td>4404</td>\n",
              "      <td>10228</td>\n",
              "      <td>2</td>\n",
              "      <td>Y</td>\n",
              "      <td>12</td>\n",
              "      <td>80</td>\n",
              "      <td>6</td>\n",
              "      <td>3</td>\n",
              "      <td>4</td>\n",
              "      <td>3</td>\n",
              "      <td>1</td>\n",
              "      <td>2</td>\n",
              "      <td>0</td>\n",
              "      <td>1</td>\n",
              "      <td>1</td>\n",
              "      <td>0</td>\n",
              "      <td>0</td>\n",
              "      <td>0</td>\n",
              "      <td>1</td>\n",
              "      <td>0</td>\n",
              "      <td>0</td>\n",
              "      <td>0</td>\n",
              "      <td>0</td>\n",
              "      <td>0</td>\n",
              "      <td>1</td>\n",
              "      <td>0</td>\n",
              "      <td>0</td>\n",
              "      <td>1</td>\n",
              "      <td>0</td>\n",
              "      <td>0</td>\n",
              "      <td>1</td>\n",
              "      <td>1</td>\n",
              "      <td>0</td>\n",
              "      <td>0</td>\n",
              "      <td>0</td>\n",
              "      <td>0</td>\n",
              "      <td>1</td>\n",
              "      <td>0</td>\n",
              "      <td>0</td>\n",
              "      <td>0</td>\n",
              "      <td>0</td>\n",
              "      <td>0</td>\n",
              "      <td>0</td>\n",
              "      <td>1</td>\n",
              "      <td>0</td>\n",
              "      <td>0</td>\n",
              "      <td>1</td>\n",
              "      <td>0</td>\n",
              "      <td>0</td>\n",
              "      <td>0</td>\n",
              "      <td>0</td>\n",
              "      <td>1</td>\n",
              "      <td>0</td>\n",
              "      <td>0</td>\n",
              "      <td>0</td>\n",
              "      <td>0</td>\n",
              "      <td>0</td>\n",
              "      <td>0</td>\n",
              "      <td>0</td>\n",
              "      <td>1</td>\n",
              "    </tr>\n",
              "  </tbody>\n",
              "</table>\n",
              "<p>1470 rows × 66 columns</p>\n",
              "</div>"
            ],
            "text/plain": [
              "      Age  DailyRate  ...  WorkLifeBalance_3 WorkLifeBalance_4\n",
              "0      41       1102  ...                  0                 0\n",
              "1      49        279  ...                  1                 0\n",
              "2      37       1373  ...                  1                 0\n",
              "3      33       1392  ...                  1                 0\n",
              "4      27        591  ...                  1                 0\n",
              "...   ...        ...  ...                ...               ...\n",
              "1465   36        884  ...                  1                 0\n",
              "1466   39        613  ...                  1                 0\n",
              "1467   27        155  ...                  1                 0\n",
              "1468   49       1023  ...                  0                 0\n",
              "1469   34        628  ...                  0                 1\n",
              "\n",
              "[1470 rows x 66 columns]"
            ]
          },
          "metadata": {},
          "execution_count": 9
        }
      ]
    },
    {
      "cell_type": "code",
      "source": [
        "import statsmodels.api as sm\n",
        "\n",
        "X_var = X[['Age','BusinessTravel_Travel_Frequently','BusinessTravel_Travel_Rarely','MonthlyIncome','DistanceFromHome','NumCompaniesWorked','YearsWithCurrManager','JobInvolvement_2','JobInvolvement_3','JobInvolvement_4','OverTime_Yes']]\n",
        "print(X_var)\n",
        "logit_model=sm.Logit(y,X_var)\n",
        "result=logit_model.fit()\n",
        "print(result.summary2())"
      ],
      "metadata": {
        "id": "_6CQ8rlpRRvO",
        "colab": {
          "base_uri": "https://localhost:8080/"
        },
        "outputId": "6b47295c-5e78-4e3c-8e24-04f6dc0b090b"
      },
      "execution_count": null,
      "outputs": [
        {
          "output_type": "stream",
          "name": "stdout",
          "text": [
            "      Age  BusinessTravel_Travel_Frequently  ...  JobInvolvement_4  OverTime_Yes\n",
            "0      41                                 0  ...                 0             1\n",
            "1      49                                 1  ...                 0             0\n",
            "2      37                                 0  ...                 0             1\n",
            "3      33                                 1  ...                 0             1\n",
            "4      27                                 0  ...                 0             0\n",
            "...   ...                               ...  ...               ...           ...\n",
            "1465   36                                 1  ...                 1             0\n",
            "1466   39                                 0  ...                 0             0\n",
            "1467   27                                 0  ...                 1             1\n",
            "1468   49                                 1  ...                 0             0\n",
            "1469   34                                 0  ...                 1             0\n",
            "\n",
            "[1470 rows x 11 columns]\n",
            "Optimization terminated successfully.\n",
            "         Current function value: 0.362086\n",
            "         Iterations 7\n",
            "                                 Results: Logit\n",
            "================================================================================\n",
            "Model:                   Logit                 Pseudo R-squared:      0.180     \n",
            "Dependent Variable:      Attrition             AIC:                   1086.5321 \n",
            "Date:                    2021-12-14 09:39      BIC:                   1144.7552 \n",
            "No. Observations:        1470                  Log-Likelihood:        -532.27   \n",
            "Df Model:                10                    LL-Null:               -649.29   \n",
            "Df Residuals:            1459                  LLR p-value:           1.2146e-44\n",
            "Converged:               1.0000                Scale:                 1.0000    \n",
            "No. Iterations:          7.0000                                                 \n",
            "--------------------------------------------------------------------------------\n",
            "                                  Coef.  Std.Err.    z    P>|z|   [0.025  0.975]\n",
            "--------------------------------------------------------------------------------\n",
            "Age                              -0.0482   0.0091 -5.2722 0.0000 -0.0661 -0.0303\n",
            "BusinessTravel_Travel_Frequently  1.4314   0.3024  4.7337 0.0000  0.8387  2.0241\n",
            "BusinessTravel_Travel_Rarely      0.6977   0.2730  2.5561 0.0106  0.1627  1.2327\n",
            "MonthlyIncome                    -0.0001   0.0000 -3.2582 0.0011 -0.0001 -0.0000\n",
            "DistanceFromHome                  0.0313   0.0091  3.4306 0.0006  0.0134  0.0492\n",
            "NumCompaniesWorked                0.1303   0.0323  4.0327 0.0001  0.0670  0.1937\n",
            "YearsWithCurrManager             -0.0828   0.0275 -3.0106 0.0026 -0.1367 -0.0289\n",
            "JobInvolvement_2                 -0.9699   0.2724 -3.5600 0.0004 -1.5039 -0.4359\n",
            "JobInvolvement_3                 -1.3450   0.2579 -5.2147 0.0000 -1.8505 -0.8395\n",
            "JobInvolvement_4                 -1.9686   0.3887 -5.0648 0.0000 -2.7304 -1.2068\n",
            "OverTime_Yes                      1.4641   0.1599  9.1585 0.0000  1.1507  1.7774\n",
            "================================================================================\n",
            "\n"
          ]
        }
      ]
    },
    {
      "cell_type": "code",
      "source": [
        " \n",
        "X_1 = X.drop(['EmployeeCount', 'EmployeeNumber','Over18','StandardHours'], axis=1)\n",
        "logit_model_1=sm.Logit(y, X_1)\n",
        "result_1=logit_model_1.fit()\n",
        "print(result_1.summary2())"
      ],
      "metadata": {
        "colab": {
          "base_uri": "https://localhost:8080/"
        },
        "id": "DELbkLkbTUHj",
        "outputId": "c8e21a8d-d19e-4326-e8b7-b0ab24f9b574"
      },
      "execution_count": null,
      "outputs": [
        {
          "output_type": "stream",
          "name": "stdout",
          "text": [
            "Optimization terminated successfully.\n",
            "         Current function value: 0.263733\n",
            "         Iterations 9\n",
            "                                 Results: Logit\n",
            "=================================================================================\n",
            "Model:                    Logit                 Pseudo R-squared:      0.403     \n",
            "Dependent Variable:       Attrition             AIC:                   899.3749  \n",
            "Date:                     2021-12-14 09:39      BIC:                   1227.5420 \n",
            "No. Observations:         1470                  Log-Likelihood:        -387.69   \n",
            "Df Model:                 61                    LL-Null:               -649.29   \n",
            "Df Residuals:             1408                  LLR p-value:           1.1907e-74\n",
            "Converged:                1.0000                Scale:                 1.0000    \n",
            "No. Iterations:           9.0000                                                 \n",
            "---------------------------------------------------------------------------------\n",
            "                                   Coef.  Std.Err.    z    P>|z|   [0.025  0.975]\n",
            "---------------------------------------------------------------------------------\n",
            "Age                               -0.0308   0.0144 -2.1422 0.0322 -0.0590 -0.0026\n",
            "DailyRate                         -0.0004   0.0002 -1.8777 0.0604 -0.0009  0.0000\n",
            "DistanceFromHome                   0.0550   0.0116  4.7461 0.0000  0.0323  0.0778\n",
            "HourlyRate                         0.0043   0.0048  0.9011 0.3676 -0.0050  0.0136\n",
            "MonthlyIncome                     -0.0001   0.0001 -1.3649 0.1723 -0.0003  0.0001\n",
            "MonthlyRate                        0.0000   0.0000  0.7497 0.4534 -0.0000  0.0000\n",
            "NumCompaniesWorked                 0.2117   0.0415  5.0978 0.0000  0.1303  0.2931\n",
            "PercentSalaryHike                 -0.0216   0.0411 -0.5250 0.5996 -0.1020  0.0589\n",
            "TotalWorkingYears                 -0.0593   0.0311 -1.9097 0.0562 -0.1202  0.0016\n",
            "TrainingTimesLastYear             -0.1926   0.0765 -2.5179 0.0118 -0.3425 -0.0427\n",
            "YearsAtCompany                     0.1012   0.0430  2.3536 0.0186  0.0169  0.1854\n",
            "YearsInCurrentRole                -0.1427   0.0518 -2.7532 0.0059 -0.2444 -0.0411\n",
            "YearsSinceLastPromotion            0.1725   0.0460  3.7452 0.0002  0.0822  0.2627\n",
            "YearsWithCurrManager              -0.1540   0.0507 -3.0374 0.0024 -0.2534 -0.0546\n",
            "BusinessTravel_Travel_Frequently   2.1498   0.4454  4.8266 0.0000  1.2768  3.0228\n",
            "BusinessTravel_Travel_Rarely       1.1313   0.4102  2.7578 0.0058  0.3273  1.9354\n",
            "Department_Research & Development  3.9158   1.5097  2.5937 0.0095  0.9568  6.8748\n",
            "Department_Sales                   3.0756   1.9360  1.5886 0.1122 -0.7190  6.8701\n",
            "EducationField_Life Sciences      -1.1650   0.8833 -1.3190 0.1872 -2.8963  0.5662\n",
            "EducationField_Marketing          -0.6221   0.9287 -0.6698 0.5030 -2.4424  1.1982\n",
            "EducationField_Medical            -1.1603   0.8817 -1.3160 0.1882 -2.8883  0.5678\n",
            "EducationField_Other              -1.0691   0.9538 -1.1209 0.2623 -2.9385  0.8002\n",
            "EducationField_Technical Degree    0.0035   0.8966  0.0040 0.9968 -1.7538  1.7609\n",
            "StockOptionLevel_1                -1.1533   0.3271 -3.5260 0.0004 -1.7944 -0.5122\n",
            "StockOptionLevel_2                -1.1100   0.4551 -2.4387 0.0147 -2.0020 -0.2179\n",
            "StockOptionLevel_3                -0.3671   0.4860 -0.7553 0.4501 -1.3196  0.5854\n",
            "EnvironmentSatisfaction_2         -1.0797   0.2939 -3.6740 0.0002 -1.6556 -0.5037\n",
            "EnvironmentSatisfaction_3         -1.2114   0.2702 -4.4842 0.0000 -1.7409 -0.6819\n",
            "EnvironmentSatisfaction_4         -1.4387   0.2739 -5.2531 0.0000 -1.9754 -0.9019\n",
            "Gender_Male                        0.4440   0.1963  2.2617 0.0237  0.0592  0.8288\n",
            "JobInvolvement_2                  -1.2660   0.3767 -3.3611 0.0008 -2.0042 -0.5278\n",
            "JobInvolvement_3                  -1.5674   0.3553 -4.4113 0.0000 -2.2637 -0.8710\n",
            "JobInvolvement_4                  -2.1904   0.4909 -4.4622 0.0000 -3.1524 -1.2283\n",
            "JobLevel_2                        -1.5781   0.4817 -3.2764 0.0011 -2.5221 -0.6341\n",
            "JobLevel_3                         0.1511   0.7401  0.2041 0.8383 -1.2996  1.6017\n",
            "JobLevel_4                        -0.7698   1.2794 -0.6017 0.5474 -3.2773  1.7377\n",
            "JobLevel_5                         2.3180   1.6755  1.3835 0.1665 -0.9659  5.6019\n",
            "JobRole_Human Resources            4.2147   1.2817  3.2884 0.0010  1.7027  6.7268\n",
            "JobRole_Laboratory Technician      0.5896   0.6046  0.9751 0.3295 -0.5955  1.7746\n",
            "JobRole_Manager                   -0.2191   1.1167 -0.1962 0.8445 -2.4077  1.9695\n",
            "JobRole_Manufacturing Director     0.4473   0.5627  0.7949 0.4267 -0.6556  1.5503\n",
            "JobRole_Research Director         -1.9208   1.1779 -1.6307 0.1030 -4.2295  0.3878\n",
            "JobRole_Research Scientist        -0.5482   0.6269 -0.8744 0.3819 -1.7770  0.6805\n",
            "JobRole_Sales Executive            2.1672   1.2831  1.6891 0.0912 -0.3475  4.6820\n",
            "JobRole_Sales Representative       1.9005   1.3608  1.3966 0.1625 -0.7666  4.5676\n",
            "MaritalStatus_Married              0.3074   0.2901  1.0595 0.2894 -0.2612  0.8759\n",
            "MaritalStatus_Single               0.6203   0.4144  1.4969 0.1344 -0.1919  1.4325\n",
            "Education_2                        0.2610   0.3487  0.7486 0.4541 -0.4224  0.9444\n",
            "Education_3                        0.2414   0.3060  0.7890 0.4301 -0.3583  0.8412\n",
            "Education_4                        0.2630   0.3342  0.7871 0.4312 -0.3919  0.9180\n",
            "Education_5                        0.1755   0.6355  0.2762 0.7824 -1.0701  1.4211\n",
            "OverTime_Yes                       2.1928   0.2120 10.3450 0.0000  1.7773  2.6082\n",
            "JobSatisfaction_2                 -0.6589   0.2879 -2.2888 0.0221 -1.2230 -0.0947\n",
            "JobSatisfaction_3                 -0.6419   0.2557 -2.5102 0.0121 -1.1432 -0.1407\n",
            "JobSatisfaction_4                 -1.2897   0.2732 -4.7203 0.0000 -1.8252 -0.7542\n",
            "PerformanceRating_4                0.1171   0.4228  0.2770 0.7818 -0.7116  0.9458\n",
            "RelationshipSatisfaction_2        -0.9551   0.3045 -3.1363 0.0017 -1.5520 -0.3583\n",
            "RelationshipSatisfaction_3        -1.0106   0.2701 -3.7415 0.0002 -1.5400 -0.4812\n",
            "RelationshipSatisfaction_4        -1.0020   0.2690 -3.7250 0.0002 -1.5292 -0.4748\n",
            "WorkLifeBalance_2                 -0.9505   0.3905 -2.4343 0.0149 -1.7159 -0.1852\n",
            "WorkLifeBalance_3                 -1.4793   0.3670 -4.0311 0.0001 -2.1985 -0.7600\n",
            "WorkLifeBalance_4                 -1.0688   0.4446 -2.4040 0.0162 -1.9401 -0.1974\n",
            "=================================================================================\n",
            "\n"
          ]
        }
      ]
    },
    {
      "cell_type": "markdown",
      "source": [
        "# Machine Learning _ RandomForest & Logistic Regression\n",
        "\n"
      ],
      "metadata": {
        "id": "7-AqnlYzrnIW"
      }
    },
    {
      "cell_type": "code",
      "source": [
        "## Random forests is a supervised learning algorithm. It can be used both for classification and regression.\n",
        "from sklearn.model_selection import train_test_split\n",
        "from sklearn.metrics import accuracy_score\n",
        "from sklearn.linear_model import LogisticRegression\n",
        "from sklearn.ensemble import RandomForestClassifier\n",
        "X_train,X_test,y_train,y_test = train_test_split(X_1,y,test_size=0.30,random_state=0)\n",
        "randomforest = RandomForestClassifier()\n",
        "randomforest.fit(X_train, y_train)\n",
        "y_predicted = randomforest.predict(X_test)\n",
        "acc_rf = round(accuracy_score(y_predicted, y_test)*100,2)\n",
        "print(acc_rf)\n",
        "from sklearn.metrics import classification_report\n",
        "print(classification_report(y_test,y_predicted))\n",
        "\n",
        "## an accuracy score. This score measures how many labels the model gets right out of the total number of predictions.\n",
        "## Precision is the number of correctly-identified members of a class divided by all the times the model predicted that class."
      ],
      "metadata": {
        "colab": {
          "base_uri": "https://localhost:8080/"
        },
        "id": "wsCDauCTmzcL",
        "outputId": "34f7a130-1cc4-485e-cedb-b53b9d79c473"
      },
      "execution_count": null,
      "outputs": [
        {
          "output_type": "stream",
          "name": "stdout",
          "text": [
            "86.17\n",
            "              precision    recall  f1-score   support\n",
            "\n",
            "           0       0.86      1.00      0.92       371\n",
            "           1       0.91      0.14      0.25        70\n",
            "\n",
            "    accuracy                           0.86       441\n",
            "   macro avg       0.88      0.57      0.59       441\n",
            "weighted avg       0.87      0.86      0.82       441\n",
            "\n"
          ]
        }
      ]
    },
    {
      "cell_type": "code",
      "source": [
        "logreg = LogisticRegression()\n",
        "logreg.fit(X_train, y_train)\n",
        "y_predicted_1 = logreg.predict(X_test)\n",
        "acc_logistic = round(accuracy_score(y_predicted_1, y_test) * 100, 2)\n",
        "print(acc_logistic)\n",
        "print(classification_report(y_test,y_predicted_1))\n",
        "coef = np.squeeze(abs(logreg.coef_)).tolist()\n",
        "Featurehost = pd.DataFrame({'Feature': list(X_train), 'Feature Importance Ranked': coef})\n",
        "Featurehost = Featurehost.sort_values(by='Feature Importance Ranked',ascending=False).head(15)\n",
        "plt.figure(figsize = (13,10))\n",
        "plt.title('Top 15 Features',fontsize=12)\n",
        "s = sns.barplot(y='Feature',x='Feature Importance Ranked',data=Featurehost,palette=sns.cubehelix_palette(rot=-.4))"
      ],
      "metadata": {
        "colab": {
          "base_uri": "https://localhost:8080/",
          "height": 968
        },
        "id": "SNKWiCkzrvzZ",
        "outputId": "76321490-e880-446e-d5e0-28285742288a"
      },
      "execution_count": null,
      "outputs": [
        {
          "output_type": "stream",
          "name": "stderr",
          "text": [
            "/usr/local/lib/python3.7/dist-packages/sklearn/linear_model/_logistic.py:818: ConvergenceWarning:\n",
            "\n",
            "lbfgs failed to converge (status=1):\n",
            "STOP: TOTAL NO. of ITERATIONS REACHED LIMIT.\n",
            "\n",
            "Increase the number of iterations (max_iter) or scale the data as shown in:\n",
            "    https://scikit-learn.org/stable/modules/preprocessing.html\n",
            "Please also refer to the documentation for alternative solver options:\n",
            "    https://scikit-learn.org/stable/modules/linear_model.html#logistic-regression\n",
            "\n"
          ]
        },
        {
          "output_type": "stream",
          "name": "stdout",
          "text": [
            "85.26\n",
            "              precision    recall  f1-score   support\n",
            "\n",
            "           0       0.85      1.00      0.92       371\n",
            "           1       1.00      0.07      0.13        70\n",
            "\n",
            "    accuracy                           0.85       441\n",
            "   macro avg       0.93      0.54      0.53       441\n",
            "weighted avg       0.87      0.85      0.79       441\n",
            "\n"
          ]
        },
        {
          "output_type": "display_data",
          "data": {
            "image/png": "[encoded data removed]",
            "text/plain": [
              "<Figure size 936x720 with 1 Axes>"
            ]
          },
          "metadata": {
            "needs_background": "light"
          }
        }
      ]
    }
  ]
}